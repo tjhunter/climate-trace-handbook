{
 "cells": [
  {
   "cell_type": "markdown",
   "metadata": {},
   "source": [
    "# Data ingestion and formatting\n",
    "\n",
    "This notebook explains how to convert the Climate TRACE dataset to a format that is more appropriate for data science. \n",
    "\n",
    "```{note}\n",
    "This section is relevant for data engineers, or data scientists who want to understand how the data \n",
    "has been prepared. Skip if you just want to access the final, prepared data.\n",
    "```\n",
    "\n",
    "The original data from Climate TRACE is offered as a series of CSV files bundled in ZIP archives. That format is universally understood, but it is not the most effective for effective analysis with data science tools. In particular, it is large: the source data, uncompressed, is about 100GB for each gas! This is the size at which most people would consider this project to be \"big data\" or at least \"medium data\". With the proper choice of data storage, we will bring it down to a breezy \"small data\" without losing information along the way.\n",
    "\n",
    "Instead, we are going to use the Parquet format. This format has a number of advantages:\n",
    "- it is _column-based_ : data systems can process big chunks of data at once, rather than line by line. Also, depending on the information requested, systems will read only the relevant columns and skip the rest very effectively\n",
    "- it is _universal_ : most modern data systems will be able to read it.\n",
    "- it is _structured_ : basic information about numbers, categories, ... are preserved.\n",
    "\n",
    "\n",
    "Looking at the code, we are performing a few tricks:\n",
    "\n",
    "_Compacting the data_ We minimize the size of the files by taking advantage of its structures. In particular, we know in many cases that values are part of known enumerations (sectors, ...). We replace all these by `polars.Enumeration`s. Not only this makes files smaller, but it also allows data systems to make clever optimization for complex operations such as joining.\n",
    "\n",
    "_Lazy reading_ If we were to read all the source data using a traditional system such as Excel or Pandas, we would require a serious amount of memory. The files themselves are more than 5GB. Polars is capable of reading straight from the zip file in a streaming fashion. This is what Polars calls a Lazy dataframe, or LazyFrame. Even when doing complicated operations such as joining the source files with the confidence information, Polars only uses 3GB of memory on my machine. In fact, this way of working is so fast that the `ctrace` package directly reads all the country emissions data from the zip files in less than a second.\n",
    "\n",
    "_Using known enumerations_ You will see in the source code that nearly all the variables such as column names, names of gas and sectors, etc. are replaced CONSTANT_NAMES such as `CH4`,.... You can use that to autocomplete\n",
    "\n"
   ]
  },
  {
   "cell_type": "code",
   "execution_count": 1,
   "metadata": {},
   "outputs": [],
   "source": [
    "%load_ext autoreload\n",
    "%autoreload 2"
   ]
  },
  {
   "cell_type": "code",
   "execution_count": 2,
   "metadata": {},
   "outputs": [],
   "source": [
    "import logging\n",
    "logging.basicConfig(level=logging.INFO)"
   ]
  },
  {
   "cell_type": "code",
   "execution_count": 3,
   "metadata": {},
   "outputs": [],
   "source": [
    "import os\n",
    "import polars as pl\n",
    "from ctrace.constants import *\n",
    "import ctrace as ct\n",
    "import pyarrow\n",
    "from dds import data_function\n",
    "from pathlib import Path\n",
    "import tempfile\n",
    "import shutil\n",
    "import dds\n",
    "import huggingface_hub\n",
    "logging.getLogger(\"dds\").setLevel(logging.WARNING)\n",
    "dds.accept_module(ct)"
   ]
  },
  {
   "cell_type": "markdown",
   "metadata": {},
   "source": [
    "## Ingestion of geometries"
   ]
  },
  {
   "cell_type": "code",
   "execution_count": 4,
   "metadata": {},
   "outputs": [
    {
     "data": {
      "text/plain": [
       "<duckdb.duckdb.DuckDBPyConnection at 0x71b84bf3a9f0>"
      ]
     },
     "execution_count": 4,
     "metadata": {},
     "output_type": "execute_result"
    }
   ],
   "source": [
    "import duckdb\n",
    "# Install and load the spatial extension\n",
    "duckdb.execute('INSTALL spatial')\n",
    "duckdb.execute('LOAD spatial')"
   ]
  },
  {
   "cell_type": "code",
   "execution_count": 24,
   "metadata": {},
   "outputs": [],
   "source": [
    "sector = \"forestry-and-land-use\"\n",
    "sector_points = \"manufacturing\"\n"
   ]
  },
  {
   "cell_type": "markdown",
   "metadata": {},
   "source": [
    "Step 1: extract the polygons from the geometry files:\n",
    "\n",
    "The geometry information will be stored in WKB format (a current limitation of DuckDB's writing capabilities)."
   ]
  },
  {
   "cell_type": "code",
   "execution_count": 6,
   "metadata": {},
   "outputs": [
    {
     "data": {
      "application/vnd.jupyter.widget-view+json": {
       "model_id": "f5e38116d0274bfcb792ef9e7463c1c1",
       "version_major": 2,
       "version_minor": 0
      },
      "text/plain": [
       "FloatProgress(value=0.0, layout=Layout(width='auto'), style=ProgressStyle(bar_color='black'))"
      ]
     },
     "metadata": {},
     "output_type": "display_data"
    }
   ],
   "source": [
    "gpkg_fname = f\"/home/tjhunter/.cache/climate_trace_co2/v3-2024/{sector}_geometries.gpkg\"\n",
    "gpkg_points_fname = f\"/home/tjhunter/.cache/climate_trace_co2/v3-2024/{sector_points}_geometries.gpkg\"\n",
    "duckdb.sql(f\"\"\"\n",
    "COPY(\n",
    "    SELECT * FROM ST_read('{gpkg_fname}', layer='{sector}_polygons')\n",
    ") TO '/tmp/{sector}_polygons.parquet';\n",
    "\"\"\")"
   ]
  },
  {
   "cell_type": "code",
   "execution_count": 7,
   "metadata": {},
   "outputs": [],
   "source": [
    "c_geometry_ref = pl.col(\"geometry_ref\")"
   ]
  },
  {
   "cell_type": "markdown",
   "metadata": {},
   "source": [
    "Step 2: enrich the geometries with administrative information\n",
    "\n",
    "Most of the geometries stored by Climate TRACE are administrative boundaries (countries, regions, cities). This is the base for partitioning all the datasets. There are not so many administrative boundaries, so we will sometimes just store the data in memory."
   ]
  },
  {
   "cell_type": "code",
   "execution_count": 8,
   "metadata": {},
   "outputs": [],
   "source": [
    "c_geometry_ref = pl.col(\"geometry_ref\")\n",
    "def _enrich_subsector(pdf, sector):\n",
    "    return (pdf\n",
    "     .with_columns(pl.col(\"subsectors\")\n",
    "              .str.strip_chars_start(\"{\")\n",
    "              .str.strip_chars_end(\"}\")\n",
    "              .str.split(by=\",\")\n",
    "               .cast(pl.List(ct.enums.subsector_enum))\n",
    "              .alias(\"subsectors\"),\n",
    "     pl.lit(sector).cast(ct.enums.sector_enum).alias(SECTOR),\n",
    "                  )\n",
    "    )\n",
    "\n",
    "def _enrich_gadm(pdf, col_ref):\n",
    "\n",
    "    pdf = (pdf\n",
    "           .with_columns(\n",
    "    pl.when(col_ref.str.starts_with(\"gadm\"))\n",
    "     .then(col_ref.str.count_matches(\".\",literal=True))\n",
    "     .otherwise(None)\n",
    "     .alias(\"gadm_level\")\n",
    " ).with_columns(col_ref\n",
    "                .str.strip_prefix(\"gadm_\")\n",
    "                .str.head(3)\n",
    "     .cast(ct.enums.iso3_enum, strict=False)\n",
    "     .alias(ISO3_COUNTRY))\n",
    "\n",
    "          )\n",
    "    return pdf\n",
    "\n",
    "(pl.scan_parquet(f\"/tmp/{sector}_polygons.parquet\")\n",
    " .pipe(_enrich_gadm, col_ref=c_geometry_ref)\n",
    " .pipe(_enrich_subsector, sector=sector)\n",
    "#.head(10)\n",
    "#.drop(\"geom\")\n",
    "# .collect()\n",
    " .sink_parquet(f\"/tmp/{sector}_polygons_gadm.parquet\")\n",
    "#.filter(pl.col(\"geometry_ref\").str.contains(\"NLD.9\"))\n",
    "#.group_by(\"subsectors\")\n",
    "#.agg(pl.len())\n",
    ")\n",
    "\n",
    "#pdf_polys_gadm = (\n",
    "    #pdf_polys\n",
    " #.pipe(_enrich_gadm)\n",
    " #.pipe(_enrich_subsector, sector=sector)    \n",
    "#)\n",
    "#pdf_polys_gadm.write_parquet(f\"/tmp/{sector}_polys_gadm.parquet\")"
   ]
  },
  {
   "cell_type": "markdown",
   "metadata": {},
   "source": [
    "Step 3: add the GADM mapping to the points."
   ]
  },
  {
   "cell_type": "code",
   "execution_count": 9,
   "metadata": {},
   "outputs": [],
   "source": [
    "#(pl.scan_parquet(f\"/tmp/{sector}_polygons_gadm.parquet\")\n",
    "# .drop(\"geom\")\n",
    "#.filter(c_geometry_ref.str.contains(\"gadm_ALA.2\"))\n",
    "#.head(10)\n",
    "#.collect()\n",
    "#)"
   ]
  },
  {
   "cell_type": "code",
   "execution_count": 10,
   "metadata": {},
   "outputs": [
    {
     "data": {
      "text/html": [
       "<div><style>\n",
       ".dataframe > thead > tr,\n",
       ".dataframe > tbody > tr {\n",
       "  text-align: right;\n",
       "  white-space: pre-wrap;\n",
       "}\n",
       "</style>\n",
       "<small>shape: (1, 1)</small><table border=\"1\" class=\"dataframe\"><thead><tr><th>count_star()</th></tr><tr><td>i64</td></tr></thead><tbody><tr><td>77247</td></tr></tbody></table></div>"
      ],
      "text/plain": [
       "shape: (1, 1)\n",
       "┌──────────────┐\n",
       "│ count_star() │\n",
       "│ ---          │\n",
       "│ i64          │\n",
       "╞══════════════╡\n",
       "│ 77247        │\n",
       "└──────────────┘"
      ]
     },
     "execution_count": 10,
     "metadata": {},
     "output_type": "execute_result"
    }
   ],
   "source": [
    "#pdf_points = \n",
    "duckdb.sql(f\"\"\"\n",
    "SELECT COUNT(*) FROM ST_read('{gpkg_points_fname}', layer='{sector_points}_points')\n",
    "\"\"\").pl()"
   ]
  },
  {
   "cell_type": "code",
   "execution_count": 11,
   "metadata": {},
   "outputs": [
    {
     "data": {
      "text/plain": [
       "┌─────────────────────────────────────────────┬────────────────────────────────────────────────────────────────────────────┬───────────────────────────────────────────────┬─────────────────────┬───────────────────┐\n",
       "│                geometry_ref                 │                                 subsectors                                 │                     geom                      │         lng         │        lat        │\n",
       "│                   varchar                   │                                  varchar                                   │                   geometry                    │       double        │      double       │\n",
       "├─────────────────────────────────────────────┼────────────────────────────────────────────────────────────────────────────┼───────────────────────────────────────────────┼─────────────────────┼───────────────────┤\n",
       "│ trace_-100.08476257324224_46.69419634470087 │ {enteric-fermentation-cattle-operation,manure-management-cattle-operation} │ POINT (-100.08476257324224 46.69419634470087) │ -100.08476257324224 │ 46.69419634470087 │\n",
       "│ trace_-95.796222_43.696049                  │ {enteric-fermentation-cattle-operation,manure-management-cattle-operation} │ POINT (-95.796222 43.696049)                  │          -95.796222 │         43.696049 │\n",
       "│ trace_-91.3231658935547_42.68798760365708   │ {enteric-fermentation-cattle-operation,manure-management-cattle-operation} │ POINT (-91.3231658935547 42.68798760365708)   │   -91.3231658935547 │ 42.68798760365708 │\n",
       "│ trace_-0.564467064779224_48.51998686811234  │ {enteric-fermentation-cattle-operation,manure-management-cattle-operation} │ POINT (-0.564467064779224 48.51998686811234)  │  -0.564467064779224 │ 48.51998686811234 │\n",
       "└─────────────────────────────────────────────┴────────────────────────────────────────────────────────────────────────────┴───────────────────────────────────────────────┴─────────────────────┴───────────────────┘"
      ]
     },
     "execution_count": 11,
     "metadata": {},
     "output_type": "execute_result"
    }
   ],
   "source": [
    "duckdb.sql(f\"\"\"\n",
    "SELECT *, ST_X(geom) as lng, ST_Y(geom) as lat, FROM ST_read('{gpkg_points_fname}', layer='{sector_points}_points')\n",
    "LIMIT 4\n",
    "\"\"\")"
   ]
  },
  {
   "cell_type": "code",
   "execution_count": 12,
   "metadata": {},
   "outputs": [
    {
     "data": {
      "application/vnd.jupyter.widget-view+json": {
       "model_id": "e81dc0b5c56c40b8b168062a0e90caf0",
       "version_major": 2,
       "version_minor": 0
      },
      "text/plain": [
       "FloatProgress(value=0.0, layout=Layout(width='auto'), style=ProgressStyle(bar_color='black'))"
      ]
     },
     "metadata": {},
     "output_type": "display_data"
    },
    {
     "data": {
      "application/vnd.jupyter.widget-view+json": {
       "model_id": "f37846682ca44086809b89774a076f20",
       "version_major": 2,
       "version_minor": 0
      },
      "text/plain": [
       "FloatProgress(value=0.0, layout=Layout(width='auto'), style=ProgressStyle(bar_color='black'))"
      ]
     },
     "metadata": {},
     "output_type": "display_data"
    }
   ],
   "source": [
    "duckdb.sql(f\"\"\"\n",
    "SET memory_limit = '4GB';\n",
    "CREATE OR REPLACE TABLE polys AS SELECT *, ST_GeomFromWKB(geom) AS geom2 FROM '/tmp/{sector}_polygons_gadm.parquet';\n",
    "CREATE OR REPLACE TABLE points AS SELECT *, ST_X(geom) as lng, ST_Y(geom) as lat FROM ST_read('{gpkg_points_fname}', layer='{sector_points}_points');\n",
    "COPY (\n",
    "    SELECT \n",
    "        points.geometry_ref,\n",
    "        points.subsectors,\n",
    "        polys.iso3_country,\n",
    "        polys.geometry_ref AS gadm,\n",
    "        polys.gadm_level,\n",
    "        points.lat,\n",
    "        points.lng,\n",
    "        points.geom \n",
    "    FROM points\n",
    "    JOIN polys ON st_intersects(points.geom, polys.geom2)\n",
    ") TO '/tmp/{sector_points}_points.parquet';\n",
    "\"\"\")"
   ]
  },
  {
   "cell_type": "code",
   "execution_count": 13,
   "metadata": {},
   "outputs": [
    {
     "data": {
      "text/plain": [
       "0"
      ]
     },
     "execution_count": 13,
     "metadata": {},
     "output_type": "execute_result"
    }
   ],
   "source": [
    "c_gadm_level = pl.col(\"gadm_level\")\n",
    "(pl.scan_parquet(f\"/tmp/{sector_points}_points.parquet\")\n",
    "  .filter(c_gadm_level.is_null())\n",
    ".select(pl.len())\n",
    ".collect()\n",
    ".item()\n",
    ")"
   ]
  },
  {
   "cell_type": "code",
   "execution_count": 14,
   "metadata": {},
   "outputs": [],
   "source": [
    "c_gadm = pl.col(\"gadm\")\n",
    "\n",
    "(pl.scan_parquet(f\"/tmp/{sector_points}_points.parquet\")\n",
    " .group_by(c_geometry_ref)\n",
    " .agg(c_gadm, pl.col(\"geom\").first(), pl.col(\"lat\").first(), pl.col(\"lng\").first())\n",
    " .with_columns(c_gadm.map_elements(lambda l: sorted(l, key=len), return_dtype=pl.List(pl.String)))\n",
    " .with_columns(\n",
    "     c_gadm.list.get(0,null_on_oob=True).alias(\"gadm_0\"),\n",
    "     c_gadm.list.get(1,null_on_oob=True).alias(\"gadm_1\"),\n",
    "     c_gadm.list.get(2,null_on_oob=True).alias(\"gadm_2\"),\n",
    " ).with_columns(\n",
    "     c_gadm.list.get(-1,null_on_oob=True).alias(\"gadm\"),\n",
    " ).pipe(_enrich_gadm, col_ref=c_gadm)\n",
    ".collect()\n",
    ".write_parquet(f\"/tmp/{sector_points}_points_gadm.parquet\")\n",
    "#.sink_parquet(f\"/tmp/{sector}_points_gadm.parquet\")\n",
    ")\n",
    "\n",
    "#l = [\"gadm_PRK.5_1\", \"gadm_PRK\", \"gadm_PRK.5.1_1\"]\n",
    "#sorted(l, key=len)"
   ]
  },
  {
   "cell_type": "code",
   "execution_count": 56,
   "metadata": {},
   "outputs": [],
   "source": [
    "lat,lng=52.1462902,4.3977197  #WAS\n",
    "lat,lng=50.8512465,4.3454161 # BRU\n",
    "lat,lng=53.0547292,4.7374957 # TEX"
   ]
  },
  {
   "cell_type": "code",
   "execution_count": 57,
   "metadata": {},
   "outputs": [
    {
     "data": {
      "application/vnd.jupyter.widget-view+json": {
       "model_id": "8b0740cdec324b028e48f7c33500ab8b",
       "version_major": 2,
       "version_minor": 0
      },
      "text/plain": [
       "FloatProgress(value=0.0, layout=Layout(width='auto'), style=ProgressStyle(bar_color='black'))"
      ]
     },
     "metadata": {},
     "output_type": "display_data"
    }
   ],
   "source": [
    "import geopandas\n",
    "from lonboard import viz\n",
    "\n",
    "poly_geoms = duckdb.sql(f\"\"\"\n",
    "SELECT geometry_ref, gadm_level, geom FROM\n",
    "(\n",
    "    SELECT *, ST_GeomFromWKB(geom) AS geom2 FROM '/tmp/{sector}_polygons_gadm.parquet'\n",
    "    WHERE ST_WITHIN(ST_POINT({lng},{lat}), geom2)\n",
    "    AND gadm_level = 2\n",
    ")\n",
    "\"\"\").pl()\n",
    "poly_geoms_df = poly_geoms.to_pandas()\n",
    "poly_geoms_pdf = geopandas.GeoDataFrame(poly_geoms_df, geometry=geopandas.GeoSeries.from_wkb(poly_geoms_df['geom']), crs=\"EPSG:4326\")"
   ]
  },
  {
   "cell_type": "code",
   "execution_count": 58,
   "metadata": {},
   "outputs": [
    {
     "data": {
      "text/plain": [
       "{'gadm_NLD.9.48_1'}"
      ]
     },
     "execution_count": 58,
     "metadata": {},
     "output_type": "execute_result"
    }
   ],
   "source": [
    "gadms_ref = set(poly_geoms[GEOMETRY_REF].to_list())\n",
    "gadms_ref"
   ]
  },
  {
   "cell_type": "code",
   "execution_count": 59,
   "metadata": {},
   "outputs": [
    {
     "data": {
      "application/vnd.jupyter.widget-view+json": {
       "model_id": "6b064e01989c4b448bbf5534f17ac911",
       "version_major": 2,
       "version_minor": 1
      },
      "text/plain": [
       "Map(basemap_style=<CartoBasemap.DarkMatter: 'https://basemaps.cartocdn.com/gl/dark-matter-gl-style/style.json'…"
      ]
     },
     "execution_count": 59,
     "metadata": {},
     "output_type": "execute_result"
    }
   ],
   "source": [
    "viz(poly_geoms_pdf)"
   ]
  },
  {
   "cell_type": "code",
   "execution_count": 60,
   "metadata": {},
   "outputs": [
    {
     "data": {
      "text/html": [
       "<div><style>\n",
       ".dataframe > thead > tr,\n",
       ".dataframe > tbody > tr {\n",
       "  text-align: right;\n",
       "  white-space: pre-wrap;\n",
       "}\n",
       "</style>\n",
       "<small>shape: (11, 11)</small><table border=\"1\" class=\"dataframe\"><thead><tr><th>geometry_ref</th><th>gadm</th><th>geom</th><th>lat</th><th>lng</th><th>gadm_0</th><th>gadm_1</th><th>gadm_2</th><th>gadm_level</th><th>iso3_country</th><th>geom2</th></tr><tr><td>str</td><td>str</td><td>binary</td><td>f64</td><td>f64</td><td>str</td><td>str</td><td>str</td><td>u32</td><td>str</td><td>binary</td></tr></thead><tbody><tr><td>&quot;trace_4.7697_52.41176&quot;</td><td>&quot;gadm_NLD.9.4_1&quot;</td><td>b&quot;\\x01\\x01\\x00\\x00\\x00\\xc0\\xec\\x9e&lt;,\\x14\\x13@\\x86\\xe6:\\x8d\\xb44J@&quot;</td><td>52.41176</td><td>4.7697</td><td>&quot;gadm_NLD&quot;</td><td>&quot;gadm_NLD.9_1&quot;</td><td>&quot;gadm_NLD.9.4_1&quot;</td><td>2</td><td>&quot;NLD&quot;</td><td>b&quot;\\x00\\x00\\x00\\x00\\x00\\x00\\x00\\x00\\x00\\x00\\x00\\x00\\x01\\x00\\x00\\x00\\xc0\\xec\\x9e&lt;,\\x14\\x13@\\x86\\xe6:\\x8d\\xb44J@&quot;</td></tr><tr><td>&quot;trace_4.87436_52.55675&quot;</td><td>&quot;gadm_NLD.9.7_1&quot;</td><td>b&quot;\\x01\\x01\\x00\\x00\\x00\\xe5\\xb8S:X\\x7f\\x13@%\\x06\\x81\\x95CGJ@&quot;</td><td>52.55675</td><td>4.87436</td><td>&quot;gadm_NLD&quot;</td><td>&quot;gadm_NLD.9_1&quot;</td><td>&quot;gadm_NLD.9.7_1&quot;</td><td>2</td><td>&quot;NLD&quot;</td><td>b&quot;\\x00\\x00\\x00\\x00\\x00\\x00\\x00\\x00\\x00\\x00\\x00\\x00\\x01\\x00\\x00\\x00\\xe5\\xb8S:X\\x7f\\x13@%\\x06\\x81\\x95CGJ@&quot;</td></tr><tr><td>&quot;trace_4.7939165_52.4955119&quot;</td><td>&quot;gadm_NLD.9.62_1&quot;</td><td>b&quot;\\x01\\x01\\x00\\x00\\x00\\xe6\\x04mr\\xf8,\\x13@\\xb0\\xa3\\x16\\xefl?J@&quot;</td><td>52.495512</td><td>4.7939165</td><td>&quot;gadm_NLD&quot;</td><td>&quot;gadm_NLD.9_1&quot;</td><td>&quot;gadm_NLD.9.62_1&quot;</td><td>2</td><td>&quot;NLD&quot;</td><td>b&quot;\\x00\\x00\\x00\\x00\\x00\\x00\\x00\\x00\\x00\\x00\\x00\\x00\\x01\\x00\\x00\\x00\\xe6\\x04mr\\xf8,\\x13@\\xb0\\xa3\\x16\\xefl?J@&quot;</td></tr><tr><td>&quot;trace_5.45569_52.9737&quot;</td><td>&quot;gadm_NLD.3.34_1&quot;</td><td>b&quot;\\x01\\x01\\x00\\x00\\x00\\xfbt&lt;f\\xa0\\xd2\\x15@\\xbf\\x0e\\x9c3\\xa2|J@&quot;</td><td>52.9737</td><td>5.45569</td><td>&quot;gadm_NLD&quot;</td><td>&quot;gadm_NLD.3_1&quot;</td><td>&quot;gadm_NLD.3.34_1&quot;</td><td>2</td><td>&quot;NLD&quot;</td><td>b&quot;\\x00\\x00\\x00\\x00\\x00\\x00\\x00\\x00\\x00\\x00\\x00\\x00\\x01\\x00\\x00\\x00\\xfbt&lt;f\\xa0\\xd2\\x15@\\xbf\\x0e\\x9c3\\xa2|J@&quot;</td></tr><tr><td>&quot;trace_4.81815_52.46406&quot;</td><td>&quot;gadm_NLD.9.62_1&quot;</td><td>b&quot;\\x01\\x01\\x00\\x00\\x00\\xbd\\xe3\\x14\\x1d\\xc9E\\x13@\\xde\\xb0mQf;J@&quot;</td><td>52.46406</td><td>4.81815</td><td>&quot;gadm_NLD&quot;</td><td>&quot;gadm_NLD.9_1&quot;</td><td>&quot;gadm_NLD.9.62_1&quot;</td><td>2</td><td>&quot;NLD&quot;</td><td>b&quot;\\x00\\x00\\x00\\x00\\x00\\x00\\x00\\x00\\x00\\x00\\x00\\x00\\x01\\x00\\x00\\x00\\xbd\\xe3\\x14\\x1d\\xc9E\\x13@\\xde\\xb0mQf;J@&quot;</td></tr><tr><td>&hellip;</td><td>&hellip;</td><td>&hellip;</td><td>&hellip;</td><td>&hellip;</td><td>&hellip;</td><td>&hellip;</td><td>&hellip;</td><td>&hellip;</td><td>&hellip;</td><td>&hellip;</td></tr><tr><td>&quot;trace_4.86474_52.4016&quot;</td><td>&quot;gadm_NLD.9.4_1&quot;</td><td>b&quot;\\x01\\x01\\x00\\x00\\x00\\x13,\\x0eg~u\\x13@l\\x09\\xf9\\xa0g3J@&quot;</td><td>52.4016</td><td>4.86474</td><td>&quot;gadm_NLD&quot;</td><td>&quot;gadm_NLD.9_1&quot;</td><td>&quot;gadm_NLD.9.4_1&quot;</td><td>2</td><td>&quot;NLD&quot;</td><td>b&quot;\\x00\\x00\\x00\\x00\\x00\\x00\\x00\\x00\\x00\\x00\\x00\\x00\\x01\\x00\\x00\\x00\\x13,\\x0eg~u\\x13@l\\x09\\xf9\\xa0g3J@&quot;</td></tr><tr><td>&quot;trace_4.80837_52.47008&quot;</td><td>&quot;gadm_NLD.9.62_1&quot;</td><td>b&quot;\\x01\\x01\\x00\\x00\\x00$EdX\\xc5;\\x13@y@\\xd9\\x94+&lt;J@&quot;</td><td>52.47008</td><td>4.80837</td><td>&quot;gadm_NLD&quot;</td><td>&quot;gadm_NLD.9_1&quot;</td><td>&quot;gadm_NLD.9.62_1&quot;</td><td>2</td><td>&quot;NLD&quot;</td><td>b&quot;\\x00\\x00\\x00\\x00\\x00\\x00\\x00\\x00\\x00\\x00\\x00\\x00\\x01\\x00\\x00\\x00$EdX\\xc5;\\x13@y@\\xd9\\x94+&lt;J@&quot;</td></tr><tr><td>&quot;trace_4.80977_52.41622&quot;</td><td>&quot;gadm_NLD.9.4_1&quot;</td><td>b&quot;\\x01\\x01\\x00\\x00\\x00\\xb0\\x20\\xcdX4=\\x13@w\\xf8k\\xb2F5J@&quot;</td><td>52.41622</td><td>4.80977</td><td>&quot;gadm_NLD&quot;</td><td>&quot;gadm_NLD.9_1&quot;</td><td>&quot;gadm_NLD.9.4_1&quot;</td><td>2</td><td>&quot;NLD&quot;</td><td>b&quot;\\x00\\x00\\x00\\x00\\x00\\x00\\x00\\x00\\x00\\x00\\x00\\x00\\x01\\x00\\x00\\x00\\xb0\\x20\\xcdX4=\\x13@w\\xf8k\\xb2F5J@&quot;</td></tr><tr><td>&quot;trace_4.49268_52.21196&quot;</td><td>&quot;gadm_NLD.14.102_1&quot;</td><td>b&quot;\\x01\\x01\\x00\\x00\\x00\\xb8\\x92\\x1d\\x1b\\x81\\xf8\\x11@\\xb3\\x07Z\\x81!\\x1bJ@&quot;</td><td>52.21196</td><td>4.49268</td><td>&quot;gadm_NLD&quot;</td><td>&quot;gadm_NLD.14_1&quot;</td><td>&quot;gadm_NLD.14.102_1&quot;</td><td>2</td><td>&quot;NLD&quot;</td><td>b&quot;\\x00\\x00\\x00\\x00\\x00\\x00\\x00\\x00\\x00\\x00\\x00\\x00\\x01\\x00\\x00\\x00\\xb8\\x92\\x1d\\x1b\\x81\\xf8\\x11@\\xb3\\x07Z\\x81!\\x1bJ@&quot;</td></tr><tr><td>&quot;trace_4.81186_52.46475&quot;</td><td>&quot;gadm_NLD.9.62_1&quot;</td><td>b&quot;\\x01\\x01\\x00\\x00\\x00\\xe5\\xb8S:X?\\x13@sh\\x91\\xed|;J@&quot;</td><td>52.46475</td><td>4.81186</td><td>&quot;gadm_NLD&quot;</td><td>&quot;gadm_NLD.9_1&quot;</td><td>&quot;gadm_NLD.9.62_1&quot;</td><td>2</td><td>&quot;NLD&quot;</td><td>b&quot;\\x00\\x00\\x00\\x00\\x00\\x00\\x00\\x00\\x00\\x00\\x00\\x00\\x01\\x00\\x00\\x00\\xe5\\xb8S:X?\\x13@sh\\x91\\xed|;J@&quot;</td></tr></tbody></table></div>"
      ],
      "text/plain": [
       "shape: (11, 11)\n",
       "┌───────────┬───────────┬───────────┬───────────┬───┬───────────┬───────────┬───────────┬──────────┐\n",
       "│ geometry_ ┆ gadm      ┆ geom      ┆ lat       ┆ … ┆ gadm_2    ┆ gadm_leve ┆ iso3_coun ┆ geom2    │\n",
       "│ ref       ┆ ---       ┆ ---       ┆ ---       ┆   ┆ ---       ┆ l         ┆ try       ┆ ---      │\n",
       "│ ---       ┆ str       ┆ binary    ┆ f64       ┆   ┆ str       ┆ ---       ┆ ---       ┆ binary   │\n",
       "│ str       ┆           ┆           ┆           ┆   ┆           ┆ u32       ┆ str       ┆          │\n",
       "╞═══════════╪═══════════╪═══════════╪═══════════╪═══╪═══════════╪═══════════╪═══════════╪══════════╡\n",
       "│ trace_4.7 ┆ gadm_NLD. ┆ b\"\\x01\\x0 ┆ 52.41176  ┆ … ┆ gadm_NLD. ┆ 2         ┆ NLD       ┆ b\"\\x00\\x │\n",
       "│ 697_52.41 ┆ 9.4_1     ┆ 1\\x00\\x00 ┆           ┆   ┆ 9.4_1     ┆           ┆           ┆ 00\\x00\\x │\n",
       "│ 176       ┆           ┆ \\x00\\xc0\\ ┆           ┆   ┆           ┆           ┆           ┆ 00\\x00\\x │\n",
       "│           ┆           ┆ xec…      ┆           ┆   ┆           ┆           ┆           ┆ 00\\x00…  │\n",
       "│ trace_4.8 ┆ gadm_NLD. ┆ b\"\\x01\\x0 ┆ 52.55675  ┆ … ┆ gadm_NLD. ┆ 2         ┆ NLD       ┆ b\"\\x00\\x │\n",
       "│ 7436_52.5 ┆ 9.7_1     ┆ 1\\x00\\x00 ┆           ┆   ┆ 9.7_1     ┆           ┆           ┆ 00\\x00\\x │\n",
       "│ 5675      ┆           ┆ \\x00\\xe5\\ ┆           ┆   ┆           ┆           ┆           ┆ 00\\x00\\x │\n",
       "│           ┆           ┆ xb8…      ┆           ┆   ┆           ┆           ┆           ┆ 00\\x00…  │\n",
       "│ trace_4.7 ┆ gadm_NLD. ┆ b\"\\x01\\x0 ┆ 52.495512 ┆ … ┆ gadm_NLD. ┆ 2         ┆ NLD       ┆ b\"\\x00\\x │\n",
       "│ 939165_52 ┆ 9.62_1    ┆ 1\\x00\\x00 ┆           ┆   ┆ 9.62_1    ┆           ┆           ┆ 00\\x00\\x │\n",
       "│ .4955119  ┆           ┆ \\x00\\xe6\\ ┆           ┆   ┆           ┆           ┆           ┆ 00\\x00\\x │\n",
       "│           ┆           ┆ x04…      ┆           ┆   ┆           ┆           ┆           ┆ 00\\x00…  │\n",
       "│ trace_5.4 ┆ gadm_NLD. ┆ b\"\\x01\\x0 ┆ 52.9737   ┆ … ┆ gadm_NLD. ┆ 2         ┆ NLD       ┆ b\"\\x00\\x │\n",
       "│ 5569_52.9 ┆ 3.34_1    ┆ 1\\x00\\x00 ┆           ┆   ┆ 3.34_1    ┆           ┆           ┆ 00\\x00\\x │\n",
       "│ 737       ┆           ┆ \\x00\\xfbt ┆           ┆   ┆           ┆           ┆           ┆ 00\\x00\\x │\n",
       "│           ┆           ┆ <f\\…      ┆           ┆   ┆           ┆           ┆           ┆ 00\\x00…  │\n",
       "│ trace_4.8 ┆ gadm_NLD. ┆ b\"\\x01\\x0 ┆ 52.46406  ┆ … ┆ gadm_NLD. ┆ 2         ┆ NLD       ┆ b\"\\x00\\x │\n",
       "│ 1815_52.4 ┆ 9.62_1    ┆ 1\\x00\\x00 ┆           ┆   ┆ 9.62_1    ┆           ┆           ┆ 00\\x00\\x │\n",
       "│ 6406      ┆           ┆ \\x00\\xbd\\ ┆           ┆   ┆           ┆           ┆           ┆ 00\\x00\\x │\n",
       "│           ┆           ┆ xe3…      ┆           ┆   ┆           ┆           ┆           ┆ 00\\x00…  │\n",
       "│ …         ┆ …         ┆ …         ┆ …         ┆ … ┆ …         ┆ …         ┆ …         ┆ …        │\n",
       "│ trace_4.8 ┆ gadm_NLD. ┆ b\"\\x01\\x0 ┆ 52.4016   ┆ … ┆ gadm_NLD. ┆ 2         ┆ NLD       ┆ b\"\\x00\\x │\n",
       "│ 6474_52.4 ┆ 9.4_1     ┆ 1\\x00\\x00 ┆           ┆   ┆ 9.4_1     ┆           ┆           ┆ 00\\x00\\x │\n",
       "│ 016       ┆           ┆ \\x00\\x13, ┆           ┆   ┆           ┆           ┆           ┆ 00\\x00\\x │\n",
       "│           ┆           ┆ \\x0…      ┆           ┆   ┆           ┆           ┆           ┆ 00\\x00…  │\n",
       "│ trace_4.8 ┆ gadm_NLD. ┆ b\"\\x01\\x0 ┆ 52.47008  ┆ … ┆ gadm_NLD. ┆ 2         ┆ NLD       ┆ b\"\\x00\\x │\n",
       "│ 0837_52.4 ┆ 9.62_1    ┆ 1\\x00\\x00 ┆           ┆   ┆ 9.62_1    ┆           ┆           ┆ 00\\x00\\x │\n",
       "│ 7008      ┆           ┆ \\x00$EdX\\ ┆           ┆   ┆           ┆           ┆           ┆ 00\\x00\\x │\n",
       "│           ┆           ┆ xc5…      ┆           ┆   ┆           ┆           ┆           ┆ 00\\x00…  │\n",
       "│ trace_4.8 ┆ gadm_NLD. ┆ b\"\\x01\\x0 ┆ 52.41622  ┆ … ┆ gadm_NLD. ┆ 2         ┆ NLD       ┆ b\"\\x00\\x │\n",
       "│ 0977_52.4 ┆ 9.4_1     ┆ 1\\x00\\x00 ┆           ┆   ┆ 9.4_1     ┆           ┆           ┆ 00\\x00\\x │\n",
       "│ 1622      ┆           ┆ \\x00\\xb0\\ ┆           ┆   ┆           ┆           ┆           ┆ 00\\x00\\x │\n",
       "│           ┆           ┆ x20…      ┆           ┆   ┆           ┆           ┆           ┆ 00\\x00…  │\n",
       "│ trace_4.4 ┆ gadm_NLD. ┆ b\"\\x01\\x0 ┆ 52.21196  ┆ … ┆ gadm_NLD. ┆ 2         ┆ NLD       ┆ b\"\\x00\\x │\n",
       "│ 9268_52.2 ┆ 14.102_1  ┆ 1\\x00\\x00 ┆           ┆   ┆ 14.102_1  ┆           ┆           ┆ 00\\x00\\x │\n",
       "│ 1196      ┆           ┆ \\x00\\xb8\\ ┆           ┆   ┆           ┆           ┆           ┆ 00\\x00\\x │\n",
       "│           ┆           ┆ x92…      ┆           ┆   ┆           ┆           ┆           ┆ 00\\x00…  │\n",
       "│ trace_4.8 ┆ gadm_NLD. ┆ b\"\\x01\\x0 ┆ 52.46475  ┆ … ┆ gadm_NLD. ┆ 2         ┆ NLD       ┆ b\"\\x00\\x │\n",
       "│ 1186_52.4 ┆ 9.62_1    ┆ 1\\x00\\x00 ┆           ┆   ┆ 9.62_1    ┆           ┆           ┆ 00\\x00\\x │\n",
       "│ 6475      ┆           ┆ \\x00\\xe5\\ ┆           ┆   ┆           ┆           ┆           ┆ 00\\x00\\x │\n",
       "│           ┆           ┆ xb8…      ┆           ┆   ┆           ┆           ┆           ┆ 00\\x00…  │\n",
       "└───────────┴───────────┴───────────┴───────────┴───┴───────────┴───────────┴───────────┴──────────┘"
      ]
     },
     "execution_count": 60,
     "metadata": {},
     "output_type": "execute_result"
    }
   ],
   "source": [
    "point_geoms = duckdb.sql(f\"\"\"\n",
    "SELECT *, ST_GeomFromWKB(geom) AS geom2 FROM '/tmp/{sector_points}_points_gadm.parquet'\n",
    "    WHERE ST_Distance_Spheroid(ST_POINT({lng},{lat}), geom2) < 100_000\n",
    "\"\"\").pl()\n",
    "point_geoms"
   ]
  },
  {
   "cell_type": "code",
   "execution_count": null,
   "metadata": {},
   "outputs": [],
   "source": []
  },
  {
   "cell_type": "code",
   "execution_count": 61,
   "metadata": {},
   "outputs": [
    {
     "data": {
      "text/html": [
       "<div><style>\n",
       ".dataframe > thead > tr,\n",
       ".dataframe > tbody > tr {\n",
       "  text-align: right;\n",
       "  white-space: pre-wrap;\n",
       "}\n",
       "</style>\n",
       "<small>shape: (11, 8)</small><table border=\"1\" class=\"dataframe\"><thead><tr><th>source_id</th><th>geometry_ref</th><th>emissions_quantity</th><th>sector</th><th>subsector</th><th>source_name</th><th>lat</th><th>lon</th></tr><tr><td>u64</td><td>str</td><td>f64</td><td>enum</td><td>enum</td><td>str</td><td>f64</td><td>f64</td></tr></thead><tbody><tr><td>1566991</td><td>&quot;trace_4.60665426159174_52.4828…</td><td>1.3301e7</td><td>&quot;manufacturing&quot;</td><td>&quot;iron-and-steel&quot;</td><td>&quot;Tata Steel IJmuiden steel plan…</td><td>52.482893</td><td>4.606654</td></tr><tr><td>31734111</td><td>&quot;trace_4.80977_52.41622&quot;</td><td>64971.71202</td><td>&quot;manufacturing&quot;</td><td>&quot;food-beverage-tobacco&quot;</td><td>&quot;Wild juice B.V.&quot;</td><td>52.41622</td><td>4.80977</td></tr><tr><td>31734147</td><td>&quot;trace_4.80837_52.47008&quot;</td><td>64971.71202</td><td>&quot;manufacturing&quot;</td><td>&quot;food-beverage-tobacco&quot;</td><td>&quot;Olam Cocoa BV&quot;</td><td>52.47008</td><td>4.80837</td></tr><tr><td>31734052</td><td>&quot;trace_4.81186_52.46475&quot;</td><td>64971.71202</td><td>&quot;manufacturing&quot;</td><td>&quot;food-beverage-tobacco&quot;</td><td>&quot;Tate &amp; Lyle Netherlands BV&quot;</td><td>52.46475</td><td>4.81186</td></tr><tr><td>31734115</td><td>&quot;trace_5.45569_52.9737&quot;</td><td>64971.71202</td><td>&quot;manufacturing&quot;</td><td>&quot;food-beverage-tobacco&quot;</td><td>&quot;FrieslandCampina Workum&quot;</td><td>52.9737</td><td>5.45569</td></tr><tr><td>&hellip;</td><td>&hellip;</td><td>&hellip;</td><td>&hellip;</td><td>&hellip;</td><td>&hellip;</td><td>&hellip;</td><td>&hellip;</td></tr><tr><td>31734053</td><td>&quot;trace_4.86474_52.4016&quot;</td><td>64971.71202</td><td>&quot;manufacturing&quot;</td><td>&quot;food-beverage-tobacco&quot;</td><td>&quot;Bunge Netherlands BV (Soja)&quot;</td><td>52.4016</td><td>4.86474</td></tr><tr><td>31734054</td><td>&quot;trace_4.7697_52.41176&quot;</td><td>64971.71202</td><td>&quot;manufacturing&quot;</td><td>&quot;food-beverage-tobacco&quot;</td><td>&quot;Cargill BV (Multiseed)&quot;</td><td>52.41176</td><td>4.7697</td></tr><tr><td>31732199</td><td>&quot;trace_4.7939165_52.4955119&quot;</td><td>4925.88578</td><td>&quot;manufacturing&quot;</td><td>&quot;textiles-leather-apparel&quot;</td><td>&quot;Content Gordijnatelier Zaansta…</td><td>52.495512</td><td>4.7939165</td></tr><tr><td>31734164</td><td>&quot;trace_4.81815_52.46406&quot;</td><td>64971.71202</td><td>&quot;manufacturing&quot;</td><td>&quot;food-beverage-tobacco&quot;</td><td>&quot;Cargill BV - Cargill Cocoa (Au…</td><td>52.46406</td><td>4.81815</td></tr><tr><td>31734051</td><td>&quot;trace_4.87436_52.55675&quot;</td><td>64971.71202</td><td>&quot;manufacturing&quot;</td><td>&quot;food-beverage-tobacco&quot;</td><td>&quot;CONO Kaasmakers (Middenbeemste…</td><td>52.55675</td><td>4.87436</td></tr></tbody></table></div>"
      ],
      "text/plain": [
       "shape: (11, 8)\n",
       "┌───────────┬────────────┬────────────┬────────────┬───────────┬───────────┬───────────┬───────────┐\n",
       "│ source_id ┆ geometry_r ┆ emissions_ ┆ sector     ┆ subsector ┆ source_na ┆ lat       ┆ lon       │\n",
       "│ ---       ┆ ef         ┆ quantity   ┆ ---        ┆ ---       ┆ me        ┆ ---       ┆ ---       │\n",
       "│ u64       ┆ ---        ┆ ---        ┆ enum       ┆ enum      ┆ ---       ┆ f64       ┆ f64       │\n",
       "│           ┆ str        ┆ f64        ┆            ┆           ┆ str       ┆           ┆           │\n",
       "╞═══════════╪════════════╪════════════╪════════════╪═══════════╪═══════════╪═══════════╪═══════════╡\n",
       "│ 1566991   ┆ trace_4.60 ┆ 1.3301e7   ┆ manufactur ┆ iron-and- ┆ Tata      ┆ 52.482893 ┆ 4.606654  │\n",
       "│           ┆ 6654261591 ┆            ┆ ing        ┆ steel     ┆ Steel     ┆           ┆           │\n",
       "│           ┆ 74_52.4828 ┆            ┆            ┆           ┆ IJmuiden  ┆           ┆           │\n",
       "│           ┆ …          ┆            ┆            ┆           ┆ steel     ┆           ┆           │\n",
       "│           ┆            ┆            ┆            ┆           ┆ plan…     ┆           ┆           │\n",
       "│ 31734111  ┆ trace_4.80 ┆ 64971.7120 ┆ manufactur ┆ food-beve ┆ Wild      ┆ 52.41622  ┆ 4.80977   │\n",
       "│           ┆ 977_52.416 ┆ 2          ┆ ing        ┆ rage-toba ┆ juice     ┆           ┆           │\n",
       "│           ┆ 22         ┆            ┆            ┆ cco       ┆ B.V.      ┆           ┆           │\n",
       "│ 31734147  ┆ trace_4.80 ┆ 64971.7120 ┆ manufactur ┆ food-beve ┆ Olam      ┆ 52.47008  ┆ 4.80837   │\n",
       "│           ┆ 837_52.470 ┆ 2          ┆ ing        ┆ rage-toba ┆ Cocoa BV  ┆           ┆           │\n",
       "│           ┆ 08         ┆            ┆            ┆ cco       ┆           ┆           ┆           │\n",
       "│ 31734052  ┆ trace_4.81 ┆ 64971.7120 ┆ manufactur ┆ food-beve ┆ Tate &    ┆ 52.46475  ┆ 4.81186   │\n",
       "│           ┆ 186_52.464 ┆ 2          ┆ ing        ┆ rage-toba ┆ Lyle Neth ┆           ┆           │\n",
       "│           ┆ 75         ┆            ┆            ┆ cco       ┆ erlands   ┆           ┆           │\n",
       "│           ┆            ┆            ┆            ┆           ┆ BV        ┆           ┆           │\n",
       "│ 31734115  ┆ trace_5.45 ┆ 64971.7120 ┆ manufactur ┆ food-beve ┆ Friesland ┆ 52.9737   ┆ 5.45569   │\n",
       "│           ┆ 569_52.973 ┆ 2          ┆ ing        ┆ rage-toba ┆ Campina   ┆           ┆           │\n",
       "│           ┆ 7          ┆            ┆            ┆ cco       ┆ Workum    ┆           ┆           │\n",
       "│ …         ┆ …          ┆ …          ┆ …          ┆ …         ┆ …         ┆ …         ┆ …         │\n",
       "│ 31734053  ┆ trace_4.86 ┆ 64971.7120 ┆ manufactur ┆ food-beve ┆ Bunge Net ┆ 52.4016   ┆ 4.86474   │\n",
       "│           ┆ 474_52.401 ┆ 2          ┆ ing        ┆ rage-toba ┆ herlands  ┆           ┆           │\n",
       "│           ┆ 6          ┆            ┆            ┆ cco       ┆ BV (Soja) ┆           ┆           │\n",
       "│ 31734054  ┆ trace_4.76 ┆ 64971.7120 ┆ manufactur ┆ food-beve ┆ Cargill   ┆ 52.41176  ┆ 4.7697    │\n",
       "│           ┆ 97_52.4117 ┆ 2          ┆ ing        ┆ rage-toba ┆ BV (Multi ┆           ┆           │\n",
       "│           ┆ 6          ┆            ┆            ┆ cco       ┆ seed)     ┆           ┆           │\n",
       "│ 31732199  ┆ trace_4.79 ┆ 4925.88578 ┆ manufactur ┆ textiles- ┆ Content   ┆ 52.495512 ┆ 4.7939165 │\n",
       "│           ┆ 39165_52.4 ┆            ┆ ing        ┆ leather-a ┆ Gordijnat ┆           ┆           │\n",
       "│           ┆ 955119     ┆            ┆            ┆ pparel    ┆ elier     ┆           ┆           │\n",
       "│           ┆            ┆            ┆            ┆           ┆ Zaansta…  ┆           ┆           │\n",
       "│ 31734164  ┆ trace_4.81 ┆ 64971.7120 ┆ manufactur ┆ food-beve ┆ Cargill   ┆ 52.46406  ┆ 4.81815   │\n",
       "│           ┆ 815_52.464 ┆ 2          ┆ ing        ┆ rage-toba ┆ BV -      ┆           ┆           │\n",
       "│           ┆ 06         ┆            ┆            ┆ cco       ┆ Cargill   ┆           ┆           │\n",
       "│           ┆            ┆            ┆            ┆           ┆ Cocoa     ┆           ┆           │\n",
       "│           ┆            ┆            ┆            ┆           ┆ (Au…      ┆           ┆           │\n",
       "│ 31734051  ┆ trace_4.87 ┆ 64971.7120 ┆ manufactur ┆ food-beve ┆ CONO Kaas ┆ 52.55675  ┆ 4.87436   │\n",
       "│           ┆ 436_52.556 ┆ 2          ┆ ing        ┆ rage-toba ┆ makers    ┆           ┆           │\n",
       "│           ┆ 75         ┆            ┆            ┆ cco       ┆ (Middenbe ┆           ┆           │\n",
       "│           ┆            ┆            ┆            ┆           ┆ emste…    ┆           ┆           │\n",
       "└───────────┴────────────┴────────────┴────────────┴───────────┴───────────┴───────────┴───────────┘"
      ]
     },
     "execution_count": 61,
     "metadata": {},
     "output_type": "execute_result"
    }
   ],
   "source": [
    "#country = \"NLD\"\n",
    "\n",
    "point_geom_refs = point_geoms[GEOMETRY_REF].to_list()\n",
    "point_biz_data = (ct.read_source_emissions(\n",
    "    gas=CO2,\n",
    "    year=2023\n",
    ")\n",
    " .group_by(c_source_id)\n",
    " .agg(c_geometry_ref.first(), c_emissions_quantity.sum(), c_sector.first(), c_subsector.first(), c_source_name.first(), c_lat.first(), c_lon.first())\n",
    " .filter(c_geometry_ref.is_in(point_geom_refs))\n",
    " .filter(c_emissions_quantity != 0)\n",
    " .collect()\n",
    ")\n",
    "point_biz_data"
   ]
  },
  {
   "cell_type": "code",
   "execution_count": 62,
   "metadata": {},
   "outputs": [
    {
     "data": {
      "text/html": [
       "<div style=\"width:100%;\"><div style=\"position:relative;width:100%;height:0;padding-bottom:60%;\"><span style=\"color:#565656\">Make this Notebook Trusted to load map: File -> Trust Notebook</span><iframe srcdoc=\"&lt;!DOCTYPE html&gt;\n",
       "&lt;html&gt;\n",
       "&lt;head&gt;\n",
       "    \n",
       "    &lt;meta http-equiv=&quot;content-type&quot; content=&quot;text/html; charset=UTF-8&quot; /&gt;\n",
       "    \n",
       "        &lt;script&gt;\n",
       "            L_NO_TOUCH = false;\n",
       "            L_DISABLE_3D = false;\n",
       "        &lt;/script&gt;\n",
       "    \n",
       "    &lt;style&gt;html, body {width: 100%;height: 100%;margin: 0;padding: 0;}&lt;/style&gt;\n",
       "    &lt;style&gt;#map {position:absolute;top:0;bottom:0;right:0;left:0;}&lt;/style&gt;\n",
       "    &lt;script src=&quot;https://cdn.jsdelivr.net/npm/leaflet@1.9.3/dist/leaflet.js&quot;&gt;&lt;/script&gt;\n",
       "    &lt;script src=&quot;https://code.jquery.com/jquery-3.7.1.min.js&quot;&gt;&lt;/script&gt;\n",
       "    &lt;script src=&quot;https://cdn.jsdelivr.net/npm/bootstrap@5.2.2/dist/js/bootstrap.bundle.min.js&quot;&gt;&lt;/script&gt;\n",
       "    &lt;script src=&quot;https://cdnjs.cloudflare.com/ajax/libs/Leaflet.awesome-markers/2.0.2/leaflet.awesome-markers.js&quot;&gt;&lt;/script&gt;\n",
       "    &lt;link rel=&quot;stylesheet&quot; href=&quot;https://cdn.jsdelivr.net/npm/leaflet@1.9.3/dist/leaflet.css&quot;/&gt;\n",
       "    &lt;link rel=&quot;stylesheet&quot; href=&quot;https://cdn.jsdelivr.net/npm/bootstrap@5.2.2/dist/css/bootstrap.min.css&quot;/&gt;\n",
       "    &lt;link rel=&quot;stylesheet&quot; href=&quot;https://netdna.bootstrapcdn.com/bootstrap/3.0.0/css/bootstrap-glyphicons.css&quot;/&gt;\n",
       "    &lt;link rel=&quot;stylesheet&quot; href=&quot;https://cdn.jsdelivr.net/npm/@fortawesome/fontawesome-free@6.2.0/css/all.min.css&quot;/&gt;\n",
       "    &lt;link rel=&quot;stylesheet&quot; href=&quot;https://cdnjs.cloudflare.com/ajax/libs/Leaflet.awesome-markers/2.0.2/leaflet.awesome-markers.css&quot;/&gt;\n",
       "    &lt;link rel=&quot;stylesheet&quot; href=&quot;https://cdn.jsdelivr.net/gh/python-visualization/folium/folium/templates/leaflet.awesome.rotate.min.css&quot;/&gt;\n",
       "    \n",
       "            &lt;meta name=&quot;viewport&quot; content=&quot;width=device-width,\n",
       "                initial-scale=1.0, maximum-scale=1.0, user-scalable=no&quot; /&gt;\n",
       "            &lt;style&gt;\n",
       "                #map_fd84ab2ffb694492172afd774b18e6a1 {\n",
       "                    position: relative;\n",
       "                    width: 100.0%;\n",
       "                    height: 100.0%;\n",
       "                    left: 0.0%;\n",
       "                    top: 0.0%;\n",
       "                }\n",
       "                .leaflet-container { font-size: 1rem; }\n",
       "            &lt;/style&gt;\n",
       "        \n",
       "    \n",
       "                    &lt;style&gt;\n",
       "                        .foliumtooltip {\n",
       "                            \n",
       "                        }\n",
       "                       .foliumtooltip table{\n",
       "                            margin: auto;\n",
       "                        }\n",
       "                        .foliumtooltip tr{\n",
       "                            text-align: left;\n",
       "                        }\n",
       "                        .foliumtooltip th{\n",
       "                            padding: 2px; padding-right: 8px;\n",
       "                        }\n",
       "                    &lt;/style&gt;\n",
       "            \n",
       "    \n",
       "    &lt;script src=&quot;https://code.jquery.com/ui/1.12.1/jquery-ui.js&quot;&gt;&lt;/script&gt;\n",
       "    &lt;script&gt;$( function() {\n",
       "        $( &quot;.maplegend&quot; ).draggable({\n",
       "            start: function (event, ui) {\n",
       "                $(this).css({\n",
       "                    right: &quot;auto&quot;,\n",
       "                    top: &quot;auto&quot;,\n",
       "                    bottom: &quot;auto&quot;\n",
       "                });\n",
       "            }\n",
       "        });\n",
       "    });\n",
       "    &lt;/script&gt;\n",
       "    &lt;style type=&#x27;text/css&#x27;&gt;\n",
       "      .maplegend {\n",
       "        position: absolute;\n",
       "        z-index:9999;\n",
       "        background-color: rgba(255, 255, 255, .8);\n",
       "        border-radius: 5px;\n",
       "        box-shadow: 0 0 15px rgba(0,0,0,0.2);\n",
       "        padding: 10px;\n",
       "        font: 12px/14px Arial, Helvetica, sans-serif;\n",
       "        right: 10px;\n",
       "        bottom: 20px;\n",
       "      }\n",
       "      .maplegend .legend-title {\n",
       "        text-align: left;\n",
       "        margin-bottom: 5px;\n",
       "        font-weight: bold;\n",
       "        }\n",
       "      .maplegend .legend-scale ul {\n",
       "        margin: 0;\n",
       "        margin-bottom: 0px;\n",
       "        padding: 0;\n",
       "        float: left;\n",
       "        list-style: none;\n",
       "        }\n",
       "      .maplegend .legend-scale ul li {\n",
       "        list-style: none;\n",
       "        margin-left: 0;\n",
       "        line-height: 16px;\n",
       "        margin-bottom: 2px;\n",
       "        }\n",
       "      .maplegend ul.legend-labels li span {\n",
       "        display: block;\n",
       "        float: left;\n",
       "        height: 14px;\n",
       "        width: 14px;\n",
       "        margin-right: 5px;\n",
       "        margin-left: 0;\n",
       "        border: 0px solid #ccc;\n",
       "        }\n",
       "      .maplegend .legend-source {\n",
       "        color: #777;\n",
       "        clear: both;\n",
       "        }\n",
       "      .maplegend a {\n",
       "        color: #777;\n",
       "        }\n",
       "    &lt;/style&gt;\n",
       "    \n",
       "&lt;/head&gt;\n",
       "&lt;body&gt;\n",
       "    \n",
       "    \n",
       "    &lt;div id=&#x27;maplegend sector&#x27; class=&#x27;maplegend&#x27;&gt;\n",
       "        &lt;div class=&#x27;legend-title&#x27;&gt;sector&lt;/div&gt;\n",
       "        &lt;div class=&#x27;legend-scale&#x27;&gt;\n",
       "            &lt;ul class=&#x27;legend-labels&#x27;&gt;\n",
       "                &lt;li&gt;&lt;span style=&#x27;background:#1f77b4&#x27;&gt;&lt;/span&gt;agriculture&lt;/li&gt;\n",
       "                &lt;li&gt;&lt;span style=&#x27;background:#ff7f0e&#x27;&gt;&lt;/span&gt;buildings&lt;/li&gt;\n",
       "                &lt;li&gt;&lt;span style=&#x27;background:#2ca02c&#x27;&gt;&lt;/span&gt;fluorinated-gases&lt;/li&gt;\n",
       "                &lt;li&gt;&lt;span style=&#x27;background:#d62728&#x27;&gt;&lt;/span&gt;forestry-and-land-use&lt;/li&gt;\n",
       "                &lt;li&gt;&lt;span style=&#x27;background:#9467bd&#x27;&gt;&lt;/span&gt;fossil-fuel-operations&lt;/li&gt;\n",
       "                &lt;li&gt;&lt;span style=&#x27;background:#c49c94&#x27;&gt;&lt;/span&gt;manufacturing&lt;/li&gt;\n",
       "                &lt;li&gt;&lt;span style=&#x27;background:#f7b6d2&#x27;&gt;&lt;/span&gt;mineral-extraction&lt;/li&gt;\n",
       "                &lt;li&gt;&lt;span style=&#x27;background:#c7c7c7&#x27;&gt;&lt;/span&gt;power&lt;/li&gt;\n",
       "                &lt;li&gt;&lt;span style=&#x27;background:#dbdb8d&#x27;&gt;&lt;/span&gt;transportation&lt;/li&gt;\n",
       "                &lt;li&gt;&lt;span style=&#x27;background:#9edae5&#x27;&gt;&lt;/span&gt;waste&lt;/li&gt;\n",
       "            &lt;/ul&gt;\n",
       "        &lt;/div&gt;\n",
       "    &lt;/div&gt;\n",
       "    \n",
       "    \n",
       "            &lt;div class=&quot;folium-map&quot; id=&quot;map_fd84ab2ffb694492172afd774b18e6a1&quot; &gt;&lt;/div&gt;\n",
       "        \n",
       "&lt;/body&gt;\n",
       "&lt;script&gt;\n",
       "    \n",
       "    \n",
       "            var map_fd84ab2ffb694492172afd774b18e6a1 = L.map(\n",
       "                &quot;map_fd84ab2ffb694492172afd774b18e6a1&quot;,\n",
       "                {\n",
       "                    center: [52.59283, 4.974185],\n",
       "                    crs: L.CRS.EPSG3857,\n",
       "                    zoom: 10,\n",
       "                    zoomControl: true,\n",
       "                    preferCanvas: false,\n",
       "                }\n",
       "            );\n",
       "            L.control.scale().addTo(map_fd84ab2ffb694492172afd774b18e6a1);\n",
       "\n",
       "            \n",
       "\n",
       "        \n",
       "    \n",
       "            var tile_layer_c1154dcc05b2d5525908524b16cd13d6 = L.tileLayer(\n",
       "                &quot;https://tile.openstreetmap.org/{z}/{x}/{y}.png&quot;,\n",
       "                {&quot;attribution&quot;: &quot;\\u0026copy; \\u003ca href=\\&quot;https://www.openstreetmap.org/copyright\\&quot;\\u003eOpenStreetMap\\u003c/a\\u003e contributors&quot;, &quot;detectRetina&quot;: false, &quot;maxNativeZoom&quot;: 19, &quot;maxZoom&quot;: 19, &quot;minZoom&quot;: 0, &quot;noWrap&quot;: false, &quot;opacity&quot;: 1, &quot;subdomains&quot;: &quot;abc&quot;, &quot;tms&quot;: false}\n",
       "            );\n",
       "        \n",
       "    \n",
       "            tile_layer_c1154dcc05b2d5525908524b16cd13d6.addTo(map_fd84ab2ffb694492172afd774b18e6a1);\n",
       "        \n",
       "    \n",
       "            map_fd84ab2ffb694492172afd774b18e6a1.fitBounds(\n",
       "                [[52.21196, 4.49268], [52.9737, 5.45569]],\n",
       "                {}\n",
       "            );\n",
       "        \n",
       "    \n",
       "        function geo_json_76a5d272ce75e92d1afb0f854ddf4ac7_styler(feature) {\n",
       "            switch(feature.id) {\n",
       "                case &quot;0&quot;: \n",
       "                    return {&quot;color&quot;: &quot;#c49c94&quot;, &quot;fillColor&quot;: &quot;#c49c94&quot;, &quot;fillOpacity&quot;: 0.5, &quot;radius&quot;: 44.13661419419736, &quot;weight&quot;: 2};\n",
       "                case &quot;1&quot;: case &quot;2&quot;: case &quot;3&quot;: case &quot;4&quot;: case &quot;5&quot;: case &quot;6&quot;: case &quot;7&quot;: case &quot;9&quot;: case &quot;10&quot;: \n",
       "                    return {&quot;color&quot;: &quot;#c49c94&quot;, &quot;fillColor&quot;: &quot;#c49c94&quot;, &quot;fillOpacity&quot;: 0.5, &quot;radius&quot;: 13.60880589341133, &quot;weight&quot;: 2};\n",
       "                default:\n",
       "                    return {&quot;color&quot;: &quot;#c49c94&quot;, &quot;fillColor&quot;: &quot;#c49c94&quot;, &quot;fillOpacity&quot;: 0.5, &quot;radius&quot;: 6.146148532499409, &quot;weight&quot;: 2};\n",
       "            }\n",
       "        }\n",
       "        function geo_json_76a5d272ce75e92d1afb0f854ddf4ac7_highlighter(feature) {\n",
       "            switch(feature.id) {\n",
       "                default:\n",
       "                    return {&quot;fillOpacity&quot;: 0.75};\n",
       "            }\n",
       "        }\n",
       "        function geo_json_76a5d272ce75e92d1afb0f854ddf4ac7_pointToLayer(feature, latlng) {\n",
       "            var opts = {&quot;bubblingMouseEvents&quot;: true, &quot;color&quot;: &quot;#3388ff&quot;, &quot;dashArray&quot;: null, &quot;dashOffset&quot;: null, &quot;fill&quot;: true, &quot;fillColor&quot;: &quot;#3388ff&quot;, &quot;fillOpacity&quot;: 0.2, &quot;fillRule&quot;: &quot;evenodd&quot;, &quot;lineCap&quot;: &quot;round&quot;, &quot;lineJoin&quot;: &quot;round&quot;, &quot;opacity&quot;: 1.0, &quot;radius&quot;: 2, &quot;stroke&quot;: true, &quot;weight&quot;: 3};\n",
       "            \n",
       "            let style = geo_json_76a5d272ce75e92d1afb0f854ddf4ac7_styler(feature)\n",
       "            Object.assign(opts, style)\n",
       "            \n",
       "            return new L.CircleMarker(latlng, opts)\n",
       "        }\n",
       "\n",
       "        function geo_json_76a5d272ce75e92d1afb0f854ddf4ac7_onEachFeature(feature, layer) {\n",
       "            layer.on({\n",
       "                mouseout: function(e) {\n",
       "                    if(typeof e.target.setStyle === &quot;function&quot;){\n",
       "                            geo_json_76a5d272ce75e92d1afb0f854ddf4ac7.resetStyle(e.target);\n",
       "                    }\n",
       "                },\n",
       "                mouseover: function(e) {\n",
       "                    if(typeof e.target.setStyle === &quot;function&quot;){\n",
       "                        const highlightStyle = geo_json_76a5d272ce75e92d1afb0f854ddf4ac7_highlighter(e.target.feature)\n",
       "                        e.target.setStyle(highlightStyle);\n",
       "                    }\n",
       "                },\n",
       "            });\n",
       "        };\n",
       "        var geo_json_76a5d272ce75e92d1afb0f854ddf4ac7 = L.geoJson(null, {\n",
       "                onEachFeature: geo_json_76a5d272ce75e92d1afb0f854ddf4ac7_onEachFeature,\n",
       "            \n",
       "                style: geo_json_76a5d272ce75e92d1afb0f854ddf4ac7_styler,\n",
       "                pointToLayer: geo_json_76a5d272ce75e92d1afb0f854ddf4ac7_pointToLayer,\n",
       "        });\n",
       "\n",
       "        function geo_json_76a5d272ce75e92d1afb0f854ddf4ac7_add (data) {\n",
       "            geo_json_76a5d272ce75e92d1afb0f854ddf4ac7\n",
       "                .addData(data);\n",
       "        }\n",
       "            geo_json_76a5d272ce75e92d1afb0f854ddf4ac7_add({&quot;bbox&quot;: [4.49268, 52.21196, 5.45569, 52.9737], &quot;features&quot;: [{&quot;bbox&quot;: [4.60665426159174, 52.4828927959073, 4.60665426159174, 52.4828927959073], &quot;geometry&quot;: {&quot;coordinates&quot;: [4.60665426159174, 52.4828927959073], &quot;type&quot;: &quot;Point&quot;}, &quot;id&quot;: &quot;0&quot;, &quot;properties&quot;: {&quot;__folium_color&quot;: &quot;#c49c94&quot;, &quot;emissions_quantity&quot;: 13301230.660038257, &quot;geometry_ref&quot;: &quot;trace_4.60665426159174_52.4828927959073&quot;, &quot;lat&quot;: 52.4828927959073, &quot;lon&quot;: 4.60665426159174, &quot;sector&quot;: &quot;manufacturing&quot;, &quot;source_id&quot;: 1566991, &quot;source_name&quot;: &quot;Tata Steel IJmuiden steel plant&quot;, &quot;subsector&quot;: &quot;iron-and-steel&quot;}, &quot;type&quot;: &quot;Feature&quot;}, {&quot;bbox&quot;: [4.80977, 52.41622, 4.80977, 52.41622], &quot;geometry&quot;: {&quot;coordinates&quot;: [4.80977, 52.41622], &quot;type&quot;: &quot;Point&quot;}, &quot;id&quot;: &quot;1&quot;, &quot;properties&quot;: {&quot;__folium_color&quot;: &quot;#c49c94&quot;, &quot;emissions_quantity&quot;: 64971.71201993652, &quot;geometry_ref&quot;: &quot;trace_4.80977_52.41622&quot;, &quot;lat&quot;: 52.41622, &quot;lon&quot;: 4.80977, &quot;sector&quot;: &quot;manufacturing&quot;, &quot;source_id&quot;: 31734111, &quot;source_name&quot;: &quot;Wild juice B.V.&quot;, &quot;subsector&quot;: &quot;food-beverage-tobacco&quot;}, &quot;type&quot;: &quot;Feature&quot;}, {&quot;bbox&quot;: [4.80837, 52.47008, 4.80837, 52.47008], &quot;geometry&quot;: {&quot;coordinates&quot;: [4.80837, 52.47008], &quot;type&quot;: &quot;Point&quot;}, &quot;id&quot;: &quot;2&quot;, &quot;properties&quot;: {&quot;__folium_color&quot;: &quot;#c49c94&quot;, &quot;emissions_quantity&quot;: 64971.71201993654, &quot;geometry_ref&quot;: &quot;trace_4.80837_52.47008&quot;, &quot;lat&quot;: 52.47008, &quot;lon&quot;: 4.80837, &quot;sector&quot;: &quot;manufacturing&quot;, &quot;source_id&quot;: 31734147, &quot;source_name&quot;: &quot;Olam Cocoa BV&quot;, &quot;subsector&quot;: &quot;food-beverage-tobacco&quot;}, &quot;type&quot;: &quot;Feature&quot;}, {&quot;bbox&quot;: [4.81186, 52.46475, 4.81186, 52.46475], &quot;geometry&quot;: {&quot;coordinates&quot;: [4.81186, 52.46475], &quot;type&quot;: &quot;Point&quot;}, &quot;id&quot;: &quot;3&quot;, &quot;properties&quot;: {&quot;__folium_color&quot;: &quot;#c49c94&quot;, &quot;emissions_quantity&quot;: 64971.712019936516, &quot;geometry_ref&quot;: &quot;trace_4.81186_52.46475&quot;, &quot;lat&quot;: 52.46475, &quot;lon&quot;: 4.81186, &quot;sector&quot;: &quot;manufacturing&quot;, &quot;source_id&quot;: 31734052, &quot;source_name&quot;: &quot;Tate \\u0026 Lyle Netherlands BV&quot;, &quot;subsector&quot;: &quot;food-beverage-tobacco&quot;}, &quot;type&quot;: &quot;Feature&quot;}, {&quot;bbox&quot;: [5.45569, 52.9737, 5.45569, 52.9737], &quot;geometry&quot;: {&quot;coordinates&quot;: [5.45569, 52.9737], &quot;type&quot;: &quot;Point&quot;}, &quot;id&quot;: &quot;4&quot;, &quot;properties&quot;: {&quot;__folium_color&quot;: &quot;#c49c94&quot;, &quot;emissions_quantity&quot;: 64971.71201993652, &quot;geometry_ref&quot;: &quot;trace_5.45569_52.9737&quot;, &quot;lat&quot;: 52.9737, &quot;lon&quot;: 5.45569, &quot;sector&quot;: &quot;manufacturing&quot;, &quot;source_id&quot;: 31734115, &quot;source_name&quot;: &quot;FrieslandCampina Workum&quot;, &quot;subsector&quot;: &quot;food-beverage-tobacco&quot;}, &quot;type&quot;: &quot;Feature&quot;}, {&quot;bbox&quot;: [4.49268, 52.21196, 4.49268, 52.21196], &quot;geometry&quot;: {&quot;coordinates&quot;: [4.49268, 52.21196], &quot;type&quot;: &quot;Point&quot;}, &quot;id&quot;: &quot;5&quot;, &quot;properties&quot;: {&quot;__folium_color&quot;: &quot;#c49c94&quot;, &quot;emissions_quantity&quot;: 64971.712019936545, &quot;geometry_ref&quot;: &quot;trace_4.49268_52.21196&quot;, &quot;lat&quot;: 52.21196, &quot;lon&quot;: 4.49268, &quot;sector&quot;: &quot;manufacturing&quot;, &quot;source_id&quot;: 31734127, &quot;source_name&quot;: &quot;Sassenheimse Vleesbedrijven BV&quot;, &quot;subsector&quot;: &quot;food-beverage-tobacco&quot;}, &quot;type&quot;: &quot;Feature&quot;}, {&quot;bbox&quot;: [4.86474, 52.4016, 4.86474, 52.4016], &quot;geometry&quot;: {&quot;coordinates&quot;: [4.86474, 52.4016], &quot;type&quot;: &quot;Point&quot;}, &quot;id&quot;: &quot;6&quot;, &quot;properties&quot;: {&quot;__folium_color&quot;: &quot;#c49c94&quot;, &quot;emissions_quantity&quot;: 64971.71201993652, &quot;geometry_ref&quot;: &quot;trace_4.86474_52.4016&quot;, &quot;lat&quot;: 52.4016, &quot;lon&quot;: 4.86474, &quot;sector&quot;: &quot;manufacturing&quot;, &quot;source_id&quot;: 31734053, &quot;source_name&quot;: &quot;Bunge Netherlands BV (Soja)&quot;, &quot;subsector&quot;: &quot;food-beverage-tobacco&quot;}, &quot;type&quot;: &quot;Feature&quot;}, {&quot;bbox&quot;: [4.7697, 52.41176, 4.7697, 52.41176], &quot;geometry&quot;: {&quot;coordinates&quot;: [4.7697, 52.41176], &quot;type&quot;: &quot;Point&quot;}, &quot;id&quot;: &quot;7&quot;, &quot;properties&quot;: {&quot;__folium_color&quot;: &quot;#c49c94&quot;, &quot;emissions_quantity&quot;: 64971.71201993653, &quot;geometry_ref&quot;: &quot;trace_4.7697_52.41176&quot;, &quot;lat&quot;: 52.41176, &quot;lon&quot;: 4.7697, &quot;sector&quot;: &quot;manufacturing&quot;, &quot;source_id&quot;: 31734054, &quot;source_name&quot;: &quot;Cargill BV (Multiseed)&quot;, &quot;subsector&quot;: &quot;food-beverage-tobacco&quot;}, &quot;type&quot;: &quot;Feature&quot;}, {&quot;bbox&quot;: [4.7939165, 52.4955119, 4.7939165, 52.4955119], &quot;geometry&quot;: {&quot;coordinates&quot;: [4.7939165, 52.4955119], &quot;type&quot;: &quot;Point&quot;}, &quot;id&quot;: &quot;8&quot;, &quot;properties&quot;: {&quot;__folium_color&quot;: &quot;#c49c94&quot;, &quot;emissions_quantity&quot;: 4925.885780298911, &quot;geometry_ref&quot;: &quot;trace_4.7939165_52.4955119&quot;, &quot;lat&quot;: 52.4955119, &quot;lon&quot;: 4.7939165, &quot;sector&quot;: &quot;manufacturing&quot;, &quot;source_id&quot;: 31732199, &quot;source_name&quot;: &quot;Content Gordijnatelier Zaanstad B.V.&quot;, &quot;subsector&quot;: &quot;textiles-leather-apparel&quot;}, &quot;type&quot;: &quot;Feature&quot;}, {&quot;bbox&quot;: [4.81815, 52.46406, 4.81815, 52.46406], &quot;geometry&quot;: {&quot;coordinates&quot;: [4.81815, 52.46406], &quot;type&quot;: &quot;Point&quot;}, &quot;id&quot;: &quot;9&quot;, &quot;properties&quot;: {&quot;__folium_color&quot;: &quot;#c49c94&quot;, &quot;emissions_quantity&quot;: 64971.71201993653, &quot;geometry_ref&quot;: &quot;trace_4.81815_52.46406&quot;, &quot;lat&quot;: 52.46406, &quot;lon&quot;: 4.81815, &quot;sector&quot;: &quot;manufacturing&quot;, &quot;source_id&quot;: 31734164, &quot;source_name&quot;: &quot;Cargill BV - Cargill Cocoa (Aurora)&quot;, &quot;subsector&quot;: &quot;food-beverage-tobacco&quot;}, &quot;type&quot;: &quot;Feature&quot;}, {&quot;bbox&quot;: [4.87436, 52.55675, 4.87436, 52.55675], &quot;geometry&quot;: {&quot;coordinates&quot;: [4.87436, 52.55675], &quot;type&quot;: &quot;Point&quot;}, &quot;id&quot;: &quot;10&quot;, &quot;properties&quot;: {&quot;__folium_color&quot;: &quot;#c49c94&quot;, &quot;emissions_quantity&quot;: 64971.71201993652, &quot;geometry_ref&quot;: &quot;trace_4.87436_52.55675&quot;, &quot;lat&quot;: 52.55675, &quot;lon&quot;: 4.87436, &quot;sector&quot;: &quot;manufacturing&quot;, &quot;source_id&quot;: 31734051, &quot;source_name&quot;: &quot;CONO Kaasmakers (Middenbeemster)&quot;, &quot;subsector&quot;: &quot;food-beverage-tobacco&quot;}, &quot;type&quot;: &quot;Feature&quot;}], &quot;type&quot;: &quot;FeatureCollection&quot;});\n",
       "\n",
       "        \n",
       "    \n",
       "    geo_json_76a5d272ce75e92d1afb0f854ddf4ac7.bindTooltip(\n",
       "    function(layer){\n",
       "    let div = L.DomUtil.create(&#x27;div&#x27;);\n",
       "    \n",
       "    let handleObject = feature=&gt;typeof(feature)==&#x27;object&#x27; ? JSON.stringify(feature) : feature;\n",
       "    let fields = [&quot;source_id&quot;, &quot;geometry_ref&quot;, &quot;emissions_quantity&quot;, &quot;sector&quot;, &quot;subsector&quot;, &quot;source_name&quot;, &quot;lat&quot;, &quot;lon&quot;];\n",
       "    let aliases = [&quot;source_id&quot;, &quot;geometry_ref&quot;, &quot;emissions_quantity&quot;, &quot;sector&quot;, &quot;subsector&quot;, &quot;source_name&quot;, &quot;lat&quot;, &quot;lon&quot;];\n",
       "    let table = &#x27;&lt;table&gt;&#x27; +\n",
       "        String(\n",
       "        fields.map(\n",
       "        (v,i)=&gt;\n",
       "        `&lt;tr&gt;\n",
       "            &lt;th&gt;${aliases[i]}&lt;/th&gt;\n",
       "            \n",
       "            &lt;td&gt;${handleObject(layer.feature.properties[v])}&lt;/td&gt;\n",
       "        &lt;/tr&gt;`).join(&#x27;&#x27;))\n",
       "    +&#x27;&lt;/table&gt;&#x27;;\n",
       "    div.innerHTML=table;\n",
       "    \n",
       "    return div\n",
       "    }\n",
       "    ,{&quot;className&quot;: &quot;foliumtooltip&quot;, &quot;sticky&quot;: true});\n",
       "                     \n",
       "    \n",
       "            geo_json_76a5d272ce75e92d1afb0f854ddf4ac7.addTo(map_fd84ab2ffb694492172afd774b18e6a1);\n",
       "        \n",
       "&lt;/script&gt;\n",
       "&lt;/html&gt;\" style=\"position:absolute;width:100%;height:100%;left:0;top:0;border:none !important;\" allowfullscreen webkitallowfullscreen mozallowfullscreen></iframe></div></div>"
      ],
      "text/plain": [
       "<folium.folium.Map at 0x71b6f00d5240>"
      ]
     },
     "execution_count": 62,
     "metadata": {},
     "output_type": "execute_result"
    }
   ],
   "source": [
    "import numpy as np\n",
    "point_geoms_df = point_biz_data.to_pandas()\n",
    "point_geoms_pdf = geopandas.GeoDataFrame(point_geoms_df,\n",
    "                                         geometry=geopandas.points_from_xy(point_geoms_df['lon'],point_geoms_df['lat']), crs=\"EPSG:4326\")\n",
    "point_geoms_pdf.explore(\n",
    "    column=\"sector\",\n",
    "    style_kwds={\"style_function\":lambda x: {\"radius\":np.log(np.abs(x[\"properties\"][\"emissions_quantity\"]))**3/100}}\n",
    ")"
   ]
  },
  {
   "cell_type": "code",
   "execution_count": 63,
   "metadata": {},
   "outputs": [
    {
     "data": {
      "text/html": [
       "<div><style>\n",
       ".dataframe > thead > tr,\n",
       ".dataframe > tbody > tr {\n",
       "  text-align: right;\n",
       "  white-space: pre-wrap;\n",
       "}\n",
       "</style>\n",
       "<small>shape: (24, 10)</small><table border=\"1\" class=\"dataframe\"><thead><tr><th>source_id</th><th>gas</th><th>year</th><th>geometry_ref</th><th>emissions_quantity</th><th>sector</th><th>subsector</th><th>source_name</th><th>lat</th><th>lon</th></tr><tr><td>u64</td><td>enum</td><td>i32</td><td>str</td><td>f64</td><td>enum</td><td>enum</td><td>str</td><td>f64</td><td>f64</td></tr></thead><tbody><tr><td>8350806</td><td>&quot;co2&quot;</td><td>2024</td><td>&quot;gadm_NLD.9.48_1&quot;</td><td>3374.68</td><td>&quot;forestry-and-land-use&quot;</td><td>&quot;net-forest-land&quot;</td><td>&quot;Texel&quot;</td><td>53.068699</td><td>4.752617</td></tr><tr><td>1038073</td><td>&quot;co2&quot;</td><td>2023</td><td>&quot;gadm_NLD.9.48_1&quot;</td><td>3316.65297</td><td>&quot;buildings&quot;</td><td>&quot;non-residential-onsite-fuel-us…</td><td>&quot;Texel&quot;</td><td>53.068699</td><td>4.752617</td></tr><tr><td>4699123</td><td>&quot;co2&quot;</td><td>2023</td><td>&quot;gadm_NLD.9.48_1&quot;</td><td>-96.0185</td><td>&quot;forestry-and-land-use&quot;</td><td>&quot;net-wetland&quot;</td><td>&quot;Texel&quot;</td><td>53.068699</td><td>4.752617</td></tr><tr><td>8350806</td><td>&quot;co2&quot;</td><td>2022</td><td>&quot;gadm_NLD.9.48_1&quot;</td><td>-4033.14</td><td>&quot;forestry-and-land-use&quot;</td><td>&quot;net-forest-land&quot;</td><td>&quot;Texel&quot;</td><td>53.068699</td><td>4.752617</td></tr><tr><td>1335309</td><td>&quot;co2&quot;</td><td>2022</td><td>&quot;gadm_NLD.9.48_1&quot;</td><td>23526.06366</td><td>&quot;buildings&quot;</td><td>&quot;residential-onsite-fuel-usage&quot;</td><td>&quot;Texel&quot;</td><td>53.068699</td><td>4.752617</td></tr><tr><td>&hellip;</td><td>&hellip;</td><td>&hellip;</td><td>&hellip;</td><td>&hellip;</td><td>&hellip;</td><td>&hellip;</td><td>&hellip;</td><td>&hellip;</td><td>&hellip;</td></tr><tr><td>11173590</td><td>&quot;co2&quot;</td><td>2022</td><td>&quot;gadm_NLD.9.48_1&quot;</td><td>1.54798</td><td>&quot;agriculture&quot;</td><td>&quot;cropland-fires&quot;</td><td>&quot;Texel&quot;</td><td>53.068699</td><td>4.752617</td></tr><tr><td>1335309</td><td>&quot;co2&quot;</td><td>2023</td><td>&quot;gadm_NLD.9.48_1&quot;</td><td>23084.322</td><td>&quot;buildings&quot;</td><td>&quot;residential-onsite-fuel-usage&quot;</td><td>&quot;Texel&quot;</td><td>53.068699</td><td>4.752617</td></tr><tr><td>11173590</td><td>&quot;co2&quot;</td><td>2023</td><td>&quot;gadm_NLD.9.48_1&quot;</td><td>1.54798</td><td>&quot;agriculture&quot;</td><td>&quot;cropland-fires&quot;</td><td>&quot;Texel&quot;</td><td>53.068699</td><td>4.752617</td></tr><tr><td>8350806</td><td>&quot;co2&quot;</td><td>2023</td><td>&quot;gadm_NLD.9.48_1&quot;</td><td>3374.68</td><td>&quot;forestry-and-land-use&quot;</td><td>&quot;net-forest-land&quot;</td><td>&quot;Texel&quot;</td><td>53.068699</td><td>4.752617</td></tr><tr><td>4781487</td><td>&quot;co2&quot;</td><td>2023</td><td>&quot;gadm_NLD.9.48_1&quot;</td><td>2536.577</td><td>&quot;forestry-and-land-use&quot;</td><td>&quot;net-shrubgrass&quot;</td><td>&quot;Texel&quot;</td><td>53.068699</td><td>4.752617</td></tr></tbody></table></div>"
      ],
      "text/plain": [
       "shape: (24, 10)\n",
       "┌───────────┬──────┬──────┬───────────────┬───┬───────────────┬─────────────┬───────────┬──────────┐\n",
       "│ source_id ┆ gas  ┆ year ┆ geometry_ref  ┆ … ┆ subsector     ┆ source_name ┆ lat       ┆ lon      │\n",
       "│ ---       ┆ ---  ┆ ---  ┆ ---           ┆   ┆ ---           ┆ ---         ┆ ---       ┆ ---      │\n",
       "│ u64       ┆ enum ┆ i32  ┆ str           ┆   ┆ enum          ┆ str         ┆ f64       ┆ f64      │\n",
       "╞═══════════╪══════╪══════╪═══════════════╪═══╪═══════════════╪═════════════╪═══════════╪══════════╡\n",
       "│ 8350806   ┆ co2  ┆ 2024 ┆ gadm_NLD.9.48 ┆ … ┆ net-forest-la ┆ Texel       ┆ 53.068699 ┆ 4.752617 │\n",
       "│           ┆      ┆      ┆ _1            ┆   ┆ nd            ┆             ┆           ┆          │\n",
       "│ 1038073   ┆ co2  ┆ 2023 ┆ gadm_NLD.9.48 ┆ … ┆ non-residenti ┆ Texel       ┆ 53.068699 ┆ 4.752617 │\n",
       "│           ┆      ┆      ┆ _1            ┆   ┆ al-onsite-fue ┆             ┆           ┆          │\n",
       "│           ┆      ┆      ┆               ┆   ┆ l-us…         ┆             ┆           ┆          │\n",
       "│ 4699123   ┆ co2  ┆ 2023 ┆ gadm_NLD.9.48 ┆ … ┆ net-wetland   ┆ Texel       ┆ 53.068699 ┆ 4.752617 │\n",
       "│           ┆      ┆      ┆ _1            ┆   ┆               ┆             ┆           ┆          │\n",
       "│ 8350806   ┆ co2  ┆ 2022 ┆ gadm_NLD.9.48 ┆ … ┆ net-forest-la ┆ Texel       ┆ 53.068699 ┆ 4.752617 │\n",
       "│           ┆      ┆      ┆ _1            ┆   ┆ nd            ┆             ┆           ┆          │\n",
       "│ 1335309   ┆ co2  ┆ 2022 ┆ gadm_NLD.9.48 ┆ … ┆ residential-o ┆ Texel       ┆ 53.068699 ┆ 4.752617 │\n",
       "│           ┆      ┆      ┆ _1            ┆   ┆ nsite-fuel-us ┆             ┆           ┆          │\n",
       "│           ┆      ┆      ┆               ┆   ┆ age           ┆             ┆           ┆          │\n",
       "│ …         ┆ …    ┆ …    ┆ …             ┆ … ┆ …             ┆ …           ┆ …         ┆ …        │\n",
       "│ 11173590  ┆ co2  ┆ 2022 ┆ gadm_NLD.9.48 ┆ … ┆ cropland-fire ┆ Texel       ┆ 53.068699 ┆ 4.752617 │\n",
       "│           ┆      ┆      ┆ _1            ┆   ┆ s             ┆             ┆           ┆          │\n",
       "│ 1335309   ┆ co2  ┆ 2023 ┆ gadm_NLD.9.48 ┆ … ┆ residential-o ┆ Texel       ┆ 53.068699 ┆ 4.752617 │\n",
       "│           ┆      ┆      ┆ _1            ┆   ┆ nsite-fuel-us ┆             ┆           ┆          │\n",
       "│           ┆      ┆      ┆               ┆   ┆ age           ┆             ┆           ┆          │\n",
       "│ 11173590  ┆ co2  ┆ 2023 ┆ gadm_NLD.9.48 ┆ … ┆ cropland-fire ┆ Texel       ┆ 53.068699 ┆ 4.752617 │\n",
       "│           ┆      ┆      ┆ _1            ┆   ┆ s             ┆             ┆           ┆          │\n",
       "│ 8350806   ┆ co2  ┆ 2023 ┆ gadm_NLD.9.48 ┆ … ┆ net-forest-la ┆ Texel       ┆ 53.068699 ┆ 4.752617 │\n",
       "│           ┆      ┆      ┆ _1            ┆   ┆ nd            ┆             ┆           ┆          │\n",
       "│ 4781487   ┆ co2  ┆ 2023 ┆ gadm_NLD.9.48 ┆ … ┆ net-shrubgras ┆ Texel       ┆ 53.068699 ┆ 4.752617 │\n",
       "│           ┆      ┆      ┆ _1            ┆   ┆ s             ┆             ┆           ┆          │\n",
       "└───────────┴──────┴──────┴───────────────┴───┴───────────────┴─────────────┴───────────┴──────────┘"
      ]
     },
     "execution_count": 63,
     "metadata": {},
     "output_type": "execute_result"
    }
   ],
   "source": [
    "c_year = pl.col(\"year\")\n",
    "gadm_biz_data = (ct.read_source_emissions(\n",
    "    gas=CO2,\n",
    "    year=[2022,2023,2024]\n",
    ").with_columns(c_start_time.dt.year().alias(\"year\"))\n",
    " .group_by(c_source_id, c_gas, c_year)\n",
    " .agg(c_geometry_ref.first(), c_emissions_quantity.sum(), c_sector.first(), c_subsector.first(), c_source_name.first(), c_lat.first(), c_lon.first())\n",
    " .filter(c_geometry_ref.is_in(gadms_ref))\n",
    " .filter(c_emissions_quantity != 0)\n",
    " .collect()\n",
    ")\n",
    "gadm_biz_data"
   ]
  },
  {
   "cell_type": "code",
   "execution_count": 64,
   "metadata": {},
   "outputs": [
    {
     "data": {
      "application/vnd.plotly.v1+json": {
       "config": {
        "plotlyServerURL": "https://plot.ly"
       },
       "data": [
        {
         "alignmentgroup": "True",
         "hovertemplate": "sector=forestry-and-land-use<br>subsector=%{x}<br>emissions_quantity=%{y}<extra></extra>",
         "legendgroup": "forestry-and-land-use",
         "marker": {
          "color": "#636efa",
          "pattern": {
           "shape": ""
          }
         },
         "name": "forestry-and-land-use",
         "offsetgroup": "forestry-and-land-use",
         "orientation": "v",
         "showlegend": true,
         "textposition": "auto",
         "type": "bar",
         "x": [
          "net-wetland",
          "net-shrubgrass",
          "net-forest-land",
          "removals"
         ],
         "xaxis": "x",
         "y": [
          -96.0184999999995,
          2536.5769999999006,
          3374.6799999999002,
          5815.252749999999
         ],
         "yaxis": "y"
        },
        {
         "alignmentgroup": "True",
         "hovertemplate": "sector=agriculture<br>subsector=%{x}<br>emissions_quantity=%{y}<extra></extra>",
         "legendgroup": "agriculture",
         "marker": {
          "color": "#EF553B",
          "pattern": {
           "shape": ""
          }
         },
         "name": "agriculture",
         "offsetgroup": "agriculture",
         "orientation": "v",
         "showlegend": true,
         "textposition": "auto",
         "type": "bar",
         "x": [
          "cropland-fires"
         ],
         "xaxis": "x",
         "y": [
          1.547979829921725
         ],
         "yaxis": "y"
        },
        {
         "alignmentgroup": "True",
         "hovertemplate": "sector=buildings<br>subsector=%{x}<br>emissions_quantity=%{y}<extra></extra>",
         "legendgroup": "buildings",
         "marker": {
          "color": "#00cc96",
          "pattern": {
           "shape": ""
          }
         },
         "name": "buildings",
         "offsetgroup": "buildings",
         "orientation": "v",
         "showlegend": true,
         "textposition": "auto",
         "type": "bar",
         "x": [
          "non-residential-onsite-fuel-usage",
          "residential-onsite-fuel-usage"
         ],
         "xaxis": "x",
         "y": [
          3316.65297,
          23084.321999999996
         ],
         "yaxis": "y"
        },
        {
         "alignmentgroup": "True",
         "hovertemplate": "sector=transportation<br>subsector=%{x}<br>emissions_quantity=%{y}<extra></extra>",
         "legendgroup": "transportation",
         "marker": {
          "color": "#ab63fa",
          "pattern": {
           "shape": ""
          }
         },
         "name": "transportation",
         "offsetgroup": "transportation",
         "orientation": "v",
         "showlegend": true,
         "textposition": "auto",
         "type": "bar",
         "x": [
          "road-transportation"
         ],
         "xaxis": "x",
         "y": [
          26015.67013839413
         ],
         "yaxis": "y"
        }
       ],
       "layout": {
        "autosize": true,
        "barmode": "relative",
        "legend": {
         "title": {
          "text": "sector"
         },
         "tracegroupgap": 0
        },
        "margin": {
         "t": 60
        },
        "template": {
         "data": {
          "bar": [
           {
            "error_x": {
             "color": "#2a3f5f"
            },
            "error_y": {
             "color": "#2a3f5f"
            },
            "marker": {
             "line": {
              "color": "white",
              "width": 0.5
             },
             "pattern": {
              "fillmode": "overlay",
              "size": 10,
              "solidity": 0.2
             }
            },
            "type": "bar"
           }
          ],
          "barpolar": [
           {
            "marker": {
             "line": {
              "color": "white",
              "width": 0.5
             },
             "pattern": {
              "fillmode": "overlay",
              "size": 10,
              "solidity": 0.2
             }
            },
            "type": "barpolar"
           }
          ],
          "carpet": [
           {
            "aaxis": {
             "endlinecolor": "#2a3f5f",
             "gridcolor": "#C8D4E3",
             "linecolor": "#C8D4E3",
             "minorgridcolor": "#C8D4E3",
             "startlinecolor": "#2a3f5f"
            },
            "baxis": {
             "endlinecolor": "#2a3f5f",
             "gridcolor": "#C8D4E3",
             "linecolor": "#C8D4E3",
             "minorgridcolor": "#C8D4E3",
             "startlinecolor": "#2a3f5f"
            },
            "type": "carpet"
           }
          ],
          "choropleth": [
           {
            "colorbar": {
             "outlinewidth": 0,
             "ticks": ""
            },
            "type": "choropleth"
           }
          ],
          "contour": [
           {
            "colorbar": {
             "outlinewidth": 0,
             "ticks": ""
            },
            "colorscale": [
             [
              0,
              "#0d0887"
             ],
             [
              0.1111111111111111,
              "#46039f"
             ],
             [
              0.2222222222222222,
              "#7201a8"
             ],
             [
              0.3333333333333333,
              "#9c179e"
             ],
             [
              0.4444444444444444,
              "#bd3786"
             ],
             [
              0.5555555555555556,
              "#d8576b"
             ],
             [
              0.6666666666666666,
              "#ed7953"
             ],
             [
              0.7777777777777778,
              "#fb9f3a"
             ],
             [
              0.8888888888888888,
              "#fdca26"
             ],
             [
              1,
              "#f0f921"
             ]
            ],
            "type": "contour"
           }
          ],
          "contourcarpet": [
           {
            "colorbar": {
             "outlinewidth": 0,
             "ticks": ""
            },
            "type": "contourcarpet"
           }
          ],
          "heatmap": [
           {
            "colorbar": {
             "outlinewidth": 0,
             "ticks": ""
            },
            "colorscale": [
             [
              0,
              "#0d0887"
             ],
             [
              0.1111111111111111,
              "#46039f"
             ],
             [
              0.2222222222222222,
              "#7201a8"
             ],
             [
              0.3333333333333333,
              "#9c179e"
             ],
             [
              0.4444444444444444,
              "#bd3786"
             ],
             [
              0.5555555555555556,
              "#d8576b"
             ],
             [
              0.6666666666666666,
              "#ed7953"
             ],
             [
              0.7777777777777778,
              "#fb9f3a"
             ],
             [
              0.8888888888888888,
              "#fdca26"
             ],
             [
              1,
              "#f0f921"
             ]
            ],
            "type": "heatmap"
           }
          ],
          "heatmapgl": [
           {
            "colorbar": {
             "outlinewidth": 0,
             "ticks": ""
            },
            "colorscale": [
             [
              0,
              "#0d0887"
             ],
             [
              0.1111111111111111,
              "#46039f"
             ],
             [
              0.2222222222222222,
              "#7201a8"
             ],
             [
              0.3333333333333333,
              "#9c179e"
             ],
             [
              0.4444444444444444,
              "#bd3786"
             ],
             [
              0.5555555555555556,
              "#d8576b"
             ],
             [
              0.6666666666666666,
              "#ed7953"
             ],
             [
              0.7777777777777778,
              "#fb9f3a"
             ],
             [
              0.8888888888888888,
              "#fdca26"
             ],
             [
              1,
              "#f0f921"
             ]
            ],
            "type": "heatmapgl"
           }
          ],
          "histogram": [
           {
            "marker": {
             "pattern": {
              "fillmode": "overlay",
              "size": 10,
              "solidity": 0.2
             }
            },
            "type": "histogram"
           }
          ],
          "histogram2d": [
           {
            "colorbar": {
             "outlinewidth": 0,
             "ticks": ""
            },
            "colorscale": [
             [
              0,
              "#0d0887"
             ],
             [
              0.1111111111111111,
              "#46039f"
             ],
             [
              0.2222222222222222,
              "#7201a8"
             ],
             [
              0.3333333333333333,
              "#9c179e"
             ],
             [
              0.4444444444444444,
              "#bd3786"
             ],
             [
              0.5555555555555556,
              "#d8576b"
             ],
             [
              0.6666666666666666,
              "#ed7953"
             ],
             [
              0.7777777777777778,
              "#fb9f3a"
             ],
             [
              0.8888888888888888,
              "#fdca26"
             ],
             [
              1,
              "#f0f921"
             ]
            ],
            "type": "histogram2d"
           }
          ],
          "histogram2dcontour": [
           {
            "colorbar": {
             "outlinewidth": 0,
             "ticks": ""
            },
            "colorscale": [
             [
              0,
              "#0d0887"
             ],
             [
              0.1111111111111111,
              "#46039f"
             ],
             [
              0.2222222222222222,
              "#7201a8"
             ],
             [
              0.3333333333333333,
              "#9c179e"
             ],
             [
              0.4444444444444444,
              "#bd3786"
             ],
             [
              0.5555555555555556,
              "#d8576b"
             ],
             [
              0.6666666666666666,
              "#ed7953"
             ],
             [
              0.7777777777777778,
              "#fb9f3a"
             ],
             [
              0.8888888888888888,
              "#fdca26"
             ],
             [
              1,
              "#f0f921"
             ]
            ],
            "type": "histogram2dcontour"
           }
          ],
          "mesh3d": [
           {
            "colorbar": {
             "outlinewidth": 0,
             "ticks": ""
            },
            "type": "mesh3d"
           }
          ],
          "parcoords": [
           {
            "line": {
             "colorbar": {
              "outlinewidth": 0,
              "ticks": ""
             }
            },
            "type": "parcoords"
           }
          ],
          "pie": [
           {
            "automargin": true,
            "type": "pie"
           }
          ],
          "scatter": [
           {
            "fillpattern": {
             "fillmode": "overlay",
             "size": 10,
             "solidity": 0.2
            },
            "type": "scatter"
           }
          ],
          "scatter3d": [
           {
            "line": {
             "colorbar": {
              "outlinewidth": 0,
              "ticks": ""
             }
            },
            "marker": {
             "colorbar": {
              "outlinewidth": 0,
              "ticks": ""
             }
            },
            "type": "scatter3d"
           }
          ],
          "scattercarpet": [
           {
            "marker": {
             "colorbar": {
              "outlinewidth": 0,
              "ticks": ""
             }
            },
            "type": "scattercarpet"
           }
          ],
          "scattergeo": [
           {
            "marker": {
             "colorbar": {
              "outlinewidth": 0,
              "ticks": ""
             }
            },
            "type": "scattergeo"
           }
          ],
          "scattergl": [
           {
            "marker": {
             "colorbar": {
              "outlinewidth": 0,
              "ticks": ""
             }
            },
            "type": "scattergl"
           }
          ],
          "scattermapbox": [
           {
            "marker": {
             "colorbar": {
              "outlinewidth": 0,
              "ticks": ""
             }
            },
            "type": "scattermapbox"
           }
          ],
          "scatterpolar": [
           {
            "marker": {
             "colorbar": {
              "outlinewidth": 0,
              "ticks": ""
             }
            },
            "type": "scatterpolar"
           }
          ],
          "scatterpolargl": [
           {
            "marker": {
             "colorbar": {
              "outlinewidth": 0,
              "ticks": ""
             }
            },
            "type": "scatterpolargl"
           }
          ],
          "scatterternary": [
           {
            "marker": {
             "colorbar": {
              "outlinewidth": 0,
              "ticks": ""
             }
            },
            "type": "scatterternary"
           }
          ],
          "surface": [
           {
            "colorbar": {
             "outlinewidth": 0,
             "ticks": ""
            },
            "colorscale": [
             [
              0,
              "#0d0887"
             ],
             [
              0.1111111111111111,
              "#46039f"
             ],
             [
              0.2222222222222222,
              "#7201a8"
             ],
             [
              0.3333333333333333,
              "#9c179e"
             ],
             [
              0.4444444444444444,
              "#bd3786"
             ],
             [
              0.5555555555555556,
              "#d8576b"
             ],
             [
              0.6666666666666666,
              "#ed7953"
             ],
             [
              0.7777777777777778,
              "#fb9f3a"
             ],
             [
              0.8888888888888888,
              "#fdca26"
             ],
             [
              1,
              "#f0f921"
             ]
            ],
            "type": "surface"
           }
          ],
          "table": [
           {
            "cells": {
             "fill": {
              "color": "#EBF0F8"
             },
             "line": {
              "color": "white"
             }
            },
            "header": {
             "fill": {
              "color": "#C8D4E3"
             },
             "line": {
              "color": "white"
             }
            },
            "type": "table"
           }
          ]
         },
         "layout": {
          "annotationdefaults": {
           "arrowcolor": "#2a3f5f",
           "arrowhead": 0,
           "arrowwidth": 1
          },
          "autotypenumbers": "strict",
          "coloraxis": {
           "colorbar": {
            "outlinewidth": 0,
            "ticks": ""
           }
          },
          "colorscale": {
           "diverging": [
            [
             0,
             "#8e0152"
            ],
            [
             0.1,
             "#c51b7d"
            ],
            [
             0.2,
             "#de77ae"
            ],
            [
             0.3,
             "#f1b6da"
            ],
            [
             0.4,
             "#fde0ef"
            ],
            [
             0.5,
             "#f7f7f7"
            ],
            [
             0.6,
             "#e6f5d0"
            ],
            [
             0.7,
             "#b8e186"
            ],
            [
             0.8,
             "#7fbc41"
            ],
            [
             0.9,
             "#4d9221"
            ],
            [
             1,
             "#276419"
            ]
           ],
           "sequential": [
            [
             0,
             "#0d0887"
            ],
            [
             0.1111111111111111,
             "#46039f"
            ],
            [
             0.2222222222222222,
             "#7201a8"
            ],
            [
             0.3333333333333333,
             "#9c179e"
            ],
            [
             0.4444444444444444,
             "#bd3786"
            ],
            [
             0.5555555555555556,
             "#d8576b"
            ],
            [
             0.6666666666666666,
             "#ed7953"
            ],
            [
             0.7777777777777778,
             "#fb9f3a"
            ],
            [
             0.8888888888888888,
             "#fdca26"
            ],
            [
             1,
             "#f0f921"
            ]
           ],
           "sequentialminus": [
            [
             0,
             "#0d0887"
            ],
            [
             0.1111111111111111,
             "#46039f"
            ],
            [
             0.2222222222222222,
             "#7201a8"
            ],
            [
             0.3333333333333333,
             "#9c179e"
            ],
            [
             0.4444444444444444,
             "#bd3786"
            ],
            [
             0.5555555555555556,
             "#d8576b"
            ],
            [
             0.6666666666666666,
             "#ed7953"
            ],
            [
             0.7777777777777778,
             "#fb9f3a"
            ],
            [
             0.8888888888888888,
             "#fdca26"
            ],
            [
             1,
             "#f0f921"
            ]
           ]
          },
          "colorway": [
           "#636efa",
           "#EF553B",
           "#00cc96",
           "#ab63fa",
           "#FFA15A",
           "#19d3f3",
           "#FF6692",
           "#B6E880",
           "#FF97FF",
           "#FECB52"
          ],
          "font": {
           "color": "#2a3f5f"
          },
          "geo": {
           "bgcolor": "white",
           "lakecolor": "white",
           "landcolor": "white",
           "showlakes": true,
           "showland": true,
           "subunitcolor": "#C8D4E3"
          },
          "hoverlabel": {
           "align": "left"
          },
          "hovermode": "closest",
          "mapbox": {
           "style": "light"
          },
          "paper_bgcolor": "white",
          "plot_bgcolor": "white",
          "polar": {
           "angularaxis": {
            "gridcolor": "#EBF0F8",
            "linecolor": "#EBF0F8",
            "ticks": ""
           },
           "bgcolor": "white",
           "radialaxis": {
            "gridcolor": "#EBF0F8",
            "linecolor": "#EBF0F8",
            "ticks": ""
           }
          },
          "scene": {
           "xaxis": {
            "backgroundcolor": "white",
            "gridcolor": "#DFE8F3",
            "gridwidth": 2,
            "linecolor": "#EBF0F8",
            "showbackground": true,
            "ticks": "",
            "zerolinecolor": "#EBF0F8"
           },
           "yaxis": {
            "backgroundcolor": "white",
            "gridcolor": "#DFE8F3",
            "gridwidth": 2,
            "linecolor": "#EBF0F8",
            "showbackground": true,
            "ticks": "",
            "zerolinecolor": "#EBF0F8"
           },
           "zaxis": {
            "backgroundcolor": "white",
            "gridcolor": "#DFE8F3",
            "gridwidth": 2,
            "linecolor": "#EBF0F8",
            "showbackground": true,
            "ticks": "",
            "zerolinecolor": "#EBF0F8"
           }
          },
          "shapedefaults": {
           "line": {
            "color": "#2a3f5f"
           }
          },
          "ternary": {
           "aaxis": {
            "gridcolor": "#DFE8F3",
            "linecolor": "#A2B1C6",
            "ticks": ""
           },
           "baxis": {
            "gridcolor": "#DFE8F3",
            "linecolor": "#A2B1C6",
            "ticks": ""
           },
           "bgcolor": "white",
           "caxis": {
            "gridcolor": "#DFE8F3",
            "linecolor": "#A2B1C6",
            "ticks": ""
           }
          },
          "title": {
           "x": 0.05
          },
          "xaxis": {
           "automargin": true,
           "gridcolor": "#EBF0F8",
           "linecolor": "#EBF0F8",
           "ticks": "",
           "title": {
            "standoff": 15
           },
           "zerolinecolor": "#EBF0F8",
           "zerolinewidth": 2
          },
          "yaxis": {
           "automargin": true,
           "gridcolor": "#EBF0F8",
           "linecolor": "#EBF0F8",
           "ticks": "",
           "title": {
            "standoff": 15
           },
           "zerolinecolor": "#EBF0F8",
           "zerolinewidth": 2
          }
         }
        },
        "xaxis": {
         "anchor": "y",
         "autorange": true,
         "domain": [
          0,
          1
         ],
         "range": [
          -0.5,
          7.5
         ],
         "title": {
          "text": "subsector"
         },
         "type": "category"
        },
        "yaxis": {
         "anchor": "x",
         "autorange": true,
         "domain": [
          0,
          1
         ],
         "range": [
          -1546.6678687996734,
          27466.319507193803
         ],
         "title": {
          "text": "emissions_quantity"
         },
         "type": "linear"
        }
       }
      },
      "text/html": [
       "<div>                            <div id=\"ae90e5a7-4444-41dc-9186-b6f7d34c5bd8\" class=\"plotly-graph-div\" style=\"height:525px; width:100%;\"></div>            <script type=\"text/javascript\">                require([\"plotly\"], function(Plotly) {                    window.PLOTLYENV=window.PLOTLYENV || {};                                    if (document.getElementById(\"ae90e5a7-4444-41dc-9186-b6f7d34c5bd8\")) {                    Plotly.newPlot(                        \"ae90e5a7-4444-41dc-9186-b6f7d34c5bd8\",                        [{\"alignmentgroup\":\"True\",\"hovertemplate\":\"sector=forestry-and-land-use\\u003cbr\\u003esubsector=%{x}\\u003cbr\\u003eemissions_quantity=%{y}\\u003cextra\\u003e\\u003c\\u002fextra\\u003e\",\"legendgroup\":\"forestry-and-land-use\",\"marker\":{\"color\":\"#636efa\",\"pattern\":{\"shape\":\"\"}},\"name\":\"forestry-and-land-use\",\"offsetgroup\":\"forestry-and-land-use\",\"orientation\":\"v\",\"showlegend\":true,\"textposition\":\"auto\",\"x\":[\"net-wetland\",\"net-shrubgrass\",\"net-forest-land\",\"removals\"],\"xaxis\":\"x\",\"y\":[-96.0184999999995,2536.5769999999006,3374.6799999999002,5815.252749999999],\"yaxis\":\"y\",\"type\":\"bar\"},{\"alignmentgroup\":\"True\",\"hovertemplate\":\"sector=agriculture\\u003cbr\\u003esubsector=%{x}\\u003cbr\\u003eemissions_quantity=%{y}\\u003cextra\\u003e\\u003c\\u002fextra\\u003e\",\"legendgroup\":\"agriculture\",\"marker\":{\"color\":\"#EF553B\",\"pattern\":{\"shape\":\"\"}},\"name\":\"agriculture\",\"offsetgroup\":\"agriculture\",\"orientation\":\"v\",\"showlegend\":true,\"textposition\":\"auto\",\"x\":[\"cropland-fires\"],\"xaxis\":\"x\",\"y\":[1.547979829921725],\"yaxis\":\"y\",\"type\":\"bar\"},{\"alignmentgroup\":\"True\",\"hovertemplate\":\"sector=buildings\\u003cbr\\u003esubsector=%{x}\\u003cbr\\u003eemissions_quantity=%{y}\\u003cextra\\u003e\\u003c\\u002fextra\\u003e\",\"legendgroup\":\"buildings\",\"marker\":{\"color\":\"#00cc96\",\"pattern\":{\"shape\":\"\"}},\"name\":\"buildings\",\"offsetgroup\":\"buildings\",\"orientation\":\"v\",\"showlegend\":true,\"textposition\":\"auto\",\"x\":[\"non-residential-onsite-fuel-usage\",\"residential-onsite-fuel-usage\"],\"xaxis\":\"x\",\"y\":[3316.65297,23084.321999999996],\"yaxis\":\"y\",\"type\":\"bar\"},{\"alignmentgroup\":\"True\",\"hovertemplate\":\"sector=transportation\\u003cbr\\u003esubsector=%{x}\\u003cbr\\u003eemissions_quantity=%{y}\\u003cextra\\u003e\\u003c\\u002fextra\\u003e\",\"legendgroup\":\"transportation\",\"marker\":{\"color\":\"#ab63fa\",\"pattern\":{\"shape\":\"\"}},\"name\":\"transportation\",\"offsetgroup\":\"transportation\",\"orientation\":\"v\",\"showlegend\":true,\"textposition\":\"auto\",\"x\":[\"road-transportation\"],\"xaxis\":\"x\",\"y\":[26015.67013839413],\"yaxis\":\"y\",\"type\":\"bar\"}],                        {\"template\":{\"data\":{\"histogram2dcontour\":[{\"type\":\"histogram2dcontour\",\"colorbar\":{\"outlinewidth\":0,\"ticks\":\"\"},\"colorscale\":[[0.0,\"#0d0887\"],[0.1111111111111111,\"#46039f\"],[0.2222222222222222,\"#7201a8\"],[0.3333333333333333,\"#9c179e\"],[0.4444444444444444,\"#bd3786\"],[0.5555555555555556,\"#d8576b\"],[0.6666666666666666,\"#ed7953\"],[0.7777777777777778,\"#fb9f3a\"],[0.8888888888888888,\"#fdca26\"],[1.0,\"#f0f921\"]]}],\"choropleth\":[{\"type\":\"choropleth\",\"colorbar\":{\"outlinewidth\":0,\"ticks\":\"\"}}],\"histogram2d\":[{\"type\":\"histogram2d\",\"colorbar\":{\"outlinewidth\":0,\"ticks\":\"\"},\"colorscale\":[[0.0,\"#0d0887\"],[0.1111111111111111,\"#46039f\"],[0.2222222222222222,\"#7201a8\"],[0.3333333333333333,\"#9c179e\"],[0.4444444444444444,\"#bd3786\"],[0.5555555555555556,\"#d8576b\"],[0.6666666666666666,\"#ed7953\"],[0.7777777777777778,\"#fb9f3a\"],[0.8888888888888888,\"#fdca26\"],[1.0,\"#f0f921\"]]}],\"heatmap\":[{\"type\":\"heatmap\",\"colorbar\":{\"outlinewidth\":0,\"ticks\":\"\"},\"colorscale\":[[0.0,\"#0d0887\"],[0.1111111111111111,\"#46039f\"],[0.2222222222222222,\"#7201a8\"],[0.3333333333333333,\"#9c179e\"],[0.4444444444444444,\"#bd3786\"],[0.5555555555555556,\"#d8576b\"],[0.6666666666666666,\"#ed7953\"],[0.7777777777777778,\"#fb9f3a\"],[0.8888888888888888,\"#fdca26\"],[1.0,\"#f0f921\"]]}],\"heatmapgl\":[{\"type\":\"heatmapgl\",\"colorbar\":{\"outlinewidth\":0,\"ticks\":\"\"},\"colorscale\":[[0.0,\"#0d0887\"],[0.1111111111111111,\"#46039f\"],[0.2222222222222222,\"#7201a8\"],[0.3333333333333333,\"#9c179e\"],[0.4444444444444444,\"#bd3786\"],[0.5555555555555556,\"#d8576b\"],[0.6666666666666666,\"#ed7953\"],[0.7777777777777778,\"#fb9f3a\"],[0.8888888888888888,\"#fdca26\"],[1.0,\"#f0f921\"]]}],\"contourcarpet\":[{\"type\":\"contourcarpet\",\"colorbar\":{\"outlinewidth\":0,\"ticks\":\"\"}}],\"contour\":[{\"type\":\"contour\",\"colorbar\":{\"outlinewidth\":0,\"ticks\":\"\"},\"colorscale\":[[0.0,\"#0d0887\"],[0.1111111111111111,\"#46039f\"],[0.2222222222222222,\"#7201a8\"],[0.3333333333333333,\"#9c179e\"],[0.4444444444444444,\"#bd3786\"],[0.5555555555555556,\"#d8576b\"],[0.6666666666666666,\"#ed7953\"],[0.7777777777777778,\"#fb9f3a\"],[0.8888888888888888,\"#fdca26\"],[1.0,\"#f0f921\"]]}],\"surface\":[{\"type\":\"surface\",\"colorbar\":{\"outlinewidth\":0,\"ticks\":\"\"},\"colorscale\":[[0.0,\"#0d0887\"],[0.1111111111111111,\"#46039f\"],[0.2222222222222222,\"#7201a8\"],[0.3333333333333333,\"#9c179e\"],[0.4444444444444444,\"#bd3786\"],[0.5555555555555556,\"#d8576b\"],[0.6666666666666666,\"#ed7953\"],[0.7777777777777778,\"#fb9f3a\"],[0.8888888888888888,\"#fdca26\"],[1.0,\"#f0f921\"]]}],\"mesh3d\":[{\"type\":\"mesh3d\",\"colorbar\":{\"outlinewidth\":0,\"ticks\":\"\"}}],\"scatter\":[{\"fillpattern\":{\"fillmode\":\"overlay\",\"size\":10,\"solidity\":0.2},\"type\":\"scatter\"}],\"parcoords\":[{\"type\":\"parcoords\",\"line\":{\"colorbar\":{\"outlinewidth\":0,\"ticks\":\"\"}}}],\"scatterpolargl\":[{\"type\":\"scatterpolargl\",\"marker\":{\"colorbar\":{\"outlinewidth\":0,\"ticks\":\"\"}}}],\"bar\":[{\"error_x\":{\"color\":\"#2a3f5f\"},\"error_y\":{\"color\":\"#2a3f5f\"},\"marker\":{\"line\":{\"color\":\"white\",\"width\":0.5},\"pattern\":{\"fillmode\":\"overlay\",\"size\":10,\"solidity\":0.2}},\"type\":\"bar\"}],\"scattergeo\":[{\"type\":\"scattergeo\",\"marker\":{\"colorbar\":{\"outlinewidth\":0,\"ticks\":\"\"}}}],\"scatterpolar\":[{\"type\":\"scatterpolar\",\"marker\":{\"colorbar\":{\"outlinewidth\":0,\"ticks\":\"\"}}}],\"histogram\":[{\"marker\":{\"pattern\":{\"fillmode\":\"overlay\",\"size\":10,\"solidity\":0.2}},\"type\":\"histogram\"}],\"scattergl\":[{\"type\":\"scattergl\",\"marker\":{\"colorbar\":{\"outlinewidth\":0,\"ticks\":\"\"}}}],\"scatter3d\":[{\"type\":\"scatter3d\",\"line\":{\"colorbar\":{\"outlinewidth\":0,\"ticks\":\"\"}},\"marker\":{\"colorbar\":{\"outlinewidth\":0,\"ticks\":\"\"}}}],\"scattermapbox\":[{\"type\":\"scattermapbox\",\"marker\":{\"colorbar\":{\"outlinewidth\":0,\"ticks\":\"\"}}}],\"scatterternary\":[{\"type\":\"scatterternary\",\"marker\":{\"colorbar\":{\"outlinewidth\":0,\"ticks\":\"\"}}}],\"scattercarpet\":[{\"type\":\"scattercarpet\",\"marker\":{\"colorbar\":{\"outlinewidth\":0,\"ticks\":\"\"}}}],\"carpet\":[{\"aaxis\":{\"endlinecolor\":\"#2a3f5f\",\"gridcolor\":\"#C8D4E3\",\"linecolor\":\"#C8D4E3\",\"minorgridcolor\":\"#C8D4E3\",\"startlinecolor\":\"#2a3f5f\"},\"baxis\":{\"endlinecolor\":\"#2a3f5f\",\"gridcolor\":\"#C8D4E3\",\"linecolor\":\"#C8D4E3\",\"minorgridcolor\":\"#C8D4E3\",\"startlinecolor\":\"#2a3f5f\"},\"type\":\"carpet\"}],\"table\":[{\"cells\":{\"fill\":{\"color\":\"#EBF0F8\"},\"line\":{\"color\":\"white\"}},\"header\":{\"fill\":{\"color\":\"#C8D4E3\"},\"line\":{\"color\":\"white\"}},\"type\":\"table\"}],\"barpolar\":[{\"marker\":{\"line\":{\"color\":\"white\",\"width\":0.5},\"pattern\":{\"fillmode\":\"overlay\",\"size\":10,\"solidity\":0.2}},\"type\":\"barpolar\"}],\"pie\":[{\"automargin\":true,\"type\":\"pie\"}]},\"layout\":{\"autotypenumbers\":\"strict\",\"colorway\":[\"#636efa\",\"#EF553B\",\"#00cc96\",\"#ab63fa\",\"#FFA15A\",\"#19d3f3\",\"#FF6692\",\"#B6E880\",\"#FF97FF\",\"#FECB52\"],\"font\":{\"color\":\"#2a3f5f\"},\"hovermode\":\"closest\",\"hoverlabel\":{\"align\":\"left\"},\"paper_bgcolor\":\"white\",\"plot_bgcolor\":\"white\",\"polar\":{\"bgcolor\":\"white\",\"angularaxis\":{\"gridcolor\":\"#EBF0F8\",\"linecolor\":\"#EBF0F8\",\"ticks\":\"\"},\"radialaxis\":{\"gridcolor\":\"#EBF0F8\",\"linecolor\":\"#EBF0F8\",\"ticks\":\"\"}},\"ternary\":{\"bgcolor\":\"white\",\"aaxis\":{\"gridcolor\":\"#DFE8F3\",\"linecolor\":\"#A2B1C6\",\"ticks\":\"\"},\"baxis\":{\"gridcolor\":\"#DFE8F3\",\"linecolor\":\"#A2B1C6\",\"ticks\":\"\"},\"caxis\":{\"gridcolor\":\"#DFE8F3\",\"linecolor\":\"#A2B1C6\",\"ticks\":\"\"}},\"coloraxis\":{\"colorbar\":{\"outlinewidth\":0,\"ticks\":\"\"}},\"colorscale\":{\"sequential\":[[0.0,\"#0d0887\"],[0.1111111111111111,\"#46039f\"],[0.2222222222222222,\"#7201a8\"],[0.3333333333333333,\"#9c179e\"],[0.4444444444444444,\"#bd3786\"],[0.5555555555555556,\"#d8576b\"],[0.6666666666666666,\"#ed7953\"],[0.7777777777777778,\"#fb9f3a\"],[0.8888888888888888,\"#fdca26\"],[1.0,\"#f0f921\"]],\"sequentialminus\":[[0.0,\"#0d0887\"],[0.1111111111111111,\"#46039f\"],[0.2222222222222222,\"#7201a8\"],[0.3333333333333333,\"#9c179e\"],[0.4444444444444444,\"#bd3786\"],[0.5555555555555556,\"#d8576b\"],[0.6666666666666666,\"#ed7953\"],[0.7777777777777778,\"#fb9f3a\"],[0.8888888888888888,\"#fdca26\"],[1.0,\"#f0f921\"]],\"diverging\":[[0,\"#8e0152\"],[0.1,\"#c51b7d\"],[0.2,\"#de77ae\"],[0.3,\"#f1b6da\"],[0.4,\"#fde0ef\"],[0.5,\"#f7f7f7\"],[0.6,\"#e6f5d0\"],[0.7,\"#b8e186\"],[0.8,\"#7fbc41\"],[0.9,\"#4d9221\"],[1,\"#276419\"]]},\"xaxis\":{\"gridcolor\":\"#EBF0F8\",\"linecolor\":\"#EBF0F8\",\"ticks\":\"\",\"title\":{\"standoff\":15},\"zerolinecolor\":\"#EBF0F8\",\"automargin\":true,\"zerolinewidth\":2},\"yaxis\":{\"gridcolor\":\"#EBF0F8\",\"linecolor\":\"#EBF0F8\",\"ticks\":\"\",\"title\":{\"standoff\":15},\"zerolinecolor\":\"#EBF0F8\",\"automargin\":true,\"zerolinewidth\":2},\"scene\":{\"xaxis\":{\"backgroundcolor\":\"white\",\"gridcolor\":\"#DFE8F3\",\"linecolor\":\"#EBF0F8\",\"showbackground\":true,\"ticks\":\"\",\"zerolinecolor\":\"#EBF0F8\",\"gridwidth\":2},\"yaxis\":{\"backgroundcolor\":\"white\",\"gridcolor\":\"#DFE8F3\",\"linecolor\":\"#EBF0F8\",\"showbackground\":true,\"ticks\":\"\",\"zerolinecolor\":\"#EBF0F8\",\"gridwidth\":2},\"zaxis\":{\"backgroundcolor\":\"white\",\"gridcolor\":\"#DFE8F3\",\"linecolor\":\"#EBF0F8\",\"showbackground\":true,\"ticks\":\"\",\"zerolinecolor\":\"#EBF0F8\",\"gridwidth\":2}},\"shapedefaults\":{\"line\":{\"color\":\"#2a3f5f\"}},\"annotationdefaults\":{\"arrowcolor\":\"#2a3f5f\",\"arrowhead\":0,\"arrowwidth\":1},\"geo\":{\"bgcolor\":\"white\",\"landcolor\":\"white\",\"subunitcolor\":\"#C8D4E3\",\"showland\":true,\"showlakes\":true,\"lakecolor\":\"white\"},\"title\":{\"x\":0.05},\"mapbox\":{\"style\":\"light\"}}},\"xaxis\":{\"anchor\":\"y\",\"domain\":[0.0,1.0],\"title\":{\"text\":\"subsector\"}},\"yaxis\":{\"anchor\":\"x\",\"domain\":[0.0,1.0],\"title\":{\"text\":\"emissions_quantity\"}},\"legend\":{\"title\":{\"text\":\"sector\"},\"tracegroupgap\":0},\"margin\":{\"t\":60},\"barmode\":\"relative\"},                        {\"responsive\": true}                    ).then(function(){\n",
       "                            \n",
       "var gd = document.getElementById('ae90e5a7-4444-41dc-9186-b6f7d34c5bd8');\n",
       "var x = new MutationObserver(function (mutations, observer) {{\n",
       "        var display = window.getComputedStyle(gd).display;\n",
       "        if (!display || display === 'none') {{\n",
       "            console.log([gd, 'removed!']);\n",
       "            Plotly.purge(gd);\n",
       "            observer.disconnect();\n",
       "        }}\n",
       "}});\n",
       "\n",
       "// Listen for the removal of the full notebook cells\n",
       "var notebookContainer = gd.closest('#notebook-container');\n",
       "if (notebookContainer) {{\n",
       "    x.observe(notebookContainer, {childList: true});\n",
       "}}\n",
       "\n",
       "// Listen for the clearing of the current output cell\n",
       "var outputEl = gd.closest('.output');\n",
       "if (outputEl) {{\n",
       "    x.observe(outputEl, {childList: true});\n",
       "}}\n",
       "\n",
       "                        })                };                });            </script>        </div>"
      ]
     },
     "metadata": {},
     "output_type": "display_data"
    }
   ],
   "source": [
    "import plotly.io\n",
    "plotly.io.templates.default = \"plotly_white\"\n",
    "import plotly.express as px\n",
    "\n",
    "px.bar(\n",
    "gadm_biz_data.filter(c_year == 2024).sort(by=c_emissions_quantity),\n",
    "    x=\"subsector\",\n",
    "    y=\"emissions_quantity\",\n",
    "    color=\"sector\"\n",
    ")\n"
   ]
  },
  {
   "cell_type": "code",
   "execution_count": 23,
   "metadata": {},
   "outputs": [
    {
     "ename": "RuntimeError",
     "evalue": "No active exception to reraise",
     "output_type": "error",
     "traceback": [
      "\u001b[0;31m---------------------------------------------------------------------------\u001b[0m",
      "\u001b[0;31mRuntimeError\u001b[0m                              Traceback (most recent call last)",
      "Cell \u001b[0;32mIn[23], line 1\u001b[0m\n\u001b[0;32m----> 1\u001b[0m \u001b[38;5;28;01mraise\u001b[39;00m\n",
      "\u001b[0;31mRuntimeError\u001b[0m: No active exception to reraise"
     ]
    }
   ],
   "source": [
    "raise"
   ]
  },
  {
   "cell_type": "markdown",
   "metadata": {},
   "source": [
    "## Creating optimized parquet files for source data\n",
    "\n",
    "This first section creates files that are the most effective for reading and querying. The general approach is as follows:\n",
    "\n",
    "1. Join the source and source confidence CSV files and writes them as parquet files for each subsector\n",
    "2. Aggregate by year into a yearly parquet file\n",
    "3. Optimize this parquet file for reading\n",
    "\n",
    "This first command creates parquet files that join the source and source confidences for each subsector, and returns a list of all the created files.\n",
    "\n",
    "In this notebook, another trick is to define the transformations as _data functions_. In short, this code will only run if the source code changes. This makes rerunning the notebooks very fast, and only updating when something has changed in the source code."
   ]
  },
  {
   "cell_type": "code",
   "execution_count": null,
   "metadata": {},
   "outputs": [],
   "source": [
    "@data_function(\"/data_sources\")\n",
    "def load_sources():\n",
    "    (_, files) = ct.data.load_source_compact()\n",
    "    return files\n",
    "\n",
    "load_sources()"
   ]
  },
  {
   "cell_type": "markdown",
   "metadata": {},
   "source": [
    "To help with the loading, the data is partitioned by year. This is the most relevant for most users: most people are expected to look at specific years and sectors (especially the latest year). This reduces the amount of data to load.\n",
    "\n",
    "Let us have a quick peek at the data in one of these files. It looks already pretty good: a lot of the redundant data such as the enumerations has been deduplicated. All the enumeration data is now converted to integers, this is what `dictionary<values=string, indices=int32, ordered=0>` means. It is not quite ready for high performance however."
   ]
  },
  {
   "cell_type": "code",
   "execution_count": null,
   "metadata": {},
   "outputs": [],
   "source": [
    "from pyarrow.parquet import read_table\n",
    "fname = load_sources()[0]\n",
    "print(fname)\n",
    "read_table(fname)"
   ]
  },
  {
   "cell_type": "markdown",
   "metadata": {},
   "source": [
    "## Aggregating by year and optimizing the output\n",
    "\n",
    "The following block takes all the sector files and aggregates them by year. This is based on the expectation that most users will work on the latest year, and that some users will want to look into the trends across the years.\n",
    "\n",
    "Since these files will be read many times (every time we want to do a graph), it pays off to optimize them. The Parquet format is designed for fast reads of the relevant data. We will do two main optimizations: optimal compression, optimizing the row groups and adding statistics.\n",
    "\n",
    "\n",
    "\n",
    "_Compression_ Parquet allows some data to be compressed by columns. The first intuition is that, looking at each column of data separately, there will be more patterns and thus more opportunities to compress the data. The second intuition is that, in data-intensive application, reading the data is the bottleneck. It is then faster to read smaller compressed data in memory and then decompress it (losing a bit of time in compute), rather than reading larger, uncompressed data. Modern compression algorithms such as ZStandard or LZ4 are designed to be very effective at using a processor. Using them is essentially a pure gain in terms of processing speed.\n",
    "\n",
    "\n",
    "```{admonition} CTODO\n",
    "The year of a data record is defined by its start time. This may be different than the convention used by Climate Trace. To check.\n",
    "```\n"
   ]
  },
  {
   "cell_type": "code",
   "execution_count": null,
   "metadata": {},
   "outputs": [],
   "source": [
    "write_directory = \"/tmp\"\n",
    "years = ct.data.years\n",
    "version = ct.data.version\n",
    "gases = ct.constants.GAS_LIST\n",
    "\n",
    "@data_function(\"/write_data\")\n",
    "def write_data():\n",
    "    data_files = load_sources()\n",
    "    dfs = []\n",
    "    for tmp_name in data_files:\n",
    "        print(tmp_name)\n",
    "        df = pl.scan_parquet(tmp_name)\n",
    "        df = df.pipe(ct.data.recast_parquet, conf=True)\n",
    "        dfs.append(df)\n",
    "    ldf = pl.concat(dfs)\n",
    "    fnames = []\n",
    "    for gas in gases:\n",
    "        for year in years:\n",
    "            fname1 = f\"{write_directory}/pre_climate_trace-sources_{version}_{year}_{gas}.parquet\"\n",
    "            (\n",
    "                ldf.filter(c_start_time.dt.year() == int(year))\n",
    "                   .filter(c_gas == gas)\n",
    "                   .sort(by=[GAS, SECTOR, SUBSECTOR, ISO3_COUNTRY, SOURCE_ID])\n",
    "                   .sink_parquet(\n",
    "                    fname1,\n",
    "                    compression=\"zstd\",\n",
    "                    maintain_order=True,\n",
    "                    statistics=True,\n",
    "                )\n",
    "            )\n",
    "            fname = f\"{write_directory}/climate_trace-sources_{version}_{year}_{gas}.parquet\"\n",
    "            print(fname)\n",
    "            ds = pyarrow.dataset.dataset(fname1)\n",
    "            pyarrow.dataset.write_dataset(\n",
    "                ds,\n",
    "                base_dir=\"/tmp\",\n",
    "                basename_template=\"ds_{i}.parquet\",\n",
    "                format=\"parquet\",\n",
    "                partitioning=None,\n",
    "                min_rows_per_group=300_000,\n",
    "                max_rows_per_group=1_000_000,\n",
    "            )\n",
    "            shutil.copyfile(\"/tmp/ds_0.parquet\", fname)\n",
    "            fnames.append((fname1, fname))\n",
    "    return fnames\n",
    "\n",
    "write_data()"
   ]
  },
  {
   "cell_type": "markdown",
   "metadata": {},
   "source": [
    "_Optimizing row groups_ A parquet file is a collection of groups of rows, and these rows are organized column-wise along with some statistics. We can choose how many groups to create: the minimum is one group (all the data into a single group), which is the most standard. This is not optimal however: reading can only be done by one processor core at a time. If we have more, they will sit idle. This is why it is better to choose the number of groups to be close to the expected number of processor cores (10-100). When reading, each core will process a different chunk of the file in parallel.\n",
    "\n",
    "Polars cannot do this yet, so the code below directly calls the `pyarrow` package to restructure the final file, calling the function `pyarrow.dataset.write_dataset`. \n",
    "\n",
    "Here is the parquet files produced directly by Polars. It is the result of joining datasets which themselves are the result of reading many files (each by subsector). It is very fragmented (see the `num_row_groups` statistics below).\n"
   ]
  },
  {
   "cell_type": "code",
   "execution_count": null,
   "metadata": {},
   "outputs": [],
   "source": [
    "(fname_pre, fname_post) = write_data()[0]\n",
    "print(fname_pre)\n",
    "print(fname_post)\n",
    "parquet_file = pyarrow.parquet.ParquetFile(fname_pre)\n",
    "# print(parquet_file.metadata.row_group(0).column(2).statistics)\n",
    "parquet_file.metadata"
   ]
  },
  {
   "cell_type": "markdown",
   "metadata": {},
   "source": [
    "The final file is more compact: only 58 row groups. It will be much faster to read (up to 50 times faster on my computer) because the readers do not need to gather information from each of the row groups."
   ]
  },
  {
   "cell_type": "code",
   "execution_count": null,
   "metadata": {},
   "outputs": [],
   "source": [
    "parquet_file = pyarrow.parquet.ParquetFile(fname_post)\n",
    "parquet_file.metadata"
   ]
  },
  {
   "cell_type": "markdown",
   "metadata": {},
   "source": [
    "_Statistics_ Each row group in a parquet file has statistics. These statistics contain for each columns basic information such as minimum, maximum, etc. as you can see below. During a query, a data system first reads these statistics to check what blocks of data it should read. \n",
    "\n",
    "For example, the first row group only contains agriculture data (which you can infer from `min: agriculture` and `max: agriculture`). As the result, if a query is looking for waste data, it can safely skip this full block. \n",
    "\n",
    "Grouping the rows and creating statistics can dramatically reduce the amount of data being read and processed. Finding the right number of groups is a tradeoff between using more cores to read the data in parallel, and not having to read too many statistics descriptions. In the extreme case of the file created by Polars (5000 row groups), the statistics make up 40% of the file and can take up to 90% of the processing time! If your parquet file reads slowly, it is probably due to its internal layout."
   ]
  },
  {
   "cell_type": "code",
   "execution_count": null,
   "metadata": {},
   "outputs": [],
   "source": [
    "parquet_file = pyarrow.parquet.ParquetFile(fname_post)\n",
    "parquet_file.metadata.row_group(0).column(12).statistics"
   ]
  },
  {
   "cell_type": "markdown",
   "metadata": {},
   "source": [
    "## Initial checks"
   ]
  },
  {
   "cell_type": "markdown",
   "metadata": {},
   "source": [
    "We know check that it works correctly. Let's load the newly created data instead of the default version stored on the internet, for the year 2023."
   ]
  },
  {
   "cell_type": "code",
   "execution_count": null,
   "metadata": {},
   "outputs": [],
   "source": [
    "sdf = ct.read_source_emissions(gas=CO2, year=2023, p=\"/tmp\")\n",
    "sdf"
   ]
  },
  {
   "cell_type": "markdown",
   "metadata": {},
   "source": [
    "About 15M records for this year. This is spread across multiple gas and also multiple trips in the case of boats or airplanes."
   ]
  },
  {
   "cell_type": "code",
   "execution_count": null,
   "metadata": {},
   "outputs": [],
   "source": [
    "sdf.select(pl.len()).collect()"
   ]
  },
  {
   "cell_type": "markdown",
   "metadata": {},
   "source": [
    "Check the number of distinct source IDs"
   ]
  },
  {
   "cell_type": "code",
   "execution_count": null,
   "metadata": {},
   "outputs": [],
   "source": [
    "by_sec = (sdf\n",
    ".group_by(SOURCE_ID, SECTOR)\n",
    ".agg(pl.len())\n",
    ".collect())"
   ]
  },
  {
   "cell_type": "markdown",
   "metadata": {},
   "source": [
    "The number of sources outside forestry and land use:"
   ]
  },
  {
   "cell_type": "code",
   "execution_count": null,
   "metadata": {},
   "outputs": [],
   "source": [
    "by_sec.filter(c_sector != FORESTRY_AND_LAND_USE).select(pl.len())"
   ]
  },
  {
   "cell_type": "markdown",
   "metadata": {},
   "source": [
    "Check: no source is associated with multiple sectors."
   ]
  },
  {
   "cell_type": "code",
   "execution_count": null,
   "metadata": {},
   "outputs": [],
   "source": [
    "by_sec.group_by(SOURCE_ID).agg(c_sector.n_unique()).filter(pl.col(SECTOR) > 1)"
   ]
  },
  {
   "cell_type": "markdown",
   "metadata": {},
   "source": [
    "Check: no annual source should be duplicated by gas. It used to be the case with V2 release."
   ]
  },
  {
   "cell_type": "code",
   "execution_count": null,
   "metadata": {},
   "outputs": [],
   "source": [
    "(sdf\n",
    ".filter(c_temporal_granularity ==\"annual\")\n",
    ".group_by(SOURCE_ID, GAS)\n",
    ".agg(pl.len())\n",
    ".filter(pl.col(\"len\") > 1)\n",
    ".sort(by=\"len\")\n",
    ".collect())"
   ]
  },
  {
   "cell_type": "markdown",
   "metadata": {},
   "source": [
    "Check: emissions should always be defined. V2 used to have empty values."
   ]
  },
  {
   "cell_type": "code",
   "execution_count": null,
   "metadata": {},
   "outputs": [],
   "source": [
    "sdf = ct.read_source_emissions(CO2E_100YR, 2023, \"/tmp\")\n",
    "(sdf\n",
    " .select(c_emissions_quantity.is_null().alias(\"null_emissions\"), c_subsector, c_iso3_country)\n",
    " .group_by(c_subsector, \"null_emissions\")\n",
    " .agg(pl.len())\n",
    " .collect()\n",
    " .pivot(index=SUBSECTOR, on=\"null_emissions\", values=\"len\")\n",
    ")"
   ]
  },
  {
   "cell_type": "markdown",
   "metadata": {},
   "source": [
    "## Integrity checks\n",
    "\n",
    "Before uploading and publishing data, it is a good idea to run a number of checks. Frameworks such as [pandera](https://pandera.readthedocs.io/en/latest/polars.html) are very helpful to implement these checks. Here we just check that Akrotiri and Dhekelia (country code XAD) is not included, as mentioned in the documentation."
   ]
  },
  {
   "cell_type": "code",
   "execution_count": null,
   "metadata": {},
   "outputs": [],
   "source": [
    "(ct.read_source_emissions(gas=GAS_LIST, year=2022, p=\"/tmp\")\n",
    " .filter(c_iso3_country == \"XAD\")\n",
    " .select(pl.len())\n",
    ".collect())"
   ]
  },
  {
   "cell_type": "markdown",
   "metadata": {},
   "source": [
    "### CO2e subsector data should be a superset of all sectors\n",
    "\n",
    "Here is an example of issue to investigate: one would expect the total CO2e_100yr (total emissions normalized by their CO2 equivalent) to be at least present for each sector in which emissions are reported. This is not the case for FLU, for instance for the `removals` subsector.\n",
    "\n",
    "```{admonition} CTODO\n",
    ":name: missing-co2e-subsectors\n",
    "Confirm with CT.\n",
    "```"
   ]
  },
  {
   "cell_type": "code",
   "execution_count": null,
   "metadata": {},
   "outputs": [],
   "source": [
    "with pl.Config(tbl_rows=20):\n",
    "    print(ct.read_source_emissions(gas=GAS_LIST, year=2022, p=\"/tmp\")\n",
    "     .group_by(c_sector, c_subsector, c_gas)\n",
    "     .agg(c_emissions_quantity.sum())\n",
    "     #.filter(c_emissions_quantity < 0)\n",
    "     .sort(by=[c_sector, c_subsector, c_gas])\n",
    "     .collect()\n",
    "     .pivot(GAS, index=[SECTOR, SUBSECTOR])\n",
    "     .filter(pl.col(CO2E_100YR).is_null())\n",
    "     .filter(pl.col(CO2) != 0)\n",
    "    )"
   ]
  },
  {
   "cell_type": "markdown",
   "metadata": {},
   "source": [
    "## Create parquet files for country emissions\n",
    "\n",
    "As of V3, country emission data is also large enough that it should be compacted in parquet files. Note the dramatic difference:\n",
    "\n",
    "- uncompressed CSV file: 106MB\n",
    "- compressed CSV file: 6MB\n",
    "- parquet: 1MB !!\n",
    "\n",
    "As highlighted, the parquet file also has the advantage of being very efficient at extracting only the relevant information."
   ]
  },
  {
   "cell_type": "code",
   "execution_count": null,
   "metadata": {},
   "outputs": [],
   "source": [
    "# Starting from the official archives, read all the gases.\n",
    "\n",
    "@data_function(\"/read_country\")\n",
    "def read_country():\n",
    "    path = Path(tempfile.gettempdir()) / f\"climate-trace-countries-{ct.data.version}.parquet\"\n",
    "    print(path)\n",
    "    cdf = ct.read_country_emissions(ct.constants.GAS_LIST, archive_path=True)\n",
    "    # Optimizing to read by time and then gas.\n",
    "    # The logic being that country-specific files are already available from CT.\n",
    "    (cdf\n",
    "     .sort(by=[c_start_time,c_gas,c_iso3_country])\n",
    "      .write_parquet(path) # Not taking precautions, the file is so small.\n",
    "    )\n",
    "    return path\n",
    "\n",
    "p = read_country()"
   ]
  },
  {
   "cell_type": "markdown",
   "metadata": {},
   "source": [
    "## Contry emissions: integrity checks\n",
    "\n",
    "In a production pipeline, before uploading the final data, we would run a number of checks again on the country emissions. Here are a few checks that we can run (and which are currently failing)."
   ]
  },
  {
   "cell_type": "code",
   "execution_count": null,
   "metadata": {},
   "outputs": [],
   "source": [
    "cdf = ct.read_country_emissions(parquet_path=p)\n",
    "cdf.head(2)"
   ]
  },
  {
   "cell_type": "markdown",
   "metadata": {},
   "source": [
    "### Country emissions: CO2e data should be a superset of all country emissions\n",
    "\n",
    "We see that some subsectors are present in CO2 emissions but are missing in the aggregated CO2e emissions"
   ]
  },
  {
   "cell_type": "code",
   "execution_count": null,
   "metadata": {},
   "outputs": [],
   "source": [
    "with pl.Config(tbl_rows=20):\n",
    "    print(cdf\n",
    "     .group_by(c_sector, c_subsector, c_gas)\n",
    "     .agg(c_emissions_quantity.sum())\n",
    "     .sort(by=[c_sector, c_subsector, c_gas])\n",
    "     .pivot(GAS, index=[SECTOR, SUBSECTOR])\n",
    "     .filter(pl.col(CO2E_100YR).is_null())\n",
    "     .filter(pl.col(CO2) != 0)\n",
    "    )"
   ]
  },
  {
   "cell_type": "markdown",
   "metadata": {},
   "source": [
    "### Country emissions: some countries are excluded from the dataset\n",
    "\n",
    "The Climate TRACE documentation excludes certain countries from the final release, but they are still present in the dataset:"
   ]
  },
  {
   "cell_type": "code",
   "execution_count": null,
   "metadata": {},
   "outputs": [],
   "source": [
    "excluded_isos = [\"XAD\", \"XCL\", \"XPI\", \"XSP\"]\n",
    "(cdf\n",
    " .filter(c_iso3_country.is_in(excluded_isos))\n",
    " .group_by([ISO3_COUNTRY, c_start_time.dt.year(), GAS, SECTOR, SUBSECTOR])\n",
    " .agg(pl.len()))"
   ]
  },
  {
   "cell_type": "markdown",
   "metadata": {},
   "source": [
    "## Upload the data to the Hugging Face Hub\n",
    "\n",
    "As a final step, we make the datasets available on Hugging Face as a downloadable dataset.\n",
    "\n",
    "This step will only work if you have the credentials to upload the dataset."
   ]
  },
  {
   "cell_type": "code",
   "execution_count": null,
   "metadata": {},
   "outputs": [],
   "source": [
    "import huggingface_hub.utils\n",
    "upload = False\n",
    "if upload:\n",
    "    try:\n",
    "        api = huggingface_hub.HfApi()\n",
    "        for (_, fpath) in write_data():\n",
    "            fname = os.path.basename(fpath)\n",
    "            print(fname, fpath)\n",
    "            api.upload_file(\n",
    "                path_or_fileobj=fpath,\n",
    "                path_in_repo=fname,\n",
    "                repo_id=\"tjhunter/climate-trace\",\n",
    "                repo_type=\"dataset\",\n",
    "            )\n",
    "        fpath = read_country()\n",
    "        fname = os.path.basename(fpath)\n",
    "        print(fname, fpath)\n",
    "        api.upload_file(\n",
    "            path_or_fileobj=fpath,\n",
    "            path_in_repo=fname,\n",
    "            repo_id=\"tjhunter/climate-trace\",\n",
    "            repo_type=\"dataset\",\n",
    "        )\n",
    "    except huggingface_hub.utils.HfHubHTTPError as e:\n",
    "        print(\"error\")\n",
    "        print(e)"
   ]
  },
  {
   "cell_type": "code",
   "execution_count": null,
   "metadata": {},
   "outputs": [],
   "source": []
  }
 ],
 "metadata": {
  "kernelspec": {
   "display_name": "Python 3 (ipykernel)",
   "language": "python",
   "name": "python3"
  },
  "language_info": {
   "codemirror_mode": {
    "name": "ipython",
    "version": 3
   },
   "file_extension": ".py",
   "mimetype": "text/x-python",
   "name": "python",
   "nbconvert_exporter": "python",
   "pygments_lexer": "ipython3",
   "version": "3.10.12"
  },
  "widgets": {
   "application/vnd.jupyter.widget-state+json": {
    "state": {},
    "version_major": 2,
    "version_minor": 0
   }
  }
 },
 "nbformat": 4,
 "nbformat_minor": 4
}
