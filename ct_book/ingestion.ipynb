{
 "cells": [
  {
   "cell_type": "markdown",
   "metadata": {},
   "source": [
    "# Data ingestion and formatting\n",
    "\n",
    "This notebook explains how to convert the Climate TRACE dataset to a format that is more appropriate for data science. \n",
    "\n",
    "```{note}\n",
    "This section is relevant for data engineers, or data scientists who want to understand how the data \n",
    "has been prepared. Skip if you just want to access the final, prepared data.\n",
    "```\n",
    "\n",
    "The original data from Climate TRACE is offered as a series of CSV files bundled in ZIP archives. That format is universally understood, but it is not the most effective for effective analysis with data science tools. In particular, it is large: the source data, uncompressed, is about 100GB for each gas! This is the size at which most people would consider this project to be \"big data\" or at least \"medium data\". With the proper choice of data storage, we will bring it down to a breezy \"small data\" without losing information along the way.\n",
    "\n",
    "Instead, we are going to use the Parquet format. This format has a number of advantages:\n",
    "- it is _column-based_ : data systems can process big chunks of data at once, rather than line by line. Also, depending on the information requested, systems will read only the relevant columns and skip the rest very effectively\n",
    "- it is _universal_ : most modern data systems will be able to read it.\n",
    "- it is _structured_ : basic information about numbers, categories, ... are preserved.\n",
    "\n",
    "\n",
    "Looking at the code, we are performing a few tricks:\n",
    "\n",
    "_Compacting the data_ We minimize the size of the files by taking advantage of its structures. In particular, we know in many cases that values are part of known enumerations (sectors, ...). We replace all these by `polars.Enumeration`s. Not only this makes files smaller, but it also allows data systems to make clever optimization for complex operations such as joining.\n",
    "\n",
    "_Lazy reading_ If we were to read all the source data using a traditional system such as Excel or Pandas, we would require a serious amount of memory. The files themselves are more than 5GB. Polars is capable of reading straight from the zip file in a streaming fashion. This is what Polars calls a Lazy dataframe, or LazyFrame. Even when doing complicated operations such as joining the source files with the confidence information, Polars only uses 3GB of memory on my machine. In fact, this way of working is so fast that the `ctrace` package directly reads all the country emissions data from the zip files in less than a second.\n",
    "\n",
    "_Using known enumerations_ You will see in the source code that nearly all the variables such as column names, names of gas and sectors, etc. are replaced CONSTANT_NAMES such as `CH4`,.... You can use that to autocomplete\n",
    "\n"
   ]
  },
  {
   "cell_type": "code",
   "execution_count": 1,
   "metadata": {},
   "outputs": [],
   "source": [
    "%load_ext autoreload\n",
    "%autoreload 2"
   ]
  },
  {
   "cell_type": "code",
   "execution_count": 2,
   "metadata": {},
   "outputs": [],
   "source": [
    "import logging\n",
    "logging.basicConfig(level=logging.DEBUG)"
   ]
  },
  {
   "cell_type": "code",
   "execution_count": 3,
   "metadata": {},
   "outputs": [],
   "source": [
    "import os\n",
    "import polars as pl\n",
    "from ctrace.constants import *\n",
    "import ctrace as ct\n",
    "import pyarrow\n",
    "from dds import data_function\n",
    "from pathlib import Path\n",
    "import tempfile\n",
    "import shutil\n",
    "import dds\n",
    "import huggingface_hub\n",
    "logging.getLogger(\"dds\").setLevel(logging.WARNING)\n",
    "dds.accept_module(ct)"
   ]
  },
  {
   "cell_type": "markdown",
   "metadata": {},
   "source": [
    "## Ingestion of geometries"
   ]
  },
  {
   "cell_type": "code",
   "execution_count": 4,
   "metadata": {},
   "outputs": [],
   "source": [
    "import duckdb\n",
    "ct.data._ensure_duckdb()\n"
   ]
  },
  {
   "cell_type": "code",
   "execution_count": 5,
   "metadata": {},
   "outputs": [],
   "source": [
    "#gases = GAS_LIST\n",
    "#polys_path = ct.data.extract_polygons(p=True,gases=gases)\n",
    "#polys_path"
   ]
  },
  {
   "cell_type": "code",
   "execution_count": 6,
   "metadata": {},
   "outputs": [],
   "source": [
    "#points_path = ct.data.extract_points(p=True, gases=gases, polys=polys_path)\n",
    "#points_path"
   ]
  },
  {
   "cell_type": "markdown",
   "metadata": {},
   "source": [
    "Step 1: extract the polygons from the geometry files:\n",
    "\n",
    "The geometry information will be stored in WKB format (a current limitation of DuckDB's writing capabilities)."
   ]
  },
  {
   "cell_type": "code",
   "execution_count": 7,
   "metadata": {},
   "outputs": [],
   "source": [
    "# gpkg_fname = f\"/home/tjhunter/.cache/climate_trace_co2/v3-2024/{sector}_geometries.gpkg\"\n",
    "# gpkg_points_fname = f\"/home/tjhunter/.cache/climate_trace_co2/v3-2024/{sector_points}_geometries.gpkg\"\n",
    "# duckdb.sql(f\"\"\"\n",
    "# COPY(\n",
    "#     SELECT * FROM ST_read('{gpkg_fname}', layer='{sector}_polygons')\n",
    "# ) TO '/tmp/{sector}_polygons.parquet';\n",
    "# \"\"\")"
   ]
  },
  {
   "cell_type": "code",
   "execution_count": 8,
   "metadata": {},
   "outputs": [],
   "source": [
    "points_path = \"/tmp/climate_trace-points_v3-2024-ct4.parquet\"\n",
    "polys_path = \"/tmp/climate_trace-polygons_v3-2024-ct4.parquet\"\n",
    "all_points_pdf = pl.read_parquet(points_path)\n",
    "all_geoms_pdf = pl.read_parquet(polys_path)"
   ]
  },
  {
   "cell_type": "code",
   "execution_count": 68,
   "metadata": {},
   "outputs": [],
   "source": [
    "#lat,lng=52.1462902,4.3977197  #WAS\n",
    "#lat,lng=50.8512465,4.3454161 # BRU\n",
    "#lat,lng=53.0547292,4.7374957 # TEX\n",
    "#lat,lng=-4.6028151,-66.6976496 # brazil\n",
    "lat,lng=26.2266108,50.5477063 # UAE"
   ]
  },
  {
   "cell_type": "code",
   "execution_count": 69,
   "metadata": {},
   "outputs": [],
   "source": [
    "import geopandas\n",
    "from lonboard import viz\n",
    "\n",
    "\n",
    "\n",
    "# Take the lowest level in GADM\n",
    "poly_geoms = duckdb.sql(f\"\"\"\n",
    "SELECT geometry_ref, gadm_level, geom_wkb FROM\n",
    "(\n",
    "    SELECT *, ST_GeomFromWKB(geom_wkb) AS geom FROM all_geoms_pdf\n",
    "    WHERE ST_WITHIN(ST_POINT({lng},{lat}), geom)\n",
    "    --AND gadm_level = 2\n",
    ")\n",
    "\"\"\").pl().sort(by=\"gadm_level\").tail(1)\n",
    "poly_geoms_df = poly_geoms.to_pandas()\n",
    "poly_geoms_pdf = geopandas.GeoDataFrame(poly_geoms_df,\n",
    "                                        geometry=geopandas.GeoSeries.from_wkb(poly_geoms_df['geom_wkb']), crs=\"EPSG:4326\")\n"
   ]
  },
  {
   "cell_type": "code",
   "execution_count": 70,
   "metadata": {},
   "outputs": [
    {
     "data": {
      "text/plain": [
       "{'gadm_BHR.1_1'}"
      ]
     },
     "execution_count": 70,
     "metadata": {},
     "output_type": "execute_result"
    }
   ],
   "source": [
    "gadms_ref = set(poly_geoms[GEOMETRY_REF].to_list())\n",
    "gadms_ref"
   ]
  },
  {
   "cell_type": "code",
   "execution_count": 71,
   "metadata": {},
   "outputs": [
    {
     "data": {
      "text/plain": [
       "{'trace_50.553_26.195', 'trace_50.6018_26.2146', 'trace_50.6237_26.1825'}"
      ]
     },
     "execution_count": 71,
     "metadata": {},
     "output_type": "execute_result"
    }
   ],
   "source": [
    "points_ref = set((all_points_pdf\n",
    " .filter(pl.col(\"gadm\").is_in(gadms_ref)))[GEOMETRY_REF].to_list())\n",
    "points_ref"
   ]
  },
  {
   "cell_type": "code",
   "execution_count": 72,
   "metadata": {},
   "outputs": [
    {
     "data": {
      "application/vnd.jupyter.widget-view+json": {
       "model_id": "abf57482f2d346809500c1d775907171",
       "version_major": 2,
       "version_minor": 1
      },
      "text/plain": [
       "Map(basemap_style=<CartoBasemap.DarkMatter: 'https://basemaps.cartocdn.com/gl/dark-matter-gl-style/style.json'…"
      ]
     },
     "execution_count": 72,
     "metadata": {},
     "output_type": "execute_result"
    }
   ],
   "source": [
    "viz(poly_geoms_pdf)"
   ]
  },
  {
   "cell_type": "code",
   "execution_count": 73,
   "metadata": {},
   "outputs": [
    {
     "data": {
      "text/html": [
       "<div><style>\n",
       ".dataframe > thead > tr,\n",
       ".dataframe > tbody > tr {\n",
       "  text-align: right;\n",
       "  white-space: pre-wrap;\n",
       "}\n",
       "</style>\n",
       "<small>shape: (65, 11)</small><table border=\"1\" class=\"dataframe\"><thead><tr><th>geometry_ref</th><th>gadm</th><th>geom_wkb</th><th>lat</th><th>lng</th><th>gadm_0</th><th>gadm_1</th><th>gadm_2</th><th>gadm_level</th><th>iso3_country</th><th>geom</th></tr><tr><td>str</td><td>str</td><td>binary</td><td>f64</td><td>f64</td><td>str</td><td>str</td><td>str</td><td>u32</td><td>str</td><td>binary</td></tr></thead><tbody><tr><td>&quot;trace_50.209_26.18&quot;</td><td>&quot;gadm_SAU.8.5_1&quot;</td><td>b&quot;\\x01\\x01\\x00\\x00\\x00\\x98n\\x12\\x83\\xc0\\x1aI@\\xaeG\\xe1z\\x14.:@&quot;</td><td>26.18</td><td>50.209</td><td>&quot;gadm_SAU&quot;</td><td>&quot;gadm_SAU&quot;</td><td>&quot;gadm_SAU.8_1&quot;</td><td>2</td><td>&quot;SAU&quot;</td><td>b&quot;\\x00\\x00\\x00\\x00\\x00\\x00\\x00\\x00\\x00\\x00\\x00\\x00\\x01\\x00\\x00\\x00\\x98n\\x12\\x83\\xc0\\x1aI@\\xaeG\\xe1z\\x14.:@&quot;</td></tr><tr><td>&quot;trace_50.08652452397077_26.926…</td><td>&quot;gadm_SAU.8.11_1&quot;</td><td>b&quot;\\x01\\x01\\x00\\x00\\x00\\xd3`P&lt;\\x13\\x0bI@B\\xcfo\\xc1L\\xed:@&quot;</td><td>26.926952</td><td>50.086525</td><td>&quot;gadm_SAU&quot;</td><td>&quot;gadm_SAU&quot;</td><td>&quot;gadm_SAU.8_1&quot;</td><td>2</td><td>&quot;SAU&quot;</td><td>b&quot;\\x00\\x00\\x00\\x00\\x00\\x00\\x00\\x00\\x00\\x00\\x00\\x00\\x01\\x00\\x00\\x00\\xd3`P&lt;\\x13\\x0bI@B\\xcfo\\xc1L\\xed:@&quot;</td></tr><tr><td>&quot;trace_49.9014_26.8567&quot;</td><td>&quot;gadm_SAU.8.11_1&quot;</td><td>b&quot;\\x01\\x01\\x00\\x00\\x00\\xa5N@\\x13a\\xf3H@\\xb3{\\xf2\\xb0P\\xdb:@&quot;</td><td>26.8567</td><td>49.9014</td><td>&quot;gadm_SAU&quot;</td><td>&quot;gadm_SAU&quot;</td><td>&quot;gadm_SAU.8_1&quot;</td><td>2</td><td>&quot;SAU&quot;</td><td>b&quot;\\x00\\x00\\x00\\x00\\x00\\x00\\x00\\x00\\x00\\x00\\x00\\x00\\x01\\x00\\x00\\x00\\xa5N@\\x13a\\xf3H@\\xb3{\\xf2\\xb0P\\xdb:@&quot;</td></tr><tr><td>&quot;trace_50.6621_26.2223&quot;</td><td>&quot;gadm_BHR.3_1&quot;</td><td>b&quot;\\x01\\x01\\x00\\x00\\x00?W[\\xb1\\xbfTI@\\x9b\\xe6\\x1d\\xa7\\xe88:@&quot;</td><td>26.2223</td><td>50.6621</td><td>&quot;gadm_BHR&quot;</td><td>&quot;gadm_BHR&quot;</td><td>&quot;gadm_BHR.3_1&quot;</td><td>1</td><td>&quot;BHR&quot;</td><td>b&quot;\\x00\\x00\\x00\\x00\\x00\\x00\\x00\\x00\\x00\\x00\\x00\\x00\\x01\\x00\\x00\\x00?W[\\xb1\\xbfTI@\\x9b\\xe6\\x1d\\xa7\\xe88:@&quot;</td></tr><tr><td>&quot;trace_50.1351_25.826&quot;</td><td>&quot;gadm_SAU.8.2_1&quot;</td><td>b&quot;\\x01\\x01\\x00\\x00\\x00E\\xd8\\xf0\\xf4J\\x11I@\\xfa~j\\xbct\\xd39@&quot;</td><td>25.826</td><td>50.1351</td><td>&quot;gadm_SAU&quot;</td><td>&quot;gadm_SAU&quot;</td><td>&quot;gadm_SAU.8_1&quot;</td><td>2</td><td>&quot;SAU&quot;</td><td>b&quot;\\x00\\x00\\x00\\x00\\x00\\x00\\x00\\x00\\x00\\x00\\x00\\x00\\x01\\x00\\x00\\x00E\\xd8\\xf0\\xf4J\\x11I@\\xfa~j\\xbct\\xd39@&quot;</td></tr><tr><td>&hellip;</td><td>&hellip;</td><td>&hellip;</td><td>&hellip;</td><td>&hellip;</td><td>&hellip;</td><td>&hellip;</td><td>&hellip;</td><td>&hellip;</td><td>&hellip;</td><td>&hellip;</td></tr><tr><td>&quot;trace_50.0951_26.698&quot;</td><td>&quot;gadm_SAU.8.11_1&quot;</td><td>b&quot;\\x01\\x01\\x00\\x00\\x00\\xc0\\xec\\x9e&lt;,\\x0cI@\\xa6\\x9b\\xc4\\x20\\xb0\\xb2:@&quot;</td><td>26.698</td><td>50.0951</td><td>&quot;gadm_SAU&quot;</td><td>&quot;gadm_SAU&quot;</td><td>&quot;gadm_SAU.8_1&quot;</td><td>2</td><td>&quot;SAU&quot;</td><td>b&quot;\\x00\\x00\\x00\\x00\\x00\\x00\\x00\\x00\\x00\\x00\\x00\\x00\\x01\\x00\\x00\\x00\\xc0\\xec\\x9e&lt;,\\x0cI@\\xa6\\x9b\\xc4\\x20\\xb0\\xb2:@&quot;</td></tr><tr><td>&quot;trace_49.932_26.55&quot;</td><td>&quot;gadm_SAU.8.7_1&quot;</td><td>b&quot;\\x01\\x01\\x00\\x00\\x00\\x9e\\xef\\xa7\\xc6K\\xf7H@\\xcd\\xcc\\xcc\\xcc\\xcc\\x8c:@&quot;</td><td>26.55</td><td>49.932</td><td>&quot;gadm_SAU&quot;</td><td>&quot;gadm_SAU&quot;</td><td>&quot;gadm_SAU.8_1&quot;</td><td>2</td><td>&quot;SAU&quot;</td><td>b&quot;\\x00\\x00\\x00\\x00\\x00\\x00\\x00\\x00\\x00\\x00\\x00\\x00\\x01\\x00\\x00\\x00\\x9e\\xef\\xa7\\xc6K\\xf7H@\\xcd\\xcc\\xcc\\xcc\\xcc\\x8c:@&quot;</td></tr><tr><td>&quot;trace_49.969064_26.244786&quot;</td><td>&quot;gadm_SAU.8.1_1&quot;</td><td>b&quot;\\x01\\x01\\x00\\x00\\x00\\x90\\xdd\\x05J\\x0a\\xfcH@\\xc7\\x84\\x98K\\xaa&gt;:@&quot;</td><td>26.244786</td><td>49.969064</td><td>&quot;gadm_SAU&quot;</td><td>&quot;gadm_SAU&quot;</td><td>&quot;gadm_SAU.8_1&quot;</td><td>2</td><td>&quot;SAU&quot;</td><td>b&quot;\\x00\\x00\\x00\\x00\\x00\\x00\\x00\\x00\\x00\\x00\\x00\\x00\\x01\\x00\\x00\\x00\\x90\\xdd\\x05J\\x0a\\xfcH@\\xc7\\x84\\x98K\\xaa&gt;:@&quot;</td></tr><tr><td>&quot;trace_50.6018_26.2146&quot;</td><td>&quot;gadm_BHR.1_1&quot;</td><td>b&quot;\\x01\\x01\\x00\\x00\\x00\\xcc]K\\xc8\\x07MI@\\xbb\\xb8\\x8d\\x06\\xf06:@&quot;</td><td>26.2146</td><td>50.6018</td><td>&quot;gadm_BHR&quot;</td><td>&quot;gadm_BHR&quot;</td><td>&quot;gadm_BHR.1_1&quot;</td><td>1</td><td>&quot;BHR&quot;</td><td>b&quot;\\x00\\x00\\x00\\x00\\x00\\x00\\x00\\x00\\x00\\x00\\x00\\x00\\x01\\x00\\x00\\x00\\xcc]K\\xc8\\x07MI@\\xbb\\xb8\\x8d\\x06\\xf06:@&quot;</td></tr><tr><td>&quot;trace_49.6808_25.933&quot;</td><td>&quot;gadm_SAU.8.1_1&quot;</td><td>b&quot;\\x01\\x01\\x00\\x00\\x00\\xf3\\x8eSt$\\xd7H@\\x02+\\x87\\x16\\xd9\\xee9@&quot;</td><td>25.933</td><td>49.6808</td><td>&quot;gadm_SAU&quot;</td><td>&quot;gadm_SAU&quot;</td><td>&quot;gadm_SAU.8_1&quot;</td><td>2</td><td>&quot;SAU&quot;</td><td>b&quot;\\x00\\x00\\x00\\x00\\x00\\x00\\x00\\x00\\x00\\x00\\x00\\x00\\x01\\x00\\x00\\x00\\xf3\\x8eSt$\\xd7H@\\x02+\\x87\\x16\\xd9\\xee9@&quot;</td></tr></tbody></table></div>"
      ],
      "text/plain": [
       "shape: (65, 11)\n",
       "┌───────────┬───────────┬───────────┬───────────┬───┬───────────┬───────────┬───────────┬──────────┐\n",
       "│ geometry_ ┆ gadm      ┆ geom_wkb  ┆ lat       ┆ … ┆ gadm_2    ┆ gadm_leve ┆ iso3_coun ┆ geom     │\n",
       "│ ref       ┆ ---       ┆ ---       ┆ ---       ┆   ┆ ---       ┆ l         ┆ try       ┆ ---      │\n",
       "│ ---       ┆ str       ┆ binary    ┆ f64       ┆   ┆ str       ┆ ---       ┆ ---       ┆ binary   │\n",
       "│ str       ┆           ┆           ┆           ┆   ┆           ┆ u32       ┆ str       ┆          │\n",
       "╞═══════════╪═══════════╪═══════════╪═══════════╪═══╪═══════════╪═══════════╪═══════════╪══════════╡\n",
       "│ trace_50. ┆ gadm_SAU. ┆ b\"\\x01\\x0 ┆ 26.18     ┆ … ┆ gadm_SAU. ┆ 2         ┆ SAU       ┆ b\"\\x00\\x │\n",
       "│ 209_26.18 ┆ 8.5_1     ┆ 1\\x00\\x00 ┆           ┆   ┆ 8_1       ┆           ┆           ┆ 00\\x00\\x │\n",
       "│           ┆           ┆ \\x00\\x98n ┆           ┆   ┆           ┆           ┆           ┆ 00\\x00\\x │\n",
       "│           ┆           ┆ \\x1…      ┆           ┆   ┆           ┆           ┆           ┆ 00\\x00…  │\n",
       "│ trace_50. ┆ gadm_SAU. ┆ b\"\\x01\\x0 ┆ 26.926952 ┆ … ┆ gadm_SAU. ┆ 2         ┆ SAU       ┆ b\"\\x00\\x │\n",
       "│ 086524523 ┆ 8.11_1    ┆ 1\\x00\\x00 ┆           ┆   ┆ 8_1       ┆           ┆           ┆ 00\\x00\\x │\n",
       "│ 97077_26. ┆           ┆ \\x00\\xd3` ┆           ┆   ┆           ┆           ┆           ┆ 00\\x00\\x │\n",
       "│ 926…      ┆           ┆ P<\\…      ┆           ┆   ┆           ┆           ┆           ┆ 00\\x00…  │\n",
       "│ trace_49. ┆ gadm_SAU. ┆ b\"\\x01\\x0 ┆ 26.8567   ┆ … ┆ gadm_SAU. ┆ 2         ┆ SAU       ┆ b\"\\x00\\x │\n",
       "│ 9014_26.8 ┆ 8.11_1    ┆ 1\\x00\\x00 ┆           ┆   ┆ 8_1       ┆           ┆           ┆ 00\\x00\\x │\n",
       "│ 567       ┆           ┆ \\x00\\xa5N ┆           ┆   ┆           ┆           ┆           ┆ 00\\x00\\x │\n",
       "│           ┆           ┆ @\\x…      ┆           ┆   ┆           ┆           ┆           ┆ 00\\x00…  │\n",
       "│ trace_50. ┆ gadm_BHR. ┆ b\"\\x01\\x0 ┆ 26.2223   ┆ … ┆ gadm_BHR. ┆ 1         ┆ BHR       ┆ b\"\\x00\\x │\n",
       "│ 6621_26.2 ┆ 3_1       ┆ 1\\x00\\x00 ┆           ┆   ┆ 3_1       ┆           ┆           ┆ 00\\x00\\x │\n",
       "│ 223       ┆           ┆ \\x00?W[\\x ┆           ┆   ┆           ┆           ┆           ┆ 00\\x00\\x │\n",
       "│           ┆           ┆ b1\\…      ┆           ┆   ┆           ┆           ┆           ┆ 00\\x00…  │\n",
       "│ trace_50. ┆ gadm_SAU. ┆ b\"\\x01\\x0 ┆ 25.826    ┆ … ┆ gadm_SAU. ┆ 2         ┆ SAU       ┆ b\"\\x00\\x │\n",
       "│ 1351_25.8 ┆ 8.2_1     ┆ 1\\x00\\x00 ┆           ┆   ┆ 8_1       ┆           ┆           ┆ 00\\x00\\x │\n",
       "│ 26        ┆           ┆ \\x00E\\xd8 ┆           ┆   ┆           ┆           ┆           ┆ 00\\x00\\x │\n",
       "│           ┆           ┆ \\xf…      ┆           ┆   ┆           ┆           ┆           ┆ 00\\x00…  │\n",
       "│ …         ┆ …         ┆ …         ┆ …         ┆ … ┆ …         ┆ …         ┆ …         ┆ …        │\n",
       "│ trace_50. ┆ gadm_SAU. ┆ b\"\\x01\\x0 ┆ 26.698    ┆ … ┆ gadm_SAU. ┆ 2         ┆ SAU       ┆ b\"\\x00\\x │\n",
       "│ 0951_26.6 ┆ 8.11_1    ┆ 1\\x00\\x00 ┆           ┆   ┆ 8_1       ┆           ┆           ┆ 00\\x00\\x │\n",
       "│ 98        ┆           ┆ \\x00\\xc0\\ ┆           ┆   ┆           ┆           ┆           ┆ 00\\x00\\x │\n",
       "│           ┆           ┆ xec…      ┆           ┆   ┆           ┆           ┆           ┆ 00\\x00…  │\n",
       "│ trace_49. ┆ gadm_SAU. ┆ b\"\\x01\\x0 ┆ 26.55     ┆ … ┆ gadm_SAU. ┆ 2         ┆ SAU       ┆ b\"\\x00\\x │\n",
       "│ 932_26.55 ┆ 8.7_1     ┆ 1\\x00\\x00 ┆           ┆   ┆ 8_1       ┆           ┆           ┆ 00\\x00\\x │\n",
       "│           ┆           ┆ \\x00\\x9e\\ ┆           ┆   ┆           ┆           ┆           ┆ 00\\x00\\x │\n",
       "│           ┆           ┆ xef…      ┆           ┆   ┆           ┆           ┆           ┆ 00\\x00…  │\n",
       "│ trace_49. ┆ gadm_SAU. ┆ b\"\\x01\\x0 ┆ 26.244786 ┆ … ┆ gadm_SAU. ┆ 2         ┆ SAU       ┆ b\"\\x00\\x │\n",
       "│ 969064_26 ┆ 8.1_1     ┆ 1\\x00\\x00 ┆           ┆   ┆ 8_1       ┆           ┆           ┆ 00\\x00\\x │\n",
       "│ .244786   ┆           ┆ \\x00\\x90\\ ┆           ┆   ┆           ┆           ┆           ┆ 00\\x00\\x │\n",
       "│           ┆           ┆ xdd…      ┆           ┆   ┆           ┆           ┆           ┆ 00\\x00…  │\n",
       "│ trace_50. ┆ gadm_BHR. ┆ b\"\\x01\\x0 ┆ 26.2146   ┆ … ┆ gadm_BHR. ┆ 1         ┆ BHR       ┆ b\"\\x00\\x │\n",
       "│ 6018_26.2 ┆ 1_1       ┆ 1\\x00\\x00 ┆           ┆   ┆ 1_1       ┆           ┆           ┆ 00\\x00\\x │\n",
       "│ 146       ┆           ┆ \\x00\\xcc] ┆           ┆   ┆           ┆           ┆           ┆ 00\\x00\\x │\n",
       "│           ┆           ┆ K\\x…      ┆           ┆   ┆           ┆           ┆           ┆ 00\\x00…  │\n",
       "│ trace_49. ┆ gadm_SAU. ┆ b\"\\x01\\x0 ┆ 25.933    ┆ … ┆ gadm_SAU. ┆ 2         ┆ SAU       ┆ b\"\\x00\\x │\n",
       "│ 6808_25.9 ┆ 8.1_1     ┆ 1\\x00\\x00 ┆           ┆   ┆ 8_1       ┆           ┆           ┆ 00\\x00\\x │\n",
       "│ 33        ┆           ┆ \\x00\\xf3\\ ┆           ┆   ┆           ┆           ┆           ┆ 00\\x00\\x │\n",
       "│           ┆           ┆ x8e…      ┆           ┆   ┆           ┆           ┆           ┆ 00\\x00…  │\n",
       "└───────────┴───────────┴───────────┴───────────┴───┴───────────┴───────────┴───────────┴──────────┘"
      ]
     },
     "execution_count": 73,
     "metadata": {},
     "output_type": "execute_result"
    }
   ],
   "source": [
    "point_geoms = duckdb.sql(f\"\"\"\n",
    "SELECT *, ST_GeomFromWKB(geom_wkb) AS geom FROM all_points_pdf\n",
    "    WHERE ST_Distance_Spheroid(ST_POINT({lng},{lat}), geom) < 100_000\n",
    "\"\"\").pl()\n",
    "point_geoms"
   ]
  },
  {
   "cell_type": "code",
   "execution_count": 74,
   "metadata": {},
   "outputs": [
    {
     "name": "stderr",
     "output_type": "stream",
     "text": [
      "DEBUG:urllib3.connectionpool:https://huggingface.co:443 \"HEAD /datasets/tjhunter/climate-trace/resolve/main/climate_trace-sources_v3-2024-ct4_2023_co2.parquet HTTP/11\" 302 0\n"
     ]
    },
    {
     "data": {
      "text/html": [
       "<div><style>\n",
       ".dataframe > thead > tr,\n",
       ".dataframe > tbody > tr {\n",
       "  text-align: right;\n",
       "  white-space: pre-wrap;\n",
       "}\n",
       "</style>\n",
       "<small>shape: (54, 8)</small><table border=\"1\" class=\"dataframe\"><thead><tr><th>source_id</th><th>geometry_ref</th><th>emissions_quantity</th><th>sector</th><th>subsector</th><th>source_name</th><th>lat</th><th>lon</th></tr><tr><td>u64</td><td>str</td><td>f64</td><td>enum</td><td>enum</td><td>str</td><td>f64</td><td>f64</td></tr></thead><tbody><tr><td>2789810</td><td>&quot;trace_50.8001_25.6426&quot;</td><td>62449.31836</td><td>&quot;transportation&quot;</td><td>&quot;international-shipping&quot;</td><td>&quot;Asker&quot;</td><td>25.6426</td><td>50.8001</td></tr><tr><td>3143738</td><td>&quot;trace_50.604604_26.116566&quot;</td><td>3.6963e6</td><td>&quot;fossil-fuel-operations&quot;</td><td>&quot;oil-and-gas-refining&quot;</td><td>&quot;Bahrain Petroleum Company Refi…</td><td>26.116566</td><td>50.604604</td></tr><tr><td>32439046</td><td>&quot;trace_50.8499475807345_25.1931…</td><td>693201.082928</td><td>&quot;manufacturing&quot;</td><td>&quot;cement&quot;</td><td>&quot;Qatar National Cement Company …</td><td>25.193147</td><td>50.849948</td></tr><tr><td>1929014</td><td>&quot;trace_50.62074247018271_25.999…</td><td>146008.891379</td><td>&quot;transportation&quot;</td><td>&quot;domestic-shipping&quot;</td><td>&quot;Asker&quot;</td><td>25.999559</td><td>50.620742</td></tr><tr><td>25457297</td><td>&quot;trace_49.932_26.55&quot;</td><td>491700.0</td><td>&quot;power&quot;</td><td>&quot;electricity-generation&quot;</td><td>&quot;Qatif G-1 power plant&quot;</td><td>26.55</td><td>49.932</td></tr><tr><td>&hellip;</td><td>&hellip;</td><td>&hellip;</td><td>&hellip;</td><td>&hellip;</td><td>&hellip;</td><td>&hellip;</td><td>&hellip;</td></tr><tr><td>1566445</td><td>&quot;trace_50.679539275049_26.19936…</td><td>543023.55333</td><td>&quot;manufacturing&quot;</td><td>&quot;iron-and-steel&quot;</td><td>&quot;Sulb Bahrain Al Hidd steel pla…</td><td>26.199369</td><td>50.679539</td></tr><tr><td>1933762</td><td>&quot;trace_51.2077_26.1447&quot;</td><td>17706.026757</td><td>&quot;transportation&quot;</td><td>&quot;domestic-shipping&quot;</td><td>&quot;Ruwais&quot;</td><td>26.1447</td><td>51.2077</td></tr><tr><td>453012</td><td>&quot;trace_50.608_25.9693&quot;</td><td>6.4082e6</td><td>&quot;power&quot;</td><td>&quot;electricity-generation&quot;</td><td>&quot;Al Dur Power and Water&quot;</td><td>25.9693</td><td>50.608</td></tr><tr><td>25451381</td><td>&quot;trace_50.5895_26.1203&quot;</td><td>3.4889e6</td><td>&quot;power&quot;</td><td>&quot;electricity-generation&quot;</td><td>&quot;Riffa Power and Water Station&quot;</td><td>26.1203</td><td>50.5895</td></tr><tr><td>449168</td><td>&quot;trace_50.1351_25.826&quot;</td><td>2.1136e7</td><td>&quot;power&quot;</td><td>&quot;electricity-generation&quot;</td><td>&quot;&lt;unknown plant name&gt;&quot;</td><td>25.826</td><td>50.1351</td></tr></tbody></table></div>"
      ],
      "text/plain": [
       "shape: (54, 8)\n",
       "┌───────────┬────────────┬────────────┬────────────┬───────────┬───────────┬───────────┬───────────┐\n",
       "│ source_id ┆ geometry_r ┆ emissions_ ┆ sector     ┆ subsector ┆ source_na ┆ lat       ┆ lon       │\n",
       "│ ---       ┆ ef         ┆ quantity   ┆ ---        ┆ ---       ┆ me        ┆ ---       ┆ ---       │\n",
       "│ u64       ┆ ---        ┆ ---        ┆ enum       ┆ enum      ┆ ---       ┆ f64       ┆ f64       │\n",
       "│           ┆ str        ┆ f64        ┆            ┆           ┆ str       ┆           ┆           │\n",
       "╞═══════════╪════════════╪════════════╪════════════╪═══════════╪═══════════╪═══════════╪═══════════╡\n",
       "│ 2789810   ┆ trace_50.8 ┆ 62449.3183 ┆ transporta ┆ internati ┆ Asker     ┆ 25.6426   ┆ 50.8001   │\n",
       "│           ┆ 001_25.642 ┆ 6          ┆ tion       ┆ onal-ship ┆           ┆           ┆           │\n",
       "│           ┆ 6          ┆            ┆            ┆ ping      ┆           ┆           ┆           │\n",
       "│ 3143738   ┆ trace_50.6 ┆ 3.6963e6   ┆ fossil-fue ┆ oil-and-g ┆ Bahrain   ┆ 26.116566 ┆ 50.604604 │\n",
       "│           ┆ 04604_26.1 ┆            ┆ l-operatio ┆ as-refini ┆ Petroleum ┆           ┆           │\n",
       "│           ┆ 16566      ┆            ┆ ns         ┆ ng        ┆ Company   ┆           ┆           │\n",
       "│           ┆            ┆            ┆            ┆           ┆ Refi…     ┆           ┆           │\n",
       "│ 32439046  ┆ trace_50.8 ┆ 693201.082 ┆ manufactur ┆ cement    ┆ Qatar     ┆ 25.193147 ┆ 50.849948 │\n",
       "│           ┆ 4994758073 ┆ 928        ┆ ing        ┆           ┆ National  ┆           ┆           │\n",
       "│           ┆ 45_25.1931 ┆            ┆            ┆           ┆ Cement    ┆           ┆           │\n",
       "│           ┆ …          ┆            ┆            ┆           ┆ Company … ┆           ┆           │\n",
       "│ 1929014   ┆ trace_50.6 ┆ 146008.891 ┆ transporta ┆ domestic- ┆ Asker     ┆ 25.999559 ┆ 50.620742 │\n",
       "│           ┆ 2074247018 ┆ 379        ┆ tion       ┆ shipping  ┆           ┆           ┆           │\n",
       "│           ┆ 271_25.999 ┆            ┆            ┆           ┆           ┆           ┆           │\n",
       "│           ┆ …          ┆            ┆            ┆           ┆           ┆           ┆           │\n",
       "│ 25457297  ┆ trace_49.9 ┆ 491700.0   ┆ power      ┆ electrici ┆ Qatif G-1 ┆ 26.55     ┆ 49.932    │\n",
       "│           ┆ 32_26.55   ┆            ┆            ┆ ty-genera ┆ power     ┆           ┆           │\n",
       "│           ┆            ┆            ┆            ┆ tion      ┆ plant     ┆           ┆           │\n",
       "│ …         ┆ …          ┆ …          ┆ …          ┆ …         ┆ …         ┆ …         ┆ …         │\n",
       "│ 1566445   ┆ trace_50.6 ┆ 543023.553 ┆ manufactur ┆ iron-and- ┆ Sulb      ┆ 26.199369 ┆ 50.679539 │\n",
       "│           ┆ 7953927504 ┆ 33         ┆ ing        ┆ steel     ┆ Bahrain   ┆           ┆           │\n",
       "│           ┆ 9_26.19936 ┆            ┆            ┆           ┆ Al Hidd   ┆           ┆           │\n",
       "│           ┆ …          ┆            ┆            ┆           ┆ steel     ┆           ┆           │\n",
       "│           ┆            ┆            ┆            ┆           ┆ pla…      ┆           ┆           │\n",
       "│ 1933762   ┆ trace_51.2 ┆ 17706.0267 ┆ transporta ┆ domestic- ┆ Ruwais    ┆ 26.1447   ┆ 51.2077   │\n",
       "│           ┆ 077_26.144 ┆ 57         ┆ tion       ┆ shipping  ┆           ┆           ┆           │\n",
       "│           ┆ 7          ┆            ┆            ┆           ┆           ┆           ┆           │\n",
       "│ 453012    ┆ trace_50.6 ┆ 6.4082e6   ┆ power      ┆ electrici ┆ Al Dur    ┆ 25.9693   ┆ 50.608    │\n",
       "│           ┆ 08_25.9693 ┆            ┆            ┆ ty-genera ┆ Power and ┆           ┆           │\n",
       "│           ┆            ┆            ┆            ┆ tion      ┆ Water     ┆           ┆           │\n",
       "│ 25451381  ┆ trace_50.5 ┆ 3.4889e6   ┆ power      ┆ electrici ┆ Riffa     ┆ 26.1203   ┆ 50.5895   │\n",
       "│           ┆ 895_26.120 ┆            ┆            ┆ ty-genera ┆ Power and ┆           ┆           │\n",
       "│           ┆ 3          ┆            ┆            ┆ tion      ┆ Water     ┆           ┆           │\n",
       "│           ┆            ┆            ┆            ┆           ┆ Station   ┆           ┆           │\n",
       "│ 449168    ┆ trace_50.1 ┆ 2.1136e7   ┆ power      ┆ electrici ┆ <unknown  ┆ 25.826    ┆ 50.1351   │\n",
       "│           ┆ 351_25.826 ┆            ┆            ┆ ty-genera ┆ plant     ┆           ┆           │\n",
       "│           ┆            ┆            ┆            ┆ tion      ┆ name>     ┆           ┆           │\n",
       "└───────────┴────────────┴────────────┴────────────┴───────────┴───────────┴───────────┴───────────┘"
      ]
     },
     "execution_count": 74,
     "metadata": {},
     "output_type": "execute_result"
    }
   ],
   "source": [
    "#country = \"NLD\"\n",
    "\n",
    "point_geom_refs = point_geoms[GEOMETRY_REF].to_list()\n",
    "point_biz_data = (ct.read_source_emissions(\n",
    "    gas=CO2,\n",
    "    year=2023\n",
    ")\n",
    " .group_by(c_source_id)\n",
    " .agg(c_geometry_ref.first(), c_emissions_quantity.sum(), c_sector.first(), c_subsector.first(), c_source_name.first(), c_lat.first(), c_lon.first())\n",
    " .filter(c_geometry_ref.is_in(point_geom_refs))\n",
    " .filter(c_emissions_quantity != 0)\n",
    " .collect()\n",
    ")\n",
    "point_biz_data"
   ]
  },
  {
   "cell_type": "code",
   "execution_count": 75,
   "metadata": {},
   "outputs": [
    {
     "data": {
      "text/html": [
       "<div style=\"width:100%;\"><div style=\"position:relative;width:100%;height:0;padding-bottom:60%;\"><span style=\"color:#565656\">Make this Notebook Trusted to load map: File -> Trust Notebook</span><iframe srcdoc=\"&lt;!DOCTYPE html&gt;\n",
       "&lt;html&gt;\n",
       "&lt;head&gt;\n",
       "    \n",
       "    &lt;meta http-equiv=&quot;content-type&quot; content=&quot;text/html; charset=UTF-8&quot; /&gt;\n",
       "    \n",
       "        &lt;script&gt;\n",
       "            L_NO_TOUCH = false;\n",
       "            L_DISABLE_3D = false;\n",
       "        &lt;/script&gt;\n",
       "    \n",
       "    &lt;style&gt;html, body {width: 100%;height: 100%;margin: 0;padding: 0;}&lt;/style&gt;\n",
       "    &lt;style&gt;#map {position:absolute;top:0;bottom:0;right:0;left:0;}&lt;/style&gt;\n",
       "    &lt;script src=&quot;https://cdn.jsdelivr.net/npm/leaflet@1.9.3/dist/leaflet.js&quot;&gt;&lt;/script&gt;\n",
       "    &lt;script src=&quot;https://code.jquery.com/jquery-3.7.1.min.js&quot;&gt;&lt;/script&gt;\n",
       "    &lt;script src=&quot;https://cdn.jsdelivr.net/npm/bootstrap@5.2.2/dist/js/bootstrap.bundle.min.js&quot;&gt;&lt;/script&gt;\n",
       "    &lt;script src=&quot;https://cdnjs.cloudflare.com/ajax/libs/Leaflet.awesome-markers/2.0.2/leaflet.awesome-markers.js&quot;&gt;&lt;/script&gt;\n",
       "    &lt;link rel=&quot;stylesheet&quot; href=&quot;https://cdn.jsdelivr.net/npm/leaflet@1.9.3/dist/leaflet.css&quot;/&gt;\n",
       "    &lt;link rel=&quot;stylesheet&quot; href=&quot;https://cdn.jsdelivr.net/npm/bootstrap@5.2.2/dist/css/bootstrap.min.css&quot;/&gt;\n",
       "    &lt;link rel=&quot;stylesheet&quot; href=&quot;https://netdna.bootstrapcdn.com/bootstrap/3.0.0/css/bootstrap-glyphicons.css&quot;/&gt;\n",
       "    &lt;link rel=&quot;stylesheet&quot; href=&quot;https://cdn.jsdelivr.net/npm/@fortawesome/fontawesome-free@6.2.0/css/all.min.css&quot;/&gt;\n",
       "    &lt;link rel=&quot;stylesheet&quot; href=&quot;https://cdnjs.cloudflare.com/ajax/libs/Leaflet.awesome-markers/2.0.2/leaflet.awesome-markers.css&quot;/&gt;\n",
       "    &lt;link rel=&quot;stylesheet&quot; href=&quot;https://cdn.jsdelivr.net/gh/python-visualization/folium/folium/templates/leaflet.awesome.rotate.min.css&quot;/&gt;\n",
       "    \n",
       "            &lt;meta name=&quot;viewport&quot; content=&quot;width=device-width,\n",
       "                initial-scale=1.0, maximum-scale=1.0, user-scalable=no&quot; /&gt;\n",
       "            &lt;style&gt;\n",
       "                #map_5d08e5f024ec28891124f9586fbae37a {\n",
       "                    position: relative;\n",
       "                    width: 100.0%;\n",
       "                    height: 100.0%;\n",
       "                    left: 0.0%;\n",
       "                    top: 0.0%;\n",
       "                }\n",
       "                .leaflet-container { font-size: 1rem; }\n",
       "            &lt;/style&gt;\n",
       "        \n",
       "    \n",
       "                    &lt;style&gt;\n",
       "                        .foliumtooltip {\n",
       "                            \n",
       "                        }\n",
       "                       .foliumtooltip table{\n",
       "                            margin: auto;\n",
       "                        }\n",
       "                        .foliumtooltip tr{\n",
       "                            text-align: left;\n",
       "                        }\n",
       "                        .foliumtooltip th{\n",
       "                            padding: 2px; padding-right: 8px;\n",
       "                        }\n",
       "                    &lt;/style&gt;\n",
       "            \n",
       "    \n",
       "    &lt;script src=&quot;https://code.jquery.com/ui/1.12.1/jquery-ui.js&quot;&gt;&lt;/script&gt;\n",
       "    &lt;script&gt;$( function() {\n",
       "        $( &quot;.maplegend&quot; ).draggable({\n",
       "            start: function (event, ui) {\n",
       "                $(this).css({\n",
       "                    right: &quot;auto&quot;,\n",
       "                    top: &quot;auto&quot;,\n",
       "                    bottom: &quot;auto&quot;\n",
       "                });\n",
       "            }\n",
       "        });\n",
       "    });\n",
       "    &lt;/script&gt;\n",
       "    &lt;style type=&#x27;text/css&#x27;&gt;\n",
       "      .maplegend {\n",
       "        position: absolute;\n",
       "        z-index:9999;\n",
       "        background-color: rgba(255, 255, 255, .8);\n",
       "        border-radius: 5px;\n",
       "        box-shadow: 0 0 15px rgba(0,0,0,0.2);\n",
       "        padding: 10px;\n",
       "        font: 12px/14px Arial, Helvetica, sans-serif;\n",
       "        right: 10px;\n",
       "        bottom: 20px;\n",
       "      }\n",
       "      .maplegend .legend-title {\n",
       "        text-align: left;\n",
       "        margin-bottom: 5px;\n",
       "        font-weight: bold;\n",
       "        }\n",
       "      .maplegend .legend-scale ul {\n",
       "        margin: 0;\n",
       "        margin-bottom: 0px;\n",
       "        padding: 0;\n",
       "        float: left;\n",
       "        list-style: none;\n",
       "        }\n",
       "      .maplegend .legend-scale ul li {\n",
       "        list-style: none;\n",
       "        margin-left: 0;\n",
       "        line-height: 16px;\n",
       "        margin-bottom: 2px;\n",
       "        }\n",
       "      .maplegend ul.legend-labels li span {\n",
       "        display: block;\n",
       "        float: left;\n",
       "        height: 14px;\n",
       "        width: 14px;\n",
       "        margin-right: 5px;\n",
       "        margin-left: 0;\n",
       "        border: 0px solid #ccc;\n",
       "        }\n",
       "      .maplegend .legend-source {\n",
       "        color: #777;\n",
       "        clear: both;\n",
       "        }\n",
       "      .maplegend a {\n",
       "        color: #777;\n",
       "        }\n",
       "    &lt;/style&gt;\n",
       "    \n",
       "&lt;/head&gt;\n",
       "&lt;body&gt;\n",
       "    \n",
       "    \n",
       "    &lt;div id=&#x27;maplegend sector&#x27; class=&#x27;maplegend&#x27;&gt;\n",
       "        &lt;div class=&#x27;legend-title&#x27;&gt;sector&lt;/div&gt;\n",
       "        &lt;div class=&#x27;legend-scale&#x27;&gt;\n",
       "            &lt;ul class=&#x27;legend-labels&#x27;&gt;\n",
       "                &lt;li&gt;&lt;span style=&#x27;background:#1f77b4&#x27;&gt;&lt;/span&gt;agriculture&lt;/li&gt;\n",
       "                &lt;li&gt;&lt;span style=&#x27;background:#ff7f0e&#x27;&gt;&lt;/span&gt;buildings&lt;/li&gt;\n",
       "                &lt;li&gt;&lt;span style=&#x27;background:#2ca02c&#x27;&gt;&lt;/span&gt;fluorinated-gases&lt;/li&gt;\n",
       "                &lt;li&gt;&lt;span style=&#x27;background:#d62728&#x27;&gt;&lt;/span&gt;forestry-and-land-use&lt;/li&gt;\n",
       "                &lt;li&gt;&lt;span style=&#x27;background:#9467bd&#x27;&gt;&lt;/span&gt;fossil-fuel-operations&lt;/li&gt;\n",
       "                &lt;li&gt;&lt;span style=&#x27;background:#c49c94&#x27;&gt;&lt;/span&gt;manufacturing&lt;/li&gt;\n",
       "                &lt;li&gt;&lt;span style=&#x27;background:#f7b6d2&#x27;&gt;&lt;/span&gt;mineral-extraction&lt;/li&gt;\n",
       "                &lt;li&gt;&lt;span style=&#x27;background:#c7c7c7&#x27;&gt;&lt;/span&gt;power&lt;/li&gt;\n",
       "                &lt;li&gt;&lt;span style=&#x27;background:#dbdb8d&#x27;&gt;&lt;/span&gt;transportation&lt;/li&gt;\n",
       "                &lt;li&gt;&lt;span style=&#x27;background:#9edae5&#x27;&gt;&lt;/span&gt;waste&lt;/li&gt;\n",
       "            &lt;/ul&gt;\n",
       "        &lt;/div&gt;\n",
       "    &lt;/div&gt;\n",
       "    \n",
       "    \n",
       "            &lt;div class=&quot;folium-map&quot; id=&quot;map_5d08e5f024ec28891124f9586fbae37a&quot; &gt;&lt;/div&gt;\n",
       "        \n",
       "&lt;/body&gt;\n",
       "&lt;script&gt;\n",
       "    \n",
       "    \n",
       "            var map_5d08e5f024ec28891124f9586fbae37a = L.map(\n",
       "                &quot;map_5d08e5f024ec28891124f9586fbae37a&quot;,\n",
       "                {\n",
       "                    center: [26.03931248317665, 50.44425],\n",
       "                    crs: L.CRS.EPSG3857,\n",
       "                    zoom: 10,\n",
       "                    zoomControl: true,\n",
       "                    preferCanvas: false,\n",
       "                }\n",
       "            );\n",
       "            L.control.scale().addTo(map_5d08e5f024ec28891124f9586fbae37a);\n",
       "\n",
       "            \n",
       "\n",
       "        \n",
       "    \n",
       "            var tile_layer_cea1c5729a1b8e807e4686fd38fd2f95 = L.tileLayer(\n",
       "                &quot;https://tile.openstreetmap.org/{z}/{x}/{y}.png&quot;,\n",
       "                {&quot;attribution&quot;: &quot;\\u0026copy; \\u003ca href=\\&quot;https://www.openstreetmap.org/copyright\\&quot;\\u003eOpenStreetMap\\u003c/a\\u003e contributors&quot;, &quot;detectRetina&quot;: false, &quot;maxNativeZoom&quot;: 19, &quot;maxZoom&quot;: 19, &quot;minZoom&quot;: 0, &quot;noWrap&quot;: false, &quot;opacity&quot;: 1, &quot;subdomains&quot;: &quot;abc&quot;, &quot;tms&quot;: false}\n",
       "            );\n",
       "        \n",
       "    \n",
       "            tile_layer_cea1c5729a1b8e807e4686fd38fd2f95.addTo(map_5d08e5f024ec28891124f9586fbae37a);\n",
       "        \n",
       "    \n",
       "            map_5d08e5f024ec28891124f9586fbae37a.fitBounds(\n",
       "                [[25.1453249663533, 49.6808], [26.9333, 51.2077]],\n",
       "                {}\n",
       "            );\n",
       "        \n",
       "    \n",
       "        function geo_json_c3f471b952697592f1e75b0a33495f42_styler(feature) {\n",
       "            switch(feature.id) {\n",
       "                case &quot;0&quot;: \n",
       "                    return {&quot;color&quot;: &quot;#dbdb8d&quot;, &quot;fillColor&quot;: &quot;#dbdb8d&quot;, &quot;fillOpacity&quot;: 0.5, &quot;radius&quot;: 4.487815805501223, &quot;weight&quot;: 2};\n",
       "                case &quot;1&quot;: \n",
       "                    return {&quot;color&quot;: &quot;#9467bd&quot;, &quot;fillColor&quot;: &quot;#9467bd&quot;, &quot;fillOpacity&quot;: 0.5, &quot;radius&quot;: 11.528645016251671, &quot;weight&quot;: 2};\n",
       "                case &quot;2&quot;: \n",
       "                    return {&quot;color&quot;: &quot;#c49c94&quot;, &quot;fillColor&quot;: &quot;#c49c94&quot;, &quot;fillOpacity&quot;: 0.5, &quot;radius&quot;: 8.108789572057937, &quot;weight&quot;: 2};\n",
       "                case &quot;3&quot;: \n",
       "                    return {&quot;color&quot;: &quot;#dbdb8d&quot;, &quot;fillColor&quot;: &quot;#dbdb8d&quot;, &quot;fillOpacity&quot;: 0.5, &quot;radius&quot;: 5.60505924443285, &quot;weight&quot;: 2};\n",
       "                case &quot;4&quot;: \n",
       "                    return {&quot;color&quot;: &quot;#c7c7c7&quot;, &quot;fillColor&quot;: &quot;#c7c7c7&quot;, &quot;fillOpacity&quot;: 0.5, &quot;radius&quot;: 7.5032922488263605, &quot;weight&quot;: 2};\n",
       "                case &quot;5&quot;: \n",
       "                    return {&quot;color&quot;: &quot;#dbdb8d&quot;, &quot;fillColor&quot;: &quot;#dbdb8d&quot;, &quot;fillOpacity&quot;: 0.5, &quot;radius&quot;: 6.865968773306533, &quot;weight&quot;: 2};\n",
       "                case &quot;6&quot;: \n",
       "                    return {&quot;color&quot;: &quot;#dbdb8d&quot;, &quot;fillColor&quot;: &quot;#dbdb8d&quot;, &quot;fillOpacity&quot;: 0.5, &quot;radius&quot;: 2.5825915528343897, &quot;weight&quot;: 2};\n",
       "                case &quot;7&quot;: \n",
       "                    return {&quot;color&quot;: &quot;#c7c7c7&quot;, &quot;fillColor&quot;: &quot;#c7c7c7&quot;, &quot;fillOpacity&quot;: 0.5, &quot;radius&quot;: 10.625390661037653, &quot;weight&quot;: 2};\n",
       "                case &quot;8&quot;: \n",
       "                    return {&quot;color&quot;: &quot;#c7c7c7&quot;, &quot;fillColor&quot;: &quot;#c7c7c7&quot;, &quot;fillOpacity&quot;: 0.5, &quot;radius&quot;: 8.543913281151625, &quot;weight&quot;: 2};\n",
       "                case &quot;10&quot;: \n",
       "                    return {&quot;color&quot;: &quot;#c49c94&quot;, &quot;fillColor&quot;: &quot;#c49c94&quot;, &quot;fillOpacity&quot;: 0.5, &quot;radius&quot;: 7.0435093985383945, &quot;weight&quot;: 2};\n",
       "                case &quot;11&quot;: \n",
       "                    return {&quot;color&quot;: &quot;#c7c7c7&quot;, &quot;fillColor&quot;: &quot;#c7c7c7&quot;, &quot;fillOpacity&quot;: 0.5, &quot;radius&quot;: 10.815982965570802, &quot;weight&quot;: 2};\n",
       "                case &quot;12&quot;: \n",
       "                    return {&quot;color&quot;: &quot;#c49c94&quot;, &quot;fillColor&quot;: &quot;#c49c94&quot;, &quot;fillOpacity&quot;: 0.5, &quot;radius&quot;: 10.176017969099382, &quot;weight&quot;: 2};\n",
       "                case &quot;13&quot;: \n",
       "                    return {&quot;color&quot;: &quot;#dbdb8d&quot;, &quot;fillColor&quot;: &quot;#dbdb8d&quot;, &quot;fillOpacity&quot;: 0.5, &quot;radius&quot;: 2.99878443838229, &quot;weight&quot;: 2};\n",
       "                case &quot;14&quot;: \n",
       "                    return {&quot;color&quot;: &quot;#dbdb8d&quot;, &quot;fillColor&quot;: &quot;#dbdb8d&quot;, &quot;fillOpacity&quot;: 0.5, &quot;radius&quot;: 2.5978968896858756, &quot;weight&quot;: 2};\n",
       "                case &quot;15&quot;: \n",
       "                    return {&quot;color&quot;: &quot;#dbdb8d&quot;, &quot;fillColor&quot;: &quot;#dbdb8d&quot;, &quot;fillOpacity&quot;: 0.5, &quot;radius&quot;: 2.5992682258095217, &quot;weight&quot;: 2};\n",
       "                case &quot;16&quot;: \n",
       "                    return {&quot;color&quot;: &quot;#dbdb8d&quot;, &quot;fillColor&quot;: &quot;#dbdb8d&quot;, &quot;fillOpacity&quot;: 0.5, &quot;radius&quot;: 5.099433723677634, &quot;weight&quot;: 2};\n",
       "                case &quot;17&quot;: \n",
       "                    return {&quot;color&quot;: &quot;#c7c7c7&quot;, &quot;fillColor&quot;: &quot;#c7c7c7&quot;, &quot;fillOpacity&quot;: 0.5, &quot;radius&quot;: 7.006778796437558, &quot;weight&quot;: 2};\n",
       "                case &quot;18&quot;: \n",
       "                    return {&quot;color&quot;: &quot;#c49c94&quot;, &quot;fillColor&quot;: &quot;#c49c94&quot;, &quot;fillOpacity&quot;: 0.5, &quot;radius&quot;: 10.203798098205976, &quot;weight&quot;: 2};\n",
       "                case &quot;19&quot;: \n",
       "                    return {&quot;color&quot;: &quot;#dbdb8d&quot;, &quot;fillColor&quot;: &quot;#dbdb8d&quot;, &quot;fillOpacity&quot;: 0.5, &quot;radius&quot;: 6.721110534448946, &quot;weight&quot;: 2};\n",
       "                case &quot;20&quot;: \n",
       "                    return {&quot;color&quot;: &quot;#c7c7c7&quot;, &quot;fillColor&quot;: &quot;#c7c7c7&quot;, &quot;fillOpacity&quot;: 0.5, &quot;radius&quot;: 13.854210219748635, &quot;weight&quot;: 2};\n",
       "                case &quot;21&quot;: \n",
       "                    return {&quot;color&quot;: &quot;#c7c7c7&quot;, &quot;fillColor&quot;: &quot;#c7c7c7&quot;, &quot;fillOpacity&quot;: 0.5, &quot;radius&quot;: 8.591431542251293, &quot;weight&quot;: 2};\n",
       "                case &quot;22&quot;: \n",
       "                    return {&quot;color&quot;: &quot;#dbdb8d&quot;, &quot;fillColor&quot;: &quot;#dbdb8d&quot;, &quot;fillOpacity&quot;: 0.5, &quot;radius&quot;: 2.907445018966576, &quot;weight&quot;: 2};\n",
       "                case &quot;23&quot;: \n",
       "                    return {&quot;color&quot;: &quot;#c7c7c7&quot;, &quot;fillColor&quot;: &quot;#c7c7c7&quot;, &quot;fillOpacity&quot;: 0.5, &quot;radius&quot;: 7.526631303641234, &quot;weight&quot;: 2};\n",
       "                case &quot;24&quot;: \n",
       "                    return {&quot;color&quot;: &quot;#dbdb8d&quot;, &quot;fillColor&quot;: &quot;#dbdb8d&quot;, &quot;fillOpacity&quot;: 0.5, &quot;radius&quot;: 6.11787356596915, &quot;weight&quot;: 2};\n",
       "                case &quot;25&quot;: \n",
       "                    return {&quot;color&quot;: &quot;#c7c7c7&quot;, &quot;fillColor&quot;: &quot;#c7c7c7&quot;, &quot;fillOpacity&quot;: 0.5, &quot;radius&quot;: 7.75249538914389, &quot;weight&quot;: 2};\n",
       "                case &quot;26&quot;: \n",
       "                    return {&quot;color&quot;: &quot;#9467bd&quot;, &quot;fillColor&quot;: &quot;#9467bd&quot;, &quot;fillOpacity&quot;: 0.5, &quot;radius&quot;: 12.758793348086176, &quot;weight&quot;: 2};\n",
       "                case &quot;27&quot;: \n",
       "                    return {&quot;color&quot;: &quot;#dbdb8d&quot;, &quot;fillColor&quot;: &quot;#dbdb8d&quot;, &quot;fillOpacity&quot;: 0.5, &quot;radius&quot;: 9.267556321640885, &quot;weight&quot;: 2};\n",
       "                case &quot;28&quot;: \n",
       "                    return {&quot;color&quot;: &quot;#c7c7c7&quot;, &quot;fillColor&quot;: &quot;#c7c7c7&quot;, &quot;fillOpacity&quot;: 0.5, &quot;radius&quot;: 5.85356102137415, &quot;weight&quot;: 2};\n",
       "                case &quot;29&quot;: \n",
       "                    return {&quot;color&quot;: &quot;#dbdb8d&quot;, &quot;fillColor&quot;: &quot;#dbdb8d&quot;, &quot;fillOpacity&quot;: 0.5, &quot;radius&quot;: 6.477291004502583, &quot;weight&quot;: 2};\n",
       "                case &quot;30&quot;: \n",
       "                    return {&quot;color&quot;: &quot;#c49c94&quot;, &quot;fillColor&quot;: &quot;#c49c94&quot;, &quot;fillOpacity&quot;: 0.5, &quot;radius&quot;: 11.478547940211037, &quot;weight&quot;: 2};\n",
       "                case &quot;31&quot;: \n",
       "                    return {&quot;color&quot;: &quot;#dbdb8d&quot;, &quot;fillColor&quot;: &quot;#dbdb8d&quot;, &quot;fillOpacity&quot;: 0.5, &quot;radius&quot;: 8.77666480826475, &quot;weight&quot;: 2};\n",
       "                case &quot;32&quot;: \n",
       "                    return {&quot;color&quot;: &quot;#c7c7c7&quot;, &quot;fillColor&quot;: &quot;#c7c7c7&quot;, &quot;fillOpacity&quot;: 0.5, &quot;radius&quot;: 6.724721922731166, &quot;weight&quot;: 2};\n",
       "                case &quot;33&quot;: \n",
       "                    return {&quot;color&quot;: &quot;#c49c94&quot;, &quot;fillColor&quot;: &quot;#c49c94&quot;, &quot;fillOpacity&quot;: 0.5, &quot;radius&quot;: 5.632030177644823, &quot;weight&quot;: 2};\n",
       "                case &quot;34&quot;: \n",
       "                    return {&quot;color&quot;: &quot;#c7c7c7&quot;, &quot;fillColor&quot;: &quot;#c7c7c7&quot;, &quot;fillOpacity&quot;: 0.5, &quot;radius&quot;: 8.522973778106486, &quot;weight&quot;: 2};\n",
       "                case &quot;35&quot;: \n",
       "                    return {&quot;color&quot;: &quot;#dbdb8d&quot;, &quot;fillColor&quot;: &quot;#dbdb8d&quot;, &quot;fillOpacity&quot;: 0.5, &quot;radius&quot;: 3.639178237216234, &quot;weight&quot;: 2};\n",
       "                case &quot;36&quot;: \n",
       "                    return {&quot;color&quot;: &quot;#dbdb8d&quot;, &quot;fillColor&quot;: &quot;#dbdb8d&quot;, &quot;fillOpacity&quot;: 0.5, &quot;radius&quot;: 2.5709244479145186, &quot;weight&quot;: 2};\n",
       "                case &quot;37&quot;: \n",
       "                    return {&quot;color&quot;: &quot;#dbdb8d&quot;, &quot;fillColor&quot;: &quot;#dbdb8d&quot;, &quot;fillOpacity&quot;: 0.5, &quot;radius&quot;: 9.309444923332522, &quot;weight&quot;: 2};\n",
       "                case &quot;38&quot;: \n",
       "                    return {&quot;color&quot;: &quot;#c7c7c7&quot;, &quot;fillColor&quot;: &quot;#c7c7c7&quot;, &quot;fillOpacity&quot;: 0.5, &quot;radius&quot;: 13.559923287695167, &quot;weight&quot;: 2};\n",
       "                case &quot;39&quot;: \n",
       "                    return {&quot;color&quot;: &quot;#dbdb8d&quot;, &quot;fillColor&quot;: &quot;#dbdb8d&quot;, &quot;fillOpacity&quot;: 0.5, &quot;radius&quot;: 0.6407400972634465, &quot;weight&quot;: 2};\n",
       "                case &quot;40&quot;: \n",
       "                    return {&quot;color&quot;: &quot;#dbdb8d&quot;, &quot;fillColor&quot;: &quot;#dbdb8d&quot;, &quot;fillOpacity&quot;: 0.5, &quot;radius&quot;: 6.537111480323999, &quot;weight&quot;: 2};\n",
       "                case &quot;41&quot;: \n",
       "                    return {&quot;color&quot;: &quot;#dbdb8d&quot;, &quot;fillColor&quot;: &quot;#dbdb8d&quot;, &quot;fillOpacity&quot;: 0.5, &quot;radius&quot;: 7.647665045437879, &quot;weight&quot;: 2};\n",
       "                case &quot;42&quot;: \n",
       "                    return {&quot;color&quot;: &quot;#dbdb8d&quot;, &quot;fillColor&quot;: &quot;#dbdb8d&quot;, &quot;fillOpacity&quot;: 0.5, &quot;radius&quot;: 5.9701873065537425, &quot;weight&quot;: 2};\n",
       "                case &quot;43&quot;: \n",
       "                    return {&quot;color&quot;: &quot;#dbdb8d&quot;, &quot;fillColor&quot;: &quot;#dbdb8d&quot;, &quot;fillOpacity&quot;: 0.5, &quot;radius&quot;: 0.6592791030887938, &quot;weight&quot;: 2};\n",
       "                case &quot;44&quot;: \n",
       "                    return {&quot;color&quot;: &quot;#c7c7c7&quot;, &quot;fillColor&quot;: &quot;#c7c7c7&quot;, &quot;fillOpacity&quot;: 0.5, &quot;radius&quot;: 15.3180719223802, &quot;weight&quot;: 2};\n",
       "                case &quot;45&quot;: \n",
       "                    return {&quot;color&quot;: &quot;#c7c7c7&quot;, &quot;fillColor&quot;: &quot;#c7c7c7&quot;, &quot;fillOpacity&quot;: 0.5, &quot;radius&quot;: 11.73749929226161, &quot;weight&quot;: 2};\n",
       "                case &quot;46&quot;: \n",
       "                    return {&quot;color&quot;: &quot;#c7c7c7&quot;, &quot;fillColor&quot;: &quot;#c7c7c7&quot;, &quot;fillOpacity&quot;: 0.5, &quot;radius&quot;: 10.08116126915432, &quot;weight&quot;: 2};\n",
       "                case &quot;47&quot;: \n",
       "                    return {&quot;color&quot;: &quot;#dbdb8d&quot;, &quot;fillColor&quot;: &quot;#dbdb8d&quot;, &quot;fillOpacity&quot;: 0.5, &quot;radius&quot;: 5.299030889809174, &quot;weight&quot;: 2};\n",
       "                case &quot;48&quot;: \n",
       "                    return {&quot;color&quot;: &quot;#c7c7c7&quot;, &quot;fillColor&quot;: &quot;#c7c7c7&quot;, &quot;fillOpacity&quot;: 0.5, &quot;radius&quot;: 10.319409937106059, &quot;weight&quot;: 2};\n",
       "                case &quot;49&quot;: \n",
       "                    return {&quot;color&quot;: &quot;#c49c94&quot;, &quot;fillColor&quot;: &quot;#c49c94&quot;, &quot;fillOpacity&quot;: 0.5, &quot;radius&quot;: 7.675114834413721, &quot;weight&quot;: 2};\n",
       "                case &quot;50&quot;: \n",
       "                    return {&quot;color&quot;: &quot;#dbdb8d&quot;, &quot;fillColor&quot;: &quot;#dbdb8d&quot;, &quot;fillOpacity&quot;: 0.5, &quot;radius&quot;: 3.1197262129465058, &quot;weight&quot;: 2};\n",
       "                case &quot;51&quot;: \n",
       "                    return {&quot;color&quot;: &quot;#c7c7c7&quot;, &quot;fillColor&quot;: &quot;#c7c7c7&quot;, &quot;fillOpacity&quot;: 0.5, &quot;radius&quot;: 12.833423990693419, &quot;weight&quot;: 2};\n",
       "                case &quot;52&quot;: \n",
       "                    return {&quot;color&quot;: &quot;#c7c7c7&quot;, &quot;fillColor&quot;: &quot;#c7c7c7&quot;, &quot;fillOpacity&quot;: 0.5, &quot;radius&quot;: 11.39710494463621, &quot;weight&quot;: 2};\n",
       "                case &quot;53&quot;: \n",
       "                    return {&quot;color&quot;: &quot;#c7c7c7&quot;, &quot;fillColor&quot;: &quot;#c7c7c7&quot;, &quot;fillOpacity&quot;: 0.5, &quot;radius&quot;: 15.99384025060744, &quot;weight&quot;: 2};\n",
       "                default:\n",
       "                    return {&quot;color&quot;: &quot;#dbdb8d&quot;, &quot;fillColor&quot;: &quot;#dbdb8d&quot;, &quot;fillOpacity&quot;: 0.5, &quot;radius&quot;: 8.276016119662396, &quot;weight&quot;: 2};\n",
       "            }\n",
       "        }\n",
       "        function geo_json_c3f471b952697592f1e75b0a33495f42_highlighter(feature) {\n",
       "            switch(feature.id) {\n",
       "                default:\n",
       "                    return {&quot;fillOpacity&quot;: 0.75};\n",
       "            }\n",
       "        }\n",
       "        function geo_json_c3f471b952697592f1e75b0a33495f42_pointToLayer(feature, latlng) {\n",
       "            var opts = {&quot;bubblingMouseEvents&quot;: true, &quot;color&quot;: &quot;#3388ff&quot;, &quot;dashArray&quot;: null, &quot;dashOffset&quot;: null, &quot;fill&quot;: true, &quot;fillColor&quot;: &quot;#3388ff&quot;, &quot;fillOpacity&quot;: 0.2, &quot;fillRule&quot;: &quot;evenodd&quot;, &quot;lineCap&quot;: &quot;round&quot;, &quot;lineJoin&quot;: &quot;round&quot;, &quot;opacity&quot;: 1.0, &quot;radius&quot;: 2, &quot;stroke&quot;: true, &quot;weight&quot;: 3};\n",
       "            \n",
       "            let style = geo_json_c3f471b952697592f1e75b0a33495f42_styler(feature)\n",
       "            Object.assign(opts, style)\n",
       "            \n",
       "            return new L.CircleMarker(latlng, opts)\n",
       "        }\n",
       "\n",
       "        function geo_json_c3f471b952697592f1e75b0a33495f42_onEachFeature(feature, layer) {\n",
       "            layer.on({\n",
       "                mouseout: function(e) {\n",
       "                    if(typeof e.target.setStyle === &quot;function&quot;){\n",
       "                            geo_json_c3f471b952697592f1e75b0a33495f42.resetStyle(e.target);\n",
       "                    }\n",
       "                },\n",
       "                mouseover: function(e) {\n",
       "                    if(typeof e.target.setStyle === &quot;function&quot;){\n",
       "                        const highlightStyle = geo_json_c3f471b952697592f1e75b0a33495f42_highlighter(e.target.feature)\n",
       "                        e.target.setStyle(highlightStyle);\n",
       "                    }\n",
       "                },\n",
       "            });\n",
       "        };\n",
       "        var geo_json_c3f471b952697592f1e75b0a33495f42 = L.geoJson(null, {\n",
       "                onEachFeature: geo_json_c3f471b952697592f1e75b0a33495f42_onEachFeature,\n",
       "            \n",
       "                style: geo_json_c3f471b952697592f1e75b0a33495f42_styler,\n",
       "                pointToLayer: geo_json_c3f471b952697592f1e75b0a33495f42_pointToLayer,\n",
       "        });\n",
       "\n",
       "        function geo_json_c3f471b952697592f1e75b0a33495f42_add (data) {\n",
       "            geo_json_c3f471b952697592f1e75b0a33495f42\n",
       "                .addData(data);\n",
       "        }\n",
       "            geo_json_c3f471b952697592f1e75b0a33495f42_add({&quot;bbox&quot;: [49.6808, 25.1453249663533, 51.2077, 26.9333], &quot;features&quot;: [{&quot;bbox&quot;: [50.8001, 25.6426, 50.8001, 25.6426], &quot;geometry&quot;: {&quot;coordinates&quot;: [50.8001, 25.6426], &quot;type&quot;: &quot;Point&quot;}, &quot;id&quot;: &quot;0&quot;, &quot;properties&quot;: {&quot;__folium_color&quot;: &quot;#dbdb8d&quot;, &quot;emissions_quantity&quot;: 62449.3183596, &quot;geometry_ref&quot;: &quot;trace_50.8001_25.6426&quot;, &quot;lat&quot;: 25.6426, &quot;lon&quot;: 50.8001, &quot;sector&quot;: &quot;transportation&quot;, &quot;source_id&quot;: 2789810, &quot;source_name&quot;: &quot;Asker&quot;, &quot;subsector&quot;: &quot;international-shipping&quot;}, &quot;type&quot;: &quot;Feature&quot;}, {&quot;bbox&quot;: [50.604604, 26.116566, 50.604604, 26.116566], &quot;geometry&quot;: {&quot;coordinates&quot;: [50.604604, 26.116566], &quot;type&quot;: &quot;Point&quot;}, &quot;id&quot;: &quot;1&quot;, &quot;properties&quot;: {&quot;__folium_color&quot;: &quot;#9467bd&quot;, &quot;emissions_quantity&quot;: 3696265.7481573005, &quot;geometry_ref&quot;: &quot;trace_50.604604_26.116566&quot;, &quot;lat&quot;: 26.116566, &quot;lon&quot;: 50.604604, &quot;sector&quot;: &quot;fossil-fuel-operations&quot;, &quot;source_id&quot;: 3143738, &quot;source_name&quot;: &quot;Bahrain Petroleum Company Refinery&quot;, &quot;subsector&quot;: &quot;oil-and-gas-refining&quot;}, &quot;type&quot;: &quot;Feature&quot;}, {&quot;bbox&quot;: [50.8499475807345, 25.193146545287, 50.8499475807345, 25.193146545287], &quot;geometry&quot;: {&quot;coordinates&quot;: [50.8499475807345, 25.193146545287], &quot;type&quot;: &quot;Point&quot;}, &quot;id&quot;: &quot;2&quot;, &quot;properties&quot;: {&quot;__folium_color&quot;: &quot;#c49c94&quot;, &quot;emissions_quantity&quot;: 693201.0829279642, &quot;geometry_ref&quot;: &quot;trace_50.8499475807345_25.193146545287&quot;, &quot;lat&quot;: 25.193146545287, &quot;lon&quot;: 50.8499475807345, &quot;sector&quot;: &quot;manufacturing&quot;, &quot;source_id&quot;: 32439046, &quot;source_name&quot;: &quot;Qatar National Cement Company QPSC Al Rayyan Municipality 1&quot;, &quot;subsector&quot;: &quot;cement&quot;}, &quot;type&quot;: &quot;Feature&quot;}, {&quot;bbox&quot;: [50.62074247018271, 25.9995591977074, 50.62074247018271, 25.9995591977074], &quot;geometry&quot;: {&quot;coordinates&quot;: [50.62074247018271, 25.9995591977074], &quot;type&quot;: &quot;Point&quot;}, &quot;id&quot;: &quot;3&quot;, &quot;properties&quot;: {&quot;__folium_color&quot;: &quot;#dbdb8d&quot;, &quot;emissions_quantity&quot;: 146008.8913794, &quot;geometry_ref&quot;: &quot;trace_50.62074247018271_25.9995591977074&quot;, &quot;lat&quot;: 25.9995591977074, &quot;lon&quot;: 50.62074247018271, &quot;sector&quot;: &quot;transportation&quot;, &quot;source_id&quot;: 1929014, &quot;source_name&quot;: &quot;Asker&quot;, &quot;subsector&quot;: &quot;domestic-shipping&quot;}, &quot;type&quot;: &quot;Feature&quot;}, {&quot;bbox&quot;: [49.932, 26.55, 49.932, 26.55], &quot;geometry&quot;: {&quot;coordinates&quot;: [49.932, 26.55], &quot;type&quot;: &quot;Point&quot;}, &quot;id&quot;: &quot;4&quot;, &quot;properties&quot;: {&quot;__folium_color&quot;: &quot;#c7c7c7&quot;, &quot;emissions_quantity&quot;: 491700.0, &quot;geometry_ref&quot;: &quot;trace_49.932_26.55&quot;, &quot;lat&quot;: 26.55, &quot;lon&quot;: 49.932, &quot;sector&quot;: &quot;power&quot;, &quot;source_id&quot;: 25457297, &quot;source_name&quot;: &quot;Qatif G-1 power plant&quot;, &quot;subsector&quot;: &quot;electricity-generation&quot;}, &quot;type&quot;: &quot;Feature&quot;}, {&quot;bbox&quot;: [50.1711, 26.6454, 50.1711, 26.6454], &quot;geometry&quot;: {&quot;coordinates&quot;: [50.1711, 26.6454], &quot;type&quot;: &quot;Point&quot;}, &quot;id&quot;: &quot;5&quot;, &quot;properties&quot;: {&quot;__folium_color&quot;: &quot;#dbdb8d&quot;, &quot;emissions_quantity&quot;: 335551.99114520004, &quot;geometry_ref&quot;: &quot;trace_50.1711_26.6454&quot;, &quot;lat&quot;: 26.6454, &quot;lon&quot;: 50.1711, &quot;sector&quot;: &quot;transportation&quot;, &quot;source_id&quot;: 1933959, &quot;source_name&quot;: &quot;Ras Tanura&quot;, &quot;subsector&quot;: &quot;domestic-shipping&quot;}, &quot;type&quot;: &quot;Feature&quot;}, {&quot;bbox&quot;: [50.22790489094556, 26.68080199029541, 50.22790489094556, 26.68080199029541], &quot;geometry&quot;: {&quot;coordinates&quot;: [50.22790489094556, 26.68080199029541], &quot;type&quot;: &quot;Point&quot;}, &quot;id&quot;: &quot;6&quot;, &quot;properties&quot;: {&quot;__folium_color&quot;: &quot;#dbdb8d&quot;, &quot;emissions_quantity&quot;: 9745.6225412, &quot;geometry_ref&quot;: &quot;trace_50.22790489094556_26.68080199029541&quot;, &quot;lat&quot;: 26.68080199029541, &quot;lon&quot;: 50.22790489094556, &quot;sector&quot;: &quot;transportation&quot;, &quot;source_id&quot;: 34014084, &quot;source_name&quot;: &quot;Offshore Oil Berth,Ras Tanura&quot;, &quot;subsector&quot;: &quot;international-shipping&quot;}, &quot;type&quot;: &quot;Feature&quot;}, {&quot;bbox&quot;: [50.6621, 26.2223, 50.6621, 26.2223], &quot;geometry&quot;: {&quot;coordinates&quot;: [50.6621, 26.2223], &quot;type&quot;: &quot;Point&quot;}, &quot;id&quot;: &quot;7&quot;, &quot;properties&quot;: {&quot;__folium_color&quot;: &quot;#c7c7c7&quot;, &quot;emissions_quantity&quot;: 2463500.0, &quot;geometry_ref&quot;: &quot;trace_50.6621_26.2223&quot;, &quot;lat&quot;: 26.2223, &quot;lon&quot;: 50.6621, &quot;sector&quot;: &quot;power&quot;, &quot;source_id&quot;: 448579, &quot;source_name&quot;: &quot;Hidd Power and Water station 1&quot;, &quot;subsector&quot;: &quot;electricity-generation&quot;}, &quot;type&quot;: &quot;Feature&quot;}, {&quot;bbox&quot;: [49.6885, 25.9352, 49.6885, 25.9352], &quot;geometry&quot;: {&quot;coordinates&quot;: [49.6885, 25.9352], &quot;type&quot;: &quot;Point&quot;}, &quot;id&quot;: &quot;8&quot;, &quot;properties&quot;: {&quot;__folium_color&quot;: &quot;#c7c7c7&quot;, &quot;emissions_quantity&quot;: 878050.0, &quot;geometry_ref&quot;: &quot;trace_49.6885_25.9352&quot;, &quot;lat&quot;: 25.9352, &quot;lon&quot;: 49.6885, &quot;sector&quot;: &quot;power&quot;, &quot;source_id&quot;: 25455213, &quot;source_name&quot;: &quot;Abqaiq cogeneration power station&quot;, &quot;subsector&quot;: &quot;electricity-generation&quot;}, &quot;type&quot;: &quot;Feature&quot;}, {&quot;bbox&quot;: [50.32982153086615, 26.645490530741952, 50.32982153086615, 26.645490530741952], &quot;geometry&quot;: {&quot;coordinates&quot;: [50.32982153086615, 26.645490530741952], &quot;type&quot;: &quot;Point&quot;}, &quot;id&quot;: &quot;9&quot;, &quot;properties&quot;: {&quot;__folium_color&quot;: &quot;#dbdb8d&quot;, &quot;emissions_quantity&quot;: 759867.91234, &quot;geometry_ref&quot;: &quot;trace_50.32982153086615_26.645490530741952&quot;, &quot;lat&quot;: 26.645490530741952, &quot;lon&quot;: 50.32982153086615, &quot;sector&quot;: &quot;transportation&quot;, &quot;source_id&quot;: 2801076, &quot;source_name&quot;: &quot;Ras Tanura&quot;, &quot;subsector&quot;: &quot;international-shipping&quot;}, &quot;type&quot;: &quot;Feature&quot;}, {&quot;bbox&quot;: [50.5944141007033, 26.03217710306, 50.5944141007033, 26.03217710306], &quot;geometry&quot;: {&quot;coordinates&quot;: [50.5944141007033, 26.03217710306], &quot;type&quot;: &quot;Point&quot;}, &quot;id&quot;: &quot;10&quot;, &quot;properties&quot;: {&quot;__folium_color&quot;: &quot;#c49c94&quot;, &quot;emissions_quantity&quot;: 374096.43164916197, &quot;geometry_ref&quot;: &quot;trace_50.5944141007033_26.03217710306&quot;, &quot;lat&quot;: 26.03217710306, &quot;lon&quot;: 50.5944141007033, &quot;sector&quot;: &quot;manufacturing&quot;, &quot;source_id&quot;: 32437260, &quot;source_name&quot;: &quot;Al-Mu\\u1e25\\u0101fa\\u1e93at al-Jan\\u016bb\\u012byah 1&quot;, &quot;subsector&quot;: &quot;cement&quot;}, &quot;type&quot;: &quot;Feature&quot;}, {&quot;bbox&quot;: [50.209, 26.18, 50.209, 26.18], &quot;geometry&quot;: {&quot;coordinates&quot;: [50.209, 26.18], &quot;type&quot;: &quot;Point&quot;}, &quot;id&quot;: &quot;11&quot;, &quot;properties&quot;: {&quot;__folium_color&quot;: &quot;#c7c7c7&quot;, &quot;emissions_quantity&quot;: 2688700.0, &quot;geometry_ref&quot;: &quot;trace_50.209_26.18&quot;, &quot;lat&quot;: 26.18, &quot;lon&quot;: 50.209, &quot;sector&quot;: &quot;power&quot;, &quot;source_id&quot;: 449148, &quot;source_name&quot;: &quot;Alkhobar&quot;, &quot;subsector&quot;: &quot;electricity-generation&quot;}, &quot;type&quot;: &quot;Feature&quot;}, {&quot;bbox&quot;: [50.9307745582394, 25.1453249663533, 50.9307745582394, 25.1453249663533], &quot;geometry&quot;: {&quot;coordinates&quot;: [50.9307745582394, 25.1453249663533], &quot;type&quot;: &quot;Point&quot;}, &quot;id&quot;: &quot;12&quot;, &quot;properties&quot;: {&quot;__folium_color&quot;: &quot;#c49c94&quot;, &quot;emissions_quantity&quot;: 1995937.9011549964, &quot;geometry_ref&quot;: &quot;trace_50.9307745582394_25.1453249663533&quot;, &quot;lat&quot;: 25.1453249663533, &quot;lon&quot;: 50.9307745582394, &quot;sector&quot;: &quot;manufacturing&quot;, &quot;source_id&quot;: 1897696, &quot;source_name&quot;: &quot;Al Khalij Cement Company Al Rayyan Municipality 1&quot;, &quot;subsector&quot;: &quot;cement&quot;}, &quot;type&quot;: &quot;Feature&quot;}, {&quot;bbox&quot;: [50.748770148358425, 26.229908501920512, 50.748770148358425, 26.229908501920512], &quot;geometry&quot;: {&quot;coordinates&quot;: [50.748770148358425, 26.229908501920512], &quot;type&quot;: &quot;Point&quot;}, &quot;id&quot;: &quot;13&quot;, &quot;properties&quot;: {&quot;__folium_color&quot;: &quot;#dbdb8d&quot;, &quot;emissions_quantity&quot;: 15577.606119299999, &quot;geometry_ref&quot;: &quot;trace_50.748770148358425_26.229908501920512&quot;, &quot;lat&quot;: 26.229908501920512, &quot;lon&quot;: 50.748770148358425, &quot;sector&quot;: &quot;transportation&quot;, &quot;source_id&quot;: 2788816, &quot;source_name&quot;: &quot;Khalifa Bin Salman&quot;, &quot;subsector&quot;: &quot;international-shipping&quot;}, &quot;type&quot;: &quot;Feature&quot;}, {&quot;bbox&quot;: [49.90678011791656, 26.861088585742195, 49.90678011791656, 26.861088585742195], &quot;geometry&quot;: {&quot;coordinates&quot;: [49.90678011791656, 26.861088585742195], &quot;type&quot;: &quot;Point&quot;}, &quot;id&quot;: &quot;14&quot;, &quot;properties&quot;: {&quot;__folium_color&quot;: &quot;#dbdb8d&quot;, &quot;emissions_quantity&quot;: 9923.703119500002, &quot;geometry_ref&quot;: &quot;trace_49.90678011791656_26.861088585742195&quot;, &quot;lat&quot;: 26.861088585742195, &quot;lon&quot;: 49.90678011791656, &quot;sector&quot;: &quot;transportation&quot;, &quot;source_id&quot;: 2447744, &quot;source_name&quot;: &quot;Ghazlan Power Plant&quot;, &quot;subsector&quot;: &quot;domestic-shipping&quot;}, &quot;type&quot;: &quot;Feature&quot;}, {&quot;bbox&quot;: [51.2077, 26.1447, 51.2077, 26.1447], &quot;geometry&quot;: {&quot;coordinates&quot;: [51.2077, 26.1447], &quot;type&quot;: &quot;Point&quot;}, &quot;id&quot;: &quot;15&quot;, &quot;properties&quot;: {&quot;__folium_color&quot;: &quot;#dbdb8d&quot;, &quot;emissions_quantity&quot;: 9939.7823072, &quot;geometry_ref&quot;: &quot;trace_51.2077_26.1447&quot;, &quot;lat&quot;: 26.1447, &quot;lon&quot;: 51.2077, &quot;sector&quot;: &quot;transportation&quot;, &quot;source_id&quot;: 2800877, &quot;source_name&quot;: &quot;Ruwais&quot;, &quot;subsector&quot;: &quot;international-shipping&quot;}, &quot;type&quot;: &quot;Feature&quot;}, {&quot;bbox&quot;: [50.0482, 26.8695, 50.0482, 26.8695], &quot;geometry&quot;: {&quot;coordinates&quot;: [50.0482, 26.8695], &quot;type&quot;: &quot;Point&quot;}, &quot;id&quot;: &quot;16&quot;, &quot;properties&quot;: {&quot;__folium_color&quot;: &quot;#dbdb8d&quot;, &quot;emissions_quantity&quot;: 100964.7805162, &quot;geometry_ref&quot;: &quot;trace_50.0482_26.8695&quot;, &quot;lat&quot;: 26.8695, &quot;lon&quot;: 50.0482, &quot;sector&quot;: &quot;transportation&quot;, &quot;source_id&quot;: 2801050, &quot;source_name&quot;: &quot;Ju\\u0027Aymah Crude And Lpg Terminals&quot;, &quot;subsector&quot;: &quot;international-shipping&quot;}, &quot;type&quot;: &quot;Feature&quot;}, {&quot;bbox&quot;: [50.0039, 26.8003, 50.0039, 26.8003], &quot;geometry&quot;: {&quot;coordinates&quot;: [50.0039, 26.8003], &quot;type&quot;: &quot;Point&quot;}, &quot;id&quot;: &quot;17&quot;, &quot;properties&quot;: {&quot;__folium_color&quot;: &quot;#c7c7c7&quot;, &quot;emissions_quantity&quot;: 365830.0, &quot;geometry_ref&quot;: &quot;trace_50.0039_26.8003&quot;, &quot;lat&quot;: 26.8003, &quot;lon&quot;: 50.0039, &quot;sector&quot;: &quot;power&quot;, &quot;source_id&quot;: 25453374, &quot;source_name&quot;: &quot;Ras Tanura Tihama power station&quot;, &quot;subsector&quot;: &quot;electricity-generation&quot;}, &quot;type&quot;: &quot;Feature&quot;}, {&quot;bbox&quot;: [49.9490084299927, 26.2779353270548, 49.9490084299927, 26.2779353270548], &quot;geometry&quot;: {&quot;coordinates&quot;: [49.9490084299927, 26.2779353270548], &quot;type&quot;: &quot;Point&quot;}, &quot;id&quot;: &quot;18&quot;, &quot;properties&quot;: {&quot;__folium_color&quot;: &quot;#c49c94&quot;, &quot;emissions_quantity&quot;: 2022436.3726666674, &quot;geometry_ref&quot;: &quot;trace_49.9490084299927_26.2779353270548&quot;, &quot;lat&quot;: 26.2779353270548, &quot;lon&quot;: 49.9490084299927, &quot;sector&quot;: &quot;manufacturing&quot;, &quot;source_id&quot;: 1567042, &quot;source_name&quot;: &quot;Al Ittefaq Arab Steel Dammam plant&quot;, &quot;subsector&quot;: &quot;iron-and-steel&quot;}, &quot;type&quot;: &quot;Feature&quot;}, {&quot;bbox&quot;: [50.749745000166, 26.20486886634851, 50.749745000166, 26.20486886634851], &quot;geometry&quot;: {&quot;coordinates&quot;: [50.749745000166, 26.20486886634851], &quot;type&quot;: &quot;Point&quot;}, &quot;id&quot;: &quot;19&quot;, &quot;properties&quot;: {&quot;__folium_color&quot;: &quot;#dbdb8d&quot;, &quot;emissions_quantity&quot;: 306635.5057115, &quot;geometry_ref&quot;: &quot;trace_50.749745000165994_26.20486886634851&quot;, &quot;lat&quot;: 26.20486886634851, &quot;lon&quot;: 50.749745000166, &quot;sector&quot;: &quot;transportation&quot;, &quot;source_id&quot;: 2787819, &quot;source_name&quot;: &quot;Bahrain&quot;, &quot;subsector&quot;: &quot;international-shipping&quot;}, &quot;type&quot;: &quot;Feature&quot;}, {&quot;bbox&quot;: [50.1251, 25.8447, 50.1251, 25.8447], &quot;geometry&quot;: {&quot;coordinates&quot;: [50.1251, 25.8447], &quot;type&quot;: &quot;Point&quot;}, &quot;id&quot;: &quot;20&quot;, &quot;properties&quot;: {&quot;__folium_color&quot;: &quot;#c7c7c7&quot;, &quot;emissions_quantity&quot;: 9607800.0, &quot;geometry_ref&quot;: &quot;trace_50.1251_25.8447&quot;, &quot;lat&quot;: 25.8447, &quot;lon&quot;: 50.1251, &quot;sector&quot;: &quot;power&quot;, &quot;source_id&quot;: 451563, &quot;source_name&quot;: &quot;QURAYYAH- CC&quot;, &quot;subsector&quot;: &quot;electricity-generation&quot;}, &quot;type&quot;: &quot;Feature&quot;}, {&quot;bbox&quot;: [50.0951, 26.698, 50.0951, 26.698], &quot;geometry&quot;: {&quot;coordinates&quot;: [50.0951, 26.698], &quot;type&quot;: &quot;Point&quot;}, &quot;id&quot;: &quot;21&quot;, &quot;properties&quot;: {&quot;__folium_color&quot;: &quot;#c7c7c7&quot;, &quot;emissions_quantity&quot;: 900570.0, &quot;geometry_ref&quot;: &quot;trace_50.0951_26.698&quot;, &quot;lat&quot;: 26.698, &quot;lon&quot;: 50.0951, &quot;sector&quot;: &quot;power&quot;, &quot;source_id&quot;: 25450227, &quot;source_name&quot;: &quot;\\u003cunknown plant name\\u003e&quot;, &quot;subsector&quot;: &quot;electricity-generation&quot;}, &quot;type&quot;: &quot;Feature&quot;}, {&quot;bbox&quot;: [49.817, 26.9044, 49.817, 26.9044], &quot;geometry&quot;: {&quot;coordinates&quot;: [49.817, 26.9044], &quot;type&quot;: &quot;Point&quot;}, &quot;id&quot;: &quot;22&quot;, &quot;properties&quot;: {&quot;__folium_color&quot;: &quot;#dbdb8d&quot;, &quot;emissions_quantity&quot;: 14108.9560548, &quot;geometry_ref&quot;: &quot;trace_49.817_26.9044&quot;, &quot;lat&quot;: 26.9044, &quot;lon&quot;: 49.817, &quot;sector&quot;: &quot;transportation&quot;, &quot;source_id&quot;: 2808261, &quot;source_name&quot;: &quot;Al Jubail East&quot;, &quot;subsector&quot;: &quot;international-shipping&quot;}, &quot;type&quot;: &quot;Feature&quot;}, {&quot;bbox&quot;: [50.6237, 26.1825, 50.6237, 26.1825], &quot;geometry&quot;: {&quot;coordinates&quot;: [50.6237, 26.1825], &quot;type&quot;: &quot;Point&quot;}, &quot;id&quot;: &quot;23&quot;, &quot;properties&quot;: {&quot;__folium_color&quot;: &quot;#c7c7c7&quot;, &quot;emissions_quantity&quot;: 498420.0, &quot;geometry_ref&quot;: &quot;trace_50.6237_26.1825&quot;, &quot;lat&quot;: 26.1825, &quot;lon&quot;: 50.6237, &quot;sector&quot;: &quot;power&quot;, &quot;source_id&quot;: 25451382, &quot;source_name&quot;: &quot;\\u003cunknown plant name\\u003e&quot;, &quot;subsector&quot;: &quot;electricity-generation&quot;}, &quot;type&quot;: &quot;Feature&quot;}, {&quot;bbox&quot;: [50.0333, 26.9333, 50.0333, 26.9333], &quot;geometry&quot;: {&quot;coordinates&quot;: [50.0333, 26.9333], &quot;type&quot;: &quot;Point&quot;}, &quot;id&quot;: &quot;24&quot;, &quot;properties&quot;: {&quot;__folium_color&quot;: &quot;#dbdb8d&quot;, &quot;emissions_quantity&quot;: 207637.06269589998, &quot;geometry_ref&quot;: &quot;trace_50.0333_26.9333&quot;, &quot;lat&quot;: 26.9333, &quot;lon&quot;: 50.0333, &quot;sector&quot;: &quot;transportation&quot;, &quot;source_id&quot;: 1933945, &quot;source_name&quot;: &quot;Ju Aymah Oil Terminal&quot;, &quot;subsector&quot;: &quot;domestic-shipping&quot;}, &quot;type&quot;: &quot;Feature&quot;}, {&quot;bbox&quot;: [50.006, 26.8, 50.006, 26.8], &quot;geometry&quot;: {&quot;coordinates&quot;: [50.006, 26.8], &quot;type&quot;: &quot;Point&quot;}, &quot;id&quot;: &quot;25&quot;, &quot;properties&quot;: {&quot;__folium_color&quot;: &quot;#c7c7c7&quot;, &quot;emissions_quantity&quot;: 567580.0, &quot;geometry_ref&quot;: &quot;trace_50.006_26.8&quot;, &quot;lat&quot;: 26.8, &quot;lon&quot;: 50.006, &quot;sector&quot;: &quot;power&quot;, &quot;source_id&quot;: 25451972, &quot;source_name&quot;: &quot;JUAYMAH&quot;, &quot;subsector&quot;: &quot;electricity-generation&quot;}, &quot;type&quot;: &quot;Feature&quot;}, {&quot;bbox&quot;: [50.09207, 26.70243, 50.09207, 26.70243], &quot;geometry&quot;: {&quot;coordinates&quot;: [50.09207, 26.70243], &quot;type&quot;: &quot;Point&quot;}, &quot;id&quot;: &quot;26&quot;, &quot;properties&quot;: {&quot;__folium_color&quot;: &quot;#9467bd&quot;, &quot;emissions_quantity&quot;: 6216070.300253325, &quot;geometry_ref&quot;: &quot;trace_50.09207_26.70243&quot;, &quot;lat&quot;: 26.70243, &quot;lon&quot;: 50.09207, &quot;sector&quot;: &quot;fossil-fuel-operations&quot;, &quot;source_id&quot;: 3144102, &quot;source_name&quot;: &quot;Saudi Aramco Ras Tanura Refinery&quot;, &quot;subsector&quot;: &quot;oil-and-gas-refining&quot;}, &quot;type&quot;: &quot;Feature&quot;}, {&quot;bbox&quot;: [50.6018, 26.2146, 50.6018, 26.2146], &quot;geometry&quot;: {&quot;coordinates&quot;: [50.6018, 26.2146], &quot;type&quot;: &quot;Point&quot;}, &quot;id&quot;: &quot;27&quot;, &quot;properties&quot;: {&quot;__folium_color&quot;: &quot;#dbdb8d&quot;, &quot;emissions_quantity&quot;: 1278769.2410381, &quot;geometry_ref&quot;: &quot;trace_50.6018_26.2146&quot;, &quot;lat&quot;: 26.2146, &quot;lon&quot;: 50.6018, &quot;sector&quot;: &quot;transportation&quot;, &quot;source_id&quot;: 1929015, &quot;source_name&quot;: &quot;Bahrain&quot;, &quot;subsector&quot;: &quot;domestic-shipping&quot;}, &quot;type&quot;: &quot;Feature&quot;}, {&quot;bbox&quot;: [50.093, 26.38, 50.093, 26.38], &quot;geometry&quot;: {&quot;coordinates&quot;: [50.093, 26.38], &quot;type&quot;: &quot;Point&quot;}, &quot;id&quot;: &quot;28&quot;, &quot;properties&quot;: {&quot;__folium_color&quot;: &quot;#c7c7c7&quot;, &quot;emissions_quantity&quot;: 173620.0, &quot;geometry_ref&quot;: &quot;trace_50.093_26.38&quot;, &quot;lat&quot;: 26.38, &quot;lon&quot;: 50.093, &quot;sector&quot;: &quot;power&quot;, &quot;source_id&quot;: 25451963, &quot;source_name&quot;: &quot;DAMMAM&quot;, &quot;subsector&quot;: &quot;electricity-generation&quot;}, &quot;type&quot;: &quot;Feature&quot;}, {&quot;bbox&quot;: [49.79790115356445, 26.471200942993164, 49.79790115356445, 26.471200942993164], &quot;geometry&quot;: {&quot;coordinates&quot;: [49.79790115356445, 26.471200942993164], &quot;type&quot;: &quot;Point&quot;}, &quot;id&quot;: &quot;29&quot;, &quot;properties&quot;: {&quot;__folium_color&quot;: &quot;#dbdb8d&quot;, &quot;emissions_quantity&quot;: 262698.8288645591, &quot;geometry_ref&quot;: &quot;trace_49.79790115356445_26.471200942993164&quot;, &quot;lat&quot;: 26.471200942993164, &quot;lon&quot;: 49.79790115356445, &quot;sector&quot;: &quot;transportation&quot;, &quot;source_id&quot;: 3171288, &quot;source_name&quot;: &quot;King Fahd International Airport&quot;, &quot;subsector&quot;: &quot;domestic-aviation&quot;}, &quot;type&quot;: &quot;Feature&quot;}, {&quot;bbox&quot;: [50.602937, 26.087814, 50.602937, 26.087814], &quot;geometry&quot;: {&quot;coordinates&quot;: [50.602937, 26.087814], &quot;type&quot;: &quot;Point&quot;}, &quot;id&quot;: &quot;30&quot;, &quot;properties&quot;: {&quot;__folium_color&quot;: &quot;#c49c94&quot;, &quot;emissions_quantity&quot;: 3616063.8747884943, &quot;geometry_ref&quot;: &quot;trace_50.602937_26.087814&quot;, &quot;lat&quot;: 26.087814, &quot;lon&quot;: 50.602937, &quot;sector&quot;: &quot;manufacturing&quot;, &quot;source_id&quot;: 3672952, &quot;source_name&quot;: &quot;Askar aluminium plant&quot;, &quot;subsector&quot;: &quot;aluminum&quot;}, &quot;type&quot;: &quot;Feature&quot;}, {&quot;bbox&quot;: [50.63764, 26.267295, 50.63764, 26.267295], &quot;geometry&quot;: {&quot;coordinates&quot;: [50.63764, 26.267295], &quot;type&quot;: &quot;Point&quot;}, &quot;id&quot;: &quot;31&quot;, &quot;properties&quot;: {&quot;__folium_color&quot;: &quot;#dbdb8d&quot;, &quot;emissions_quantity&quot;: 993132.4108809601, &quot;geometry_ref&quot;: &quot;trace_50.63764_26.267295&quot;, &quot;lat&quot;: 26.267295, &quot;lon&quot;: 50.63764, &quot;sector&quot;: &quot;transportation&quot;, &quot;source_id&quot;: 3165694, &quot;source_name&quot;: &quot;Bahrain International Airport&quot;, &quot;subsector&quot;: &quot;international-aviation&quot;}, &quot;type&quot;: &quot;Feature&quot;}, {&quot;bbox&quot;: [49.6808, 25.933, 49.6808, 25.933], &quot;geometry&quot;: {&quot;coordinates&quot;: [49.6808, 25.933], &quot;type&quot;: &quot;Point&quot;}, &quot;id&quot;: &quot;32&quot;, &quot;properties&quot;: {&quot;__folium_color&quot;: &quot;#c7c7c7&quot;, &quot;emissions_quantity&quot;: 307330.0, &quot;geometry_ref&quot;: &quot;trace_49.6808_25.933&quot;, &quot;lat&quot;: 25.933, &quot;lon&quot;: 49.6808, &quot;sector&quot;: &quot;power&quot;, &quot;source_id&quot;: 25452928, &quot;source_name&quot;: &quot;\\u003cunknown plant name\\u003e&quot;, &quot;subsector&quot;: &quot;electricity-generation&quot;}, &quot;type&quot;: &quot;Feature&quot;}, {&quot;bbox&quot;: [49.9691069000056, 26.2447860094584, 49.9691069000056, 26.2447860094584], &quot;geometry&quot;: {&quot;coordinates&quot;: [49.9691069000056, 26.2447860094584], &quot;type&quot;: &quot;Point&quot;}, &quot;id&quot;: &quot;33&quot;, &quot;properties&quot;: {&quot;__folium_color&quot;: &quot;#c49c94&quot;, &quot;emissions_quantity&quot;: 148815.9663888888, &quot;geometry_ref&quot;: &quot;trace_49.9691069000056_26.2447860094584&quot;, &quot;lat&quot;: 26.2447860094584, &quot;lon&quot;: 49.9691069000056, &quot;sector&quot;: &quot;manufacturing&quot;, &quot;source_id&quot;: 1567043, &quot;source_name&quot;: &quot;Al Ittefaq National Steel Dammam plant&quot;, &quot;subsector&quot;: &quot;iron-and-steel&quot;}, &quot;type&quot;: &quot;Feature&quot;}, {&quot;bbox&quot;: [50.1033, 26.6936, 50.1033, 26.6936], &quot;geometry&quot;: {&quot;coordinates&quot;: [50.1033, 26.6936], &quot;type&quot;: &quot;Point&quot;}, &quot;id&quot;: &quot;34&quot;, &quot;properties&quot;: {&quot;__folium_color&quot;: &quot;#c7c7c7&quot;, &quot;emissions_quantity&quot;: 868280.0, &quot;geometry_ref&quot;: &quot;trace_50.1033_26.6936&quot;, &quot;lat&quot;: 26.6936, &quot;lon&quot;: 50.1033, &quot;sector&quot;: &quot;power&quot;, &quot;source_id&quot;: 25455215, &quot;source_name&quot;: &quot;Ras Tanura cogeneration power station&quot;, &quot;subsector&quot;: &quot;electricity-generation&quot;}, &quot;type&quot;: &quot;Feature&quot;}, {&quot;bbox&quot;: [50.0482, 26.8695, 50.0482, 26.8695], &quot;geometry&quot;: {&quot;coordinates&quot;: [50.0482, 26.8695], &quot;type&quot;: &quot;Point&quot;}, &quot;id&quot;: &quot;35&quot;, &quot;properties&quot;: {&quot;__folium_color&quot;: &quot;#dbdb8d&quot;, &quot;emissions_quantity&quot;: 29641.7843056, &quot;geometry_ref&quot;: &quot;trace_50.0482_26.8695&quot;, &quot;lat&quot;: 26.8695, &quot;lon&quot;: 50.0482, &quot;sector&quot;: &quot;transportation&quot;, &quot;source_id&quot;: 1933946, &quot;source_name&quot;: &quot;Ju\\u0027Aymah Crude And Lpg Terminals&quot;, &quot;subsector&quot;: &quot;domestic-shipping&quot;}, &quot;type&quot;: &quot;Feature&quot;}, {&quot;bbox&quot;: [49.8608, 26.894, 49.8608, 26.894], &quot;geometry&quot;: {&quot;coordinates&quot;: [49.8608, 26.894], &quot;type&quot;: &quot;Point&quot;}, &quot;id&quot;: &quot;36&quot;, &quot;properties&quot;: {&quot;__folium_color&quot;: &quot;#dbdb8d&quot;, &quot;emissions_quantity&quot;: 9611.5606083, &quot;geometry_ref&quot;: &quot;trace_49.8608_26.894&quot;, &quot;lat&quot;: 26.894, &quot;lon&quot;: 49.8608, &quot;sector&quot;: &quot;transportation&quot;, &quot;source_id&quot;: 2809465, &quot;source_name&quot;: &quot;Ras Al Ghar&quot;, &quot;subsector&quot;: &quot;international-shipping&quot;}, &quot;type&quot;: &quot;Feature&quot;}, {&quot;bbox&quot;: [50.08652452397077, 26.926952447697893, 50.08652452397077, 26.926952447697893], &quot;geometry&quot;: {&quot;coordinates&quot;: [50.08652452397077, 26.926952447697893], &quot;type&quot;: &quot;Point&quot;}, &quot;id&quot;: &quot;37&quot;, &quot;properties&quot;: {&quot;__folium_color&quot;: &quot;#dbdb8d&quot;, &quot;emissions_quantity&quot;: 1306107.9976295002, &quot;geometry_ref&quot;: &quot;trace_50.08652452397077_26.926952447697893&quot;, &quot;lat&quot;: 26.926952447697893, &quot;lon&quot;: 50.08652452397077, &quot;sector&quot;: &quot;transportation&quot;, &quot;source_id&quot;: 2801048, &quot;source_name&quot;: &quot;Ju Aymah Oil Terminal&quot;, &quot;subsector&quot;: &quot;international-shipping&quot;}, &quot;type&quot;: &quot;Feature&quot;}, {&quot;bbox&quot;: [50.5951, 26.0911, 50.5951, 26.0911], &quot;geometry&quot;: {&quot;coordinates&quot;: [50.5951, 26.0911], &quot;type&quot;: &quot;Point&quot;}, &quot;id&quot;: &quot;38&quot;, &quot;properties&quot;: {&quot;__folium_color&quot;: &quot;#c7c7c7&quot;, &quot;emissions_quantity&quot;: 8567000.0, &quot;geometry_ref&quot;: &quot;trace_50.5951_26.0911&quot;, &quot;lat&quot;: 26.0911, &quot;lon&quot;: 50.5951, &quot;sector&quot;: &quot;power&quot;, &quot;source_id&quot;: 452755, &quot;source_name&quot;: &quot;\\u003cunknown plant name\\u003e&quot;, &quot;subsector&quot;: &quot;electricity-generation&quot;}, &quot;type&quot;: &quot;Feature&quot;}, {&quot;bbox&quot;: [49.8608, 26.894, 49.8608, 26.894], &quot;geometry&quot;: {&quot;coordinates&quot;: [49.8608, 26.894], &quot;type&quot;: &quot;Point&quot;}, &quot;id&quot;: &quot;39&quot;, &quot;properties&quot;: {&quot;__folium_color&quot;: &quot;#dbdb8d&quot;, &quot;emissions_quantity&quot;: 320.92940759999993, &quot;geometry_ref&quot;: &quot;trace_49.8608_26.894&quot;, &quot;lat&quot;: 26.894, &quot;lon&quot;: 49.8608, &quot;sector&quot;: &quot;transportation&quot;, &quot;source_id&quot;: 1933955, &quot;source_name&quot;: &quot;Ras Al Ghar&quot;, &quot;subsector&quot;: &quot;domestic-shipping&quot;}, &quot;type&quot;: &quot;Feature&quot;}, {&quot;bbox&quot;: [50.20235327197145, 26.53449808505849, 50.20235327197145, 26.53449808505849], &quot;geometry&quot;: {&quot;coordinates&quot;: [50.20235327197145, 26.53449808505849], &quot;type&quot;: &quot;Point&quot;}, &quot;id&quot;: &quot;40&quot;, &quot;properties&quot;: {&quot;__folium_color&quot;: &quot;#dbdb8d&quot;, &quot;emissions_quantity&quot;: 272954.77002659993, &quot;geometry_ref&quot;: &quot;trace_50.20235327197145_26.534498085058495&quot;, &quot;lat&quot;: 26.53449808505849, &quot;lon&quot;: 50.20235327197145, &quot;sector&quot;: &quot;transportation&quot;, &quot;source_id&quot;: 2801033, &quot;source_name&quot;: &quot;Dammam port&quot;, &quot;subsector&quot;: &quot;international-shipping&quot;}, &quot;type&quot;: &quot;Feature&quot;}, {&quot;bbox&quot;: [49.79790115356445, 26.471200942993164, 49.79790115356445, 26.471200942993164], &quot;geometry&quot;: {&quot;coordinates&quot;: [49.79790115356445, 26.471200942993164], &quot;type&quot;: &quot;Point&quot;}, &quot;id&quot;: &quot;41&quot;, &quot;properties&quot;: {&quot;__folium_color&quot;: &quot;#dbdb8d&quot;, &quot;emissions_quantity&quot;: 534531.9949095238, &quot;geometry_ref&quot;: &quot;trace_49.79790115356445_26.471200942993164&quot;, &quot;lat&quot;: 26.471200942993164, &quot;lon&quot;: 49.79790115356445, &quot;sector&quot;: &quot;transportation&quot;, &quot;source_id&quot;: 3166382, &quot;source_name&quot;: &quot;King Fahd International Airport&quot;, &quot;subsector&quot;: &quot;international-aviation&quot;}, &quot;type&quot;: &quot;Feature&quot;}, {&quot;bbox&quot;: [50.1701, 26.4461, 50.1701, 26.4461], &quot;geometry&quot;: {&quot;coordinates&quot;: [50.1701, 26.4461], &quot;type&quot;: &quot;Point&quot;}, &quot;id&quot;: &quot;42&quot;, &quot;properties&quot;: {&quot;__folium_color&quot;: &quot;#dbdb8d&quot;, &quot;emissions_quantity&quot;: 188004.8622475, &quot;geometry_ref&quot;: &quot;trace_50.1701_26.4461&quot;, &quot;lat&quot;: 26.4461, &quot;lon&quot;: 50.1701, &quot;sector&quot;: &quot;transportation&quot;, &quot;source_id&quot;: 1933937, &quot;source_name&quot;: &quot;Dammam port&quot;, &quot;subsector&quot;: &quot;domestic-shipping&quot;}, &quot;type&quot;: &quot;Feature&quot;}, {&quot;bbox&quot;: [49.817, 26.9044, 49.817, 26.9044], &quot;geometry&quot;: {&quot;coordinates&quot;: [49.817, 26.9044], &quot;type&quot;: &quot;Point&quot;}, &quot;id&quot;: &quot;43&quot;, &quot;properties&quot;: {&quot;__folium_color&quot;: &quot;#dbdb8d&quot;, &quot;emissions_quantity&quot;: 339.11993110000003, &quot;geometry_ref&quot;: &quot;trace_49.817_26.9044&quot;, &quot;lat&quot;: 26.9044, &quot;lon&quot;: 49.817, &quot;sector&quot;: &quot;transportation&quot;, &quot;source_id&quot;: 1983807, &quot;source_name&quot;: &quot;Al Jubail East&quot;, &quot;subsector&quot;: &quot;domestic-shipping&quot;}, &quot;type&quot;: &quot;Feature&quot;}, {&quot;bbox&quot;: [49.8976, 26.8541, 49.8976, 26.8541], &quot;geometry&quot;: {&quot;coordinates&quot;: [49.8976, 26.8541], &quot;type&quot;: &quot;Point&quot;}, &quot;id&quot;: &quot;44&quot;, &quot;properties&quot;: {&quot;__folium_color&quot;: &quot;#c7c7c7&quot;, &quot;emissions_quantity&quot;: 16610000.0, &quot;geometry_ref&quot;: &quot;trace_49.8976_26.8541&quot;, &quot;lat&quot;: 26.8541, &quot;lon&quot;: 49.8976, &quot;sector&quot;: &quot;power&quot;, &quot;source_id&quot;: 25451979, &quot;source_name&quot;: &quot;Ghazlan power plant&quot;, &quot;subsector&quot;: &quot;electricity-generation&quot;}, &quot;type&quot;: &quot;Feature&quot;}, {&quot;bbox&quot;: [49.7769, 26.8966, 49.7769, 26.8966], &quot;geometry&quot;: {&quot;coordinates&quot;: [49.7769, 26.8966], &quot;type&quot;: &quot;Point&quot;}, &quot;id&quot;: &quot;45&quot;, &quot;properties&quot;: {&quot;__folium_color&quot;: &quot;#c7c7c7&quot;, &quot;emissions_quantity&quot;: 4047500.0, &quot;geometry_ref&quot;: &quot;trace_49.7769_26.8966&quot;, &quot;lat&quot;: 26.8966, &quot;lon&quot;: 49.7769, &quot;sector&quot;: &quot;power&quot;, &quot;source_id&quot;: 449147, &quot;source_name&quot;: &quot;JUBAIL (SWCC)&quot;, &quot;subsector&quot;: &quot;electricity-generation&quot;}, &quot;type&quot;: &quot;Feature&quot;}, {&quot;bbox&quot;: [50.0945, 26.3808, 50.0945, 26.3808], &quot;geometry&quot;: {&quot;coordinates&quot;: [50.0945, 26.3808], &quot;type&quot;: &quot;Point&quot;}, &quot;id&quot;: &quot;46&quot;, &quot;properties&quot;: {&quot;__folium_color&quot;: &quot;#c7c7c7&quot;, &quot;emissions_quantity&quot;: 1907700.0, &quot;geometry_ref&quot;: &quot;trace_50.0945_26.3808&quot;, &quot;lat&quot;: 26.3808, &quot;lon&quot;: 50.0945, &quot;sector&quot;: &quot;power&quot;, &quot;source_id&quot;: 25451976, &quot;source_name&quot;: &quot;\\u003cunknown plant name\\u003e&quot;, &quot;subsector&quot;: &quot;electricity-generation&quot;}, &quot;type&quot;: &quot;Feature&quot;}, {&quot;bbox&quot;: [50.75, 26.25, 50.75, 26.25], &quot;geometry&quot;: {&quot;coordinates&quot;: [50.75, 26.25], &quot;type&quot;: &quot;Point&quot;}, &quot;id&quot;: &quot;47&quot;, &quot;properties&quot;: {&quot;__folium_color&quot;: &quot;#dbdb8d&quot;, &quot;emissions_quantity&quot;: 117118.5282249, &quot;geometry_ref&quot;: &quot;trace_50.75_26.25&quot;, &quot;lat&quot;: 26.25, &quot;lon&quot;: 50.75, &quot;sector&quot;: &quot;transportation&quot;, &quot;source_id&quot;: 1929016, &quot;source_name&quot;: &quot;Khalifa Bin Salman&quot;, &quot;subsector&quot;: &quot;domestic-shipping&quot;}, &quot;type&quot;: &quot;Feature&quot;}, {&quot;bbox&quot;: [50.6595, 26.2175, 50.6595, 26.2175], &quot;geometry&quot;: {&quot;coordinates&quot;: [50.6595, 26.2175], &quot;type&quot;: &quot;Point&quot;}, &quot;id&quot;: &quot;48&quot;, &quot;properties&quot;: {&quot;__folium_color&quot;: &quot;#c7c7c7&quot;, &quot;emissions_quantity&quot;: 2136000.0, &quot;geometry_ref&quot;: &quot;trace_50.6595_26.2175&quot;, &quot;lat&quot;: 26.2175, &quot;lon&quot;: 50.6595, &quot;sector&quot;: &quot;power&quot;, &quot;source_id&quot;: 450570, &quot;source_name&quot;: &quot;Al Ezzel Power Station&quot;, &quot;subsector&quot;: &quot;electricity-generation&quot;}, &quot;type&quot;: &quot;Feature&quot;}, {&quot;bbox&quot;: [50.679539275049, 26.1993693249287, 50.679539275049, 26.1993693249287], &quot;geometry&quot;: {&quot;coordinates&quot;: [50.679539275049, 26.1993693249287], &quot;type&quot;: &quot;Point&quot;}, &quot;id&quot;: &quot;49&quot;, &quot;properties&quot;: {&quot;__folium_color&quot;: &quot;#c49c94&quot;, &quot;emissions_quantity&quot;: 543023.5533303887, &quot;geometry_ref&quot;: &quot;trace_50.679539275049_26.1993693249287&quot;, &quot;lat&quot;: 26.1993693249287, &quot;lon&quot;: 50.679539275049, &quot;sector&quot;: &quot;manufacturing&quot;, &quot;source_id&quot;: 1566445, &quot;source_name&quot;: &quot;Sulb Bahrain Al Hidd steel plant&quot;, &quot;subsector&quot;: &quot;iron-and-steel&quot;}, &quot;type&quot;: &quot;Feature&quot;}, {&quot;bbox&quot;: [51.2077, 26.1447, 51.2077, 26.1447], &quot;geometry&quot;: {&quot;coordinates&quot;: [51.2077, 26.1447], &quot;type&quot;: &quot;Point&quot;}, &quot;id&quot;: &quot;50&quot;, &quot;properties&quot;: {&quot;__folium_color&quot;: &quot;#dbdb8d&quot;, &quot;emissions_quantity&quot;: 17706.026756799998, &quot;geometry_ref&quot;: &quot;trace_51.2077_26.1447&quot;, &quot;lat&quot;: 26.1447, &quot;lon&quot;: 51.2077, &quot;sector&quot;: &quot;transportation&quot;, &quot;source_id&quot;: 1933762, &quot;source_name&quot;: &quot;Ruwais&quot;, &quot;subsector&quot;: &quot;domestic-shipping&quot;}, &quot;type&quot;: &quot;Feature&quot;}, {&quot;bbox&quot;: [50.608, 25.9693, 50.608, 25.9693], &quot;geometry&quot;: {&quot;coordinates&quot;: [50.608, 25.9693], &quot;type&quot;: &quot;Point&quot;}, &quot;id&quot;: &quot;51&quot;, &quot;properties&quot;: {&quot;__folium_color&quot;: &quot;#c7c7c7&quot;, &quot;emissions_quantity&quot;: 6408200.0, &quot;geometry_ref&quot;: &quot;trace_50.608_25.9693&quot;, &quot;lat&quot;: 25.9693, &quot;lon&quot;: 50.608, &quot;sector&quot;: &quot;power&quot;, &quot;source_id&quot;: 453012, &quot;source_name&quot;: &quot;Al Dur Power and Water&quot;, &quot;subsector&quot;: &quot;electricity-generation&quot;}, &quot;type&quot;: &quot;Feature&quot;}, {&quot;bbox&quot;: [50.5895, 26.1203, 50.5895, 26.1203], &quot;geometry&quot;: {&quot;coordinates&quot;: [50.5895, 26.1203], &quot;type&quot;: &quot;Point&quot;}, &quot;id&quot;: &quot;52&quot;, &quot;properties&quot;: {&quot;__folium_color&quot;: &quot;#c7c7c7&quot;, &quot;emissions_quantity&quot;: 3488900.0, &quot;geometry_ref&quot;: &quot;trace_50.5895_26.1203&quot;, &quot;lat&quot;: 26.1203, &quot;lon&quot;: 50.5895, &quot;sector&quot;: &quot;power&quot;, &quot;source_id&quot;: 25451381, &quot;source_name&quot;: &quot;Riffa Power and Water Station&quot;, &quot;subsector&quot;: &quot;electricity-generation&quot;}, &quot;type&quot;: &quot;Feature&quot;}, {&quot;bbox&quot;: [50.1351, 25.826, 50.1351, 25.826], &quot;geometry&quot;: {&quot;coordinates&quot;: [50.1351, 25.826], &quot;type&quot;: &quot;Point&quot;}, &quot;id&quot;: &quot;53&quot;, &quot;properties&quot;: {&quot;__folium_color&quot;: &quot;#c7c7c7&quot;, &quot;emissions_quantity&quot;: 21136000.0, &quot;geometry_ref&quot;: &quot;trace_50.1351_25.826&quot;, &quot;lat&quot;: 25.826, &quot;lon&quot;: 50.1351, &quot;sector&quot;: &quot;power&quot;, &quot;source_id&quot;: 449168, &quot;source_name&quot;: &quot;\\u003cunknown plant name\\u003e&quot;, &quot;subsector&quot;: &quot;electricity-generation&quot;}, &quot;type&quot;: &quot;Feature&quot;}], &quot;type&quot;: &quot;FeatureCollection&quot;});\n",
       "\n",
       "        \n",
       "    \n",
       "    geo_json_c3f471b952697592f1e75b0a33495f42.bindTooltip(\n",
       "    function(layer){\n",
       "    let div = L.DomUtil.create(&#x27;div&#x27;);\n",
       "    \n",
       "    let handleObject = feature=&gt;typeof(feature)==&#x27;object&#x27; ? JSON.stringify(feature) : feature;\n",
       "    let fields = [&quot;source_id&quot;, &quot;geometry_ref&quot;, &quot;emissions_quantity&quot;, &quot;sector&quot;, &quot;subsector&quot;, &quot;source_name&quot;, &quot;lat&quot;, &quot;lon&quot;];\n",
       "    let aliases = [&quot;source_id&quot;, &quot;geometry_ref&quot;, &quot;emissions_quantity&quot;, &quot;sector&quot;, &quot;subsector&quot;, &quot;source_name&quot;, &quot;lat&quot;, &quot;lon&quot;];\n",
       "    let table = &#x27;&lt;table&gt;&#x27; +\n",
       "        String(\n",
       "        fields.map(\n",
       "        (v,i)=&gt;\n",
       "        `&lt;tr&gt;\n",
       "            &lt;th&gt;${aliases[i]}&lt;/th&gt;\n",
       "            \n",
       "            &lt;td&gt;${handleObject(layer.feature.properties[v])}&lt;/td&gt;\n",
       "        &lt;/tr&gt;`).join(&#x27;&#x27;))\n",
       "    +&#x27;&lt;/table&gt;&#x27;;\n",
       "    div.innerHTML=table;\n",
       "    \n",
       "    return div\n",
       "    }\n",
       "    ,{&quot;className&quot;: &quot;foliumtooltip&quot;, &quot;sticky&quot;: true});\n",
       "                     \n",
       "    \n",
       "            geo_json_c3f471b952697592f1e75b0a33495f42.addTo(map_5d08e5f024ec28891124f9586fbae37a);\n",
       "        \n",
       "&lt;/script&gt;\n",
       "&lt;/html&gt;\" style=\"position:absolute;width:100%;height:100%;left:0;top:0;border:none !important;\" allowfullscreen webkitallowfullscreen mozallowfullscreen></iframe></div></div>"
      ],
      "text/plain": [
       "<folium.folium.Map at 0x7de6801b5210>"
      ]
     },
     "execution_count": 75,
     "metadata": {},
     "output_type": "execute_result"
    }
   ],
   "source": [
    "import numpy as np\n",
    "point_geoms_df = point_biz_data.to_pandas()\n",
    "point_geoms_pdf = geopandas.GeoDataFrame(point_geoms_df,\n",
    "                                         geometry=geopandas.points_from_xy(point_geoms_df['lon'],point_geoms_df['lat']), crs=\"EPSG:4326\")\n",
    "point_geoms_pdf.explore(\n",
    "    column=\"sector\",\n",
    "    style_kwds={\"style_function\":lambda x: {\"radius\":np.log(np.abs(x[\"properties\"][\"emissions_quantity\"]))**3/300}}\n",
    ")"
   ]
  },
  {
   "cell_type": "code",
   "execution_count": 76,
   "metadata": {},
   "outputs": [
    {
     "name": "stderr",
     "output_type": "stream",
     "text": [
      "DEBUG:urllib3.connectionpool:https://huggingface.co:443 \"HEAD /datasets/tjhunter/climate-trace/resolve/main/climate_trace-sources_v3-2024-ct4_2022_co2.parquet HTTP/11\" 302 0\n",
      "DEBUG:urllib3.connectionpool:https://huggingface.co:443 \"HEAD /datasets/tjhunter/climate-trace/resolve/main/climate_trace-sources_v3-2024-ct4_2023_co2.parquet HTTP/11\" 302 0\n",
      "DEBUG:urllib3.connectionpool:https://huggingface.co:443 \"HEAD /datasets/tjhunter/climate-trace/resolve/main/climate_trace-sources_v3-2024-ct4_2024_co2.parquet HTTP/11\" 302 0\n"
     ]
    },
    {
     "data": {
      "text/html": [
       "<div><style>\n",
       ".dataframe > thead > tr,\n",
       ".dataframe > tbody > tr {\n",
       "  text-align: right;\n",
       "  white-space: pre-wrap;\n",
       "}\n",
       "</style>\n",
       "<small>shape: (18, 10)</small><table border=\"1\" class=\"dataframe\"><thead><tr><th>source_id</th><th>gas</th><th>year</th><th>geometry_ref</th><th>emissions_quantity</th><th>sector</th><th>subsector</th><th>source_name</th><th>lat</th><th>lon</th></tr><tr><td>u64</td><td>enum</td><td>i32</td><td>str</td><td>f64</td><td>enum</td><td>enum</td><td>str</td><td>f64</td><td>f64</td></tr></thead><tbody><tr><td>25451382</td><td>&quot;co2&quot;</td><td>2022</td><td>&quot;trace_50.6237_26.1825&quot;</td><td>498420.0</td><td>&quot;power&quot;</td><td>&quot;electricity-generation&quot;</td><td>&quot;&lt;unknown plant name&gt;&quot;</td><td>26.1825</td><td>50.6237</td></tr><tr><td>1242478</td><td>&quot;co2&quot;</td><td>2024</td><td>&quot;gadm_BHR.1_1&quot;</td><td>112901.40672</td><td>&quot;buildings&quot;</td><td>&quot;residential-onsite-fuel-usage&quot;</td><td>&quot;Capital&quot;</td><td>26.238333</td><td>50.562865</td></tr><tr><td>10722080</td><td>&quot;co2&quot;</td><td>2022</td><td>&quot;gadm_BHR.1_1&quot;</td><td>0.005514</td><td>&quot;agriculture&quot;</td><td>&quot;cropland-fires&quot;</td><td>&quot;Capital&quot;</td><td>26.238333</td><td>50.562865</td></tr><tr><td>1242478</td><td>&quot;co2&quot;</td><td>2023</td><td>&quot;gadm_BHR.1_1&quot;</td><td>112901.40672</td><td>&quot;buildings&quot;</td><td>&quot;residential-onsite-fuel-usage&quot;</td><td>&quot;Capital&quot;</td><td>26.238333</td><td>50.562865</td></tr><tr><td>3597587</td><td>&quot;co2&quot;</td><td>2024</td><td>&quot;gadm_BHR.1_1&quot;</td><td>293573.705885</td><td>&quot;transportation&quot;</td><td>&quot;road-transportation&quot;</td><td>&quot;Capital&quot;</td><td>26.238333</td><td>50.562865</td></tr><tr><td>&hellip;</td><td>&hellip;</td><td>&hellip;</td><td>&hellip;</td><td>&hellip;</td><td>&hellip;</td><td>&hellip;</td><td>&hellip;</td><td>&hellip;</td><td>&hellip;</td></tr><tr><td>3597587</td><td>&quot;co2&quot;</td><td>2022</td><td>&quot;gadm_BHR.1_1&quot;</td><td>292884.34134</td><td>&quot;transportation&quot;</td><td>&quot;road-transportation&quot;</td><td>&quot;Capital&quot;</td><td>26.238333</td><td>50.562865</td></tr><tr><td>1242478</td><td>&quot;co2&quot;</td><td>2022</td><td>&quot;gadm_BHR.1_1&quot;</td><td>112132.2948</td><td>&quot;buildings&quot;</td><td>&quot;residential-onsite-fuel-usage&quot;</td><td>&quot;Capital&quot;</td><td>26.238333</td><td>50.562865</td></tr><tr><td>1929015</td><td>&quot;co2&quot;</td><td>2022</td><td>&quot;trace_50.6018_26.2146&quot;</td><td>1.6323e6</td><td>&quot;transportation&quot;</td><td>&quot;domestic-shipping&quot;</td><td>&quot;Bahrain&quot;</td><td>26.2146</td><td>50.6018</td></tr><tr><td>1010646</td><td>&quot;co2&quot;</td><td>2023</td><td>&quot;gadm_BHR.1_1&quot;</td><td>10950.19992</td><td>&quot;buildings&quot;</td><td>&quot;non-residential-onsite-fuel-us…</td><td>&quot;Capital&quot;</td><td>26.238333</td><td>50.562865</td></tr><tr><td>10722080</td><td>&quot;co2&quot;</td><td>2023</td><td>&quot;gadm_BHR.1_1&quot;</td><td>0.005514</td><td>&quot;agriculture&quot;</td><td>&quot;cropland-fires&quot;</td><td>&quot;Capital&quot;</td><td>26.238333</td><td>50.562865</td></tr></tbody></table></div>"
      ],
      "text/plain": [
       "shape: (18, 10)\n",
       "┌───────────┬──────┬──────┬──────────────┬───┬──────────────┬──────────────┬───────────┬───────────┐\n",
       "│ source_id ┆ gas  ┆ year ┆ geometry_ref ┆ … ┆ subsector    ┆ source_name  ┆ lat       ┆ lon       │\n",
       "│ ---       ┆ ---  ┆ ---  ┆ ---          ┆   ┆ ---          ┆ ---          ┆ ---       ┆ ---       │\n",
       "│ u64       ┆ enum ┆ i32  ┆ str          ┆   ┆ enum         ┆ str          ┆ f64       ┆ f64       │\n",
       "╞═══════════╪══════╪══════╪══════════════╪═══╪══════════════╪══════════════╪═══════════╪═══════════╡\n",
       "│ 25451382  ┆ co2  ┆ 2022 ┆ trace_50.623 ┆ … ┆ electricity- ┆ <unknown     ┆ 26.1825   ┆ 50.6237   │\n",
       "│           ┆      ┆      ┆ 7_26.1825    ┆   ┆ generation   ┆ plant name>  ┆           ┆           │\n",
       "│ 1242478   ┆ co2  ┆ 2024 ┆ gadm_BHR.1_1 ┆ … ┆ residential- ┆ Capital      ┆ 26.238333 ┆ 50.562865 │\n",
       "│           ┆      ┆      ┆              ┆   ┆ onsite-fuel- ┆              ┆           ┆           │\n",
       "│           ┆      ┆      ┆              ┆   ┆ usage        ┆              ┆           ┆           │\n",
       "│ 10722080  ┆ co2  ┆ 2022 ┆ gadm_BHR.1_1 ┆ … ┆ cropland-fir ┆ Capital      ┆ 26.238333 ┆ 50.562865 │\n",
       "│           ┆      ┆      ┆              ┆   ┆ es           ┆              ┆           ┆           │\n",
       "│ 1242478   ┆ co2  ┆ 2023 ┆ gadm_BHR.1_1 ┆ … ┆ residential- ┆ Capital      ┆ 26.238333 ┆ 50.562865 │\n",
       "│           ┆      ┆      ┆              ┆   ┆ onsite-fuel- ┆              ┆           ┆           │\n",
       "│           ┆      ┆      ┆              ┆   ┆ usage        ┆              ┆           ┆           │\n",
       "│ 3597587   ┆ co2  ┆ 2024 ┆ gadm_BHR.1_1 ┆ … ┆ road-transpo ┆ Capital      ┆ 26.238333 ┆ 50.562865 │\n",
       "│           ┆      ┆      ┆              ┆   ┆ rtation      ┆              ┆           ┆           │\n",
       "│ …         ┆ …    ┆ …    ┆ …            ┆ … ┆ …            ┆ …            ┆ …         ┆ …         │\n",
       "│ 3597587   ┆ co2  ┆ 2022 ┆ gadm_BHR.1_1 ┆ … ┆ road-transpo ┆ Capital      ┆ 26.238333 ┆ 50.562865 │\n",
       "│           ┆      ┆      ┆              ┆   ┆ rtation      ┆              ┆           ┆           │\n",
       "│ 1242478   ┆ co2  ┆ 2022 ┆ gadm_BHR.1_1 ┆ … ┆ residential- ┆ Capital      ┆ 26.238333 ┆ 50.562865 │\n",
       "│           ┆      ┆      ┆              ┆   ┆ onsite-fuel- ┆              ┆           ┆           │\n",
       "│           ┆      ┆      ┆              ┆   ┆ usage        ┆              ┆           ┆           │\n",
       "│ 1929015   ┆ co2  ┆ 2022 ┆ trace_50.601 ┆ … ┆ domestic-shi ┆ Bahrain      ┆ 26.2146   ┆ 50.6018   │\n",
       "│           ┆      ┆      ┆ 8_26.2146    ┆   ┆ pping        ┆              ┆           ┆           │\n",
       "│ 1010646   ┆ co2  ┆ 2023 ┆ gadm_BHR.1_1 ┆ … ┆ non-resident ┆ Capital      ┆ 26.238333 ┆ 50.562865 │\n",
       "│           ┆      ┆      ┆              ┆   ┆ ial-onsite-f ┆              ┆           ┆           │\n",
       "│           ┆      ┆      ┆              ┆   ┆ uel-us…      ┆              ┆           ┆           │\n",
       "│ 10722080  ┆ co2  ┆ 2023 ┆ gadm_BHR.1_1 ┆ … ┆ cropland-fir ┆ Capital      ┆ 26.238333 ┆ 50.562865 │\n",
       "│           ┆      ┆      ┆              ┆   ┆ es           ┆              ┆           ┆           │\n",
       "└───────────┴──────┴──────┴──────────────┴───┴──────────────┴──────────────┴───────────┴───────────┘"
      ]
     },
     "execution_count": 76,
     "metadata": {},
     "output_type": "execute_result"
    }
   ],
   "source": [
    "c_year = pl.col(\"year\")\n",
    "gadm_biz_data = (ct.read_source_emissions(\n",
    "    gas=CO2,\n",
    "    year=[2022,2023,2024]\n",
    ").with_columns(c_start_time.dt.year().alias(\"year\"))\n",
    " .group_by(c_source_id, c_gas, c_year)\n",
    " .agg(c_geometry_ref.first(), c_emissions_quantity.sum(), c_sector.first(), c_subsector.first(), c_source_name.first(), c_lat.first(), c_lon.first())\n",
    " .filter(c_geometry_ref.is_in(gadms_ref.union(points_ref)))\n",
    " .filter(c_emissions_quantity != 0)\n",
    " .collect()\n",
    ")\n",
    "gadm_biz_data"
   ]
  },
  {
   "cell_type": "code",
   "execution_count": 77,
   "metadata": {},
   "outputs": [
    {
     "data": {
      "application/vnd.plotly.v1+json": {
       "config": {
        "plotlyServerURL": "https://plot.ly"
       },
       "data": [
        {
         "alignmentgroup": "True",
         "hovertemplate": "sector=agriculture<br>subsector=%{x}<br>emissions_quantity=%{y}<extra></extra>",
         "legendgroup": "agriculture",
         "marker": {
          "color": "#636efa",
          "pattern": {
           "shape": ""
          }
         },
         "name": "agriculture",
         "offsetgroup": "agriculture",
         "orientation": "v",
         "showlegend": true,
         "textposition": "auto",
         "type": "bar",
         "x": [
          "cropland-fires"
         ],
         "xaxis": "x",
         "y": [
          0.0055136223403161
         ],
         "yaxis": "y"
        },
        {
         "alignmentgroup": "True",
         "hovertemplate": "sector=buildings<br>subsector=%{x}<br>emissions_quantity=%{y}<extra></extra>",
         "legendgroup": "buildings",
         "marker": {
          "color": "#EF553B",
          "pattern": {
           "shape": ""
          }
         },
         "name": "buildings",
         "offsetgroup": "buildings",
         "orientation": "v",
         "showlegend": true,
         "textposition": "auto",
         "type": "bar",
         "x": [
          "non-residential-onsite-fuel-usage",
          "residential-onsite-fuel-usage"
         ],
         "xaxis": "x",
         "y": [
          10950.19992,
          112901.40672000001
         ],
         "yaxis": "y"
        },
        {
         "alignmentgroup": "True",
         "hovertemplate": "sector=transportation<br>subsector=%{x}<br>emissions_quantity=%{y}<extra></extra>",
         "legendgroup": "transportation",
         "marker": {
          "color": "#00cc96",
          "pattern": {
           "shape": ""
          }
         },
         "name": "transportation",
         "offsetgroup": "transportation",
         "orientation": "v",
         "showlegend": true,
         "textposition": "auto",
         "type": "bar",
         "x": [
          "road-transportation",
          "domestic-shipping"
         ],
         "xaxis": "x",
         "y": [
          293573.7058853552,
          1190401.4507489998
         ],
         "yaxis": "y"
        },
        {
         "alignmentgroup": "True",
         "hovertemplate": "sector=power<br>subsector=%{x}<br>emissions_quantity=%{y}<extra></extra>",
         "legendgroup": "power",
         "marker": {
          "color": "#ab63fa",
          "pattern": {
           "shape": ""
          }
         },
         "name": "power",
         "offsetgroup": "power",
         "orientation": "v",
         "showlegend": true,
         "textposition": "auto",
         "type": "bar",
         "x": [
          "electricity-generation"
         ],
         "xaxis": "x",
         "y": [
          499570
         ],
         "yaxis": "y"
        }
       ],
       "layout": {
        "autosize": true,
        "barmode": "relative",
        "legend": {
         "title": {
          "text": "sector"
         },
         "tracegroupgap": 0
        },
        "margin": {
         "t": 60
        },
        "template": {
         "data": {
          "bar": [
           {
            "error_x": {
             "color": "#2a3f5f"
            },
            "error_y": {
             "color": "#2a3f5f"
            },
            "marker": {
             "line": {
              "color": "white",
              "width": 0.5
             },
             "pattern": {
              "fillmode": "overlay",
              "size": 10,
              "solidity": 0.2
             }
            },
            "type": "bar"
           }
          ],
          "barpolar": [
           {
            "marker": {
             "line": {
              "color": "white",
              "width": 0.5
             },
             "pattern": {
              "fillmode": "overlay",
              "size": 10,
              "solidity": 0.2
             }
            },
            "type": "barpolar"
           }
          ],
          "carpet": [
           {
            "aaxis": {
             "endlinecolor": "#2a3f5f",
             "gridcolor": "#C8D4E3",
             "linecolor": "#C8D4E3",
             "minorgridcolor": "#C8D4E3",
             "startlinecolor": "#2a3f5f"
            },
            "baxis": {
             "endlinecolor": "#2a3f5f",
             "gridcolor": "#C8D4E3",
             "linecolor": "#C8D4E3",
             "minorgridcolor": "#C8D4E3",
             "startlinecolor": "#2a3f5f"
            },
            "type": "carpet"
           }
          ],
          "choropleth": [
           {
            "colorbar": {
             "outlinewidth": 0,
             "ticks": ""
            },
            "type": "choropleth"
           }
          ],
          "contour": [
           {
            "colorbar": {
             "outlinewidth": 0,
             "ticks": ""
            },
            "colorscale": [
             [
              0,
              "#0d0887"
             ],
             [
              0.1111111111111111,
              "#46039f"
             ],
             [
              0.2222222222222222,
              "#7201a8"
             ],
             [
              0.3333333333333333,
              "#9c179e"
             ],
             [
              0.4444444444444444,
              "#bd3786"
             ],
             [
              0.5555555555555556,
              "#d8576b"
             ],
             [
              0.6666666666666666,
              "#ed7953"
             ],
             [
              0.7777777777777778,
              "#fb9f3a"
             ],
             [
              0.8888888888888888,
              "#fdca26"
             ],
             [
              1,
              "#f0f921"
             ]
            ],
            "type": "contour"
           }
          ],
          "contourcarpet": [
           {
            "colorbar": {
             "outlinewidth": 0,
             "ticks": ""
            },
            "type": "contourcarpet"
           }
          ],
          "heatmap": [
           {
            "colorbar": {
             "outlinewidth": 0,
             "ticks": ""
            },
            "colorscale": [
             [
              0,
              "#0d0887"
             ],
             [
              0.1111111111111111,
              "#46039f"
             ],
             [
              0.2222222222222222,
              "#7201a8"
             ],
             [
              0.3333333333333333,
              "#9c179e"
             ],
             [
              0.4444444444444444,
              "#bd3786"
             ],
             [
              0.5555555555555556,
              "#d8576b"
             ],
             [
              0.6666666666666666,
              "#ed7953"
             ],
             [
              0.7777777777777778,
              "#fb9f3a"
             ],
             [
              0.8888888888888888,
              "#fdca26"
             ],
             [
              1,
              "#f0f921"
             ]
            ],
            "type": "heatmap"
           }
          ],
          "heatmapgl": [
           {
            "colorbar": {
             "outlinewidth": 0,
             "ticks": ""
            },
            "colorscale": [
             [
              0,
              "#0d0887"
             ],
             [
              0.1111111111111111,
              "#46039f"
             ],
             [
              0.2222222222222222,
              "#7201a8"
             ],
             [
              0.3333333333333333,
              "#9c179e"
             ],
             [
              0.4444444444444444,
              "#bd3786"
             ],
             [
              0.5555555555555556,
              "#d8576b"
             ],
             [
              0.6666666666666666,
              "#ed7953"
             ],
             [
              0.7777777777777778,
              "#fb9f3a"
             ],
             [
              0.8888888888888888,
              "#fdca26"
             ],
             [
              1,
              "#f0f921"
             ]
            ],
            "type": "heatmapgl"
           }
          ],
          "histogram": [
           {
            "marker": {
             "pattern": {
              "fillmode": "overlay",
              "size": 10,
              "solidity": 0.2
             }
            },
            "type": "histogram"
           }
          ],
          "histogram2d": [
           {
            "colorbar": {
             "outlinewidth": 0,
             "ticks": ""
            },
            "colorscale": [
             [
              0,
              "#0d0887"
             ],
             [
              0.1111111111111111,
              "#46039f"
             ],
             [
              0.2222222222222222,
              "#7201a8"
             ],
             [
              0.3333333333333333,
              "#9c179e"
             ],
             [
              0.4444444444444444,
              "#bd3786"
             ],
             [
              0.5555555555555556,
              "#d8576b"
             ],
             [
              0.6666666666666666,
              "#ed7953"
             ],
             [
              0.7777777777777778,
              "#fb9f3a"
             ],
             [
              0.8888888888888888,
              "#fdca26"
             ],
             [
              1,
              "#f0f921"
             ]
            ],
            "type": "histogram2d"
           }
          ],
          "histogram2dcontour": [
           {
            "colorbar": {
             "outlinewidth": 0,
             "ticks": ""
            },
            "colorscale": [
             [
              0,
              "#0d0887"
             ],
             [
              0.1111111111111111,
              "#46039f"
             ],
             [
              0.2222222222222222,
              "#7201a8"
             ],
             [
              0.3333333333333333,
              "#9c179e"
             ],
             [
              0.4444444444444444,
              "#bd3786"
             ],
             [
              0.5555555555555556,
              "#d8576b"
             ],
             [
              0.6666666666666666,
              "#ed7953"
             ],
             [
              0.7777777777777778,
              "#fb9f3a"
             ],
             [
              0.8888888888888888,
              "#fdca26"
             ],
             [
              1,
              "#f0f921"
             ]
            ],
            "type": "histogram2dcontour"
           }
          ],
          "mesh3d": [
           {
            "colorbar": {
             "outlinewidth": 0,
             "ticks": ""
            },
            "type": "mesh3d"
           }
          ],
          "parcoords": [
           {
            "line": {
             "colorbar": {
              "outlinewidth": 0,
              "ticks": ""
             }
            },
            "type": "parcoords"
           }
          ],
          "pie": [
           {
            "automargin": true,
            "type": "pie"
           }
          ],
          "scatter": [
           {
            "fillpattern": {
             "fillmode": "overlay",
             "size": 10,
             "solidity": 0.2
            },
            "type": "scatter"
           }
          ],
          "scatter3d": [
           {
            "line": {
             "colorbar": {
              "outlinewidth": 0,
              "ticks": ""
             }
            },
            "marker": {
             "colorbar": {
              "outlinewidth": 0,
              "ticks": ""
             }
            },
            "type": "scatter3d"
           }
          ],
          "scattercarpet": [
           {
            "marker": {
             "colorbar": {
              "outlinewidth": 0,
              "ticks": ""
             }
            },
            "type": "scattercarpet"
           }
          ],
          "scattergeo": [
           {
            "marker": {
             "colorbar": {
              "outlinewidth": 0,
              "ticks": ""
             }
            },
            "type": "scattergeo"
           }
          ],
          "scattergl": [
           {
            "marker": {
             "colorbar": {
              "outlinewidth": 0,
              "ticks": ""
             }
            },
            "type": "scattergl"
           }
          ],
          "scattermapbox": [
           {
            "marker": {
             "colorbar": {
              "outlinewidth": 0,
              "ticks": ""
             }
            },
            "type": "scattermapbox"
           }
          ],
          "scatterpolar": [
           {
            "marker": {
             "colorbar": {
              "outlinewidth": 0,
              "ticks": ""
             }
            },
            "type": "scatterpolar"
           }
          ],
          "scatterpolargl": [
           {
            "marker": {
             "colorbar": {
              "outlinewidth": 0,
              "ticks": ""
             }
            },
            "type": "scatterpolargl"
           }
          ],
          "scatterternary": [
           {
            "marker": {
             "colorbar": {
              "outlinewidth": 0,
              "ticks": ""
             }
            },
            "type": "scatterternary"
           }
          ],
          "surface": [
           {
            "colorbar": {
             "outlinewidth": 0,
             "ticks": ""
            },
            "colorscale": [
             [
              0,
              "#0d0887"
             ],
             [
              0.1111111111111111,
              "#46039f"
             ],
             [
              0.2222222222222222,
              "#7201a8"
             ],
             [
              0.3333333333333333,
              "#9c179e"
             ],
             [
              0.4444444444444444,
              "#bd3786"
             ],
             [
              0.5555555555555556,
              "#d8576b"
             ],
             [
              0.6666666666666666,
              "#ed7953"
             ],
             [
              0.7777777777777778,
              "#fb9f3a"
             ],
             [
              0.8888888888888888,
              "#fdca26"
             ],
             [
              1,
              "#f0f921"
             ]
            ],
            "type": "surface"
           }
          ],
          "table": [
           {
            "cells": {
             "fill": {
              "color": "#EBF0F8"
             },
             "line": {
              "color": "white"
             }
            },
            "header": {
             "fill": {
              "color": "#C8D4E3"
             },
             "line": {
              "color": "white"
             }
            },
            "type": "table"
           }
          ]
         },
         "layout": {
          "annotationdefaults": {
           "arrowcolor": "#2a3f5f",
           "arrowhead": 0,
           "arrowwidth": 1
          },
          "autotypenumbers": "strict",
          "coloraxis": {
           "colorbar": {
            "outlinewidth": 0,
            "ticks": ""
           }
          },
          "colorscale": {
           "diverging": [
            [
             0,
             "#8e0152"
            ],
            [
             0.1,
             "#c51b7d"
            ],
            [
             0.2,
             "#de77ae"
            ],
            [
             0.3,
             "#f1b6da"
            ],
            [
             0.4,
             "#fde0ef"
            ],
            [
             0.5,
             "#f7f7f7"
            ],
            [
             0.6,
             "#e6f5d0"
            ],
            [
             0.7,
             "#b8e186"
            ],
            [
             0.8,
             "#7fbc41"
            ],
            [
             0.9,
             "#4d9221"
            ],
            [
             1,
             "#276419"
            ]
           ],
           "sequential": [
            [
             0,
             "#0d0887"
            ],
            [
             0.1111111111111111,
             "#46039f"
            ],
            [
             0.2222222222222222,
             "#7201a8"
            ],
            [
             0.3333333333333333,
             "#9c179e"
            ],
            [
             0.4444444444444444,
             "#bd3786"
            ],
            [
             0.5555555555555556,
             "#d8576b"
            ],
            [
             0.6666666666666666,
             "#ed7953"
            ],
            [
             0.7777777777777778,
             "#fb9f3a"
            ],
            [
             0.8888888888888888,
             "#fdca26"
            ],
            [
             1,
             "#f0f921"
            ]
           ],
           "sequentialminus": [
            [
             0,
             "#0d0887"
            ],
            [
             0.1111111111111111,
             "#46039f"
            ],
            [
             0.2222222222222222,
             "#7201a8"
            ],
            [
             0.3333333333333333,
             "#9c179e"
            ],
            [
             0.4444444444444444,
             "#bd3786"
            ],
            [
             0.5555555555555556,
             "#d8576b"
            ],
            [
             0.6666666666666666,
             "#ed7953"
            ],
            [
             0.7777777777777778,
             "#fb9f3a"
            ],
            [
             0.8888888888888888,
             "#fdca26"
            ],
            [
             1,
             "#f0f921"
            ]
           ]
          },
          "colorway": [
           "#636efa",
           "#EF553B",
           "#00cc96",
           "#ab63fa",
           "#FFA15A",
           "#19d3f3",
           "#FF6692",
           "#B6E880",
           "#FF97FF",
           "#FECB52"
          ],
          "font": {
           "color": "#2a3f5f"
          },
          "geo": {
           "bgcolor": "white",
           "lakecolor": "white",
           "landcolor": "white",
           "showlakes": true,
           "showland": true,
           "subunitcolor": "#C8D4E3"
          },
          "hoverlabel": {
           "align": "left"
          },
          "hovermode": "closest",
          "mapbox": {
           "style": "light"
          },
          "paper_bgcolor": "white",
          "plot_bgcolor": "white",
          "polar": {
           "angularaxis": {
            "gridcolor": "#EBF0F8",
            "linecolor": "#EBF0F8",
            "ticks": ""
           },
           "bgcolor": "white",
           "radialaxis": {
            "gridcolor": "#EBF0F8",
            "linecolor": "#EBF0F8",
            "ticks": ""
           }
          },
          "scene": {
           "xaxis": {
            "backgroundcolor": "white",
            "gridcolor": "#DFE8F3",
            "gridwidth": 2,
            "linecolor": "#EBF0F8",
            "showbackground": true,
            "ticks": "",
            "zerolinecolor": "#EBF0F8"
           },
           "yaxis": {
            "backgroundcolor": "white",
            "gridcolor": "#DFE8F3",
            "gridwidth": 2,
            "linecolor": "#EBF0F8",
            "showbackground": true,
            "ticks": "",
            "zerolinecolor": "#EBF0F8"
           },
           "zaxis": {
            "backgroundcolor": "white",
            "gridcolor": "#DFE8F3",
            "gridwidth": 2,
            "linecolor": "#EBF0F8",
            "showbackground": true,
            "ticks": "",
            "zerolinecolor": "#EBF0F8"
           }
          },
          "shapedefaults": {
           "line": {
            "color": "#2a3f5f"
           }
          },
          "ternary": {
           "aaxis": {
            "gridcolor": "#DFE8F3",
            "linecolor": "#A2B1C6",
            "ticks": ""
           },
           "baxis": {
            "gridcolor": "#DFE8F3",
            "linecolor": "#A2B1C6",
            "ticks": ""
           },
           "bgcolor": "white",
           "caxis": {
            "gridcolor": "#DFE8F3",
            "linecolor": "#A2B1C6",
            "ticks": ""
           }
          },
          "title": {
           "x": 0.05
          },
          "xaxis": {
           "automargin": true,
           "gridcolor": "#EBF0F8",
           "linecolor": "#EBF0F8",
           "ticks": "",
           "title": {
            "standoff": 15
           },
           "zerolinecolor": "#EBF0F8",
           "zerolinewidth": 2
          },
          "yaxis": {
           "automargin": true,
           "gridcolor": "#EBF0F8",
           "linecolor": "#EBF0F8",
           "ticks": "",
           "title": {
            "standoff": 15
           },
           "zerolinecolor": "#EBF0F8",
           "zerolinewidth": 2
          }
         }
        },
        "xaxis": {
         "anchor": "y",
         "autorange": true,
         "domain": [
          0,
          1
         ],
         "range": [
          -0.5,
          5.5
         ],
         "title": {
          "text": "subsector"
         },
         "type": "category"
        },
        "yaxis": {
         "anchor": "x",
         "autorange": true,
         "domain": [
          0,
          1
         ],
         "range": [
          0,
          1253054.1586831578
         ],
         "title": {
          "text": "emissions_quantity"
         },
         "type": "linear"
        }
       }
      },
      "image/png": "[encoded data removed]",
      "text/html": [
       "<div>                            <div id=\"2c2e510a-83d7-435b-add9-bfd7c309e1dc\" class=\"plotly-graph-div\" style=\"height:525px; width:100%;\"></div>            <script type=\"text/javascript\">                require([\"plotly\"], function(Plotly) {                    window.PLOTLYENV=window.PLOTLYENV || {};                                    if (document.getElementById(\"2c2e510a-83d7-435b-add9-bfd7c309e1dc\")) {                    Plotly.newPlot(                        \"2c2e510a-83d7-435b-add9-bfd7c309e1dc\",                        [{\"alignmentgroup\":\"True\",\"hovertemplate\":\"sector=agriculture\\u003cbr\\u003esubsector=%{x}\\u003cbr\\u003eemissions_quantity=%{y}\\u003cextra\\u003e\\u003c\\u002fextra\\u003e\",\"legendgroup\":\"agriculture\",\"marker\":{\"color\":\"#636efa\",\"pattern\":{\"shape\":\"\"}},\"name\":\"agriculture\",\"offsetgroup\":\"agriculture\",\"orientation\":\"v\",\"showlegend\":true,\"textposition\":\"auto\",\"x\":[\"cropland-fires\"],\"xaxis\":\"x\",\"y\":[0.0055136223403161],\"yaxis\":\"y\",\"type\":\"bar\"},{\"alignmentgroup\":\"True\",\"hovertemplate\":\"sector=buildings\\u003cbr\\u003esubsector=%{x}\\u003cbr\\u003eemissions_quantity=%{y}\\u003cextra\\u003e\\u003c\\u002fextra\\u003e\",\"legendgroup\":\"buildings\",\"marker\":{\"color\":\"#EF553B\",\"pattern\":{\"shape\":\"\"}},\"name\":\"buildings\",\"offsetgroup\":\"buildings\",\"orientation\":\"v\",\"showlegend\":true,\"textposition\":\"auto\",\"x\":[\"non-residential-onsite-fuel-usage\",\"residential-onsite-fuel-usage\"],\"xaxis\":\"x\",\"y\":[10950.19992,112901.40672000001],\"yaxis\":\"y\",\"type\":\"bar\"},{\"alignmentgroup\":\"True\",\"hovertemplate\":\"sector=transportation\\u003cbr\\u003esubsector=%{x}\\u003cbr\\u003eemissions_quantity=%{y}\\u003cextra\\u003e\\u003c\\u002fextra\\u003e\",\"legendgroup\":\"transportation\",\"marker\":{\"color\":\"#00cc96\",\"pattern\":{\"shape\":\"\"}},\"name\":\"transportation\",\"offsetgroup\":\"transportation\",\"orientation\":\"v\",\"showlegend\":true,\"textposition\":\"auto\",\"x\":[\"road-transportation\",\"domestic-shipping\"],\"xaxis\":\"x\",\"y\":[293573.7058853552,1190401.4507489998],\"yaxis\":\"y\",\"type\":\"bar\"},{\"alignmentgroup\":\"True\",\"hovertemplate\":\"sector=power\\u003cbr\\u003esubsector=%{x}\\u003cbr\\u003eemissions_quantity=%{y}\\u003cextra\\u003e\\u003c\\u002fextra\\u003e\",\"legendgroup\":\"power\",\"marker\":{\"color\":\"#ab63fa\",\"pattern\":{\"shape\":\"\"}},\"name\":\"power\",\"offsetgroup\":\"power\",\"orientation\":\"v\",\"showlegend\":true,\"textposition\":\"auto\",\"x\":[\"electricity-generation\"],\"xaxis\":\"x\",\"y\":[499570.0],\"yaxis\":\"y\",\"type\":\"bar\"}],                        {\"template\":{\"data\":{\"histogram2dcontour\":[{\"type\":\"histogram2dcontour\",\"colorbar\":{\"outlinewidth\":0,\"ticks\":\"\"},\"colorscale\":[[0.0,\"#0d0887\"],[0.1111111111111111,\"#46039f\"],[0.2222222222222222,\"#7201a8\"],[0.3333333333333333,\"#9c179e\"],[0.4444444444444444,\"#bd3786\"],[0.5555555555555556,\"#d8576b\"],[0.6666666666666666,\"#ed7953\"],[0.7777777777777778,\"#fb9f3a\"],[0.8888888888888888,\"#fdca26\"],[1.0,\"#f0f921\"]]}],\"choropleth\":[{\"type\":\"choropleth\",\"colorbar\":{\"outlinewidth\":0,\"ticks\":\"\"}}],\"histogram2d\":[{\"type\":\"histogram2d\",\"colorbar\":{\"outlinewidth\":0,\"ticks\":\"\"},\"colorscale\":[[0.0,\"#0d0887\"],[0.1111111111111111,\"#46039f\"],[0.2222222222222222,\"#7201a8\"],[0.3333333333333333,\"#9c179e\"],[0.4444444444444444,\"#bd3786\"],[0.5555555555555556,\"#d8576b\"],[0.6666666666666666,\"#ed7953\"],[0.7777777777777778,\"#fb9f3a\"],[0.8888888888888888,\"#fdca26\"],[1.0,\"#f0f921\"]]}],\"heatmap\":[{\"type\":\"heatmap\",\"colorbar\":{\"outlinewidth\":0,\"ticks\":\"\"},\"colorscale\":[[0.0,\"#0d0887\"],[0.1111111111111111,\"#46039f\"],[0.2222222222222222,\"#7201a8\"],[0.3333333333333333,\"#9c179e\"],[0.4444444444444444,\"#bd3786\"],[0.5555555555555556,\"#d8576b\"],[0.6666666666666666,\"#ed7953\"],[0.7777777777777778,\"#fb9f3a\"],[0.8888888888888888,\"#fdca26\"],[1.0,\"#f0f921\"]]}],\"heatmapgl\":[{\"type\":\"heatmapgl\",\"colorbar\":{\"outlinewidth\":0,\"ticks\":\"\"},\"colorscale\":[[0.0,\"#0d0887\"],[0.1111111111111111,\"#46039f\"],[0.2222222222222222,\"#7201a8\"],[0.3333333333333333,\"#9c179e\"],[0.4444444444444444,\"#bd3786\"],[0.5555555555555556,\"#d8576b\"],[0.6666666666666666,\"#ed7953\"],[0.7777777777777778,\"#fb9f3a\"],[0.8888888888888888,\"#fdca26\"],[1.0,\"#f0f921\"]]}],\"contourcarpet\":[{\"type\":\"contourcarpet\",\"colorbar\":{\"outlinewidth\":0,\"ticks\":\"\"}}],\"contour\":[{\"type\":\"contour\",\"colorbar\":{\"outlinewidth\":0,\"ticks\":\"\"},\"colorscale\":[[0.0,\"#0d0887\"],[0.1111111111111111,\"#46039f\"],[0.2222222222222222,\"#7201a8\"],[0.3333333333333333,\"#9c179e\"],[0.4444444444444444,\"#bd3786\"],[0.5555555555555556,\"#d8576b\"],[0.6666666666666666,\"#ed7953\"],[0.7777777777777778,\"#fb9f3a\"],[0.8888888888888888,\"#fdca26\"],[1.0,\"#f0f921\"]]}],\"surface\":[{\"type\":\"surface\",\"colorbar\":{\"outlinewidth\":0,\"ticks\":\"\"},\"colorscale\":[[0.0,\"#0d0887\"],[0.1111111111111111,\"#46039f\"],[0.2222222222222222,\"#7201a8\"],[0.3333333333333333,\"#9c179e\"],[0.4444444444444444,\"#bd3786\"],[0.5555555555555556,\"#d8576b\"],[0.6666666666666666,\"#ed7953\"],[0.7777777777777778,\"#fb9f3a\"],[0.8888888888888888,\"#fdca26\"],[1.0,\"#f0f921\"]]}],\"mesh3d\":[{\"type\":\"mesh3d\",\"colorbar\":{\"outlinewidth\":0,\"ticks\":\"\"}}],\"scatter\":[{\"fillpattern\":{\"fillmode\":\"overlay\",\"size\":10,\"solidity\":0.2},\"type\":\"scatter\"}],\"parcoords\":[{\"type\":\"parcoords\",\"line\":{\"colorbar\":{\"outlinewidth\":0,\"ticks\":\"\"}}}],\"scatterpolargl\":[{\"type\":\"scatterpolargl\",\"marker\":{\"colorbar\":{\"outlinewidth\":0,\"ticks\":\"\"}}}],\"bar\":[{\"error_x\":{\"color\":\"#2a3f5f\"},\"error_y\":{\"color\":\"#2a3f5f\"},\"marker\":{\"line\":{\"color\":\"white\",\"width\":0.5},\"pattern\":{\"fillmode\":\"overlay\",\"size\":10,\"solidity\":0.2}},\"type\":\"bar\"}],\"scattergeo\":[{\"type\":\"scattergeo\",\"marker\":{\"colorbar\":{\"outlinewidth\":0,\"ticks\":\"\"}}}],\"scatterpolar\":[{\"type\":\"scatterpolar\",\"marker\":{\"colorbar\":{\"outlinewidth\":0,\"ticks\":\"\"}}}],\"histogram\":[{\"marker\":{\"pattern\":{\"fillmode\":\"overlay\",\"size\":10,\"solidity\":0.2}},\"type\":\"histogram\"}],\"scattergl\":[{\"type\":\"scattergl\",\"marker\":{\"colorbar\":{\"outlinewidth\":0,\"ticks\":\"\"}}}],\"scatter3d\":[{\"type\":\"scatter3d\",\"line\":{\"colorbar\":{\"outlinewidth\":0,\"ticks\":\"\"}},\"marker\":{\"colorbar\":{\"outlinewidth\":0,\"ticks\":\"\"}}}],\"scattermapbox\":[{\"type\":\"scattermapbox\",\"marker\":{\"colorbar\":{\"outlinewidth\":0,\"ticks\":\"\"}}}],\"scatterternary\":[{\"type\":\"scatterternary\",\"marker\":{\"colorbar\":{\"outlinewidth\":0,\"ticks\":\"\"}}}],\"scattercarpet\":[{\"type\":\"scattercarpet\",\"marker\":{\"colorbar\":{\"outlinewidth\":0,\"ticks\":\"\"}}}],\"carpet\":[{\"aaxis\":{\"endlinecolor\":\"#2a3f5f\",\"gridcolor\":\"#C8D4E3\",\"linecolor\":\"#C8D4E3\",\"minorgridcolor\":\"#C8D4E3\",\"startlinecolor\":\"#2a3f5f\"},\"baxis\":{\"endlinecolor\":\"#2a3f5f\",\"gridcolor\":\"#C8D4E3\",\"linecolor\":\"#C8D4E3\",\"minorgridcolor\":\"#C8D4E3\",\"startlinecolor\":\"#2a3f5f\"},\"type\":\"carpet\"}],\"table\":[{\"cells\":{\"fill\":{\"color\":\"#EBF0F8\"},\"line\":{\"color\":\"white\"}},\"header\":{\"fill\":{\"color\":\"#C8D4E3\"},\"line\":{\"color\":\"white\"}},\"type\":\"table\"}],\"barpolar\":[{\"marker\":{\"line\":{\"color\":\"white\",\"width\":0.5},\"pattern\":{\"fillmode\":\"overlay\",\"size\":10,\"solidity\":0.2}},\"type\":\"barpolar\"}],\"pie\":[{\"automargin\":true,\"type\":\"pie\"}]},\"layout\":{\"autotypenumbers\":\"strict\",\"colorway\":[\"#636efa\",\"#EF553B\",\"#00cc96\",\"#ab63fa\",\"#FFA15A\",\"#19d3f3\",\"#FF6692\",\"#B6E880\",\"#FF97FF\",\"#FECB52\"],\"font\":{\"color\":\"#2a3f5f\"},\"hovermode\":\"closest\",\"hoverlabel\":{\"align\":\"left\"},\"paper_bgcolor\":\"white\",\"plot_bgcolor\":\"white\",\"polar\":{\"bgcolor\":\"white\",\"angularaxis\":{\"gridcolor\":\"#EBF0F8\",\"linecolor\":\"#EBF0F8\",\"ticks\":\"\"},\"radialaxis\":{\"gridcolor\":\"#EBF0F8\",\"linecolor\":\"#EBF0F8\",\"ticks\":\"\"}},\"ternary\":{\"bgcolor\":\"white\",\"aaxis\":{\"gridcolor\":\"#DFE8F3\",\"linecolor\":\"#A2B1C6\",\"ticks\":\"\"},\"baxis\":{\"gridcolor\":\"#DFE8F3\",\"linecolor\":\"#A2B1C6\",\"ticks\":\"\"},\"caxis\":{\"gridcolor\":\"#DFE8F3\",\"linecolor\":\"#A2B1C6\",\"ticks\":\"\"}},\"coloraxis\":{\"colorbar\":{\"outlinewidth\":0,\"ticks\":\"\"}},\"colorscale\":{\"sequential\":[[0.0,\"#0d0887\"],[0.1111111111111111,\"#46039f\"],[0.2222222222222222,\"#7201a8\"],[0.3333333333333333,\"#9c179e\"],[0.4444444444444444,\"#bd3786\"],[0.5555555555555556,\"#d8576b\"],[0.6666666666666666,\"#ed7953\"],[0.7777777777777778,\"#fb9f3a\"],[0.8888888888888888,\"#fdca26\"],[1.0,\"#f0f921\"]],\"sequentialminus\":[[0.0,\"#0d0887\"],[0.1111111111111111,\"#46039f\"],[0.2222222222222222,\"#7201a8\"],[0.3333333333333333,\"#9c179e\"],[0.4444444444444444,\"#bd3786\"],[0.5555555555555556,\"#d8576b\"],[0.6666666666666666,\"#ed7953\"],[0.7777777777777778,\"#fb9f3a\"],[0.8888888888888888,\"#fdca26\"],[1.0,\"#f0f921\"]],\"diverging\":[[0,\"#8e0152\"],[0.1,\"#c51b7d\"],[0.2,\"#de77ae\"],[0.3,\"#f1b6da\"],[0.4,\"#fde0ef\"],[0.5,\"#f7f7f7\"],[0.6,\"#e6f5d0\"],[0.7,\"#b8e186\"],[0.8,\"#7fbc41\"],[0.9,\"#4d9221\"],[1,\"#276419\"]]},\"xaxis\":{\"gridcolor\":\"#EBF0F8\",\"linecolor\":\"#EBF0F8\",\"ticks\":\"\",\"title\":{\"standoff\":15},\"zerolinecolor\":\"#EBF0F8\",\"automargin\":true,\"zerolinewidth\":2},\"yaxis\":{\"gridcolor\":\"#EBF0F8\",\"linecolor\":\"#EBF0F8\",\"ticks\":\"\",\"title\":{\"standoff\":15},\"zerolinecolor\":\"#EBF0F8\",\"automargin\":true,\"zerolinewidth\":2},\"scene\":{\"xaxis\":{\"backgroundcolor\":\"white\",\"gridcolor\":\"#DFE8F3\",\"linecolor\":\"#EBF0F8\",\"showbackground\":true,\"ticks\":\"\",\"zerolinecolor\":\"#EBF0F8\",\"gridwidth\":2},\"yaxis\":{\"backgroundcolor\":\"white\",\"gridcolor\":\"#DFE8F3\",\"linecolor\":\"#EBF0F8\",\"showbackground\":true,\"ticks\":\"\",\"zerolinecolor\":\"#EBF0F8\",\"gridwidth\":2},\"zaxis\":{\"backgroundcolor\":\"white\",\"gridcolor\":\"#DFE8F3\",\"linecolor\":\"#EBF0F8\",\"showbackground\":true,\"ticks\":\"\",\"zerolinecolor\":\"#EBF0F8\",\"gridwidth\":2}},\"shapedefaults\":{\"line\":{\"color\":\"#2a3f5f\"}},\"annotationdefaults\":{\"arrowcolor\":\"#2a3f5f\",\"arrowhead\":0,\"arrowwidth\":1},\"geo\":{\"bgcolor\":\"white\",\"landcolor\":\"white\",\"subunitcolor\":\"#C8D4E3\",\"showland\":true,\"showlakes\":true,\"lakecolor\":\"white\"},\"title\":{\"x\":0.05},\"mapbox\":{\"style\":\"light\"}}},\"xaxis\":{\"anchor\":\"y\",\"domain\":[0.0,1.0],\"title\":{\"text\":\"subsector\"}},\"yaxis\":{\"anchor\":\"x\",\"domain\":[0.0,1.0],\"title\":{\"text\":\"emissions_quantity\"}},\"legend\":{\"title\":{\"text\":\"sector\"},\"tracegroupgap\":0},\"margin\":{\"t\":60},\"barmode\":\"relative\"},                        {\"responsive\": true}                    ).then(function(){\n",
       "                            \n",
       "var gd = document.getElementById('2c2e510a-83d7-435b-add9-bfd7c309e1dc');\n",
       "var x = new MutationObserver(function (mutations, observer) {{\n",
       "        var display = window.getComputedStyle(gd).display;\n",
       "        if (!display || display === 'none') {{\n",
       "            console.log([gd, 'removed!']);\n",
       "            Plotly.purge(gd);\n",
       "            observer.disconnect();\n",
       "        }}\n",
       "}});\n",
       "\n",
       "// Listen for the removal of the full notebook cells\n",
       "var notebookContainer = gd.closest('#notebook-container');\n",
       "if (notebookContainer) {{\n",
       "    x.observe(notebookContainer, {childList: true});\n",
       "}}\n",
       "\n",
       "// Listen for the clearing of the current output cell\n",
       "var outputEl = gd.closest('.output');\n",
       "if (outputEl) {{\n",
       "    x.observe(outputEl, {childList: true});\n",
       "}}\n",
       "\n",
       "                        })                };                });            </script>        </div>"
      ]
     },
     "metadata": {},
     "output_type": "display_data"
    }
   ],
   "source": [
    "import plotly.io\n",
    "plotly.io.templates.default = \"plotly_white\"\n",
    "import plotly.express as px\n",
    "\n",
    "px.bar(\n",
    "gadm_biz_data.filter(c_year == 2024).sort(by=c_emissions_quantity),\n",
    "    x=\"subsector\",\n",
    "    y=\"emissions_quantity\",\n",
    "    color=\"sector\"\n",
    ")\n"
   ]
  },
  {
   "cell_type": "code",
   "execution_count": 78,
   "metadata": {},
   "outputs": [
    {
     "data": {
      "application/vnd.plotly.v1+json": {
       "config": {
        "plotlyServerURL": "https://plot.ly"
       },
       "data": [
        {
         "alignmentgroup": "True",
         "hovertemplate": "sector=agriculture<br>year=%{x}<br>emissions_quantity=%{y}<extra></extra>",
         "legendgroup": "agriculture",
         "marker": {
          "color": "#636efa",
          "pattern": {
           "shape": ""
          }
         },
         "name": "agriculture",
         "offsetgroup": "agriculture",
         "orientation": "v",
         "showlegend": true,
         "textposition": "auto",
         "type": "bar",
         "x": [
          2022,
          2023,
          2024
         ],
         "xaxis": "x",
         "y": [
          0.005513622340316099,
          0.005513622340316099,
          0.0055136223403161
         ],
         "yaxis": "y"
        },
        {
         "alignmentgroup": "True",
         "hovertemplate": "sector=buildings<br>year=%{x}<br>emissions_quantity=%{y}<extra></extra>",
         "legendgroup": "buildings",
         "marker": {
          "color": "#EF553B",
          "pattern": {
           "shape": ""
          }
         },
         "name": "buildings",
         "offsetgroup": "buildings",
         "orientation": "v",
         "showlegend": true,
         "textposition": "auto",
         "type": "bar",
         "x": [
          2022,
          2023,
          2024,
          2022,
          2023,
          2024
         ],
         "xaxis": "x",
         "y": [
          10809.34467,
          10950.199919999997,
          10950.19992,
          112132.29480000002,
          112901.40672,
          112901.40672000001
         ],
         "yaxis": "y"
        },
        {
         "alignmentgroup": "True",
         "hovertemplate": "sector=transportation<br>year=%{x}<br>emissions_quantity=%{y}<extra></extra>",
         "legendgroup": "transportation",
         "marker": {
          "color": "#00cc96",
          "pattern": {
           "shape": ""
          }
         },
         "name": "transportation",
         "offsetgroup": "transportation",
         "orientation": "v",
         "showlegend": true,
         "textposition": "auto",
         "type": "bar",
         "x": [
          2023,
          2022,
          2024,
          2024,
          2023,
          2022
         ],
         "xaxis": "x",
         "y": [
          291277.27026670345,
          292884.34134023404,
          293573.7058853552,
          1190401.4507489998,
          1278769.2410381,
          1632290.8010978003
         ],
         "yaxis": "y"
        },
        {
         "alignmentgroup": "True",
         "hovertemplate": "sector=power<br>year=%{x}<br>emissions_quantity=%{y}<extra></extra>",
         "legendgroup": "power",
         "marker": {
          "color": "#ab63fa",
          "pattern": {
           "shape": ""
          }
         },
         "name": "power",
         "offsetgroup": "power",
         "orientation": "v",
         "showlegend": true,
         "textposition": "auto",
         "type": "bar",
         "x": [
          2022,
          2023,
          2024
         ],
         "xaxis": "x",
         "y": [
          498420,
          498420,
          499570
         ],
         "yaxis": "y"
        }
       ],
       "layout": {
        "autosize": true,
        "barmode": "relative",
        "legend": {
         "title": {
          "text": "sector"
         },
         "tracegroupgap": 0
        },
        "margin": {
         "t": 60
        },
        "template": {
         "data": {
          "bar": [
           {
            "error_x": {
             "color": "#2a3f5f"
            },
            "error_y": {
             "color": "#2a3f5f"
            },
            "marker": {
             "line": {
              "color": "white",
              "width": 0.5
             },
             "pattern": {
              "fillmode": "overlay",
              "size": 10,
              "solidity": 0.2
             }
            },
            "type": "bar"
           }
          ],
          "barpolar": [
           {
            "marker": {
             "line": {
              "color": "white",
              "width": 0.5
             },
             "pattern": {
              "fillmode": "overlay",
              "size": 10,
              "solidity": 0.2
             }
            },
            "type": "barpolar"
           }
          ],
          "carpet": [
           {
            "aaxis": {
             "endlinecolor": "#2a3f5f",
             "gridcolor": "#C8D4E3",
             "linecolor": "#C8D4E3",
             "minorgridcolor": "#C8D4E3",
             "startlinecolor": "#2a3f5f"
            },
            "baxis": {
             "endlinecolor": "#2a3f5f",
             "gridcolor": "#C8D4E3",
             "linecolor": "#C8D4E3",
             "minorgridcolor": "#C8D4E3",
             "startlinecolor": "#2a3f5f"
            },
            "type": "carpet"
           }
          ],
          "choropleth": [
           {
            "colorbar": {
             "outlinewidth": 0,
             "ticks": ""
            },
            "type": "choropleth"
           }
          ],
          "contour": [
           {
            "colorbar": {
             "outlinewidth": 0,
             "ticks": ""
            },
            "colorscale": [
             [
              0,
              "#0d0887"
             ],
             [
              0.1111111111111111,
              "#46039f"
             ],
             [
              0.2222222222222222,
              "#7201a8"
             ],
             [
              0.3333333333333333,
              "#9c179e"
             ],
             [
              0.4444444444444444,
              "#bd3786"
             ],
             [
              0.5555555555555556,
              "#d8576b"
             ],
             [
              0.6666666666666666,
              "#ed7953"
             ],
             [
              0.7777777777777778,
              "#fb9f3a"
             ],
             [
              0.8888888888888888,
              "#fdca26"
             ],
             [
              1,
              "#f0f921"
             ]
            ],
            "type": "contour"
           }
          ],
          "contourcarpet": [
           {
            "colorbar": {
             "outlinewidth": 0,
             "ticks": ""
            },
            "type": "contourcarpet"
           }
          ],
          "heatmap": [
           {
            "colorbar": {
             "outlinewidth": 0,
             "ticks": ""
            },
            "colorscale": [
             [
              0,
              "#0d0887"
             ],
             [
              0.1111111111111111,
              "#46039f"
             ],
             [
              0.2222222222222222,
              "#7201a8"
             ],
             [
              0.3333333333333333,
              "#9c179e"
             ],
             [
              0.4444444444444444,
              "#bd3786"
             ],
             [
              0.5555555555555556,
              "#d8576b"
             ],
             [
              0.6666666666666666,
              "#ed7953"
             ],
             [
              0.7777777777777778,
              "#fb9f3a"
             ],
             [
              0.8888888888888888,
              "#fdca26"
             ],
             [
              1,
              "#f0f921"
             ]
            ],
            "type": "heatmap"
           }
          ],
          "heatmapgl": [
           {
            "colorbar": {
             "outlinewidth": 0,
             "ticks": ""
            },
            "colorscale": [
             [
              0,
              "#0d0887"
             ],
             [
              0.1111111111111111,
              "#46039f"
             ],
             [
              0.2222222222222222,
              "#7201a8"
             ],
             [
              0.3333333333333333,
              "#9c179e"
             ],
             [
              0.4444444444444444,
              "#bd3786"
             ],
             [
              0.5555555555555556,
              "#d8576b"
             ],
             [
              0.6666666666666666,
              "#ed7953"
             ],
             [
              0.7777777777777778,
              "#fb9f3a"
             ],
             [
              0.8888888888888888,
              "#fdca26"
             ],
             [
              1,
              "#f0f921"
             ]
            ],
            "type": "heatmapgl"
           }
          ],
          "histogram": [
           {
            "marker": {
             "pattern": {
              "fillmode": "overlay",
              "size": 10,
              "solidity": 0.2
             }
            },
            "type": "histogram"
           }
          ],
          "histogram2d": [
           {
            "colorbar": {
             "outlinewidth": 0,
             "ticks": ""
            },
            "colorscale": [
             [
              0,
              "#0d0887"
             ],
             [
              0.1111111111111111,
              "#46039f"
             ],
             [
              0.2222222222222222,
              "#7201a8"
             ],
             [
              0.3333333333333333,
              "#9c179e"
             ],
             [
              0.4444444444444444,
              "#bd3786"
             ],
             [
              0.5555555555555556,
              "#d8576b"
             ],
             [
              0.6666666666666666,
              "#ed7953"
             ],
             [
              0.7777777777777778,
              "#fb9f3a"
             ],
             [
              0.8888888888888888,
              "#fdca26"
             ],
             [
              1,
              "#f0f921"
             ]
            ],
            "type": "histogram2d"
           }
          ],
          "histogram2dcontour": [
           {
            "colorbar": {
             "outlinewidth": 0,
             "ticks": ""
            },
            "colorscale": [
             [
              0,
              "#0d0887"
             ],
             [
              0.1111111111111111,
              "#46039f"
             ],
             [
              0.2222222222222222,
              "#7201a8"
             ],
             [
              0.3333333333333333,
              "#9c179e"
             ],
             [
              0.4444444444444444,
              "#bd3786"
             ],
             [
              0.5555555555555556,
              "#d8576b"
             ],
             [
              0.6666666666666666,
              "#ed7953"
             ],
             [
              0.7777777777777778,
              "#fb9f3a"
             ],
             [
              0.8888888888888888,
              "#fdca26"
             ],
             [
              1,
              "#f0f921"
             ]
            ],
            "type": "histogram2dcontour"
           }
          ],
          "mesh3d": [
           {
            "colorbar": {
             "outlinewidth": 0,
             "ticks": ""
            },
            "type": "mesh3d"
           }
          ],
          "parcoords": [
           {
            "line": {
             "colorbar": {
              "outlinewidth": 0,
              "ticks": ""
             }
            },
            "type": "parcoords"
           }
          ],
          "pie": [
           {
            "automargin": true,
            "type": "pie"
           }
          ],
          "scatter": [
           {
            "fillpattern": {
             "fillmode": "overlay",
             "size": 10,
             "solidity": 0.2
            },
            "type": "scatter"
           }
          ],
          "scatter3d": [
           {
            "line": {
             "colorbar": {
              "outlinewidth": 0,
              "ticks": ""
             }
            },
            "marker": {
             "colorbar": {
              "outlinewidth": 0,
              "ticks": ""
             }
            },
            "type": "scatter3d"
           }
          ],
          "scattercarpet": [
           {
            "marker": {
             "colorbar": {
              "outlinewidth": 0,
              "ticks": ""
             }
            },
            "type": "scattercarpet"
           }
          ],
          "scattergeo": [
           {
            "marker": {
             "colorbar": {
              "outlinewidth": 0,
              "ticks": ""
             }
            },
            "type": "scattergeo"
           }
          ],
          "scattergl": [
           {
            "marker": {
             "colorbar": {
              "outlinewidth": 0,
              "ticks": ""
             }
            },
            "type": "scattergl"
           }
          ],
          "scattermapbox": [
           {
            "marker": {
             "colorbar": {
              "outlinewidth": 0,
              "ticks": ""
             }
            },
            "type": "scattermapbox"
           }
          ],
          "scatterpolar": [
           {
            "marker": {
             "colorbar": {
              "outlinewidth": 0,
              "ticks": ""
             }
            },
            "type": "scatterpolar"
           }
          ],
          "scatterpolargl": [
           {
            "marker": {
             "colorbar": {
              "outlinewidth": 0,
              "ticks": ""
             }
            },
            "type": "scatterpolargl"
           }
          ],
          "scatterternary": [
           {
            "marker": {
             "colorbar": {
              "outlinewidth": 0,
              "ticks": ""
             }
            },
            "type": "scatterternary"
           }
          ],
          "surface": [
           {
            "colorbar": {
             "outlinewidth": 0,
             "ticks": ""
            },
            "colorscale": [
             [
              0,
              "#0d0887"
             ],
             [
              0.1111111111111111,
              "#46039f"
             ],
             [
              0.2222222222222222,
              "#7201a8"
             ],
             [
              0.3333333333333333,
              "#9c179e"
             ],
             [
              0.4444444444444444,
              "#bd3786"
             ],
             [
              0.5555555555555556,
              "#d8576b"
             ],
             [
              0.6666666666666666,
              "#ed7953"
             ],
             [
              0.7777777777777778,
              "#fb9f3a"
             ],
             [
              0.8888888888888888,
              "#fdca26"
             ],
             [
              1,
              "#f0f921"
             ]
            ],
            "type": "surface"
           }
          ],
          "table": [
           {
            "cells": {
             "fill": {
              "color": "#EBF0F8"
             },
             "line": {
              "color": "white"
             }
            },
            "header": {
             "fill": {
              "color": "#C8D4E3"
             },
             "line": {
              "color": "white"
             }
            },
            "type": "table"
           }
          ]
         },
         "layout": {
          "annotationdefaults": {
           "arrowcolor": "#2a3f5f",
           "arrowhead": 0,
           "arrowwidth": 1
          },
          "autotypenumbers": "strict",
          "coloraxis": {
           "colorbar": {
            "outlinewidth": 0,
            "ticks": ""
           }
          },
          "colorscale": {
           "diverging": [
            [
             0,
             "#8e0152"
            ],
            [
             0.1,
             "#c51b7d"
            ],
            [
             0.2,
             "#de77ae"
            ],
            [
             0.3,
             "#f1b6da"
            ],
            [
             0.4,
             "#fde0ef"
            ],
            [
             0.5,
             "#f7f7f7"
            ],
            [
             0.6,
             "#e6f5d0"
            ],
            [
             0.7,
             "#b8e186"
            ],
            [
             0.8,
             "#7fbc41"
            ],
            [
             0.9,
             "#4d9221"
            ],
            [
             1,
             "#276419"
            ]
           ],
           "sequential": [
            [
             0,
             "#0d0887"
            ],
            [
             0.1111111111111111,
             "#46039f"
            ],
            [
             0.2222222222222222,
             "#7201a8"
            ],
            [
             0.3333333333333333,
             "#9c179e"
            ],
            [
             0.4444444444444444,
             "#bd3786"
            ],
            [
             0.5555555555555556,
             "#d8576b"
            ],
            [
             0.6666666666666666,
             "#ed7953"
            ],
            [
             0.7777777777777778,
             "#fb9f3a"
            ],
            [
             0.8888888888888888,
             "#fdca26"
            ],
            [
             1,
             "#f0f921"
            ]
           ],
           "sequentialminus": [
            [
             0,
             "#0d0887"
            ],
            [
             0.1111111111111111,
             "#46039f"
            ],
            [
             0.2222222222222222,
             "#7201a8"
            ],
            [
             0.3333333333333333,
             "#9c179e"
            ],
            [
             0.4444444444444444,
             "#bd3786"
            ],
            [
             0.5555555555555556,
             "#d8576b"
            ],
            [
             0.6666666666666666,
             "#ed7953"
            ],
            [
             0.7777777777777778,
             "#fb9f3a"
            ],
            [
             0.8888888888888888,
             "#fdca26"
            ],
            [
             1,
             "#f0f921"
            ]
           ]
          },
          "colorway": [
           "#636efa",
           "#EF553B",
           "#00cc96",
           "#ab63fa",
           "#FFA15A",
           "#19d3f3",
           "#FF6692",
           "#B6E880",
           "#FF97FF",
           "#FECB52"
          ],
          "font": {
           "color": "#2a3f5f"
          },
          "geo": {
           "bgcolor": "white",
           "lakecolor": "white",
           "landcolor": "white",
           "showlakes": true,
           "showland": true,
           "subunitcolor": "#C8D4E3"
          },
          "hoverlabel": {
           "align": "left"
          },
          "hovermode": "closest",
          "mapbox": {
           "style": "light"
          },
          "paper_bgcolor": "white",
          "plot_bgcolor": "white",
          "polar": {
           "angularaxis": {
            "gridcolor": "#EBF0F8",
            "linecolor": "#EBF0F8",
            "ticks": ""
           },
           "bgcolor": "white",
           "radialaxis": {
            "gridcolor": "#EBF0F8",
            "linecolor": "#EBF0F8",
            "ticks": ""
           }
          },
          "scene": {
           "xaxis": {
            "backgroundcolor": "white",
            "gridcolor": "#DFE8F3",
            "gridwidth": 2,
            "linecolor": "#EBF0F8",
            "showbackground": true,
            "ticks": "",
            "zerolinecolor": "#EBF0F8"
           },
           "yaxis": {
            "backgroundcolor": "white",
            "gridcolor": "#DFE8F3",
            "gridwidth": 2,
            "linecolor": "#EBF0F8",
            "showbackground": true,
            "ticks": "",
            "zerolinecolor": "#EBF0F8"
           },
           "zaxis": {
            "backgroundcolor": "white",
            "gridcolor": "#DFE8F3",
            "gridwidth": 2,
            "linecolor": "#EBF0F8",
            "showbackground": true,
            "ticks": "",
            "zerolinecolor": "#EBF0F8"
           }
          },
          "shapedefaults": {
           "line": {
            "color": "#2a3f5f"
           }
          },
          "ternary": {
           "aaxis": {
            "gridcolor": "#DFE8F3",
            "linecolor": "#A2B1C6",
            "ticks": ""
           },
           "baxis": {
            "gridcolor": "#DFE8F3",
            "linecolor": "#A2B1C6",
            "ticks": ""
           },
           "bgcolor": "white",
           "caxis": {
            "gridcolor": "#DFE8F3",
            "linecolor": "#A2B1C6",
            "ticks": ""
           }
          },
          "title": {
           "x": 0.05
          },
          "xaxis": {
           "automargin": true,
           "gridcolor": "#EBF0F8",
           "linecolor": "#EBF0F8",
           "ticks": "",
           "title": {
            "standoff": 15
           },
           "zerolinecolor": "#EBF0F8",
           "zerolinewidth": 2
          },
          "yaxis": {
           "automargin": true,
           "gridcolor": "#EBF0F8",
           "linecolor": "#EBF0F8",
           "ticks": "",
           "title": {
            "standoff": 15
           },
           "zerolinecolor": "#EBF0F8",
           "zerolinewidth": 2
          }
         }
        },
        "xaxis": {
         "anchor": "y",
         "autorange": true,
         "domain": [
          0,
          1
         ],
         "range": [
          2021.5,
          2024.5
         ],
         "title": {
          "text": "year"
         },
         "type": "linear"
        },
        "yaxis": {
         "anchor": "x",
         "autorange": true,
         "domain": [
          0,
          1
         ],
         "range": [
          0,
          2680565.0393912178
         ],
         "title": {
          "text": "emissions_quantity"
         },
         "type": "linear"
        }
       }
      },
      "image/png": "[encoded data removed]",
      "text/html": [
       "<div>                            <div id=\"ed277ae8-b75e-4eda-8bee-54b86b225de8\" class=\"plotly-graph-div\" style=\"height:525px; width:100%;\"></div>            <script type=\"text/javascript\">                require([\"plotly\"], function(Plotly) {                    window.PLOTLYENV=window.PLOTLYENV || {};                                    if (document.getElementById(\"ed277ae8-b75e-4eda-8bee-54b86b225de8\")) {                    Plotly.newPlot(                        \"ed277ae8-b75e-4eda-8bee-54b86b225de8\",                        [{\"alignmentgroup\":\"True\",\"hovertemplate\":\"sector=agriculture\\u003cbr\\u003eyear=%{x}\\u003cbr\\u003eemissions_quantity=%{y}\\u003cextra\\u003e\\u003c\\u002fextra\\u003e\",\"legendgroup\":\"agriculture\",\"marker\":{\"color\":\"#636efa\",\"pattern\":{\"shape\":\"\"}},\"name\":\"agriculture\",\"offsetgroup\":\"agriculture\",\"orientation\":\"v\",\"showlegend\":true,\"textposition\":\"auto\",\"x\":[2022,2023,2024],\"xaxis\":\"x\",\"y\":[0.005513622340316099,0.005513622340316099,0.0055136223403161],\"yaxis\":\"y\",\"type\":\"bar\"},{\"alignmentgroup\":\"True\",\"hovertemplate\":\"sector=buildings\\u003cbr\\u003eyear=%{x}\\u003cbr\\u003eemissions_quantity=%{y}\\u003cextra\\u003e\\u003c\\u002fextra\\u003e\",\"legendgroup\":\"buildings\",\"marker\":{\"color\":\"#EF553B\",\"pattern\":{\"shape\":\"\"}},\"name\":\"buildings\",\"offsetgroup\":\"buildings\",\"orientation\":\"v\",\"showlegend\":true,\"textposition\":\"auto\",\"x\":[2022,2023,2024,2022,2023,2024],\"xaxis\":\"x\",\"y\":[10809.34467,10950.199919999997,10950.19992,112132.29480000002,112901.40672,112901.40672000001],\"yaxis\":\"y\",\"type\":\"bar\"},{\"alignmentgroup\":\"True\",\"hovertemplate\":\"sector=transportation\\u003cbr\\u003eyear=%{x}\\u003cbr\\u003eemissions_quantity=%{y}\\u003cextra\\u003e\\u003c\\u002fextra\\u003e\",\"legendgroup\":\"transportation\",\"marker\":{\"color\":\"#00cc96\",\"pattern\":{\"shape\":\"\"}},\"name\":\"transportation\",\"offsetgroup\":\"transportation\",\"orientation\":\"v\",\"showlegend\":true,\"textposition\":\"auto\",\"x\":[2023,2022,2024,2024,2023,2022],\"xaxis\":\"x\",\"y\":[291277.27026670345,292884.34134023404,293573.7058853552,1190401.4507489998,1278769.2410381,1632290.8010978003],\"yaxis\":\"y\",\"type\":\"bar\"},{\"alignmentgroup\":\"True\",\"hovertemplate\":\"sector=power\\u003cbr\\u003eyear=%{x}\\u003cbr\\u003eemissions_quantity=%{y}\\u003cextra\\u003e\\u003c\\u002fextra\\u003e\",\"legendgroup\":\"power\",\"marker\":{\"color\":\"#ab63fa\",\"pattern\":{\"shape\":\"\"}},\"name\":\"power\",\"offsetgroup\":\"power\",\"orientation\":\"v\",\"showlegend\":true,\"textposition\":\"auto\",\"x\":[2022,2023,2024],\"xaxis\":\"x\",\"y\":[498420.0,498420.0,499570.0],\"yaxis\":\"y\",\"type\":\"bar\"}],                        {\"template\":{\"data\":{\"histogram2dcontour\":[{\"type\":\"histogram2dcontour\",\"colorbar\":{\"outlinewidth\":0,\"ticks\":\"\"},\"colorscale\":[[0.0,\"#0d0887\"],[0.1111111111111111,\"#46039f\"],[0.2222222222222222,\"#7201a8\"],[0.3333333333333333,\"#9c179e\"],[0.4444444444444444,\"#bd3786\"],[0.5555555555555556,\"#d8576b\"],[0.6666666666666666,\"#ed7953\"],[0.7777777777777778,\"#fb9f3a\"],[0.8888888888888888,\"#fdca26\"],[1.0,\"#f0f921\"]]}],\"choropleth\":[{\"type\":\"choropleth\",\"colorbar\":{\"outlinewidth\":0,\"ticks\":\"\"}}],\"histogram2d\":[{\"type\":\"histogram2d\",\"colorbar\":{\"outlinewidth\":0,\"ticks\":\"\"},\"colorscale\":[[0.0,\"#0d0887\"],[0.1111111111111111,\"#46039f\"],[0.2222222222222222,\"#7201a8\"],[0.3333333333333333,\"#9c179e\"],[0.4444444444444444,\"#bd3786\"],[0.5555555555555556,\"#d8576b\"],[0.6666666666666666,\"#ed7953\"],[0.7777777777777778,\"#fb9f3a\"],[0.8888888888888888,\"#fdca26\"],[1.0,\"#f0f921\"]]}],\"heatmap\":[{\"type\":\"heatmap\",\"colorbar\":{\"outlinewidth\":0,\"ticks\":\"\"},\"colorscale\":[[0.0,\"#0d0887\"],[0.1111111111111111,\"#46039f\"],[0.2222222222222222,\"#7201a8\"],[0.3333333333333333,\"#9c179e\"],[0.4444444444444444,\"#bd3786\"],[0.5555555555555556,\"#d8576b\"],[0.6666666666666666,\"#ed7953\"],[0.7777777777777778,\"#fb9f3a\"],[0.8888888888888888,\"#fdca26\"],[1.0,\"#f0f921\"]]}],\"heatmapgl\":[{\"type\":\"heatmapgl\",\"colorbar\":{\"outlinewidth\":0,\"ticks\":\"\"},\"colorscale\":[[0.0,\"#0d0887\"],[0.1111111111111111,\"#46039f\"],[0.2222222222222222,\"#7201a8\"],[0.3333333333333333,\"#9c179e\"],[0.4444444444444444,\"#bd3786\"],[0.5555555555555556,\"#d8576b\"],[0.6666666666666666,\"#ed7953\"],[0.7777777777777778,\"#fb9f3a\"],[0.8888888888888888,\"#fdca26\"],[1.0,\"#f0f921\"]]}],\"contourcarpet\":[{\"type\":\"contourcarpet\",\"colorbar\":{\"outlinewidth\":0,\"ticks\":\"\"}}],\"contour\":[{\"type\":\"contour\",\"colorbar\":{\"outlinewidth\":0,\"ticks\":\"\"},\"colorscale\":[[0.0,\"#0d0887\"],[0.1111111111111111,\"#46039f\"],[0.2222222222222222,\"#7201a8\"],[0.3333333333333333,\"#9c179e\"],[0.4444444444444444,\"#bd3786\"],[0.5555555555555556,\"#d8576b\"],[0.6666666666666666,\"#ed7953\"],[0.7777777777777778,\"#fb9f3a\"],[0.8888888888888888,\"#fdca26\"],[1.0,\"#f0f921\"]]}],\"surface\":[{\"type\":\"surface\",\"colorbar\":{\"outlinewidth\":0,\"ticks\":\"\"},\"colorscale\":[[0.0,\"#0d0887\"],[0.1111111111111111,\"#46039f\"],[0.2222222222222222,\"#7201a8\"],[0.3333333333333333,\"#9c179e\"],[0.4444444444444444,\"#bd3786\"],[0.5555555555555556,\"#d8576b\"],[0.6666666666666666,\"#ed7953\"],[0.7777777777777778,\"#fb9f3a\"],[0.8888888888888888,\"#fdca26\"],[1.0,\"#f0f921\"]]}],\"mesh3d\":[{\"type\":\"mesh3d\",\"colorbar\":{\"outlinewidth\":0,\"ticks\":\"\"}}],\"scatter\":[{\"fillpattern\":{\"fillmode\":\"overlay\",\"size\":10,\"solidity\":0.2},\"type\":\"scatter\"}],\"parcoords\":[{\"type\":\"parcoords\",\"line\":{\"colorbar\":{\"outlinewidth\":0,\"ticks\":\"\"}}}],\"scatterpolargl\":[{\"type\":\"scatterpolargl\",\"marker\":{\"colorbar\":{\"outlinewidth\":0,\"ticks\":\"\"}}}],\"bar\":[{\"error_x\":{\"color\":\"#2a3f5f\"},\"error_y\":{\"color\":\"#2a3f5f\"},\"marker\":{\"line\":{\"color\":\"white\",\"width\":0.5},\"pattern\":{\"fillmode\":\"overlay\",\"size\":10,\"solidity\":0.2}},\"type\":\"bar\"}],\"scattergeo\":[{\"type\":\"scattergeo\",\"marker\":{\"colorbar\":{\"outlinewidth\":0,\"ticks\":\"\"}}}],\"scatterpolar\":[{\"type\":\"scatterpolar\",\"marker\":{\"colorbar\":{\"outlinewidth\":0,\"ticks\":\"\"}}}],\"histogram\":[{\"marker\":{\"pattern\":{\"fillmode\":\"overlay\",\"size\":10,\"solidity\":0.2}},\"type\":\"histogram\"}],\"scattergl\":[{\"type\":\"scattergl\",\"marker\":{\"colorbar\":{\"outlinewidth\":0,\"ticks\":\"\"}}}],\"scatter3d\":[{\"type\":\"scatter3d\",\"line\":{\"colorbar\":{\"outlinewidth\":0,\"ticks\":\"\"}},\"marker\":{\"colorbar\":{\"outlinewidth\":0,\"ticks\":\"\"}}}],\"scattermapbox\":[{\"type\":\"scattermapbox\",\"marker\":{\"colorbar\":{\"outlinewidth\":0,\"ticks\":\"\"}}}],\"scatterternary\":[{\"type\":\"scatterternary\",\"marker\":{\"colorbar\":{\"outlinewidth\":0,\"ticks\":\"\"}}}],\"scattercarpet\":[{\"type\":\"scattercarpet\",\"marker\":{\"colorbar\":{\"outlinewidth\":0,\"ticks\":\"\"}}}],\"carpet\":[{\"aaxis\":{\"endlinecolor\":\"#2a3f5f\",\"gridcolor\":\"#C8D4E3\",\"linecolor\":\"#C8D4E3\",\"minorgridcolor\":\"#C8D4E3\",\"startlinecolor\":\"#2a3f5f\"},\"baxis\":{\"endlinecolor\":\"#2a3f5f\",\"gridcolor\":\"#C8D4E3\",\"linecolor\":\"#C8D4E3\",\"minorgridcolor\":\"#C8D4E3\",\"startlinecolor\":\"#2a3f5f\"},\"type\":\"carpet\"}],\"table\":[{\"cells\":{\"fill\":{\"color\":\"#EBF0F8\"},\"line\":{\"color\":\"white\"}},\"header\":{\"fill\":{\"color\":\"#C8D4E3\"},\"line\":{\"color\":\"white\"}},\"type\":\"table\"}],\"barpolar\":[{\"marker\":{\"line\":{\"color\":\"white\",\"width\":0.5},\"pattern\":{\"fillmode\":\"overlay\",\"size\":10,\"solidity\":0.2}},\"type\":\"barpolar\"}],\"pie\":[{\"automargin\":true,\"type\":\"pie\"}]},\"layout\":{\"autotypenumbers\":\"strict\",\"colorway\":[\"#636efa\",\"#EF553B\",\"#00cc96\",\"#ab63fa\",\"#FFA15A\",\"#19d3f3\",\"#FF6692\",\"#B6E880\",\"#FF97FF\",\"#FECB52\"],\"font\":{\"color\":\"#2a3f5f\"},\"hovermode\":\"closest\",\"hoverlabel\":{\"align\":\"left\"},\"paper_bgcolor\":\"white\",\"plot_bgcolor\":\"white\",\"polar\":{\"bgcolor\":\"white\",\"angularaxis\":{\"gridcolor\":\"#EBF0F8\",\"linecolor\":\"#EBF0F8\",\"ticks\":\"\"},\"radialaxis\":{\"gridcolor\":\"#EBF0F8\",\"linecolor\":\"#EBF0F8\",\"ticks\":\"\"}},\"ternary\":{\"bgcolor\":\"white\",\"aaxis\":{\"gridcolor\":\"#DFE8F3\",\"linecolor\":\"#A2B1C6\",\"ticks\":\"\"},\"baxis\":{\"gridcolor\":\"#DFE8F3\",\"linecolor\":\"#A2B1C6\",\"ticks\":\"\"},\"caxis\":{\"gridcolor\":\"#DFE8F3\",\"linecolor\":\"#A2B1C6\",\"ticks\":\"\"}},\"coloraxis\":{\"colorbar\":{\"outlinewidth\":0,\"ticks\":\"\"}},\"colorscale\":{\"sequential\":[[0.0,\"#0d0887\"],[0.1111111111111111,\"#46039f\"],[0.2222222222222222,\"#7201a8\"],[0.3333333333333333,\"#9c179e\"],[0.4444444444444444,\"#bd3786\"],[0.5555555555555556,\"#d8576b\"],[0.6666666666666666,\"#ed7953\"],[0.7777777777777778,\"#fb9f3a\"],[0.8888888888888888,\"#fdca26\"],[1.0,\"#f0f921\"]],\"sequentialminus\":[[0.0,\"#0d0887\"],[0.1111111111111111,\"#46039f\"],[0.2222222222222222,\"#7201a8\"],[0.3333333333333333,\"#9c179e\"],[0.4444444444444444,\"#bd3786\"],[0.5555555555555556,\"#d8576b\"],[0.6666666666666666,\"#ed7953\"],[0.7777777777777778,\"#fb9f3a\"],[0.8888888888888888,\"#fdca26\"],[1.0,\"#f0f921\"]],\"diverging\":[[0,\"#8e0152\"],[0.1,\"#c51b7d\"],[0.2,\"#de77ae\"],[0.3,\"#f1b6da\"],[0.4,\"#fde0ef\"],[0.5,\"#f7f7f7\"],[0.6,\"#e6f5d0\"],[0.7,\"#b8e186\"],[0.8,\"#7fbc41\"],[0.9,\"#4d9221\"],[1,\"#276419\"]]},\"xaxis\":{\"gridcolor\":\"#EBF0F8\",\"linecolor\":\"#EBF0F8\",\"ticks\":\"\",\"title\":{\"standoff\":15},\"zerolinecolor\":\"#EBF0F8\",\"automargin\":true,\"zerolinewidth\":2},\"yaxis\":{\"gridcolor\":\"#EBF0F8\",\"linecolor\":\"#EBF0F8\",\"ticks\":\"\",\"title\":{\"standoff\":15},\"zerolinecolor\":\"#EBF0F8\",\"automargin\":true,\"zerolinewidth\":2},\"scene\":{\"xaxis\":{\"backgroundcolor\":\"white\",\"gridcolor\":\"#DFE8F3\",\"linecolor\":\"#EBF0F8\",\"showbackground\":true,\"ticks\":\"\",\"zerolinecolor\":\"#EBF0F8\",\"gridwidth\":2},\"yaxis\":{\"backgroundcolor\":\"white\",\"gridcolor\":\"#DFE8F3\",\"linecolor\":\"#EBF0F8\",\"showbackground\":true,\"ticks\":\"\",\"zerolinecolor\":\"#EBF0F8\",\"gridwidth\":2},\"zaxis\":{\"backgroundcolor\":\"white\",\"gridcolor\":\"#DFE8F3\",\"linecolor\":\"#EBF0F8\",\"showbackground\":true,\"ticks\":\"\",\"zerolinecolor\":\"#EBF0F8\",\"gridwidth\":2}},\"shapedefaults\":{\"line\":{\"color\":\"#2a3f5f\"}},\"annotationdefaults\":{\"arrowcolor\":\"#2a3f5f\",\"arrowhead\":0,\"arrowwidth\":1},\"geo\":{\"bgcolor\":\"white\",\"landcolor\":\"white\",\"subunitcolor\":\"#C8D4E3\",\"showland\":true,\"showlakes\":true,\"lakecolor\":\"white\"},\"title\":{\"x\":0.05},\"mapbox\":{\"style\":\"light\"}}},\"xaxis\":{\"anchor\":\"y\",\"domain\":[0.0,1.0],\"title\":{\"text\":\"year\"}},\"yaxis\":{\"anchor\":\"x\",\"domain\":[0.0,1.0],\"title\":{\"text\":\"emissions_quantity\"}},\"legend\":{\"title\":{\"text\":\"sector\"},\"tracegroupgap\":0},\"margin\":{\"t\":60},\"barmode\":\"relative\"},                        {\"responsive\": true}                    ).then(function(){\n",
       "                            \n",
       "var gd = document.getElementById('ed277ae8-b75e-4eda-8bee-54b86b225de8');\n",
       "var x = new MutationObserver(function (mutations, observer) {{\n",
       "        var display = window.getComputedStyle(gd).display;\n",
       "        if (!display || display === 'none') {{\n",
       "            console.log([gd, 'removed!']);\n",
       "            Plotly.purge(gd);\n",
       "            observer.disconnect();\n",
       "        }}\n",
       "}});\n",
       "\n",
       "// Listen for the removal of the full notebook cells\n",
       "var notebookContainer = gd.closest('#notebook-container');\n",
       "if (notebookContainer) {{\n",
       "    x.observe(notebookContainer, {childList: true});\n",
       "}}\n",
       "\n",
       "// Listen for the clearing of the current output cell\n",
       "var outputEl = gd.closest('.output');\n",
       "if (outputEl) {{\n",
       "    x.observe(outputEl, {childList: true});\n",
       "}}\n",
       "\n",
       "                        })                };                });            </script>        </div>"
      ]
     },
     "metadata": {},
     "output_type": "display_data"
    }
   ],
   "source": [
    "px.bar(\n",
    "gadm_biz_data.sort(by=c_emissions_quantity),\n",
    "    x=\"year\",\n",
    "    y=\"emissions_quantity\",\n",
    "    color=\"sector\"\n",
    ")"
   ]
  },
  {
   "cell_type": "code",
   "execution_count": 79,
   "metadata": {},
   "outputs": [
    {
     "ename": "RuntimeError",
     "evalue": "No active exception to reraise",
     "output_type": "error",
     "traceback": [
      "\u001b[0;31m---------------------------------------------------------------------------\u001b[0m",
      "\u001b[0;31mRuntimeError\u001b[0m                              Traceback (most recent call last)",
      "Cell \u001b[0;32mIn[79], line 1\u001b[0m\n\u001b[0;32m----> 1\u001b[0m \u001b[38;5;28;01mraise\u001b[39;00m\n",
      "\u001b[0;31mRuntimeError\u001b[0m: No active exception to reraise"
     ]
    }
   ],
   "source": [
    "raise"
   ]
  },
  {
   "cell_type": "markdown",
   "metadata": {},
   "source": [
    "## Creating optimized parquet files for source data\n",
    "\n",
    "This first section creates files that are the most effective for reading and querying. The general approach is as follows:\n",
    "\n",
    "1. Join the source and source confidence CSV files and writes them as parquet files for each subsector\n",
    "2. Aggregate by year into a yearly parquet file\n",
    "3. Optimize this parquet file for reading\n",
    "\n",
    "This first command creates parquet files that join the source and source confidences for each subsector, and returns a list of all the created files.\n",
    "\n",
    "In this notebook, another trick is to define the transformations as _data functions_. In short, this code will only run if the source code changes. This makes rerunning the notebooks very fast, and only updating when something has changed in the source code."
   ]
  },
  {
   "cell_type": "code",
   "execution_count": null,
   "metadata": {},
   "outputs": [],
   "source": [
    "@data_function(\"/data_sources\")\n",
    "def load_sources():\n",
    "    (_, files) = ct.data.load_source_compact()\n",
    "    return files\n",
    "\n",
    "load_sources()"
   ]
  },
  {
   "cell_type": "markdown",
   "metadata": {},
   "source": [
    "To help with the loading, the data is partitioned by year. This is the most relevant for most users: most people are expected to look at specific years and sectors (especially the latest year). This reduces the amount of data to load.\n",
    "\n",
    "Let us have a quick peek at the data in one of these files. It looks already pretty good: a lot of the redundant data such as the enumerations has been deduplicated. All the enumeration data is now converted to integers, this is what `dictionary<values=string, indices=int32, ordered=0>` means. It is not quite ready for high performance however."
   ]
  },
  {
   "cell_type": "code",
   "execution_count": null,
   "metadata": {},
   "outputs": [],
   "source": [
    "from pyarrow.parquet import read_table\n",
    "fname = load_sources()[0]\n",
    "print(fname)\n",
    "read_table(fname)"
   ]
  },
  {
   "cell_type": "markdown",
   "metadata": {},
   "source": [
    "## Aggregating by year and optimizing the output\n",
    "\n",
    "The following block takes all the sector files and aggregates them by year. This is based on the expectation that most users will work on the latest year, and that some users will want to look into the trends across the years.\n",
    "\n",
    "Since these files will be read many times (every time we want to do a graph), it pays off to optimize them. The Parquet format is designed for fast reads of the relevant data. We will do two main optimizations: optimal compression, optimizing the row groups and adding statistics.\n",
    "\n",
    "\n",
    "\n",
    "_Compression_ Parquet allows some data to be compressed by columns. The first intuition is that, looking at each column of data separately, there will be more patterns and thus more opportunities to compress the data. The second intuition is that, in data-intensive application, reading the data is the bottleneck. It is then faster to read smaller compressed data in memory and then decompress it (losing a bit of time in compute), rather than reading larger, uncompressed data. Modern compression algorithms such as ZStandard or LZ4 are designed to be very effective at using a processor. Using them is essentially a pure gain in terms of processing speed.\n",
    "\n",
    "\n",
    "```{admonition} CTODO\n",
    "The year of a data record is defined by its start time. This may be different than the convention used by Climate Trace. To check.\n",
    "```\n"
   ]
  },
  {
   "cell_type": "code",
   "execution_count": null,
   "metadata": {},
   "outputs": [],
   "source": [
    "write_directory = \"/tmp\"\n",
    "years = ct.data.years\n",
    "version = ct.data.version\n",
    "gases = ct.constants.GAS_LIST\n",
    "\n",
    "@data_function(\"/write_data\")\n",
    "def write_data():\n",
    "    data_files = load_sources()\n",
    "    dfs = []\n",
    "    for tmp_name in data_files:\n",
    "        print(tmp_name)\n",
    "        df = pl.scan_parquet(tmp_name)\n",
    "        df = df.pipe(ct.data.recast_parquet, conf=True)\n",
    "        dfs.append(df)\n",
    "    ldf = pl.concat(dfs)\n",
    "    fnames = []\n",
    "    for gas in gases:\n",
    "        for year in years:\n",
    "            fname1 = f\"{write_directory}/pre_climate_trace-sources_{version}_{year}_{gas}.parquet\"\n",
    "            (\n",
    "                ldf.filter(c_start_time.dt.year() == int(year))\n",
    "                   .filter(c_gas == gas)\n",
    "                   .sort(by=[GAS, SECTOR, SUBSECTOR, ISO3_COUNTRY, SOURCE_ID])\n",
    "                   .sink_parquet(\n",
    "                    fname1,\n",
    "                    compression=\"zstd\",\n",
    "                    maintain_order=True,\n",
    "                    statistics=True,\n",
    "                )\n",
    "            )\n",
    "            fname = f\"{write_directory}/climate_trace-sources_{version}_{year}_{gas}.parquet\"\n",
    "            print(fname)\n",
    "            ds = pyarrow.dataset.dataset(fname1)\n",
    "            pyarrow.dataset.write_dataset(\n",
    "                ds,\n",
    "                base_dir=\"/tmp\",\n",
    "                basename_template=\"ds_{i}.parquet\",\n",
    "                format=\"parquet\",\n",
    "                partitioning=None,\n",
    "                min_rows_per_group=300_000,\n",
    "                max_rows_per_group=1_000_000,\n",
    "            )\n",
    "            shutil.copyfile(\"/tmp/ds_0.parquet\", fname)\n",
    "            fnames.append((fname1, fname))\n",
    "    return fnames\n",
    "\n",
    "write_data()"
   ]
  },
  {
   "cell_type": "markdown",
   "metadata": {},
   "source": [
    "_Optimizing row groups_ A parquet file is a collection of groups of rows, and these rows are organized column-wise along with some statistics. We can choose how many groups to create: the minimum is one group (all the data into a single group), which is the most standard. This is not optimal however: reading can only be done by one processor core at a time. If we have more, they will sit idle. This is why it is better to choose the number of groups to be close to the expected number of processor cores (10-100). When reading, each core will process a different chunk of the file in parallel.\n",
    "\n",
    "Polars cannot do this yet, so the code below directly calls the `pyarrow` package to restructure the final file, calling the function `pyarrow.dataset.write_dataset`. \n",
    "\n",
    "Here is the parquet files produced directly by Polars. It is the result of joining datasets which themselves are the result of reading many files (each by subsector). It is very fragmented (see the `num_row_groups` statistics below).\n"
   ]
  },
  {
   "cell_type": "code",
   "execution_count": null,
   "metadata": {},
   "outputs": [],
   "source": [
    "(fname_pre, fname_post) = write_data()[0]\n",
    "print(fname_pre)\n",
    "print(fname_post)\n",
    "parquet_file = pyarrow.parquet.ParquetFile(fname_pre)\n",
    "# print(parquet_file.metadata.row_group(0).column(2).statistics)\n",
    "parquet_file.metadata"
   ]
  },
  {
   "cell_type": "markdown",
   "metadata": {},
   "source": [
    "The final file is more compact: only 58 row groups. It will be much faster to read (up to 50 times faster on my computer) because the readers do not need to gather information from each of the row groups."
   ]
  },
  {
   "cell_type": "code",
   "execution_count": null,
   "metadata": {},
   "outputs": [],
   "source": [
    "parquet_file = pyarrow.parquet.ParquetFile(fname_post)\n",
    "parquet_file.metadata"
   ]
  },
  {
   "cell_type": "markdown",
   "metadata": {},
   "source": [
    "_Statistics_ Each row group in a parquet file has statistics. These statistics contain for each columns basic information such as minimum, maximum, etc. as you can see below. During a query, a data system first reads these statistics to check what blocks of data it should read. \n",
    "\n",
    "For example, the first row group only contains agriculture data (which you can infer from `min: agriculture` and `max: agriculture`). As the result, if a query is looking for waste data, it can safely skip this full block. \n",
    "\n",
    "Grouping the rows and creating statistics can dramatically reduce the amount of data being read and processed. Finding the right number of groups is a tradeoff between using more cores to read the data in parallel, and not having to read too many statistics descriptions. In the extreme case of the file created by Polars (5000 row groups), the statistics make up 40% of the file and can take up to 90% of the processing time! If your parquet file reads slowly, it is probably due to its internal layout."
   ]
  },
  {
   "cell_type": "code",
   "execution_count": null,
   "metadata": {},
   "outputs": [],
   "source": [
    "parquet_file = pyarrow.parquet.ParquetFile(fname_post)\n",
    "parquet_file.metadata.row_group(0).column(12).statistics"
   ]
  },
  {
   "cell_type": "markdown",
   "metadata": {},
   "source": [
    "## Initial checks"
   ]
  },
  {
   "cell_type": "markdown",
   "metadata": {},
   "source": [
    "We know check that it works correctly. Let's load the newly created data instead of the default version stored on the internet, for the year 2023."
   ]
  },
  {
   "cell_type": "code",
   "execution_count": null,
   "metadata": {},
   "outputs": [],
   "source": [
    "sdf = ct.read_source_emissions(gas=CO2, year=2023, p=\"/tmp\")\n",
    "sdf"
   ]
  },
  {
   "cell_type": "markdown",
   "metadata": {},
   "source": [
    "About 15M records for this year. This is spread across multiple gas and also multiple trips in the case of boats or airplanes."
   ]
  },
  {
   "cell_type": "code",
   "execution_count": null,
   "metadata": {},
   "outputs": [],
   "source": [
    "sdf.select(pl.len()).collect()"
   ]
  },
  {
   "cell_type": "markdown",
   "metadata": {},
   "source": [
    "Check the number of distinct source IDs"
   ]
  },
  {
   "cell_type": "code",
   "execution_count": null,
   "metadata": {},
   "outputs": [],
   "source": [
    "by_sec = (sdf\n",
    ".group_by(SOURCE_ID, SECTOR)\n",
    ".agg(pl.len())\n",
    ".collect())"
   ]
  },
  {
   "cell_type": "markdown",
   "metadata": {},
   "source": [
    "The number of sources outside forestry and land use:"
   ]
  },
  {
   "cell_type": "code",
   "execution_count": null,
   "metadata": {},
   "outputs": [],
   "source": [
    "by_sec.filter(c_sector != FORESTRY_AND_LAND_USE).select(pl.len())"
   ]
  },
  {
   "cell_type": "markdown",
   "metadata": {},
   "source": [
    "Check: no source is associated with multiple sectors."
   ]
  },
  {
   "cell_type": "code",
   "execution_count": null,
   "metadata": {},
   "outputs": [],
   "source": [
    "by_sec.group_by(SOURCE_ID).agg(c_sector.n_unique()).filter(pl.col(SECTOR) > 1)"
   ]
  },
  {
   "cell_type": "markdown",
   "metadata": {},
   "source": [
    "Check: no annual source should be duplicated by gas. It used to be the case with V2 release."
   ]
  },
  {
   "cell_type": "code",
   "execution_count": null,
   "metadata": {},
   "outputs": [],
   "source": [
    "(sdf\n",
    ".filter(c_temporal_granularity ==\"annual\")\n",
    ".group_by(SOURCE_ID, GAS)\n",
    ".agg(pl.len())\n",
    ".filter(pl.col(\"len\") > 1)\n",
    ".sort(by=\"len\")\n",
    ".collect())"
   ]
  },
  {
   "cell_type": "markdown",
   "metadata": {},
   "source": [
    "Check: emissions should always be defined. V2 used to have empty values."
   ]
  },
  {
   "cell_type": "code",
   "execution_count": null,
   "metadata": {},
   "outputs": [],
   "source": [
    "sdf = ct.read_source_emissions(CO2E_100YR, 2023, \"/tmp\")\n",
    "(sdf\n",
    " .select(c_emissions_quantity.is_null().alias(\"null_emissions\"), c_subsector, c_iso3_country)\n",
    " .group_by(c_subsector, \"null_emissions\")\n",
    " .agg(pl.len())\n",
    " .collect()\n",
    " .pivot(index=SUBSECTOR, on=\"null_emissions\", values=\"len\")\n",
    ")"
   ]
  },
  {
   "cell_type": "markdown",
   "metadata": {},
   "source": [
    "## Integrity checks\n",
    "\n",
    "Before uploading and publishing data, it is a good idea to run a number of checks. Frameworks such as [pandera](https://pandera.readthedocs.io/en/latest/polars.html) are very helpful to implement these checks. Here we just check that Akrotiri and Dhekelia (country code XAD) is not included, as mentioned in the documentation."
   ]
  },
  {
   "cell_type": "code",
   "execution_count": null,
   "metadata": {},
   "outputs": [],
   "source": [
    "(ct.read_source_emissions(gas=GAS_LIST, year=2022, p=\"/tmp\")\n",
    " .filter(c_iso3_country == \"XAD\")\n",
    " .select(pl.len())\n",
    ".collect())"
   ]
  },
  {
   "cell_type": "markdown",
   "metadata": {},
   "source": [
    "### CO2e subsector data should be a superset of all sectors\n",
    "\n",
    "Here is an example of issue to investigate: one would expect the total CO2e_100yr (total emissions normalized by their CO2 equivalent) to be at least present for each sector in which emissions are reported. This is not the case for FLU, for instance for the `removals` subsector.\n",
    "\n",
    "```{admonition} CTODO\n",
    ":name: missing-co2e-subsectors\n",
    "Confirm with CT.\n",
    "```"
   ]
  },
  {
   "cell_type": "code",
   "execution_count": null,
   "metadata": {},
   "outputs": [],
   "source": [
    "with pl.Config(tbl_rows=20):\n",
    "    print(ct.read_source_emissions(gas=GAS_LIST, year=2022, p=\"/tmp\")\n",
    "     .group_by(c_sector, c_subsector, c_gas)\n",
    "     .agg(c_emissions_quantity.sum())\n",
    "     #.filter(c_emissions_quantity < 0)\n",
    "     .sort(by=[c_sector, c_subsector, c_gas])\n",
    "     .collect()\n",
    "     .pivot(GAS, index=[SECTOR, SUBSECTOR])\n",
    "     .filter(pl.col(CO2E_100YR).is_null())\n",
    "     .filter(pl.col(CO2) != 0)\n",
    "    )"
   ]
  },
  {
   "cell_type": "markdown",
   "metadata": {},
   "source": [
    "## Create parquet files for country emissions\n",
    "\n",
    "As of V3, country emission data is also large enough that it should be compacted in parquet files. Note the dramatic difference:\n",
    "\n",
    "- uncompressed CSV file: 106MB\n",
    "- compressed CSV file: 6MB\n",
    "- parquet: 1MB !!\n",
    "\n",
    "As highlighted, the parquet file also has the advantage of being very efficient at extracting only the relevant information."
   ]
  },
  {
   "cell_type": "code",
   "execution_count": null,
   "metadata": {},
   "outputs": [],
   "source": [
    "# Starting from the official archives, read all the gases.\n",
    "\n",
    "@data_function(\"/read_country\")\n",
    "def read_country():\n",
    "    path = Path(tempfile.gettempdir()) / f\"climate-trace-countries-{ct.data.version}.parquet\"\n",
    "    print(path)\n",
    "    cdf = ct.read_country_emissions(ct.constants.GAS_LIST, archive_path=True)\n",
    "    # Optimizing to read by time and then gas.\n",
    "    # The logic being that country-specific files are already available from CT.\n",
    "    (cdf\n",
    "     .sort(by=[c_start_time,c_gas,c_iso3_country])\n",
    "      .write_parquet(path) # Not taking precautions, the file is so small.\n",
    "    )\n",
    "    return path\n",
    "\n",
    "p = read_country()"
   ]
  },
  {
   "cell_type": "markdown",
   "metadata": {},
   "source": [
    "## Contry emissions: integrity checks\n",
    "\n",
    "In a production pipeline, before uploading the final data, we would run a number of checks again on the country emissions. Here are a few checks that we can run (and which are currently failing)."
   ]
  },
  {
   "cell_type": "code",
   "execution_count": null,
   "metadata": {},
   "outputs": [],
   "source": [
    "cdf = ct.read_country_emissions(parquet_path=p)\n",
    "cdf.head(2)"
   ]
  },
  {
   "cell_type": "markdown",
   "metadata": {},
   "source": [
    "### Country emissions: CO2e data should be a superset of all country emissions\n",
    "\n",
    "We see that some subsectors are present in CO2 emissions but are missing in the aggregated CO2e emissions"
   ]
  },
  {
   "cell_type": "code",
   "execution_count": null,
   "metadata": {},
   "outputs": [],
   "source": [
    "with pl.Config(tbl_rows=20):\n",
    "    print(cdf\n",
    "     .group_by(c_sector, c_subsector, c_gas)\n",
    "     .agg(c_emissions_quantity.sum())\n",
    "     .sort(by=[c_sector, c_subsector, c_gas])\n",
    "     .pivot(GAS, index=[SECTOR, SUBSECTOR])\n",
    "     .filter(pl.col(CO2E_100YR).is_null())\n",
    "     .filter(pl.col(CO2) != 0)\n",
    "    )"
   ]
  },
  {
   "cell_type": "markdown",
   "metadata": {},
   "source": [
    "### Country emissions: some countries are excluded from the dataset\n",
    "\n",
    "The Climate TRACE documentation excludes certain countries from the final release, but they are still present in the dataset:"
   ]
  },
  {
   "cell_type": "code",
   "execution_count": null,
   "metadata": {},
   "outputs": [],
   "source": [
    "excluded_isos = [\"XAD\", \"XCL\", \"XPI\", \"XSP\"]\n",
    "(cdf\n",
    " .filter(c_iso3_country.is_in(excluded_isos))\n",
    " .group_by([ISO3_COUNTRY, c_start_time.dt.year(), GAS, SECTOR, SUBSECTOR])\n",
    " .agg(pl.len()))"
   ]
  },
  {
   "cell_type": "markdown",
   "metadata": {},
   "source": [
    "## Upload the data to the Hugging Face Hub\n",
    "\n",
    "As a final step, we make the datasets available on Hugging Face as a downloadable dataset.\n",
    "\n",
    "This step will only work if you have the credentials to upload the dataset."
   ]
  },
  {
   "cell_type": "code",
   "execution_count": null,
   "metadata": {},
   "outputs": [],
   "source": [
    "import huggingface_hub.utils\n",
    "upload = False\n",
    "if upload:\n",
    "    try:\n",
    "        api = huggingface_hub.HfApi()\n",
    "        for (_, fpath) in write_data():\n",
    "            fname = os.path.basename(fpath)\n",
    "            print(fname, fpath)\n",
    "            api.upload_file(\n",
    "                path_or_fileobj=fpath,\n",
    "                path_in_repo=fname,\n",
    "                repo_id=\"tjhunter/climate-trace\",\n",
    "                repo_type=\"dataset\",\n",
    "            )\n",
    "        fpath = read_country()\n",
    "        fname = os.path.basename(fpath)\n",
    "        print(fname, fpath)\n",
    "        api.upload_file(\n",
    "            path_or_fileobj=fpath,\n",
    "            path_in_repo=fname,\n",
    "            repo_id=\"tjhunter/climate-trace\",\n",
    "            repo_type=\"dataset\",\n",
    "        )\n",
    "    except huggingface_hub.utils.HfHubHTTPError as e:\n",
    "        print(\"error\")\n",
    "        print(e)"
   ]
  },
  {
   "cell_type": "code",
   "execution_count": null,
   "metadata": {},
   "outputs": [],
   "source": []
  }
 ],
 "metadata": {
  "kernelspec": {
   "display_name": "Python 3 (ipykernel)",
   "language": "python",
   "name": "python3"
  },
  "language_info": {
   "codemirror_mode": {
    "name": "ipython",
    "version": 3
   },
   "file_extension": ".py",
   "mimetype": "text/x-python",
   "name": "python",
   "nbconvert_exporter": "python",
   "pygments_lexer": "ipython3",
   "version": "3.10.12"
  },
  "widgets": {
   "application/vnd.jupyter.widget-state+json": {
    "state": {},
    "version_major": 2,
    "version_minor": 0
   }
  }
 },
 "nbformat": 4,
 "nbformat_minor": 4
}
