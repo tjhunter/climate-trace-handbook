{
 "cells": [
  {
   "cell_type": "markdown",
   "metadata": {},
   "source": [
    "# Data ingestion and formatting\n",
    "\n",
    "This notebook explains how to convert the Climate TRACE dataset to a format that is more appropriate for data science. \n",
    "\n",
    "```{note}\n",
    "This section is relevant for data engineers, or data scientists who want to understand how the data \n",
    "has been prepared. Skip if you just want to access the final, prepared data.\n",
    "```\n",
    "\n",
    "The original data from Climate TRACE is offered as a series of CSV files bundled in ZIP archives. That format is universally understood, but it is not the most effective for effective analysis with data science tools.\n",
    "\n",
    "Instead, we are going to use the Parquet format. This format has a number of advantages:\n",
    "- it is _column-based_ : data systems can process big chunks of data at once, rather than line by line. Also, depending on the information requested, systems will read only the relevant columns and skip the rest very effectively\n",
    "- it is _structured_ : basic information about numbers, categories, ... are preserved. This provides a large speed boost\n",
    "- it is _universal_ : most modern data systems will be able to read it\n",
    "\n",
    "```{admonition} TODO\n",
    "complete this notebook and publish the source code.\n",
    "```\n",
    "\n",
    "Looking at the code, we are performing a few tricks:\n",
    "\n",
    "_Compacting the data_ We minimize the size of the files by taking advantage of its structures. In particular, we know in many cases that values are part of known enumerations (sectors, ...). We replace all these by `polars.Enumeration`s. Not only this makes files smaller, but it also allows data systems to make clever optimization for complex operations such as joining.\n",
    "\n",
    "_Lazy reading_ If we were to read all the source data using a traditional system such as Excel or Pandas, we would require a serious amount of memory. The files themselves are more than 5GB. Polars is capable of reading straight from the zip file in a streaming fashion. This is what Polars calls a Lazy dataframe, or LazyFrame. Even when doing complicated operations such as joining the source files with the confidence information, Polars only uses 3GB of memory on my machine. In fact, this way of working is so fast that the `ctrace` package directly reads all the country emissions data from the zip files in less than a second.\n",
    "\n",
    "_Using known enumerations_ You will see in the source code that nearly all the variables such as column names, names of gas and sectors, etc. are replaced CONSTANT_NAMES such as `CH4`,.... You can use that to autocomplete\n",
    "\n"
   ]
  },
  {
   "cell_type": "code",
   "execution_count": 1,
   "metadata": {},
   "outputs": [],
   "source": [
    "%load_ext autoreload\n",
    "%autoreload 2"
   ]
  },
  {
   "cell_type": "code",
   "execution_count": 2,
   "metadata": {},
   "outputs": [],
   "source": [
    "import logging\n",
    "logging.basicConfig(level=logging.WARNING)"
   ]
  },
  {
   "cell_type": "code",
   "execution_count": 3,
   "metadata": {},
   "outputs": [],
   "source": [
    "import polars as pl\n",
    "\n",
    "from ctrace.constants import *\n",
    "import ctrace as ct\n",
    "from dds import data_function\n",
    "import dds\n",
    "dds.accept_module(ct)"
   ]
  },
  {
   "cell_type": "markdown",
   "metadata": {},
   "source": [
    "In this notebook, another trick is to define the transformations as _data functions_. In short, this code will only run if the source code changes. This makes rerunning the notebooks very fast, and only updating when something has changed in the source code."
   ]
  },
  {
   "cell_type": "code",
   "execution_count": 4,
   "metadata": {},
   "outputs": [
    {
     "data": {
      "text/plain": [
       "[PosixPath('/tmp/enteric-fermentation-cattle-feedlot_emissions-sources.parquet'),\n",
       " PosixPath('/tmp/manure-management-cattle-feedlot_emissions-sources.parquet'),\n",
       " PosixPath('/tmp/rice-cultivation_emissions-sources.parquet'),\n",
       " PosixPath('/tmp/synthetic-fertilizer-application_emissions-sources.parquet'),\n",
       " PosixPath('/tmp/enteric-fermentation-cattle-pasture_emissions-sources.parquet'),\n",
       " PosixPath('/tmp/cropland-fires_emissions-sources.parquet'),\n",
       " PosixPath('/tmp/manure-left-on-pasture-cattle_emissions-sources.parquet'),\n",
       " PosixPath('/tmp/water-reservoirs_emissions-sources.parquet'),\n",
       " PosixPath('/tmp/removals_emissions-sources.parquet'),\n",
       " PosixPath('/tmp/forest-land-fires_emissions-sources.parquet'),\n",
       " PosixPath('/tmp/forest-land-degradation_emissions-sources.parquet'),\n",
       " PosixPath('/tmp/forest-land-clearing_emissions-sources.parquet'),\n",
       " PosixPath('/tmp/net-wetland_emissions-sources.parquet'),\n",
       " PosixPath('/tmp/net-forest-land_emissions-sources.parquet'),\n",
       " PosixPath('/tmp/net-shrubgrass_emissions-sources.parquet'),\n",
       " PosixPath('/tmp/wetland-fires_emissions-sources.parquet'),\n",
       " PosixPath('/tmp/shrubgrass-fires_emissions-sources.parquet'),\n",
       " PosixPath('/tmp/oil-and-gas-refining_emissions-sources.parquet'),\n",
       " PosixPath('/tmp/oil-and-gas-production-and-transport_emissions-sources.parquet'),\n",
       " PosixPath('/tmp/coal-mining_emissions-sources.parquet'),\n",
       " PosixPath('/tmp/petrochemicals_emissions-sources.parquet'),\n",
       " PosixPath('/tmp/other-manufacturing_emissions-sources.parquet'),\n",
       " PosixPath('/tmp/pulp-and-paper_emissions-sources.parquet'),\n",
       " PosixPath('/tmp/aluminum_emissions-sources.parquet'),\n",
       " PosixPath('/tmp/chemicals_emissions-sources.parquet'),\n",
       " PosixPath('/tmp/steel_emissions-sources.parquet'),\n",
       " PosixPath('/tmp/cement_emissions-sources.parquet'),\n",
       " PosixPath('/tmp/bauxite-mining_emissions-sources.parquet'),\n",
       " PosixPath('/tmp/iron-mining_emissions-sources.parquet'),\n",
       " PosixPath('/tmp/copper-mining_emissions-sources.parquet'),\n",
       " PosixPath('/tmp/electricity-generation_emissions-sources.parquet'),\n",
       " PosixPath('/tmp/road-transportation_emissions-sources.parquet'),\n",
       " PosixPath('/tmp/domestic-aviation_emissions-sources.parquet'),\n",
       " PosixPath('/tmp/international-aviation_emissions-sources.parquet'),\n",
       " PosixPath('/tmp/international-shipping_emissions-sources.parquet'),\n",
       " PosixPath('/tmp/domestic-shipping_emissions-sources.parquet'),\n",
       " PosixPath('/tmp/solid-waste-disposal_emissions-sources.parquet'),\n",
       " PosixPath('/tmp/wastewater-treatment-and-discharge_emissions-sources.parquet')]"
      ]
     },
     "execution_count": 4,
     "metadata": {},
     "output_type": "execute_result"
    }
   ],
   "source": [
    "@data_function(\"/data_sources\")\n",
    "def load_sources():\n",
    "    (_, files) = ct.data.load_source_compact()\n",
    "    return files\n",
    "\n",
    "load_sources()"
   ]
  },
  {
   "cell_type": "markdown",
   "metadata": {},
   "source": [
    "Because the data is loaded lazily, this step takes only 300MB of memory on my machine. Not bad for producing 2GB of data!\n",
    "\n",
    "To help with the loading, the data is partitioned by year. This is the most relevant for most users: most people are expected to look at specific years and sectors (especially the latest year). This reduces the amount of data to load.\n",
    "\n",
    "```{admonition} CTODO\n",
    "The year of a data record is defined by its start time. This may be different than the convention used by Climate Trace. To check.\n",
    "```"
   ]
  },
  {
   "cell_type": "code",
   "execution_count": 5,
   "metadata": {},
   "outputs": [],
   "source": [
    "write_directory = \"/tmp\"\n",
    "years = list(range(2015, 2023))\n",
    "version = ct.data.version\n",
    "\n",
    "@data_function(\"/write_data\")\n",
    "def write_data():\n",
    "    data_files = load_sources()\n",
    "    dfs = []\n",
    "    for tmp_name in data_files:\n",
    "        df = pl.scan_parquet(tmp_name)\n",
    "        df = df.pipe(ct.data.recast_parquet, conf=True)\n",
    "        dfs.append(df)\n",
    "    ldf = pl.concat(dfs)\n",
    "    # Using snappy because it is more broadly compatible with parquet readers\n",
    "    # Polars 0.20 does not support statistics\n",
    "    for year in years:\n",
    "        (ldf\n",
    "         .filter(c_start_time.dt.year()==year)\n",
    "         .sink_parquet(\n",
    "            f\"{write_directory}/climatetrace-sources_{version}_{year}.parquet\",\n",
    "            compression=\"snappy\",\n",
    "            statistics=False))\n",
    "\n",
    "write_data()"
   ]
  },
  {
   "cell_type": "markdown",
   "metadata": {},
   "source": [
    "We know check that it works correctly. Let's load the newly created data instead of the default version stored on the internet, for the year 2022."
   ]
  },
  {
   "cell_type": "code",
   "execution_count": 6,
   "metadata": {},
   "outputs": [
    {
     "data": {
      "text/html": [
       "<h4>NAIVE QUERY PLAN</h4><p>run <b>LazyFrame.show_graph()</b> to see the optimized version</p><?xml version=\"1.0\" encoding=\"UTF-8\" standalone=\"no\"?>\n",
       "<!DOCTYPE svg PUBLIC \"-//W3C//DTD SVG 1.1//EN\"\n",
       " \"http://www.w3.org/Graphics/SVG/1.1/DTD/svg11.dtd\">\n",
       "<!-- Generated by graphviz version 2.43.0 (0)\n",
       " -->\n",
       "<!-- Title: polars_query Pages: 1 -->\n",
       "<svg width=\"2178pt\" height=\"205pt\"\n",
       " viewBox=\"0.00 0.00 2178.00 205.00\" xmlns=\"http://www.w3.org/2000/svg\" xmlns:xlink=\"http://www.w3.org/1999/xlink\">\n",
       "<g id=\"graph0\" class=\"graph\" transform=\"scale(1 1) rotate(0) translate(4 201)\">\n",
       "<title>polars_query</title>\n",
       "<polygon fill=\"white\" stroke=\"transparent\" points=\"-4,4 -4,-201 2174,-201 2174,4 -4,4\"/>\n",
       "<!-- WITH COLUMNS [&quot;conf_source_type&quot;,&quot;conf_capacity&quot;,&quot;conf_capacity_factor&quot;,&quot;conf_activity&quot;,&quot;conf_co2_emissions_factor&quot;,&quot;conf_ch4_emissions_factor&quot;,&quot;conf_n2o_emissions_factor&quot;,&quot;conf_co2_emissions&quot;,&quot;conf_ch4_emissions&quot;,&quot;conf_n2o_emissions&quot;,&quot;conf_total_co2e_20yrgwp&quot;,&quot;conf_total_co2e_100yrgwp&quot;] [(0, 0)] -->\n",
       "<g id=\"node1\" class=\"node\">\n",
       "<title>WITH COLUMNS [&quot;conf_source_type&quot;,&quot;conf_capacity&quot;,&quot;conf_capacity_factor&quot;,&quot;conf_activity&quot;,&quot;conf_co2_emissions_factor&quot;,&quot;conf_ch4_emissions_factor&quot;,&quot;conf_n2o_emissions_factor&quot;,&quot;conf_co2_emissions&quot;,&quot;conf_ch4_emissions&quot;,&quot;conf_n2o_emissions&quot;,&quot;conf_total_co2e_20yrgwp&quot;,&quot;conf_total_co2e_100yrgwp&quot;] [(0, 0)]</title>\n",
       "<polygon fill=\"none\" stroke=\"black\" points=\"2170,-197 0,-197 0,-161 2170,-161 2170,-197\"/>\n",
       "<text text-anchor=\"middle\" x=\"1085\" y=\"-175.3\" font-family=\"Times,serif\" font-size=\"14.00\">WITH COLUMNS [&quot;conf_source_type&quot;,&quot;conf_capacity&quot;,&quot;conf_capacity_factor&quot;,&quot;conf_activity&quot;,&quot;conf_co2_emissions_factor&quot;,&quot;conf_ch4_emissions_factor&quot;,&quot;conf_n2o_emissions_factor&quot;,&quot;conf_co2_emissions&quot;,&quot;conf_ch4_emissions&quot;,&quot;conf_n2o_emissions&quot;,&quot;conf_total_co2e_20yrgwp&quot;,&quot;conf_total_co2e_100yrgwp&quot;]</text>\n",
       "</g>\n",
       "<!-- WITH COLUMNS [&quot;iso3_country&quot;,&quot;gas&quot;,&quot;original_inventory_sector&quot;,&quot;temporal_granularity&quot;,&quot;subsector&quot;,&quot;sector&quot;] [(0, 1)] -->\n",
       "<g id=\"node2\" class=\"node\">\n",
       "<title>WITH COLUMNS [&quot;iso3_country&quot;,&quot;gas&quot;,&quot;original_inventory_sector&quot;,&quot;temporal_granularity&quot;,&quot;subsector&quot;,&quot;sector&quot;] [(0, 1)]</title>\n",
       "<polygon fill=\"none\" stroke=\"black\" points=\"1495,-125 675,-125 675,-89 1495,-89 1495,-125\"/>\n",
       "<text text-anchor=\"middle\" x=\"1085\" y=\"-103.3\" font-family=\"Times,serif\" font-size=\"14.00\">WITH COLUMNS [&quot;iso3_country&quot;,&quot;gas&quot;,&quot;original_inventory_sector&quot;,&quot;temporal_granularity&quot;,&quot;subsector&quot;,&quot;sector&quot;]</text>\n",
       "</g>\n",
       "<!-- WITH COLUMNS [&quot;conf_source_type&quot;,&quot;conf_capacity&quot;,&quot;conf_capacity_factor&quot;,&quot;conf_activity&quot;,&quot;conf_co2_emissions_factor&quot;,&quot;conf_ch4_emissions_factor&quot;,&quot;conf_n2o_emissions_factor&quot;,&quot;conf_co2_emissions&quot;,&quot;conf_ch4_emissions&quot;,&quot;conf_n2o_emissions&quot;,&quot;conf_total_co2e_20yrgwp&quot;,&quot;conf_total_co2e_100yrgwp&quot;] [(0, 0)]&#45;&#45;WITH COLUMNS [&quot;iso3_country&quot;,&quot;gas&quot;,&quot;original_inventory_sector&quot;,&quot;temporal_granularity&quot;,&quot;subsector&quot;,&quot;sector&quot;] [(0, 1)] -->\n",
       "<g id=\"edge1\" class=\"edge\">\n",
       "<title>WITH COLUMNS [&quot;conf_source_type&quot;,&quot;conf_capacity&quot;,&quot;conf_capacity_factor&quot;,&quot;conf_activity&quot;,&quot;conf_co2_emissions_factor&quot;,&quot;conf_ch4_emissions_factor&quot;,&quot;conf_n2o_emissions_factor&quot;,&quot;conf_co2_emissions&quot;,&quot;conf_ch4_emissions&quot;,&quot;conf_n2o_emissions&quot;,&quot;conf_total_co2e_20yrgwp&quot;,&quot;conf_total_co2e_100yrgwp&quot;] [(0, 0)]&#45;&#45;WITH COLUMNS [&quot;iso3_country&quot;,&quot;gas&quot;,&quot;original_inventory_sector&quot;,&quot;temporal_granularity&quot;,&quot;subsector&quot;,&quot;sector&quot;] [(0, 1)]</title>\n",
       "<path fill=\"none\" stroke=\"black\" d=\"M1085,-160.7C1085,-149.85 1085,-135.92 1085,-125.1\"/>\n",
       "</g>\n",
       "<!-- Parquet SCAN /tmp/climatetrace&#45;sources_v2&#45;2023&#45;ct2_2022.parquet;\n",
       "π */60;\n",
       "σ &#45; [(0, 2)] -->\n",
       "<g id=\"node3\" class=\"node\">\n",
       "<title>Parquet SCAN /tmp/climatetrace&#45;sources_v2&#45;2023&#45;ct2_2022.parquet;\n",
       "π */60;\n",
       "σ &#45; [(0, 2)]</title>\n",
       "<polygon fill=\"none\" stroke=\"black\" points=\"1339.5,-53 830.5,-53 830.5,0 1339.5,0 1339.5,-53\"/>\n",
       "<text text-anchor=\"middle\" x=\"1085\" y=\"-37.8\" font-family=\"Times,serif\" font-size=\"14.00\">Parquet SCAN /tmp/climatetrace&#45;sources_v2&#45;2023&#45;ct2_2022.parquet;</text>\n",
       "<text text-anchor=\"middle\" x=\"1085\" y=\"-22.8\" font-family=\"Times,serif\" font-size=\"14.00\">π */60;</text>\n",
       "<text text-anchor=\"middle\" x=\"1085\" y=\"-7.8\" font-family=\"Times,serif\" font-size=\"14.00\">σ &#45;</text>\n",
       "</g>\n",
       "<!-- WITH COLUMNS [&quot;iso3_country&quot;,&quot;gas&quot;,&quot;original_inventory_sector&quot;,&quot;temporal_granularity&quot;,&quot;subsector&quot;,&quot;sector&quot;] [(0, 1)]&#45;&#45;Parquet SCAN /tmp/climatetrace&#45;sources_v2&#45;2023&#45;ct2_2022.parquet;\n",
       "π */60;\n",
       "σ &#45; [(0, 2)] -->\n",
       "<g id=\"edge2\" class=\"edge\">\n",
       "<title>WITH COLUMNS [&quot;iso3_country&quot;,&quot;gas&quot;,&quot;original_inventory_sector&quot;,&quot;temporal_granularity&quot;,&quot;subsector&quot;,&quot;sector&quot;] [(0, 1)]&#45;&#45;Parquet SCAN /tmp/climatetrace&#45;sources_v2&#45;2023&#45;ct2_2022.parquet;\n",
       "π */60;\n",
       "σ &#45; [(0, 2)]</title>\n",
       "<path fill=\"none\" stroke=\"black\" d=\"M1085,-88.97C1085,-78.51 1085,-64.9 1085,-53.16\"/>\n",
       "</g>\n",
       "</g>\n",
       "</svg>\n"
      ],
      "text/plain": [
       "<LazyFrame [60 cols, {\"source_id\": UInt64 … \"subsector\": Enum(categories=['aluminum', 'bauxite-mining', 'biological-treatment-of-solid-waste-and-biogenic', 'cement', 'chemicals', 'coal-mining', 'copper-mining', 'cropland-fires', 'domestic-aviation', 'domestic-shipping', 'electricity-generation', 'enteric-fermentation-cattle-feedlot', 'enteric-fermentation-cattle-pasture', 'enteric-fermentation-other', 'fluorinated-gases', 'forest-land-clearing', 'forest-land-degradation', 'forest-land-fires', 'incineration-and-open-burning-of-waste', 'international-aviation', 'international-shipping', 'iron-mining', 'manure-left-on-pasture-cattle', 'manure-management-cattle-feedlot', 'manure-management-other', 'net-forest-land', 'net-shrubgrass', 'net-wetland', 'oil-and-gas-production-and-transport', 'oil-and-gas-refining', 'other-agricultural-soil-emissions', 'other-energy-use', 'other-fossil-fuel-operations', 'other-manufacturing', 'other-onsite-fuel-usage', 'other-transport', 'petrochemicals', 'pulp-and-paper', 'railways', 'removals', 'residential-and-commercial-onsite-fuel-usage', 'rice-cultivation', 'road-transportation', 'rock-quarrying', 'sand-quarrying', 'shrubgrass-fires', 'solid-fuel-transformation', 'solid-waste-disposal', 'steel', 'synthetic-fertilizer-application', 'wastewater-treatment-and-discharge', 'water-reservoirs', 'wetland-fires'])}] at 0x74AE5AC2FC40>"
      ]
     },
     "execution_count": 6,
     "metadata": {},
     "output_type": "execute_result"
    }
   ],
   "source": [
    "sdf = ct.read_source_emissions(2022, \"/tmp\")\n",
    "sdf"
   ]
  },
  {
   "cell_type": "markdown",
   "metadata": {},
   "source": [
    "About 6M records for this year. This is spread across multiple gas and also multiple trips in the case of boats or airplanes."
   ]
  },
  {
   "cell_type": "code",
   "execution_count": 7,
   "metadata": {},
   "outputs": [
    {
     "data": {
      "text/html": [
       "<div><style>\n",
       ".dataframe > thead > tr,\n",
       ".dataframe > tbody > tr {\n",
       "  text-align: right;\n",
       "  white-space: pre-wrap;\n",
       "}\n",
       "</style>\n",
       "<small>shape: (1, 1)</small><table border=\"1\" class=\"dataframe\"><thead><tr><th>len</th></tr><tr><td>u32</td></tr></thead><tbody><tr><td>5798595</td></tr></tbody></table></div>"
      ],
      "text/plain": [
       "shape: (1, 1)\n",
       "┌─────────┐\n",
       "│ len     │\n",
       "│ ---     │\n",
       "│ u32     │\n",
       "╞═════════╡\n",
       "│ 5798595 │\n",
       "└─────────┘"
      ]
     },
     "execution_count": 7,
     "metadata": {},
     "output_type": "execute_result"
    }
   ],
   "source": [
    "sdf.select(pl.len()).collect()"
   ]
  },
  {
   "cell_type": "markdown",
   "metadata": {},
   "source": [
    "Check the number of distinct source IDs"
   ]
  },
  {
   "cell_type": "code",
   "execution_count": 8,
   "metadata": {},
   "outputs": [],
   "source": [
    "by_sec = (sdf\n",
    ".group_by(SOURCE_ID, SECTOR)\n",
    ".agg(pl.len())\n",
    ".collect())"
   ]
  },
  {
   "cell_type": "markdown",
   "metadata": {},
   "source": [
    "The number of sources outside FLU:\n",
    "\n",
    "```{admonition} CTODO\n",
    "This number does not match the official number on the Climate Trace website (395075 for 2022). Investigate.\n",
    "```"
   ]
  },
  {
   "cell_type": "code",
   "execution_count": 9,
   "metadata": {},
   "outputs": [
    {
     "data": {
      "text/html": [
       "<div><style>\n",
       ".dataframe > thead > tr,\n",
       ".dataframe > tbody > tr {\n",
       "  text-align: right;\n",
       "  white-space: pre-wrap;\n",
       "}\n",
       "</style>\n",
       "<small>shape: (1, 1)</small><table border=\"1\" class=\"dataframe\"><thead><tr><th>len</th></tr><tr><td>u32</td></tr></thead><tbody><tr><td>324649</td></tr></tbody></table></div>"
      ],
      "text/plain": [
       "shape: (1, 1)\n",
       "┌────────┐\n",
       "│ len    │\n",
       "│ ---    │\n",
       "│ u32    │\n",
       "╞════════╡\n",
       "│ 324649 │\n",
       "└────────┘"
      ]
     },
     "execution_count": 9,
     "metadata": {},
     "output_type": "execute_result"
    }
   ],
   "source": [
    "by_sec.filter(c_sector != FORESTRY_AND_LAND_USE).select(pl.len())"
   ]
  },
  {
   "cell_type": "markdown",
   "metadata": {},
   "source": [
    "Check: no source is associated with multiple sectors."
   ]
  },
  {
   "cell_type": "code",
   "execution_count": 10,
   "metadata": {},
   "outputs": [
    {
     "data": {
      "text/html": [
       "<div><style>\n",
       ".dataframe > thead > tr,\n",
       ".dataframe > tbody > tr {\n",
       "  text-align: right;\n",
       "  white-space: pre-wrap;\n",
       "}\n",
       "</style>\n",
       "<small>shape: (0, 2)</small><table border=\"1\" class=\"dataframe\"><thead><tr><th>source_id</th><th>sector</th></tr><tr><td>u64</td><td>u32</td></tr></thead><tbody></tbody></table></div>"
      ],
      "text/plain": [
       "shape: (0, 2)\n",
       "┌───────────┬────────┐\n",
       "│ source_id ┆ sector │\n",
       "│ ---       ┆ ---    │\n",
       "│ u64       ┆ u32    │\n",
       "╞═══════════╪════════╡\n",
       "└───────────┴────────┘"
      ]
     },
     "execution_count": 10,
     "metadata": {},
     "output_type": "execute_result"
    }
   ],
   "source": [
    "by_sec.group_by(SOURCE_ID).agg(c_sector.n_unique()).filter(pl.col(SECTOR) > 1)"
   ]
  },
  {
   "cell_type": "markdown",
   "metadata": {},
   "source": [
    "Check: no annual source should be duplicated by gas.\n",
    "\n",
    "```{admonition} CTODO\n",
    "Some sources seem duplicate?\n",
    "```"
   ]
  },
  {
   "cell_type": "code",
   "execution_count": 11,
   "metadata": {},
   "outputs": [
    {
     "data": {
      "text/html": [
       "<div><style>\n",
       ".dataframe > thead > tr,\n",
       ".dataframe > tbody > tr {\n",
       "  text-align: right;\n",
       "  white-space: pre-wrap;\n",
       "}\n",
       "</style>\n",
       "<small>shape: (90, 3)</small><table border=\"1\" class=\"dataframe\"><thead><tr><th>source_id</th><th>gas</th><th>len</th></tr><tr><td>u64</td><td>enum</td><td>u32</td></tr></thead><tbody><tr><td>13167068</td><td>&quot;n2o&quot;</td><td>2</td></tr><tr><td>13167022</td><td>&quot;co2e_100yr&quot;</td><td>2</td></tr><tr><td>13167024</td><td>&quot;n2o&quot;</td><td>2</td></tr><tr><td>13172612</td><td>&quot;co2e_100yr&quot;</td><td>2</td></tr><tr><td>13173204</td><td>&quot;ch4&quot;</td><td>2</td></tr><tr><td>&hellip;</td><td>&hellip;</td><td>&hellip;</td></tr><tr><td>13168862</td><td>&quot;co2e_100yr&quot;</td><td>6</td></tr><tr><td>13168862</td><td>&quot;n2o&quot;</td><td>6</td></tr><tr><td>13168862</td><td>&quot;ch4&quot;</td><td>6</td></tr><tr><td>13168862</td><td>&quot;co2&quot;</td><td>6</td></tr><tr><td>13168862</td><td>&quot;co2e_20yr&quot;</td><td>6</td></tr></tbody></table></div>"
      ],
      "text/plain": [
       "shape: (90, 3)\n",
       "┌───────────┬────────────┬─────┐\n",
       "│ source_id ┆ gas        ┆ len │\n",
       "│ ---       ┆ ---        ┆ --- │\n",
       "│ u64       ┆ enum       ┆ u32 │\n",
       "╞═══════════╪════════════╪═════╡\n",
       "│ 13167068  ┆ n2o        ┆ 2   │\n",
       "│ 13167022  ┆ co2e_100yr ┆ 2   │\n",
       "│ 13167024  ┆ n2o        ┆ 2   │\n",
       "│ 13172612  ┆ co2e_100yr ┆ 2   │\n",
       "│ 13173204  ┆ ch4        ┆ 2   │\n",
       "│ …         ┆ …          ┆ …   │\n",
       "│ 13168862  ┆ co2e_100yr ┆ 6   │\n",
       "│ 13168862  ┆ n2o        ┆ 6   │\n",
       "│ 13168862  ┆ ch4        ┆ 6   │\n",
       "│ 13168862  ┆ co2        ┆ 6   │\n",
       "│ 13168862  ┆ co2e_20yr  ┆ 6   │\n",
       "└───────────┴────────────┴─────┘"
      ]
     },
     "execution_count": 11,
     "metadata": {},
     "output_type": "execute_result"
    }
   ],
   "source": [
    "(sdf\n",
    ".filter(c_temporal_granularity ==\"annual\")\n",
    ".group_by(SOURCE_ID, GAS)\n",
    ".agg(pl.len())\n",
    ".filter(pl.col(\"len\") > 1)\n",
    ".sort(by=\"len\")\n",
    ".collect())"
   ]
  },
  {
   "cell_type": "code",
   "execution_count": 12,
   "metadata": {},
   "outputs": [
    {
     "data": {
      "text/html": [
       "<div><style>\n",
       ".dataframe > thead > tr,\n",
       ".dataframe > tbody > tr {\n",
       "  text-align: right;\n",
       "  white-space: pre-wrap;\n",
       "}\n",
       "</style>\n",
       "<small>shape: (6, 60)</small><table border=\"1\" class=\"dataframe\"><thead><tr><th>source_id</th><th>iso3_country</th><th>original_inventory_sector</th><th>start_time</th><th>end_time</th><th>temporal_granularity</th><th>gas</th><th>emissions_quantity</th><th>emissions_factor</th><th>emissions_factor_units</th><th>capacity</th><th>capacity_units</th><th>capacity_factor</th><th>activity</th><th>activity_units</th><th>created_date</th><th>modified_date</th><th>source_name</th><th>source_type</th><th>lat</th><th>lon</th><th>other1</th><th>other2</th><th>other3</th><th>other4</th><th>other5</th><th>other6</th><th>other7</th><th>other8</th><th>other9</th><th>other10</th><th>other11</th><th>other12</th><th>other1_def</th><th>other2_def</th><th>other3_def</th><th>other4_def</th><th>other5_def</th><th>other6_def</th><th>other7_def</th><th>other8_def</th><th>other9_def</th><th>other10_def</th><th>other11_def</th><th>other12_def</th><th>geometry_ref</th><th>conf_source_type</th><th>conf_capacity</th><th>conf_capacity_factor</th><th>conf_activity</th><th>conf_co2_emissions_factor</th><th>conf_ch4_emissions_factor</th><th>conf_n2o_emissions_factor</th><th>conf_co2_emissions</th><th>conf_ch4_emissions</th><th>conf_n2o_emissions</th><th>conf_total_co2e_20yrgwp</th><th>conf_total_co2e_100yrgwp</th><th>sector</th><th>subsector</th></tr><tr><td>u64</td><td>enum</td><td>enum</td><td>datetime[μs]</td><td>datetime[μs]</td><td>enum</td><td>enum</td><td>f64</td><td>f64</td><td>str</td><td>f64</td><td>str</td><td>f64</td><td>f64</td><td>str</td><td>datetime[μs]</td><td>datetime[μs]</td><td>str</td><td>str</td><td>f64</td><td>f64</td><td>str</td><td>str</td><td>str</td><td>str</td><td>str</td><td>str</td><td>str</td><td>str</td><td>str</td><td>str</td><td>str</td><td>str</td><td>str</td><td>str</td><td>str</td><td>str</td><td>str</td><td>str</td><td>str</td><td>str</td><td>str</td><td>str</td><td>str</td><td>str</td><td>str</td><td>enum</td><td>enum</td><td>enum</td><td>enum</td><td>enum</td><td>enum</td><td>enum</td><td>enum</td><td>enum</td><td>enum</td><td>enum</td><td>enum</td><td>enum</td><td>enum</td></tr></thead><tbody><tr><td>13168862</td><td>&quot;SGP&quot;</td><td>&quot;international-…</td><td>2022-01-24 00:00:05</td><td>2023-01-28 04:05:20</td><td>&quot;annual&quot;</td><td>&quot;co2&quot;</td><td>887242.035664</td><td>384.71971</td><td>&quot;average kg of …</td><td>2270.0</td><td>&quot;voyages&quot;</td><td>null</td><td>2.3604e6</td><td>&quot;nautical miles…</td><td>2022-01-24 00:00:00</td><td>2023-10-27 16:00:00</td><td>&quot;Singapore&quot;</td><td>&quot;&quot;</td><td>1.3221</td><td>103.8281</td><td>&quot;Singaporean Ex…</td><td>null</td><td>null</td><td>null</td><td>null</td><td>null</td><td>null</td><td>null</td><td>null</td><td>null</td><td>null</td><td>null</td><td>&quot;economic_zone&quot;</td><td>null</td><td>null</td><td>null</td><td>null</td><td>null</td><td>null</td><td>null</td><td>null</td><td>null</td><td>null</td><td>null</td><td>&quot;trace_103.8281…</td><td>null</td><td>null</td><td>null</td><td>null</td><td>null</td><td>null</td><td>null</td><td>null</td><td>null</td><td>null</td><td>null</td><td>null</td><td>&quot;transportation…</td><td>&quot;international-…</td></tr><tr><td>13168862</td><td>&quot;SGP&quot;</td><td>&quot;international-…</td><td>2022-03-07 00:00:12</td><td>2023-08-17 05:28:10</td><td>&quot;annual&quot;</td><td>&quot;co2&quot;</td><td>777996.059535</td><td>382.425599</td><td>&quot;average kg of …</td><td>2143.0</td><td>&quot;voyages&quot;</td><td>null</td><td>2.1804e6</td><td>&quot;nautical miles…</td><td>2022-03-07 00:00:00</td><td>2023-10-27 16:00:00</td><td>&quot;Singapore&quot;</td><td>&quot;&quot;</td><td>1.3221</td><td>103.8281</td><td>&quot;Singaporean Ex…</td><td>null</td><td>null</td><td>null</td><td>null</td><td>null</td><td>null</td><td>null</td><td>null</td><td>null</td><td>null</td><td>null</td><td>&quot;economic_zone&quot;</td><td>null</td><td>null</td><td>null</td><td>null</td><td>null</td><td>null</td><td>null</td><td>null</td><td>null</td><td>null</td><td>null</td><td>&quot;trace_103.8281…</td><td>null</td><td>null</td><td>null</td><td>null</td><td>null</td><td>null</td><td>null</td><td>null</td><td>null</td><td>null</td><td>null</td><td>null</td><td>&quot;transportation…</td><td>&quot;international-…</td></tr><tr><td>13168862</td><td>&quot;SGP&quot;</td><td>&quot;international-…</td><td>2022-02-21 00:07:40</td><td>2023-06-09 17:30:53</td><td>&quot;annual&quot;</td><td>&quot;co2&quot;</td><td>705932.371351</td><td>378.080732</td><td>&quot;average kg of …</td><td>2083.0</td><td>&quot;voyages&quot;</td><td>null</td><td>2.0456e6</td><td>&quot;nautical miles…</td><td>2022-02-21 00:00:00</td><td>2023-10-27 16:00:00</td><td>&quot;Singapore&quot;</td><td>&quot;&quot;</td><td>1.3221</td><td>103.8281</td><td>&quot;Singaporean Ex…</td><td>null</td><td>null</td><td>null</td><td>null</td><td>null</td><td>null</td><td>null</td><td>null</td><td>null</td><td>null</td><td>null</td><td>&quot;economic_zone&quot;</td><td>null</td><td>null</td><td>null</td><td>null</td><td>null</td><td>null</td><td>null</td><td>null</td><td>null</td><td>null</td><td>null</td><td>&quot;trace_103.8281…</td><td>null</td><td>null</td><td>null</td><td>null</td><td>null</td><td>null</td><td>null</td><td>null</td><td>null</td><td>null</td><td>null</td><td>null</td><td>&quot;transportation…</td><td>&quot;international-…</td></tr><tr><td>13168862</td><td>&quot;SGP&quot;</td><td>&quot;international-…</td><td>2022-05-23 00:00:07</td><td>2023-08-21 08:19:06</td><td>&quot;annual&quot;</td><td>&quot;co2&quot;</td><td>866005.903</td><td>385.374134</td><td>&quot;average kg of …</td><td>2338.0</td><td>&quot;voyages&quot;</td><td>null</td><td>2.4547e6</td><td>&quot;nautical miles…</td><td>2022-05-23 00:00:00</td><td>2023-10-27 16:00:00</td><td>&quot;Singapore&quot;</td><td>&quot;&quot;</td><td>1.3221</td><td>103.8281</td><td>&quot;Singaporean Ex…</td><td>null</td><td>null</td><td>null</td><td>null</td><td>null</td><td>null</td><td>null</td><td>null</td><td>null</td><td>null</td><td>null</td><td>&quot;economic_zone&quot;</td><td>null</td><td>null</td><td>null</td><td>null</td><td>null</td><td>null</td><td>null</td><td>null</td><td>null</td><td>null</td><td>null</td><td>&quot;trace_103.8281…</td><td>null</td><td>null</td><td>null</td><td>null</td><td>null</td><td>null</td><td>null</td><td>null</td><td>null</td><td>null</td><td>null</td><td>null</td><td>&quot;transportation…</td><td>&quot;international-…</td></tr><tr><td>13168862</td><td>&quot;SGP&quot;</td><td>&quot;international-…</td><td>2022-05-09 00:00:10</td><td>2023-06-13 04:06:34</td><td>&quot;annual&quot;</td><td>&quot;co2&quot;</td><td>835881.630293</td><td>382.002172</td><td>&quot;average kg of …</td><td>2255.0</td><td>&quot;voyages&quot;</td><td>null</td><td>2.3769e6</td><td>&quot;nautical miles…</td><td>2022-05-09 00:00:00</td><td>2023-10-27 16:00:00</td><td>&quot;Singapore&quot;</td><td>&quot;&quot;</td><td>1.3221</td><td>103.8281</td><td>&quot;Singaporean Ex…</td><td>null</td><td>null</td><td>null</td><td>null</td><td>null</td><td>null</td><td>null</td><td>null</td><td>null</td><td>null</td><td>null</td><td>&quot;economic_zone&quot;</td><td>null</td><td>null</td><td>null</td><td>null</td><td>null</td><td>null</td><td>null</td><td>null</td><td>null</td><td>null</td><td>null</td><td>&quot;trace_103.8281…</td><td>null</td><td>null</td><td>null</td><td>null</td><td>null</td><td>null</td><td>null</td><td>null</td><td>null</td><td>null</td><td>null</td><td>null</td><td>&quot;transportation…</td><td>&quot;international-…</td></tr><tr><td>13168862</td><td>&quot;SGP&quot;</td><td>&quot;international-…</td><td>2022-03-14 00:03:45</td><td>2023-07-05 16:50:59</td><td>&quot;annual&quot;</td><td>&quot;co2&quot;</td><td>724527.140616</td><td>381.217951</td><td>&quot;average kg of …</td><td>2095.0</td><td>&quot;voyages&quot;</td><td>null</td><td>2.0766e6</td><td>&quot;nautical miles…</td><td>2022-03-14 00:00:00</td><td>2023-10-27 16:00:00</td><td>&quot;Singapore&quot;</td><td>&quot;&quot;</td><td>1.3221</td><td>103.8281</td><td>&quot;Singaporean Ex…</td><td>null</td><td>null</td><td>null</td><td>null</td><td>null</td><td>null</td><td>null</td><td>null</td><td>null</td><td>null</td><td>null</td><td>&quot;economic_zone&quot;</td><td>null</td><td>null</td><td>null</td><td>null</td><td>null</td><td>null</td><td>null</td><td>null</td><td>null</td><td>null</td><td>null</td><td>&quot;trace_103.8281…</td><td>null</td><td>null</td><td>null</td><td>null</td><td>null</td><td>null</td><td>null</td><td>null</td><td>null</td><td>null</td><td>null</td><td>null</td><td>&quot;transportation…</td><td>&quot;international-…</td></tr></tbody></table></div>"
      ],
      "text/plain": [
       "shape: (6, 60)\n",
       "┌───────────┬───────────┬───────────┬───────────┬───┬───────────┬───────────┬───────────┬──────────┐\n",
       "│ source_id ┆ iso3_coun ┆ original_ ┆ start_tim ┆ … ┆ conf_tota ┆ conf_tota ┆ sector    ┆ subsecto │\n",
       "│ ---       ┆ try       ┆ inventory ┆ e         ┆   ┆ l_co2e_20 ┆ l_co2e_10 ┆ ---       ┆ r        │\n",
       "│ u64       ┆ ---       ┆ _sector   ┆ ---       ┆   ┆ yrgwp     ┆ 0yrgwp    ┆ enum      ┆ ---      │\n",
       "│           ┆ enum      ┆ ---       ┆ datetime[ ┆   ┆ ---       ┆ ---       ┆           ┆ enum     │\n",
       "│           ┆           ┆ enum      ┆ μs]       ┆   ┆ enum      ┆ enum      ┆           ┆          │\n",
       "╞═══════════╪═══════════╪═══════════╪═══════════╪═══╪═══════════╪═══════════╪═══════════╪══════════╡\n",
       "│ 13168862  ┆ SGP       ┆ internati ┆ 2022-01-2 ┆ … ┆ null      ┆ null      ┆ transport ┆ internat │\n",
       "│           ┆           ┆ onal-ship ┆ 4         ┆   ┆           ┆           ┆ ation     ┆ ional-sh │\n",
       "│           ┆           ┆ ping      ┆ 00:00:05  ┆   ┆           ┆           ┆           ┆ ipping   │\n",
       "│ 13168862  ┆ SGP       ┆ internati ┆ 2022-03-0 ┆ … ┆ null      ┆ null      ┆ transport ┆ internat │\n",
       "│           ┆           ┆ onal-ship ┆ 7         ┆   ┆           ┆           ┆ ation     ┆ ional-sh │\n",
       "│           ┆           ┆ ping      ┆ 00:00:12  ┆   ┆           ┆           ┆           ┆ ipping   │\n",
       "│ 13168862  ┆ SGP       ┆ internati ┆ 2022-02-2 ┆ … ┆ null      ┆ null      ┆ transport ┆ internat │\n",
       "│           ┆           ┆ onal-ship ┆ 1         ┆   ┆           ┆           ┆ ation     ┆ ional-sh │\n",
       "│           ┆           ┆ ping      ┆ 00:07:40  ┆   ┆           ┆           ┆           ┆ ipping   │\n",
       "│ 13168862  ┆ SGP       ┆ internati ┆ 2022-05-2 ┆ … ┆ null      ┆ null      ┆ transport ┆ internat │\n",
       "│           ┆           ┆ onal-ship ┆ 3         ┆   ┆           ┆           ┆ ation     ┆ ional-sh │\n",
       "│           ┆           ┆ ping      ┆ 00:00:07  ┆   ┆           ┆           ┆           ┆ ipping   │\n",
       "│ 13168862  ┆ SGP       ┆ internati ┆ 2022-05-0 ┆ … ┆ null      ┆ null      ┆ transport ┆ internat │\n",
       "│           ┆           ┆ onal-ship ┆ 9         ┆   ┆           ┆           ┆ ation     ┆ ional-sh │\n",
       "│           ┆           ┆ ping      ┆ 00:00:10  ┆   ┆           ┆           ┆           ┆ ipping   │\n",
       "│ 13168862  ┆ SGP       ┆ internati ┆ 2022-03-1 ┆ … ┆ null      ┆ null      ┆ transport ┆ internat │\n",
       "│           ┆           ┆ onal-ship ┆ 4         ┆   ┆           ┆           ┆ ation     ┆ ional-sh │\n",
       "│           ┆           ┆ ping      ┆ 00:03:45  ┆   ┆           ┆           ┆           ┆ ipping   │\n",
       "└───────────┴───────────┴───────────┴───────────┴───┴───────────┴───────────┴───────────┴──────────┘"
      ]
     },
     "execution_count": 12,
     "metadata": {},
     "output_type": "execute_result"
    }
   ],
   "source": [
    "# Drilling into the record that is duplicate. It seems to be mixing multiple temporal granularities.\n",
    "# Unsure how to handle this then\n",
    "(sdf\n",
    ".filter(c_source_id == 13168862)\n",
    ".filter(c_temporal_granularity ==\"annual\")\n",
    ".filter(c_gas == CO2)\n",
    ".head(20)\n",
    ".collect()\n",
    ")"
   ]
  },
  {
   "cell_type": "code",
   "execution_count": 13,
   "metadata": {},
   "outputs": [
    {
     "data": {
      "text/html": [
       "<div><style>\n",
       ".dataframe > thead > tr,\n",
       ".dataframe > tbody > tr {\n",
       "  text-align: right;\n",
       "  white-space: pre-wrap;\n",
       "}\n",
       "</style>\n",
       "<small>shape: (110, 3)</small><table border=\"1\" class=\"dataframe\"><thead><tr><th>source_id</th><th>gas</th><th>len</th></tr><tr><td>u64</td><td>enum</td><td>u32</td></tr></thead><tbody><tr><td>13169112</td><td>&quot;co2&quot;</td><td>14</td></tr><tr><td>13168272</td><td>&quot;co2&quot;</td><td>13</td></tr><tr><td>13168358</td><td>&quot;ch4&quot;</td><td>14</td></tr><tr><td>13168294</td><td>&quot;ch4&quot;</td><td>14</td></tr><tr><td>13168386</td><td>&quot;n2o&quot;</td><td>16</td></tr><tr><td>&hellip;</td><td>&hellip;</td><td>&hellip;</td></tr><tr><td>13166715</td><td>&quot;co2e_100yr&quot;</td><td>15</td></tr><tr><td>13168148</td><td>&quot;n2o&quot;</td><td>15</td></tr><tr><td>13167042</td><td>&quot;co2e_20yr&quot;</td><td>17</td></tr><tr><td>13169112</td><td>&quot;ch4&quot;</td><td>14</td></tr><tr><td>13169112</td><td>&quot;n2o&quot;</td><td>14</td></tr></tbody></table></div>"
      ],
      "text/plain": [
       "shape: (110, 3)\n",
       "┌───────────┬────────────┬─────┐\n",
       "│ source_id ┆ gas        ┆ len │\n",
       "│ ---       ┆ ---        ┆ --- │\n",
       "│ u64       ┆ enum       ┆ u32 │\n",
       "╞═══════════╪════════════╪═════╡\n",
       "│ 13169112  ┆ co2        ┆ 14  │\n",
       "│ 13168272  ┆ co2        ┆ 13  │\n",
       "│ 13168358  ┆ ch4        ┆ 14  │\n",
       "│ 13168294  ┆ ch4        ┆ 14  │\n",
       "│ 13168386  ┆ n2o        ┆ 16  │\n",
       "│ …         ┆ …          ┆ …   │\n",
       "│ 13166715  ┆ co2e_100yr ┆ 15  │\n",
       "│ 13168148  ┆ n2o        ┆ 15  │\n",
       "│ 13167042  ┆ co2e_20yr  ┆ 17  │\n",
       "│ 13169112  ┆ ch4        ┆ 14  │\n",
       "│ 13169112  ┆ n2o        ┆ 14  │\n",
       "└───────────┴────────────┴─────┘"
      ]
     },
     "execution_count": 13,
     "metadata": {},
     "output_type": "execute_result"
    }
   ],
   "source": [
    "(sdf\n",
    ".filter(c_temporal_granularity ==\"month\")\n",
    ".group_by(SOURCE_ID, GAS)\n",
    ".agg(pl.len())\n",
    ".filter(pl.col(\"len\") > 12)\n",
    ".collect())"
   ]
  },
  {
   "cell_type": "markdown",
   "metadata": {},
   "source": [
    "Check: emissions should always be defined\n",
    "\n",
    "```{admonition} CTODO\n",
    "\n",
    "Some source emissions have null values, it should be zero or excluded.\n",
    "```"
   ]
  },
  {
   "cell_type": "code",
   "execution_count": 14,
   "metadata": {},
   "outputs": [
    {
     "data": {
      "text/html": [
       "<h4>NAIVE QUERY PLAN</h4><p>run <b>LazyFrame.show_graph()</b> to see the optimized version</p><?xml version=\"1.0\" encoding=\"UTF-8\" standalone=\"no\"?>\n",
       "<!DOCTYPE svg PUBLIC \"-//W3C//DTD SVG 1.1//EN\"\n",
       " \"http://www.w3.org/Graphics/SVG/1.1/DTD/svg11.dtd\">\n",
       "<!-- Generated by graphviz version 2.43.0 (0)\n",
       " -->\n",
       "<!-- Title: polars_query Pages: 1 -->\n",
       "<svg width=\"2178pt\" height=\"277pt\"\n",
       " viewBox=\"0.00 0.00 2178.00 277.00\" xmlns=\"http://www.w3.org/2000/svg\" xmlns:xlink=\"http://www.w3.org/1999/xlink\">\n",
       "<g id=\"graph0\" class=\"graph\" transform=\"scale(1 1) rotate(0) translate(4 273)\">\n",
       "<title>polars_query</title>\n",
       "<polygon fill=\"white\" stroke=\"transparent\" points=\"-4,4 -4,-273 2174,-273 2174,4 -4,4\"/>\n",
       "<!-- π 1/60 [(0, 0)] -->\n",
       "<g id=\"node1\" class=\"node\">\n",
       "<title>π 1/60 [(0, 0)]</title>\n",
       "<polygon fill=\"none\" stroke=\"black\" points=\"1116,-269 1054,-269 1054,-233 1116,-233 1116,-269\"/>\n",
       "<text text-anchor=\"middle\" x=\"1085\" y=\"-247.3\" font-family=\"Times,serif\" font-size=\"14.00\">π 1/60</text>\n",
       "</g>\n",
       "<!-- WITH COLUMNS [&quot;conf_source_type&quot;,&quot;conf_capacity&quot;,&quot;conf_capacity_factor&quot;,&quot;conf_activity&quot;,&quot;conf_co2_emissions_factor&quot;,&quot;conf_ch4_emissions_factor&quot;,&quot;conf_n2o_emissions_factor&quot;,&quot;conf_co2_emissions&quot;,&quot;conf_ch4_emissions&quot;,&quot;conf_n2o_emissions&quot;,&quot;conf_total_co2e_20yrgwp&quot;,&quot;conf_total_co2e_100yrgwp&quot;] [(0, 1)] -->\n",
       "<g id=\"node2\" class=\"node\">\n",
       "<title>WITH COLUMNS [&quot;conf_source_type&quot;,&quot;conf_capacity&quot;,&quot;conf_capacity_factor&quot;,&quot;conf_activity&quot;,&quot;conf_co2_emissions_factor&quot;,&quot;conf_ch4_emissions_factor&quot;,&quot;conf_n2o_emissions_factor&quot;,&quot;conf_co2_emissions&quot;,&quot;conf_ch4_emissions&quot;,&quot;conf_n2o_emissions&quot;,&quot;conf_total_co2e_20yrgwp&quot;,&quot;conf_total_co2e_100yrgwp&quot;] [(0, 1)]</title>\n",
       "<polygon fill=\"none\" stroke=\"black\" points=\"2170,-197 0,-197 0,-161 2170,-161 2170,-197\"/>\n",
       "<text text-anchor=\"middle\" x=\"1085\" y=\"-175.3\" font-family=\"Times,serif\" font-size=\"14.00\">WITH COLUMNS [&quot;conf_source_type&quot;,&quot;conf_capacity&quot;,&quot;conf_capacity_factor&quot;,&quot;conf_activity&quot;,&quot;conf_co2_emissions_factor&quot;,&quot;conf_ch4_emissions_factor&quot;,&quot;conf_n2o_emissions_factor&quot;,&quot;conf_co2_emissions&quot;,&quot;conf_ch4_emissions&quot;,&quot;conf_n2o_emissions&quot;,&quot;conf_total_co2e_20yrgwp&quot;,&quot;conf_total_co2e_100yrgwp&quot;]</text>\n",
       "</g>\n",
       "<!-- π 1/60 [(0, 0)]&#45;&#45;WITH COLUMNS [&quot;conf_source_type&quot;,&quot;conf_capacity&quot;,&quot;conf_capacity_factor&quot;,&quot;conf_activity&quot;,&quot;conf_co2_emissions_factor&quot;,&quot;conf_ch4_emissions_factor&quot;,&quot;conf_n2o_emissions_factor&quot;,&quot;conf_co2_emissions&quot;,&quot;conf_ch4_emissions&quot;,&quot;conf_n2o_emissions&quot;,&quot;conf_total_co2e_20yrgwp&quot;,&quot;conf_total_co2e_100yrgwp&quot;] [(0, 1)] -->\n",
       "<g id=\"edge1\" class=\"edge\">\n",
       "<title>π 1/60 [(0, 0)]&#45;&#45;WITH COLUMNS [&quot;conf_source_type&quot;,&quot;conf_capacity&quot;,&quot;conf_capacity_factor&quot;,&quot;conf_activity&quot;,&quot;conf_co2_emissions_factor&quot;,&quot;conf_ch4_emissions_factor&quot;,&quot;conf_n2o_emissions_factor&quot;,&quot;conf_co2_emissions&quot;,&quot;conf_ch4_emissions&quot;,&quot;conf_n2o_emissions&quot;,&quot;conf_total_co2e_20yrgwp&quot;,&quot;conf_total_co2e_100yrgwp&quot;] [(0, 1)]</title>\n",
       "<path fill=\"none\" stroke=\"black\" d=\"M1085,-232.7C1085,-221.85 1085,-207.92 1085,-197.1\"/>\n",
       "</g>\n",
       "<!-- WITH COLUMNS [&quot;iso3_country&quot;,&quot;gas&quot;,&quot;original_inventory_sector&quot;,&quot;temporal_granularity&quot;,&quot;subsector&quot;,&quot;sector&quot;] [(0, 2)] -->\n",
       "<g id=\"node3\" class=\"node\">\n",
       "<title>WITH COLUMNS [&quot;iso3_country&quot;,&quot;gas&quot;,&quot;original_inventory_sector&quot;,&quot;temporal_granularity&quot;,&quot;subsector&quot;,&quot;sector&quot;] [(0, 2)]</title>\n",
       "<polygon fill=\"none\" stroke=\"black\" points=\"1495,-125 675,-125 675,-89 1495,-89 1495,-125\"/>\n",
       "<text text-anchor=\"middle\" x=\"1085\" y=\"-103.3\" font-family=\"Times,serif\" font-size=\"14.00\">WITH COLUMNS [&quot;iso3_country&quot;,&quot;gas&quot;,&quot;original_inventory_sector&quot;,&quot;temporal_granularity&quot;,&quot;subsector&quot;,&quot;sector&quot;]</text>\n",
       "</g>\n",
       "<!-- WITH COLUMNS [&quot;conf_source_type&quot;,&quot;conf_capacity&quot;,&quot;conf_capacity_factor&quot;,&quot;conf_activity&quot;,&quot;conf_co2_emissions_factor&quot;,&quot;conf_ch4_emissions_factor&quot;,&quot;conf_n2o_emissions_factor&quot;,&quot;conf_co2_emissions&quot;,&quot;conf_ch4_emissions&quot;,&quot;conf_n2o_emissions&quot;,&quot;conf_total_co2e_20yrgwp&quot;,&quot;conf_total_co2e_100yrgwp&quot;] [(0, 1)]&#45;&#45;WITH COLUMNS [&quot;iso3_country&quot;,&quot;gas&quot;,&quot;original_inventory_sector&quot;,&quot;temporal_granularity&quot;,&quot;subsector&quot;,&quot;sector&quot;] [(0, 2)] -->\n",
       "<g id=\"edge2\" class=\"edge\">\n",
       "<title>WITH COLUMNS [&quot;conf_source_type&quot;,&quot;conf_capacity&quot;,&quot;conf_capacity_factor&quot;,&quot;conf_activity&quot;,&quot;conf_co2_emissions_factor&quot;,&quot;conf_ch4_emissions_factor&quot;,&quot;conf_n2o_emissions_factor&quot;,&quot;conf_co2_emissions&quot;,&quot;conf_ch4_emissions&quot;,&quot;conf_n2o_emissions&quot;,&quot;conf_total_co2e_20yrgwp&quot;,&quot;conf_total_co2e_100yrgwp&quot;] [(0, 1)]&#45;&#45;WITH COLUMNS [&quot;iso3_country&quot;,&quot;gas&quot;,&quot;original_inventory_sector&quot;,&quot;temporal_granularity&quot;,&quot;subsector&quot;,&quot;sector&quot;] [(0, 2)]</title>\n",
       "<path fill=\"none\" stroke=\"black\" d=\"M1085,-160.7C1085,-149.85 1085,-135.92 1085,-125.1\"/>\n",
       "</g>\n",
       "<!-- Parquet SCAN /tmp/climatetrace&#45;sources_v2&#45;2023&#45;ct2_2022.parquet;\n",
       "π */60;\n",
       "σ &#45; [(0, 3)] -->\n",
       "<g id=\"node4\" class=\"node\">\n",
       "<title>Parquet SCAN /tmp/climatetrace&#45;sources_v2&#45;2023&#45;ct2_2022.parquet;\n",
       "π */60;\n",
       "σ &#45; [(0, 3)]</title>\n",
       "<polygon fill=\"none\" stroke=\"black\" points=\"1339.5,-53 830.5,-53 830.5,0 1339.5,0 1339.5,-53\"/>\n",
       "<text text-anchor=\"middle\" x=\"1085\" y=\"-37.8\" font-family=\"Times,serif\" font-size=\"14.00\">Parquet SCAN /tmp/climatetrace&#45;sources_v2&#45;2023&#45;ct2_2022.parquet;</text>\n",
       "<text text-anchor=\"middle\" x=\"1085\" y=\"-22.8\" font-family=\"Times,serif\" font-size=\"14.00\">π */60;</text>\n",
       "<text text-anchor=\"middle\" x=\"1085\" y=\"-7.8\" font-family=\"Times,serif\" font-size=\"14.00\">σ &#45;</text>\n",
       "</g>\n",
       "<!-- WITH COLUMNS [&quot;iso3_country&quot;,&quot;gas&quot;,&quot;original_inventory_sector&quot;,&quot;temporal_granularity&quot;,&quot;subsector&quot;,&quot;sector&quot;] [(0, 2)]&#45;&#45;Parquet SCAN /tmp/climatetrace&#45;sources_v2&#45;2023&#45;ct2_2022.parquet;\n",
       "π */60;\n",
       "σ &#45; [(0, 3)] -->\n",
       "<g id=\"edge3\" class=\"edge\">\n",
       "<title>WITH COLUMNS [&quot;iso3_country&quot;,&quot;gas&quot;,&quot;original_inventory_sector&quot;,&quot;temporal_granularity&quot;,&quot;subsector&quot;,&quot;sector&quot;] [(0, 2)]&#45;&#45;Parquet SCAN /tmp/climatetrace&#45;sources_v2&#45;2023&#45;ct2_2022.parquet;\n",
       "π */60;\n",
       "σ &#45; [(0, 3)]</title>\n",
       "<path fill=\"none\" stroke=\"black\" d=\"M1085,-88.97C1085,-78.51 1085,-64.9 1085,-53.16\"/>\n",
       "</g>\n",
       "</g>\n",
       "</svg>\n"
      ],
      "text/plain": [
       "<LazyFrame [1 col, {\"null_emissions\": Struct({'null_emissions': Boolean, 'count': UInt32})}] at 0x74AE5AC2FD90>"
      ]
     },
     "execution_count": 14,
     "metadata": {},
     "output_type": "execute_result"
    }
   ],
   "source": [
    "(sdf.select(c_emissions_quantity.is_null().alias(\"null_emissions\").value_counts()))"
   ]
  },
  {
   "cell_type": "markdown",
   "metadata": {},
   "source": [
    "### Investigation: for 2022, some source emissions are multiple (2x or 3x) the country emissions for the same country\n",
    "\n",
    "Here is an example for domestic aviation in ARE, for CO2/CO2e\n",
    "\n",
    "This investigation directly looks at the CSV files, it is not a bug in the preprocessing."
   ]
  },
  {
   "cell_type": "code",
   "execution_count": 15,
   "metadata": {},
   "outputs": [
    {
     "name": "stderr",
     "output_type": "stream",
     "text": [
      "/home/tjhunter/work/climate-trace-handbook/src/ctrace/data.py:183: UserWarning: Polars found a filename. Ensure you pass a path to the file instead of a python file object when possible for best performance.\n",
      "  df = pl.read_csv(zf.open(sname), infer_schema_length=0)\n"
     ]
    }
   ],
   "source": [
    "def _fil(fname, sname):\n",
    "    return fname == \"transportation.zip\" and sname == \"domestic-aviation_emissions-sources.csv\"\n",
    "sdf = ct.data._load_csv(_fil,[SOURCE_ID, SOURCE_NAME, EMISSIONS_QUANTITY, ISO3_COUNTRY, START_TIME, END_TIME, GAS])"
   ]
  },
  {
   "cell_type": "code",
   "execution_count": 16,
   "metadata": {},
   "outputs": [],
   "source": [
    "def _fil(fname, sname):\n",
    "    return fname == \"transportation.zip\" and sname == \"domestic-aviation_country_emissions.csv\"\n",
    "cedf = ct.data._load_csv(_fil,[EMISSIONS_QUANTITY, ISO3_COUNTRY, START_TIME, END_TIME, GAS])"
   ]
  },
  {
   "cell_type": "code",
   "execution_count": 17,
   "metadata": {},
   "outputs": [
    {
     "data": {
      "text/html": [
       "<div><style>\n",
       ".dataframe > thead > tr,\n",
       ".dataframe > tbody > tr {\n",
       "  text-align: right;\n",
       "  white-space: pre-wrap;\n",
       "}\n",
       "</style>\n",
       "<small>shape: (1, 7)</small><table border=\"1\" class=\"dataframe\"><thead><tr><th>emissions_quantity</th><th>iso3_country</th><th>start_time</th><th>end_time</th><th>gas</th><th>zip_name</th><th>file_name</th></tr><tr><td>str</td><td>str</td><td>str</td><td>str</td><td>str</td><td>str</td><td>str</td></tr></thead><tbody><tr><td>&quot;44.62328775845…</td><td>&quot;ARE&quot;</td><td>&quot;2022-01-01 00:…</td><td>&quot;2022-12-31 00:…</td><td>&quot;co2e_100yr&quot;</td><td>&quot;transportation…</td><td>&quot;domestic-aviat…</td></tr></tbody></table></div>"
      ],
      "text/plain": [
       "shape: (1, 7)\n",
       "┌──────────────┬──────────────┬─────────────┬─────────────┬────────────┬─────────────┬─────────────┐\n",
       "│ emissions_qu ┆ iso3_country ┆ start_time  ┆ end_time    ┆ gas        ┆ zip_name    ┆ file_name   │\n",
       "│ antity       ┆ ---          ┆ ---         ┆ ---         ┆ ---        ┆ ---         ┆ ---         │\n",
       "│ ---          ┆ str          ┆ str         ┆ str         ┆ str        ┆ str         ┆ str         │\n",
       "│ str          ┆              ┆             ┆             ┆            ┆             ┆             │\n",
       "╞══════════════╪══════════════╪═════════════╪═════════════╪════════════╪═════════════╪═════════════╡\n",
       "│ 44.623287758 ┆ ARE          ┆ 2022-01-01  ┆ 2022-12-31  ┆ co2e_100yr ┆ transportat ┆ domestic-av │\n",
       "│ 451276       ┆              ┆ 00:00:00    ┆ 00:00:00    ┆            ┆ ion         ┆ iation_coun │\n",
       "│              ┆              ┆             ┆             ┆            ┆             ┆ try_emissi… │\n",
       "└──────────────┴──────────────┴─────────────┴─────────────┴────────────┴─────────────┴─────────────┘"
      ]
     },
     "execution_count": 17,
     "metadata": {},
     "output_type": "execute_result"
    }
   ],
   "source": [
    "(cedf.filter(c_iso3_country == \"ARE\")\n",
    " .filter(c_start_time.str.starts_with(\"2022\"))\n",
    " .filter(c_gas == CO2E_100YR))"
   ]
  },
  {
   "cell_type": "code",
   "execution_count": 18,
   "metadata": {},
   "outputs": [
    {
     "data": {
      "text/html": [
       "<div><style>\n",
       ".dataframe > thead > tr,\n",
       ".dataframe > tbody > tr {\n",
       "  text-align: right;\n",
       "  white-space: pre-wrap;\n",
       "}\n",
       "</style>\n",
       "<small>shape: (1, 1)</small><table border=\"1\" class=\"dataframe\"><thead><tr><th>emissions_quantity</th></tr><tr><td>f32</td></tr></thead><tbody><tr><td>89.246567</td></tr></tbody></table></div>"
      ],
      "text/plain": [
       "shape: (1, 1)\n",
       "┌────────────────────┐\n",
       "│ emissions_quantity │\n",
       "│ ---                │\n",
       "│ f32                │\n",
       "╞════════════════════╡\n",
       "│ 89.246567          │\n",
       "└────────────────────┘"
      ]
     },
     "execution_count": 18,
     "metadata": {},
     "output_type": "execute_result"
    }
   ],
   "source": [
    "(sdf\n",
    " .filter(c_iso3_country == \"ARE\")\n",
    " .filter(c_start_time.str.starts_with(\"2022\"))\n",
    " .filter(c_gas == CO2E_100YR)\n",
    " .select(c_emissions_quantity.cast(pl.Float32).sum()))"
   ]
  },
  {
   "cell_type": "code",
   "execution_count": 19,
   "metadata": {},
   "outputs": [
    {
     "data": {
      "text/plain": [
       "1.999999809140016"
      ]
     },
     "execution_count": 19,
     "metadata": {},
     "output_type": "execute_result"
    }
   ],
   "source": [
    "89.246567 / 44.6232877584"
   ]
  },
  {
   "cell_type": "markdown",
   "metadata": {},
   "source": [
    "### Investigation: some sources confidences are present multiple times\n",
    "\n",
    "There seems to be a data quality issue with the source confidence: same source ID but multiple names.\n",
    "As a result, doing a left joint between sources and source confidences duplicates these for each confidence tabulation.\n",
    "\n",
    "Current workaround: take only the first confidence row for each source and each year.\n",
    "\n",
    "```{admonition} CTODO\n",
    "Investigate data issue\n",
    "```"
   ]
  },
  {
   "cell_type": "code",
   "execution_count": 20,
   "metadata": {},
   "outputs": [],
   "source": [
    "sdf = ct.data._load_csv(\n",
    "    lambda _, sname: sname.startswith(\"manure\") and sname.endswith(\"sources.csv\"),\n",
    "    [SOURCE_ID, SOURCE_NAME, EMISSIONS_QUANTITY, ISO3_COUNTRY, START_TIME, END_TIME, GAS])"
   ]
  },
  {
   "cell_type": "code",
   "execution_count": 21,
   "metadata": {},
   "outputs": [
    {
     "data": {
      "text/html": [
       "<div><style>\n",
       ".dataframe > thead > tr,\n",
       ".dataframe > tbody > tr {\n",
       "  text-align: right;\n",
       "  white-space: pre-wrap;\n",
       "}\n",
       "</style>\n",
       "<small>shape: (1, 9)</small><table border=\"1\" class=\"dataframe\"><thead><tr><th>source_id</th><th>source_name</th><th>emissions_quantity</th><th>iso3_country</th><th>start_time</th><th>end_time</th><th>gas</th><th>zip_name</th><th>file_name</th></tr><tr><td>str</td><td>str</td><td>str</td><td>str</td><td>str</td><td>str</td><td>str</td><td>str</td><td>str</td></tr></thead><tbody><tr><td>&quot;25743740&quot;</td><td>&quot;CHN_dairy_298&quot;</td><td>&quot;1225.6&quot;</td><td>&quot;CHN&quot;</td><td>&quot;2022-01-01 00:…</td><td>&quot;2022-12-31 00:…</td><td>&quot;co2e_100yr&quot;</td><td>&quot;agriculture&quot;</td><td>&quot;manure-managem…</td></tr></tbody></table></div>"
      ],
      "text/plain": [
       "shape: (1, 9)\n",
       "┌───────────┬───────────┬───────────┬───────────┬───┬───────────┬───────────┬───────────┬──────────┐\n",
       "│ source_id ┆ source_na ┆ emissions ┆ iso3_coun ┆ … ┆ end_time  ┆ gas       ┆ zip_name  ┆ file_nam │\n",
       "│ ---       ┆ me        ┆ _quantity ┆ try       ┆   ┆ ---       ┆ ---       ┆ ---       ┆ e        │\n",
       "│ str       ┆ ---       ┆ ---       ┆ ---       ┆   ┆ str       ┆ str       ┆ str       ┆ ---      │\n",
       "│           ┆ str       ┆ str       ┆ str       ┆   ┆           ┆           ┆           ┆ str      │\n",
       "╞═══════════╪═══════════╪═══════════╪═══════════╪═══╪═══════════╪═══════════╪═══════════╪══════════╡\n",
       "│ 25743740  ┆ CHN_dairy ┆ 1225.6    ┆ CHN       ┆ … ┆ 2022-12-3 ┆ co2e_100y ┆ agricultu ┆ manure-m │\n",
       "│           ┆ _298      ┆           ┆           ┆   ┆ 1         ┆ r         ┆ re        ┆ anagemen │\n",
       "│           ┆           ┆           ┆           ┆   ┆ 00:00:00  ┆           ┆           ┆ t-cattle │\n",
       "│           ┆           ┆           ┆           ┆   ┆           ┆           ┆           ┆ -feedlot │\n",
       "│           ┆           ┆           ┆           ┆   ┆           ┆           ┆           ┆ …        │\n",
       "└───────────┴───────────┴───────────┴───────────┴───┴───────────┴───────────┴───────────┴──────────┘"
      ]
     },
     "execution_count": 21,
     "metadata": {},
     "output_type": "execute_result"
    }
   ],
   "source": [
    "# 25743740\n",
    "(sdf\n",
    " .filter(c_source_id == \"25743740\")\n",
    " .filter(c_start_time.str.starts_with(\"2022\"))\n",
    " .filter(c_gas == CO2E_100YR) \n",
    ")"
   ]
  },
  {
   "cell_type": "code",
   "execution_count": 22,
   "metadata": {},
   "outputs": [],
   "source": [
    "conf_df = ct.data._load_csv(\n",
    "    lambda _, sname: sname.startswith(\"manure\") and sname.endswith(\"sources_confidence.csv\"))"
   ]
  },
  {
   "cell_type": "code",
   "execution_count": 23,
   "metadata": {},
   "outputs": [
    {
     "data": {
      "text/html": [
       "<div><style>\n",
       ".dataframe > thead > tr,\n",
       ".dataframe > tbody > tr {\n",
       "  text-align: right;\n",
       "  white-space: pre-wrap;\n",
       "}\n",
       "</style>\n",
       "<small>shape: (2_751, 22)</small><table border=\"1\" class=\"dataframe\"><thead><tr><th>source_id</th><th>source_name</th><th>iso3_country</th><th>original_inventory_sector</th><th>start_time</th><th>end_time</th><th>source_type</th><th>capacity</th><th>capacity_factor</th><th>activity</th><th>co2_emissions_factor</th><th>ch4_emissions_factor</th><th>n2o_emissions_factor</th><th>co2_emissions</th><th>ch4_emissions</th><th>n2o_emissions</th><th>total_co2e_20yrgwp</th><th>created_date</th><th>modified_date</th><th>total_co2e_100yrgwp</th><th>zip_name</th><th>file_name</th></tr><tr><td>str</td><td>str</td><td>str</td><td>str</td><td>str</td><td>str</td><td>str</td><td>str</td><td>str</td><td>str</td><td>str</td><td>str</td><td>str</td><td>str</td><td>str</td><td>str</td><td>str</td><td>str</td><td>str</td><td>str</td><td>str</td><td>str</td></tr></thead><tbody><tr><td>&quot;25743740&quot;</td><td>&quot;CHN_dairy_298&quot;</td><td>&quot;CHN&quot;</td><td>&quot;manure-managem…</td><td>&quot;2022-01-01 00:…</td><td>&quot;2022-12-31 00:…</td><td>&quot;high&quot;</td><td>&quot;very low&quot;</td><td>&quot;medium&quot;</td><td>&quot;high&quot;</td><td>null</td><td>&quot;medium&quot;</td><td>&quot;medium&quot;</td><td>null</td><td>&quot;medium&quot;</td><td>&quot;medium&quot;</td><td>&quot;medium&quot;</td><td>&quot;2023-09-06 00:…</td><td>null</td><td>&quot;medium&quot;</td><td>&quot;agriculture&quot;</td><td>&quot;manure-managem…</td></tr><tr><td>&quot;25743740&quot;</td><td>&quot;ZAF_beef_1&quot;</td><td>&quot;CHN&quot;</td><td>&quot;manure-managem…</td><td>&quot;2022-01-01 00:…</td><td>&quot;2022-12-31 00:…</td><td>&quot;high&quot;</td><td>&quot;very low&quot;</td><td>&quot;very low&quot;</td><td>&quot;high&quot;</td><td>null</td><td>&quot;medium&quot;</td><td>&quot;medium&quot;</td><td>null</td><td>&quot;medium&quot;</td><td>&quot;medium&quot;</td><td>&quot;medium&quot;</td><td>&quot;2023-09-06 00:…</td><td>null</td><td>&quot;medium&quot;</td><td>&quot;agriculture&quot;</td><td>&quot;manure-managem…</td></tr><tr><td>&quot;25743740&quot;</td><td>&quot;ZAF_beef_10&quot;</td><td>&quot;CHN&quot;</td><td>&quot;manure-managem…</td><td>&quot;2022-01-01 00:…</td><td>&quot;2022-12-31 00:…</td><td>&quot;medium&quot;</td><td>&quot;very low&quot;</td><td>&quot;very low&quot;</td><td>&quot;high&quot;</td><td>null</td><td>&quot;medium&quot;</td><td>&quot;medium&quot;</td><td>null</td><td>&quot;medium&quot;</td><td>&quot;medium&quot;</td><td>&quot;medium&quot;</td><td>&quot;2023-09-06 00:…</td><td>null</td><td>&quot;medium&quot;</td><td>&quot;agriculture&quot;</td><td>&quot;manure-managem…</td></tr><tr><td>&quot;25743740&quot;</td><td>&quot;ZAF_beef_100&quot;</td><td>&quot;CHN&quot;</td><td>&quot;manure-managem…</td><td>&quot;2022-01-01 00:…</td><td>&quot;2022-12-31 00:…</td><td>&quot;medium&quot;</td><td>&quot;very low&quot;</td><td>&quot;very low&quot;</td><td>&quot;high&quot;</td><td>null</td><td>&quot;medium&quot;</td><td>&quot;medium&quot;</td><td>null</td><td>&quot;medium&quot;</td><td>&quot;medium&quot;</td><td>&quot;medium&quot;</td><td>&quot;2023-09-06 00:…</td><td>null</td><td>&quot;medium&quot;</td><td>&quot;agriculture&quot;</td><td>&quot;manure-managem…</td></tr><tr><td>&quot;25743740&quot;</td><td>&quot;ZAF_beef_1000&quot;</td><td>&quot;CHN&quot;</td><td>&quot;manure-managem…</td><td>&quot;2022-01-01 00:…</td><td>&quot;2022-12-31 00:…</td><td>&quot;medium&quot;</td><td>&quot;very low&quot;</td><td>&quot;very low&quot;</td><td>&quot;high&quot;</td><td>null</td><td>&quot;medium&quot;</td><td>&quot;medium&quot;</td><td>null</td><td>&quot;medium&quot;</td><td>&quot;medium&quot;</td><td>&quot;medium&quot;</td><td>&quot;2023-09-06 00:…</td><td>null</td><td>&quot;medium&quot;</td><td>&quot;agriculture&quot;</td><td>&quot;manure-managem…</td></tr><tr><td>&hellip;</td><td>&hellip;</td><td>&hellip;</td><td>&hellip;</td><td>&hellip;</td><td>&hellip;</td><td>&hellip;</td><td>&hellip;</td><td>&hellip;</td><td>&hellip;</td><td>&hellip;</td><td>&hellip;</td><td>&hellip;</td><td>&hellip;</td><td>&hellip;</td><td>&hellip;</td><td>&hellip;</td><td>&hellip;</td><td>&hellip;</td><td>&hellip;</td><td>&hellip;</td><td>&hellip;</td></tr><tr><td>&quot;25743740&quot;</td><td>&quot;ZAF_dairy_95&quot;</td><td>&quot;CHN&quot;</td><td>&quot;manure-managem…</td><td>&quot;2022-01-01 00:…</td><td>&quot;2022-12-31 00:…</td><td>&quot;medium&quot;</td><td>&quot;very low&quot;</td><td>&quot;low&quot;</td><td>&quot;high&quot;</td><td>null</td><td>&quot;medium&quot;</td><td>&quot;medium&quot;</td><td>null</td><td>&quot;medium&quot;</td><td>&quot;medium&quot;</td><td>&quot;medium&quot;</td><td>&quot;2023-09-06 00:…</td><td>null</td><td>&quot;medium&quot;</td><td>&quot;agriculture&quot;</td><td>&quot;manure-managem…</td></tr><tr><td>&quot;25743740&quot;</td><td>&quot;ZAF_dairy_96&quot;</td><td>&quot;CHN&quot;</td><td>&quot;manure-managem…</td><td>&quot;2022-01-01 00:…</td><td>&quot;2022-12-31 00:…</td><td>&quot;medium&quot;</td><td>&quot;very low&quot;</td><td>&quot;low&quot;</td><td>&quot;high&quot;</td><td>null</td><td>&quot;medium&quot;</td><td>&quot;medium&quot;</td><td>null</td><td>&quot;medium&quot;</td><td>&quot;medium&quot;</td><td>&quot;medium&quot;</td><td>&quot;2023-09-06 00:…</td><td>null</td><td>&quot;medium&quot;</td><td>&quot;agriculture&quot;</td><td>&quot;manure-managem…</td></tr><tr><td>&quot;25743740&quot;</td><td>&quot;ZAF_dairy_97&quot;</td><td>&quot;CHN&quot;</td><td>&quot;manure-managem…</td><td>&quot;2022-01-01 00:…</td><td>&quot;2022-12-31 00:…</td><td>&quot;medium&quot;</td><td>&quot;very low&quot;</td><td>&quot;low&quot;</td><td>&quot;high&quot;</td><td>null</td><td>&quot;medium&quot;</td><td>&quot;medium&quot;</td><td>null</td><td>&quot;medium&quot;</td><td>&quot;medium&quot;</td><td>&quot;medium&quot;</td><td>&quot;2023-09-06 00:…</td><td>null</td><td>&quot;medium&quot;</td><td>&quot;agriculture&quot;</td><td>&quot;manure-managem…</td></tr><tr><td>&quot;25743740&quot;</td><td>&quot;ZAF_dairy_98&quot;</td><td>&quot;CHN&quot;</td><td>&quot;manure-managem…</td><td>&quot;2022-01-01 00:…</td><td>&quot;2022-12-31 00:…</td><td>&quot;medium&quot;</td><td>&quot;very low&quot;</td><td>&quot;low&quot;</td><td>&quot;high&quot;</td><td>null</td><td>&quot;medium&quot;</td><td>&quot;medium&quot;</td><td>null</td><td>&quot;medium&quot;</td><td>&quot;medium&quot;</td><td>&quot;medium&quot;</td><td>&quot;2023-09-06 00:…</td><td>null</td><td>&quot;medium&quot;</td><td>&quot;agriculture&quot;</td><td>&quot;manure-managem…</td></tr><tr><td>&quot;25743740&quot;</td><td>&quot;ZAF_dairy_99&quot;</td><td>&quot;CHN&quot;</td><td>&quot;manure-managem…</td><td>&quot;2022-01-01 00:…</td><td>&quot;2022-12-31 00:…</td><td>&quot;medium&quot;</td><td>&quot;very low&quot;</td><td>&quot;low&quot;</td><td>&quot;high&quot;</td><td>null</td><td>&quot;medium&quot;</td><td>&quot;medium&quot;</td><td>null</td><td>&quot;medium&quot;</td><td>&quot;medium&quot;</td><td>&quot;medium&quot;</td><td>&quot;2023-09-06 00:…</td><td>null</td><td>&quot;medium&quot;</td><td>&quot;agriculture&quot;</td><td>&quot;manure-managem…</td></tr></tbody></table></div>"
      ],
      "text/plain": [
       "shape: (2_751, 22)\n",
       "┌───────────┬───────────┬───────────┬───────────┬───┬───────────┬───────────┬───────────┬──────────┐\n",
       "│ source_id ┆ source_na ┆ iso3_coun ┆ original_ ┆ … ┆ modified_ ┆ total_co2 ┆ zip_name  ┆ file_nam │\n",
       "│ ---       ┆ me        ┆ try       ┆ inventory ┆   ┆ date      ┆ e_100yrgw ┆ ---       ┆ e        │\n",
       "│ str       ┆ ---       ┆ ---       ┆ _sector   ┆   ┆ ---       ┆ p         ┆ str       ┆ ---      │\n",
       "│           ┆ str       ┆ str       ┆ ---       ┆   ┆ str       ┆ ---       ┆           ┆ str      │\n",
       "│           ┆           ┆           ┆ str       ┆   ┆           ┆ str       ┆           ┆          │\n",
       "╞═══════════╪═══════════╪═══════════╪═══════════╪═══╪═══════════╪═══════════╪═══════════╪══════════╡\n",
       "│ 25743740  ┆ CHN_dairy ┆ CHN       ┆ manure-ma ┆ … ┆ null      ┆ medium    ┆ agricultu ┆ manure-m │\n",
       "│           ┆ _298      ┆           ┆ nagement- ┆   ┆           ┆           ┆ re        ┆ anagemen │\n",
       "│           ┆           ┆           ┆ cattle-fe ┆   ┆           ┆           ┆           ┆ t-cattle │\n",
       "│           ┆           ┆           ┆ edlot     ┆   ┆           ┆           ┆           ┆ -feedlot │\n",
       "│           ┆           ┆           ┆           ┆   ┆           ┆           ┆           ┆ …        │\n",
       "│ 25743740  ┆ ZAF_beef_ ┆ CHN       ┆ manure-ma ┆ … ┆ null      ┆ medium    ┆ agricultu ┆ manure-m │\n",
       "│           ┆ 1         ┆           ┆ nagement- ┆   ┆           ┆           ┆ re        ┆ anagemen │\n",
       "│           ┆           ┆           ┆ cattle-fe ┆   ┆           ┆           ┆           ┆ t-cattle │\n",
       "│           ┆           ┆           ┆ edlot     ┆   ┆           ┆           ┆           ┆ -feedlot │\n",
       "│           ┆           ┆           ┆           ┆   ┆           ┆           ┆           ┆ …        │\n",
       "│ 25743740  ┆ ZAF_beef_ ┆ CHN       ┆ manure-ma ┆ … ┆ null      ┆ medium    ┆ agricultu ┆ manure-m │\n",
       "│           ┆ 10        ┆           ┆ nagement- ┆   ┆           ┆           ┆ re        ┆ anagemen │\n",
       "│           ┆           ┆           ┆ cattle-fe ┆   ┆           ┆           ┆           ┆ t-cattle │\n",
       "│           ┆           ┆           ┆ edlot     ┆   ┆           ┆           ┆           ┆ -feedlot │\n",
       "│           ┆           ┆           ┆           ┆   ┆           ┆           ┆           ┆ …        │\n",
       "│ 25743740  ┆ ZAF_beef_ ┆ CHN       ┆ manure-ma ┆ … ┆ null      ┆ medium    ┆ agricultu ┆ manure-m │\n",
       "│           ┆ 100       ┆           ┆ nagement- ┆   ┆           ┆           ┆ re        ┆ anagemen │\n",
       "│           ┆           ┆           ┆ cattle-fe ┆   ┆           ┆           ┆           ┆ t-cattle │\n",
       "│           ┆           ┆           ┆ edlot     ┆   ┆           ┆           ┆           ┆ -feedlot │\n",
       "│           ┆           ┆           ┆           ┆   ┆           ┆           ┆           ┆ …        │\n",
       "│ 25743740  ┆ ZAF_beef_ ┆ CHN       ┆ manure-ma ┆ … ┆ null      ┆ medium    ┆ agricultu ┆ manure-m │\n",
       "│           ┆ 1000      ┆           ┆ nagement- ┆   ┆           ┆           ┆ re        ┆ anagemen │\n",
       "│           ┆           ┆           ┆ cattle-fe ┆   ┆           ┆           ┆           ┆ t-cattle │\n",
       "│           ┆           ┆           ┆ edlot     ┆   ┆           ┆           ┆           ┆ -feedlot │\n",
       "│           ┆           ┆           ┆           ┆   ┆           ┆           ┆           ┆ …        │\n",
       "│ …         ┆ …         ┆ …         ┆ …         ┆ … ┆ …         ┆ …         ┆ …         ┆ …        │\n",
       "│ 25743740  ┆ ZAF_dairy ┆ CHN       ┆ manure-ma ┆ … ┆ null      ┆ medium    ┆ agricultu ┆ manure-m │\n",
       "│           ┆ _95       ┆           ┆ nagement- ┆   ┆           ┆           ┆ re        ┆ anagemen │\n",
       "│           ┆           ┆           ┆ cattle-fe ┆   ┆           ┆           ┆           ┆ t-cattle │\n",
       "│           ┆           ┆           ┆ edlot     ┆   ┆           ┆           ┆           ┆ -feedlot │\n",
       "│           ┆           ┆           ┆           ┆   ┆           ┆           ┆           ┆ …        │\n",
       "│ 25743740  ┆ ZAF_dairy ┆ CHN       ┆ manure-ma ┆ … ┆ null      ┆ medium    ┆ agricultu ┆ manure-m │\n",
       "│           ┆ _96       ┆           ┆ nagement- ┆   ┆           ┆           ┆ re        ┆ anagemen │\n",
       "│           ┆           ┆           ┆ cattle-fe ┆   ┆           ┆           ┆           ┆ t-cattle │\n",
       "│           ┆           ┆           ┆ edlot     ┆   ┆           ┆           ┆           ┆ -feedlot │\n",
       "│           ┆           ┆           ┆           ┆   ┆           ┆           ┆           ┆ …        │\n",
       "│ 25743740  ┆ ZAF_dairy ┆ CHN       ┆ manure-ma ┆ … ┆ null      ┆ medium    ┆ agricultu ┆ manure-m │\n",
       "│           ┆ _97       ┆           ┆ nagement- ┆   ┆           ┆           ┆ re        ┆ anagemen │\n",
       "│           ┆           ┆           ┆ cattle-fe ┆   ┆           ┆           ┆           ┆ t-cattle │\n",
       "│           ┆           ┆           ┆ edlot     ┆   ┆           ┆           ┆           ┆ -feedlot │\n",
       "│           ┆           ┆           ┆           ┆   ┆           ┆           ┆           ┆ …        │\n",
       "│ 25743740  ┆ ZAF_dairy ┆ CHN       ┆ manure-ma ┆ … ┆ null      ┆ medium    ┆ agricultu ┆ manure-m │\n",
       "│           ┆ _98       ┆           ┆ nagement- ┆   ┆           ┆           ┆ re        ┆ anagemen │\n",
       "│           ┆           ┆           ┆ cattle-fe ┆   ┆           ┆           ┆           ┆ t-cattle │\n",
       "│           ┆           ┆           ┆ edlot     ┆   ┆           ┆           ┆           ┆ -feedlot │\n",
       "│           ┆           ┆           ┆           ┆   ┆           ┆           ┆           ┆ …        │\n",
       "│ 25743740  ┆ ZAF_dairy ┆ CHN       ┆ manure-ma ┆ … ┆ null      ┆ medium    ┆ agricultu ┆ manure-m │\n",
       "│           ┆ _99       ┆           ┆ nagement- ┆   ┆           ┆           ┆ re        ┆ anagemen │\n",
       "│           ┆           ┆           ┆ cattle-fe ┆   ┆           ┆           ┆           ┆ t-cattle │\n",
       "│           ┆           ┆           ┆ edlot     ┆   ┆           ┆           ┆           ┆ -feedlot │\n",
       "│           ┆           ┆           ┆           ┆   ┆           ┆           ┆           ┆ …        │\n",
       "└───────────┴───────────┴───────────┴───────────┴───┴───────────┴───────────┴───────────┴──────────┘"
      ]
     },
     "execution_count": 23,
     "metadata": {},
     "output_type": "execute_result"
    }
   ],
   "source": [
    "(conf_df\n",
    " .filter(c_source_id == \"25743740\")\n",
    " .filter(c_start_time.str.starts_with(\"2022\"))\n",
    ")"
   ]
  },
  {
   "cell_type": "code",
   "execution_count": null,
   "metadata": {},
   "outputs": [],
   "source": []
  }
 ],
 "metadata": {
  "kernelspec": {
   "display_name": "Python 3 (ipykernel)",
   "language": "python",
   "name": "python3"
  },
  "language_info": {
   "codemirror_mode": {
    "name": "ipython",
    "version": 3
   },
   "file_extension": ".py",
   "mimetype": "text/x-python",
   "name": "python",
   "nbconvert_exporter": "python",
   "pygments_lexer": "ipython3",
   "version": "3.10.12"
  },
  "widgets": {
   "application/vnd.jupyter.widget-state+json": {
    "state": {},
    "version_major": 2,
    "version_minor": 0
   }
  }
 },
 "nbformat": 4,
 "nbformat_minor": 4
}
