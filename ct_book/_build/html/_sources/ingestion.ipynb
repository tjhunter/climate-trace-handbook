{
 "cells": [
  {
   "cell_type": "markdown",
   "metadata": {},
   "source": [
    "# Data ingestion and formatting\n",
    "\n",
    "This notebook explains how to convert the Climate TRACE dataset to a format that is more appropriate for data science. \n",
    "\n",
    "```{note}\n",
    "This section is relevant for data engineers, or data scientists who want to understand how the data \n",
    "has been prepared. Skip if you just want to access the final, prepared data.\n",
    "```\n",
    "\n",
    "The original data from Climate TRACE is offered as a series of CSV files bundled in ZIP archives. That format is universally understood, but it is not the most effective for effective analysis with data science tools. In particular, it is large: the source data, uncompressed, is about 20GB. This is the size at which most people would consider this project to be \"big data\" or at least \"medium data\". With the proper choice of data storage, we will bring it down to a breezy \"small data\" without losing information along the way.\n",
    "\n",
    "Instead, we are going to use the Parquet format. This format has a number of advantages:\n",
    "- it is _column-based_ : data systems can process big chunks of data at once, rather than line by line. Also, depending on the information requested, systems will read only the relevant columns and skip the rest very effectively\n",
    "- it is _universal_ : most modern data systems will be able to read it\n",
    "- it is _structured_ : basic information about numbers, categories, ... are preserved. It \n",
    "\n",
    "\n",
    "Looking at the code, we are performing a few tricks:\n",
    "\n",
    "_Compacting the data_ We minimize the size of the files by taking advantage of its structures. In particular, we know in many cases that values are part of known enumerations (sectors, ...). We replace all these by `polars.Enumeration`s. Not only this makes files smaller, but it also allows data systems to make clever optimization for complex operations such as joining.\n",
    "\n",
    "_Lazy reading_ If we were to read all the source data using a traditional system such as Excel or Pandas, we would require a serious amount of memory. The files themselves are more than 5GB. Polars is capable of reading straight from the zip file in a streaming fashion. This is what Polars calls a Lazy dataframe, or LazyFrame. Even when doing complicated operations such as joining the source files with the confidence information, Polars only uses 3GB of memory on my machine. In fact, this way of working is so fast that the `ctrace` package directly reads all the country emissions data from the zip files in less than a second.\n",
    "\n",
    "_Using known enumerations_ You will see in the source code that nearly all the variables such as column names, names of gas and sectors, etc. are replaced CONSTANT_NAMES such as `CH4`,.... You can use that to autocomplete\n",
    "\n"
   ]
  },
  {
   "cell_type": "code",
   "execution_count": 1,
   "metadata": {},
   "outputs": [],
   "source": [
    "%load_ext autoreload\n",
    "%autoreload 2"
   ]
  },
  {
   "cell_type": "code",
   "execution_count": 2,
   "metadata": {},
   "outputs": [],
   "source": [
    "import logging\n",
    "logging.basicConfig(level=logging.INFO)"
   ]
  },
  {
   "cell_type": "code",
   "execution_count": 3,
   "metadata": {},
   "outputs": [],
   "source": [
    "import os\n",
    "import polars as pl\n",
    "from ctrace.constants import *\n",
    "import ctrace as ct\n",
    "import pyarrow\n",
    "from dds import data_function\n",
    "import shutil\n",
    "import dds\n",
    "import huggingface_hub\n",
    "logging.getLogger(\"dds\").setLevel(logging.WARNING)\n",
    "dds.accept_module(ct)"
   ]
  },
  {
   "cell_type": "markdown",
   "metadata": {},
   "source": [
    "## Creating optimized parquet files\n",
    "\n",
    "This first section creates files that are the most effective for reading and querying. The general approach is as follows:\n",
    "\n",
    "1. Join the source and source confidence CSV files and writes them as parquet files for each subsector\n",
    "2. Aggregate by year into a yearly parquet file\n",
    "3. Optimize this parquet file for reading\n",
    "\n",
    "This first command creates parquet files that join the source and source confidences for each subsector, and returns a list of all the created files.\n",
    "\n",
    "In this notebook, another trick is to define the transformations as _data functions_. In short, this code will only run if the source code changes. This makes rerunning the notebooks very fast, and only updating when something has changed in the source code."
   ]
  },
  {
   "cell_type": "code",
   "execution_count": 4,
   "metadata": {},
   "outputs": [
    {
     "data": {
      "text/plain": [
       "[PosixPath('/tmp/enteric-fermentation-cattle-feedlot_emissions-sources.parquet'),\n",
       " PosixPath('/tmp/manure-management-cattle-feedlot_emissions-sources.parquet'),\n",
       " PosixPath('/tmp/rice-cultivation_emissions-sources.parquet'),\n",
       " PosixPath('/tmp/synthetic-fertilizer-application_emissions-sources.parquet'),\n",
       " PosixPath('/tmp/enteric-fermentation-cattle-pasture_emissions-sources.parquet'),\n",
       " PosixPath('/tmp/cropland-fires_emissions-sources.parquet'),\n",
       " PosixPath('/tmp/manure-left-on-pasture-cattle_emissions-sources.parquet'),\n",
       " PosixPath('/tmp/water-reservoirs_emissions-sources.parquet'),\n",
       " PosixPath('/tmp/removals_emissions-sources.parquet'),\n",
       " PosixPath('/tmp/forest-land-fires_emissions-sources.parquet'),\n",
       " PosixPath('/tmp/forest-land-degradation_emissions-sources.parquet'),\n",
       " PosixPath('/tmp/forest-land-clearing_emissions-sources.parquet'),\n",
       " PosixPath('/tmp/net-wetland_emissions-sources.parquet'),\n",
       " PosixPath('/tmp/net-forest-land_emissions-sources.parquet'),\n",
       " PosixPath('/tmp/net-shrubgrass_emissions-sources.parquet'),\n",
       " PosixPath('/tmp/wetland-fires_emissions-sources.parquet'),\n",
       " PosixPath('/tmp/shrubgrass-fires_emissions-sources.parquet'),\n",
       " PosixPath('/tmp/oil-and-gas-refining_emissions-sources.parquet'),\n",
       " PosixPath('/tmp/oil-and-gas-production-and-transport_emissions-sources.parquet'),\n",
       " PosixPath('/tmp/coal-mining_emissions-sources.parquet'),\n",
       " PosixPath('/tmp/petrochemicals_emissions-sources.parquet'),\n",
       " PosixPath('/tmp/other-manufacturing_emissions-sources.parquet'),\n",
       " PosixPath('/tmp/pulp-and-paper_emissions-sources.parquet'),\n",
       " PosixPath('/tmp/aluminum_emissions-sources.parquet'),\n",
       " PosixPath('/tmp/chemicals_emissions-sources.parquet'),\n",
       " PosixPath('/tmp/steel_emissions-sources.parquet'),\n",
       " PosixPath('/tmp/cement_emissions-sources.parquet'),\n",
       " PosixPath('/tmp/bauxite-mining_emissions-sources.parquet'),\n",
       " PosixPath('/tmp/iron-mining_emissions-sources.parquet'),\n",
       " PosixPath('/tmp/copper-mining_emissions-sources.parquet'),\n",
       " PosixPath('/tmp/electricity-generation_emissions-sources.parquet'),\n",
       " PosixPath('/tmp/road-transportation_emissions-sources.parquet'),\n",
       " PosixPath('/tmp/domestic-aviation_emissions-sources.parquet'),\n",
       " PosixPath('/tmp/international-aviation_emissions-sources.parquet'),\n",
       " PosixPath('/tmp/international-shipping_emissions-sources.parquet'),\n",
       " PosixPath('/tmp/domestic-shipping_emissions-sources.parquet'),\n",
       " PosixPath('/tmp/solid-waste-disposal_emissions-sources.parquet'),\n",
       " PosixPath('/tmp/wastewater-treatment-and-discharge_emissions-sources.parquet')]"
      ]
     },
     "execution_count": 4,
     "metadata": {},
     "output_type": "execute_result"
    }
   ],
   "source": [
    "@data_function(\"/data_sources\")\n",
    "def load_sources():\n",
    "    (_, files) = ct.data.load_source_compact()\n",
    "    return files\n",
    "\n",
    "load_sources()"
   ]
  },
  {
   "cell_type": "markdown",
   "metadata": {},
   "source": [
    "Because the data is loaded lazily, this step takes only 300MB of memory on my machine. Not bad for producing 2GB of data!\n",
    "\n",
    "To help with the loading, the data is partitioned by year. This is the most relevant for most users: most people are expected to look at specific years and sectors (especially the latest year). This reduces the amount of data to load.\n",
    "\n",
    "Let us have a quick peek at the data in one of these files. It looks already pretty good: a lot of the redundant data such as the enumerations has been deduplicated. All the enumeration data is now converted to integers, this is what `dictionary<values=string, indices=int32, ordered=0>` means. It is not quite ready for high performance however."
   ]
  },
  {
   "cell_type": "code",
   "execution_count": 5,
   "metadata": {},
   "outputs": [
    {
     "name": "stdout",
     "output_type": "stream",
     "text": [
      "/tmp/enteric-fermentation-cattle-feedlot_emissions-sources.parquet\n"
     ]
    },
    {
     "data": {
      "text/plain": [
       "pyarrow.Table\n",
       "source_id: uint64\n",
       "iso3_country: dictionary<values=string, indices=int32, ordered=0>\n",
       "original_inventory_sector: dictionary<values=string, indices=int32, ordered=0>\n",
       "start_time: timestamp[us]\n",
       "end_time: timestamp[us]\n",
       "temporal_granularity: dictionary<values=string, indices=int32, ordered=0>\n",
       "gas: dictionary<values=string, indices=int32, ordered=0>\n",
       "emissions_quantity: double\n",
       "emissions_factor: double\n",
       "emissions_factor_units: large_string\n",
       "capacity: double\n",
       "capacity_units: large_string\n",
       "capacity_factor: double\n",
       "activity: double\n",
       "activity_units: large_string\n",
       "created_date: timestamp[us]\n",
       "modified_date: timestamp[us]\n",
       "source_name: large_string\n",
       "source_type: large_string\n",
       "lat: double\n",
       "lon: double\n",
       "other1: large_string\n",
       "other2: large_string\n",
       "other3: large_string\n",
       "other4: large_string\n",
       "other5: large_string\n",
       "other6: large_string\n",
       "other7: large_string\n",
       "other8: large_string\n",
       "other9: large_string\n",
       "other10: large_string\n",
       "other11: large_string\n",
       "other12: large_string\n",
       "other1_def: large_string\n",
       "other2_def: large_string\n",
       "other3_def: large_string\n",
       "other4_def: large_string\n",
       "other5_def: large_string\n",
       "other6_def: large_string\n",
       "other7_def: large_string\n",
       "other8_def: large_string\n",
       "other9_def: large_string\n",
       "other10_def: large_string\n",
       "other11_def: large_string\n",
       "other12_def: large_string\n",
       "geometry_ref: large_string\n",
       "conf_source_type: dictionary<values=string, indices=int32, ordered=0>\n",
       "conf_capacity: dictionary<values=string, indices=int32, ordered=0>\n",
       "conf_capacity_factor: dictionary<values=string, indices=int32, ordered=0>\n",
       "conf_activity: dictionary<values=string, indices=int32, ordered=0>\n",
       "conf_co2_emissions_factor: dictionary<values=string, indices=int32, ordered=0>\n",
       "conf_ch4_emissions_factor: dictionary<values=string, indices=int32, ordered=0>\n",
       "conf_n2o_emissions_factor: dictionary<values=string, indices=int32, ordered=0>\n",
       "conf_co2_emissions: dictionary<values=string, indices=int32, ordered=0>\n",
       "conf_ch4_emissions: dictionary<values=string, indices=int32, ordered=0>\n",
       "conf_n2o_emissions: dictionary<values=string, indices=int32, ordered=0>\n",
       "conf_total_co2e_20yrgwp: dictionary<values=string, indices=int32, ordered=0>\n",
       "conf_total_co2e_100yrgwp: dictionary<values=string, indices=int32, ordered=0>\n",
       "sector: dictionary<values=string, indices=int32, ordered=0>\n",
       "subsector: dictionary<values=string, indices=int32, ordered=0>\n",
       "----\n",
       "source_id: [[3154896,3154896,3154896,3154896,3154896,...,3160922,3160922,3160922,3160922,3160922],[3160922,3160922,3160922,3160922,3160922,...,25726709,25726709,25726709,25726709,25726709]]\n",
       "iso3_country: [  -- dictionary:\n",
       "[\"ABW\",\"AFG\",\"AGO\",\"AIA\",\"ALA\",...,\"ZMB\",\"ZWE\",\"ZNC\",\"UNK\",\"SCG\"]  -- indices:\n",
       "[43,43,43,43,43,...,234,234,234,234,234],  -- dictionary:\n",
       "[\"ABW\",\"AFG\",\"AGO\",\"AIA\",\"ALA\",...,\"ZMB\",\"ZWE\",\"ZNC\",\"UNK\",\"SCG\"]  -- indices:\n",
       "[234,234,234,234,234,...,247,247,247,247,247]]\n",
       "original_inventory_sector: [  -- dictionary:\n",
       "[\"aluminum\",\"bauxite-mining\",\"biological-treatment-of-solid-waste-and-biogenic\",\"cement\",\"chemicals\",...,\"steel\",\"synthetic-fertilizer-application\",\"wastewater-treatment-and-discharge\",\"water-reservoirs\",\"wetland-fires\"]  -- indices:\n",
       "[11,11,11,11,11,...,11,11,11,11,11],  -- dictionary:\n",
       "[\"aluminum\",\"bauxite-mining\",\"biological-treatment-of-solid-waste-and-biogenic\",\"cement\",\"chemicals\",...,\"steel\",\"synthetic-fertilizer-application\",\"wastewater-treatment-and-discharge\",\"water-reservoirs\",\"wetland-fires\"]  -- indices:\n",
       "[11,11,11,11,11,...,11,11,11,11,11]]\n",
       "start_time: [[2015-01-01 00:00:00.000000,2015-01-01 00:00:00.000000,2015-01-01 00:00:00.000000,2015-01-01 00:00:00.000000,2019-01-01 00:00:00.000000,...,2020-01-01 00:00:00.000000,2020-01-01 00:00:00.000000,2020-01-01 00:00:00.000000,2021-01-01 00:00:00.000000,2021-01-01 00:00:00.000000],[2021-01-01 00:00:00.000000,2021-01-01 00:00:00.000000,2021-01-01 00:00:00.000000,2022-01-01 00:00:00.000000,2022-01-01 00:00:00.000000,...,2015-01-01 00:00:00.000000,2022-01-01 00:00:00.000000,2022-01-01 00:00:00.000000,2021-01-01 00:00:00.000000,2021-01-01 00:00:00.000000]]\n",
       "end_time: [[2015-12-31 00:00:00.000000,2015-12-31 00:00:00.000000,2015-12-31 00:00:00.000000,2015-12-31 00:00:00.000000,2019-12-31 00:00:00.000000,...,2020-12-31 00:00:00.000000,2020-12-31 00:00:00.000000,2020-12-31 00:00:00.000000,2021-12-31 00:00:00.000000,2021-12-31 00:00:00.000000],[2021-12-31 00:00:00.000000,2021-12-31 00:00:00.000000,2021-12-31 00:00:00.000000,2022-12-31 00:00:00.000000,2022-12-31 00:00:00.000000,...,2015-12-31 00:00:00.000000,2022-12-31 00:00:00.000000,2022-12-31 00:00:00.000000,2021-12-31 00:00:00.000000,2021-12-31 00:00:00.000000]]\n",
       "temporal_granularity: [  -- dictionary:\n",
       "[\"annual\",\"other\",\"month\",\"week\",\"day\",\"hour\"]  -- indices:\n",
       "[0,0,0,0,0,...,0,0,0,0,0],  -- dictionary:\n",
       "[\"annual\",\"other\",\"month\",\"week\",\"day\",\"hour\"]  -- indices:\n",
       "[0,0,0,0,0,...,0,0,0,0,0]]\n",
       "gas: [  -- dictionary:\n",
       "[\"co2\",\"ch4\",\"n2o\",\"co2e_100yr\",\"co2e_20yr\"]  -- indices:\n",
       "[2,3,4,1,1,...,2,3,4,0,1],  -- dictionary:\n",
       "[\"co2\",\"ch4\",\"n2o\",\"co2e_100yr\",\"co2e_20yr\"]  -- indices:\n",
       "[2,3,4,0,1,...,0,2,3,4,3]]\n",
       "emissions_quantity: [[0,0,0,0,911.7,...,0,1493.6,4436.9,0,54.9],[0,1493.6,4436.9,0,54.9,...,null,0,1869.2,5552.5,1869.2]]\n",
       "emissions_factor: [[0,0,0,0,0.047,...,0,0,0,0,0.128],[0,0,0,0,0.128,...,null,0,0,0,0]]\n",
       "emissions_factor_units: [[\"T of N2O per animal head\",null,null,\"T of CH4 per animal head\",\"T of CH4 per animal head\",...,\"T of N2O per animal head\",null,null,\"T of CO2 per animal head\",\"T of CH4 per animal head\"],[\"T of N2O per animal head\",null,null,\"T of CO2 per animal head\",\"T of CH4 per animal head\",...,\"T of CO2 per animal head\",\"T of N2O per animal head\",null,null,null]]\n",
       "..."
      ]
     },
     "execution_count": 5,
     "metadata": {},
     "output_type": "execute_result"
    }
   ],
   "source": [
    "from pyarrow.parquet import read_table\n",
    "fname = load_sources()[0]\n",
    "print(fname)\n",
    "read_table(fname)"
   ]
  },
  {
   "cell_type": "markdown",
   "metadata": {},
   "source": [
    "## Aggregating by year and optimizing the output\n",
    "\n",
    "The following block takes all the sector files and aggregates them by year. This is based on the expectation that most users will work on the latest year, and that some users will want to look into the trends across the years.\n",
    "\n",
    "Since these files will be read many times (every time we want to do a graph), it pays off to optimize them. The Parquet format is designed for fast reads of the relevant data. We will do two main optimizations: optimal compression, optimizing the row groups and adding statistics.\n",
    "\n",
    "\n",
    "\n",
    "_Compression_ Parquet allows some data to be compressed by columns. The first intuition is that, looking at each column of data separately, there will be more patterns and thus more opportunities to compress the data. The second intuition is that, in data-intensive application, reading the data is the bottleneck. It is then faster to read smaller compressed data in memory and then decompress it (losing a bit of time in compute), rather than reading larger, uncompressed data. Modern compression algorithms such as ZStandard or LZ4 are designed to be very effective at using a processor. Using them is essentially a pure gain in terms of processing speed.\n",
    "\n",
    "\n",
    "```{admonition} CTODO\n",
    "The year of a data record is defined by its start time. This may be different than the convention used by Climate Trace. To check.\n",
    "```\n"
   ]
  },
  {
   "cell_type": "code",
   "execution_count": 6,
   "metadata": {},
   "outputs": [
    {
     "data": {
      "text/plain": [
       "[('/tmp/pre_climate_trace-sources_v2-2023-ct2_2015.parquet',\n",
       "  '/tmp/climate_trace-sources_v2-2023-ct2_2015.parquet'),\n",
       " ('/tmp/pre_climate_trace-sources_v2-2023-ct2_2016.parquet',\n",
       "  '/tmp/climate_trace-sources_v2-2023-ct2_2016.parquet'),\n",
       " ('/tmp/pre_climate_trace-sources_v2-2023-ct2_2017.parquet',\n",
       "  '/tmp/climate_trace-sources_v2-2023-ct2_2017.parquet'),\n",
       " ('/tmp/pre_climate_trace-sources_v2-2023-ct2_2018.parquet',\n",
       "  '/tmp/climate_trace-sources_v2-2023-ct2_2018.parquet'),\n",
       " ('/tmp/pre_climate_trace-sources_v2-2023-ct2_2019.parquet',\n",
       "  '/tmp/climate_trace-sources_v2-2023-ct2_2019.parquet'),\n",
       " ('/tmp/pre_climate_trace-sources_v2-2023-ct2_2020.parquet',\n",
       "  '/tmp/climate_trace-sources_v2-2023-ct2_2020.parquet'),\n",
       " ('/tmp/pre_climate_trace-sources_v2-2023-ct2_2021.parquet',\n",
       "  '/tmp/climate_trace-sources_v2-2023-ct2_2021.parquet'),\n",
       " ('/tmp/pre_climate_trace-sources_v2-2023-ct2_2022.parquet',\n",
       "  '/tmp/climate_trace-sources_v2-2023-ct2_2022.parquet')]"
      ]
     },
     "execution_count": 6,
     "metadata": {},
     "output_type": "execute_result"
    }
   ],
   "source": [
    "write_directory = \"/tmp\"\n",
    "years = ct.data.years\n",
    "version = ct.data.version\n",
    "\n",
    "@data_function(\"/write_data\")\n",
    "def write_data():\n",
    "    data_files = load_sources()\n",
    "    dfs = []\n",
    "    for tmp_name in data_files:\n",
    "        df = pl.scan_parquet(tmp_name)\n",
    "        df = df.pipe(ct.data.recast_parquet, conf=True)\n",
    "        dfs.append(df)\n",
    "    ldf = pl.concat(dfs)\n",
    "    fnames = []\n",
    "    for year in years:\n",
    "        fname1 = f\"{write_directory}/pre_climate_trace-sources_{version}_{year}.parquet\"\n",
    "        (\n",
    "            ldf.filter(c_start_time.dt.year() == int(year))\n",
    "               # Currently a bug in polars: ComputeError: buffer not aligned for mmap\n",
    "               # .sort(by=[GAS, SECTOR, SUBSECTOR, ISO3_COUNTRY, SOURCE_ID])\n",
    "               .sink_parquet(\n",
    "                fname1,\n",
    "                compression=\"zstd\",\n",
    "                maintain_order=True,\n",
    "                statistics=True,\n",
    "            )\n",
    "        )\n",
    "        fname = f\"{write_directory}/climate_trace-sources_{version}_{year}.parquet\"\n",
    "        ds = pyarrow.dataset.dataset(fname1)\n",
    "        pyarrow.dataset.write_dataset(\n",
    "            ds,\n",
    "            base_dir=\"/tmp\",\n",
    "            basename_template=\"ds_{i}.parquet\",\n",
    "            format=\"parquet\",\n",
    "            partitioning=None,\n",
    "            min_rows_per_group=100_000,\n",
    "            max_rows_per_group=300_000,\n",
    "        )\n",
    "        shutil.copyfile(\"/tmp/ds_0.parquet\", fname)\n",
    "        fnames.append((fname1, fname))\n",
    "    return fnames\n",
    "\n",
    "write_data()"
   ]
  },
  {
   "cell_type": "markdown",
   "metadata": {},
   "source": [
    "_Optimizing row groups_ A parquet file is a collection of groups of rows, and these rows are organized column-wise along with some statistics. We can choose how many groups to create: the minimum is one group (all the data into a single group), which is the most standard. This is not optimal however: reading can only be done by one processor core at a time. If we have more, they will sit idle. This is why it is better to choose the number of groups to be close to the expected number of processor cores (10-100). When reading, each core will process a different chunk of the file in parallel.\n",
    "\n",
    "Polars cannot do this yet, so the code below directly calls the `pyarrow` package to restructure the final file, calling the function `pyarrow.dataset.write_dataset`. \n",
    "\n",
    "Here is the parquet files produced directly by Polars. It is the result of joining datasets which themselves are the result of reading many files (each by subsector). It is very fragmented (see the `num_row_groups` statistics below).\n"
   ]
  },
  {
   "cell_type": "code",
   "execution_count": 7,
   "metadata": {},
   "outputs": [
    {
     "name": "stdout",
     "output_type": "stream",
     "text": [
      "/tmp/pre_climate_trace-sources_v2-2023-ct2_2015.parquet\n",
      "/tmp/climate_trace-sources_v2-2023-ct2_2015.parquet\n"
     ]
    },
    {
     "data": {
      "text/plain": [
       "<pyarrow._parquet.FileMetaData object at 0x7008f73bc180>\n",
       "  created_by: Polars\n",
       "  num_columns: 60\n",
       "  num_rows: 4408150\n",
       "  num_row_groups: 4392\n",
       "  format_version: 1.0\n",
       "  serialized_size: 20815822"
      ]
     },
     "execution_count": 7,
     "metadata": {},
     "output_type": "execute_result"
    }
   ],
   "source": [
    "(fname_pre, fname_post) = write_data()[0]\n",
    "print(fname_pre)\n",
    "print(fname_post)\n",
    "parquet_file = pyarrow.parquet.ParquetFile(fname_pre)\n",
    "# print(parquet_file.metadata.row_group(0).column(2).statistics)\n",
    "parquet_file.metadata"
   ]
  },
  {
   "cell_type": "markdown",
   "metadata": {},
   "source": [
    "The final file is more compact: only 58 row groups. It will be much faster to read (up to 50 times faster on my computer) because the readers do not need to gather information from each of the row groups."
   ]
  },
  {
   "cell_type": "code",
   "execution_count": 8,
   "metadata": {},
   "outputs": [
    {
     "data": {
      "text/plain": [
       "<pyarrow._parquet.FileMetaData object at 0x700822930400>\n",
       "  created_by: parquet-cpp-arrow version 15.0.2\n",
       "  num_columns: 60\n",
       "  num_rows: 4408150\n",
       "  num_row_groups: 44\n",
       "  format_version: 2.6\n",
       "  serialized_size: 247080"
      ]
     },
     "execution_count": 8,
     "metadata": {},
     "output_type": "execute_result"
    }
   ],
   "source": [
    "parquet_file = pyarrow.parquet.ParquetFile(fname_post)\n",
    "parquet_file.metadata"
   ]
  },
  {
   "cell_type": "markdown",
   "metadata": {},
   "source": [
    "_Statistics_ Each row group in a parquet file has statistics. These statistics contain for each columns basic information such as minimum, maximum, etc. as you can see below. During a query, a data system first reads these statistics to check what blocks of data it should read. \n",
    "\n",
    "For example, the first row group only contains agriculture data (which you can infer from `min: agriculture` and `max: agriculture`). As the result, if a query is looking for waste data, it can safely skip this full block. \n",
    "\n",
    "Grouping the rows and creating statistics can dramatically reduce the amount of data being read and processed. Finding the right number of groups is a tradeoff between using more cores to read the data in parallel, and not having to read too many statistics descriptions. In the extreme case of the file created by Polars (5000 row groups), the statistics make up 40% of the file and can take up to 90% of the processing time! If your parquet file reads slowly, it is probably due to its internal layout."
   ]
  },
  {
   "cell_type": "code",
   "execution_count": 9,
   "metadata": {},
   "outputs": [
    {
     "data": {
      "text/plain": [
       "<pyarrow._parquet.Statistics object at 0x70091bfc8f40>\n",
       "  has_min_max: True\n",
       "  min: agriculture\n",
       "  max: agriculture\n",
       "  null_count: 0\n",
       "  distinct_count: None\n",
       "  num_values: 100390\n",
       "  physical_type: BYTE_ARRAY\n",
       "  logical_type: String\n",
       "  converted_type (legacy): UTF8"
      ]
     },
     "execution_count": 9,
     "metadata": {},
     "output_type": "execute_result"
    }
   ],
   "source": [
    "parquet_file = pyarrow.parquet.ParquetFile(fname_post)\n",
    "parquet_file.metadata.row_group(0).column(58).statistics\n"
   ]
  },
  {
   "cell_type": "markdown",
   "metadata": {},
   "source": [
    "## Initial checks"
   ]
  },
  {
   "cell_type": "markdown",
   "metadata": {},
   "source": [
    "We know check that it works correctly. Let's load the newly created data instead of the default version stored on the internet, for the year 2022."
   ]
  },
  {
   "cell_type": "code",
   "execution_count": 10,
   "metadata": {},
   "outputs": [
    {
     "data": {
      "text/html": [
       "<h4>NAIVE QUERY PLAN</h4><p>run <b>LazyFrame.show_graph()</b> to see the optimized version</p><?xml version=\"1.0\" encoding=\"UTF-8\" standalone=\"no\"?>\n",
       "<!DOCTYPE svg PUBLIC \"-//W3C//DTD SVG 1.1//EN\"\n",
       " \"http://www.w3.org/Graphics/SVG/1.1/DTD/svg11.dtd\">\n",
       "<!-- Generated by graphviz version 2.43.0 (0)\n",
       " -->\n",
       "<!-- Title: polars_query Pages: 1 -->\n",
       "<svg width=\"8117pt\" height=\"205pt\"\n",
       " viewBox=\"0.00 0.00 8117.00 205.00\" xmlns=\"http://www.w3.org/2000/svg\" xmlns:xlink=\"http://www.w3.org/1999/xlink\">\n",
       "<g id=\"graph0\" class=\"graph\" transform=\"scale(1 1) rotate(0) translate(4 201)\">\n",
       "<title>polars_query</title>\n",
       "<polygon fill=\"white\" stroke=\"transparent\" points=\"-4,4 -4,-201 8113,-201 8113,4 -4,4\"/>\n",
       "<!-- p1 -->\n",
       "<g id=\"node1\" class=\"node\">\n",
       "<title>p1</title>\n",
       "<polygon fill=\"none\" stroke=\"black\" points=\"8109,-197 0,-197 0,-161 8109,-161 8109,-197\"/>\n",
       "<text text-anchor=\"middle\" x=\"4054.5\" y=\"-175.3\" font-family=\"Times,serif\" font-size=\"14.00\">WITH COLUMNS [col(&quot;conf_source_type&quot;).cast(Enum(Some(local), Physical)).alias(&quot;conf_source_type&quot;), col(&quot;conf_capacity&quot;).cast(Enum(Some(local), Physical)).alias(&quot;conf_capacity&quot;), col(&quot;conf_capacity_factor&quot;).cast(Enum(Some(local), Physical)).alias(&quot;conf_capacity_factor&quot;), col(&quot;conf_activity&quot;).cast(Enum(Some(local), Physical)).alias(&quot;conf_activity&quot;), col(&quot;conf_co2_emissions_factor&quot;).cast(Enum(Some(local), Physical)).alias(&quot;conf_co2_emissions_factor&quot;), col(&quot;conf_ch4_emissions_factor&quot;).cast(Enum(Some(local), Physical)).alias(&quot;conf_ch4_emissions_factor&quot;), col(&quot;conf_n2o_emissions_factor&quot;).cast(Enum(Some(local), Physical)).alias(&quot;conf_n2o_emissions_factor&quot;), col(&quot;conf_co2_emissions&quot;).cast(Enum(Some(local), Physical)).alias(&quot;conf_co2_emissions&quot;), col(&quot;conf_ch4_emissions&quot;).cast(Enum(Some(local), Physical)).alias(&quot;conf_ch4_emissions&quot;), col(&quot;conf_n2o_emissions&quot;).cast(Enum(Some(local), Physical)).alias(&quot;conf_n2o_emissions&quot;), col(&quot;conf_total_co2e_20yrgwp&quot;).cast(Enum(Some(local), Physical)).alias(&quot;conf_total_co2e_20yrgwp&quot;), col(&quot;conf_total_co2e_100yrgwp&quot;).cast(Enum(Some(local), Physical)).alias(&quot;conf_total_co2e_100yrgwp&quot;)]</text>\n",
       "</g>\n",
       "<!-- p2 -->\n",
       "<g id=\"node2\" class=\"node\">\n",
       "<title>p2</title>\n",
       "<polygon fill=\"none\" stroke=\"black\" points=\"5890.5,-125 2218.5,-125 2218.5,-89 5890.5,-89 5890.5,-125\"/>\n",
       "<text text-anchor=\"middle\" x=\"4054.5\" y=\"-103.3\" font-family=\"Times,serif\" font-size=\"14.00\">WITH COLUMNS [col(&quot;iso3_country&quot;).strict_cast(Enum(Some(local), Physical)).alias(&quot;iso3_country&quot;), col(&quot;gas&quot;).cast(Enum(Some(local), Physical)).alias(&quot;gas&quot;), col(&quot;original_inventory_sector&quot;).strict_cast(Enum(Some(local), Physical)).alias(&quot;original_inventory_sector&quot;), col(&quot;temporal_granularity&quot;).strict_cast(Enum(Some(local), Physical)).alias(&quot;temporal_granularity&quot;), col(&quot;subsector&quot;).strict_cast(Enum(Some(local), Physical)).alias(&quot;subsector&quot;), col(&quot;sector&quot;).strict_cast(Enum(Some(local), Physical)).alias(&quot;sector&quot;)]</text>\n",
       "</g>\n",
       "<!-- p1&#45;&#45;p2 -->\n",
       "<g id=\"edge1\" class=\"edge\">\n",
       "<title>p1&#45;&#45;p2</title>\n",
       "<path fill=\"none\" stroke=\"black\" d=\"M4054.5,-160.7C4054.5,-149.85 4054.5,-135.92 4054.5,-125.1\"/>\n",
       "</g>\n",
       "<!-- p3 -->\n",
       "<g id=\"node3\" class=\"node\">\n",
       "<title>p3</title>\n",
       "<polygon fill=\"none\" stroke=\"black\" points=\"4310.5,-53 3798.5,-53 3798.5,0 4310.5,0 4310.5,-53\"/>\n",
       "<text text-anchor=\"middle\" x=\"4054.5\" y=\"-37.8\" font-family=\"Times,serif\" font-size=\"14.00\">Parquet SCAN /tmp/climate_trace&#45;sources_v2&#45;2023&#45;ct2_2022.parquet</text>\n",
       "<text text-anchor=\"middle\" x=\"4054.5\" y=\"-22.8\" font-family=\"Times,serif\" font-size=\"14.00\">π */60;</text>\n",
       "<text text-anchor=\"middle\" x=\"4054.5\" y=\"-7.8\" font-family=\"Times,serif\" font-size=\"14.00\">σ None</text>\n",
       "</g>\n",
       "<!-- p2&#45;&#45;p3 -->\n",
       "<g id=\"edge2\" class=\"edge\">\n",
       "<title>p2&#45;&#45;p3</title>\n",
       "<path fill=\"none\" stroke=\"black\" d=\"M4054.5,-88.97C4054.5,-78.51 4054.5,-64.9 4054.5,-53.16\"/>\n",
       "</g>\n",
       "</g>\n",
       "</svg>\n"
      ],
      "text/plain": [
       "<LazyFrame at 0x7008229653D0>"
      ]
     },
     "execution_count": 10,
     "metadata": {},
     "output_type": "execute_result"
    }
   ],
   "source": [
    "sdf = ct.read_source_emissions(year=2022, p=\"/tmp\")\n",
    "sdf"
   ]
  },
  {
   "cell_type": "markdown",
   "metadata": {},
   "source": [
    "About 6M records for this year. This is spread across multiple gas and also multiple trips in the case of boats or airplanes."
   ]
  },
  {
   "cell_type": "code",
   "execution_count": 11,
   "metadata": {},
   "outputs": [
    {
     "data": {
      "text/html": [
       "<div><style>\n",
       ".dataframe > thead > tr,\n",
       ".dataframe > tbody > tr {\n",
       "  text-align: right;\n",
       "  white-space: pre-wrap;\n",
       "}\n",
       "</style>\n",
       "<small>shape: (1, 1)</small><table border=\"1\" class=\"dataframe\"><thead><tr><th>len</th></tr><tr><td>u32</td></tr></thead><tbody><tr><td>5798595</td></tr></tbody></table></div>"
      ],
      "text/plain": [
       "shape: (1, 1)\n",
       "┌─────────┐\n",
       "│ len     │\n",
       "│ ---     │\n",
       "│ u32     │\n",
       "╞═════════╡\n",
       "│ 5798595 │\n",
       "└─────────┘"
      ]
     },
     "execution_count": 11,
     "metadata": {},
     "output_type": "execute_result"
    }
   ],
   "source": [
    "sdf.select(pl.len()).collect()"
   ]
  },
  {
   "cell_type": "markdown",
   "metadata": {},
   "source": [
    "Check the number of distinct source IDs"
   ]
  },
  {
   "cell_type": "code",
   "execution_count": 12,
   "metadata": {},
   "outputs": [],
   "source": [
    "by_sec = (sdf\n",
    ".group_by(SOURCE_ID, SECTOR)\n",
    ".agg(pl.len())\n",
    ".collect())"
   ]
  },
  {
   "cell_type": "markdown",
   "metadata": {},
   "source": [
    "The number of sources outside FLU:\n",
    "\n",
    "```{admonition} CTODO\n",
    "This number does not match the official number on the Climate Trace website (395075 for 2022). Investigate.\n",
    "```"
   ]
  },
  {
   "cell_type": "code",
   "execution_count": 13,
   "metadata": {},
   "outputs": [
    {
     "data": {
      "text/html": [
       "<div><style>\n",
       ".dataframe > thead > tr,\n",
       ".dataframe > tbody > tr {\n",
       "  text-align: right;\n",
       "  white-space: pre-wrap;\n",
       "}\n",
       "</style>\n",
       "<small>shape: (1, 1)</small><table border=\"1\" class=\"dataframe\"><thead><tr><th>len</th></tr><tr><td>u32</td></tr></thead><tbody><tr><td>324649</td></tr></tbody></table></div>"
      ],
      "text/plain": [
       "shape: (1, 1)\n",
       "┌────────┐\n",
       "│ len    │\n",
       "│ ---    │\n",
       "│ u32    │\n",
       "╞════════╡\n",
       "│ 324649 │\n",
       "└────────┘"
      ]
     },
     "execution_count": 13,
     "metadata": {},
     "output_type": "execute_result"
    }
   ],
   "source": [
    "by_sec.filter(c_sector != FORESTRY_AND_LAND_USE).select(pl.len())"
   ]
  },
  {
   "cell_type": "markdown",
   "metadata": {},
   "source": [
    "Check: no source is associated with multiple sectors."
   ]
  },
  {
   "cell_type": "code",
   "execution_count": 14,
   "metadata": {},
   "outputs": [
    {
     "data": {
      "text/html": [
       "<div><style>\n",
       ".dataframe > thead > tr,\n",
       ".dataframe > tbody > tr {\n",
       "  text-align: right;\n",
       "  white-space: pre-wrap;\n",
       "}\n",
       "</style>\n",
       "<small>shape: (0, 2)</small><table border=\"1\" class=\"dataframe\"><thead><tr><th>source_id</th><th>sector</th></tr><tr><td>u64</td><td>u32</td></tr></thead><tbody></tbody></table></div>"
      ],
      "text/plain": [
       "shape: (0, 2)\n",
       "┌───────────┬────────┐\n",
       "│ source_id ┆ sector │\n",
       "│ ---       ┆ ---    │\n",
       "│ u64       ┆ u32    │\n",
       "╞═══════════╪════════╡\n",
       "└───────────┴────────┘"
      ]
     },
     "execution_count": 14,
     "metadata": {},
     "output_type": "execute_result"
    }
   ],
   "source": [
    "by_sec.group_by(SOURCE_ID).agg(c_sector.n_unique()).filter(pl.col(SECTOR) > 1)"
   ]
  },
  {
   "cell_type": "markdown",
   "metadata": {},
   "source": [
    "Check: no annual source should be duplicated by gas.\n",
    "\n",
    "```{admonition} CTODO\n",
    "Some sources seem duplicate?\n",
    "```"
   ]
  },
  {
   "cell_type": "code",
   "execution_count": 15,
   "metadata": {},
   "outputs": [
    {
     "data": {
      "text/html": [
       "<div><style>\n",
       ".dataframe > thead > tr,\n",
       ".dataframe > tbody > tr {\n",
       "  text-align: right;\n",
       "  white-space: pre-wrap;\n",
       "}\n",
       "</style>\n",
       "<small>shape: (90, 3)</small><table border=\"1\" class=\"dataframe\"><thead><tr><th>source_id</th><th>gas</th><th>len</th></tr><tr><td>u64</td><td>enum</td><td>u32</td></tr></thead><tbody><tr><td>13167068</td><td>&quot;co2e_20yr&quot;</td><td>2</td></tr><tr><td>13173204</td><td>&quot;co2e_100yr&quot;</td><td>2</td></tr><tr><td>13177703</td><td>&quot;co2e_100yr&quot;</td><td>2</td></tr><tr><td>13167070</td><td>&quot;co2e_20yr&quot;</td><td>2</td></tr><tr><td>13174845</td><td>&quot;co2&quot;</td><td>2</td></tr><tr><td>&hellip;</td><td>&hellip;</td><td>&hellip;</td></tr><tr><td>13168862</td><td>&quot;co2e_100yr&quot;</td><td>6</td></tr><tr><td>13168862</td><td>&quot;n2o&quot;</td><td>6</td></tr><tr><td>13168862</td><td>&quot;co2&quot;</td><td>6</td></tr><tr><td>13168862</td><td>&quot;co2e_20yr&quot;</td><td>6</td></tr><tr><td>13168862</td><td>&quot;ch4&quot;</td><td>6</td></tr></tbody></table></div>"
      ],
      "text/plain": [
       "shape: (90, 3)\n",
       "┌───────────┬────────────┬─────┐\n",
       "│ source_id ┆ gas        ┆ len │\n",
       "│ ---       ┆ ---        ┆ --- │\n",
       "│ u64       ┆ enum       ┆ u32 │\n",
       "╞═══════════╪════════════╪═════╡\n",
       "│ 13167068  ┆ co2e_20yr  ┆ 2   │\n",
       "│ 13173204  ┆ co2e_100yr ┆ 2   │\n",
       "│ 13177703  ┆ co2e_100yr ┆ 2   │\n",
       "│ 13167070  ┆ co2e_20yr  ┆ 2   │\n",
       "│ 13174845  ┆ co2        ┆ 2   │\n",
       "│ …         ┆ …          ┆ …   │\n",
       "│ 13168862  ┆ co2e_100yr ┆ 6   │\n",
       "│ 13168862  ┆ n2o        ┆ 6   │\n",
       "│ 13168862  ┆ co2        ┆ 6   │\n",
       "│ 13168862  ┆ co2e_20yr  ┆ 6   │\n",
       "│ 13168862  ┆ ch4        ┆ 6   │\n",
       "└───────────┴────────────┴─────┘"
      ]
     },
     "execution_count": 15,
     "metadata": {},
     "output_type": "execute_result"
    }
   ],
   "source": [
    "(sdf\n",
    ".filter(c_temporal_granularity ==\"annual\")\n",
    ".group_by(SOURCE_ID, GAS)\n",
    ".agg(pl.len())\n",
    ".filter(pl.col(\"len\") > 1)\n",
    ".sort(by=\"len\")\n",
    ".collect())"
   ]
  },
  {
   "cell_type": "code",
   "execution_count": 16,
   "metadata": {},
   "outputs": [
    {
     "data": {
      "text/html": [
       "<div><style>\n",
       ".dataframe > thead > tr,\n",
       ".dataframe > tbody > tr {\n",
       "  text-align: right;\n",
       "  white-space: pre-wrap;\n",
       "}\n",
       "</style>\n",
       "<small>shape: (6, 60)</small><table border=\"1\" class=\"dataframe\"><thead><tr><th>source_id</th><th>iso3_country</th><th>original_inventory_sector</th><th>start_time</th><th>end_time</th><th>temporal_granularity</th><th>gas</th><th>emissions_quantity</th><th>emissions_factor</th><th>emissions_factor_units</th><th>capacity</th><th>capacity_units</th><th>capacity_factor</th><th>activity</th><th>activity_units</th><th>created_date</th><th>modified_date</th><th>source_name</th><th>source_type</th><th>lat</th><th>lon</th><th>other1</th><th>other2</th><th>other3</th><th>other4</th><th>other5</th><th>other6</th><th>other7</th><th>other8</th><th>other9</th><th>other10</th><th>other11</th><th>other12</th><th>other1_def</th><th>other2_def</th><th>other3_def</th><th>other4_def</th><th>other5_def</th><th>other6_def</th><th>other7_def</th><th>other8_def</th><th>other9_def</th><th>other10_def</th><th>other11_def</th><th>other12_def</th><th>geometry_ref</th><th>conf_source_type</th><th>conf_capacity</th><th>conf_capacity_factor</th><th>conf_activity</th><th>conf_co2_emissions_factor</th><th>conf_ch4_emissions_factor</th><th>conf_n2o_emissions_factor</th><th>conf_co2_emissions</th><th>conf_ch4_emissions</th><th>conf_n2o_emissions</th><th>conf_total_co2e_20yrgwp</th><th>conf_total_co2e_100yrgwp</th><th>sector</th><th>subsector</th></tr><tr><td>u64</td><td>enum</td><td>enum</td><td>datetime[μs]</td><td>datetime[μs]</td><td>enum</td><td>enum</td><td>f64</td><td>f64</td><td>str</td><td>f64</td><td>str</td><td>f64</td><td>f64</td><td>str</td><td>datetime[μs]</td><td>datetime[μs]</td><td>str</td><td>str</td><td>f64</td><td>f64</td><td>str</td><td>str</td><td>str</td><td>str</td><td>str</td><td>str</td><td>str</td><td>str</td><td>str</td><td>str</td><td>str</td><td>str</td><td>str</td><td>str</td><td>str</td><td>str</td><td>str</td><td>str</td><td>str</td><td>str</td><td>str</td><td>str</td><td>str</td><td>str</td><td>str</td><td>enum</td><td>enum</td><td>enum</td><td>enum</td><td>enum</td><td>enum</td><td>enum</td><td>enum</td><td>enum</td><td>enum</td><td>enum</td><td>enum</td><td>enum</td><td>enum</td></tr></thead><tbody><tr><td>13168862</td><td>&quot;SGP&quot;</td><td>&quot;international-shipping&quot;</td><td>2022-01-24 00:00:05</td><td>2023-01-28 04:05:20</td><td>&quot;annual&quot;</td><td>&quot;co2&quot;</td><td>887242.035664</td><td>384.71971</td><td>&quot;average kg of CO2 per NM trave…</td><td>2270.0</td><td>&quot;voyages&quot;</td><td>null</td><td>2.3604e6</td><td>&quot;nautical miles (NM)&quot;</td><td>2022-01-24 00:00:00</td><td>2023-10-27 16:00:00</td><td>&quot;Singapore&quot;</td><td>null</td><td>1.3221</td><td>103.8281</td><td>&quot;Singaporean Exclusive Economic…</td><td>null</td><td>null</td><td>null</td><td>null</td><td>null</td><td>null</td><td>null</td><td>null</td><td>null</td><td>null</td><td>null</td><td>&quot;economic_zone&quot;</td><td>null</td><td>null</td><td>null</td><td>null</td><td>null</td><td>null</td><td>null</td><td>null</td><td>null</td><td>null</td><td>null</td><td>&quot;trace_103.8281_1.3221&quot;</td><td>null</td><td>null</td><td>null</td><td>null</td><td>null</td><td>null</td><td>null</td><td>null</td><td>null</td><td>null</td><td>null</td><td>null</td><td>&quot;transportation&quot;</td><td>&quot;international-shipping&quot;</td></tr><tr><td>13168862</td><td>&quot;SGP&quot;</td><td>&quot;international-shipping&quot;</td><td>2022-03-07 00:00:12</td><td>2023-08-17 05:28:10</td><td>&quot;annual&quot;</td><td>&quot;co2&quot;</td><td>777996.059535</td><td>382.425599</td><td>&quot;average kg of CO2 per NM trave…</td><td>2143.0</td><td>&quot;voyages&quot;</td><td>null</td><td>2.1804e6</td><td>&quot;nautical miles (NM)&quot;</td><td>2022-03-07 00:00:00</td><td>2023-10-27 16:00:00</td><td>&quot;Singapore&quot;</td><td>null</td><td>1.3221</td><td>103.8281</td><td>&quot;Singaporean Exclusive Economic…</td><td>null</td><td>null</td><td>null</td><td>null</td><td>null</td><td>null</td><td>null</td><td>null</td><td>null</td><td>null</td><td>null</td><td>&quot;economic_zone&quot;</td><td>null</td><td>null</td><td>null</td><td>null</td><td>null</td><td>null</td><td>null</td><td>null</td><td>null</td><td>null</td><td>null</td><td>&quot;trace_103.8281_1.3221&quot;</td><td>null</td><td>null</td><td>null</td><td>null</td><td>null</td><td>null</td><td>null</td><td>null</td><td>null</td><td>null</td><td>null</td><td>null</td><td>&quot;transportation&quot;</td><td>&quot;international-shipping&quot;</td></tr><tr><td>13168862</td><td>&quot;SGP&quot;</td><td>&quot;international-shipping&quot;</td><td>2022-02-21 00:07:40</td><td>2023-06-09 17:30:53</td><td>&quot;annual&quot;</td><td>&quot;co2&quot;</td><td>705932.371351</td><td>378.080732</td><td>&quot;average kg of CO2 per NM trave…</td><td>2083.0</td><td>&quot;voyages&quot;</td><td>null</td><td>2.0456e6</td><td>&quot;nautical miles (NM)&quot;</td><td>2022-02-21 00:00:00</td><td>2023-10-27 16:00:00</td><td>&quot;Singapore&quot;</td><td>null</td><td>1.3221</td><td>103.8281</td><td>&quot;Singaporean Exclusive Economic…</td><td>null</td><td>null</td><td>null</td><td>null</td><td>null</td><td>null</td><td>null</td><td>null</td><td>null</td><td>null</td><td>null</td><td>&quot;economic_zone&quot;</td><td>null</td><td>null</td><td>null</td><td>null</td><td>null</td><td>null</td><td>null</td><td>null</td><td>null</td><td>null</td><td>null</td><td>&quot;trace_103.8281_1.3221&quot;</td><td>null</td><td>null</td><td>null</td><td>null</td><td>null</td><td>null</td><td>null</td><td>null</td><td>null</td><td>null</td><td>null</td><td>null</td><td>&quot;transportation&quot;</td><td>&quot;international-shipping&quot;</td></tr><tr><td>13168862</td><td>&quot;SGP&quot;</td><td>&quot;international-shipping&quot;</td><td>2022-05-23 00:00:07</td><td>2023-08-21 08:19:06</td><td>&quot;annual&quot;</td><td>&quot;co2&quot;</td><td>866005.903</td><td>385.374134</td><td>&quot;average kg of CO2 per NM trave…</td><td>2338.0</td><td>&quot;voyages&quot;</td><td>null</td><td>2.4547e6</td><td>&quot;nautical miles (NM)&quot;</td><td>2022-05-23 00:00:00</td><td>2023-10-27 16:00:00</td><td>&quot;Singapore&quot;</td><td>null</td><td>1.3221</td><td>103.8281</td><td>&quot;Singaporean Exclusive Economic…</td><td>null</td><td>null</td><td>null</td><td>null</td><td>null</td><td>null</td><td>null</td><td>null</td><td>null</td><td>null</td><td>null</td><td>&quot;economic_zone&quot;</td><td>null</td><td>null</td><td>null</td><td>null</td><td>null</td><td>null</td><td>null</td><td>null</td><td>null</td><td>null</td><td>null</td><td>&quot;trace_103.8281_1.3221&quot;</td><td>null</td><td>null</td><td>null</td><td>null</td><td>null</td><td>null</td><td>null</td><td>null</td><td>null</td><td>null</td><td>null</td><td>null</td><td>&quot;transportation&quot;</td><td>&quot;international-shipping&quot;</td></tr><tr><td>13168862</td><td>&quot;SGP&quot;</td><td>&quot;international-shipping&quot;</td><td>2022-05-09 00:00:10</td><td>2023-06-13 04:06:34</td><td>&quot;annual&quot;</td><td>&quot;co2&quot;</td><td>835881.630293</td><td>382.002172</td><td>&quot;average kg of CO2 per NM trave…</td><td>2255.0</td><td>&quot;voyages&quot;</td><td>null</td><td>2.3769e6</td><td>&quot;nautical miles (NM)&quot;</td><td>2022-05-09 00:00:00</td><td>2023-10-27 16:00:00</td><td>&quot;Singapore&quot;</td><td>null</td><td>1.3221</td><td>103.8281</td><td>&quot;Singaporean Exclusive Economic…</td><td>null</td><td>null</td><td>null</td><td>null</td><td>null</td><td>null</td><td>null</td><td>null</td><td>null</td><td>null</td><td>null</td><td>&quot;economic_zone&quot;</td><td>null</td><td>null</td><td>null</td><td>null</td><td>null</td><td>null</td><td>null</td><td>null</td><td>null</td><td>null</td><td>null</td><td>&quot;trace_103.8281_1.3221&quot;</td><td>null</td><td>null</td><td>null</td><td>null</td><td>null</td><td>null</td><td>null</td><td>null</td><td>null</td><td>null</td><td>null</td><td>null</td><td>&quot;transportation&quot;</td><td>&quot;international-shipping&quot;</td></tr><tr><td>13168862</td><td>&quot;SGP&quot;</td><td>&quot;international-shipping&quot;</td><td>2022-03-14 00:03:45</td><td>2023-07-05 16:50:59</td><td>&quot;annual&quot;</td><td>&quot;co2&quot;</td><td>724527.140616</td><td>381.217951</td><td>&quot;average kg of CO2 per NM trave…</td><td>2095.0</td><td>&quot;voyages&quot;</td><td>null</td><td>2.0766e6</td><td>&quot;nautical miles (NM)&quot;</td><td>2022-03-14 00:00:00</td><td>2023-10-27 16:00:00</td><td>&quot;Singapore&quot;</td><td>null</td><td>1.3221</td><td>103.8281</td><td>&quot;Singaporean Exclusive Economic…</td><td>null</td><td>null</td><td>null</td><td>null</td><td>null</td><td>null</td><td>null</td><td>null</td><td>null</td><td>null</td><td>null</td><td>&quot;economic_zone&quot;</td><td>null</td><td>null</td><td>null</td><td>null</td><td>null</td><td>null</td><td>null</td><td>null</td><td>null</td><td>null</td><td>null</td><td>&quot;trace_103.8281_1.3221&quot;</td><td>null</td><td>null</td><td>null</td><td>null</td><td>null</td><td>null</td><td>null</td><td>null</td><td>null</td><td>null</td><td>null</td><td>null</td><td>&quot;transportation&quot;</td><td>&quot;international-shipping&quot;</td></tr></tbody></table></div>"
      ],
      "text/plain": [
       "shape: (6, 60)\n",
       "┌───────────┬───────────┬───────────┬───────────┬───┬───────────┬───────────┬───────────┬──────────┐\n",
       "│ source_id ┆ iso3_coun ┆ original_ ┆ start_tim ┆ … ┆ conf_tota ┆ conf_tota ┆ sector    ┆ subsecto │\n",
       "│ ---       ┆ try       ┆ inventory ┆ e         ┆   ┆ l_co2e_20 ┆ l_co2e_10 ┆ ---       ┆ r        │\n",
       "│ u64       ┆ ---       ┆ _sector   ┆ ---       ┆   ┆ yrgwp     ┆ 0yrgwp    ┆ enum      ┆ ---      │\n",
       "│           ┆ enum      ┆ ---       ┆ datetime[ ┆   ┆ ---       ┆ ---       ┆           ┆ enum     │\n",
       "│           ┆           ┆ enum      ┆ μs]       ┆   ┆ enum      ┆ enum      ┆           ┆          │\n",
       "╞═══════════╪═══════════╪═══════════╪═══════════╪═══╪═══════════╪═══════════╪═══════════╪══════════╡\n",
       "│ 13168862  ┆ SGP       ┆ internati ┆ 2022-01-2 ┆ … ┆ null      ┆ null      ┆ transport ┆ internat │\n",
       "│           ┆           ┆ onal-ship ┆ 4         ┆   ┆           ┆           ┆ ation     ┆ ional-sh │\n",
       "│           ┆           ┆ ping      ┆ 00:00:05  ┆   ┆           ┆           ┆           ┆ ipping   │\n",
       "│ 13168862  ┆ SGP       ┆ internati ┆ 2022-03-0 ┆ … ┆ null      ┆ null      ┆ transport ┆ internat │\n",
       "│           ┆           ┆ onal-ship ┆ 7         ┆   ┆           ┆           ┆ ation     ┆ ional-sh │\n",
       "│           ┆           ┆ ping      ┆ 00:00:12  ┆   ┆           ┆           ┆           ┆ ipping   │\n",
       "│ 13168862  ┆ SGP       ┆ internati ┆ 2022-02-2 ┆ … ┆ null      ┆ null      ┆ transport ┆ internat │\n",
       "│           ┆           ┆ onal-ship ┆ 1         ┆   ┆           ┆           ┆ ation     ┆ ional-sh │\n",
       "│           ┆           ┆ ping      ┆ 00:07:40  ┆   ┆           ┆           ┆           ┆ ipping   │\n",
       "│ 13168862  ┆ SGP       ┆ internati ┆ 2022-05-2 ┆ … ┆ null      ┆ null      ┆ transport ┆ internat │\n",
       "│           ┆           ┆ onal-ship ┆ 3         ┆   ┆           ┆           ┆ ation     ┆ ional-sh │\n",
       "│           ┆           ┆ ping      ┆ 00:00:07  ┆   ┆           ┆           ┆           ┆ ipping   │\n",
       "│ 13168862  ┆ SGP       ┆ internati ┆ 2022-05-0 ┆ … ┆ null      ┆ null      ┆ transport ┆ internat │\n",
       "│           ┆           ┆ onal-ship ┆ 9         ┆   ┆           ┆           ┆ ation     ┆ ional-sh │\n",
       "│           ┆           ┆ ping      ┆ 00:00:10  ┆   ┆           ┆           ┆           ┆ ipping   │\n",
       "│ 13168862  ┆ SGP       ┆ internati ┆ 2022-03-1 ┆ … ┆ null      ┆ null      ┆ transport ┆ internat │\n",
       "│           ┆           ┆ onal-ship ┆ 4         ┆   ┆           ┆           ┆ ation     ┆ ional-sh │\n",
       "│           ┆           ┆ ping      ┆ 00:03:45  ┆   ┆           ┆           ┆           ┆ ipping   │\n",
       "└───────────┴───────────┴───────────┴───────────┴───┴───────────┴───────────┴───────────┴──────────┘"
      ]
     },
     "execution_count": 16,
     "metadata": {},
     "output_type": "execute_result"
    }
   ],
   "source": [
    "# Drilling into the record that is duplicate. It seems to be mixing multiple temporal granularities.\n",
    "# Unsure how to handle this then\n",
    "(sdf\n",
    ".filter(c_source_id == 13168862)\n",
    ".filter(c_temporal_granularity ==\"annual\")\n",
    ".filter(c_gas == CO2)\n",
    ".head(20)\n",
    ".collect()\n",
    ")"
   ]
  },
  {
   "cell_type": "code",
   "execution_count": 17,
   "metadata": {},
   "outputs": [
    {
     "data": {
      "text/html": [
       "<div><style>\n",
       ".dataframe > thead > tr,\n",
       ".dataframe > tbody > tr {\n",
       "  text-align: right;\n",
       "  white-space: pre-wrap;\n",
       "}\n",
       "</style>\n",
       "<small>shape: (110, 3)</small><table border=\"1\" class=\"dataframe\"><thead><tr><th>source_id</th><th>gas</th><th>len</th></tr><tr><td>u64</td><td>enum</td><td>u32</td></tr></thead><tbody><tr><td>13168267</td><td>&quot;n2o&quot;</td><td>14</td></tr><tr><td>13167042</td><td>&quot;ch4&quot;</td><td>17</td></tr><tr><td>13169242</td><td>&quot;n2o&quot;</td><td>13</td></tr><tr><td>13166715</td><td>&quot;n2o&quot;</td><td>15</td></tr><tr><td>13167042</td><td>&quot;n2o&quot;</td><td>17</td></tr><tr><td>&hellip;</td><td>&hellip;</td><td>&hellip;</td></tr><tr><td>13169134</td><td>&quot;ch4&quot;</td><td>13</td></tr><tr><td>13168386</td><td>&quot;co2&quot;</td><td>16</td></tr><tr><td>13168272</td><td>&quot;co2&quot;</td><td>13</td></tr><tr><td>13168272</td><td>&quot;co2e_100yr&quot;</td><td>13</td></tr><tr><td>13168627</td><td>&quot;co2e_100yr&quot;</td><td>15</td></tr></tbody></table></div>"
      ],
      "text/plain": [
       "shape: (110, 3)\n",
       "┌───────────┬────────────┬─────┐\n",
       "│ source_id ┆ gas        ┆ len │\n",
       "│ ---       ┆ ---        ┆ --- │\n",
       "│ u64       ┆ enum       ┆ u32 │\n",
       "╞═══════════╪════════════╪═════╡\n",
       "│ 13168267  ┆ n2o        ┆ 14  │\n",
       "│ 13167042  ┆ ch4        ┆ 17  │\n",
       "│ 13169242  ┆ n2o        ┆ 13  │\n",
       "│ 13166715  ┆ n2o        ┆ 15  │\n",
       "│ 13167042  ┆ n2o        ┆ 17  │\n",
       "│ …         ┆ …          ┆ …   │\n",
       "│ 13169134  ┆ ch4        ┆ 13  │\n",
       "│ 13168386  ┆ co2        ┆ 16  │\n",
       "│ 13168272  ┆ co2        ┆ 13  │\n",
       "│ 13168272  ┆ co2e_100yr ┆ 13  │\n",
       "│ 13168627  ┆ co2e_100yr ┆ 15  │\n",
       "└───────────┴────────────┴─────┘"
      ]
     },
     "execution_count": 17,
     "metadata": {},
     "output_type": "execute_result"
    }
   ],
   "source": [
    "(sdf\n",
    ".filter(c_temporal_granularity ==\"month\")\n",
    ".group_by(SOURCE_ID, GAS)\n",
    ".agg(pl.len())\n",
    ".filter(pl.col(\"len\") > 12)\n",
    ".collect())"
   ]
  },
  {
   "cell_type": "markdown",
   "metadata": {},
   "source": [
    "Check: emissions should always be defined\n",
    "\n",
    "```{admonition} CTODO\n",
    "\n",
    "Some source emissions have null values, it should be zero or excluded.\n",
    "```"
   ]
  },
  {
   "cell_type": "code",
   "execution_count": 18,
   "metadata": {},
   "outputs": [
    {
     "data": {
      "text/html": [
       "<div><style>\n",
       ".dataframe > thead > tr,\n",
       ".dataframe > tbody > tr {\n",
       "  text-align: right;\n",
       "  white-space: pre-wrap;\n",
       "}\n",
       "</style>\n",
       "<small>shape: (38, 3)</small><table border=\"1\" class=\"dataframe\"><thead><tr><th>subsector</th><th>true</th><th>false</th></tr><tr><td>enum</td><td>u32</td><td>u32</td></tr></thead><tbody><tr><td>&quot;bauxite-mining&quot;</td><td>644</td><td>231</td></tr><tr><td>&quot;international-shipping&quot;</td><td>279914</td><td>419871</td></tr><tr><td>&quot;domestic-aviation&quot;</td><td>9230</td><td>39830</td></tr><tr><td>&quot;electricity-generation&quot;</td><td>16268</td><td>24402</td></tr><tr><td>&quot;road-transportation&quot;</td><td>null</td><td>84610</td></tr><tr><td>&hellip;</td><td>&hellip;</td><td>&hellip;</td></tr><tr><td>&quot;iron-mining&quot;</td><td>2008</td><td>672</td></tr><tr><td>&quot;steel&quot;</td><td>21840</td><td>32760</td></tr><tr><td>&quot;wastewater-treatment-and-disch…</td><td>null</td><td>267330</td></tr><tr><td>&quot;cropland-fires&quot;</td><td>null</td><td>239700</td></tr><tr><td>&quot;other-manufacturing&quot;</td><td>null</td><td>10575</td></tr></tbody></table></div>"
      ],
      "text/plain": [
       "shape: (38, 3)\n",
       "┌─────────────────────────────────┬────────┬────────┐\n",
       "│ subsector                       ┆ true   ┆ false  │\n",
       "│ ---                             ┆ ---    ┆ ---    │\n",
       "│ enum                            ┆ u32    ┆ u32    │\n",
       "╞═════════════════════════════════╪════════╪════════╡\n",
       "│ bauxite-mining                  ┆ 644    ┆ 231    │\n",
       "│ international-shipping          ┆ 279914 ┆ 419871 │\n",
       "│ domestic-aviation               ┆ 9230   ┆ 39830  │\n",
       "│ electricity-generation          ┆ 16268  ┆ 24402  │\n",
       "│ road-transportation             ┆ null   ┆ 84610  │\n",
       "│ …                               ┆ …      ┆ …      │\n",
       "│ iron-mining                     ┆ 2008   ┆ 672    │\n",
       "│ steel                           ┆ 21840  ┆ 32760  │\n",
       "│ wastewater-treatment-and-disch… ┆ null   ┆ 267330 │\n",
       "│ cropland-fires                  ┆ null   ┆ 239700 │\n",
       "│ other-manufacturing             ┆ null   ┆ 10575  │\n",
       "└─────────────────────────────────┴────────┴────────┘"
      ]
     },
     "execution_count": 18,
     "metadata": {},
     "output_type": "execute_result"
    }
   ],
   "source": [
    "sdf = ct.read_source_emissions(2022, \"/tmp\")\n",
    "(sdf\n",
    " .select(c_emissions_quantity.is_null().alias(\"null_emissions\"), c_subsector, c_iso3_country)\n",
    " .group_by(c_subsector, \"null_emissions\")\n",
    " .agg(pl.len())\n",
    " .collect()\n",
    " .pivot(index=SUBSECTOR, columns=\"null_emissions\", values=\"len\")\n",
    ")"
   ]
  },
  {
   "cell_type": "markdown",
   "metadata": {},
   "source": [
    "### Investigation: for 2022, some source emissions are multiple (2x or 3x) the country emissions for the same country\n",
    "\n",
    "Here is an example for domestic aviation in ARE, for CO2/CO2e\n",
    "\n",
    "This investigation directly looks at the CSV files, it is not a bug in the preprocessing."
   ]
  },
  {
   "cell_type": "code",
   "execution_count": 19,
   "metadata": {},
   "outputs": [
    {
     "name": "stderr",
     "output_type": "stream",
     "text": [
      "/home/tjhunter/work/climate-trace-handbook/src/ctrace/data.py:184: UserWarning: Polars found a filename. Ensure you pass a path to the file instead of a python file object when possible for best performance.\n",
      "  df = pl.read_csv(zf.open(sname), infer_schema_length=0)\n"
     ]
    }
   ],
   "source": [
    "sdf = ct.data._load_csv(\n",
    "    lambda fname, sname: fname == \"transportation.zip\" and sname == \"domestic-aviation_emissions-sources.csv\",\n",
    "    [SOURCE_ID, SOURCE_NAME, EMISSIONS_QUANTITY, ISO3_COUNTRY, START_TIME, END_TIME, GAS])"
   ]
  },
  {
   "cell_type": "code",
   "execution_count": 20,
   "metadata": {},
   "outputs": [],
   "source": [
    "cedf = ct.data._load_csv(\n",
    "    lambda fname, sname: fname == \"transportation.zip\" and sname == \"domestic-aviation_country_emissions.csv\",\n",
    "    [EMISSIONS_QUANTITY, ISO3_COUNTRY, START_TIME, END_TIME, GAS])"
   ]
  },
  {
   "cell_type": "code",
   "execution_count": 21,
   "metadata": {},
   "outputs": [
    {
     "data": {
      "text/html": [
       "<div><style>\n",
       ".dataframe > thead > tr,\n",
       ".dataframe > tbody > tr {\n",
       "  text-align: right;\n",
       "  white-space: pre-wrap;\n",
       "}\n",
       "</style>\n",
       "<small>shape: (1, 7)</small><table border=\"1\" class=\"dataframe\"><thead><tr><th>emissions_quantity</th><th>iso3_country</th><th>start_time</th><th>end_time</th><th>gas</th><th>zip_name</th><th>file_name</th></tr><tr><td>str</td><td>str</td><td>str</td><td>str</td><td>str</td><td>str</td><td>str</td></tr></thead><tbody><tr><td>&quot;44.623287758451276&quot;</td><td>&quot;ARE&quot;</td><td>&quot;2022-01-01 00:00:00&quot;</td><td>&quot;2022-12-31 00:00:00&quot;</td><td>&quot;co2e_100yr&quot;</td><td>&quot;transportation&quot;</td><td>&quot;domestic-aviation_country_emis…</td></tr></tbody></table></div>"
      ],
      "text/plain": [
       "shape: (1, 7)\n",
       "┌──────────────┬──────────────┬─────────────┬─────────────┬────────────┬─────────────┬─────────────┐\n",
       "│ emissions_qu ┆ iso3_country ┆ start_time  ┆ end_time    ┆ gas        ┆ zip_name    ┆ file_name   │\n",
       "│ antity       ┆ ---          ┆ ---         ┆ ---         ┆ ---        ┆ ---         ┆ ---         │\n",
       "│ ---          ┆ str          ┆ str         ┆ str         ┆ str        ┆ str         ┆ str         │\n",
       "│ str          ┆              ┆             ┆             ┆            ┆             ┆             │\n",
       "╞══════════════╪══════════════╪═════════════╪═════════════╪════════════╪═════════════╪═════════════╡\n",
       "│ 44.623287758 ┆ ARE          ┆ 2022-01-01  ┆ 2022-12-31  ┆ co2e_100yr ┆ transportat ┆ domestic-av │\n",
       "│ 451276       ┆              ┆ 00:00:00    ┆ 00:00:00    ┆            ┆ ion         ┆ iation_coun │\n",
       "│              ┆              ┆             ┆             ┆            ┆             ┆ try_emis…   │\n",
       "└──────────────┴──────────────┴─────────────┴─────────────┴────────────┴─────────────┴─────────────┘"
      ]
     },
     "execution_count": 21,
     "metadata": {},
     "output_type": "execute_result"
    }
   ],
   "source": [
    "(cedf.filter(c_iso3_country == \"ARE\")\n",
    " .filter(c_start_time.str.starts_with(\"2022\"))\n",
    " .filter(c_gas == CO2E_100YR))"
   ]
  },
  {
   "cell_type": "code",
   "execution_count": 22,
   "metadata": {},
   "outputs": [
    {
     "data": {
      "text/html": [
       "<div><style>\n",
       ".dataframe > thead > tr,\n",
       ".dataframe > tbody > tr {\n",
       "  text-align: right;\n",
       "  white-space: pre-wrap;\n",
       "}\n",
       "</style>\n",
       "<small>shape: (1, 1)</small><table border=\"1\" class=\"dataframe\"><thead><tr><th>emissions_quantity</th></tr><tr><td>f32</td></tr></thead><tbody><tr><td>89.246567</td></tr></tbody></table></div>"
      ],
      "text/plain": [
       "shape: (1, 1)\n",
       "┌────────────────────┐\n",
       "│ emissions_quantity │\n",
       "│ ---                │\n",
       "│ f32                │\n",
       "╞════════════════════╡\n",
       "│ 89.246567          │\n",
       "└────────────────────┘"
      ]
     },
     "execution_count": 22,
     "metadata": {},
     "output_type": "execute_result"
    }
   ],
   "source": [
    "(sdf\n",
    " .filter(c_iso3_country == \"ARE\")\n",
    " .filter(c_start_time.str.starts_with(\"2022\"))\n",
    " .filter(c_gas == CO2E_100YR)\n",
    " .select(c_emissions_quantity.cast(pl.Float32).sum()))"
   ]
  },
  {
   "cell_type": "code",
   "execution_count": 23,
   "metadata": {},
   "outputs": [
    {
     "data": {
      "text/plain": [
       "1.999999809140016"
      ]
     },
     "execution_count": 23,
     "metadata": {},
     "output_type": "execute_result"
    }
   ],
   "source": [
    "89.246567 / 44.6232877584"
   ]
  },
  {
   "cell_type": "markdown",
   "metadata": {},
   "source": [
    "### Investigation: some sources confidences are present multiple times\n",
    "\n",
    "There seems to be a data quality issue with the source confidence: same source ID but multiple names.\n",
    "As a result, doing a left joint between sources and source confidences duplicates these for each confidence tabulation.\n",
    "\n",
    "Current workaround: take only the first confidence row for each source and each year.\n",
    "\n",
    "```{admonition} CTODO\n",
    "Investigate data issue\n",
    "```"
   ]
  },
  {
   "cell_type": "code",
   "execution_count": 24,
   "metadata": {},
   "outputs": [],
   "source": [
    "sdf = ct.data._load_csv(\n",
    "    lambda _, sname: sname.startswith(\"manure\") and sname.endswith(\"sources.csv\"),\n",
    "    [SOURCE_ID, SOURCE_NAME, EMISSIONS_QUANTITY, ISO3_COUNTRY, START_TIME, END_TIME, GAS])"
   ]
  },
  {
   "cell_type": "code",
   "execution_count": 25,
   "metadata": {},
   "outputs": [
    {
     "data": {
      "text/html": [
       "<div><style>\n",
       ".dataframe > thead > tr,\n",
       ".dataframe > tbody > tr {\n",
       "  text-align: right;\n",
       "  white-space: pre-wrap;\n",
       "}\n",
       "</style>\n",
       "<small>shape: (1, 9)</small><table border=\"1\" class=\"dataframe\"><thead><tr><th>source_id</th><th>source_name</th><th>emissions_quantity</th><th>iso3_country</th><th>start_time</th><th>end_time</th><th>gas</th><th>zip_name</th><th>file_name</th></tr><tr><td>str</td><td>str</td><td>str</td><td>str</td><td>str</td><td>str</td><td>str</td><td>str</td><td>str</td></tr></thead><tbody><tr><td>&quot;25743740&quot;</td><td>&quot;CHN_dairy_298&quot;</td><td>&quot;1225.6&quot;</td><td>&quot;CHN&quot;</td><td>&quot;2022-01-01 00:00:00&quot;</td><td>&quot;2022-12-31 00:00:00&quot;</td><td>&quot;co2e_100yr&quot;</td><td>&quot;agriculture&quot;</td><td>&quot;manure-management-cattle-feedl…</td></tr></tbody></table></div>"
      ],
      "text/plain": [
       "shape: (1, 9)\n",
       "┌───────────┬───────────┬───────────┬───────────┬───┬───────────┬───────────┬───────────┬──────────┐\n",
       "│ source_id ┆ source_na ┆ emissions ┆ iso3_coun ┆ … ┆ end_time  ┆ gas       ┆ zip_name  ┆ file_nam │\n",
       "│ ---       ┆ me        ┆ _quantity ┆ try       ┆   ┆ ---       ┆ ---       ┆ ---       ┆ e        │\n",
       "│ str       ┆ ---       ┆ ---       ┆ ---       ┆   ┆ str       ┆ str       ┆ str       ┆ ---      │\n",
       "│           ┆ str       ┆ str       ┆ str       ┆   ┆           ┆           ┆           ┆ str      │\n",
       "╞═══════════╪═══════════╪═══════════╪═══════════╪═══╪═══════════╪═══════════╪═══════════╪══════════╡\n",
       "│ 25743740  ┆ CHN_dairy ┆ 1225.6    ┆ CHN       ┆ … ┆ 2022-12-3 ┆ co2e_100y ┆ agricultu ┆ manure-m │\n",
       "│           ┆ _298      ┆           ┆           ┆   ┆ 1         ┆ r         ┆ re        ┆ anagemen │\n",
       "│           ┆           ┆           ┆           ┆   ┆ 00:00:00  ┆           ┆           ┆ t-cattle │\n",
       "│           ┆           ┆           ┆           ┆   ┆           ┆           ┆           ┆ -feedl…  │\n",
       "└───────────┴───────────┴───────────┴───────────┴───┴───────────┴───────────┴───────────┴──────────┘"
      ]
     },
     "execution_count": 25,
     "metadata": {},
     "output_type": "execute_result"
    }
   ],
   "source": [
    "# 25743740\n",
    "(sdf\n",
    " .filter(c_source_id == \"25743740\")\n",
    " .filter(c_start_time.str.starts_with(\"2022\"))\n",
    " .filter(c_gas == CO2E_100YR) \n",
    ")"
   ]
  },
  {
   "cell_type": "code",
   "execution_count": 26,
   "metadata": {},
   "outputs": [],
   "source": [
    "conf_df = ct.data._load_csv(\n",
    "    lambda _, sname: sname.startswith(\"manure\") and sname.endswith(\"sources_confidence.csv\"))"
   ]
  },
  {
   "cell_type": "code",
   "execution_count": 27,
   "metadata": {},
   "outputs": [
    {
     "data": {
      "text/html": [
       "<div><style>\n",
       ".dataframe > thead > tr,\n",
       ".dataframe > tbody > tr {\n",
       "  text-align: right;\n",
       "  white-space: pre-wrap;\n",
       "}\n",
       "</style>\n",
       "<small>shape: (2_751, 22)</small><table border=\"1\" class=\"dataframe\"><thead><tr><th>source_id</th><th>source_name</th><th>iso3_country</th><th>original_inventory_sector</th><th>start_time</th><th>end_time</th><th>source_type</th><th>capacity</th><th>capacity_factor</th><th>activity</th><th>co2_emissions_factor</th><th>ch4_emissions_factor</th><th>n2o_emissions_factor</th><th>co2_emissions</th><th>ch4_emissions</th><th>n2o_emissions</th><th>total_co2e_20yrgwp</th><th>created_date</th><th>modified_date</th><th>total_co2e_100yrgwp</th><th>zip_name</th><th>file_name</th></tr><tr><td>str</td><td>str</td><td>str</td><td>str</td><td>str</td><td>str</td><td>str</td><td>str</td><td>str</td><td>str</td><td>str</td><td>str</td><td>str</td><td>str</td><td>str</td><td>str</td><td>str</td><td>str</td><td>str</td><td>str</td><td>str</td><td>str</td></tr></thead><tbody><tr><td>&quot;25743740&quot;</td><td>&quot;CHN_dairy_298&quot;</td><td>&quot;CHN&quot;</td><td>&quot;manure-management-cattle-feedl…</td><td>&quot;2022-01-01 00:00:00&quot;</td><td>&quot;2022-12-31 00:00:00&quot;</td><td>&quot;high&quot;</td><td>&quot;very low&quot;</td><td>&quot;medium&quot;</td><td>&quot;high&quot;</td><td>null</td><td>&quot;medium&quot;</td><td>&quot;medium&quot;</td><td>null</td><td>&quot;medium&quot;</td><td>&quot;medium&quot;</td><td>&quot;medium&quot;</td><td>&quot;2023-09-06 00:00:00&quot;</td><td>null</td><td>&quot;medium&quot;</td><td>&quot;agriculture&quot;</td><td>&quot;manure-management-cattle-feedl…</td></tr><tr><td>&quot;25743740&quot;</td><td>&quot;ZAF_beef_1&quot;</td><td>&quot;CHN&quot;</td><td>&quot;manure-management-cattle-feedl…</td><td>&quot;2022-01-01 00:00:00&quot;</td><td>&quot;2022-12-31 00:00:00&quot;</td><td>&quot;high&quot;</td><td>&quot;very low&quot;</td><td>&quot;very low&quot;</td><td>&quot;high&quot;</td><td>null</td><td>&quot;medium&quot;</td><td>&quot;medium&quot;</td><td>null</td><td>&quot;medium&quot;</td><td>&quot;medium&quot;</td><td>&quot;medium&quot;</td><td>&quot;2023-09-06 00:00:00&quot;</td><td>null</td><td>&quot;medium&quot;</td><td>&quot;agriculture&quot;</td><td>&quot;manure-management-cattle-feedl…</td></tr><tr><td>&quot;25743740&quot;</td><td>&quot;ZAF_beef_10&quot;</td><td>&quot;CHN&quot;</td><td>&quot;manure-management-cattle-feedl…</td><td>&quot;2022-01-01 00:00:00&quot;</td><td>&quot;2022-12-31 00:00:00&quot;</td><td>&quot;medium&quot;</td><td>&quot;very low&quot;</td><td>&quot;very low&quot;</td><td>&quot;high&quot;</td><td>null</td><td>&quot;medium&quot;</td><td>&quot;medium&quot;</td><td>null</td><td>&quot;medium&quot;</td><td>&quot;medium&quot;</td><td>&quot;medium&quot;</td><td>&quot;2023-09-06 00:00:00&quot;</td><td>null</td><td>&quot;medium&quot;</td><td>&quot;agriculture&quot;</td><td>&quot;manure-management-cattle-feedl…</td></tr><tr><td>&quot;25743740&quot;</td><td>&quot;ZAF_beef_100&quot;</td><td>&quot;CHN&quot;</td><td>&quot;manure-management-cattle-feedl…</td><td>&quot;2022-01-01 00:00:00&quot;</td><td>&quot;2022-12-31 00:00:00&quot;</td><td>&quot;medium&quot;</td><td>&quot;very low&quot;</td><td>&quot;very low&quot;</td><td>&quot;high&quot;</td><td>null</td><td>&quot;medium&quot;</td><td>&quot;medium&quot;</td><td>null</td><td>&quot;medium&quot;</td><td>&quot;medium&quot;</td><td>&quot;medium&quot;</td><td>&quot;2023-09-06 00:00:00&quot;</td><td>null</td><td>&quot;medium&quot;</td><td>&quot;agriculture&quot;</td><td>&quot;manure-management-cattle-feedl…</td></tr><tr><td>&quot;25743740&quot;</td><td>&quot;ZAF_beef_1000&quot;</td><td>&quot;CHN&quot;</td><td>&quot;manure-management-cattle-feedl…</td><td>&quot;2022-01-01 00:00:00&quot;</td><td>&quot;2022-12-31 00:00:00&quot;</td><td>&quot;medium&quot;</td><td>&quot;very low&quot;</td><td>&quot;very low&quot;</td><td>&quot;high&quot;</td><td>null</td><td>&quot;medium&quot;</td><td>&quot;medium&quot;</td><td>null</td><td>&quot;medium&quot;</td><td>&quot;medium&quot;</td><td>&quot;medium&quot;</td><td>&quot;2023-09-06 00:00:00&quot;</td><td>null</td><td>&quot;medium&quot;</td><td>&quot;agriculture&quot;</td><td>&quot;manure-management-cattle-feedl…</td></tr><tr><td>&hellip;</td><td>&hellip;</td><td>&hellip;</td><td>&hellip;</td><td>&hellip;</td><td>&hellip;</td><td>&hellip;</td><td>&hellip;</td><td>&hellip;</td><td>&hellip;</td><td>&hellip;</td><td>&hellip;</td><td>&hellip;</td><td>&hellip;</td><td>&hellip;</td><td>&hellip;</td><td>&hellip;</td><td>&hellip;</td><td>&hellip;</td><td>&hellip;</td><td>&hellip;</td><td>&hellip;</td></tr><tr><td>&quot;25743740&quot;</td><td>&quot;ZAF_dairy_95&quot;</td><td>&quot;CHN&quot;</td><td>&quot;manure-management-cattle-feedl…</td><td>&quot;2022-01-01 00:00:00&quot;</td><td>&quot;2022-12-31 00:00:00&quot;</td><td>&quot;medium&quot;</td><td>&quot;very low&quot;</td><td>&quot;low&quot;</td><td>&quot;high&quot;</td><td>null</td><td>&quot;medium&quot;</td><td>&quot;medium&quot;</td><td>null</td><td>&quot;medium&quot;</td><td>&quot;medium&quot;</td><td>&quot;medium&quot;</td><td>&quot;2023-09-06 00:00:00&quot;</td><td>null</td><td>&quot;medium&quot;</td><td>&quot;agriculture&quot;</td><td>&quot;manure-management-cattle-feedl…</td></tr><tr><td>&quot;25743740&quot;</td><td>&quot;ZAF_dairy_96&quot;</td><td>&quot;CHN&quot;</td><td>&quot;manure-management-cattle-feedl…</td><td>&quot;2022-01-01 00:00:00&quot;</td><td>&quot;2022-12-31 00:00:00&quot;</td><td>&quot;medium&quot;</td><td>&quot;very low&quot;</td><td>&quot;low&quot;</td><td>&quot;high&quot;</td><td>null</td><td>&quot;medium&quot;</td><td>&quot;medium&quot;</td><td>null</td><td>&quot;medium&quot;</td><td>&quot;medium&quot;</td><td>&quot;medium&quot;</td><td>&quot;2023-09-06 00:00:00&quot;</td><td>null</td><td>&quot;medium&quot;</td><td>&quot;agriculture&quot;</td><td>&quot;manure-management-cattle-feedl…</td></tr><tr><td>&quot;25743740&quot;</td><td>&quot;ZAF_dairy_97&quot;</td><td>&quot;CHN&quot;</td><td>&quot;manure-management-cattle-feedl…</td><td>&quot;2022-01-01 00:00:00&quot;</td><td>&quot;2022-12-31 00:00:00&quot;</td><td>&quot;medium&quot;</td><td>&quot;very low&quot;</td><td>&quot;low&quot;</td><td>&quot;high&quot;</td><td>null</td><td>&quot;medium&quot;</td><td>&quot;medium&quot;</td><td>null</td><td>&quot;medium&quot;</td><td>&quot;medium&quot;</td><td>&quot;medium&quot;</td><td>&quot;2023-09-06 00:00:00&quot;</td><td>null</td><td>&quot;medium&quot;</td><td>&quot;agriculture&quot;</td><td>&quot;manure-management-cattle-feedl…</td></tr><tr><td>&quot;25743740&quot;</td><td>&quot;ZAF_dairy_98&quot;</td><td>&quot;CHN&quot;</td><td>&quot;manure-management-cattle-feedl…</td><td>&quot;2022-01-01 00:00:00&quot;</td><td>&quot;2022-12-31 00:00:00&quot;</td><td>&quot;medium&quot;</td><td>&quot;very low&quot;</td><td>&quot;low&quot;</td><td>&quot;high&quot;</td><td>null</td><td>&quot;medium&quot;</td><td>&quot;medium&quot;</td><td>null</td><td>&quot;medium&quot;</td><td>&quot;medium&quot;</td><td>&quot;medium&quot;</td><td>&quot;2023-09-06 00:00:00&quot;</td><td>null</td><td>&quot;medium&quot;</td><td>&quot;agriculture&quot;</td><td>&quot;manure-management-cattle-feedl…</td></tr><tr><td>&quot;25743740&quot;</td><td>&quot;ZAF_dairy_99&quot;</td><td>&quot;CHN&quot;</td><td>&quot;manure-management-cattle-feedl…</td><td>&quot;2022-01-01 00:00:00&quot;</td><td>&quot;2022-12-31 00:00:00&quot;</td><td>&quot;medium&quot;</td><td>&quot;very low&quot;</td><td>&quot;low&quot;</td><td>&quot;high&quot;</td><td>null</td><td>&quot;medium&quot;</td><td>&quot;medium&quot;</td><td>null</td><td>&quot;medium&quot;</td><td>&quot;medium&quot;</td><td>&quot;medium&quot;</td><td>&quot;2023-09-06 00:00:00&quot;</td><td>null</td><td>&quot;medium&quot;</td><td>&quot;agriculture&quot;</td><td>&quot;manure-management-cattle-feedl…</td></tr></tbody></table></div>"
      ],
      "text/plain": [
       "shape: (2_751, 22)\n",
       "┌───────────┬───────────┬───────────┬───────────┬───┬───────────┬───────────┬───────────┬──────────┐\n",
       "│ source_id ┆ source_na ┆ iso3_coun ┆ original_ ┆ … ┆ modified_ ┆ total_co2 ┆ zip_name  ┆ file_nam │\n",
       "│ ---       ┆ me        ┆ try       ┆ inventory ┆   ┆ date      ┆ e_100yrgw ┆ ---       ┆ e        │\n",
       "│ str       ┆ ---       ┆ ---       ┆ _sector   ┆   ┆ ---       ┆ p         ┆ str       ┆ ---      │\n",
       "│           ┆ str       ┆ str       ┆ ---       ┆   ┆ str       ┆ ---       ┆           ┆ str      │\n",
       "│           ┆           ┆           ┆ str       ┆   ┆           ┆ str       ┆           ┆          │\n",
       "╞═══════════╪═══════════╪═══════════╪═══════════╪═══╪═══════════╪═══════════╪═══════════╪══════════╡\n",
       "│ 25743740  ┆ CHN_dairy ┆ CHN       ┆ manure-ma ┆ … ┆ null      ┆ medium    ┆ agricultu ┆ manure-m │\n",
       "│           ┆ _298      ┆           ┆ nagement- ┆   ┆           ┆           ┆ re        ┆ anagemen │\n",
       "│           ┆           ┆           ┆ cattle-fe ┆   ┆           ┆           ┆           ┆ t-cattle │\n",
       "│           ┆           ┆           ┆ edl…      ┆   ┆           ┆           ┆           ┆ -feedl…  │\n",
       "│ 25743740  ┆ ZAF_beef_ ┆ CHN       ┆ manure-ma ┆ … ┆ null      ┆ medium    ┆ agricultu ┆ manure-m │\n",
       "│           ┆ 1         ┆           ┆ nagement- ┆   ┆           ┆           ┆ re        ┆ anagemen │\n",
       "│           ┆           ┆           ┆ cattle-fe ┆   ┆           ┆           ┆           ┆ t-cattle │\n",
       "│           ┆           ┆           ┆ edl…      ┆   ┆           ┆           ┆           ┆ -feedl…  │\n",
       "│ 25743740  ┆ ZAF_beef_ ┆ CHN       ┆ manure-ma ┆ … ┆ null      ┆ medium    ┆ agricultu ┆ manure-m │\n",
       "│           ┆ 10        ┆           ┆ nagement- ┆   ┆           ┆           ┆ re        ┆ anagemen │\n",
       "│           ┆           ┆           ┆ cattle-fe ┆   ┆           ┆           ┆           ┆ t-cattle │\n",
       "│           ┆           ┆           ┆ edl…      ┆   ┆           ┆           ┆           ┆ -feedl…  │\n",
       "│ 25743740  ┆ ZAF_beef_ ┆ CHN       ┆ manure-ma ┆ … ┆ null      ┆ medium    ┆ agricultu ┆ manure-m │\n",
       "│           ┆ 100       ┆           ┆ nagement- ┆   ┆           ┆           ┆ re        ┆ anagemen │\n",
       "│           ┆           ┆           ┆ cattle-fe ┆   ┆           ┆           ┆           ┆ t-cattle │\n",
       "│           ┆           ┆           ┆ edl…      ┆   ┆           ┆           ┆           ┆ -feedl…  │\n",
       "│ 25743740  ┆ ZAF_beef_ ┆ CHN       ┆ manure-ma ┆ … ┆ null      ┆ medium    ┆ agricultu ┆ manure-m │\n",
       "│           ┆ 1000      ┆           ┆ nagement- ┆   ┆           ┆           ┆ re        ┆ anagemen │\n",
       "│           ┆           ┆           ┆ cattle-fe ┆   ┆           ┆           ┆           ┆ t-cattle │\n",
       "│           ┆           ┆           ┆ edl…      ┆   ┆           ┆           ┆           ┆ -feedl…  │\n",
       "│ …         ┆ …         ┆ …         ┆ …         ┆ … ┆ …         ┆ …         ┆ …         ┆ …        │\n",
       "│ 25743740  ┆ ZAF_dairy ┆ CHN       ┆ manure-ma ┆ … ┆ null      ┆ medium    ┆ agricultu ┆ manure-m │\n",
       "│           ┆ _95       ┆           ┆ nagement- ┆   ┆           ┆           ┆ re        ┆ anagemen │\n",
       "│           ┆           ┆           ┆ cattle-fe ┆   ┆           ┆           ┆           ┆ t-cattle │\n",
       "│           ┆           ┆           ┆ edl…      ┆   ┆           ┆           ┆           ┆ -feedl…  │\n",
       "│ 25743740  ┆ ZAF_dairy ┆ CHN       ┆ manure-ma ┆ … ┆ null      ┆ medium    ┆ agricultu ┆ manure-m │\n",
       "│           ┆ _96       ┆           ┆ nagement- ┆   ┆           ┆           ┆ re        ┆ anagemen │\n",
       "│           ┆           ┆           ┆ cattle-fe ┆   ┆           ┆           ┆           ┆ t-cattle │\n",
       "│           ┆           ┆           ┆ edl…      ┆   ┆           ┆           ┆           ┆ -feedl…  │\n",
       "│ 25743740  ┆ ZAF_dairy ┆ CHN       ┆ manure-ma ┆ … ┆ null      ┆ medium    ┆ agricultu ┆ manure-m │\n",
       "│           ┆ _97       ┆           ┆ nagement- ┆   ┆           ┆           ┆ re        ┆ anagemen │\n",
       "│           ┆           ┆           ┆ cattle-fe ┆   ┆           ┆           ┆           ┆ t-cattle │\n",
       "│           ┆           ┆           ┆ edl…      ┆   ┆           ┆           ┆           ┆ -feedl…  │\n",
       "│ 25743740  ┆ ZAF_dairy ┆ CHN       ┆ manure-ma ┆ … ┆ null      ┆ medium    ┆ agricultu ┆ manure-m │\n",
       "│           ┆ _98       ┆           ┆ nagement- ┆   ┆           ┆           ┆ re        ┆ anagemen │\n",
       "│           ┆           ┆           ┆ cattle-fe ┆   ┆           ┆           ┆           ┆ t-cattle │\n",
       "│           ┆           ┆           ┆ edl…      ┆   ┆           ┆           ┆           ┆ -feedl…  │\n",
       "│ 25743740  ┆ ZAF_dairy ┆ CHN       ┆ manure-ma ┆ … ┆ null      ┆ medium    ┆ agricultu ┆ manure-m │\n",
       "│           ┆ _99       ┆           ┆ nagement- ┆   ┆           ┆           ┆ re        ┆ anagemen │\n",
       "│           ┆           ┆           ┆ cattle-fe ┆   ┆           ┆           ┆           ┆ t-cattle │\n",
       "│           ┆           ┆           ┆ edl…      ┆   ┆           ┆           ┆           ┆ -feedl…  │\n",
       "└───────────┴───────────┴───────────┴───────────┴───┴───────────┴───────────┴───────────┴──────────┘"
      ]
     },
     "execution_count": 27,
     "metadata": {},
     "output_type": "execute_result"
    }
   ],
   "source": [
    "(conf_df\n",
    " .filter(c_source_id == \"25743740\")\n",
    " .filter(c_start_time.str.starts_with(\"2022\"))\n",
    ")"
   ]
  },
  {
   "cell_type": "markdown",
   "metadata": {},
   "source": [
    "### Investigation: some emissions quantities are null\n",
    "\n",
    "The false column should be all null (number of null values in emissions)"
   ]
  },
  {
   "cell_type": "code",
   "execution_count": 28,
   "metadata": {},
   "outputs": [
    {
     "data": {
      "text/html": [
       "<div><style>\n",
       ".dataframe > thead > tr,\n",
       ".dataframe > tbody > tr {\n",
       "  text-align: right;\n",
       "  white-space: pre-wrap;\n",
       "}\n",
       "</style>\n",
       "<small>shape: (38, 3)</small><table border=\"1\" class=\"dataframe\"><thead><tr><th>subsector</th><th>false</th><th>true</th></tr><tr><td>enum</td><td>u32</td><td>u32</td></tr></thead><tbody><tr><td>&quot;bauxite-mining&quot;</td><td>231</td><td>644</td></tr><tr><td>&quot;petrochemicals&quot;</td><td>464</td><td>116</td></tr><tr><td>&quot;iron-mining&quot;</td><td>672</td><td>2008</td></tr><tr><td>&quot;copper-mining&quot;</td><td>1248</td><td>1527</td></tr><tr><td>&quot;pulp-and-paper&quot;</td><td>1548</td><td>387</td></tr><tr><td>&hellip;</td><td>&hellip;</td><td>&hellip;</td></tr><tr><td>&quot;manure-left-on-pasture-cattle&quot;</td><td>184518</td><td>46702</td></tr><tr><td>&quot;cropland-fires&quot;</td><td>239700</td><td>null</td></tr><tr><td>&quot;wastewater-treatment-and-disch…</td><td>267330</td><td>null</td></tr><tr><td>&quot;international-shipping&quot;</td><td>419871</td><td>279914</td></tr><tr><td>&quot;domestic-shipping&quot;</td><td>641949</td><td>427966</td></tr></tbody></table></div>"
      ],
      "text/plain": [
       "shape: (38, 3)\n",
       "┌─────────────────────────────────┬────────┬────────┐\n",
       "│ subsector                       ┆ false  ┆ true   │\n",
       "│ ---                             ┆ ---    ┆ ---    │\n",
       "│ enum                            ┆ u32    ┆ u32    │\n",
       "╞═════════════════════════════════╪════════╪════════╡\n",
       "│ bauxite-mining                  ┆ 231    ┆ 644    │\n",
       "│ petrochemicals                  ┆ 464    ┆ 116    │\n",
       "│ iron-mining                     ┆ 672    ┆ 2008   │\n",
       "│ copper-mining                   ┆ 1248   ┆ 1527   │\n",
       "│ pulp-and-paper                  ┆ 1548   ┆ 387    │\n",
       "│ …                               ┆ …      ┆ …      │\n",
       "│ manure-left-on-pasture-cattle   ┆ 184518 ┆ 46702  │\n",
       "│ cropland-fires                  ┆ 239700 ┆ null   │\n",
       "│ wastewater-treatment-and-disch… ┆ 267330 ┆ null   │\n",
       "│ international-shipping          ┆ 419871 ┆ 279914 │\n",
       "│ domestic-shipping               ┆ 641949 ┆ 427966 │\n",
       "└─────────────────────────────────┴────────┴────────┘"
      ]
     },
     "execution_count": 28,
     "metadata": {},
     "output_type": "execute_result"
    }
   ],
   "source": [
    "sdf = ct.read_source_emissions(2022, \"/tmp\")\n",
    "(sdf\n",
    " .select(c_emissions_quantity.is_null().alias(\"null_emissions\"), c_subsector, c_iso3_country)\n",
    " .group_by(c_subsector, \"null_emissions\")\n",
    " .agg(pl.len())\n",
    " .collect()\n",
    " .pivot(index=SUBSECTOR, columns=\"null_emissions\", values=\"len\", aggregate_function=\"sum\")\n",
    " .sort(by=\"false\")\n",
    ")"
   ]
  },
  {
   "cell_type": "code",
   "execution_count": 29,
   "metadata": {},
   "outputs": [],
   "source": [
    "sdf = ct.data._load_csv(\n",
    "    lambda _, sname: sname.startswith(\"electricity\") and sname.endswith(\"sources.csv\"))"
   ]
  },
  {
   "cell_type": "code",
   "execution_count": 30,
   "metadata": {},
   "outputs": [
    {
     "data": {
      "text/html": [
       "<div><style>\n",
       ".dataframe > thead > tr,\n",
       ".dataframe > tbody > tr {\n",
       "  text-align: right;\n",
       "  white-space: pre-wrap;\n",
       "}\n",
       "</style>\n",
       "<small>shape: (8, 32)</small><table border=\"1\" class=\"dataframe\"><thead><tr><th>source_id</th><th>iso3_country</th><th>original_inventory_sector</th><th>start_time</th><th>end_time</th><th>temporal_granularity</th><th>gas</th><th>emissions_quantity</th><th>emissions_factor</th><th>emissions_factor_units</th><th>capacity</th><th>capacity_units</th><th>capacity_factor</th><th>activity</th><th>activity_units</th><th>created_date</th><th>modified_date</th><th>source_name</th><th>source_type</th><th>lat</th><th>lon</th><th>other1</th><th>other2</th><th>other3</th><th>other4</th><th>other1_def</th><th>other2_def</th><th>other3_def</th><th>other4_def</th><th>geometry_ref</th><th>zip_name</th><th>file_name</th></tr><tr><td>str</td><td>str</td><td>str</td><td>str</td><td>str</td><td>str</td><td>str</td><td>str</td><td>str</td><td>str</td><td>str</td><td>str</td><td>str</td><td>str</td><td>str</td><td>str</td><td>str</td><td>str</td><td>str</td><td>str</td><td>str</td><td>str</td><td>str</td><td>str</td><td>str</td><td>str</td><td>str</td><td>str</td><td>str</td><td>str</td><td>str</td><td>str</td></tr></thead><tbody><tr><td>&quot;25448848&quot;</td><td>&quot;USA&quot;</td><td>&quot;electricity-generation&quot;</td><td>&quot;2022-01-01 00:00:00&quot;</td><td>&quot;2022-12-31 00:00:00&quot;</td><td>&quot;annual&quot;</td><td>&quot;ch4&quot;</td><td>null</td><td>null</td><td>&quot;field_not_modeled&quot;</td><td>&quot;138&quot;</td><td>&quot;MW&quot;</td><td>&quot;0.345&quot;</td><td>&quot;417000&quot;</td><td>&quot;MWh&quot;</td><td>&quot;2023-10-31 00:00:00&quot;</td><td>&quot;2023-11-01 10:00:00&quot;</td><td>&quot;Gadsden&quot;</td><td>&quot;gas&quot;</td><td>&quot;34.0128&quot;</td><td>&quot;-85.9708&quot;</td><td>&quot;a&quot;</td><td>null</td><td>null</td><td>null</td><td>&quot;field_not_included&quot;</td><td>&quot;biomass_emissions&quot;</td><td>&quot;biomass_capacity&quot;</td><td>&quot;biomass_generation&quot;</td><td>&quot;trace_-85.9708_34.0128&quot;</td><td>&quot;power&quot;</td><td>&quot;electricity-generation_emissio…</td></tr><tr><td>&quot;25448848&quot;</td><td>&quot;USA&quot;</td><td>&quot;electricity-generation&quot;</td><td>&quot;2022-01-01 00:00:00&quot;</td><td>&quot;2022-12-31 00:00:00&quot;</td><td>&quot;annual&quot;</td><td>&quot;n2o&quot;</td><td>null</td><td>null</td><td>&quot;field_not_modeled&quot;</td><td>&quot;138&quot;</td><td>&quot;MW&quot;</td><td>&quot;0.345&quot;</td><td>&quot;417000&quot;</td><td>&quot;MWh&quot;</td><td>&quot;2023-10-31 00:00:00&quot;</td><td>&quot;2023-11-01 10:00:00&quot;</td><td>&quot;Gadsden&quot;</td><td>&quot;gas&quot;</td><td>&quot;34.0128&quot;</td><td>&quot;-85.9708&quot;</td><td>&quot;a&quot;</td><td>null</td><td>null</td><td>null</td><td>&quot;field_not_included&quot;</td><td>&quot;biomass_emissions&quot;</td><td>&quot;biomass_capacity&quot;</td><td>&quot;biomass_generation&quot;</td><td>&quot;trace_-85.9708_34.0128&quot;</td><td>&quot;power&quot;</td><td>&quot;electricity-generation_emissio…</td></tr><tr><td>&quot;25448848&quot;</td><td>&quot;USA&quot;</td><td>&quot;electricity-generation&quot;</td><td>&quot;2021-01-01 00:00:00&quot;</td><td>&quot;2021-12-31 00:00:00&quot;</td><td>&quot;annual&quot;</td><td>&quot;n2o&quot;</td><td>null</td><td>null</td><td>&quot;field_not_modeled&quot;</td><td>&quot;138&quot;</td><td>&quot;MW&quot;</td><td>&quot;0.324&quot;</td><td>&quot;392000&quot;</td><td>&quot;MWh&quot;</td><td>&quot;2023-10-31 00:00:00&quot;</td><td>&quot;2023-11-01 10:00:00&quot;</td><td>&quot;Gadsden&quot;</td><td>&quot;gas&quot;</td><td>&quot;34.0128&quot;</td><td>&quot;-85.9708&quot;</td><td>&quot;a&quot;</td><td>null</td><td>null</td><td>null</td><td>&quot;field_not_included&quot;</td><td>&quot;biomass_emissions&quot;</td><td>&quot;biomass_capacity&quot;</td><td>&quot;biomass_generation&quot;</td><td>&quot;trace_-85.9708_34.0128&quot;</td><td>&quot;power&quot;</td><td>&quot;electricity-generation_emissio…</td></tr><tr><td>&quot;25448848&quot;</td><td>&quot;USA&quot;</td><td>&quot;electricity-generation&quot;</td><td>&quot;2021-01-01 00:00:00&quot;</td><td>&quot;2021-12-31 00:00:00&quot;</td><td>&quot;annual&quot;</td><td>&quot;ch4&quot;</td><td>null</td><td>null</td><td>&quot;field_not_modeled&quot;</td><td>&quot;138&quot;</td><td>&quot;MW&quot;</td><td>&quot;0.324&quot;</td><td>&quot;392000&quot;</td><td>&quot;MWh&quot;</td><td>&quot;2023-10-31 00:00:00&quot;</td><td>&quot;2023-11-01 10:00:00&quot;</td><td>&quot;Gadsden&quot;</td><td>&quot;gas&quot;</td><td>&quot;34.0128&quot;</td><td>&quot;-85.9708&quot;</td><td>&quot;a&quot;</td><td>null</td><td>null</td><td>null</td><td>&quot;field_not_included&quot;</td><td>&quot;biomass_emissions&quot;</td><td>&quot;biomass_capacity&quot;</td><td>&quot;biomass_generation&quot;</td><td>&quot;trace_-85.9708_34.0128&quot;</td><td>&quot;power&quot;</td><td>&quot;electricity-generation_emissio…</td></tr><tr><td>&quot;25448848&quot;</td><td>&quot;USA&quot;</td><td>&quot;electricity-generation&quot;</td><td>&quot;2020-01-01 00:00:00&quot;</td><td>&quot;2020-12-31 00:00:00&quot;</td><td>&quot;annual&quot;</td><td>&quot;n2o&quot;</td><td>null</td><td>null</td><td>&quot;field_not_modeled&quot;</td><td>&quot;138&quot;</td><td>&quot;MW&quot;</td><td>&quot;0.335&quot;</td><td>&quot;406000&quot;</td><td>&quot;MWh&quot;</td><td>&quot;2023-10-31 00:00:00&quot;</td><td>&quot;2023-11-01 10:00:00&quot;</td><td>&quot;Gadsden&quot;</td><td>&quot;gas&quot;</td><td>&quot;34.0128&quot;</td><td>&quot;-85.9708&quot;</td><td>&quot;a&quot;</td><td>null</td><td>null</td><td>null</td><td>&quot;field_not_included&quot;</td><td>&quot;biomass_emissions&quot;</td><td>&quot;biomass_capacity&quot;</td><td>&quot;biomass_generation&quot;</td><td>&quot;trace_-85.9708_34.0128&quot;</td><td>&quot;power&quot;</td><td>&quot;electricity-generation_emissio…</td></tr><tr><td>&quot;25448848&quot;</td><td>&quot;USA&quot;</td><td>&quot;electricity-generation&quot;</td><td>&quot;2020-01-01 00:00:00&quot;</td><td>&quot;2020-12-31 00:00:00&quot;</td><td>&quot;annual&quot;</td><td>&quot;ch4&quot;</td><td>null</td><td>null</td><td>&quot;field_not_modeled&quot;</td><td>&quot;138&quot;</td><td>&quot;MW&quot;</td><td>&quot;0.335&quot;</td><td>&quot;406000&quot;</td><td>&quot;MWh&quot;</td><td>&quot;2023-10-31 00:00:00&quot;</td><td>&quot;2023-11-01 10:00:00&quot;</td><td>&quot;Gadsden&quot;</td><td>&quot;gas&quot;</td><td>&quot;34.0128&quot;</td><td>&quot;-85.9708&quot;</td><td>&quot;a&quot;</td><td>null</td><td>null</td><td>null</td><td>&quot;field_not_included&quot;</td><td>&quot;biomass_emissions&quot;</td><td>&quot;biomass_capacity&quot;</td><td>&quot;biomass_generation&quot;</td><td>&quot;trace_-85.9708_34.0128&quot;</td><td>&quot;power&quot;</td><td>&quot;electricity-generation_emissio…</td></tr><tr><td>&quot;25448848&quot;</td><td>&quot;USA&quot;</td><td>&quot;electricity-generation&quot;</td><td>&quot;2019-01-01 00:00:00&quot;</td><td>&quot;2019-12-31 00:00:00&quot;</td><td>&quot;annual&quot;</td><td>&quot;n2o&quot;</td><td>null</td><td>null</td><td>&quot;field_not_modeled&quot;</td><td>&quot;138&quot;</td><td>&quot;MW&quot;</td><td>&quot;0.329&quot;</td><td>&quot;398000&quot;</td><td>&quot;MWh&quot;</td><td>&quot;2023-10-31 00:00:00&quot;</td><td>&quot;2023-11-01 10:00:00&quot;</td><td>&quot;Gadsden&quot;</td><td>&quot;gas&quot;</td><td>&quot;34.0128&quot;</td><td>&quot;-85.9708&quot;</td><td>&quot;a&quot;</td><td>null</td><td>null</td><td>null</td><td>&quot;field_not_included&quot;</td><td>&quot;biomass_emissions&quot;</td><td>&quot;biomass_capacity&quot;</td><td>&quot;biomass_generation&quot;</td><td>&quot;trace_-85.9708_34.0128&quot;</td><td>&quot;power&quot;</td><td>&quot;electricity-generation_emissio…</td></tr><tr><td>&quot;25448848&quot;</td><td>&quot;USA&quot;</td><td>&quot;electricity-generation&quot;</td><td>&quot;2019-01-01 00:00:00&quot;</td><td>&quot;2019-12-31 00:00:00&quot;</td><td>&quot;annual&quot;</td><td>&quot;ch4&quot;</td><td>null</td><td>null</td><td>&quot;field_not_modeled&quot;</td><td>&quot;138&quot;</td><td>&quot;MW&quot;</td><td>&quot;0.329&quot;</td><td>&quot;398000&quot;</td><td>&quot;MWh&quot;</td><td>&quot;2023-10-31 00:00:00&quot;</td><td>&quot;2023-11-01 10:00:00&quot;</td><td>&quot;Gadsden&quot;</td><td>&quot;gas&quot;</td><td>&quot;34.0128&quot;</td><td>&quot;-85.9708&quot;</td><td>&quot;a&quot;</td><td>null</td><td>null</td><td>null</td><td>&quot;field_not_included&quot;</td><td>&quot;biomass_emissions&quot;</td><td>&quot;biomass_capacity&quot;</td><td>&quot;biomass_generation&quot;</td><td>&quot;trace_-85.9708_34.0128&quot;</td><td>&quot;power&quot;</td><td>&quot;electricity-generation_emissio…</td></tr></tbody></table></div>"
      ],
      "text/plain": [
       "shape: (8, 32)\n",
       "┌───────────┬───────────┬───────────┬───────────┬───┬───────────┬───────────┬──────────┬───────────┐\n",
       "│ source_id ┆ iso3_coun ┆ original_ ┆ start_tim ┆ … ┆ other4_de ┆ geometry_ ┆ zip_name ┆ file_name │\n",
       "│ ---       ┆ try       ┆ inventory ┆ e         ┆   ┆ f         ┆ ref       ┆ ---      ┆ ---       │\n",
       "│ str       ┆ ---       ┆ _sector   ┆ ---       ┆   ┆ ---       ┆ ---       ┆ str      ┆ str       │\n",
       "│           ┆ str       ┆ ---       ┆ str       ┆   ┆ str       ┆ str       ┆          ┆           │\n",
       "│           ┆           ┆ str       ┆           ┆   ┆           ┆           ┆          ┆           │\n",
       "╞═══════════╪═══════════╪═══════════╪═══════════╪═══╪═══════════╪═══════════╪══════════╪═══════════╡\n",
       "│ 25448848  ┆ USA       ┆ electrici ┆ 2022-01-0 ┆ … ┆ biomass_g ┆ trace_-85 ┆ power    ┆ electrici │\n",
       "│           ┆           ┆ ty-genera ┆ 1         ┆   ┆ eneration ┆ .9708_34. ┆          ┆ ty-genera │\n",
       "│           ┆           ┆ tion      ┆ 00:00:00  ┆   ┆           ┆ 0128      ┆          ┆ tion_emis │\n",
       "│           ┆           ┆           ┆           ┆   ┆           ┆           ┆          ┆ sio…      │\n",
       "│ 25448848  ┆ USA       ┆ electrici ┆ 2022-01-0 ┆ … ┆ biomass_g ┆ trace_-85 ┆ power    ┆ electrici │\n",
       "│           ┆           ┆ ty-genera ┆ 1         ┆   ┆ eneration ┆ .9708_34. ┆          ┆ ty-genera │\n",
       "│           ┆           ┆ tion      ┆ 00:00:00  ┆   ┆           ┆ 0128      ┆          ┆ tion_emis │\n",
       "│           ┆           ┆           ┆           ┆   ┆           ┆           ┆          ┆ sio…      │\n",
       "│ 25448848  ┆ USA       ┆ electrici ┆ 2021-01-0 ┆ … ┆ biomass_g ┆ trace_-85 ┆ power    ┆ electrici │\n",
       "│           ┆           ┆ ty-genera ┆ 1         ┆   ┆ eneration ┆ .9708_34. ┆          ┆ ty-genera │\n",
       "│           ┆           ┆ tion      ┆ 00:00:00  ┆   ┆           ┆ 0128      ┆          ┆ tion_emis │\n",
       "│           ┆           ┆           ┆           ┆   ┆           ┆           ┆          ┆ sio…      │\n",
       "│ 25448848  ┆ USA       ┆ electrici ┆ 2021-01-0 ┆ … ┆ biomass_g ┆ trace_-85 ┆ power    ┆ electrici │\n",
       "│           ┆           ┆ ty-genera ┆ 1         ┆   ┆ eneration ┆ .9708_34. ┆          ┆ ty-genera │\n",
       "│           ┆           ┆ tion      ┆ 00:00:00  ┆   ┆           ┆ 0128      ┆          ┆ tion_emis │\n",
       "│           ┆           ┆           ┆           ┆   ┆           ┆           ┆          ┆ sio…      │\n",
       "│ 25448848  ┆ USA       ┆ electrici ┆ 2020-01-0 ┆ … ┆ biomass_g ┆ trace_-85 ┆ power    ┆ electrici │\n",
       "│           ┆           ┆ ty-genera ┆ 1         ┆   ┆ eneration ┆ .9708_34. ┆          ┆ ty-genera │\n",
       "│           ┆           ┆ tion      ┆ 00:00:00  ┆   ┆           ┆ 0128      ┆          ┆ tion_emis │\n",
       "│           ┆           ┆           ┆           ┆   ┆           ┆           ┆          ┆ sio…      │\n",
       "│ 25448848  ┆ USA       ┆ electrici ┆ 2020-01-0 ┆ … ┆ biomass_g ┆ trace_-85 ┆ power    ┆ electrici │\n",
       "│           ┆           ┆ ty-genera ┆ 1         ┆   ┆ eneration ┆ .9708_34. ┆          ┆ ty-genera │\n",
       "│           ┆           ┆ tion      ┆ 00:00:00  ┆   ┆           ┆ 0128      ┆          ┆ tion_emis │\n",
       "│           ┆           ┆           ┆           ┆   ┆           ┆           ┆          ┆ sio…      │\n",
       "│ 25448848  ┆ USA       ┆ electrici ┆ 2019-01-0 ┆ … ┆ biomass_g ┆ trace_-85 ┆ power    ┆ electrici │\n",
       "│           ┆           ┆ ty-genera ┆ 1         ┆   ┆ eneration ┆ .9708_34. ┆          ┆ ty-genera │\n",
       "│           ┆           ┆ tion      ┆ 00:00:00  ┆   ┆           ┆ 0128      ┆          ┆ tion_emis │\n",
       "│           ┆           ┆           ┆           ┆   ┆           ┆           ┆          ┆ sio…      │\n",
       "│ 25448848  ┆ USA       ┆ electrici ┆ 2019-01-0 ┆ … ┆ biomass_g ┆ trace_-85 ┆ power    ┆ electrici │\n",
       "│           ┆           ┆ ty-genera ┆ 1         ┆   ┆ eneration ┆ .9708_34. ┆          ┆ ty-genera │\n",
       "│           ┆           ┆ tion      ┆ 00:00:00  ┆   ┆           ┆ 0128      ┆          ┆ tion_emis │\n",
       "│           ┆           ┆           ┆           ┆   ┆           ┆           ┆          ┆ sio…      │\n",
       "└───────────┴───────────┴───────────┴───────────┴───┴───────────┴───────────┴──────────┴───────────┘"
      ]
     },
     "execution_count": 30,
     "metadata": {},
     "output_type": "execute_result"
    }
   ],
   "source": [
    "(sdf\n",
    ".filter(c_emissions_quantity.is_null())\n",
    ".filter(c_source_id == \"25448848\")\n",
    ")"
   ]
  },
  {
   "cell_type": "markdown",
   "metadata": {},
   "source": [
    "## Upload the data to the Hugging Face Hub\n",
    "\n",
    "This step will only work if you have the credentials to upload the dataset."
   ]
  },
  {
   "cell_type": "code",
   "execution_count": 31,
   "metadata": {},
   "outputs": [
    {
     "name": "stdout",
     "output_type": "stream",
     "text": [
      "climate_trace-sources_v2-2023-ct2_2015.parquet /tmp/climate_trace-sources_v2-2023-ct2_2015.parquet\n"
     ]
    },
    {
     "data": {
      "application/vnd.jupyter.widget-view+json": {
       "model_id": "f60e010c31b140be9ef0adc28fbafbb2",
       "version_major": 2,
       "version_minor": 0
      },
      "text/plain": [
       "climate_trace-sources_v2-2023-ct2_2015.parquet:   0%|          | 0.00/117M [00:00<?, ?B/s]"
      ]
     },
     "metadata": {},
     "output_type": "display_data"
    },
    {
     "name": "stdout",
     "output_type": "stream",
     "text": [
      "climate_trace-sources_v2-2023-ct2_2016.parquet /tmp/climate_trace-sources_v2-2023-ct2_2016.parquet\n"
     ]
    },
    {
     "data": {
      "application/vnd.jupyter.widget-view+json": {
       "model_id": "6a929a3c60ba43509d5e924713de0673",
       "version_major": 2,
       "version_minor": 0
      },
      "text/plain": [
       "climate_trace-sources_v2-2023-ct2_2016.parquet:   0%|          | 0.00/131M [00:00<?, ?B/s]"
      ]
     },
     "metadata": {},
     "output_type": "display_data"
    },
    {
     "name": "stdout",
     "output_type": "stream",
     "text": [
      "climate_trace-sources_v2-2023-ct2_2017.parquet /tmp/climate_trace-sources_v2-2023-ct2_2017.parquet\n"
     ]
    },
    {
     "data": {
      "application/vnd.jupyter.widget-view+json": {
       "model_id": "3cf33d68642440ad890835899fc07876",
       "version_major": 2,
       "version_minor": 0
      },
      "text/plain": [
       "climate_trace-sources_v2-2023-ct2_2017.parquet:   0%|          | 0.00/133M [00:00<?, ?B/s]"
      ]
     },
     "metadata": {},
     "output_type": "display_data"
    },
    {
     "name": "stdout",
     "output_type": "stream",
     "text": [
      "climate_trace-sources_v2-2023-ct2_2018.parquet /tmp/climate_trace-sources_v2-2023-ct2_2018.parquet\n"
     ]
    },
    {
     "data": {
      "application/vnd.jupyter.widget-view+json": {
       "model_id": "dd24b448954242949825a719c2cefc86",
       "version_major": 2,
       "version_minor": 0
      },
      "text/plain": [
       "climate_trace-sources_v2-2023-ct2_2018.parquet:   0%|          | 0.00/134M [00:00<?, ?B/s]"
      ]
     },
     "metadata": {},
     "output_type": "display_data"
    },
    {
     "name": "stdout",
     "output_type": "stream",
     "text": [
      "climate_trace-sources_v2-2023-ct2_2019.parquet /tmp/climate_trace-sources_v2-2023-ct2_2019.parquet\n"
     ]
    },
    {
     "data": {
      "application/vnd.jupyter.widget-view+json": {
       "model_id": "5bbdd1f3546041b98d1ac33b01e6dede",
       "version_major": 2,
       "version_minor": 0
      },
      "text/plain": [
       "climate_trace-sources_v2-2023-ct2_2019.parquet:   0%|          | 0.00/136M [00:00<?, ?B/s]"
      ]
     },
     "metadata": {},
     "output_type": "display_data"
    },
    {
     "name": "stdout",
     "output_type": "stream",
     "text": [
      "climate_trace-sources_v2-2023-ct2_2020.parquet /tmp/climate_trace-sources_v2-2023-ct2_2020.parquet\n"
     ]
    },
    {
     "data": {
      "application/vnd.jupyter.widget-view+json": {
       "model_id": "6454f73b61f74ce5b25c175ed406f51a",
       "version_major": 2,
       "version_minor": 0
      },
      "text/plain": [
       "climate_trace-sources_v2-2023-ct2_2020.parquet:   0%|          | 0.00/136M [00:00<?, ?B/s]"
      ]
     },
     "metadata": {},
     "output_type": "display_data"
    },
    {
     "name": "stdout",
     "output_type": "stream",
     "text": [
      "climate_trace-sources_v2-2023-ct2_2021.parquet /tmp/climate_trace-sources_v2-2023-ct2_2021.parquet\n"
     ]
    },
    {
     "data": {
      "application/vnd.jupyter.widget-view+json": {
       "model_id": "78fc816edbcf4d2babbee739ceee39d3",
       "version_major": 2,
       "version_minor": 0
      },
      "text/plain": [
       "climate_trace-sources_v2-2023-ct2_2021.parquet:   0%|          | 0.00/150M [00:00<?, ?B/s]"
      ]
     },
     "metadata": {},
     "output_type": "display_data"
    },
    {
     "name": "stdout",
     "output_type": "stream",
     "text": [
      "climate_trace-sources_v2-2023-ct2_2022.parquet /tmp/climate_trace-sources_v2-2023-ct2_2022.parquet\n"
     ]
    },
    {
     "data": {
      "application/vnd.jupyter.widget-view+json": {
       "model_id": "92031f4c1d1c401aa454f5efcea96523",
       "version_major": 2,
       "version_minor": 0
      },
      "text/plain": [
       "climate_trace-sources_v2-2023-ct2_2022.parquet:   0%|          | 0.00/147M [00:00<?, ?B/s]"
      ]
     },
     "metadata": {},
     "output_type": "display_data"
    }
   ],
   "source": [
    "import huggingface_hub.utils\n",
    "try:\n",
    "    api = huggingface_hub.HfApi()\n",
    "    for (_, fpath) in write_data():\n",
    "        fname = os.path.basename(fpath)\n",
    "        print(fname, fpath)\n",
    "        api.upload_file(\n",
    "            path_or_fileobj=fpath,\n",
    "            path_in_repo=fname,\n",
    "            repo_id=\"tjhunter/climate-trace\",\n",
    "            repo_type=\"dataset\",\n",
    "        )\n",
    "except huggingface_hub.utils.HfHubHTTPError as e:\n",
    "    print(\"error\")\n",
    "    print(e)"
   ]
  },
  {
   "cell_type": "code",
   "execution_count": null,
   "metadata": {},
   "outputs": [],
   "source": []
  }
 ],
 "metadata": {
  "kernelspec": {
   "display_name": "Python 3 (ipykernel)",
   "language": "python",
   "name": "python3"
  },
  "language_info": {
   "codemirror_mode": {
    "name": "ipython",
    "version": 3
   },
   "file_extension": ".py",
   "mimetype": "text/x-python",
   "name": "python",
   "nbconvert_exporter": "python",
   "pygments_lexer": "ipython3",
   "version": "3.11.9"
  },
  "widgets": {
   "application/vnd.jupyter.widget-state+json": {
    "state": {},
    "version_major": 2,
    "version_minor": 0
   }
  }
 },
 "nbformat": 4,
 "nbformat_minor": 4
}
