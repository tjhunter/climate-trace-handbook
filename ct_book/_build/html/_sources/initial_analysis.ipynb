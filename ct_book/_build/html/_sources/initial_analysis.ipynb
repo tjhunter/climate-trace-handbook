{
 "cells": [
  {
   "cell_type": "markdown",
   "id": "5b280157-80eb-498c-9b37-2d60257eb3f7",
   "metadata": {},
   "source": [
    "# Data exploration of the Climate TRACE dataset\n",
    "\n",
    "In this chapter, we look at the dataset and we answer a few questions:\n",
    "- which countries are the biggest emitters?\n",
    "- what sectors are the most responsible for emissions?\n",
    "\n",
    "In a second part, we compare two different views on emissions:\n",
    "\n",
    "- the _source_ view, which looks from a bottom up view at all the sources (factories, mines, farms, ...)\n",
    "- the _country_ view, which is a top down approach, and derives many values from aggregate economic activity, for example how many tons of coal were burned to produced annually. This is  the official reporting method followed by countries to report their emissions to the United Nations as part of the Paris agreements.\n",
    "\n",
    "The data has already been prepared from the original Climate TRACE dataset. If you want to understand the preprocessing, read the chapter [Ingestion](./ingestion.ipynb).\n"
   ]
  },
  {
   "cell_type": "code",
   "execution_count": 1,
   "id": "098161b5-cbdc-4974-b579-3159cfb107d1",
   "metadata": {},
   "outputs": [],
   "source": [
    "%load_ext autoreload\n",
    "%autoreload 2"
   ]
  },
  {
   "cell_type": "code",
   "execution_count": 2,
   "id": "b9eff952-a85f-48aa-bfae-f767fb036e5e",
   "metadata": {},
   "outputs": [],
   "source": [
    "import logging\n",
    "logging.basicConfig(level=logging.INFO)"
   ]
  },
  {
   "cell_type": "markdown",
   "id": "50e077ce-d044-4840-80a8-f38f232d39d8",
   "metadata": {},
   "source": [
    "We import all the libraries that we will use in this notebook:\n",
    "- the [Polars](https://pola.rs/) library, a very fast package with a clear interface.\n",
    "- the [Plotly Express](https://plotly.com/python/plotly-express/) visualization library\n",
    "- the `ctrace` package (included in this repository), that contains tools to read and understand the Climate TRACE data."
   ]
  },
  {
   "cell_type": "code",
   "execution_count": 3,
   "id": "14b5ed9f-45f7-471f-b654-627501391f32",
   "metadata": {},
   "outputs": [],
   "source": [
    "import polars as pl\n",
    "import plotly.io\n",
    "plotly.io.templates.default = \"plotly_white\"\n",
    "import plotly.express as px\n",
    "\n",
    "from ctrace.constants import *\n",
    "import ctrace as ct"
   ]
  },
  {
   "cell_type": "markdown",
   "id": "6a5363f2-ed1b-4c04-92c6-0b096520967a",
   "metadata": {},
   "source": [
    "The country emissions are available through the `read_country_emissions()` function. This function will download by default the latest set of reports (currently the V3, publised in November 2024). If the data has already been downloaded, it will use this copy.\n",
    "\n",
    "The format being returned is a Polars `DataFrame`. This format will be very familiar to people used to working with Pandas, Spark or R dataframes. The `GAS_LIST` indicates that we want to load all the gases available.\n",
    "\n",
    "```{admonition}\n",
    "For the first time, this step will download a copy of the Climate TRACE datasets. This may take a while given the size of the datasets (10-15GB for each gas that you download).\n",
    "```"
   ]
  },
  {
   "cell_type": "code",
   "execution_count": 4,
   "id": "c9eea6a9-0f47-45bf-aa06-e156a03250fc",
   "metadata": {},
   "outputs": [],
   "source": [
    "cedf = ct.read_country_emissions(GAS_LIST)"
   ]
  },
  {
   "cell_type": "code",
   "execution_count": 5,
   "id": "35f7d301-eb09-412d-94a7-696fbd5cb439",
   "metadata": {},
   "outputs": [
    {
     "data": {
      "text/html": [
       "<div><style>\n",
       ".dataframe > thead > tr,\n",
       ".dataframe > tbody > tr {\n",
       "  text-align: right;\n",
       "  white-space: pre-wrap;\n",
       "}\n",
       "</style>\n",
       "<small>shape: (3, 11)</small><table border=\"1\" class=\"dataframe\"><thead><tr><th>iso3_country</th><th>start_time</th><th>end_time</th><th>gas</th><th>sector</th><th>subsector</th><th>emissions_quantity</th><th>emissions_quantity_units</th><th>temporal_granularity</th><th>created_date</th><th>modified_date</th></tr><tr><td>enum</td><td>datetime[ms, UTC]</td><td>datetime[ms, UTC]</td><td>enum</td><td>enum</td><td>enum</td><td>f64</td><td>cat</td><td>enum</td><td>datetime[ms, UTC]</td><td>datetime[ms, UTC]</td></tr></thead><tbody><tr><td>&quot;ABW&quot;</td><td>2015-01-01&nbsp;00:00:00&nbsp;UTC</td><td>2015-12-31&nbsp;00:00:00&nbsp;UTC</td><td>&quot;co2&quot;</td><td>&quot;agriculture&quot;</td><td>&quot;crop-residues&quot;</td><td>0.0</td><td>null</td><td>&quot;month&quot;</td><td>null</td><td>null</td></tr><tr><td>&quot;ABW&quot;</td><td>2016-01-01&nbsp;00:00:00&nbsp;UTC</td><td>2016-12-31&nbsp;00:00:00&nbsp;UTC</td><td>&quot;co2&quot;</td><td>&quot;agriculture&quot;</td><td>&quot;crop-residues&quot;</td><td>0.0</td><td>null</td><td>&quot;month&quot;</td><td>null</td><td>null</td></tr><tr><td>&quot;ABW&quot;</td><td>2017-01-01&nbsp;00:00:00&nbsp;UTC</td><td>2017-12-31&nbsp;00:00:00&nbsp;UTC</td><td>&quot;co2&quot;</td><td>&quot;agriculture&quot;</td><td>&quot;crop-residues&quot;</td><td>0.0</td><td>null</td><td>&quot;month&quot;</td><td>null</td><td>null</td></tr></tbody></table></div>"
      ],
      "text/plain": [
       "shape: (3, 11)\n",
       "┌────────────┬────────────┬────────────┬──────┬───┬────────────┬───────────┬───────────┬───────────┐\n",
       "│ iso3_count ┆ start_time ┆ end_time   ┆ gas  ┆ … ┆ emissions_ ┆ temporal_ ┆ created_d ┆ modified_ │\n",
       "│ ry         ┆ ---        ┆ ---        ┆ ---  ┆   ┆ quantity_u ┆ granulari ┆ ate       ┆ date      │\n",
       "│ ---        ┆ datetime[m ┆ datetime[m ┆ enum ┆   ┆ nits       ┆ ty        ┆ ---       ┆ ---       │\n",
       "│ enum       ┆ s, UTC]    ┆ s, UTC]    ┆      ┆   ┆ ---        ┆ ---       ┆ datetime[ ┆ datetime[ │\n",
       "│            ┆            ┆            ┆      ┆   ┆ cat        ┆ enum      ┆ ms, UTC]  ┆ ms, UTC]  │\n",
       "╞════════════╪════════════╪════════════╪══════╪═══╪════════════╪═══════════╪═══════════╪═══════════╡\n",
       "│ ABW        ┆ 2015-01-01 ┆ 2015-12-31 ┆ co2  ┆ … ┆ null       ┆ month     ┆ null      ┆ null      │\n",
       "│            ┆ 00:00:00   ┆ 00:00:00   ┆      ┆   ┆            ┆           ┆           ┆           │\n",
       "│            ┆ UTC        ┆ UTC        ┆      ┆   ┆            ┆           ┆           ┆           │\n",
       "│ ABW        ┆ 2016-01-01 ┆ 2016-12-31 ┆ co2  ┆ … ┆ null       ┆ month     ┆ null      ┆ null      │\n",
       "│            ┆ 00:00:00   ┆ 00:00:00   ┆      ┆   ┆            ┆           ┆           ┆           │\n",
       "│            ┆ UTC        ┆ UTC        ┆      ┆   ┆            ┆           ┆           ┆           │\n",
       "│ ABW        ┆ 2017-01-01 ┆ 2017-12-31 ┆ co2  ┆ … ┆ null       ┆ month     ┆ null      ┆ null      │\n",
       "│            ┆ 00:00:00   ┆ 00:00:00   ┆      ┆   ┆            ┆           ┆           ┆           │\n",
       "│            ┆ UTC        ┆ UTC        ┆      ┆   ┆            ┆           ┆           ┆           │\n",
       "└────────────┴────────────┴────────────┴──────┴───┴────────────┴───────────┴───────────┴───────────┘"
      ]
     },
     "execution_count": 5,
     "metadata": {},
     "output_type": "execute_result"
    }
   ],
   "source": [
    "cedf.head(3)"
   ]
  },
  {
   "cell_type": "markdown",
   "id": "7a69c86f-3b4f-4439-bca3-366144ff4356",
   "metadata": {},
   "source": [
    "# Understanding the data format\n",
    "\n",
    "These rows are a mouthful to digest. Here is how the emissions data is structured.\n",
    "\n",
    "This data is highly structured, which is reflected in the schema itself. This schema has a lot of enumerations (`iso3_country`, `gas`, ...), where only a few values are expected. For example, all the country names are represented by their official [ISO 3166 3-letter country codes](https://en.wikipedia.org/wiki/List_of_ISO_3166_country_codes). Internally, Polars can assign small integers to represent them all, which consumes less memory and speeds up manipulations. This has a further advantage: since we know the values to expect, we can give them names in the code such as `CH4`, `CO2`, .... We can use all the software tools to find and update references to various gas as we work with it. \n",
    "\n",
    "```{admonition} TODO\n",
    "move all this part in its own notebook, this is about technical details\n",
    "```\n"
   ]
  },
  {
   "cell_type": "code",
   "execution_count": 6,
   "id": "37a1e1c6-a92c-4093-bc2e-2a70475adf0d",
   "metadata": {},
   "outputs": [
    {
     "data": {
      "text/plain": [
       "Schema([('iso3_country',\n",
       "         Enum(categories=['ABW', 'AFG', 'AGO', 'AIA', 'ALA', 'ALB', 'AND', 'ARE', 'ARG', 'ARM', 'ASM', 'ATA', 'ATF', 'ATG', 'AUS', 'AUT', 'AZE', 'BDI', 'BEL', 'BEN', 'BES', 'BFA', 'BGD', 'BGR', 'BHR', 'BHS', 'BIH', 'BLM', 'BLR', 'BLZ', 'BMU', 'BOL', 'BRA', 'BRB', 'BRN', 'BTN', 'BVT', 'BWA', 'CAF', 'CAN', 'CCK', 'CHE', 'CHL', 'CHN', 'CIV', 'CMR', 'COD', 'COG', 'COK', 'COL', 'COM', 'CPV', 'CRI', 'CUB', 'CUW', 'CXR', 'CYM', 'CYP', 'CZE', 'DEU', 'DJI', 'DMA', 'DNK', 'DOM', 'DZA', 'ECU', 'EGY', 'ERI', 'ESH', 'ESP', 'EST', 'ETH', 'FIN', 'FJI', 'FLK', 'FRA', 'FRO', 'FSM', 'GAB', 'GBR', 'GEO', 'GGY', 'GHA', 'GIB', 'GIN', 'GLP', 'GMB', 'GNB', 'GNQ', 'GRC', 'GRD', 'GRL', 'GTM', 'GUF', 'GUM', 'GUY', 'HKG', 'HMD', 'HND', 'HRV', 'HTI', 'HUN', 'IDN', 'IMN', 'IND', 'IOT', 'IRL', 'IRN', 'IRQ', 'ISL', 'ISR', 'ITA', 'JAM', 'JEY', 'JOR', 'JPN', 'KAZ', 'KEN', 'KGZ', 'KHM', 'KIR', 'KNA', 'KOR', 'KWT', 'LAO', 'LBN', 'LBR', 'LBY', 'LCA', 'LIE', 'LKA', 'LSO', 'LTU', 'LUX', 'LVA', 'MAC', 'MAF', 'MAR', 'MCO', 'MDA', 'MDG', 'MDV', 'MEX', 'MHL', 'MKD', 'MLI', 'MLT', 'MMR', 'MNE', 'MNG', 'MNP', 'MOZ', 'MRT', 'MSR', 'MTQ', 'MUS', 'MWI', 'MYS', 'MYT', 'NAM', 'NCL', 'NER', 'NFK', 'NGA', 'NIC', 'NIU', 'NLD', 'NOR', 'NPL', 'NRU', 'NZL', 'OMN', 'PAK', 'PAN', 'PCN', 'PER', 'PHL', 'PLW', 'PNG', 'POL', 'PRI', 'PRK', 'PRT', 'PRY', 'PSE', 'PYF', 'QAT', 'REU', 'ROU', 'RUS', 'RWA', 'SAU', 'SDN', 'SEN', 'SGP', 'SGS', 'SHN', 'SJM', 'SLB', 'SLE', 'SLV', 'SMR', 'SOM', 'SPM', 'SRB', 'SSD', 'STP', 'SUR', 'SVK', 'SVN', 'SWE', 'SWZ', 'SXM', 'SYC', 'SYR', 'TCA', 'TCD', 'TGO', 'THA', 'TJK', 'TKL', 'TKM', 'TLS', 'TON', 'TTO', 'TUN', 'TUR', 'TUV', 'TWN', 'TZA', 'UGA', 'UKR', 'UMI', 'URY', 'USA', 'UZB', 'VAT', 'VCT', 'VEN', 'VGB', 'VIR', 'VNM', 'VUT', 'WLF', 'WSM', 'XKX', 'YEM', 'ZAF', 'ZMB', 'ZWE', 'ZNC', 'UNK', 'SCG', 'XAD'])),\n",
       "        ('start_time', Datetime(time_unit='ms', time_zone='UTC')),\n",
       "        ('end_time', Datetime(time_unit='ms', time_zone='UTC')),\n",
       "        ('gas', Enum(categories=['co2', 'co2e_100yr'])),\n",
       "        ('sector',\n",
       "         Enum(categories=['agriculture', 'buildings', 'fluorinated-gases', 'forestry-and-land-use', 'fossil-fuel-operations', 'manufacturing', 'mineral-extraction', 'power', 'transportation', 'waste'])),\n",
       "        ('subsector',\n",
       "         Enum(categories=['aluminum', 'bauxite-mining', 'biological-treatment-of-solid-waste-and-biogenic', 'cement', 'chemicals', 'coal-mining', 'copper-mining', 'crop-residues', 'cropland-fires', 'domestic-aviation', 'domestic-shipping', 'domestic-shipping-ship', 'domestic-wastewater-treatment-and-discharge', 'electricity-generation', 'enteric-fermentation-cattle-operation', 'enteric-fermentation-cattle-pasture', 'enteric-fermentation-other', 'fluorinated-gases', 'food-beverage-tobacco', 'forest-land-clearing', 'forest-land-degradation', 'forest-land-fires', 'glass', 'heat-plants', 'incineration-and-open-burning-of-waste', 'industrial-wastewater-treatment-and-discharge', 'international-aviation', 'international-shipping', 'international-shipping-ship', 'iron-and-steel', 'iron-mining', 'lime', 'manure-applied-to-soils', 'manure-left-on-pasture-cattle', 'manure-management-cattle-operation', 'manure-management-other', 'net-forest-land', 'net-shrubgrass', 'net-wetland', 'non-residential-onsite-fuel-usage', 'oil-and-gas-production', 'oil-and-gas-refining', 'oil-and-gas-transport', 'other-agricultural-soil-emissions', 'other-chemicals', 'other-energy-use', 'other-fossil-fuel-operations', 'other-manufacturing', 'other-metals', 'other-mining-quarrying', 'other-onsite-fuel-usage', 'other-transport', 'petrochemical-steam-cracking', 'pulp-and-paper', 'railways', 'removals', 'residential-onsite-fuel-usage', 'rice-cultivation', 'road-transportation', 'road-transportation-road-segment', 'rock-quarrying', 'sand-quarrying', 'shrubgrass-fires', 'soil-organic-carbon', 'solid-fuel-transformation', 'solid-waste-disposal', 'synthetic-fertilizer-application', 'textiles-leather-apparel', 'water-reservoirs', 'wetland-fires', 'wood-and-wood-products'])),\n",
       "        ('emissions_quantity', Float64),\n",
       "        ('emissions_quantity_units', Categorical(ordering='physical')),\n",
       "        ('temporal_granularity',\n",
       "         Enum(categories=['annual', 'other', 'month', 'week', 'day', 'hour'])),\n",
       "        ('created_date', Datetime(time_unit='ms', time_zone='UTC')),\n",
       "        ('modified_date', Datetime(time_unit='ms', time_zone='UTC'))])"
      ]
     },
     "execution_count": 6,
     "metadata": {},
     "output_type": "execute_result"
    }
   ],
   "source": [
    "cedf.schema"
   ]
  },
  {
   "cell_type": "markdown",
   "id": "4aef5438-e8b1-41d5-bfa0-62307d4f9403",
   "metadata": {},
   "source": [
    "Another trick is to define all the Dataframe _columns_ that we are going to manipulate.\n",
    "For example, there is a column called `gas` that refers to all the gas being tabulated.\n",
    "Coming from the Pandas world, it would be normal to refer to this column:\n",
    "\n",
    "```py\n",
    "cedf_pdf[cedf_pdf[\"gas\"]==\"ch4\"]\n",
    "```\n",
    "\n",
    "Polars offers a more succint syntax by considering an _abstract column_, for example for the gas:"
   ]
  },
  {
   "cell_type": "code",
   "execution_count": 7,
   "id": "db31255d-3854-49b9-8490-2ea461423fef",
   "metadata": {},
   "outputs": [
    {
     "data": {
      "text/html": [
       "col(\"gas\")"
      ],
      "text/plain": [
       "<Expr ['col(\"gas\")'] at 0x7E87A2F750F0>"
      ]
     },
     "execution_count": 7,
     "metadata": {},
     "output_type": "execute_result"
    }
   ],
   "source": [
    "pl.col(\"gas\")"
   ]
  },
  {
   "cell_type": "markdown",
   "id": "8d585d85-0c0b-45f1-b66e-6abc4a30be5d",
   "metadata": {},
   "source": [
    "That `col(\"gas\")` refers to any dataframe column called `gas`. The `select` method operates on a polars dataframe takes such columns as instructions to select specific columns."
   ]
  },
  {
   "cell_type": "code",
   "execution_count": 8,
   "id": "6812f202-9759-42e2-b99a-9c7e43468ae6",
   "metadata": {},
   "outputs": [],
   "source": [
    "cedf.select(pl.col(\"gas\"));"
   ]
  },
  {
   "cell_type": "markdown",
   "id": "30478d30-6104-48ec-a8fd-41318eb7a2bd",
   "metadata": {},
   "source": [
    "The `ctrace` library predefines all the columns defined in the Climate TRACE datasets, all prefixed by the `c_` prefix:"
   ]
  },
  {
   "cell_type": "code",
   "execution_count": 9,
   "id": "78e09c07-6703-49d5-9dd2-d81e0662e6d4",
   "metadata": {},
   "outputs": [
    {
     "data": {
      "text/html": [
       "col(\"gas\")"
      ],
      "text/plain": [
       "<Expr ['col(\"gas\")'] at 0x7E87A33AF5E0>"
      ]
     },
     "execution_count": 9,
     "metadata": {},
     "output_type": "execute_result"
    }
   ],
   "source": [
    "ct.constants.c_gas"
   ]
  },
  {
   "cell_type": "markdown",
   "id": "86de4661-d05a-4a26-9eb8-d875498f45e4",
   "metadata": {},
   "source": [
    "This reduces the chance of making a typo, allows us to use the autocompletion features of editors, and it will catch any mistake before executing the code. Selecting all the data related to CO2 is simply:"
   ]
  },
  {
   "cell_type": "code",
   "execution_count": 10,
   "id": "074dcb9e-af56-4afa-92f1-5c93b9c95c76",
   "metadata": {},
   "outputs": [],
   "source": [
    "# cedf.filter(c_gas == CO2);"
   ]
  },
  {
   "cell_type": "markdown",
   "id": "4e061de9-2bea-4d69-9c49-3cf55f0997fd",
   "metadata": {},
   "source": [
    "# Country checks\n",
    "\n",
    "In this section, we identify the biggest emitters and sort out a few unexpected insights.\n",
    "\n",
    "We focus this analysis on the year *2023* and on the aggregated emissions for carbon dioxyde (CO2). You can look at how the results change when you focus on another specific gas (`co2`, `nh4`, ...) or the global warming potentials (`co2e_100yr`)"
   ]
  },
  {
   "cell_type": "code",
   "execution_count": 27,
   "id": "b4d4b73d-59cb-43f4-ad37-f68c8746be4b",
   "metadata": {},
   "outputs": [],
   "source": [
    "gas = CO2 #gas = CO2E_100YR\n",
    "year = 2024\n",
    "\n",
    "cedf_gy = cedf.filter(c_gas == gas).filter(c_start_time.dt.year()==year)"
   ]
  },
  {
   "cell_type": "markdown",
   "id": "abca0337-d101-4f4e-bea0-e1b8d316411c",
   "metadata": {},
   "source": [
    "First question: how much do we emit? About 50GT of CO2 (gigatonnes of CO2). Note the first wrinkle already: this takes into account the absorption by the vegetation. If we did not take into action the beneficial actions of our friends the trees, our emissions would be already higher. Trees will come back as a complicated topic.\n",
    "\n",
    "Here are the net emissions, taking into account all the contribution of the forestry and land use sector: 55GT of CO2 equivalent"
   ]
  },
  {
   "cell_type": "code",
   "execution_count": 28,
   "id": "fd631d03-f831-4e3e-96b9-9f46104d09e0",
   "metadata": {},
   "outputs": [
    {
     "data": {
      "text/html": [
       "<div><style>\n",
       ".dataframe > thead > tr,\n",
       ".dataframe > tbody > tr {\n",
       "  text-align: right;\n",
       "  white-space: pre-wrap;\n",
       "}\n",
       "</style>\n",
       "<small>shape: (1, 1)</small><table border=\"1\" class=\"dataframe\"><thead><tr><th>emissions_quantity</th></tr><tr><td>f64</td></tr></thead><tbody><tr><td>5.0876e10</td></tr></tbody></table></div>"
      ],
      "text/plain": [
       "shape: (1, 1)\n",
       "┌────────────────────┐\n",
       "│ emissions_quantity │\n",
       "│ ---                │\n",
       "│ f64                │\n",
       "╞════════════════════╡\n",
       "│ 5.0876e10          │\n",
       "└────────────────────┘"
      ]
     },
     "execution_count": 28,
     "metadata": {},
     "output_type": "execute_result"
    }
   ],
   "source": [
    "cedf_gy.select(c_emissions_quantity.sum())"
   ]
  },
  {
   "cell_type": "markdown",
   "id": "4d54729d-db9a-429e-94d5-eef8bff2753e",
   "metadata": {},
   "source": [
    "Looking at the increase by year, we see that the emissions of CO2 are still increasing."
   ]
  },
  {
   "cell_type": "code",
   "execution_count": 29,
   "id": "27331014-2f44-4e11-a77a-48dbe7c3f488",
   "metadata": {},
   "outputs": [
    {
     "data": {
      "application/vnd.plotly.v1+json": {
       "config": {
        "plotlyServerURL": "https://plot.ly"
       },
       "data": [
        {
         "alignmentgroup": "True",
         "hovertemplate": "gas=co2<br>start_time=%{x}<br>emissions_quantity=%{y}<extra></extra>",
         "legendgroup": "co2",
         "marker": {
          "color": "#636efa",
          "pattern": {
           "shape": ""
          }
         },
         "name": "co2",
         "offsetgroup": "co2",
         "orientation": "v",
         "showlegend": true,
         "textposition": "auto",
         "type": "bar",
         "x": [
          2015,
          2016,
          2017,
          2018,
          2019,
          2020,
          2021,
          2022,
          2023,
          2024
         ],
         "xaxis": "x",
         "y": [
          48282862576.5857,
          38394518525.064476,
          43056659311.56854,
          44538761262.06053,
          35062652651.86094,
          43815341342.860954,
          45671779930.566124,
          36294388930.29092,
          50608957895.85706,
          50876315142.73761
         ],
         "yaxis": "y"
        },
        {
         "alignmentgroup": "True",
         "hovertemplate": "gas=co2e_100yr<br>start_time=%{x}<br>emissions_quantity=%{y}<extra></extra>",
         "legendgroup": "co2e_100yr",
         "marker": {
          "color": "#EF553B",
          "pattern": {
           "shape": ""
          }
         },
         "name": "co2e_100yr",
         "offsetgroup": "co2e_100yr",
         "orientation": "v",
         "showlegend": true,
         "textposition": "auto",
         "type": "bar",
         "x": [
          2021,
          2022,
          2023,
          2024
         ],
         "xaxis": "x",
         "y": [
          49609890023.16313,
          48061141916.97937,
          48635094733.16641,
          48706580817.05669
         ],
         "yaxis": "y"
        }
       ],
       "layout": {
        "autosize": true,
        "barmode": "group",
        "legend": {
         "title": {
          "text": "gas"
         },
         "tracegroupgap": 0
        },
        "margin": {
         "t": 60
        },
        "template": {
         "data": {
          "bar": [
           {
            "error_x": {
             "color": "#2a3f5f"
            },
            "error_y": {
             "color": "#2a3f5f"
            },
            "marker": {
             "line": {
              "color": "white",
              "width": 0.5
             },
             "pattern": {
              "fillmode": "overlay",
              "size": 10,
              "solidity": 0.2
             }
            },
            "type": "bar"
           }
          ],
          "barpolar": [
           {
            "marker": {
             "line": {
              "color": "white",
              "width": 0.5
             },
             "pattern": {
              "fillmode": "overlay",
              "size": 10,
              "solidity": 0.2
             }
            },
            "type": "barpolar"
           }
          ],
          "carpet": [
           {
            "aaxis": {
             "endlinecolor": "#2a3f5f",
             "gridcolor": "#C8D4E3",
             "linecolor": "#C8D4E3",
             "minorgridcolor": "#C8D4E3",
             "startlinecolor": "#2a3f5f"
            },
            "baxis": {
             "endlinecolor": "#2a3f5f",
             "gridcolor": "#C8D4E3",
             "linecolor": "#C8D4E3",
             "minorgridcolor": "#C8D4E3",
             "startlinecolor": "#2a3f5f"
            },
            "type": "carpet"
           }
          ],
          "choropleth": [
           {
            "colorbar": {
             "outlinewidth": 0,
             "ticks": ""
            },
            "type": "choropleth"
           }
          ],
          "contour": [
           {
            "colorbar": {
             "outlinewidth": 0,
             "ticks": ""
            },
            "colorscale": [
             [
              0,
              "#0d0887"
             ],
             [
              0.1111111111111111,
              "#46039f"
             ],
             [
              0.2222222222222222,
              "#7201a8"
             ],
             [
              0.3333333333333333,
              "#9c179e"
             ],
             [
              0.4444444444444444,
              "#bd3786"
             ],
             [
              0.5555555555555556,
              "#d8576b"
             ],
             [
              0.6666666666666666,
              "#ed7953"
             ],
             [
              0.7777777777777778,
              "#fb9f3a"
             ],
             [
              0.8888888888888888,
              "#fdca26"
             ],
             [
              1,
              "#f0f921"
             ]
            ],
            "type": "contour"
           }
          ],
          "contourcarpet": [
           {
            "colorbar": {
             "outlinewidth": 0,
             "ticks": ""
            },
            "type": "contourcarpet"
           }
          ],
          "heatmap": [
           {
            "colorbar": {
             "outlinewidth": 0,
             "ticks": ""
            },
            "colorscale": [
             [
              0,
              "#0d0887"
             ],
             [
              0.1111111111111111,
              "#46039f"
             ],
             [
              0.2222222222222222,
              "#7201a8"
             ],
             [
              0.3333333333333333,
              "#9c179e"
             ],
             [
              0.4444444444444444,
              "#bd3786"
             ],
             [
              0.5555555555555556,
              "#d8576b"
             ],
             [
              0.6666666666666666,
              "#ed7953"
             ],
             [
              0.7777777777777778,
              "#fb9f3a"
             ],
             [
              0.8888888888888888,
              "#fdca26"
             ],
             [
              1,
              "#f0f921"
             ]
            ],
            "type": "heatmap"
           }
          ],
          "heatmapgl": [
           {
            "colorbar": {
             "outlinewidth": 0,
             "ticks": ""
            },
            "colorscale": [
             [
              0,
              "#0d0887"
             ],
             [
              0.1111111111111111,
              "#46039f"
             ],
             [
              0.2222222222222222,
              "#7201a8"
             ],
             [
              0.3333333333333333,
              "#9c179e"
             ],
             [
              0.4444444444444444,
              "#bd3786"
             ],
             [
              0.5555555555555556,
              "#d8576b"
             ],
             [
              0.6666666666666666,
              "#ed7953"
             ],
             [
              0.7777777777777778,
              "#fb9f3a"
             ],
             [
              0.8888888888888888,
              "#fdca26"
             ],
             [
              1,
              "#f0f921"
             ]
            ],
            "type": "heatmapgl"
           }
          ],
          "histogram": [
           {
            "marker": {
             "pattern": {
              "fillmode": "overlay",
              "size": 10,
              "solidity": 0.2
             }
            },
            "type": "histogram"
           }
          ],
          "histogram2d": [
           {
            "colorbar": {
             "outlinewidth": 0,
             "ticks": ""
            },
            "colorscale": [
             [
              0,
              "#0d0887"
             ],
             [
              0.1111111111111111,
              "#46039f"
             ],
             [
              0.2222222222222222,
              "#7201a8"
             ],
             [
              0.3333333333333333,
              "#9c179e"
             ],
             [
              0.4444444444444444,
              "#bd3786"
             ],
             [
              0.5555555555555556,
              "#d8576b"
             ],
             [
              0.6666666666666666,
              "#ed7953"
             ],
             [
              0.7777777777777778,
              "#fb9f3a"
             ],
             [
              0.8888888888888888,
              "#fdca26"
             ],
             [
              1,
              "#f0f921"
             ]
            ],
            "type": "histogram2d"
           }
          ],
          "histogram2dcontour": [
           {
            "colorbar": {
             "outlinewidth": 0,
             "ticks": ""
            },
            "colorscale": [
             [
              0,
              "#0d0887"
             ],
             [
              0.1111111111111111,
              "#46039f"
             ],
             [
              0.2222222222222222,
              "#7201a8"
             ],
             [
              0.3333333333333333,
              "#9c179e"
             ],
             [
              0.4444444444444444,
              "#bd3786"
             ],
             [
              0.5555555555555556,
              "#d8576b"
             ],
             [
              0.6666666666666666,
              "#ed7953"
             ],
             [
              0.7777777777777778,
              "#fb9f3a"
             ],
             [
              0.8888888888888888,
              "#fdca26"
             ],
             [
              1,
              "#f0f921"
             ]
            ],
            "type": "histogram2dcontour"
           }
          ],
          "mesh3d": [
           {
            "colorbar": {
             "outlinewidth": 0,
             "ticks": ""
            },
            "type": "mesh3d"
           }
          ],
          "parcoords": [
           {
            "line": {
             "colorbar": {
              "outlinewidth": 0,
              "ticks": ""
             }
            },
            "type": "parcoords"
           }
          ],
          "pie": [
           {
            "automargin": true,
            "type": "pie"
           }
          ],
          "scatter": [
           {
            "fillpattern": {
             "fillmode": "overlay",
             "size": 10,
             "solidity": 0.2
            },
            "type": "scatter"
           }
          ],
          "scatter3d": [
           {
            "line": {
             "colorbar": {
              "outlinewidth": 0,
              "ticks": ""
             }
            },
            "marker": {
             "colorbar": {
              "outlinewidth": 0,
              "ticks": ""
             }
            },
            "type": "scatter3d"
           }
          ],
          "scattercarpet": [
           {
            "marker": {
             "colorbar": {
              "outlinewidth": 0,
              "ticks": ""
             }
            },
            "type": "scattercarpet"
           }
          ],
          "scattergeo": [
           {
            "marker": {
             "colorbar": {
              "outlinewidth": 0,
              "ticks": ""
             }
            },
            "type": "scattergeo"
           }
          ],
          "scattergl": [
           {
            "marker": {
             "colorbar": {
              "outlinewidth": 0,
              "ticks": ""
             }
            },
            "type": "scattergl"
           }
          ],
          "scattermapbox": [
           {
            "marker": {
             "colorbar": {
              "outlinewidth": 0,
              "ticks": ""
             }
            },
            "type": "scattermapbox"
           }
          ],
          "scatterpolar": [
           {
            "marker": {
             "colorbar": {
              "outlinewidth": 0,
              "ticks": ""
             }
            },
            "type": "scatterpolar"
           }
          ],
          "scatterpolargl": [
           {
            "marker": {
             "colorbar": {
              "outlinewidth": 0,
              "ticks": ""
             }
            },
            "type": "scatterpolargl"
           }
          ],
          "scatterternary": [
           {
            "marker": {
             "colorbar": {
              "outlinewidth": 0,
              "ticks": ""
             }
            },
            "type": "scatterternary"
           }
          ],
          "surface": [
           {
            "colorbar": {
             "outlinewidth": 0,
             "ticks": ""
            },
            "colorscale": [
             [
              0,
              "#0d0887"
             ],
             [
              0.1111111111111111,
              "#46039f"
             ],
             [
              0.2222222222222222,
              "#7201a8"
             ],
             [
              0.3333333333333333,
              "#9c179e"
             ],
             [
              0.4444444444444444,
              "#bd3786"
             ],
             [
              0.5555555555555556,
              "#d8576b"
             ],
             [
              0.6666666666666666,
              "#ed7953"
             ],
             [
              0.7777777777777778,
              "#fb9f3a"
             ],
             [
              0.8888888888888888,
              "#fdca26"
             ],
             [
              1,
              "#f0f921"
             ]
            ],
            "type": "surface"
           }
          ],
          "table": [
           {
            "cells": {
             "fill": {
              "color": "#EBF0F8"
             },
             "line": {
              "color": "white"
             }
            },
            "header": {
             "fill": {
              "color": "#C8D4E3"
             },
             "line": {
              "color": "white"
             }
            },
            "type": "table"
           }
          ]
         },
         "layout": {
          "annotationdefaults": {
           "arrowcolor": "#2a3f5f",
           "arrowhead": 0,
           "arrowwidth": 1
          },
          "autotypenumbers": "strict",
          "coloraxis": {
           "colorbar": {
            "outlinewidth": 0,
            "ticks": ""
           }
          },
          "colorscale": {
           "diverging": [
            [
             0,
             "#8e0152"
            ],
            [
             0.1,
             "#c51b7d"
            ],
            [
             0.2,
             "#de77ae"
            ],
            [
             0.3,
             "#f1b6da"
            ],
            [
             0.4,
             "#fde0ef"
            ],
            [
             0.5,
             "#f7f7f7"
            ],
            [
             0.6,
             "#e6f5d0"
            ],
            [
             0.7,
             "#b8e186"
            ],
            [
             0.8,
             "#7fbc41"
            ],
            [
             0.9,
             "#4d9221"
            ],
            [
             1,
             "#276419"
            ]
           ],
           "sequential": [
            [
             0,
             "#0d0887"
            ],
            [
             0.1111111111111111,
             "#46039f"
            ],
            [
             0.2222222222222222,
             "#7201a8"
            ],
            [
             0.3333333333333333,
             "#9c179e"
            ],
            [
             0.4444444444444444,
             "#bd3786"
            ],
            [
             0.5555555555555556,
             "#d8576b"
            ],
            [
             0.6666666666666666,
             "#ed7953"
            ],
            [
             0.7777777777777778,
             "#fb9f3a"
            ],
            [
             0.8888888888888888,
             "#fdca26"
            ],
            [
             1,
             "#f0f921"
            ]
           ],
           "sequentialminus": [
            [
             0,
             "#0d0887"
            ],
            [
             0.1111111111111111,
             "#46039f"
            ],
            [
             0.2222222222222222,
             "#7201a8"
            ],
            [
             0.3333333333333333,
             "#9c179e"
            ],
            [
             0.4444444444444444,
             "#bd3786"
            ],
            [
             0.5555555555555556,
             "#d8576b"
            ],
            [
             0.6666666666666666,
             "#ed7953"
            ],
            [
             0.7777777777777778,
             "#fb9f3a"
            ],
            [
             0.8888888888888888,
             "#fdca26"
            ],
            [
             1,
             "#f0f921"
            ]
           ]
          },
          "colorway": [
           "#636efa",
           "#EF553B",
           "#00cc96",
           "#ab63fa",
           "#FFA15A",
           "#19d3f3",
           "#FF6692",
           "#B6E880",
           "#FF97FF",
           "#FECB52"
          ],
          "font": {
           "color": "#2a3f5f"
          },
          "geo": {
           "bgcolor": "white",
           "lakecolor": "white",
           "landcolor": "white",
           "showlakes": true,
           "showland": true,
           "subunitcolor": "#C8D4E3"
          },
          "hoverlabel": {
           "align": "left"
          },
          "hovermode": "closest",
          "mapbox": {
           "style": "light"
          },
          "paper_bgcolor": "white",
          "plot_bgcolor": "white",
          "polar": {
           "angularaxis": {
            "gridcolor": "#EBF0F8",
            "linecolor": "#EBF0F8",
            "ticks": ""
           },
           "bgcolor": "white",
           "radialaxis": {
            "gridcolor": "#EBF0F8",
            "linecolor": "#EBF0F8",
            "ticks": ""
           }
          },
          "scene": {
           "xaxis": {
            "backgroundcolor": "white",
            "gridcolor": "#DFE8F3",
            "gridwidth": 2,
            "linecolor": "#EBF0F8",
            "showbackground": true,
            "ticks": "",
            "zerolinecolor": "#EBF0F8"
           },
           "yaxis": {
            "backgroundcolor": "white",
            "gridcolor": "#DFE8F3",
            "gridwidth": 2,
            "linecolor": "#EBF0F8",
            "showbackground": true,
            "ticks": "",
            "zerolinecolor": "#EBF0F8"
           },
           "zaxis": {
            "backgroundcolor": "white",
            "gridcolor": "#DFE8F3",
            "gridwidth": 2,
            "linecolor": "#EBF0F8",
            "showbackground": true,
            "ticks": "",
            "zerolinecolor": "#EBF0F8"
           }
          },
          "shapedefaults": {
           "line": {
            "color": "#2a3f5f"
           }
          },
          "ternary": {
           "aaxis": {
            "gridcolor": "#DFE8F3",
            "linecolor": "#A2B1C6",
            "ticks": ""
           },
           "baxis": {
            "gridcolor": "#DFE8F3",
            "linecolor": "#A2B1C6",
            "ticks": ""
           },
           "bgcolor": "white",
           "caxis": {
            "gridcolor": "#DFE8F3",
            "linecolor": "#A2B1C6",
            "ticks": ""
           }
          },
          "title": {
           "x": 0.05
          },
          "xaxis": {
           "automargin": true,
           "gridcolor": "#EBF0F8",
           "linecolor": "#EBF0F8",
           "ticks": "",
           "title": {
            "standoff": 15
           },
           "zerolinecolor": "#EBF0F8",
           "zerolinewidth": 2
          },
          "yaxis": {
           "automargin": true,
           "gridcolor": "#EBF0F8",
           "linecolor": "#EBF0F8",
           "ticks": "",
           "title": {
            "standoff": 15
           },
           "zerolinecolor": "#EBF0F8",
           "zerolinewidth": 2
          }
         }
        },
        "xaxis": {
         "anchor": "y",
         "autorange": true,
         "domain": [
          0,
          1
         ],
         "range": [
          2014.5,
          2024.5
         ],
         "title": {
          "text": "start_time"
         },
         "type": "linear"
        },
        "yaxis": {
         "anchor": "x",
         "autorange": true,
         "domain": [
          0,
          1
         ],
         "range": [
          0,
          53554015939.7238
         ],
         "title": {
          "text": "emissions_quantity"
         },
         "type": "linear"
        }
       }
      },
      "text/html": [
       "<div>                            <div id=\"6e8337d7-05de-4f64-8941-f220dbf5703c\" class=\"plotly-graph-div\" style=\"height:525px; width:100%;\"></div>            <script type=\"text/javascript\">                require([\"plotly\"], function(Plotly) {                    window.PLOTLYENV=window.PLOTLYENV || {};                                    if (document.getElementById(\"6e8337d7-05de-4f64-8941-f220dbf5703c\")) {                    Plotly.newPlot(                        \"6e8337d7-05de-4f64-8941-f220dbf5703c\",                        [{\"alignmentgroup\":\"True\",\"hovertemplate\":\"gas=co2\\u003cbr\\u003estart_time=%{x}\\u003cbr\\u003eemissions_quantity=%{y}\\u003cextra\\u003e\\u003c\\u002fextra\\u003e\",\"legendgroup\":\"co2\",\"marker\":{\"color\":\"#636efa\",\"pattern\":{\"shape\":\"\"}},\"name\":\"co2\",\"offsetgroup\":\"co2\",\"orientation\":\"v\",\"showlegend\":true,\"textposition\":\"auto\",\"x\":[2015,2016,2017,2018,2019,2020,2021,2022,2023,2024],\"xaxis\":\"x\",\"y\":[48282862576.5857,38394518525.064476,43056659311.56854,44538761262.06053,35062652651.86094,43815341342.860954,45671779930.566124,36294388930.29092,50608957895.85706,50876315142.73761],\"yaxis\":\"y\",\"type\":\"bar\"},{\"alignmentgroup\":\"True\",\"hovertemplate\":\"gas=co2e_100yr\\u003cbr\\u003estart_time=%{x}\\u003cbr\\u003eemissions_quantity=%{y}\\u003cextra\\u003e\\u003c\\u002fextra\\u003e\",\"legendgroup\":\"co2e_100yr\",\"marker\":{\"color\":\"#EF553B\",\"pattern\":{\"shape\":\"\"}},\"name\":\"co2e_100yr\",\"offsetgroup\":\"co2e_100yr\",\"orientation\":\"v\",\"showlegend\":true,\"textposition\":\"auto\",\"x\":[2021,2022,2023,2024],\"xaxis\":\"x\",\"y\":[49609890023.16313,48061141916.97937,48635094733.16641,48706580817.05669],\"yaxis\":\"y\",\"type\":\"bar\"}],                        {\"template\":{\"data\":{\"histogram2dcontour\":[{\"type\":\"histogram2dcontour\",\"colorbar\":{\"outlinewidth\":0,\"ticks\":\"\"},\"colorscale\":[[0.0,\"#0d0887\"],[0.1111111111111111,\"#46039f\"],[0.2222222222222222,\"#7201a8\"],[0.3333333333333333,\"#9c179e\"],[0.4444444444444444,\"#bd3786\"],[0.5555555555555556,\"#d8576b\"],[0.6666666666666666,\"#ed7953\"],[0.7777777777777778,\"#fb9f3a\"],[0.8888888888888888,\"#fdca26\"],[1.0,\"#f0f921\"]]}],\"choropleth\":[{\"type\":\"choropleth\",\"colorbar\":{\"outlinewidth\":0,\"ticks\":\"\"}}],\"histogram2d\":[{\"type\":\"histogram2d\",\"colorbar\":{\"outlinewidth\":0,\"ticks\":\"\"},\"colorscale\":[[0.0,\"#0d0887\"],[0.1111111111111111,\"#46039f\"],[0.2222222222222222,\"#7201a8\"],[0.3333333333333333,\"#9c179e\"],[0.4444444444444444,\"#bd3786\"],[0.5555555555555556,\"#d8576b\"],[0.6666666666666666,\"#ed7953\"],[0.7777777777777778,\"#fb9f3a\"],[0.8888888888888888,\"#fdca26\"],[1.0,\"#f0f921\"]]}],\"heatmap\":[{\"type\":\"heatmap\",\"colorbar\":{\"outlinewidth\":0,\"ticks\":\"\"},\"colorscale\":[[0.0,\"#0d0887\"],[0.1111111111111111,\"#46039f\"],[0.2222222222222222,\"#7201a8\"],[0.3333333333333333,\"#9c179e\"],[0.4444444444444444,\"#bd3786\"],[0.5555555555555556,\"#d8576b\"],[0.6666666666666666,\"#ed7953\"],[0.7777777777777778,\"#fb9f3a\"],[0.8888888888888888,\"#fdca26\"],[1.0,\"#f0f921\"]]}],\"heatmapgl\":[{\"type\":\"heatmapgl\",\"colorbar\":{\"outlinewidth\":0,\"ticks\":\"\"},\"colorscale\":[[0.0,\"#0d0887\"],[0.1111111111111111,\"#46039f\"],[0.2222222222222222,\"#7201a8\"],[0.3333333333333333,\"#9c179e\"],[0.4444444444444444,\"#bd3786\"],[0.5555555555555556,\"#d8576b\"],[0.6666666666666666,\"#ed7953\"],[0.7777777777777778,\"#fb9f3a\"],[0.8888888888888888,\"#fdca26\"],[1.0,\"#f0f921\"]]}],\"contourcarpet\":[{\"type\":\"contourcarpet\",\"colorbar\":{\"outlinewidth\":0,\"ticks\":\"\"}}],\"contour\":[{\"type\":\"contour\",\"colorbar\":{\"outlinewidth\":0,\"ticks\":\"\"},\"colorscale\":[[0.0,\"#0d0887\"],[0.1111111111111111,\"#46039f\"],[0.2222222222222222,\"#7201a8\"],[0.3333333333333333,\"#9c179e\"],[0.4444444444444444,\"#bd3786\"],[0.5555555555555556,\"#d8576b\"],[0.6666666666666666,\"#ed7953\"],[0.7777777777777778,\"#fb9f3a\"],[0.8888888888888888,\"#fdca26\"],[1.0,\"#f0f921\"]]}],\"surface\":[{\"type\":\"surface\",\"colorbar\":{\"outlinewidth\":0,\"ticks\":\"\"},\"colorscale\":[[0.0,\"#0d0887\"],[0.1111111111111111,\"#46039f\"],[0.2222222222222222,\"#7201a8\"],[0.3333333333333333,\"#9c179e\"],[0.4444444444444444,\"#bd3786\"],[0.5555555555555556,\"#d8576b\"],[0.6666666666666666,\"#ed7953\"],[0.7777777777777778,\"#fb9f3a\"],[0.8888888888888888,\"#fdca26\"],[1.0,\"#f0f921\"]]}],\"mesh3d\":[{\"type\":\"mesh3d\",\"colorbar\":{\"outlinewidth\":0,\"ticks\":\"\"}}],\"scatter\":[{\"fillpattern\":{\"fillmode\":\"overlay\",\"size\":10,\"solidity\":0.2},\"type\":\"scatter\"}],\"parcoords\":[{\"type\":\"parcoords\",\"line\":{\"colorbar\":{\"outlinewidth\":0,\"ticks\":\"\"}}}],\"scatterpolargl\":[{\"type\":\"scatterpolargl\",\"marker\":{\"colorbar\":{\"outlinewidth\":0,\"ticks\":\"\"}}}],\"bar\":[{\"error_x\":{\"color\":\"#2a3f5f\"},\"error_y\":{\"color\":\"#2a3f5f\"},\"marker\":{\"line\":{\"color\":\"white\",\"width\":0.5},\"pattern\":{\"fillmode\":\"overlay\",\"size\":10,\"solidity\":0.2}},\"type\":\"bar\"}],\"scattergeo\":[{\"type\":\"scattergeo\",\"marker\":{\"colorbar\":{\"outlinewidth\":0,\"ticks\":\"\"}}}],\"scatterpolar\":[{\"type\":\"scatterpolar\",\"marker\":{\"colorbar\":{\"outlinewidth\":0,\"ticks\":\"\"}}}],\"histogram\":[{\"marker\":{\"pattern\":{\"fillmode\":\"overlay\",\"size\":10,\"solidity\":0.2}},\"type\":\"histogram\"}],\"scattergl\":[{\"type\":\"scattergl\",\"marker\":{\"colorbar\":{\"outlinewidth\":0,\"ticks\":\"\"}}}],\"scatter3d\":[{\"type\":\"scatter3d\",\"line\":{\"colorbar\":{\"outlinewidth\":0,\"ticks\":\"\"}},\"marker\":{\"colorbar\":{\"outlinewidth\":0,\"ticks\":\"\"}}}],\"scattermapbox\":[{\"type\":\"scattermapbox\",\"marker\":{\"colorbar\":{\"outlinewidth\":0,\"ticks\":\"\"}}}],\"scatterternary\":[{\"type\":\"scatterternary\",\"marker\":{\"colorbar\":{\"outlinewidth\":0,\"ticks\":\"\"}}}],\"scattercarpet\":[{\"type\":\"scattercarpet\",\"marker\":{\"colorbar\":{\"outlinewidth\":0,\"ticks\":\"\"}}}],\"carpet\":[{\"aaxis\":{\"endlinecolor\":\"#2a3f5f\",\"gridcolor\":\"#C8D4E3\",\"linecolor\":\"#C8D4E3\",\"minorgridcolor\":\"#C8D4E3\",\"startlinecolor\":\"#2a3f5f\"},\"baxis\":{\"endlinecolor\":\"#2a3f5f\",\"gridcolor\":\"#C8D4E3\",\"linecolor\":\"#C8D4E3\",\"minorgridcolor\":\"#C8D4E3\",\"startlinecolor\":\"#2a3f5f\"},\"type\":\"carpet\"}],\"table\":[{\"cells\":{\"fill\":{\"color\":\"#EBF0F8\"},\"line\":{\"color\":\"white\"}},\"header\":{\"fill\":{\"color\":\"#C8D4E3\"},\"line\":{\"color\":\"white\"}},\"type\":\"table\"}],\"barpolar\":[{\"marker\":{\"line\":{\"color\":\"white\",\"width\":0.5},\"pattern\":{\"fillmode\":\"overlay\",\"size\":10,\"solidity\":0.2}},\"type\":\"barpolar\"}],\"pie\":[{\"automargin\":true,\"type\":\"pie\"}]},\"layout\":{\"autotypenumbers\":\"strict\",\"colorway\":[\"#636efa\",\"#EF553B\",\"#00cc96\",\"#ab63fa\",\"#FFA15A\",\"#19d3f3\",\"#FF6692\",\"#B6E880\",\"#FF97FF\",\"#FECB52\"],\"font\":{\"color\":\"#2a3f5f\"},\"hovermode\":\"closest\",\"hoverlabel\":{\"align\":\"left\"},\"paper_bgcolor\":\"white\",\"plot_bgcolor\":\"white\",\"polar\":{\"bgcolor\":\"white\",\"angularaxis\":{\"gridcolor\":\"#EBF0F8\",\"linecolor\":\"#EBF0F8\",\"ticks\":\"\"},\"radialaxis\":{\"gridcolor\":\"#EBF0F8\",\"linecolor\":\"#EBF0F8\",\"ticks\":\"\"}},\"ternary\":{\"bgcolor\":\"white\",\"aaxis\":{\"gridcolor\":\"#DFE8F3\",\"linecolor\":\"#A2B1C6\",\"ticks\":\"\"},\"baxis\":{\"gridcolor\":\"#DFE8F3\",\"linecolor\":\"#A2B1C6\",\"ticks\":\"\"},\"caxis\":{\"gridcolor\":\"#DFE8F3\",\"linecolor\":\"#A2B1C6\",\"ticks\":\"\"}},\"coloraxis\":{\"colorbar\":{\"outlinewidth\":0,\"ticks\":\"\"}},\"colorscale\":{\"sequential\":[[0.0,\"#0d0887\"],[0.1111111111111111,\"#46039f\"],[0.2222222222222222,\"#7201a8\"],[0.3333333333333333,\"#9c179e\"],[0.4444444444444444,\"#bd3786\"],[0.5555555555555556,\"#d8576b\"],[0.6666666666666666,\"#ed7953\"],[0.7777777777777778,\"#fb9f3a\"],[0.8888888888888888,\"#fdca26\"],[1.0,\"#f0f921\"]],\"sequentialminus\":[[0.0,\"#0d0887\"],[0.1111111111111111,\"#46039f\"],[0.2222222222222222,\"#7201a8\"],[0.3333333333333333,\"#9c179e\"],[0.4444444444444444,\"#bd3786\"],[0.5555555555555556,\"#d8576b\"],[0.6666666666666666,\"#ed7953\"],[0.7777777777777778,\"#fb9f3a\"],[0.8888888888888888,\"#fdca26\"],[1.0,\"#f0f921\"]],\"diverging\":[[0,\"#8e0152\"],[0.1,\"#c51b7d\"],[0.2,\"#de77ae\"],[0.3,\"#f1b6da\"],[0.4,\"#fde0ef\"],[0.5,\"#f7f7f7\"],[0.6,\"#e6f5d0\"],[0.7,\"#b8e186\"],[0.8,\"#7fbc41\"],[0.9,\"#4d9221\"],[1,\"#276419\"]]},\"xaxis\":{\"gridcolor\":\"#EBF0F8\",\"linecolor\":\"#EBF0F8\",\"ticks\":\"\",\"title\":{\"standoff\":15},\"zerolinecolor\":\"#EBF0F8\",\"automargin\":true,\"zerolinewidth\":2},\"yaxis\":{\"gridcolor\":\"#EBF0F8\",\"linecolor\":\"#EBF0F8\",\"ticks\":\"\",\"title\":{\"standoff\":15},\"zerolinecolor\":\"#EBF0F8\",\"automargin\":true,\"zerolinewidth\":2},\"scene\":{\"xaxis\":{\"backgroundcolor\":\"white\",\"gridcolor\":\"#DFE8F3\",\"linecolor\":\"#EBF0F8\",\"showbackground\":true,\"ticks\":\"\",\"zerolinecolor\":\"#EBF0F8\",\"gridwidth\":2},\"yaxis\":{\"backgroundcolor\":\"white\",\"gridcolor\":\"#DFE8F3\",\"linecolor\":\"#EBF0F8\",\"showbackground\":true,\"ticks\":\"\",\"zerolinecolor\":\"#EBF0F8\",\"gridwidth\":2},\"zaxis\":{\"backgroundcolor\":\"white\",\"gridcolor\":\"#DFE8F3\",\"linecolor\":\"#EBF0F8\",\"showbackground\":true,\"ticks\":\"\",\"zerolinecolor\":\"#EBF0F8\",\"gridwidth\":2}},\"shapedefaults\":{\"line\":{\"color\":\"#2a3f5f\"}},\"annotationdefaults\":{\"arrowcolor\":\"#2a3f5f\",\"arrowhead\":0,\"arrowwidth\":1},\"geo\":{\"bgcolor\":\"white\",\"landcolor\":\"white\",\"subunitcolor\":\"#C8D4E3\",\"showland\":true,\"showlakes\":true,\"lakecolor\":\"white\"},\"title\":{\"x\":0.05},\"mapbox\":{\"style\":\"light\"}}},\"xaxis\":{\"anchor\":\"y\",\"domain\":[0.0,1.0],\"title\":{\"text\":\"start_time\"}},\"yaxis\":{\"anchor\":\"x\",\"domain\":[0.0,1.0],\"title\":{\"text\":\"emissions_quantity\"}},\"legend\":{\"title\":{\"text\":\"gas\"},\"tracegroupgap\":0},\"margin\":{\"t\":60},\"barmode\":\"group\"},                        {\"responsive\": true}                    ).then(function(){\n",
       "                            \n",
       "var gd = document.getElementById('6e8337d7-05de-4f64-8941-f220dbf5703c');\n",
       "var x = new MutationObserver(function (mutations, observer) {{\n",
       "        var display = window.getComputedStyle(gd).display;\n",
       "        if (!display || display === 'none') {{\n",
       "            console.log([gd, 'removed!']);\n",
       "            Plotly.purge(gd);\n",
       "            observer.disconnect();\n",
       "        }}\n",
       "}});\n",
       "\n",
       "// Listen for the removal of the full notebook cells\n",
       "var notebookContainer = gd.closest('#notebook-container');\n",
       "if (notebookContainer) {{\n",
       "    x.observe(notebookContainer, {childList: true});\n",
       "}}\n",
       "\n",
       "// Listen for the clearing of the current output cell\n",
       "var outputEl = gd.closest('.output');\n",
       "if (outputEl) {{\n",
       "    x.observe(outputEl, {childList: true});\n",
       "}}\n",
       "\n",
       "                        })                };                });            </script>        </div>"
      ]
     },
     "metadata": {},
     "output_type": "display_data"
    }
   ],
   "source": [
    "px.bar(\n",
    "    cedf\n",
    "        #.filter(c_emissions_quantity > 0)\n",
    "        .group_by(c_start_time.dt.year(), c_gas)\n",
    "        .agg(c_emissions_quantity.sum())\n",
    "        .sort(by=c_start_time),\n",
    "    x=\"start_time\", y=\"emissions_quantity\",\n",
    "    color=\"gas\", barmode=\"group\")"
   ]
  },
  {
   "cell_type": "markdown",
   "id": "adf9643d-7b75-4085-b102-04a82111bcfe",
   "metadata": {},
   "source": [
    "Most reports do not account for the forestry and land use, because it is very hard to measure and because there are still some debates on what exactly to report in that category. Excluding this category, we get to a amount of 46GT CO2 equivalent, which is what Climate TRACE reports on its website:"
   ]
  },
  {
   "cell_type": "code",
   "execution_count": 30,
   "id": "16d7a6ea-0861-49fb-901b-5710c220600d",
   "metadata": {},
   "outputs": [
    {
     "data": {
      "text/html": [
       "<div><style>\n",
       ".dataframe > thead > tr,\n",
       ".dataframe > tbody > tr {\n",
       "  text-align: right;\n",
       "  white-space: pre-wrap;\n",
       "}\n",
       "</style>\n",
       "<small>shape: (1, 1)</small><table border=\"1\" class=\"dataframe\"><thead><tr><th>emissions_quantity</th></tr><tr><td>f64</td></tr></thead><tbody><tr><td>4.6442e10</td></tr></tbody></table></div>"
      ],
      "text/plain": [
       "shape: (1, 1)\n",
       "┌────────────────────┐\n",
       "│ emissions_quantity │\n",
       "│ ---                │\n",
       "│ f64                │\n",
       "╞════════════════════╡\n",
       "│ 4.6442e10          │\n",
       "└────────────────────┘"
      ]
     },
     "execution_count": 30,
     "metadata": {},
     "output_type": "execute_result"
    }
   ],
   "source": [
    "(cedf_gy\n",
    " .filter(c_sector != FORESTRY_AND_LAND_USE)\n",
    " .select(c_emissions_quantity.sum()))"
   ]
  },
  {
   "cell_type": "markdown",
   "id": "2360534c-4c18-4c78-bbb3-8fcacdae24dc",
   "metadata": {},
   "source": [
    "For now, we will still include forestry and land use. You will see how much this can skew the figures and why it is at the center of many discussions.\n",
    "\n",
    "And when splitting between sinks and sources"
   ]
  },
  {
   "cell_type": "code",
   "execution_count": 31,
   "id": "a95128c4-9d9d-4fc1-ba03-c6aa8c2b5e45",
   "metadata": {},
   "outputs": [
    {
     "data": {
      "text/html": [
       "<div><style>\n",
       ".dataframe > thead > tr,\n",
       ".dataframe > tbody > tr {\n",
       "  text-align: right;\n",
       "  white-space: pre-wrap;\n",
       "}\n",
       "</style>\n",
       "<small>shape: (2, 2)</small><table border=\"1\" class=\"dataframe\"><thead><tr><th>is_source</th><th>emissions_quantity</th></tr><tr><td>bool</td><td>f64</td></tr></thead><tbody><tr><td>true</td><td>6.6748e10</td></tr><tr><td>false</td><td>-1.5872e10</td></tr></tbody></table></div>"
      ],
      "text/plain": [
       "shape: (2, 2)\n",
       "┌───────────┬────────────────────┐\n",
       "│ is_source ┆ emissions_quantity │\n",
       "│ ---       ┆ ---                │\n",
       "│ bool      ┆ f64                │\n",
       "╞═══════════╪════════════════════╡\n",
       "│ true      ┆ 6.6748e10          │\n",
       "│ false     ┆ -1.5872e10         │\n",
       "└───────────┴────────────────────┘"
      ]
     },
     "execution_count": 31,
     "metadata": {},
     "output_type": "execute_result"
    }
   ],
   "source": [
    "(\n",
    "    cedf_gy\n",
    "    .select([c_emissions_quantity])\n",
    "    .with_columns((c_emissions_quantity > 0).alias(\"is_source\"))\n",
    "    .group_by(\"is_source\")\n",
    "    .agg(c_emissions_quantity.sum())\n",
    "    .drop_nulls()\n",
    ")\n"
   ]
  },
  {
   "cell_type": "markdown",
   "id": "147a09d5-eba9-4dfd-a848-a3ad5f938ce2",
   "metadata": {},
   "source": [
    "Look at the top emitters for all the emissions sources. The usual suspects\n",
    "come at the top (China, USA, Russia). However, it is very important to\n",
    "keep the orders of magnitude in mind: China has more emissions than the next 3 countries (USA, Russia, India) _combined_."
   ]
  },
  {
   "cell_type": "code",
   "execution_count": 32,
   "id": "36f1d59a-807c-4758-be98-9de812cfa2df",
   "metadata": {},
   "outputs": [
    {
     "data": {
      "application/vnd.plotly.v1+json": {
       "config": {
        "plotlyServerURL": "https://plot.ly"
       },
       "data": [
        {
         "alignmentgroup": "True",
         "hovertemplate": "iso3_country=%{x}<br>emissions_quantity=%{y}<extra></extra>",
         "legendgroup": "",
         "marker": {
          "color": "#636efa",
          "pattern": {
           "shape": ""
          }
         },
         "name": "",
         "offsetgroup": "",
         "orientation": "v",
         "showlegend": false,
         "textposition": "auto",
         "type": "bar",
         "x": [
          "CHN",
          "USA",
          "RUS",
          "IND",
          "BRA",
          "AUS",
          "CAN",
          "COD",
          "IDN",
          "AGO",
          "JPN",
          "IRN",
          "MEX",
          "SAU",
          "DEU",
          "KOR",
          "ZAF",
          "MOZ",
          "ZMB",
          "BOL"
         ],
         "xaxis": "x",
         "y": [
          14838789491.525208,
          6236582825.575041,
          3652993685.8504157,
          3047073335.343941,
          2911843798.147751,
          2577494215.783303,
          2249318367.839341,
          1661553570.8680344,
          1499360182.5916417,
          1319123604.2137003,
          1260958228.6630347,
          1045783115.9079386,
          942631802.1189079,
          805410570.366122,
          740055747.8619497,
          735020086.1614013,
          671549051.2683712,
          666567924.9140073,
          631432731.2482765,
          581739637.0856932
         ],
         "yaxis": "y"
        }
       ],
       "layout": {
        "autosize": true,
        "barmode": "relative",
        "legend": {
         "tracegroupgap": 0
        },
        "margin": {
         "t": 60
        },
        "template": {
         "data": {
          "bar": [
           {
            "error_x": {
             "color": "#2a3f5f"
            },
            "error_y": {
             "color": "#2a3f5f"
            },
            "marker": {
             "line": {
              "color": "white",
              "width": 0.5
             },
             "pattern": {
              "fillmode": "overlay",
              "size": 10,
              "solidity": 0.2
             }
            },
            "type": "bar"
           }
          ],
          "barpolar": [
           {
            "marker": {
             "line": {
              "color": "white",
              "width": 0.5
             },
             "pattern": {
              "fillmode": "overlay",
              "size": 10,
              "solidity": 0.2
             }
            },
            "type": "barpolar"
           }
          ],
          "carpet": [
           {
            "aaxis": {
             "endlinecolor": "#2a3f5f",
             "gridcolor": "#C8D4E3",
             "linecolor": "#C8D4E3",
             "minorgridcolor": "#C8D4E3",
             "startlinecolor": "#2a3f5f"
            },
            "baxis": {
             "endlinecolor": "#2a3f5f",
             "gridcolor": "#C8D4E3",
             "linecolor": "#C8D4E3",
             "minorgridcolor": "#C8D4E3",
             "startlinecolor": "#2a3f5f"
            },
            "type": "carpet"
           }
          ],
          "choropleth": [
           {
            "colorbar": {
             "outlinewidth": 0,
             "ticks": ""
            },
            "type": "choropleth"
           }
          ],
          "contour": [
           {
            "colorbar": {
             "outlinewidth": 0,
             "ticks": ""
            },
            "colorscale": [
             [
              0,
              "#0d0887"
             ],
             [
              0.1111111111111111,
              "#46039f"
             ],
             [
              0.2222222222222222,
              "#7201a8"
             ],
             [
              0.3333333333333333,
              "#9c179e"
             ],
             [
              0.4444444444444444,
              "#bd3786"
             ],
             [
              0.5555555555555556,
              "#d8576b"
             ],
             [
              0.6666666666666666,
              "#ed7953"
             ],
             [
              0.7777777777777778,
              "#fb9f3a"
             ],
             [
              0.8888888888888888,
              "#fdca26"
             ],
             [
              1,
              "#f0f921"
             ]
            ],
            "type": "contour"
           }
          ],
          "contourcarpet": [
           {
            "colorbar": {
             "outlinewidth": 0,
             "ticks": ""
            },
            "type": "contourcarpet"
           }
          ],
          "heatmap": [
           {
            "colorbar": {
             "outlinewidth": 0,
             "ticks": ""
            },
            "colorscale": [
             [
              0,
              "#0d0887"
             ],
             [
              0.1111111111111111,
              "#46039f"
             ],
             [
              0.2222222222222222,
              "#7201a8"
             ],
             [
              0.3333333333333333,
              "#9c179e"
             ],
             [
              0.4444444444444444,
              "#bd3786"
             ],
             [
              0.5555555555555556,
              "#d8576b"
             ],
             [
              0.6666666666666666,
              "#ed7953"
             ],
             [
              0.7777777777777778,
              "#fb9f3a"
             ],
             [
              0.8888888888888888,
              "#fdca26"
             ],
             [
              1,
              "#f0f921"
             ]
            ],
            "type": "heatmap"
           }
          ],
          "heatmapgl": [
           {
            "colorbar": {
             "outlinewidth": 0,
             "ticks": ""
            },
            "colorscale": [
             [
              0,
              "#0d0887"
             ],
             [
              0.1111111111111111,
              "#46039f"
             ],
             [
              0.2222222222222222,
              "#7201a8"
             ],
             [
              0.3333333333333333,
              "#9c179e"
             ],
             [
              0.4444444444444444,
              "#bd3786"
             ],
             [
              0.5555555555555556,
              "#d8576b"
             ],
             [
              0.6666666666666666,
              "#ed7953"
             ],
             [
              0.7777777777777778,
              "#fb9f3a"
             ],
             [
              0.8888888888888888,
              "#fdca26"
             ],
             [
              1,
              "#f0f921"
             ]
            ],
            "type": "heatmapgl"
           }
          ],
          "histogram": [
           {
            "marker": {
             "pattern": {
              "fillmode": "overlay",
              "size": 10,
              "solidity": 0.2
             }
            },
            "type": "histogram"
           }
          ],
          "histogram2d": [
           {
            "colorbar": {
             "outlinewidth": 0,
             "ticks": ""
            },
            "colorscale": [
             [
              0,
              "#0d0887"
             ],
             [
              0.1111111111111111,
              "#46039f"
             ],
             [
              0.2222222222222222,
              "#7201a8"
             ],
             [
              0.3333333333333333,
              "#9c179e"
             ],
             [
              0.4444444444444444,
              "#bd3786"
             ],
             [
              0.5555555555555556,
              "#d8576b"
             ],
             [
              0.6666666666666666,
              "#ed7953"
             ],
             [
              0.7777777777777778,
              "#fb9f3a"
             ],
             [
              0.8888888888888888,
              "#fdca26"
             ],
             [
              1,
              "#f0f921"
             ]
            ],
            "type": "histogram2d"
           }
          ],
          "histogram2dcontour": [
           {
            "colorbar": {
             "outlinewidth": 0,
             "ticks": ""
            },
            "colorscale": [
             [
              0,
              "#0d0887"
             ],
             [
              0.1111111111111111,
              "#46039f"
             ],
             [
              0.2222222222222222,
              "#7201a8"
             ],
             [
              0.3333333333333333,
              "#9c179e"
             ],
             [
              0.4444444444444444,
              "#bd3786"
             ],
             [
              0.5555555555555556,
              "#d8576b"
             ],
             [
              0.6666666666666666,
              "#ed7953"
             ],
             [
              0.7777777777777778,
              "#fb9f3a"
             ],
             [
              0.8888888888888888,
              "#fdca26"
             ],
             [
              1,
              "#f0f921"
             ]
            ],
            "type": "histogram2dcontour"
           }
          ],
          "mesh3d": [
           {
            "colorbar": {
             "outlinewidth": 0,
             "ticks": ""
            },
            "type": "mesh3d"
           }
          ],
          "parcoords": [
           {
            "line": {
             "colorbar": {
              "outlinewidth": 0,
              "ticks": ""
             }
            },
            "type": "parcoords"
           }
          ],
          "pie": [
           {
            "automargin": true,
            "type": "pie"
           }
          ],
          "scatter": [
           {
            "fillpattern": {
             "fillmode": "overlay",
             "size": 10,
             "solidity": 0.2
            },
            "type": "scatter"
           }
          ],
          "scatter3d": [
           {
            "line": {
             "colorbar": {
              "outlinewidth": 0,
              "ticks": ""
             }
            },
            "marker": {
             "colorbar": {
              "outlinewidth": 0,
              "ticks": ""
             }
            },
            "type": "scatter3d"
           }
          ],
          "scattercarpet": [
           {
            "marker": {
             "colorbar": {
              "outlinewidth": 0,
              "ticks": ""
             }
            },
            "type": "scattercarpet"
           }
          ],
          "scattergeo": [
           {
            "marker": {
             "colorbar": {
              "outlinewidth": 0,
              "ticks": ""
             }
            },
            "type": "scattergeo"
           }
          ],
          "scattergl": [
           {
            "marker": {
             "colorbar": {
              "outlinewidth": 0,
              "ticks": ""
             }
            },
            "type": "scattergl"
           }
          ],
          "scattermapbox": [
           {
            "marker": {
             "colorbar": {
              "outlinewidth": 0,
              "ticks": ""
             }
            },
            "type": "scattermapbox"
           }
          ],
          "scatterpolar": [
           {
            "marker": {
             "colorbar": {
              "outlinewidth": 0,
              "ticks": ""
             }
            },
            "type": "scatterpolar"
           }
          ],
          "scatterpolargl": [
           {
            "marker": {
             "colorbar": {
              "outlinewidth": 0,
              "ticks": ""
             }
            },
            "type": "scatterpolargl"
           }
          ],
          "scatterternary": [
           {
            "marker": {
             "colorbar": {
              "outlinewidth": 0,
              "ticks": ""
             }
            },
            "type": "scatterternary"
           }
          ],
          "surface": [
           {
            "colorbar": {
             "outlinewidth": 0,
             "ticks": ""
            },
            "colorscale": [
             [
              0,
              "#0d0887"
             ],
             [
              0.1111111111111111,
              "#46039f"
             ],
             [
              0.2222222222222222,
              "#7201a8"
             ],
             [
              0.3333333333333333,
              "#9c179e"
             ],
             [
              0.4444444444444444,
              "#bd3786"
             ],
             [
              0.5555555555555556,
              "#d8576b"
             ],
             [
              0.6666666666666666,
              "#ed7953"
             ],
             [
              0.7777777777777778,
              "#fb9f3a"
             ],
             [
              0.8888888888888888,
              "#fdca26"
             ],
             [
              1,
              "#f0f921"
             ]
            ],
            "type": "surface"
           }
          ],
          "table": [
           {
            "cells": {
             "fill": {
              "color": "#EBF0F8"
             },
             "line": {
              "color": "white"
             }
            },
            "header": {
             "fill": {
              "color": "#C8D4E3"
             },
             "line": {
              "color": "white"
             }
            },
            "type": "table"
           }
          ]
         },
         "layout": {
          "annotationdefaults": {
           "arrowcolor": "#2a3f5f",
           "arrowhead": 0,
           "arrowwidth": 1
          },
          "autotypenumbers": "strict",
          "coloraxis": {
           "colorbar": {
            "outlinewidth": 0,
            "ticks": ""
           }
          },
          "colorscale": {
           "diverging": [
            [
             0,
             "#8e0152"
            ],
            [
             0.1,
             "#c51b7d"
            ],
            [
             0.2,
             "#de77ae"
            ],
            [
             0.3,
             "#f1b6da"
            ],
            [
             0.4,
             "#fde0ef"
            ],
            [
             0.5,
             "#f7f7f7"
            ],
            [
             0.6,
             "#e6f5d0"
            ],
            [
             0.7,
             "#b8e186"
            ],
            [
             0.8,
             "#7fbc41"
            ],
            [
             0.9,
             "#4d9221"
            ],
            [
             1,
             "#276419"
            ]
           ],
           "sequential": [
            [
             0,
             "#0d0887"
            ],
            [
             0.1111111111111111,
             "#46039f"
            ],
            [
             0.2222222222222222,
             "#7201a8"
            ],
            [
             0.3333333333333333,
             "#9c179e"
            ],
            [
             0.4444444444444444,
             "#bd3786"
            ],
            [
             0.5555555555555556,
             "#d8576b"
            ],
            [
             0.6666666666666666,
             "#ed7953"
            ],
            [
             0.7777777777777778,
             "#fb9f3a"
            ],
            [
             0.8888888888888888,
             "#fdca26"
            ],
            [
             1,
             "#f0f921"
            ]
           ],
           "sequentialminus": [
            [
             0,
             "#0d0887"
            ],
            [
             0.1111111111111111,
             "#46039f"
            ],
            [
             0.2222222222222222,
             "#7201a8"
            ],
            [
             0.3333333333333333,
             "#9c179e"
            ],
            [
             0.4444444444444444,
             "#bd3786"
            ],
            [
             0.5555555555555556,
             "#d8576b"
            ],
            [
             0.6666666666666666,
             "#ed7953"
            ],
            [
             0.7777777777777778,
             "#fb9f3a"
            ],
            [
             0.8888888888888888,
             "#fdca26"
            ],
            [
             1,
             "#f0f921"
            ]
           ]
          },
          "colorway": [
           "#636efa",
           "#EF553B",
           "#00cc96",
           "#ab63fa",
           "#FFA15A",
           "#19d3f3",
           "#FF6692",
           "#B6E880",
           "#FF97FF",
           "#FECB52"
          ],
          "font": {
           "color": "#2a3f5f"
          },
          "geo": {
           "bgcolor": "white",
           "lakecolor": "white",
           "landcolor": "white",
           "showlakes": true,
           "showland": true,
           "subunitcolor": "#C8D4E3"
          },
          "hoverlabel": {
           "align": "left"
          },
          "hovermode": "closest",
          "mapbox": {
           "style": "light"
          },
          "paper_bgcolor": "white",
          "plot_bgcolor": "white",
          "polar": {
           "angularaxis": {
            "gridcolor": "#EBF0F8",
            "linecolor": "#EBF0F8",
            "ticks": ""
           },
           "bgcolor": "white",
           "radialaxis": {
            "gridcolor": "#EBF0F8",
            "linecolor": "#EBF0F8",
            "ticks": ""
           }
          },
          "scene": {
           "xaxis": {
            "backgroundcolor": "white",
            "gridcolor": "#DFE8F3",
            "gridwidth": 2,
            "linecolor": "#EBF0F8",
            "showbackground": true,
            "ticks": "",
            "zerolinecolor": "#EBF0F8"
           },
           "yaxis": {
            "backgroundcolor": "white",
            "gridcolor": "#DFE8F3",
            "gridwidth": 2,
            "linecolor": "#EBF0F8",
            "showbackground": true,
            "ticks": "",
            "zerolinecolor": "#EBF0F8"
           },
           "zaxis": {
            "backgroundcolor": "white",
            "gridcolor": "#DFE8F3",
            "gridwidth": 2,
            "linecolor": "#EBF0F8",
            "showbackground": true,
            "ticks": "",
            "zerolinecolor": "#EBF0F8"
           }
          },
          "shapedefaults": {
           "line": {
            "color": "#2a3f5f"
           }
          },
          "ternary": {
           "aaxis": {
            "gridcolor": "#DFE8F3",
            "linecolor": "#A2B1C6",
            "ticks": ""
           },
           "baxis": {
            "gridcolor": "#DFE8F3",
            "linecolor": "#A2B1C6",
            "ticks": ""
           },
           "bgcolor": "white",
           "caxis": {
            "gridcolor": "#DFE8F3",
            "linecolor": "#A2B1C6",
            "ticks": ""
           }
          },
          "title": {
           "x": 0.05
          },
          "xaxis": {
           "automargin": true,
           "gridcolor": "#EBF0F8",
           "linecolor": "#EBF0F8",
           "ticks": "",
           "title": {
            "standoff": 15
           },
           "zerolinecolor": "#EBF0F8",
           "zerolinewidth": 2
          },
          "yaxis": {
           "automargin": true,
           "gridcolor": "#EBF0F8",
           "linecolor": "#EBF0F8",
           "ticks": "",
           "title": {
            "standoff": 15
           },
           "zerolinecolor": "#EBF0F8",
           "zerolinewidth": 2
          }
         }
        },
        "xaxis": {
         "anchor": "y",
         "autorange": true,
         "domain": [
          0,
          1
         ],
         "range": [
          -0.5,
          19.5
         ],
         "title": {
          "text": "iso3_country"
         },
         "type": "category"
        },
        "yaxis": {
         "anchor": "x",
         "autorange": true,
         "domain": [
          0,
          1
         ],
         "range": [
          0,
          15619778412.131798
         ],
         "title": {
          "text": "emissions_quantity"
         },
         "type": "linear"
        }
       }
      },
      "text/html": [
       "<div>                            <div id=\"d8411629-541a-423b-9df2-722b63c69bdf\" class=\"plotly-graph-div\" style=\"height:525px; width:100%;\"></div>            <script type=\"text/javascript\">                require([\"plotly\"], function(Plotly) {                    window.PLOTLYENV=window.PLOTLYENV || {};                                    if (document.getElementById(\"d8411629-541a-423b-9df2-722b63c69bdf\")) {                    Plotly.newPlot(                        \"d8411629-541a-423b-9df2-722b63c69bdf\",                        [{\"alignmentgroup\":\"True\",\"hovertemplate\":\"iso3_country=%{x}\\u003cbr\\u003eemissions_quantity=%{y}\\u003cextra\\u003e\\u003c\\u002fextra\\u003e\",\"legendgroup\":\"\",\"marker\":{\"color\":\"#636efa\",\"pattern\":{\"shape\":\"\"}},\"name\":\"\",\"offsetgroup\":\"\",\"orientation\":\"v\",\"showlegend\":false,\"textposition\":\"auto\",\"x\":[\"CHN\",\"USA\",\"RUS\",\"IND\",\"BRA\",\"AUS\",\"CAN\",\"COD\",\"IDN\",\"AGO\",\"JPN\",\"IRN\",\"MEX\",\"SAU\",\"DEU\",\"KOR\",\"ZAF\",\"MOZ\",\"ZMB\",\"BOL\"],\"xaxis\":\"x\",\"y\":[14838789491.525208,6236582825.575041,3652993685.8504157,3047073335.343941,2911843798.147751,2577494215.783303,2249318367.839341,1661553570.8680344,1499360182.5916417,1319123604.2137003,1260958228.6630347,1045783115.9079386,942631802.1189079,805410570.366122,740055747.8619497,735020086.1614013,671549051.2683712,666567924.9140073,631432731.2482765,581739637.0856932],\"yaxis\":\"y\",\"type\":\"bar\"}],                        {\"template\":{\"data\":{\"histogram2dcontour\":[{\"type\":\"histogram2dcontour\",\"colorbar\":{\"outlinewidth\":0,\"ticks\":\"\"},\"colorscale\":[[0.0,\"#0d0887\"],[0.1111111111111111,\"#46039f\"],[0.2222222222222222,\"#7201a8\"],[0.3333333333333333,\"#9c179e\"],[0.4444444444444444,\"#bd3786\"],[0.5555555555555556,\"#d8576b\"],[0.6666666666666666,\"#ed7953\"],[0.7777777777777778,\"#fb9f3a\"],[0.8888888888888888,\"#fdca26\"],[1.0,\"#f0f921\"]]}],\"choropleth\":[{\"type\":\"choropleth\",\"colorbar\":{\"outlinewidth\":0,\"ticks\":\"\"}}],\"histogram2d\":[{\"type\":\"histogram2d\",\"colorbar\":{\"outlinewidth\":0,\"ticks\":\"\"},\"colorscale\":[[0.0,\"#0d0887\"],[0.1111111111111111,\"#46039f\"],[0.2222222222222222,\"#7201a8\"],[0.3333333333333333,\"#9c179e\"],[0.4444444444444444,\"#bd3786\"],[0.5555555555555556,\"#d8576b\"],[0.6666666666666666,\"#ed7953\"],[0.7777777777777778,\"#fb9f3a\"],[0.8888888888888888,\"#fdca26\"],[1.0,\"#f0f921\"]]}],\"heatmap\":[{\"type\":\"heatmap\",\"colorbar\":{\"outlinewidth\":0,\"ticks\":\"\"},\"colorscale\":[[0.0,\"#0d0887\"],[0.1111111111111111,\"#46039f\"],[0.2222222222222222,\"#7201a8\"],[0.3333333333333333,\"#9c179e\"],[0.4444444444444444,\"#bd3786\"],[0.5555555555555556,\"#d8576b\"],[0.6666666666666666,\"#ed7953\"],[0.7777777777777778,\"#fb9f3a\"],[0.8888888888888888,\"#fdca26\"],[1.0,\"#f0f921\"]]}],\"heatmapgl\":[{\"type\":\"heatmapgl\",\"colorbar\":{\"outlinewidth\":0,\"ticks\":\"\"},\"colorscale\":[[0.0,\"#0d0887\"],[0.1111111111111111,\"#46039f\"],[0.2222222222222222,\"#7201a8\"],[0.3333333333333333,\"#9c179e\"],[0.4444444444444444,\"#bd3786\"],[0.5555555555555556,\"#d8576b\"],[0.6666666666666666,\"#ed7953\"],[0.7777777777777778,\"#fb9f3a\"],[0.8888888888888888,\"#fdca26\"],[1.0,\"#f0f921\"]]}],\"contourcarpet\":[{\"type\":\"contourcarpet\",\"colorbar\":{\"outlinewidth\":0,\"ticks\":\"\"}}],\"contour\":[{\"type\":\"contour\",\"colorbar\":{\"outlinewidth\":0,\"ticks\":\"\"},\"colorscale\":[[0.0,\"#0d0887\"],[0.1111111111111111,\"#46039f\"],[0.2222222222222222,\"#7201a8\"],[0.3333333333333333,\"#9c179e\"],[0.4444444444444444,\"#bd3786\"],[0.5555555555555556,\"#d8576b\"],[0.6666666666666666,\"#ed7953\"],[0.7777777777777778,\"#fb9f3a\"],[0.8888888888888888,\"#fdca26\"],[1.0,\"#f0f921\"]]}],\"surface\":[{\"type\":\"surface\",\"colorbar\":{\"outlinewidth\":0,\"ticks\":\"\"},\"colorscale\":[[0.0,\"#0d0887\"],[0.1111111111111111,\"#46039f\"],[0.2222222222222222,\"#7201a8\"],[0.3333333333333333,\"#9c179e\"],[0.4444444444444444,\"#bd3786\"],[0.5555555555555556,\"#d8576b\"],[0.6666666666666666,\"#ed7953\"],[0.7777777777777778,\"#fb9f3a\"],[0.8888888888888888,\"#fdca26\"],[1.0,\"#f0f921\"]]}],\"mesh3d\":[{\"type\":\"mesh3d\",\"colorbar\":{\"outlinewidth\":0,\"ticks\":\"\"}}],\"scatter\":[{\"fillpattern\":{\"fillmode\":\"overlay\",\"size\":10,\"solidity\":0.2},\"type\":\"scatter\"}],\"parcoords\":[{\"type\":\"parcoords\",\"line\":{\"colorbar\":{\"outlinewidth\":0,\"ticks\":\"\"}}}],\"scatterpolargl\":[{\"type\":\"scatterpolargl\",\"marker\":{\"colorbar\":{\"outlinewidth\":0,\"ticks\":\"\"}}}],\"bar\":[{\"error_x\":{\"color\":\"#2a3f5f\"},\"error_y\":{\"color\":\"#2a3f5f\"},\"marker\":{\"line\":{\"color\":\"white\",\"width\":0.5},\"pattern\":{\"fillmode\":\"overlay\",\"size\":10,\"solidity\":0.2}},\"type\":\"bar\"}],\"scattergeo\":[{\"type\":\"scattergeo\",\"marker\":{\"colorbar\":{\"outlinewidth\":0,\"ticks\":\"\"}}}],\"scatterpolar\":[{\"type\":\"scatterpolar\",\"marker\":{\"colorbar\":{\"outlinewidth\":0,\"ticks\":\"\"}}}],\"histogram\":[{\"marker\":{\"pattern\":{\"fillmode\":\"overlay\",\"size\":10,\"solidity\":0.2}},\"type\":\"histogram\"}],\"scattergl\":[{\"type\":\"scattergl\",\"marker\":{\"colorbar\":{\"outlinewidth\":0,\"ticks\":\"\"}}}],\"scatter3d\":[{\"type\":\"scatter3d\",\"line\":{\"colorbar\":{\"outlinewidth\":0,\"ticks\":\"\"}},\"marker\":{\"colorbar\":{\"outlinewidth\":0,\"ticks\":\"\"}}}],\"scattermapbox\":[{\"type\":\"scattermapbox\",\"marker\":{\"colorbar\":{\"outlinewidth\":0,\"ticks\":\"\"}}}],\"scatterternary\":[{\"type\":\"scatterternary\",\"marker\":{\"colorbar\":{\"outlinewidth\":0,\"ticks\":\"\"}}}],\"scattercarpet\":[{\"type\":\"scattercarpet\",\"marker\":{\"colorbar\":{\"outlinewidth\":0,\"ticks\":\"\"}}}],\"carpet\":[{\"aaxis\":{\"endlinecolor\":\"#2a3f5f\",\"gridcolor\":\"#C8D4E3\",\"linecolor\":\"#C8D4E3\",\"minorgridcolor\":\"#C8D4E3\",\"startlinecolor\":\"#2a3f5f\"},\"baxis\":{\"endlinecolor\":\"#2a3f5f\",\"gridcolor\":\"#C8D4E3\",\"linecolor\":\"#C8D4E3\",\"minorgridcolor\":\"#C8D4E3\",\"startlinecolor\":\"#2a3f5f\"},\"type\":\"carpet\"}],\"table\":[{\"cells\":{\"fill\":{\"color\":\"#EBF0F8\"},\"line\":{\"color\":\"white\"}},\"header\":{\"fill\":{\"color\":\"#C8D4E3\"},\"line\":{\"color\":\"white\"}},\"type\":\"table\"}],\"barpolar\":[{\"marker\":{\"line\":{\"color\":\"white\",\"width\":0.5},\"pattern\":{\"fillmode\":\"overlay\",\"size\":10,\"solidity\":0.2}},\"type\":\"barpolar\"}],\"pie\":[{\"automargin\":true,\"type\":\"pie\"}]},\"layout\":{\"autotypenumbers\":\"strict\",\"colorway\":[\"#636efa\",\"#EF553B\",\"#00cc96\",\"#ab63fa\",\"#FFA15A\",\"#19d3f3\",\"#FF6692\",\"#B6E880\",\"#FF97FF\",\"#FECB52\"],\"font\":{\"color\":\"#2a3f5f\"},\"hovermode\":\"closest\",\"hoverlabel\":{\"align\":\"left\"},\"paper_bgcolor\":\"white\",\"plot_bgcolor\":\"white\",\"polar\":{\"bgcolor\":\"white\",\"angularaxis\":{\"gridcolor\":\"#EBF0F8\",\"linecolor\":\"#EBF0F8\",\"ticks\":\"\"},\"radialaxis\":{\"gridcolor\":\"#EBF0F8\",\"linecolor\":\"#EBF0F8\",\"ticks\":\"\"}},\"ternary\":{\"bgcolor\":\"white\",\"aaxis\":{\"gridcolor\":\"#DFE8F3\",\"linecolor\":\"#A2B1C6\",\"ticks\":\"\"},\"baxis\":{\"gridcolor\":\"#DFE8F3\",\"linecolor\":\"#A2B1C6\",\"ticks\":\"\"},\"caxis\":{\"gridcolor\":\"#DFE8F3\",\"linecolor\":\"#A2B1C6\",\"ticks\":\"\"}},\"coloraxis\":{\"colorbar\":{\"outlinewidth\":0,\"ticks\":\"\"}},\"colorscale\":{\"sequential\":[[0.0,\"#0d0887\"],[0.1111111111111111,\"#46039f\"],[0.2222222222222222,\"#7201a8\"],[0.3333333333333333,\"#9c179e\"],[0.4444444444444444,\"#bd3786\"],[0.5555555555555556,\"#d8576b\"],[0.6666666666666666,\"#ed7953\"],[0.7777777777777778,\"#fb9f3a\"],[0.8888888888888888,\"#fdca26\"],[1.0,\"#f0f921\"]],\"sequentialminus\":[[0.0,\"#0d0887\"],[0.1111111111111111,\"#46039f\"],[0.2222222222222222,\"#7201a8\"],[0.3333333333333333,\"#9c179e\"],[0.4444444444444444,\"#bd3786\"],[0.5555555555555556,\"#d8576b\"],[0.6666666666666666,\"#ed7953\"],[0.7777777777777778,\"#fb9f3a\"],[0.8888888888888888,\"#fdca26\"],[1.0,\"#f0f921\"]],\"diverging\":[[0,\"#8e0152\"],[0.1,\"#c51b7d\"],[0.2,\"#de77ae\"],[0.3,\"#f1b6da\"],[0.4,\"#fde0ef\"],[0.5,\"#f7f7f7\"],[0.6,\"#e6f5d0\"],[0.7,\"#b8e186\"],[0.8,\"#7fbc41\"],[0.9,\"#4d9221\"],[1,\"#276419\"]]},\"xaxis\":{\"gridcolor\":\"#EBF0F8\",\"linecolor\":\"#EBF0F8\",\"ticks\":\"\",\"title\":{\"standoff\":15},\"zerolinecolor\":\"#EBF0F8\",\"automargin\":true,\"zerolinewidth\":2},\"yaxis\":{\"gridcolor\":\"#EBF0F8\",\"linecolor\":\"#EBF0F8\",\"ticks\":\"\",\"title\":{\"standoff\":15},\"zerolinecolor\":\"#EBF0F8\",\"automargin\":true,\"zerolinewidth\":2},\"scene\":{\"xaxis\":{\"backgroundcolor\":\"white\",\"gridcolor\":\"#DFE8F3\",\"linecolor\":\"#EBF0F8\",\"showbackground\":true,\"ticks\":\"\",\"zerolinecolor\":\"#EBF0F8\",\"gridwidth\":2},\"yaxis\":{\"backgroundcolor\":\"white\",\"gridcolor\":\"#DFE8F3\",\"linecolor\":\"#EBF0F8\",\"showbackground\":true,\"ticks\":\"\",\"zerolinecolor\":\"#EBF0F8\",\"gridwidth\":2},\"zaxis\":{\"backgroundcolor\":\"white\",\"gridcolor\":\"#DFE8F3\",\"linecolor\":\"#EBF0F8\",\"showbackground\":true,\"ticks\":\"\",\"zerolinecolor\":\"#EBF0F8\",\"gridwidth\":2}},\"shapedefaults\":{\"line\":{\"color\":\"#2a3f5f\"}},\"annotationdefaults\":{\"arrowcolor\":\"#2a3f5f\",\"arrowhead\":0,\"arrowwidth\":1},\"geo\":{\"bgcolor\":\"white\",\"landcolor\":\"white\",\"subunitcolor\":\"#C8D4E3\",\"showland\":true,\"showlakes\":true,\"lakecolor\":\"white\"},\"title\":{\"x\":0.05},\"mapbox\":{\"style\":\"light\"}}},\"xaxis\":{\"anchor\":\"y\",\"domain\":[0.0,1.0],\"title\":{\"text\":\"iso3_country\"}},\"yaxis\":{\"anchor\":\"x\",\"domain\":[0.0,1.0],\"title\":{\"text\":\"emissions_quantity\"}},\"legend\":{\"tracegroupgap\":0},\"margin\":{\"t\":60},\"barmode\":\"relative\"},                        {\"responsive\": true}                    ).then(function(){\n",
       "                            \n",
       "var gd = document.getElementById('d8411629-541a-423b-9df2-722b63c69bdf');\n",
       "var x = new MutationObserver(function (mutations, observer) {{\n",
       "        var display = window.getComputedStyle(gd).display;\n",
       "        if (!display || display === 'none') {{\n",
       "            console.log([gd, 'removed!']);\n",
       "            Plotly.purge(gd);\n",
       "            observer.disconnect();\n",
       "        }}\n",
       "}});\n",
       "\n",
       "// Listen for the removal of the full notebook cells\n",
       "var notebookContainer = gd.closest('#notebook-container');\n",
       "if (notebookContainer) {{\n",
       "    x.observe(notebookContainer, {childList: true});\n",
       "}}\n",
       "\n",
       "// Listen for the clearing of the current output cell\n",
       "var outputEl = gd.closest('.output');\n",
       "if (outputEl) {{\n",
       "    x.observe(outputEl, {childList: true});\n",
       "}}\n",
       "\n",
       "                        })                };                });            </script>        </div>"
      ]
     },
     "metadata": {},
     "output_type": "display_data"
    }
   ],
   "source": [
    "px.bar(cedf_gy\n",
    "    .filter(c_emissions_quantity > 0)\n",
    "    .group_by(c_iso3_country)\n",
    "    .agg(c_emissions_quantity.sum())\n",
    "    .sort([c_emissions_quantity], descending=True)\n",
    "    .head(20)\n",
    ",x=ISO3_COUNTRY, y=EMISSIONS_QUANTITY,log_y=False)\n"
   ]
  },
  {
   "cell_type": "markdown",
   "id": "d7b1770b-047a-42de-9047-920d0234af40",
   "metadata": {},
   "source": [
    "Looking at each sector gives quickly a nuanced sector and shows the difference\n",
    "between the various countries.\n",
    "\n",
    "- the Chinese electricity sector emits more than Western Europe combined. This is not to say that Europeans should not make efforts - they should!. But these efforts can come from many ways, such as incentivizing China to reduce the role of coal in its domestic supply of electricity.\n",
    "\n",
    "- the emissions from the oil and gas sector in Russia is bigger than all the emissions of Germany. These emissions are typically quick wins (fixing leaks on old pipes).\n",
    "\n",
    "- Zimbabwe and Mozambique have as much gross emissions together as Japan! Clearing forested areas are very bad for the climate and have only short-term economic benefits. Finding fairer ways to preserve natural resources would also go a long way towards helping developing countries achieve their goals.\n",
    "\n",
    "- France is about twice as big as Russia looking at the economy (GDP), yet it contributes much less. This view emphasizes _direct_ emissions (where gases are emitted), not the _indirect_ emissions from consumption.\n",
    "\n",
    "```{admonition} CTODO\n",
    ":name: sec-emissions\n",
    "Check these conclusions with experts\n",
    "```\n"
   ]
  },
  {
   "cell_type": "code",
   "execution_count": 33,
   "id": "5bb687c7-a8d0-400f-8c26-527c0208548c",
   "metadata": {},
   "outputs": [
    {
     "data": {
      "application/vnd.plotly.v1+json": {
       "config": {
        "plotlyServerURL": "https://plot.ly"
       },
       "data": [
        {
         "alignmentgroup": "True",
         "hovertemplate": "subsector=electricity-generation<br>iso3_country=%{x}<br>emissions_quantity=%{y}<extra></extra>",
         "legendgroup": "electricity-generation",
         "marker": {
          "color": "#636efa",
          "pattern": {
           "shape": ""
          }
         },
         "name": "electricity-generation",
         "offsetgroup": "electricity-generation",
         "orientation": "v",
         "showlegend": true,
         "textposition": "auto",
         "type": "bar",
         "x": [
          "CHN",
          "USA",
          "IND",
          "RUS",
          "FRA",
          "NLD",
          "MOZ"
         ],
         "xaxis": "x",
         "y": [
          5159494900,
          1452448793.57,
          1331595940,
          620104270,
          27773819,
          25965011,
          1482096
         ],
         "yaxis": "y"
        },
        {
         "alignmentgroup": "True",
         "hovertemplate": "subsector=iron-and-steel<br>iso3_country=%{x}<br>emissions_quantity=%{y}<extra></extra>",
         "legendgroup": "iron-and-steel",
         "marker": {
          "color": "#EF553B",
          "pattern": {
           "shape": ""
          }
         },
         "name": "iron-and-steel",
         "offsetgroup": "iron-and-steel",
         "orientation": "v",
         "showlegend": true,
         "textposition": "auto",
         "type": "bar",
         "x": [
          "CHN",
          "IND",
          "RUS",
          "USA",
          "FRA",
          "NLD",
          "MOZ"
         ],
         "xaxis": "x",
         "y": [
          2241391578,
          162245000.1,
          113690634.78385352,
          81117732.4087398,
          23874702.081126686,
          15072559.678650368,
          0
         ],
         "yaxis": "y"
        },
        {
         "alignmentgroup": "True",
         "hovertemplate": "subsector=road-transportation<br>iso3_country=%{x}<br>emissions_quantity=%{y}<extra></extra>",
         "legendgroup": "road-transportation",
         "marker": {
          "color": "#00cc96",
          "pattern": {
           "shape": ""
          }
         },
         "name": "road-transportation",
         "offsetgroup": "road-transportation",
         "orientation": "v",
         "showlegend": true,
         "textposition": "auto",
         "type": "bar",
         "x": [
          "USA",
          "CHN",
          "RUS",
          "IND",
          "FRA",
          "NLD",
          "MOZ"
         ],
         "xaxis": "x",
         "y": [
          1432834613.7799923,
          666933235.7809211,
          256269177.637817,
          180195782.2953201,
          140096043.01225343,
          19089539.182201102,
          16997000.896643
         ],
         "yaxis": "y"
        },
        {
         "alignmentgroup": "True",
         "hovertemplate": "subsector=other-energy-use<br>iso3_country=%{x}<br>emissions_quantity=%{y}<extra></extra>",
         "legendgroup": "other-energy-use",
         "marker": {
          "color": "#ab63fa",
          "pattern": {
           "shape": ""
          }
         },
         "name": "other-energy-use",
         "offsetgroup": "other-energy-use",
         "orientation": "v",
         "showlegend": true,
         "textposition": "auto",
         "type": "bar",
         "x": [
          "CHN",
          "RUS",
          "FRA",
          "NLD",
          "USA",
          "MOZ",
          "IND"
         ],
         "xaxis": "x",
         "y": [
          1256589489.0326228,
          252848352.0084085,
          21973183.120805062,
          6726387.566549696,
          3738547.513640802,
          382058.0774782692,
          0
         ],
         "yaxis": "y"
        },
        {
         "alignmentgroup": "True",
         "hovertemplate": "subsector=cement<br>iso3_country=%{x}<br>emissions_quantity=%{y}<extra></extra>",
         "legendgroup": "cement",
         "marker": {
          "color": "#FFA15A",
          "pattern": {
           "shape": ""
          }
         },
         "name": "cement",
         "offsetgroup": "cement",
         "orientation": "v",
         "showlegend": true,
         "textposition": "auto",
         "type": "bar",
         "x": [
          "CHN",
          "IND",
          "USA",
          "RUS",
          "FRA",
          "MOZ",
          "NLD"
         ],
         "xaxis": "x",
         "y": [
          1150200000,
          205200000,
          49464000,
          33938522.06672576,
          11852535.620024988,
          1511999.9999855957,
          1349999.9939565277
         ],
         "yaxis": "y"
        },
        {
         "alignmentgroup": "True",
         "hovertemplate": "subsector=residential-onsite-fuel-usage<br>iso3_country=%{x}<br>emissions_quantity=%{y}<extra></extra>",
         "legendgroup": "residential-onsite-fuel-usage",
         "marker": {
          "color": "#19d3f3",
          "pattern": {
           "shape": ""
          }
         },
         "name": "residential-onsite-fuel-usage",
         "offsetgroup": "residential-onsite-fuel-usage",
         "orientation": "v",
         "showlegend": true,
         "textposition": "auto",
         "type": "bar",
         "x": [
          "CHN",
          "USA",
          "IND",
          "RUS",
          "FRA",
          "NLD",
          "MOZ"
         ],
         "xaxis": "x",
         "y": [
          598041254.4188098,
          467914281.84890985,
          206730918.3126599,
          182980060.42197,
          58699723.88999999,
          17179384.661999997,
          154060.31160000002
         ],
         "yaxis": "y"
        },
        {
         "alignmentgroup": "True",
         "hovertemplate": "subsector=forest-land-clearing<br>iso3_country=%{x}<br>emissions_quantity=%{y}<extra></extra>",
         "legendgroup": "forest-land-clearing",
         "marker": {
          "color": "#FF6692",
          "pattern": {
           "shape": ""
          }
         },
         "name": "forest-land-clearing",
         "offsetgroup": "forest-land-clearing",
         "orientation": "v",
         "showlegend": true,
         "textposition": "auto",
         "type": "bar",
         "x": [
          "RUS",
          "USA",
          "CHN",
          "IND",
          "MOZ",
          "FRA",
          "NLD"
         ],
         "xaxis": "x",
         "y": [
          564644278.9370414,
          465927121.561012,
          243055421.19341505,
          52793647.846803896,
          47406322.4234236,
          27630698.390768114,
          469369.1881419013
         ],
         "yaxis": "y"
        },
        {
         "alignmentgroup": "True",
         "hovertemplate": "subsector=other-manufacturing<br>iso3_country=%{x}<br>emissions_quantity=%{y}<extra></extra>",
         "legendgroup": "other-manufacturing",
         "marker": {
          "color": "#B6E880",
          "pattern": {
           "shape": ""
          }
         },
         "name": "other-manufacturing",
         "offsetgroup": "other-manufacturing",
         "orientation": "v",
         "showlegend": true,
         "textposition": "auto",
         "type": "bar",
         "x": [
          "CHN",
          "IND",
          "USA",
          "RUS",
          "FRA",
          "NLD",
          "MOZ"
         ],
         "xaxis": "x",
         "y": [
          552250421.1621149,
          152257184.39953867,
          116009236.7860106,
          40623793.16061293,
          9192817.08171557,
          2906212.842783016,
          84175.67677527312
         ],
         "yaxis": "y"
        },
        {
         "alignmentgroup": "True",
         "hovertemplate": "subsector=oil-and-gas-transport<br>iso3_country=%{x}<br>emissions_quantity=%{y}<extra></extra>",
         "legendgroup": "oil-and-gas-transport",
         "marker": {
          "color": "#FF97FF",
          "pattern": {
           "shape": ""
          }
         },
         "name": "oil-and-gas-transport",
         "offsetgroup": "oil-and-gas-transport",
         "orientation": "v",
         "showlegend": true,
         "textposition": "auto",
         "type": "bar",
         "x": [
          "RUS",
          "USA",
          "CHN",
          "IND",
          "NLD",
          "MOZ",
          "FRA"
         ],
         "xaxis": "x",
         "y": [
          457050236.938106,
          256751054.76194683,
          42550435.83861953,
          13079242.96035158,
          1760603.9528557232,
          1701185.2427280454,
          125725.09714003836
         ],
         "yaxis": "y"
        },
        {
         "alignmentgroup": "True",
         "hovertemplate": "subsector=forest-land-fires<br>iso3_country=%{x}<br>emissions_quantity=%{y}<extra></extra>",
         "legendgroup": "forest-land-fires",
         "marker": {
          "color": "#FECB52",
          "pattern": {
           "shape": ""
          }
         },
         "name": "forest-land-fires",
         "offsetgroup": "forest-land-fires",
         "orientation": "v",
         "showlegend": true,
         "textposition": "auto",
         "type": "bar",
         "x": [
          "MOZ",
          "RUS",
          "USA",
          "IND",
          "CHN",
          "FRA",
          "NLD"
         ],
         "xaxis": "x",
         "y": [
          418347288.6637408,
          203896705.07898423,
          70220608.16442761,
          44897165.91477487,
          11020036.061932504,
          635971.4421930001,
          131.43946
         ],
         "yaxis": "y"
        },
        {
         "alignmentgroup": "True",
         "hovertemplate": "subsector=oil-and-gas-production<br>iso3_country=%{x}<br>emissions_quantity=%{y}<extra></extra>",
         "legendgroup": "oil-and-gas-production",
         "marker": {
          "color": "#636efa",
          "pattern": {
           "shape": ""
          }
         },
         "name": "oil-and-gas-production",
         "offsetgroup": "oil-and-gas-production",
         "orientation": "v",
         "showlegend": true,
         "textposition": "auto",
         "type": "bar",
         "x": [
          "USA",
          "RUS",
          "CHN",
          "IND",
          "NLD",
          "MOZ",
          "FRA"
         ],
         "xaxis": "x",
         "y": [
          373095048.8292682,
          203388363.82717103,
          115452130.5002792,
          10761171.34683312,
          3782668.13009727,
          508785.0753883585,
          138780.2441705971
         ],
         "yaxis": "y"
        },
        {
         "alignmentgroup": "True",
         "hovertemplate": "subsector=lime<br>iso3_country=%{x}<br>emissions_quantity=%{y}<extra></extra>",
         "legendgroup": "lime",
         "marker": {
          "color": "#EF553B",
          "pattern": {
           "shape": ""
          }
         },
         "name": "lime",
         "offsetgroup": "lime",
         "orientation": "v",
         "showlegend": true,
         "textposition": "auto",
         "type": "bar",
         "x": [
          "CHN",
          "USA",
          "IND",
          "RUS",
          "FRA",
          "MOZ",
          "NLD"
         ],
         "xaxis": "x",
         "y": [
          365304631.985889,
          31108794.001598097,
          18189240.53710453,
          9071376.48076827,
          5103399.982146879,
          7948.286128268679,
          0
         ],
         "yaxis": "y"
        },
        {
         "alignmentgroup": "True",
         "hovertemplate": "subsector=solid-fuel-transformation<br>iso3_country=%{x}<br>emissions_quantity=%{y}<extra></extra>",
         "legendgroup": "solid-fuel-transformation",
         "marker": {
          "color": "#00cc96",
          "pattern": {
           "shape": ""
          }
         },
         "name": "solid-fuel-transformation",
         "offsetgroup": "solid-fuel-transformation",
         "orientation": "v",
         "showlegend": true,
         "textposition": "auto",
         "type": "bar",
         "x": [
          "CHN",
          "RUS",
          "USA",
          "FRA",
          "NLD",
          "IND",
          "MOZ"
         ],
         "xaxis": "x",
         "y": [
          328467505.6171816,
          40155052.80727279,
          5447069.246841477,
          1353156.9566977553,
          326026.68750905344,
          0,
          0
         ],
         "yaxis": "y"
        },
        {
         "alignmentgroup": "True",
         "hovertemplate": "subsector=other-chemicals<br>iso3_country=%{x}<br>emissions_quantity=%{y}<extra></extra>",
         "legendgroup": "other-chemicals",
         "marker": {
          "color": "#ab63fa",
          "pattern": {
           "shape": ""
          }
         },
         "name": "other-chemicals",
         "offsetgroup": "other-chemicals",
         "orientation": "v",
         "showlegend": true,
         "textposition": "auto",
         "type": "bar",
         "x": [
          "CHN",
          "USA",
          "IND",
          "RUS",
          "NLD",
          "FRA",
          "MOZ"
         ],
         "xaxis": "x",
         "y": [
          289984911.86240155,
          171892061.09609398,
          26186430.44649179,
          15005301.335736126,
          10818662.511702228,
          8420636.81534227,
          315.8842042356619
         ],
         "yaxis": "y"
        },
        {
         "alignmentgroup": "True",
         "hovertemplate": "subsector=chemicals<br>iso3_country=%{x}<br>emissions_quantity=%{y}<extra></extra>",
         "legendgroup": "chemicals",
         "marker": {
          "color": "#FFA15A",
          "pattern": {
           "shape": ""
          }
         },
         "name": "chemicals",
         "offsetgroup": "chemicals",
         "orientation": "v",
         "showlegend": true,
         "textposition": "auto",
         "type": "bar",
         "x": [
          "CHN",
          "RUS",
          "USA",
          "IND",
          "NLD",
          "FRA",
          "MOZ"
         ],
         "xaxis": "x",
         "y": [
          288283025.0264881,
          53254045.166,
          39375317.52,
          35963696.531,
          6931724.142000002,
          5437766.322000001,
          0
         ],
         "yaxis": "y"
        },
        {
         "alignmentgroup": "True",
         "hovertemplate": "subsector=aluminum<br>iso3_country=%{x}<br>emissions_quantity=%{y}<extra></extra>",
         "legendgroup": "aluminum",
         "marker": {
          "color": "#19d3f3",
          "pattern": {
           "shape": ""
          }
         },
         "name": "aluminum",
         "offsetgroup": "aluminum",
         "orientation": "v",
         "showlegend": true,
         "textposition": "auto",
         "type": "bar",
         "x": [
          "CHN",
          "IND",
          "RUS",
          "USA",
          "MOZ",
          "FRA",
          "NLD"
         ],
         "xaxis": "x",
         "y": [
          246192286.2719544,
          18737470.37043467,
          12959397.124748366,
          3473994.9235630045,
          2054689.5358608,
          1581265.8619290078,
          0
         ],
         "yaxis": "y"
        },
        {
         "alignmentgroup": "True",
         "hovertemplate": "subsector=cropland-fires<br>iso3_country=%{x}<br>emissions_quantity=%{y}<extra></extra>",
         "legendgroup": "cropland-fires",
         "marker": {
          "color": "#FF6692",
          "pattern": {
           "shape": ""
          }
         },
         "name": "cropland-fires",
         "offsetgroup": "cropland-fires",
         "orientation": "v",
         "showlegend": true,
         "textposition": "auto",
         "type": "bar",
         "x": [
          "IND",
          "CHN",
          "RUS",
          "USA",
          "MOZ",
          "FRA",
          "NLD"
         ],
         "xaxis": "x",
         "y": [
          218862170.01600003,
          218796009.531,
          27131027.95587619,
          5326873.241000001,
          1810414.6799319456,
          434517.37208516966,
          378.51746967188336
         ],
         "yaxis": "y"
        },
        {
         "alignmentgroup": "True",
         "hovertemplate": "subsector=oil-and-gas-refining<br>iso3_country=%{x}<br>emissions_quantity=%{y}<extra></extra>",
         "legendgroup": "oil-and-gas-refining",
         "marker": {
          "color": "#B6E880",
          "pattern": {
           "shape": ""
          }
         },
         "name": "oil-and-gas-refining",
         "offsetgroup": "oil-and-gas-refining",
         "orientation": "v",
         "showlegend": true,
         "textposition": "auto",
         "type": "bar",
         "x": [
          "USA",
          "CHN",
          "IND",
          "RUS",
          "NLD",
          "FRA",
          "MOZ"
         ],
         "xaxis": "x",
         "y": [
          186289728.92794,
          180659311.4959689,
          69784342.46023479,
          64022891.67756155,
          15194208.335362457,
          11627392.935629694,
          0
         ],
         "yaxis": "y"
        },
        {
         "alignmentgroup": "True",
         "hovertemplate": "subsector=net-forest-land<br>iso3_country=%{x}<br>emissions_quantity=%{y}<extra></extra>",
         "legendgroup": "net-forest-land",
         "marker": {
          "color": "#FF97FF",
          "pattern": {
           "shape": ""
          }
         },
         "name": "net-forest-land",
         "offsetgroup": "net-forest-land",
         "orientation": "v",
         "showlegend": true,
         "textposition": "auto",
         "type": "bar",
         "x": [
          "RUS",
          "USA",
          "IND",
          "CHN",
          "MOZ",
          "NLD",
          "FRA"
         ],
         "xaxis": "x",
         "y": [
          157020884.13821667,
          117684436.41615193,
          97574705.08611505,
          77834610.07558034,
          74427942.80399992,
          -2138033.4621750023,
          -22643458.92000001
         ],
         "yaxis": "y"
        },
        {
         "alignmentgroup": "True",
         "hovertemplate": "subsector=net-shrubgrass<br>iso3_country=%{x}<br>emissions_quantity=%{y}<extra></extra>",
         "legendgroup": "net-shrubgrass",
         "marker": {
          "color": "#FECB52",
          "pattern": {
           "shape": ""
          }
         },
         "name": "net-shrubgrass",
         "offsetgroup": "net-shrubgrass",
         "orientation": "v",
         "showlegend": true,
         "textposition": "auto",
         "type": "bar",
         "x": [
          "CHN",
          "USA",
          "RUS",
          "IND",
          "NLD",
          "MOZ",
          "FRA"
         ],
         "xaxis": "x",
         "y": [
          141926636.93460006,
          138075975.95694995,
          59618012.39106032,
          -544581.991270002,
          -1052343.877209999,
          -3692790.998000007,
          -21878487.95109999
         ],
         "yaxis": "y"
        },
        {
         "alignmentgroup": "True",
         "hovertemplate": "subsector=domestic-aviation<br>iso3_country=%{x}<br>emissions_quantity=%{y}<extra></extra>",
         "legendgroup": "domestic-aviation",
         "marker": {
          "color": "#636efa",
          "pattern": {
           "shape": ""
          }
         },
         "name": "domestic-aviation",
         "offsetgroup": "domestic-aviation",
         "orientation": "v",
         "showlegend": true,
         "textposition": "auto",
         "type": "bar",
         "x": [
          "USA",
          "CHN",
          "IND",
          "RUS",
          "FRA",
          "MOZ",
          "NLD"
         ],
         "xaxis": "x",
         "y": [
          127062688.0990615,
          89161280.58174963,
          12038811.644211285,
          9642114.765112292,
          1571188.474545,
          89577.6141722553,
          802.3168473960516
         ],
         "yaxis": "y"
        },
        {
         "alignmentgroup": "True",
         "hovertemplate": "subsector=non-residential-onsite-fuel-usage<br>iso3_country=%{x}<br>emissions_quantity=%{y}<extra></extra>",
         "legendgroup": "non-residential-onsite-fuel-usage",
         "marker": {
          "color": "#EF553B",
          "pattern": {
           "shape": ""
          }
         },
         "name": "non-residential-onsite-fuel-usage",
         "offsetgroup": "non-residential-onsite-fuel-usage",
         "orientation": "v",
         "showlegend": true,
         "textposition": "auto",
         "type": "bar",
         "x": [
          "USA",
          "CHN",
          "RUS",
          "FRA",
          "IND",
          "NLD",
          "MOZ"
         ],
         "xaxis": "x",
         "y": [
          119267250.262,
          51428539.53813,
          40366603.79400001,
          12688825.019999998,
          9247055.22278,
          5313460.944,
          1929.707483333333
         ],
         "yaxis": "y"
        },
        {
         "alignmentgroup": "True",
         "hovertemplate": "subsector=shrubgrass-fires<br>iso3_country=%{x}<br>emissions_quantity=%{y}<extra></extra>",
         "legendgroup": "shrubgrass-fires",
         "marker": {
          "color": "#00cc96",
          "pattern": {
           "shape": ""
          }
         },
         "name": "shrubgrass-fires",
         "offsetgroup": "shrubgrass-fires",
         "orientation": "v",
         "showlegend": true,
         "textposition": "auto",
         "type": "bar",
         "x": [
          "MOZ",
          "RUS",
          "USA",
          "CHN",
          "IND",
          "FRA",
          "NLD"
         ],
         "xaxis": "x",
         "y": [
          92469501.36193582,
          29828836.7633069,
          9273490.522498764,
          3438342.54987,
          3421280.688642701,
          82023.77403288514,
          131.93791
         ],
         "yaxis": "y"
        },
        {
         "alignmentgroup": "True",
         "hovertemplate": "subsector=domestic-shipping<br>iso3_country=%{x}<br>emissions_quantity=%{y}<extra></extra>",
         "legendgroup": "domestic-shipping",
         "marker": {
          "color": "#ab63fa",
          "pattern": {
           "shape": ""
          }
         },
         "name": "domestic-shipping",
         "offsetgroup": "domestic-shipping",
         "orientation": "v",
         "showlegend": true,
         "textposition": "auto",
         "type": "bar",
         "x": [
          "CHN",
          "USA",
          "RUS",
          "NLD",
          "FRA",
          "IND",
          "MOZ"
         ],
         "xaxis": "x",
         "y": [
          80040704.5362035,
          33678624.08246191,
          8845492.9422368,
          7821950.746784,
          6519738.914968999,
          5808623.380436099,
          406050.1270144
         ],
         "yaxis": "y"
        },
        {
         "alignmentgroup": "True",
         "hovertemplate": "subsector=international-aviation<br>iso3_country=%{x}<br>emissions_quantity=%{y}<extra></extra>",
         "legendgroup": "international-aviation",
         "marker": {
          "color": "#FFA15A",
          "pattern": {
           "shape": ""
          }
         },
         "name": "international-aviation",
         "offsetgroup": "international-aviation",
         "orientation": "v",
         "showlegend": true,
         "textposition": "auto",
         "type": "bar",
         "x": [
          "USA",
          "CHN",
          "FRA",
          "IND",
          "NLD",
          "RUS",
          "MOZ"
         ],
         "xaxis": "x",
         "y": [
          76661438.92504478,
          26918038.4151309,
          17788419.473699447,
          12159611.891484693,
          10328158.845065506,
          5104117.267779226,
          141454.56995960884
         ],
         "yaxis": "y"
        },
        {
         "alignmentgroup": "True",
         "hovertemplate": "subsector=petrochemical-steam-cracking<br>iso3_country=%{x}<br>emissions_quantity=%{y}<extra></extra>",
         "legendgroup": "petrochemical-steam-cracking",
         "marker": {
          "color": "#19d3f3",
          "pattern": {
           "shape": ""
          }
         },
         "name": "petrochemical-steam-cracking",
         "offsetgroup": "petrochemical-steam-cracking",
         "orientation": "v",
         "showlegend": true,
         "textposition": "auto",
         "type": "bar",
         "x": [
          "CHN",
          "USA",
          "IND",
          "RUS",
          "NLD",
          "FRA",
          "MOZ"
         ],
         "xaxis": "x",
         "y": [
          69604508.55999999,
          46142379.253391646,
          8759724.072,
          4728405.263329999,
          4661032.176999999,
          3076699.322183332,
          0
         ],
         "yaxis": "y"
        },
        {
         "alignmentgroup": "True",
         "hovertemplate": "subsector=other-onsite-fuel-usage<br>iso3_country=%{x}<br>emissions_quantity=%{y}<extra></extra>",
         "legendgroup": "other-onsite-fuel-usage",
         "marker": {
          "color": "#FF6692",
          "pattern": {
           "shape": ""
          }
         },
         "name": "other-onsite-fuel-usage",
         "offsetgroup": "other-onsite-fuel-usage",
         "orientation": "v",
         "showlegend": true,
         "textposition": "auto",
         "type": "bar",
         "x": [
          "CHN",
          "IND",
          "RUS",
          "USA",
          "FRA",
          "NLD",
          "MOZ"
         ],
         "xaxis": "x",
         "y": [
          63661942.01366194,
          38446653.196893305,
          5819140.70518086,
          1551041.957653126,
          1546676.4055466766,
          205039.33549496063,
          41585.528703657874
         ],
         "yaxis": "y"
        },
        {
         "alignmentgroup": "True",
         "hovertemplate": "subsector=other-agricultural-soil-emissions<br>iso3_country=%{x}<br>emissions_quantity=%{y}<extra></extra>",
         "legendgroup": "other-agricultural-soil-emissions",
         "marker": {
          "color": "#B6E880",
          "pattern": {
           "shape": ""
          }
         },
         "name": "other-agricultural-soil-emissions",
         "offsetgroup": "other-agricultural-soil-emissions",
         "orientation": "v",
         "showlegend": true,
         "textposition": "auto",
         "type": "bar",
         "x": [
          "RUS",
          "USA",
          "IND",
          "CHN",
          "FRA",
          "NLD",
          "MOZ"
         ],
         "xaxis": "x",
         "y": [
          59731046.956397496,
          57222780.94594196,
          37537055.60977952,
          17599373.663152408,
          7854296.240512339,
          54125.89274032853,
          0
         ],
         "yaxis": "y"
        },
        {
         "alignmentgroup": "True",
         "hovertemplate": "subsector=other-transport<br>iso3_country=%{x}<br>emissions_quantity=%{y}<extra></extra>",
         "legendgroup": "other-transport",
         "marker": {
          "color": "#FF97FF",
          "pattern": {
           "shape": ""
          }
         },
         "name": "other-transport",
         "offsetgroup": "other-transport",
         "orientation": "v",
         "showlegend": true,
         "textposition": "auto",
         "type": "bar",
         "x": [
          "RUS",
          "USA",
          "CHN",
          "IND",
          "FRA",
          "MOZ",
          "NLD"
         ],
         "xaxis": "x",
         "y": [
          58885297.42414547,
          58864696.140686,
          6607542.407321996,
          978748.3235624018,
          0,
          0,
          0
         ],
         "yaxis": "y"
        },
        {
         "alignmentgroup": "True",
         "hovertemplate": "subsector=coal-mining<br>iso3_country=%{x}<br>emissions_quantity=%{y}<extra></extra>",
         "legendgroup": "coal-mining",
         "marker": {
          "color": "#FECB52",
          "pattern": {
           "shape": ""
          }
         },
         "name": "coal-mining",
         "offsetgroup": "coal-mining",
         "orientation": "v",
         "showlegend": true,
         "textposition": "auto",
         "type": "bar",
         "x": [
          "CHN",
          "IND",
          "USA",
          "RUS",
          "MOZ",
          "NLD",
          "FRA"
         ],
         "xaxis": "x",
         "y": [
          57492634.78782895,
          17597293.101243924,
          9268681.255,
          8504305.703469232,
          244641.2500000001,
          0,
          0
         ],
         "yaxis": "y"
        },
        {
         "alignmentgroup": "True",
         "hovertemplate": "subsector=food-beverage-tobacco<br>iso3_country=%{x}<br>emissions_quantity=%{y}<extra></extra>",
         "legendgroup": "food-beverage-tobacco",
         "marker": {
          "color": "#636efa",
          "pattern": {
           "shape": ""
          }
         },
         "name": "food-beverage-tobacco",
         "offsetgroup": "food-beverage-tobacco",
         "orientation": "v",
         "showlegend": true,
         "textposition": "auto",
         "type": "bar",
         "x": [
          "USA",
          "CHN",
          "FRA",
          "RUS",
          "NLD",
          "IND",
          "MOZ"
         ],
         "xaxis": "x",
         "y": [
          57121965.83076,
          48158026.13735726,
          11147926.818110945,
          5310925.223198713,
          3120608.9275530926,
          24349.5652304252,
          15583.620742292596
         ],
         "yaxis": "y"
        },
        {
         "alignmentgroup": "True",
         "hovertemplate": "subsector=international-shipping<br>iso3_country=%{x}<br>emissions_quantity=%{y}<extra></extra>",
         "legendgroup": "international-shipping",
         "marker": {
          "color": "#EF553B",
          "pattern": {
           "shape": ""
          }
         },
         "name": "international-shipping",
         "offsetgroup": "international-shipping",
         "orientation": "v",
         "showlegend": true,
         "textposition": "auto",
         "type": "bar",
         "x": [
          "CHN",
          "USA",
          "IND",
          "NLD",
          "FRA",
          "RUS",
          "MOZ"
         ],
         "xaxis": "x",
         "y": [
          56986510.817173176,
          40779777.13570522,
          13762213.684086507,
          10773746.090841798,
          6797025.275216801,
          6620293.8557085,
          1346253.7107575997
         ],
         "yaxis": "y"
        },
        {
         "alignmentgroup": "True",
         "hovertemplate": "subsector=railways<br>iso3_country=%{x}<br>emissions_quantity=%{y}<extra></extra>",
         "legendgroup": "railways",
         "marker": {
          "color": "#00cc96",
          "pattern": {
           "shape": ""
          }
         },
         "name": "railways",
         "offsetgroup": "railways",
         "orientation": "v",
         "showlegend": true,
         "textposition": "auto",
         "type": "bar",
         "x": [
          "USA",
          "RUS",
          "CHN",
          "IND",
          "FRA",
          "NLD",
          "MOZ"
         ],
         "xaxis": "x",
         "y": [
          36189222.39163781,
          12751297.27367315,
          8003928.051150543,
          4347844.294000002,
          329224.6252296653,
          64114.91581421662,
          0
         ],
         "yaxis": "y"
        },
        {
         "alignmentgroup": "True",
         "hovertemplate": "subsector=iron-mining<br>iso3_country=%{x}<br>emissions_quantity=%{y}<extra></extra>",
         "legendgroup": "iron-mining",
         "marker": {
          "color": "#ab63fa",
          "pattern": {
           "shape": ""
          }
         },
         "name": "iron-mining",
         "offsetgroup": "iron-mining",
         "orientation": "v",
         "showlegend": true,
         "textposition": "auto",
         "type": "bar",
         "x": [
          "IND",
          "CHN",
          "RUS",
          "USA",
          "NLD",
          "MOZ",
          "FRA"
         ],
         "xaxis": "x",
         "y": [
          28783804.000000004,
          12008510.000000002,
          8701373.687706254,
          2658966.000245662,
          0,
          0,
          0
         ],
         "yaxis": "y"
        },
        {
         "alignmentgroup": "True",
         "hovertemplate": "subsector=pulp-and-paper<br>iso3_country=%{x}<br>emissions_quantity=%{y}<extra></extra>",
         "legendgroup": "pulp-and-paper",
         "marker": {
          "color": "#FFA15A",
          "pattern": {
           "shape": ""
          }
         },
         "name": "pulp-and-paper",
         "offsetgroup": "pulp-and-paper",
         "orientation": "v",
         "showlegend": true,
         "textposition": "auto",
         "type": "bar",
         "x": [
          "USA",
          "CHN",
          "RUS",
          "IND",
          "FRA",
          "NLD",
          "MOZ"
         ],
         "xaxis": "x",
         "y": [
          27051940.99999998,
          12503236.780999985,
          5094980.148999998,
          1805050.7999999984,
          904616.9999999998,
          0,
          0
         ],
         "yaxis": "y"
        },
        {
         "alignmentgroup": "True",
         "hovertemplate": "subsector=net-wetland<br>iso3_country=%{x}<br>emissions_quantity=%{y}<extra></extra>",
         "legendgroup": "net-wetland",
         "marker": {
          "color": "#19d3f3",
          "pattern": {
           "shape": ""
          }
         },
         "name": "net-wetland",
         "offsetgroup": "net-wetland",
         "orientation": "v",
         "showlegend": true,
         "textposition": "auto",
         "type": "bar",
         "x": [
          "USA",
          "CHN",
          "MOZ",
          "NLD",
          "FRA",
          "IND",
          "RUS"
         ],
         "xaxis": "x",
         "y": [
          20827919.756687623,
          1415282.878699997,
          223220.30154999893,
          -61254.48462290009,
          -290832.4065675985,
          -1821400.519287,
          -57951649.93718675
         ],
         "yaxis": "y"
        },
        {
         "alignmentgroup": "True",
         "hovertemplate": "subsector=textiles-leather-apparel<br>iso3_country=%{x}<br>emissions_quantity=%{y}<extra></extra>",
         "legendgroup": "textiles-leather-apparel",
         "marker": {
          "color": "#FF6692",
          "pattern": {
           "shape": ""
          }
         },
         "name": "textiles-leather-apparel",
         "offsetgroup": "textiles-leather-apparel",
         "orientation": "v",
         "showlegend": true,
         "textposition": "auto",
         "type": "bar",
         "x": [
          "CHN",
          "IND",
          "USA",
          "FRA",
          "RUS",
          "NLD",
          "MOZ"
         ],
         "xaxis": "x",
         "y": [
          20186214.504708696,
          2205381.08582053,
          1749208.7464979703,
          259036.233594066,
          212125.5811609597,
          98517.71573206953,
          0
         ],
         "yaxis": "y"
        },
        {
         "alignmentgroup": "True",
         "hovertemplate": "subsector=other-metals<br>iso3_country=%{x}<br>emissions_quantity=%{y}<extra></extra>",
         "legendgroup": "other-metals",
         "marker": {
          "color": "#B6E880",
          "pattern": {
           "shape": ""
          }
         },
         "name": "other-metals",
         "offsetgroup": "other-metals",
         "orientation": "v",
         "showlegend": true,
         "textposition": "auto",
         "type": "bar",
         "x": [
          "USA",
          "FRA",
          "NLD",
          "CHN",
          "RUS",
          "IND",
          "MOZ"
         ],
         "xaxis": "x",
         "y": [
          20041427.995876465,
          5010999.992384251,
          114999.9998252223,
          0,
          0,
          0,
          0
         ],
         "yaxis": "y"
        },
        {
         "alignmentgroup": "True",
         "hovertemplate": "subsector=other-mining-quarrying<br>iso3_country=%{x}<br>emissions_quantity=%{y}<extra></extra>",
         "legendgroup": "other-mining-quarrying",
         "marker": {
          "color": "#FF97FF",
          "pattern": {
           "shape": ""
          }
         },
         "name": "other-mining-quarrying",
         "offsetgroup": "other-mining-quarrying",
         "orientation": "v",
         "showlegend": true,
         "textposition": "auto",
         "type": "bar",
         "x": [
          "CHN",
          "USA",
          "FRA",
          "MOZ",
          "RUS",
          "NLD",
          "IND"
         ],
         "xaxis": "x",
         "y": [
          11256842.340938045,
          3742796.820048404,
          615126.2200789265,
          565409.552233178,
          287112.4127013021,
          3129.4361362425934,
          0
         ],
         "yaxis": "y"
        },
        {
         "alignmentgroup": "True",
         "hovertemplate": "subsector=copper-mining<br>iso3_country=%{x}<br>emissions_quantity=%{y}<extra></extra>",
         "legendgroup": "copper-mining",
         "marker": {
          "color": "#FECB52",
          "pattern": {
           "shape": ""
          }
         },
         "name": "copper-mining",
         "offsetgroup": "copper-mining",
         "orientation": "v",
         "showlegend": true,
         "textposition": "auto",
         "type": "bar",
         "x": [
          "CHN",
          "USA",
          "RUS",
          "IND",
          "FRA",
          "MOZ",
          "NLD"
         ],
         "xaxis": "x",
         "y": [
          9999490,
          4474437.544003355,
          1912912.008185477,
          16704,
          0,
          0,
          0
         ],
         "yaxis": "y"
        },
        {
         "alignmentgroup": "True",
         "hovertemplate": "subsector=glass<br>iso3_country=%{x}<br>emissions_quantity=%{y}<extra></extra>",
         "legendgroup": "glass",
         "marker": {
          "color": "#636efa",
          "pattern": {
           "shape": ""
          }
         },
         "name": "glass",
         "offsetgroup": "glass",
         "orientation": "v",
         "showlegend": true,
         "textposition": "auto",
         "type": "bar",
         "x": [
          "USA",
          "FRA",
          "RUS",
          "CHN",
          "NLD",
          "IND",
          "MOZ"
         ],
         "xaxis": "x",
         "y": [
          9213645.999857675,
          5658390.802734126,
          3292968.002501108,
          2070084.566365712,
          751586.470671108,
          111611.88030580129,
          1974.245734063008
         ],
         "yaxis": "y"
        },
        {
         "alignmentgroup": "True",
         "hovertemplate": "subsector=heat-plants<br>iso3_country=%{x}<br>emissions_quantity=%{y}<extra></extra>",
         "legendgroup": "heat-plants",
         "marker": {
          "color": "#EF553B",
          "pattern": {
           "shape": ""
          }
         },
         "name": "heat-plants",
         "offsetgroup": "heat-plants",
         "orientation": "v",
         "showlegend": true,
         "textposition": "auto",
         "type": "bar",
         "x": [
          "CHN",
          "NLD",
          "FRA",
          "USA",
          "MOZ",
          "IND",
          "RUS"
         ],
         "xaxis": "x",
         "y": [
          9191039,
          848086.9999999997,
          0,
          0,
          0,
          0,
          0
         ],
         "yaxis": "y"
        },
        {
         "alignmentgroup": "True",
         "hovertemplate": "subsector=wetland-fires<br>iso3_country=%{x}<br>emissions_quantity=%{y}<extra></extra>",
         "legendgroup": "wetland-fires",
         "marker": {
          "color": "#00cc96",
          "pattern": {
           "shape": ""
          }
         },
         "name": "wetland-fires",
         "offsetgroup": "wetland-fires",
         "orientation": "v",
         "showlegend": true,
         "textposition": "auto",
         "type": "bar",
         "x": [
          "RUS",
          "MOZ",
          "USA",
          "CHN",
          "IND",
          "FRA",
          "NLD"
         ],
         "xaxis": "x",
         "y": [
          7852899.032130002,
          4132136.203642339,
          1054654.22401484,
          236968.86172759585,
          21443.67311703112,
          36.35887333333333,
          0
         ],
         "yaxis": "y"
        },
        {
         "alignmentgroup": "True",
         "hovertemplate": "subsector=wood-and-wood-products<br>iso3_country=%{x}<br>emissions_quantity=%{y}<extra></extra>",
         "legendgroup": "wood-and-wood-products",
         "marker": {
          "color": "#ab63fa",
          "pattern": {
           "shape": ""
          }
         },
         "name": "wood-and-wood-products",
         "offsetgroup": "wood-and-wood-products",
         "orientation": "v",
         "showlegend": true,
         "textposition": "auto",
         "type": "bar",
         "x": [
          "USA",
          "CHN",
          "RUS",
          "FRA",
          "NLD",
          "IND",
          "MOZ"
         ],
         "xaxis": "x",
         "y": [
          4472349.29619552,
          1930416.04652626,
          1285528.5905620602,
          207346.52548620096,
          24227.55013923849,
          0,
          0
         ],
         "yaxis": "y"
        },
        {
         "alignmentgroup": "True",
         "hovertemplate": "subsector=other-fossil-fuel-operations<br>iso3_country=%{x}<br>emissions_quantity=%{y}<extra></extra>",
         "legendgroup": "other-fossil-fuel-operations",
         "marker": {
          "color": "#FFA15A",
          "pattern": {
           "shape": ""
          }
         },
         "name": "other-fossil-fuel-operations",
         "offsetgroup": "other-fossil-fuel-operations",
         "orientation": "v",
         "showlegend": true,
         "textposition": "auto",
         "type": "bar",
         "x": [
          "FRA",
          "MOZ",
          "RUS",
          "IND",
          "USA",
          "CHN",
          "NLD"
         ],
         "xaxis": "x",
         "y": [
          3840832.0704696686,
          0,
          0,
          0,
          0,
          0,
          0
         ],
         "yaxis": "y"
        },
        {
         "alignmentgroup": "True",
         "hovertemplate": "subsector=incineration-and-open-burning-of-waste<br>iso3_country=%{x}<br>emissions_quantity=%{y}<extra></extra>",
         "legendgroup": "incineration-and-open-burning-of-waste",
         "marker": {
          "color": "#19d3f3",
          "pattern": {
           "shape": ""
          }
         },
         "name": "incineration-and-open-burning-of-waste",
         "offsetgroup": "incineration-and-open-burning-of-waste",
         "orientation": "v",
         "showlegend": true,
         "textposition": "auto",
         "type": "bar",
         "x": [
          "CHN",
          "FRA",
          "NLD",
          "USA",
          "MOZ",
          "RUS",
          "IND"
         ],
         "xaxis": "x",
         "y": [
          3569714.1853857697,
          1846611.616033313,
          362.4999558033402,
          0,
          0,
          0,
          0
         ],
         "yaxis": "y"
        },
        {
         "alignmentgroup": "True",
         "hovertemplate": "subsector=forest-land-degradation<br>iso3_country=%{x}<br>emissions_quantity=%{y}<extra></extra>",
         "legendgroup": "forest-land-degradation",
         "marker": {
          "color": "#FF6692",
          "pattern": {
           "shape": ""
          }
         },
         "name": "forest-land-degradation",
         "offsetgroup": "forest-land-degradation",
         "orientation": "v",
         "showlegend": true,
         "textposition": "auto",
         "type": "bar",
         "x": [
          "IND",
          "CHN",
          "MOZ",
          "USA",
          "RUS",
          "FRA",
          "NLD"
         ],
         "xaxis": "x",
         "y": [
          3044949.6985625545,
          23620.242136180503,
          5057.562190300001,
          1592.1269650833335,
          0,
          0,
          0
         ],
         "yaxis": "y"
        },
        {
         "alignmentgroup": "True",
         "hovertemplate": "subsector=bauxite-mining<br>iso3_country=%{x}<br>emissions_quantity=%{y}<extra></extra>",
         "legendgroup": "bauxite-mining",
         "marker": {
          "color": "#B6E880",
          "pattern": {
           "shape": ""
          }
         },
         "name": "bauxite-mining",
         "offsetgroup": "bauxite-mining",
         "orientation": "v",
         "showlegend": true,
         "textposition": "auto",
         "type": "bar",
         "x": [
          "IND",
          "CHN",
          "RUS",
          "MOZ",
          "USA",
          "NLD",
          "FRA"
         ],
         "xaxis": "x",
         "y": [
          1561867,
          283220.0000261667,
          134530.750575666,
          121,
          0,
          0,
          0
         ],
         "yaxis": "y"
        },
        {
         "alignmentgroup": "True",
         "hovertemplate": "subsector=water-reservoirs<br>iso3_country=%{x}<br>emissions_quantity=%{y}<extra></extra>",
         "legendgroup": "water-reservoirs",
         "marker": {
          "color": "#FF97FF",
          "pattern": {
           "shape": ""
          }
         },
         "name": "water-reservoirs",
         "offsetgroup": "water-reservoirs",
         "orientation": "v",
         "showlegend": true,
         "textposition": "auto",
         "type": "bar",
         "x": [
          "CHN",
          "IND",
          "RUS",
          "USA",
          "MOZ",
          "NLD",
          "FRA"
         ],
         "xaxis": "x",
         "y": [
          585626.2691819845,
          338332.9081217213,
          80306.75901672427,
          732.7087181934058,
          0,
          0,
          0
         ],
         "yaxis": "y"
        },
        {
         "alignmentgroup": "True",
         "hovertemplate": "subsector=rock-quarrying<br>iso3_country=%{x}<br>emissions_quantity=%{y}<extra></extra>",
         "legendgroup": "rock-quarrying",
         "marker": {
          "color": "#FECB52",
          "pattern": {
           "shape": ""
          }
         },
         "name": "rock-quarrying",
         "offsetgroup": "rock-quarrying",
         "orientation": "v",
         "showlegend": true,
         "textposition": "auto",
         "type": "bar",
         "x": [
          "RUS",
          "FRA",
          "NLD",
          "USA",
          "IND",
          "MOZ",
          "CHN"
         ],
         "xaxis": "x",
         "y": [
          328687.0014064734,
          60277.99986723529,
          34432.999924159936,
          8554.000000790304,
          802,
          108,
          23.00000000212497
         ],
         "yaxis": "y"
        },
        {
         "alignmentgroup": "True",
         "hovertemplate": "subsector=sand-quarrying<br>iso3_country=%{x}<br>emissions_quantity=%{y}<extra></extra>",
         "legendgroup": "sand-quarrying",
         "marker": {
          "color": "#636efa",
          "pattern": {
           "shape": ""
          }
         },
         "name": "sand-quarrying",
         "offsetgroup": "sand-quarrying",
         "orientation": "v",
         "showlegend": true,
         "textposition": "auto",
         "type": "bar",
         "x": [
          "NLD",
          "MOZ",
          "USA",
          "FRA",
          "IND",
          "RUS",
          "CHN"
         ],
         "xaxis": "x",
         "y": [
          64654.99985759476,
          7037.000000000001,
          5272.00000048708,
          1115.999997541965,
          15,
          0,
          0
         ],
         "yaxis": "y"
        },
        {
         "alignmentgroup": "True",
         "hovertemplate": "subsector=manure-management-other<br>iso3_country=%{x}<br>emissions_quantity=%{y}<extra></extra>",
         "legendgroup": "manure-management-other",
         "marker": {
          "color": "#EF553B",
          "pattern": {
           "shape": ""
          }
         },
         "name": "manure-management-other",
         "offsetgroup": "manure-management-other",
         "orientation": "v",
         "showlegend": true,
         "textposition": "auto",
         "type": "bar",
         "x": [
          "MOZ",
          "CHN",
          "RUS",
          "FRA",
          "IND",
          "USA",
          "NLD"
         ],
         "xaxis": "x",
         "y": [
          0,
          0,
          0,
          0,
          0,
          0,
          0
         ],
         "yaxis": "y"
        },
        {
         "alignmentgroup": "True",
         "hovertemplate": "subsector=biological-treatment-of-solid-waste-and-biogenic<br>iso3_country=%{x}<br>emissions_quantity=%{y}<extra></extra>",
         "legendgroup": "biological-treatment-of-solid-waste-and-biogenic",
         "marker": {
          "color": "#00cc96",
          "pattern": {
           "shape": ""
          }
         },
         "name": "biological-treatment-of-solid-waste-and-biogenic",
         "offsetgroup": "biological-treatment-of-solid-waste-and-biogenic",
         "orientation": "v",
         "showlegend": true,
         "textposition": "auto",
         "type": "bar",
         "x": [
          "MOZ",
          "RUS",
          "NLD",
          "IND",
          "FRA",
          "CHN",
          "USA"
         ],
         "xaxis": "x",
         "y": [
          0,
          0,
          0,
          0,
          0,
          0,
          0
         ],
         "yaxis": "y"
        },
        {
         "alignmentgroup": "True",
         "hovertemplate": "subsector=manure-applied-to-soils<br>iso3_country=%{x}<br>emissions_quantity=%{y}<extra></extra>",
         "legendgroup": "manure-applied-to-soils",
         "marker": {
          "color": "#ab63fa",
          "pattern": {
           "shape": ""
          }
         },
         "name": "manure-applied-to-soils",
         "offsetgroup": "manure-applied-to-soils",
         "orientation": "v",
         "showlegend": true,
         "textposition": "auto",
         "type": "bar",
         "x": [
          "CHN",
          "MOZ",
          "IND",
          "NLD",
          "USA",
          "FRA",
          "RUS"
         ],
         "xaxis": "x",
         "y": [
          0,
          0,
          0,
          0,
          0,
          0,
          0
         ],
         "yaxis": "y"
        },
        {
         "alignmentgroup": "True",
         "hovertemplate": "subsector=fluorinated-gases<br>iso3_country=%{x}<br>emissions_quantity=%{y}<extra></extra>",
         "legendgroup": "fluorinated-gases",
         "marker": {
          "color": "#FFA15A",
          "pattern": {
           "shape": ""
          }
         },
         "name": "fluorinated-gases",
         "offsetgroup": "fluorinated-gases",
         "orientation": "v",
         "showlegend": true,
         "textposition": "auto",
         "type": "bar",
         "x": [
          "RUS",
          "MOZ",
          "USA",
          "CHN",
          "IND",
          "NLD",
          "FRA"
         ],
         "xaxis": "x",
         "y": [
          0,
          0,
          0,
          0,
          0,
          0,
          0
         ],
         "yaxis": "y"
        },
        {
         "alignmentgroup": "True",
         "hovertemplate": "subsector=enteric-fermentation-cattle-pasture<br>iso3_country=%{x}<br>emissions_quantity=%{y}<extra></extra>",
         "legendgroup": "enteric-fermentation-cattle-pasture",
         "marker": {
          "color": "#19d3f3",
          "pattern": {
           "shape": ""
          }
         },
         "name": "enteric-fermentation-cattle-pasture",
         "offsetgroup": "enteric-fermentation-cattle-pasture",
         "orientation": "v",
         "showlegend": true,
         "textposition": "auto",
         "type": "bar",
         "x": [
          "IND",
          "USA",
          "MOZ",
          "NLD",
          "RUS",
          "CHN",
          "FRA"
         ],
         "xaxis": "x",
         "y": [
          0,
          0,
          0,
          0,
          0,
          0,
          0
         ],
         "yaxis": "y"
        },
        {
         "alignmentgroup": "True",
         "hovertemplate": "subsector=domestic-wastewater-treatment-and-discharge<br>iso3_country=%{x}<br>emissions_quantity=%{y}<extra></extra>",
         "legendgroup": "domestic-wastewater-treatment-and-discharge",
         "marker": {
          "color": "#FF6692",
          "pattern": {
           "shape": ""
          }
         },
         "name": "domestic-wastewater-treatment-and-discharge",
         "offsetgroup": "domestic-wastewater-treatment-and-discharge",
         "orientation": "v",
         "showlegend": true,
         "textposition": "auto",
         "type": "bar",
         "x": [
          "FRA",
          "CHN",
          "NLD",
          "USA",
          "RUS",
          "IND",
          "MOZ"
         ],
         "xaxis": "x",
         "y": [
          0,
          0,
          0,
          0,
          0,
          0,
          0
         ],
         "yaxis": "y"
        },
        {
         "alignmentgroup": "True",
         "hovertemplate": "subsector=manure-management-cattle-operation<br>iso3_country=%{x}<br>emissions_quantity=%{y}<extra></extra>",
         "legendgroup": "manure-management-cattle-operation",
         "marker": {
          "color": "#B6E880",
          "pattern": {
           "shape": ""
          }
         },
         "name": "manure-management-cattle-operation",
         "offsetgroup": "manure-management-cattle-operation",
         "orientation": "v",
         "showlegend": true,
         "textposition": "auto",
         "type": "bar",
         "x": [
          "MOZ",
          "USA",
          "CHN",
          "FRA",
          "IND",
          "NLD",
          "RUS"
         ],
         "xaxis": "x",
         "y": [
          0,
          0,
          0,
          0,
          0,
          0,
          0
         ],
         "yaxis": "y"
        },
        {
         "alignmentgroup": "True",
         "hovertemplate": "subsector=enteric-fermentation-other<br>iso3_country=%{x}<br>emissions_quantity=%{y}<extra></extra>",
         "legendgroup": "enteric-fermentation-other",
         "marker": {
          "color": "#FF97FF",
          "pattern": {
           "shape": ""
          }
         },
         "name": "enteric-fermentation-other",
         "offsetgroup": "enteric-fermentation-other",
         "orientation": "v",
         "showlegend": true,
         "textposition": "auto",
         "type": "bar",
         "x": [
          "MOZ",
          "NLD",
          "FRA",
          "IND",
          "RUS",
          "CHN",
          "USA"
         ],
         "xaxis": "x",
         "y": [
          0,
          0,
          0,
          0,
          0,
          0,
          0
         ],
         "yaxis": "y"
        },
        {
         "alignmentgroup": "True",
         "hovertemplate": "subsector=industrial-wastewater-treatment-and-discharge<br>iso3_country=%{x}<br>emissions_quantity=%{y}<extra></extra>",
         "legendgroup": "industrial-wastewater-treatment-and-discharge",
         "marker": {
          "color": "#FECB52",
          "pattern": {
           "shape": ""
          }
         },
         "name": "industrial-wastewater-treatment-and-discharge",
         "offsetgroup": "industrial-wastewater-treatment-and-discharge",
         "orientation": "v",
         "showlegend": true,
         "textposition": "auto",
         "type": "bar",
         "x": [
          "MOZ",
          "RUS",
          "NLD",
          "FRA",
          "CHN",
          "IND",
          "USA"
         ],
         "xaxis": "x",
         "y": [
          0,
          0,
          0,
          0,
          0,
          0,
          0
         ],
         "yaxis": "y"
        },
        {
         "alignmentgroup": "True",
         "hovertemplate": "subsector=rice-cultivation<br>iso3_country=%{x}<br>emissions_quantity=%{y}<extra></extra>",
         "legendgroup": "rice-cultivation",
         "marker": {
          "color": "#636efa",
          "pattern": {
           "shape": ""
          }
         },
         "name": "rice-cultivation",
         "offsetgroup": "rice-cultivation",
         "orientation": "v",
         "showlegend": true,
         "textposition": "auto",
         "type": "bar",
         "x": [
          "RUS",
          "IND",
          "USA",
          "FRA",
          "MOZ",
          "CHN",
          "NLD"
         ],
         "xaxis": "x",
         "y": [
          0,
          0,
          0,
          0,
          0,
          0,
          0
         ],
         "yaxis": "y"
        },
        {
         "alignmentgroup": "True",
         "hovertemplate": "subsector=manure-left-on-pasture-cattle<br>iso3_country=%{x}<br>emissions_quantity=%{y}<extra></extra>",
         "legendgroup": "manure-left-on-pasture-cattle",
         "marker": {
          "color": "#EF553B",
          "pattern": {
           "shape": ""
          }
         },
         "name": "manure-left-on-pasture-cattle",
         "offsetgroup": "manure-left-on-pasture-cattle",
         "orientation": "v",
         "showlegend": true,
         "textposition": "auto",
         "type": "bar",
         "x": [
          "MOZ",
          "FRA",
          "IND",
          "RUS",
          "NLD",
          "CHN",
          "USA"
         ],
         "xaxis": "x",
         "y": [
          0,
          0,
          0,
          0,
          0,
          0,
          0
         ],
         "yaxis": "y"
        },
        {
         "alignmentgroup": "True",
         "hovertemplate": "subsector=enteric-fermentation-cattle-operation<br>iso3_country=%{x}<br>emissions_quantity=%{y}<extra></extra>",
         "legendgroup": "enteric-fermentation-cattle-operation",
         "marker": {
          "color": "#00cc96",
          "pattern": {
           "shape": ""
          }
         },
         "name": "enteric-fermentation-cattle-operation",
         "offsetgroup": "enteric-fermentation-cattle-operation",
         "orientation": "v",
         "showlegend": true,
         "textposition": "auto",
         "type": "bar",
         "x": [
          "FRA",
          "MOZ",
          "CHN",
          "USA",
          "IND",
          "RUS",
          "NLD"
         ],
         "xaxis": "x",
         "y": [
          0,
          0,
          0,
          0,
          0,
          0,
          0
         ],
         "yaxis": "y"
        },
        {
         "alignmentgroup": "True",
         "hovertemplate": "subsector=solid-waste-disposal<br>iso3_country=%{x}<br>emissions_quantity=%{y}<extra></extra>",
         "legendgroup": "solid-waste-disposal",
         "marker": {
          "color": "#ab63fa",
          "pattern": {
           "shape": ""
          }
         },
         "name": "solid-waste-disposal",
         "offsetgroup": "solid-waste-disposal",
         "orientation": "v",
         "showlegend": true,
         "textposition": "auto",
         "type": "bar",
         "x": [
          "FRA",
          "USA",
          "RUS",
          "NLD",
          "CHN",
          "IND",
          "MOZ"
         ],
         "xaxis": "x",
         "y": [
          0,
          0,
          0,
          0,
          0,
          0,
          0
         ],
         "yaxis": "y"
        },
        {
         "alignmentgroup": "True",
         "hovertemplate": "subsector=crop-residues<br>iso3_country=%{x}<br>emissions_quantity=%{y}<extra></extra>",
         "legendgroup": "crop-residues",
         "marker": {
          "color": "#FFA15A",
          "pattern": {
           "shape": ""
          }
         },
         "name": "crop-residues",
         "offsetgroup": "crop-residues",
         "orientation": "v",
         "showlegend": true,
         "textposition": "auto",
         "type": "bar",
         "x": [
          "FRA",
          "MOZ",
          "CHN",
          "NLD",
          "IND",
          "USA",
          "RUS"
         ],
         "xaxis": "x",
         "y": [
          0,
          0,
          0,
          0,
          0,
          0,
          0
         ],
         "yaxis": "y"
        },
        {
         "alignmentgroup": "True",
         "hovertemplate": "subsector=synthetic-fertilizer-application<br>iso3_country=%{x}<br>emissions_quantity=%{y}<extra></extra>",
         "legendgroup": "synthetic-fertilizer-application",
         "marker": {
          "color": "#19d3f3",
          "pattern": {
           "shape": ""
          }
         },
         "name": "synthetic-fertilizer-application",
         "offsetgroup": "synthetic-fertilizer-application",
         "orientation": "v",
         "showlegend": true,
         "textposition": "auto",
         "type": "bar",
         "x": [
          "RUS",
          "USA",
          "CHN",
          "MOZ",
          "NLD",
          "IND",
          "FRA"
         ],
         "xaxis": "x",
         "y": [
          0,
          0,
          0,
          0,
          0,
          0,
          0
         ],
         "yaxis": "y"
        },
        {
         "alignmentgroup": "True",
         "hovertemplate": "subsector=removals<br>iso3_country=%{x}<br>emissions_quantity=%{y}<extra></extra>",
         "legendgroup": "removals",
         "marker": {
          "color": "#FF6692",
          "pattern": {
           "shape": ""
          }
         },
         "name": "removals",
         "offsetgroup": "removals",
         "orientation": "v",
         "showlegend": true,
         "textposition": "auto",
         "type": "bar",
         "x": [
          "NLD",
          "IND",
          "CHN",
          "FRA",
          "USA",
          "MOZ",
          "RUS"
         ],
         "xaxis": "x",
         "y": [
          -3721265.024076296,
          -8969746.386987858,
          -36597977.92835709,
          -73161476.6415329,
          -269888574.45924777,
          -491401924.20448846,
          -647533858.9075568
         ],
         "yaxis": "y"
        }
       ],
       "layout": {
        "autosize": true,
        "barmode": "relative",
        "legend": {
         "title": {
          "text": "subsector"
         },
         "tracegroupgap": 0
        },
        "margin": {
         "t": 60
        },
        "template": {
         "data": {
          "bar": [
           {
            "error_x": {
             "color": "#2a3f5f"
            },
            "error_y": {
             "color": "#2a3f5f"
            },
            "marker": {
             "line": {
              "color": "white",
              "width": 0.5
             },
             "pattern": {
              "fillmode": "overlay",
              "size": 10,
              "solidity": 0.2
             }
            },
            "type": "bar"
           }
          ],
          "barpolar": [
           {
            "marker": {
             "line": {
              "color": "white",
              "width": 0.5
             },
             "pattern": {
              "fillmode": "overlay",
              "size": 10,
              "solidity": 0.2
             }
            },
            "type": "barpolar"
           }
          ],
          "carpet": [
           {
            "aaxis": {
             "endlinecolor": "#2a3f5f",
             "gridcolor": "#C8D4E3",
             "linecolor": "#C8D4E3",
             "minorgridcolor": "#C8D4E3",
             "startlinecolor": "#2a3f5f"
            },
            "baxis": {
             "endlinecolor": "#2a3f5f",
             "gridcolor": "#C8D4E3",
             "linecolor": "#C8D4E3",
             "minorgridcolor": "#C8D4E3",
             "startlinecolor": "#2a3f5f"
            },
            "type": "carpet"
           }
          ],
          "choropleth": [
           {
            "colorbar": {
             "outlinewidth": 0,
             "ticks": ""
            },
            "type": "choropleth"
           }
          ],
          "contour": [
           {
            "colorbar": {
             "outlinewidth": 0,
             "ticks": ""
            },
            "colorscale": [
             [
              0,
              "#0d0887"
             ],
             [
              0.1111111111111111,
              "#46039f"
             ],
             [
              0.2222222222222222,
              "#7201a8"
             ],
             [
              0.3333333333333333,
              "#9c179e"
             ],
             [
              0.4444444444444444,
              "#bd3786"
             ],
             [
              0.5555555555555556,
              "#d8576b"
             ],
             [
              0.6666666666666666,
              "#ed7953"
             ],
             [
              0.7777777777777778,
              "#fb9f3a"
             ],
             [
              0.8888888888888888,
              "#fdca26"
             ],
             [
              1,
              "#f0f921"
             ]
            ],
            "type": "contour"
           }
          ],
          "contourcarpet": [
           {
            "colorbar": {
             "outlinewidth": 0,
             "ticks": ""
            },
            "type": "contourcarpet"
           }
          ],
          "heatmap": [
           {
            "colorbar": {
             "outlinewidth": 0,
             "ticks": ""
            },
            "colorscale": [
             [
              0,
              "#0d0887"
             ],
             [
              0.1111111111111111,
              "#46039f"
             ],
             [
              0.2222222222222222,
              "#7201a8"
             ],
             [
              0.3333333333333333,
              "#9c179e"
             ],
             [
              0.4444444444444444,
              "#bd3786"
             ],
             [
              0.5555555555555556,
              "#d8576b"
             ],
             [
              0.6666666666666666,
              "#ed7953"
             ],
             [
              0.7777777777777778,
              "#fb9f3a"
             ],
             [
              0.8888888888888888,
              "#fdca26"
             ],
             [
              1,
              "#f0f921"
             ]
            ],
            "type": "heatmap"
           }
          ],
          "heatmapgl": [
           {
            "colorbar": {
             "outlinewidth": 0,
             "ticks": ""
            },
            "colorscale": [
             [
              0,
              "#0d0887"
             ],
             [
              0.1111111111111111,
              "#46039f"
             ],
             [
              0.2222222222222222,
              "#7201a8"
             ],
             [
              0.3333333333333333,
              "#9c179e"
             ],
             [
              0.4444444444444444,
              "#bd3786"
             ],
             [
              0.5555555555555556,
              "#d8576b"
             ],
             [
              0.6666666666666666,
              "#ed7953"
             ],
             [
              0.7777777777777778,
              "#fb9f3a"
             ],
             [
              0.8888888888888888,
              "#fdca26"
             ],
             [
              1,
              "#f0f921"
             ]
            ],
            "type": "heatmapgl"
           }
          ],
          "histogram": [
           {
            "marker": {
             "pattern": {
              "fillmode": "overlay",
              "size": 10,
              "solidity": 0.2
             }
            },
            "type": "histogram"
           }
          ],
          "histogram2d": [
           {
            "colorbar": {
             "outlinewidth": 0,
             "ticks": ""
            },
            "colorscale": [
             [
              0,
              "#0d0887"
             ],
             [
              0.1111111111111111,
              "#46039f"
             ],
             [
              0.2222222222222222,
              "#7201a8"
             ],
             [
              0.3333333333333333,
              "#9c179e"
             ],
             [
              0.4444444444444444,
              "#bd3786"
             ],
             [
              0.5555555555555556,
              "#d8576b"
             ],
             [
              0.6666666666666666,
              "#ed7953"
             ],
             [
              0.7777777777777778,
              "#fb9f3a"
             ],
             [
              0.8888888888888888,
              "#fdca26"
             ],
             [
              1,
              "#f0f921"
             ]
            ],
            "type": "histogram2d"
           }
          ],
          "histogram2dcontour": [
           {
            "colorbar": {
             "outlinewidth": 0,
             "ticks": ""
            },
            "colorscale": [
             [
              0,
              "#0d0887"
             ],
             [
              0.1111111111111111,
              "#46039f"
             ],
             [
              0.2222222222222222,
              "#7201a8"
             ],
             [
              0.3333333333333333,
              "#9c179e"
             ],
             [
              0.4444444444444444,
              "#bd3786"
             ],
             [
              0.5555555555555556,
              "#d8576b"
             ],
             [
              0.6666666666666666,
              "#ed7953"
             ],
             [
              0.7777777777777778,
              "#fb9f3a"
             ],
             [
              0.8888888888888888,
              "#fdca26"
             ],
             [
              1,
              "#f0f921"
             ]
            ],
            "type": "histogram2dcontour"
           }
          ],
          "mesh3d": [
           {
            "colorbar": {
             "outlinewidth": 0,
             "ticks": ""
            },
            "type": "mesh3d"
           }
          ],
          "parcoords": [
           {
            "line": {
             "colorbar": {
              "outlinewidth": 0,
              "ticks": ""
             }
            },
            "type": "parcoords"
           }
          ],
          "pie": [
           {
            "automargin": true,
            "type": "pie"
           }
          ],
          "scatter": [
           {
            "fillpattern": {
             "fillmode": "overlay",
             "size": 10,
             "solidity": 0.2
            },
            "type": "scatter"
           }
          ],
          "scatter3d": [
           {
            "line": {
             "colorbar": {
              "outlinewidth": 0,
              "ticks": ""
             }
            },
            "marker": {
             "colorbar": {
              "outlinewidth": 0,
              "ticks": ""
             }
            },
            "type": "scatter3d"
           }
          ],
          "scattercarpet": [
           {
            "marker": {
             "colorbar": {
              "outlinewidth": 0,
              "ticks": ""
             }
            },
            "type": "scattercarpet"
           }
          ],
          "scattergeo": [
           {
            "marker": {
             "colorbar": {
              "outlinewidth": 0,
              "ticks": ""
             }
            },
            "type": "scattergeo"
           }
          ],
          "scattergl": [
           {
            "marker": {
             "colorbar": {
              "outlinewidth": 0,
              "ticks": ""
             }
            },
            "type": "scattergl"
           }
          ],
          "scattermapbox": [
           {
            "marker": {
             "colorbar": {
              "outlinewidth": 0,
              "ticks": ""
             }
            },
            "type": "scattermapbox"
           }
          ],
          "scatterpolar": [
           {
            "marker": {
             "colorbar": {
              "outlinewidth": 0,
              "ticks": ""
             }
            },
            "type": "scatterpolar"
           }
          ],
          "scatterpolargl": [
           {
            "marker": {
             "colorbar": {
              "outlinewidth": 0,
              "ticks": ""
             }
            },
            "type": "scatterpolargl"
           }
          ],
          "scatterternary": [
           {
            "marker": {
             "colorbar": {
              "outlinewidth": 0,
              "ticks": ""
             }
            },
            "type": "scatterternary"
           }
          ],
          "surface": [
           {
            "colorbar": {
             "outlinewidth": 0,
             "ticks": ""
            },
            "colorscale": [
             [
              0,
              "#0d0887"
             ],
             [
              0.1111111111111111,
              "#46039f"
             ],
             [
              0.2222222222222222,
              "#7201a8"
             ],
             [
              0.3333333333333333,
              "#9c179e"
             ],
             [
              0.4444444444444444,
              "#bd3786"
             ],
             [
              0.5555555555555556,
              "#d8576b"
             ],
             [
              0.6666666666666666,
              "#ed7953"
             ],
             [
              0.7777777777777778,
              "#fb9f3a"
             ],
             [
              0.8888888888888888,
              "#fdca26"
             ],
             [
              1,
              "#f0f921"
             ]
            ],
            "type": "surface"
           }
          ],
          "table": [
           {
            "cells": {
             "fill": {
              "color": "#EBF0F8"
             },
             "line": {
              "color": "white"
             }
            },
            "header": {
             "fill": {
              "color": "#C8D4E3"
             },
             "line": {
              "color": "white"
             }
            },
            "type": "table"
           }
          ]
         },
         "layout": {
          "annotationdefaults": {
           "arrowcolor": "#2a3f5f",
           "arrowhead": 0,
           "arrowwidth": 1
          },
          "autotypenumbers": "strict",
          "coloraxis": {
           "colorbar": {
            "outlinewidth": 0,
            "ticks": ""
           }
          },
          "colorscale": {
           "diverging": [
            [
             0,
             "#8e0152"
            ],
            [
             0.1,
             "#c51b7d"
            ],
            [
             0.2,
             "#de77ae"
            ],
            [
             0.3,
             "#f1b6da"
            ],
            [
             0.4,
             "#fde0ef"
            ],
            [
             0.5,
             "#f7f7f7"
            ],
            [
             0.6,
             "#e6f5d0"
            ],
            [
             0.7,
             "#b8e186"
            ],
            [
             0.8,
             "#7fbc41"
            ],
            [
             0.9,
             "#4d9221"
            ],
            [
             1,
             "#276419"
            ]
           ],
           "sequential": [
            [
             0,
             "#0d0887"
            ],
            [
             0.1111111111111111,
             "#46039f"
            ],
            [
             0.2222222222222222,
             "#7201a8"
            ],
            [
             0.3333333333333333,
             "#9c179e"
            ],
            [
             0.4444444444444444,
             "#bd3786"
            ],
            [
             0.5555555555555556,
             "#d8576b"
            ],
            [
             0.6666666666666666,
             "#ed7953"
            ],
            [
             0.7777777777777778,
             "#fb9f3a"
            ],
            [
             0.8888888888888888,
             "#fdca26"
            ],
            [
             1,
             "#f0f921"
            ]
           ],
           "sequentialminus": [
            [
             0,
             "#0d0887"
            ],
            [
             0.1111111111111111,
             "#46039f"
            ],
            [
             0.2222222222222222,
             "#7201a8"
            ],
            [
             0.3333333333333333,
             "#9c179e"
            ],
            [
             0.4444444444444444,
             "#bd3786"
            ],
            [
             0.5555555555555556,
             "#d8576b"
            ],
            [
             0.6666666666666666,
             "#ed7953"
            ],
            [
             0.7777777777777778,
             "#fb9f3a"
            ],
            [
             0.8888888888888888,
             "#fdca26"
            ],
            [
             1,
             "#f0f921"
            ]
           ]
          },
          "colorway": [
           "#636efa",
           "#EF553B",
           "#00cc96",
           "#ab63fa",
           "#FFA15A",
           "#19d3f3",
           "#FF6692",
           "#B6E880",
           "#FF97FF",
           "#FECB52"
          ],
          "font": {
           "color": "#2a3f5f"
          },
          "geo": {
           "bgcolor": "white",
           "lakecolor": "white",
           "landcolor": "white",
           "showlakes": true,
           "showland": true,
           "subunitcolor": "#C8D4E3"
          },
          "hoverlabel": {
           "align": "left"
          },
          "hovermode": "closest",
          "mapbox": {
           "style": "light"
          },
          "paper_bgcolor": "white",
          "plot_bgcolor": "white",
          "polar": {
           "angularaxis": {
            "gridcolor": "#EBF0F8",
            "linecolor": "#EBF0F8",
            "ticks": ""
           },
           "bgcolor": "white",
           "radialaxis": {
            "gridcolor": "#EBF0F8",
            "linecolor": "#EBF0F8",
            "ticks": ""
           }
          },
          "scene": {
           "xaxis": {
            "backgroundcolor": "white",
            "gridcolor": "#DFE8F3",
            "gridwidth": 2,
            "linecolor": "#EBF0F8",
            "showbackground": true,
            "ticks": "",
            "zerolinecolor": "#EBF0F8"
           },
           "yaxis": {
            "backgroundcolor": "white",
            "gridcolor": "#DFE8F3",
            "gridwidth": 2,
            "linecolor": "#EBF0F8",
            "showbackground": true,
            "ticks": "",
            "zerolinecolor": "#EBF0F8"
           },
           "zaxis": {
            "backgroundcolor": "white",
            "gridcolor": "#DFE8F3",
            "gridwidth": 2,
            "linecolor": "#EBF0F8",
            "showbackground": true,
            "ticks": "",
            "zerolinecolor": "#EBF0F8"
           }
          },
          "shapedefaults": {
           "line": {
            "color": "#2a3f5f"
           }
          },
          "ternary": {
           "aaxis": {
            "gridcolor": "#DFE8F3",
            "linecolor": "#A2B1C6",
            "ticks": ""
           },
           "baxis": {
            "gridcolor": "#DFE8F3",
            "linecolor": "#A2B1C6",
            "ticks": ""
           },
           "bgcolor": "white",
           "caxis": {
            "gridcolor": "#DFE8F3",
            "linecolor": "#A2B1C6",
            "ticks": ""
           }
          },
          "title": {
           "x": 0.05
          },
          "xaxis": {
           "automargin": true,
           "gridcolor": "#EBF0F8",
           "linecolor": "#EBF0F8",
           "ticks": "",
           "title": {
            "standoff": 15
           },
           "zerolinecolor": "#EBF0F8",
           "zerolinewidth": 2
          },
          "yaxis": {
           "automargin": true,
           "gridcolor": "#EBF0F8",
           "linecolor": "#EBF0F8",
           "ticks": "",
           "title": {
            "standoff": 15
           },
           "zerolinecolor": "#EBF0F8",
           "zerolinewidth": 2
          }
         }
        },
        "xaxis": {
         "anchor": "y",
         "autorange": true,
         "domain": [
          0,
          1
         ],
         "range": [
          -0.5,
          6.5
         ],
         "title": {
          "text": "iso3_country"
         },
         "type": "category"
        },
        "yaxis": {
         "anchor": "x",
         "autorange": true,
         "domain": [
          0,
          1
         ],
         "range": [
          -1569056342.1986294,
          15702360324.879091
         ],
         "title": {
          "text": "emissions_quantity"
         },
         "type": "linear"
        }
       }
      },
      "text/html": [
       "<div>                            <div id=\"cce4a312-4bf7-48d5-aaf7-7af8da61598f\" class=\"plotly-graph-div\" style=\"height:525px; width:100%;\"></div>            <script type=\"text/javascript\">                require([\"plotly\"], function(Plotly) {                    window.PLOTLYENV=window.PLOTLYENV || {};                                    if (document.getElementById(\"cce4a312-4bf7-48d5-aaf7-7af8da61598f\")) {                    Plotly.newPlot(                        \"cce4a312-4bf7-48d5-aaf7-7af8da61598f\",                        [{\"alignmentgroup\":\"True\",\"hovertemplate\":\"subsector=electricity-generation\\u003cbr\\u003eiso3_country=%{x}\\u003cbr\\u003eemissions_quantity=%{y}\\u003cextra\\u003e\\u003c\\u002fextra\\u003e\",\"legendgroup\":\"electricity-generation\",\"marker\":{\"color\":\"#636efa\",\"pattern\":{\"shape\":\"\"}},\"name\":\"electricity-generation\",\"offsetgroup\":\"electricity-generation\",\"orientation\":\"v\",\"showlegend\":true,\"textposition\":\"auto\",\"x\":[\"CHN\",\"USA\",\"IND\",\"RUS\",\"FRA\",\"NLD\",\"MOZ\"],\"xaxis\":\"x\",\"y\":[5159494900.0,1452448793.57,1331595940.0,620104270.0,27773819.0,25965011.0,1482096.0],\"yaxis\":\"y\",\"type\":\"bar\"},{\"alignmentgroup\":\"True\",\"hovertemplate\":\"subsector=iron-and-steel\\u003cbr\\u003eiso3_country=%{x}\\u003cbr\\u003eemissions_quantity=%{y}\\u003cextra\\u003e\\u003c\\u002fextra\\u003e\",\"legendgroup\":\"iron-and-steel\",\"marker\":{\"color\":\"#EF553B\",\"pattern\":{\"shape\":\"\"}},\"name\":\"iron-and-steel\",\"offsetgroup\":\"iron-and-steel\",\"orientation\":\"v\",\"showlegend\":true,\"textposition\":\"auto\",\"x\":[\"CHN\",\"IND\",\"RUS\",\"USA\",\"FRA\",\"NLD\",\"MOZ\"],\"xaxis\":\"x\",\"y\":[2241391578.0,162245000.1,113690634.78385352,81117732.4087398,23874702.081126686,15072559.678650368,0.0],\"yaxis\":\"y\",\"type\":\"bar\"},{\"alignmentgroup\":\"True\",\"hovertemplate\":\"subsector=road-transportation\\u003cbr\\u003eiso3_country=%{x}\\u003cbr\\u003eemissions_quantity=%{y}\\u003cextra\\u003e\\u003c\\u002fextra\\u003e\",\"legendgroup\":\"road-transportation\",\"marker\":{\"color\":\"#00cc96\",\"pattern\":{\"shape\":\"\"}},\"name\":\"road-transportation\",\"offsetgroup\":\"road-transportation\",\"orientation\":\"v\",\"showlegend\":true,\"textposition\":\"auto\",\"x\":[\"USA\",\"CHN\",\"RUS\",\"IND\",\"FRA\",\"NLD\",\"MOZ\"],\"xaxis\":\"x\",\"y\":[1432834613.7799923,666933235.7809211,256269177.637817,180195782.2953201,140096043.01225343,19089539.182201102,16997000.896643],\"yaxis\":\"y\",\"type\":\"bar\"},{\"alignmentgroup\":\"True\",\"hovertemplate\":\"subsector=other-energy-use\\u003cbr\\u003eiso3_country=%{x}\\u003cbr\\u003eemissions_quantity=%{y}\\u003cextra\\u003e\\u003c\\u002fextra\\u003e\",\"legendgroup\":\"other-energy-use\",\"marker\":{\"color\":\"#ab63fa\",\"pattern\":{\"shape\":\"\"}},\"name\":\"other-energy-use\",\"offsetgroup\":\"other-energy-use\",\"orientation\":\"v\",\"showlegend\":true,\"textposition\":\"auto\",\"x\":[\"CHN\",\"RUS\",\"FRA\",\"NLD\",\"USA\",\"MOZ\",\"IND\"],\"xaxis\":\"x\",\"y\":[1256589489.0326228,252848352.0084085,21973183.120805062,6726387.566549696,3738547.513640802,382058.0774782692,0.0],\"yaxis\":\"y\",\"type\":\"bar\"},{\"alignmentgroup\":\"True\",\"hovertemplate\":\"subsector=cement\\u003cbr\\u003eiso3_country=%{x}\\u003cbr\\u003eemissions_quantity=%{y}\\u003cextra\\u003e\\u003c\\u002fextra\\u003e\",\"legendgroup\":\"cement\",\"marker\":{\"color\":\"#FFA15A\",\"pattern\":{\"shape\":\"\"}},\"name\":\"cement\",\"offsetgroup\":\"cement\",\"orientation\":\"v\",\"showlegend\":true,\"textposition\":\"auto\",\"x\":[\"CHN\",\"IND\",\"USA\",\"RUS\",\"FRA\",\"MOZ\",\"NLD\"],\"xaxis\":\"x\",\"y\":[1150200000.0,205200000.0,49464000.0,33938522.06672576,11852535.620024988,1511999.9999855957,1349999.9939565277],\"yaxis\":\"y\",\"type\":\"bar\"},{\"alignmentgroup\":\"True\",\"hovertemplate\":\"subsector=residential-onsite-fuel-usage\\u003cbr\\u003eiso3_country=%{x}\\u003cbr\\u003eemissions_quantity=%{y}\\u003cextra\\u003e\\u003c\\u002fextra\\u003e\",\"legendgroup\":\"residential-onsite-fuel-usage\",\"marker\":{\"color\":\"#19d3f3\",\"pattern\":{\"shape\":\"\"}},\"name\":\"residential-onsite-fuel-usage\",\"offsetgroup\":\"residential-onsite-fuel-usage\",\"orientation\":\"v\",\"showlegend\":true,\"textposition\":\"auto\",\"x\":[\"CHN\",\"USA\",\"IND\",\"RUS\",\"FRA\",\"NLD\",\"MOZ\"],\"xaxis\":\"x\",\"y\":[598041254.4188098,467914281.84890985,206730918.3126599,182980060.42197,58699723.88999999,17179384.661999997,154060.31160000002],\"yaxis\":\"y\",\"type\":\"bar\"},{\"alignmentgroup\":\"True\",\"hovertemplate\":\"subsector=forest-land-clearing\\u003cbr\\u003eiso3_country=%{x}\\u003cbr\\u003eemissions_quantity=%{y}\\u003cextra\\u003e\\u003c\\u002fextra\\u003e\",\"legendgroup\":\"forest-land-clearing\",\"marker\":{\"color\":\"#FF6692\",\"pattern\":{\"shape\":\"\"}},\"name\":\"forest-land-clearing\",\"offsetgroup\":\"forest-land-clearing\",\"orientation\":\"v\",\"showlegend\":true,\"textposition\":\"auto\",\"x\":[\"RUS\",\"USA\",\"CHN\",\"IND\",\"MOZ\",\"FRA\",\"NLD\"],\"xaxis\":\"x\",\"y\":[564644278.9370414,465927121.561012,243055421.19341505,52793647.846803896,47406322.4234236,27630698.390768114,469369.1881419013],\"yaxis\":\"y\",\"type\":\"bar\"},{\"alignmentgroup\":\"True\",\"hovertemplate\":\"subsector=other-manufacturing\\u003cbr\\u003eiso3_country=%{x}\\u003cbr\\u003eemissions_quantity=%{y}\\u003cextra\\u003e\\u003c\\u002fextra\\u003e\",\"legendgroup\":\"other-manufacturing\",\"marker\":{\"color\":\"#B6E880\",\"pattern\":{\"shape\":\"\"}},\"name\":\"other-manufacturing\",\"offsetgroup\":\"other-manufacturing\",\"orientation\":\"v\",\"showlegend\":true,\"textposition\":\"auto\",\"x\":[\"CHN\",\"IND\",\"USA\",\"RUS\",\"FRA\",\"NLD\",\"MOZ\"],\"xaxis\":\"x\",\"y\":[552250421.1621149,152257184.39953867,116009236.7860106,40623793.16061293,9192817.08171557,2906212.842783016,84175.67677527312],\"yaxis\":\"y\",\"type\":\"bar\"},{\"alignmentgroup\":\"True\",\"hovertemplate\":\"subsector=oil-and-gas-transport\\u003cbr\\u003eiso3_country=%{x}\\u003cbr\\u003eemissions_quantity=%{y}\\u003cextra\\u003e\\u003c\\u002fextra\\u003e\",\"legendgroup\":\"oil-and-gas-transport\",\"marker\":{\"color\":\"#FF97FF\",\"pattern\":{\"shape\":\"\"}},\"name\":\"oil-and-gas-transport\",\"offsetgroup\":\"oil-and-gas-transport\",\"orientation\":\"v\",\"showlegend\":true,\"textposition\":\"auto\",\"x\":[\"RUS\",\"USA\",\"CHN\",\"IND\",\"NLD\",\"MOZ\",\"FRA\"],\"xaxis\":\"x\",\"y\":[457050236.938106,256751054.76194683,42550435.83861953,13079242.96035158,1760603.9528557232,1701185.2427280454,125725.09714003836],\"yaxis\":\"y\",\"type\":\"bar\"},{\"alignmentgroup\":\"True\",\"hovertemplate\":\"subsector=forest-land-fires\\u003cbr\\u003eiso3_country=%{x}\\u003cbr\\u003eemissions_quantity=%{y}\\u003cextra\\u003e\\u003c\\u002fextra\\u003e\",\"legendgroup\":\"forest-land-fires\",\"marker\":{\"color\":\"#FECB52\",\"pattern\":{\"shape\":\"\"}},\"name\":\"forest-land-fires\",\"offsetgroup\":\"forest-land-fires\",\"orientation\":\"v\",\"showlegend\":true,\"textposition\":\"auto\",\"x\":[\"MOZ\",\"RUS\",\"USA\",\"IND\",\"CHN\",\"FRA\",\"NLD\"],\"xaxis\":\"x\",\"y\":[418347288.6637408,203896705.07898423,70220608.16442761,44897165.91477487,11020036.061932504,635971.4421930001,131.43946],\"yaxis\":\"y\",\"type\":\"bar\"},{\"alignmentgroup\":\"True\",\"hovertemplate\":\"subsector=oil-and-gas-production\\u003cbr\\u003eiso3_country=%{x}\\u003cbr\\u003eemissions_quantity=%{y}\\u003cextra\\u003e\\u003c\\u002fextra\\u003e\",\"legendgroup\":\"oil-and-gas-production\",\"marker\":{\"color\":\"#636efa\",\"pattern\":{\"shape\":\"\"}},\"name\":\"oil-and-gas-production\",\"offsetgroup\":\"oil-and-gas-production\",\"orientation\":\"v\",\"showlegend\":true,\"textposition\":\"auto\",\"x\":[\"USA\",\"RUS\",\"CHN\",\"IND\",\"NLD\",\"MOZ\",\"FRA\"],\"xaxis\":\"x\",\"y\":[373095048.8292682,203388363.82717103,115452130.5002792,10761171.34683312,3782668.13009727,508785.0753883585,138780.2441705971],\"yaxis\":\"y\",\"type\":\"bar\"},{\"alignmentgroup\":\"True\",\"hovertemplate\":\"subsector=lime\\u003cbr\\u003eiso3_country=%{x}\\u003cbr\\u003eemissions_quantity=%{y}\\u003cextra\\u003e\\u003c\\u002fextra\\u003e\",\"legendgroup\":\"lime\",\"marker\":{\"color\":\"#EF553B\",\"pattern\":{\"shape\":\"\"}},\"name\":\"lime\",\"offsetgroup\":\"lime\",\"orientation\":\"v\",\"showlegend\":true,\"textposition\":\"auto\",\"x\":[\"CHN\",\"USA\",\"IND\",\"RUS\",\"FRA\",\"MOZ\",\"NLD\"],\"xaxis\":\"x\",\"y\":[365304631.985889,31108794.001598097,18189240.53710453,9071376.48076827,5103399.982146879,7948.286128268679,0.0],\"yaxis\":\"y\",\"type\":\"bar\"},{\"alignmentgroup\":\"True\",\"hovertemplate\":\"subsector=solid-fuel-transformation\\u003cbr\\u003eiso3_country=%{x}\\u003cbr\\u003eemissions_quantity=%{y}\\u003cextra\\u003e\\u003c\\u002fextra\\u003e\",\"legendgroup\":\"solid-fuel-transformation\",\"marker\":{\"color\":\"#00cc96\",\"pattern\":{\"shape\":\"\"}},\"name\":\"solid-fuel-transformation\",\"offsetgroup\":\"solid-fuel-transformation\",\"orientation\":\"v\",\"showlegend\":true,\"textposition\":\"auto\",\"x\":[\"CHN\",\"RUS\",\"USA\",\"FRA\",\"NLD\",\"IND\",\"MOZ\"],\"xaxis\":\"x\",\"y\":[328467505.6171816,40155052.80727279,5447069.246841477,1353156.9566977553,326026.68750905344,0.0,0.0],\"yaxis\":\"y\",\"type\":\"bar\"},{\"alignmentgroup\":\"True\",\"hovertemplate\":\"subsector=other-chemicals\\u003cbr\\u003eiso3_country=%{x}\\u003cbr\\u003eemissions_quantity=%{y}\\u003cextra\\u003e\\u003c\\u002fextra\\u003e\",\"legendgroup\":\"other-chemicals\",\"marker\":{\"color\":\"#ab63fa\",\"pattern\":{\"shape\":\"\"}},\"name\":\"other-chemicals\",\"offsetgroup\":\"other-chemicals\",\"orientation\":\"v\",\"showlegend\":true,\"textposition\":\"auto\",\"x\":[\"CHN\",\"USA\",\"IND\",\"RUS\",\"NLD\",\"FRA\",\"MOZ\"],\"xaxis\":\"x\",\"y\":[289984911.86240155,171892061.09609398,26186430.44649179,15005301.335736126,10818662.511702228,8420636.81534227,315.8842042356619],\"yaxis\":\"y\",\"type\":\"bar\"},{\"alignmentgroup\":\"True\",\"hovertemplate\":\"subsector=chemicals\\u003cbr\\u003eiso3_country=%{x}\\u003cbr\\u003eemissions_quantity=%{y}\\u003cextra\\u003e\\u003c\\u002fextra\\u003e\",\"legendgroup\":\"chemicals\",\"marker\":{\"color\":\"#FFA15A\",\"pattern\":{\"shape\":\"\"}},\"name\":\"chemicals\",\"offsetgroup\":\"chemicals\",\"orientation\":\"v\",\"showlegend\":true,\"textposition\":\"auto\",\"x\":[\"CHN\",\"RUS\",\"USA\",\"IND\",\"NLD\",\"FRA\",\"MOZ\"],\"xaxis\":\"x\",\"y\":[288283025.0264881,53254045.166,39375317.52,35963696.531,6931724.142000002,5437766.322000001,0.0],\"yaxis\":\"y\",\"type\":\"bar\"},{\"alignmentgroup\":\"True\",\"hovertemplate\":\"subsector=aluminum\\u003cbr\\u003eiso3_country=%{x}\\u003cbr\\u003eemissions_quantity=%{y}\\u003cextra\\u003e\\u003c\\u002fextra\\u003e\",\"legendgroup\":\"aluminum\",\"marker\":{\"color\":\"#19d3f3\",\"pattern\":{\"shape\":\"\"}},\"name\":\"aluminum\",\"offsetgroup\":\"aluminum\",\"orientation\":\"v\",\"showlegend\":true,\"textposition\":\"auto\",\"x\":[\"CHN\",\"IND\",\"RUS\",\"USA\",\"MOZ\",\"FRA\",\"NLD\"],\"xaxis\":\"x\",\"y\":[246192286.2719544,18737470.37043467,12959397.124748366,3473994.9235630045,2054689.5358608,1581265.8619290078,0.0],\"yaxis\":\"y\",\"type\":\"bar\"},{\"alignmentgroup\":\"True\",\"hovertemplate\":\"subsector=cropland-fires\\u003cbr\\u003eiso3_country=%{x}\\u003cbr\\u003eemissions_quantity=%{y}\\u003cextra\\u003e\\u003c\\u002fextra\\u003e\",\"legendgroup\":\"cropland-fires\",\"marker\":{\"color\":\"#FF6692\",\"pattern\":{\"shape\":\"\"}},\"name\":\"cropland-fires\",\"offsetgroup\":\"cropland-fires\",\"orientation\":\"v\",\"showlegend\":true,\"textposition\":\"auto\",\"x\":[\"IND\",\"CHN\",\"RUS\",\"USA\",\"MOZ\",\"FRA\",\"NLD\"],\"xaxis\":\"x\",\"y\":[218862170.01600003,218796009.531,27131027.95587619,5326873.241000001,1810414.6799319456,434517.37208516966,378.51746967188336],\"yaxis\":\"y\",\"type\":\"bar\"},{\"alignmentgroup\":\"True\",\"hovertemplate\":\"subsector=oil-and-gas-refining\\u003cbr\\u003eiso3_country=%{x}\\u003cbr\\u003eemissions_quantity=%{y}\\u003cextra\\u003e\\u003c\\u002fextra\\u003e\",\"legendgroup\":\"oil-and-gas-refining\",\"marker\":{\"color\":\"#B6E880\",\"pattern\":{\"shape\":\"\"}},\"name\":\"oil-and-gas-refining\",\"offsetgroup\":\"oil-and-gas-refining\",\"orientation\":\"v\",\"showlegend\":true,\"textposition\":\"auto\",\"x\":[\"USA\",\"CHN\",\"IND\",\"RUS\",\"NLD\",\"FRA\",\"MOZ\"],\"xaxis\":\"x\",\"y\":[186289728.92794,180659311.4959689,69784342.46023479,64022891.67756155,15194208.335362457,11627392.935629694,0.0],\"yaxis\":\"y\",\"type\":\"bar\"},{\"alignmentgroup\":\"True\",\"hovertemplate\":\"subsector=net-forest-land\\u003cbr\\u003eiso3_country=%{x}\\u003cbr\\u003eemissions_quantity=%{y}\\u003cextra\\u003e\\u003c\\u002fextra\\u003e\",\"legendgroup\":\"net-forest-land\",\"marker\":{\"color\":\"#FF97FF\",\"pattern\":{\"shape\":\"\"}},\"name\":\"net-forest-land\",\"offsetgroup\":\"net-forest-land\",\"orientation\":\"v\",\"showlegend\":true,\"textposition\":\"auto\",\"x\":[\"RUS\",\"USA\",\"IND\",\"CHN\",\"MOZ\",\"NLD\",\"FRA\"],\"xaxis\":\"x\",\"y\":[157020884.13821667,117684436.41615193,97574705.08611505,77834610.07558034,74427942.80399992,-2138033.4621750023,-22643458.92000001],\"yaxis\":\"y\",\"type\":\"bar\"},{\"alignmentgroup\":\"True\",\"hovertemplate\":\"subsector=net-shrubgrass\\u003cbr\\u003eiso3_country=%{x}\\u003cbr\\u003eemissions_quantity=%{y}\\u003cextra\\u003e\\u003c\\u002fextra\\u003e\",\"legendgroup\":\"net-shrubgrass\",\"marker\":{\"color\":\"#FECB52\",\"pattern\":{\"shape\":\"\"}},\"name\":\"net-shrubgrass\",\"offsetgroup\":\"net-shrubgrass\",\"orientation\":\"v\",\"showlegend\":true,\"textposition\":\"auto\",\"x\":[\"CHN\",\"USA\",\"RUS\",\"IND\",\"NLD\",\"MOZ\",\"FRA\"],\"xaxis\":\"x\",\"y\":[141926636.93460006,138075975.95694995,59618012.39106032,-544581.991270002,-1052343.877209999,-3692790.998000007,-21878487.95109999],\"yaxis\":\"y\",\"type\":\"bar\"},{\"alignmentgroup\":\"True\",\"hovertemplate\":\"subsector=domestic-aviation\\u003cbr\\u003eiso3_country=%{x}\\u003cbr\\u003eemissions_quantity=%{y}\\u003cextra\\u003e\\u003c\\u002fextra\\u003e\",\"legendgroup\":\"domestic-aviation\",\"marker\":{\"color\":\"#636efa\",\"pattern\":{\"shape\":\"\"}},\"name\":\"domestic-aviation\",\"offsetgroup\":\"domestic-aviation\",\"orientation\":\"v\",\"showlegend\":true,\"textposition\":\"auto\",\"x\":[\"USA\",\"CHN\",\"IND\",\"RUS\",\"FRA\",\"MOZ\",\"NLD\"],\"xaxis\":\"x\",\"y\":[127062688.0990615,89161280.58174963,12038811.644211285,9642114.765112292,1571188.474545,89577.6141722553,802.3168473960516],\"yaxis\":\"y\",\"type\":\"bar\"},{\"alignmentgroup\":\"True\",\"hovertemplate\":\"subsector=non-residential-onsite-fuel-usage\\u003cbr\\u003eiso3_country=%{x}\\u003cbr\\u003eemissions_quantity=%{y}\\u003cextra\\u003e\\u003c\\u002fextra\\u003e\",\"legendgroup\":\"non-residential-onsite-fuel-usage\",\"marker\":{\"color\":\"#EF553B\",\"pattern\":{\"shape\":\"\"}},\"name\":\"non-residential-onsite-fuel-usage\",\"offsetgroup\":\"non-residential-onsite-fuel-usage\",\"orientation\":\"v\",\"showlegend\":true,\"textposition\":\"auto\",\"x\":[\"USA\",\"CHN\",\"RUS\",\"FRA\",\"IND\",\"NLD\",\"MOZ\"],\"xaxis\":\"x\",\"y\":[119267250.262,51428539.53813,40366603.79400001,12688825.019999998,9247055.22278,5313460.944,1929.707483333333],\"yaxis\":\"y\",\"type\":\"bar\"},{\"alignmentgroup\":\"True\",\"hovertemplate\":\"subsector=shrubgrass-fires\\u003cbr\\u003eiso3_country=%{x}\\u003cbr\\u003eemissions_quantity=%{y}\\u003cextra\\u003e\\u003c\\u002fextra\\u003e\",\"legendgroup\":\"shrubgrass-fires\",\"marker\":{\"color\":\"#00cc96\",\"pattern\":{\"shape\":\"\"}},\"name\":\"shrubgrass-fires\",\"offsetgroup\":\"shrubgrass-fires\",\"orientation\":\"v\",\"showlegend\":true,\"textposition\":\"auto\",\"x\":[\"MOZ\",\"RUS\",\"USA\",\"CHN\",\"IND\",\"FRA\",\"NLD\"],\"xaxis\":\"x\",\"y\":[92469501.36193582,29828836.7633069,9273490.522498764,3438342.54987,3421280.688642701,82023.77403288514,131.93791],\"yaxis\":\"y\",\"type\":\"bar\"},{\"alignmentgroup\":\"True\",\"hovertemplate\":\"subsector=domestic-shipping\\u003cbr\\u003eiso3_country=%{x}\\u003cbr\\u003eemissions_quantity=%{y}\\u003cextra\\u003e\\u003c\\u002fextra\\u003e\",\"legendgroup\":\"domestic-shipping\",\"marker\":{\"color\":\"#ab63fa\",\"pattern\":{\"shape\":\"\"}},\"name\":\"domestic-shipping\",\"offsetgroup\":\"domestic-shipping\",\"orientation\":\"v\",\"showlegend\":true,\"textposition\":\"auto\",\"x\":[\"CHN\",\"USA\",\"RUS\",\"NLD\",\"FRA\",\"IND\",\"MOZ\"],\"xaxis\":\"x\",\"y\":[80040704.5362035,33678624.08246191,8845492.9422368,7821950.746784,6519738.914968999,5808623.380436099,406050.1270144],\"yaxis\":\"y\",\"type\":\"bar\"},{\"alignmentgroup\":\"True\",\"hovertemplate\":\"subsector=international-aviation\\u003cbr\\u003eiso3_country=%{x}\\u003cbr\\u003eemissions_quantity=%{y}\\u003cextra\\u003e\\u003c\\u002fextra\\u003e\",\"legendgroup\":\"international-aviation\",\"marker\":{\"color\":\"#FFA15A\",\"pattern\":{\"shape\":\"\"}},\"name\":\"international-aviation\",\"offsetgroup\":\"international-aviation\",\"orientation\":\"v\",\"showlegend\":true,\"textposition\":\"auto\",\"x\":[\"USA\",\"CHN\",\"FRA\",\"IND\",\"NLD\",\"RUS\",\"MOZ\"],\"xaxis\":\"x\",\"y\":[76661438.92504478,26918038.4151309,17788419.473699447,12159611.891484693,10328158.845065506,5104117.267779226,141454.56995960884],\"yaxis\":\"y\",\"type\":\"bar\"},{\"alignmentgroup\":\"True\",\"hovertemplate\":\"subsector=petrochemical-steam-cracking\\u003cbr\\u003eiso3_country=%{x}\\u003cbr\\u003eemissions_quantity=%{y}\\u003cextra\\u003e\\u003c\\u002fextra\\u003e\",\"legendgroup\":\"petrochemical-steam-cracking\",\"marker\":{\"color\":\"#19d3f3\",\"pattern\":{\"shape\":\"\"}},\"name\":\"petrochemical-steam-cracking\",\"offsetgroup\":\"petrochemical-steam-cracking\",\"orientation\":\"v\",\"showlegend\":true,\"textposition\":\"auto\",\"x\":[\"CHN\",\"USA\",\"IND\",\"RUS\",\"NLD\",\"FRA\",\"MOZ\"],\"xaxis\":\"x\",\"y\":[69604508.55999999,46142379.253391646,8759724.072,4728405.263329999,4661032.176999999,3076699.322183332,0.0],\"yaxis\":\"y\",\"type\":\"bar\"},{\"alignmentgroup\":\"True\",\"hovertemplate\":\"subsector=other-onsite-fuel-usage\\u003cbr\\u003eiso3_country=%{x}\\u003cbr\\u003eemissions_quantity=%{y}\\u003cextra\\u003e\\u003c\\u002fextra\\u003e\",\"legendgroup\":\"other-onsite-fuel-usage\",\"marker\":{\"color\":\"#FF6692\",\"pattern\":{\"shape\":\"\"}},\"name\":\"other-onsite-fuel-usage\",\"offsetgroup\":\"other-onsite-fuel-usage\",\"orientation\":\"v\",\"showlegend\":true,\"textposition\":\"auto\",\"x\":[\"CHN\",\"IND\",\"RUS\",\"USA\",\"FRA\",\"NLD\",\"MOZ\"],\"xaxis\":\"x\",\"y\":[63661942.01366194,38446653.196893305,5819140.70518086,1551041.957653126,1546676.4055466766,205039.33549496063,41585.528703657874],\"yaxis\":\"y\",\"type\":\"bar\"},{\"alignmentgroup\":\"True\",\"hovertemplate\":\"subsector=other-agricultural-soil-emissions\\u003cbr\\u003eiso3_country=%{x}\\u003cbr\\u003eemissions_quantity=%{y}\\u003cextra\\u003e\\u003c\\u002fextra\\u003e\",\"legendgroup\":\"other-agricultural-soil-emissions\",\"marker\":{\"color\":\"#B6E880\",\"pattern\":{\"shape\":\"\"}},\"name\":\"other-agricultural-soil-emissions\",\"offsetgroup\":\"other-agricultural-soil-emissions\",\"orientation\":\"v\",\"showlegend\":true,\"textposition\":\"auto\",\"x\":[\"RUS\",\"USA\",\"IND\",\"CHN\",\"FRA\",\"NLD\",\"MOZ\"],\"xaxis\":\"x\",\"y\":[59731046.956397496,57222780.94594196,37537055.60977952,17599373.663152408,7854296.240512339,54125.89274032853,0.0],\"yaxis\":\"y\",\"type\":\"bar\"},{\"alignmentgroup\":\"True\",\"hovertemplate\":\"subsector=other-transport\\u003cbr\\u003eiso3_country=%{x}\\u003cbr\\u003eemissions_quantity=%{y}\\u003cextra\\u003e\\u003c\\u002fextra\\u003e\",\"legendgroup\":\"other-transport\",\"marker\":{\"color\":\"#FF97FF\",\"pattern\":{\"shape\":\"\"}},\"name\":\"other-transport\",\"offsetgroup\":\"other-transport\",\"orientation\":\"v\",\"showlegend\":true,\"textposition\":\"auto\",\"x\":[\"RUS\",\"USA\",\"CHN\",\"IND\",\"FRA\",\"MOZ\",\"NLD\"],\"xaxis\":\"x\",\"y\":[58885297.42414547,58864696.140686,6607542.407321996,978748.3235624018,0.0,0.0,0.0],\"yaxis\":\"y\",\"type\":\"bar\"},{\"alignmentgroup\":\"True\",\"hovertemplate\":\"subsector=coal-mining\\u003cbr\\u003eiso3_country=%{x}\\u003cbr\\u003eemissions_quantity=%{y}\\u003cextra\\u003e\\u003c\\u002fextra\\u003e\",\"legendgroup\":\"coal-mining\",\"marker\":{\"color\":\"#FECB52\",\"pattern\":{\"shape\":\"\"}},\"name\":\"coal-mining\",\"offsetgroup\":\"coal-mining\",\"orientation\":\"v\",\"showlegend\":true,\"textposition\":\"auto\",\"x\":[\"CHN\",\"IND\",\"USA\",\"RUS\",\"MOZ\",\"NLD\",\"FRA\"],\"xaxis\":\"x\",\"y\":[57492634.78782895,17597293.101243924,9268681.255,8504305.703469232,244641.2500000001,0.0,0.0],\"yaxis\":\"y\",\"type\":\"bar\"},{\"alignmentgroup\":\"True\",\"hovertemplate\":\"subsector=food-beverage-tobacco\\u003cbr\\u003eiso3_country=%{x}\\u003cbr\\u003eemissions_quantity=%{y}\\u003cextra\\u003e\\u003c\\u002fextra\\u003e\",\"legendgroup\":\"food-beverage-tobacco\",\"marker\":{\"color\":\"#636efa\",\"pattern\":{\"shape\":\"\"}},\"name\":\"food-beverage-tobacco\",\"offsetgroup\":\"food-beverage-tobacco\",\"orientation\":\"v\",\"showlegend\":true,\"textposition\":\"auto\",\"x\":[\"USA\",\"CHN\",\"FRA\",\"RUS\",\"NLD\",\"IND\",\"MOZ\"],\"xaxis\":\"x\",\"y\":[57121965.83076,48158026.13735726,11147926.818110945,5310925.223198713,3120608.9275530926,24349.5652304252,15583.620742292596],\"yaxis\":\"y\",\"type\":\"bar\"},{\"alignmentgroup\":\"True\",\"hovertemplate\":\"subsector=international-shipping\\u003cbr\\u003eiso3_country=%{x}\\u003cbr\\u003eemissions_quantity=%{y}\\u003cextra\\u003e\\u003c\\u002fextra\\u003e\",\"legendgroup\":\"international-shipping\",\"marker\":{\"color\":\"#EF553B\",\"pattern\":{\"shape\":\"\"}},\"name\":\"international-shipping\",\"offsetgroup\":\"international-shipping\",\"orientation\":\"v\",\"showlegend\":true,\"textposition\":\"auto\",\"x\":[\"CHN\",\"USA\",\"IND\",\"NLD\",\"FRA\",\"RUS\",\"MOZ\"],\"xaxis\":\"x\",\"y\":[56986510.817173176,40779777.13570522,13762213.684086507,10773746.090841798,6797025.275216801,6620293.8557085,1346253.7107575997],\"yaxis\":\"y\",\"type\":\"bar\"},{\"alignmentgroup\":\"True\",\"hovertemplate\":\"subsector=railways\\u003cbr\\u003eiso3_country=%{x}\\u003cbr\\u003eemissions_quantity=%{y}\\u003cextra\\u003e\\u003c\\u002fextra\\u003e\",\"legendgroup\":\"railways\",\"marker\":{\"color\":\"#00cc96\",\"pattern\":{\"shape\":\"\"}},\"name\":\"railways\",\"offsetgroup\":\"railways\",\"orientation\":\"v\",\"showlegend\":true,\"textposition\":\"auto\",\"x\":[\"USA\",\"RUS\",\"CHN\",\"IND\",\"FRA\",\"NLD\",\"MOZ\"],\"xaxis\":\"x\",\"y\":[36189222.39163781,12751297.27367315,8003928.051150543,4347844.294000002,329224.6252296653,64114.91581421662,0.0],\"yaxis\":\"y\",\"type\":\"bar\"},{\"alignmentgroup\":\"True\",\"hovertemplate\":\"subsector=iron-mining\\u003cbr\\u003eiso3_country=%{x}\\u003cbr\\u003eemissions_quantity=%{y}\\u003cextra\\u003e\\u003c\\u002fextra\\u003e\",\"legendgroup\":\"iron-mining\",\"marker\":{\"color\":\"#ab63fa\",\"pattern\":{\"shape\":\"\"}},\"name\":\"iron-mining\",\"offsetgroup\":\"iron-mining\",\"orientation\":\"v\",\"showlegend\":true,\"textposition\":\"auto\",\"x\":[\"IND\",\"CHN\",\"RUS\",\"USA\",\"NLD\",\"MOZ\",\"FRA\"],\"xaxis\":\"x\",\"y\":[28783804.000000004,12008510.000000002,8701373.687706254,2658966.000245662,0.0,0.0,0.0],\"yaxis\":\"y\",\"type\":\"bar\"},{\"alignmentgroup\":\"True\",\"hovertemplate\":\"subsector=pulp-and-paper\\u003cbr\\u003eiso3_country=%{x}\\u003cbr\\u003eemissions_quantity=%{y}\\u003cextra\\u003e\\u003c\\u002fextra\\u003e\",\"legendgroup\":\"pulp-and-paper\",\"marker\":{\"color\":\"#FFA15A\",\"pattern\":{\"shape\":\"\"}},\"name\":\"pulp-and-paper\",\"offsetgroup\":\"pulp-and-paper\",\"orientation\":\"v\",\"showlegend\":true,\"textposition\":\"auto\",\"x\":[\"USA\",\"CHN\",\"RUS\",\"IND\",\"FRA\",\"NLD\",\"MOZ\"],\"xaxis\":\"x\",\"y\":[27051940.99999998,12503236.780999985,5094980.148999998,1805050.7999999984,904616.9999999998,0.0,0.0],\"yaxis\":\"y\",\"type\":\"bar\"},{\"alignmentgroup\":\"True\",\"hovertemplate\":\"subsector=net-wetland\\u003cbr\\u003eiso3_country=%{x}\\u003cbr\\u003eemissions_quantity=%{y}\\u003cextra\\u003e\\u003c\\u002fextra\\u003e\",\"legendgroup\":\"net-wetland\",\"marker\":{\"color\":\"#19d3f3\",\"pattern\":{\"shape\":\"\"}},\"name\":\"net-wetland\",\"offsetgroup\":\"net-wetland\",\"orientation\":\"v\",\"showlegend\":true,\"textposition\":\"auto\",\"x\":[\"USA\",\"CHN\",\"MOZ\",\"NLD\",\"FRA\",\"IND\",\"RUS\"],\"xaxis\":\"x\",\"y\":[20827919.756687623,1415282.878699997,223220.30154999893,-61254.48462290009,-290832.4065675985,-1821400.519287,-57951649.93718675],\"yaxis\":\"y\",\"type\":\"bar\"},{\"alignmentgroup\":\"True\",\"hovertemplate\":\"subsector=textiles-leather-apparel\\u003cbr\\u003eiso3_country=%{x}\\u003cbr\\u003eemissions_quantity=%{y}\\u003cextra\\u003e\\u003c\\u002fextra\\u003e\",\"legendgroup\":\"textiles-leather-apparel\",\"marker\":{\"color\":\"#FF6692\",\"pattern\":{\"shape\":\"\"}},\"name\":\"textiles-leather-apparel\",\"offsetgroup\":\"textiles-leather-apparel\",\"orientation\":\"v\",\"showlegend\":true,\"textposition\":\"auto\",\"x\":[\"CHN\",\"IND\",\"USA\",\"FRA\",\"RUS\",\"NLD\",\"MOZ\"],\"xaxis\":\"x\",\"y\":[20186214.504708696,2205381.08582053,1749208.7464979703,259036.233594066,212125.5811609597,98517.71573206953,0.0],\"yaxis\":\"y\",\"type\":\"bar\"},{\"alignmentgroup\":\"True\",\"hovertemplate\":\"subsector=other-metals\\u003cbr\\u003eiso3_country=%{x}\\u003cbr\\u003eemissions_quantity=%{y}\\u003cextra\\u003e\\u003c\\u002fextra\\u003e\",\"legendgroup\":\"other-metals\",\"marker\":{\"color\":\"#B6E880\",\"pattern\":{\"shape\":\"\"}},\"name\":\"other-metals\",\"offsetgroup\":\"other-metals\",\"orientation\":\"v\",\"showlegend\":true,\"textposition\":\"auto\",\"x\":[\"USA\",\"FRA\",\"NLD\",\"CHN\",\"RUS\",\"IND\",\"MOZ\"],\"xaxis\":\"x\",\"y\":[20041427.995876465,5010999.992384251,114999.9998252223,0.0,0.0,0.0,0.0],\"yaxis\":\"y\",\"type\":\"bar\"},{\"alignmentgroup\":\"True\",\"hovertemplate\":\"subsector=other-mining-quarrying\\u003cbr\\u003eiso3_country=%{x}\\u003cbr\\u003eemissions_quantity=%{y}\\u003cextra\\u003e\\u003c\\u002fextra\\u003e\",\"legendgroup\":\"other-mining-quarrying\",\"marker\":{\"color\":\"#FF97FF\",\"pattern\":{\"shape\":\"\"}},\"name\":\"other-mining-quarrying\",\"offsetgroup\":\"other-mining-quarrying\",\"orientation\":\"v\",\"showlegend\":true,\"textposition\":\"auto\",\"x\":[\"CHN\",\"USA\",\"FRA\",\"MOZ\",\"RUS\",\"NLD\",\"IND\"],\"xaxis\":\"x\",\"y\":[11256842.340938045,3742796.820048404,615126.2200789265,565409.552233178,287112.4127013021,3129.4361362425934,0.0],\"yaxis\":\"y\",\"type\":\"bar\"},{\"alignmentgroup\":\"True\",\"hovertemplate\":\"subsector=copper-mining\\u003cbr\\u003eiso3_country=%{x}\\u003cbr\\u003eemissions_quantity=%{y}\\u003cextra\\u003e\\u003c\\u002fextra\\u003e\",\"legendgroup\":\"copper-mining\",\"marker\":{\"color\":\"#FECB52\",\"pattern\":{\"shape\":\"\"}},\"name\":\"copper-mining\",\"offsetgroup\":\"copper-mining\",\"orientation\":\"v\",\"showlegend\":true,\"textposition\":\"auto\",\"x\":[\"CHN\",\"USA\",\"RUS\",\"IND\",\"FRA\",\"MOZ\",\"NLD\"],\"xaxis\":\"x\",\"y\":[9999490.0,4474437.544003355,1912912.008185477,16704.0,0.0,0.0,0.0],\"yaxis\":\"y\",\"type\":\"bar\"},{\"alignmentgroup\":\"True\",\"hovertemplate\":\"subsector=glass\\u003cbr\\u003eiso3_country=%{x}\\u003cbr\\u003eemissions_quantity=%{y}\\u003cextra\\u003e\\u003c\\u002fextra\\u003e\",\"legendgroup\":\"glass\",\"marker\":{\"color\":\"#636efa\",\"pattern\":{\"shape\":\"\"}},\"name\":\"glass\",\"offsetgroup\":\"glass\",\"orientation\":\"v\",\"showlegend\":true,\"textposition\":\"auto\",\"x\":[\"USA\",\"FRA\",\"RUS\",\"CHN\",\"NLD\",\"IND\",\"MOZ\"],\"xaxis\":\"x\",\"y\":[9213645.999857675,5658390.802734126,3292968.002501108,2070084.566365712,751586.470671108,111611.88030580129,1974.245734063008],\"yaxis\":\"y\",\"type\":\"bar\"},{\"alignmentgroup\":\"True\",\"hovertemplate\":\"subsector=heat-plants\\u003cbr\\u003eiso3_country=%{x}\\u003cbr\\u003eemissions_quantity=%{y}\\u003cextra\\u003e\\u003c\\u002fextra\\u003e\",\"legendgroup\":\"heat-plants\",\"marker\":{\"color\":\"#EF553B\",\"pattern\":{\"shape\":\"\"}},\"name\":\"heat-plants\",\"offsetgroup\":\"heat-plants\",\"orientation\":\"v\",\"showlegend\":true,\"textposition\":\"auto\",\"x\":[\"CHN\",\"NLD\",\"FRA\",\"USA\",\"MOZ\",\"IND\",\"RUS\"],\"xaxis\":\"x\",\"y\":[9191039.0,848086.9999999997,0.0,0.0,0.0,0.0,0.0],\"yaxis\":\"y\",\"type\":\"bar\"},{\"alignmentgroup\":\"True\",\"hovertemplate\":\"subsector=wetland-fires\\u003cbr\\u003eiso3_country=%{x}\\u003cbr\\u003eemissions_quantity=%{y}\\u003cextra\\u003e\\u003c\\u002fextra\\u003e\",\"legendgroup\":\"wetland-fires\",\"marker\":{\"color\":\"#00cc96\",\"pattern\":{\"shape\":\"\"}},\"name\":\"wetland-fires\",\"offsetgroup\":\"wetland-fires\",\"orientation\":\"v\",\"showlegend\":true,\"textposition\":\"auto\",\"x\":[\"RUS\",\"MOZ\",\"USA\",\"CHN\",\"IND\",\"FRA\",\"NLD\"],\"xaxis\":\"x\",\"y\":[7852899.032130002,4132136.203642339,1054654.22401484,236968.86172759585,21443.67311703112,36.35887333333333,0.0],\"yaxis\":\"y\",\"type\":\"bar\"},{\"alignmentgroup\":\"True\",\"hovertemplate\":\"subsector=wood-and-wood-products\\u003cbr\\u003eiso3_country=%{x}\\u003cbr\\u003eemissions_quantity=%{y}\\u003cextra\\u003e\\u003c\\u002fextra\\u003e\",\"legendgroup\":\"wood-and-wood-products\",\"marker\":{\"color\":\"#ab63fa\",\"pattern\":{\"shape\":\"\"}},\"name\":\"wood-and-wood-products\",\"offsetgroup\":\"wood-and-wood-products\",\"orientation\":\"v\",\"showlegend\":true,\"textposition\":\"auto\",\"x\":[\"USA\",\"CHN\",\"RUS\",\"FRA\",\"NLD\",\"IND\",\"MOZ\"],\"xaxis\":\"x\",\"y\":[4472349.29619552,1930416.04652626,1285528.5905620602,207346.52548620096,24227.55013923849,0.0,0.0],\"yaxis\":\"y\",\"type\":\"bar\"},{\"alignmentgroup\":\"True\",\"hovertemplate\":\"subsector=other-fossil-fuel-operations\\u003cbr\\u003eiso3_country=%{x}\\u003cbr\\u003eemissions_quantity=%{y}\\u003cextra\\u003e\\u003c\\u002fextra\\u003e\",\"legendgroup\":\"other-fossil-fuel-operations\",\"marker\":{\"color\":\"#FFA15A\",\"pattern\":{\"shape\":\"\"}},\"name\":\"other-fossil-fuel-operations\",\"offsetgroup\":\"other-fossil-fuel-operations\",\"orientation\":\"v\",\"showlegend\":true,\"textposition\":\"auto\",\"x\":[\"FRA\",\"MOZ\",\"RUS\",\"IND\",\"USA\",\"CHN\",\"NLD\"],\"xaxis\":\"x\",\"y\":[3840832.0704696686,0.0,0.0,0.0,0.0,0.0,0.0],\"yaxis\":\"y\",\"type\":\"bar\"},{\"alignmentgroup\":\"True\",\"hovertemplate\":\"subsector=incineration-and-open-burning-of-waste\\u003cbr\\u003eiso3_country=%{x}\\u003cbr\\u003eemissions_quantity=%{y}\\u003cextra\\u003e\\u003c\\u002fextra\\u003e\",\"legendgroup\":\"incineration-and-open-burning-of-waste\",\"marker\":{\"color\":\"#19d3f3\",\"pattern\":{\"shape\":\"\"}},\"name\":\"incineration-and-open-burning-of-waste\",\"offsetgroup\":\"incineration-and-open-burning-of-waste\",\"orientation\":\"v\",\"showlegend\":true,\"textposition\":\"auto\",\"x\":[\"CHN\",\"FRA\",\"NLD\",\"USA\",\"MOZ\",\"RUS\",\"IND\"],\"xaxis\":\"x\",\"y\":[3569714.1853857697,1846611.616033313,362.4999558033402,0.0,0.0,0.0,0.0],\"yaxis\":\"y\",\"type\":\"bar\"},{\"alignmentgroup\":\"True\",\"hovertemplate\":\"subsector=forest-land-degradation\\u003cbr\\u003eiso3_country=%{x}\\u003cbr\\u003eemissions_quantity=%{y}\\u003cextra\\u003e\\u003c\\u002fextra\\u003e\",\"legendgroup\":\"forest-land-degradation\",\"marker\":{\"color\":\"#FF6692\",\"pattern\":{\"shape\":\"\"}},\"name\":\"forest-land-degradation\",\"offsetgroup\":\"forest-land-degradation\",\"orientation\":\"v\",\"showlegend\":true,\"textposition\":\"auto\",\"x\":[\"IND\",\"CHN\",\"MOZ\",\"USA\",\"RUS\",\"FRA\",\"NLD\"],\"xaxis\":\"x\",\"y\":[3044949.6985625545,23620.242136180503,5057.562190300001,1592.1269650833335,0.0,0.0,0.0],\"yaxis\":\"y\",\"type\":\"bar\"},{\"alignmentgroup\":\"True\",\"hovertemplate\":\"subsector=bauxite-mining\\u003cbr\\u003eiso3_country=%{x}\\u003cbr\\u003eemissions_quantity=%{y}\\u003cextra\\u003e\\u003c\\u002fextra\\u003e\",\"legendgroup\":\"bauxite-mining\",\"marker\":{\"color\":\"#B6E880\",\"pattern\":{\"shape\":\"\"}},\"name\":\"bauxite-mining\",\"offsetgroup\":\"bauxite-mining\",\"orientation\":\"v\",\"showlegend\":true,\"textposition\":\"auto\",\"x\":[\"IND\",\"CHN\",\"RUS\",\"MOZ\",\"USA\",\"NLD\",\"FRA\"],\"xaxis\":\"x\",\"y\":[1561867.0,283220.0000261667,134530.750575666,121.0,0.0,0.0,0.0],\"yaxis\":\"y\",\"type\":\"bar\"},{\"alignmentgroup\":\"True\",\"hovertemplate\":\"subsector=water-reservoirs\\u003cbr\\u003eiso3_country=%{x}\\u003cbr\\u003eemissions_quantity=%{y}\\u003cextra\\u003e\\u003c\\u002fextra\\u003e\",\"legendgroup\":\"water-reservoirs\",\"marker\":{\"color\":\"#FF97FF\",\"pattern\":{\"shape\":\"\"}},\"name\":\"water-reservoirs\",\"offsetgroup\":\"water-reservoirs\",\"orientation\":\"v\",\"showlegend\":true,\"textposition\":\"auto\",\"x\":[\"CHN\",\"IND\",\"RUS\",\"USA\",\"MOZ\",\"NLD\",\"FRA\"],\"xaxis\":\"x\",\"y\":[585626.2691819845,338332.9081217213,80306.75901672427,732.7087181934058,0.0,0.0,0.0],\"yaxis\":\"y\",\"type\":\"bar\"},{\"alignmentgroup\":\"True\",\"hovertemplate\":\"subsector=rock-quarrying\\u003cbr\\u003eiso3_country=%{x}\\u003cbr\\u003eemissions_quantity=%{y}\\u003cextra\\u003e\\u003c\\u002fextra\\u003e\",\"legendgroup\":\"rock-quarrying\",\"marker\":{\"color\":\"#FECB52\",\"pattern\":{\"shape\":\"\"}},\"name\":\"rock-quarrying\",\"offsetgroup\":\"rock-quarrying\",\"orientation\":\"v\",\"showlegend\":true,\"textposition\":\"auto\",\"x\":[\"RUS\",\"FRA\",\"NLD\",\"USA\",\"IND\",\"MOZ\",\"CHN\"],\"xaxis\":\"x\",\"y\":[328687.0014064734,60277.99986723529,34432.999924159936,8554.000000790304,802.0,108.0,23.00000000212497],\"yaxis\":\"y\",\"type\":\"bar\"},{\"alignmentgroup\":\"True\",\"hovertemplate\":\"subsector=sand-quarrying\\u003cbr\\u003eiso3_country=%{x}\\u003cbr\\u003eemissions_quantity=%{y}\\u003cextra\\u003e\\u003c\\u002fextra\\u003e\",\"legendgroup\":\"sand-quarrying\",\"marker\":{\"color\":\"#636efa\",\"pattern\":{\"shape\":\"\"}},\"name\":\"sand-quarrying\",\"offsetgroup\":\"sand-quarrying\",\"orientation\":\"v\",\"showlegend\":true,\"textposition\":\"auto\",\"x\":[\"NLD\",\"MOZ\",\"USA\",\"FRA\",\"IND\",\"RUS\",\"CHN\"],\"xaxis\":\"x\",\"y\":[64654.99985759476,7037.000000000001,5272.00000048708,1115.999997541965,15.0,0.0,0.0],\"yaxis\":\"y\",\"type\":\"bar\"},{\"alignmentgroup\":\"True\",\"hovertemplate\":\"subsector=manure-management-other\\u003cbr\\u003eiso3_country=%{x}\\u003cbr\\u003eemissions_quantity=%{y}\\u003cextra\\u003e\\u003c\\u002fextra\\u003e\",\"legendgroup\":\"manure-management-other\",\"marker\":{\"color\":\"#EF553B\",\"pattern\":{\"shape\":\"\"}},\"name\":\"manure-management-other\",\"offsetgroup\":\"manure-management-other\",\"orientation\":\"v\",\"showlegend\":true,\"textposition\":\"auto\",\"x\":[\"MOZ\",\"CHN\",\"RUS\",\"FRA\",\"IND\",\"USA\",\"NLD\"],\"xaxis\":\"x\",\"y\":[0.0,0.0,0.0,0.0,0.0,0.0,0.0],\"yaxis\":\"y\",\"type\":\"bar\"},{\"alignmentgroup\":\"True\",\"hovertemplate\":\"subsector=biological-treatment-of-solid-waste-and-biogenic\\u003cbr\\u003eiso3_country=%{x}\\u003cbr\\u003eemissions_quantity=%{y}\\u003cextra\\u003e\\u003c\\u002fextra\\u003e\",\"legendgroup\":\"biological-treatment-of-solid-waste-and-biogenic\",\"marker\":{\"color\":\"#00cc96\",\"pattern\":{\"shape\":\"\"}},\"name\":\"biological-treatment-of-solid-waste-and-biogenic\",\"offsetgroup\":\"biological-treatment-of-solid-waste-and-biogenic\",\"orientation\":\"v\",\"showlegend\":true,\"textposition\":\"auto\",\"x\":[\"MOZ\",\"RUS\",\"NLD\",\"IND\",\"FRA\",\"CHN\",\"USA\"],\"xaxis\":\"x\",\"y\":[0.0,0.0,0.0,0.0,0.0,0.0,0.0],\"yaxis\":\"y\",\"type\":\"bar\"},{\"alignmentgroup\":\"True\",\"hovertemplate\":\"subsector=manure-applied-to-soils\\u003cbr\\u003eiso3_country=%{x}\\u003cbr\\u003eemissions_quantity=%{y}\\u003cextra\\u003e\\u003c\\u002fextra\\u003e\",\"legendgroup\":\"manure-applied-to-soils\",\"marker\":{\"color\":\"#ab63fa\",\"pattern\":{\"shape\":\"\"}},\"name\":\"manure-applied-to-soils\",\"offsetgroup\":\"manure-applied-to-soils\",\"orientation\":\"v\",\"showlegend\":true,\"textposition\":\"auto\",\"x\":[\"CHN\",\"MOZ\",\"IND\",\"NLD\",\"USA\",\"FRA\",\"RUS\"],\"xaxis\":\"x\",\"y\":[0.0,0.0,0.0,0.0,0.0,0.0,0.0],\"yaxis\":\"y\",\"type\":\"bar\"},{\"alignmentgroup\":\"True\",\"hovertemplate\":\"subsector=fluorinated-gases\\u003cbr\\u003eiso3_country=%{x}\\u003cbr\\u003eemissions_quantity=%{y}\\u003cextra\\u003e\\u003c\\u002fextra\\u003e\",\"legendgroup\":\"fluorinated-gases\",\"marker\":{\"color\":\"#FFA15A\",\"pattern\":{\"shape\":\"\"}},\"name\":\"fluorinated-gases\",\"offsetgroup\":\"fluorinated-gases\",\"orientation\":\"v\",\"showlegend\":true,\"textposition\":\"auto\",\"x\":[\"RUS\",\"MOZ\",\"USA\",\"CHN\",\"IND\",\"NLD\",\"FRA\"],\"xaxis\":\"x\",\"y\":[0.0,0.0,0.0,0.0,0.0,0.0,0.0],\"yaxis\":\"y\",\"type\":\"bar\"},{\"alignmentgroup\":\"True\",\"hovertemplate\":\"subsector=enteric-fermentation-cattle-pasture\\u003cbr\\u003eiso3_country=%{x}\\u003cbr\\u003eemissions_quantity=%{y}\\u003cextra\\u003e\\u003c\\u002fextra\\u003e\",\"legendgroup\":\"enteric-fermentation-cattle-pasture\",\"marker\":{\"color\":\"#19d3f3\",\"pattern\":{\"shape\":\"\"}},\"name\":\"enteric-fermentation-cattle-pasture\",\"offsetgroup\":\"enteric-fermentation-cattle-pasture\",\"orientation\":\"v\",\"showlegend\":true,\"textposition\":\"auto\",\"x\":[\"IND\",\"USA\",\"MOZ\",\"NLD\",\"RUS\",\"CHN\",\"FRA\"],\"xaxis\":\"x\",\"y\":[0.0,0.0,0.0,0.0,0.0,0.0,0.0],\"yaxis\":\"y\",\"type\":\"bar\"},{\"alignmentgroup\":\"True\",\"hovertemplate\":\"subsector=domestic-wastewater-treatment-and-discharge\\u003cbr\\u003eiso3_country=%{x}\\u003cbr\\u003eemissions_quantity=%{y}\\u003cextra\\u003e\\u003c\\u002fextra\\u003e\",\"legendgroup\":\"domestic-wastewater-treatment-and-discharge\",\"marker\":{\"color\":\"#FF6692\",\"pattern\":{\"shape\":\"\"}},\"name\":\"domestic-wastewater-treatment-and-discharge\",\"offsetgroup\":\"domestic-wastewater-treatment-and-discharge\",\"orientation\":\"v\",\"showlegend\":true,\"textposition\":\"auto\",\"x\":[\"FRA\",\"CHN\",\"NLD\",\"USA\",\"RUS\",\"IND\",\"MOZ\"],\"xaxis\":\"x\",\"y\":[0.0,0.0,0.0,0.0,0.0,0.0,0.0],\"yaxis\":\"y\",\"type\":\"bar\"},{\"alignmentgroup\":\"True\",\"hovertemplate\":\"subsector=manure-management-cattle-operation\\u003cbr\\u003eiso3_country=%{x}\\u003cbr\\u003eemissions_quantity=%{y}\\u003cextra\\u003e\\u003c\\u002fextra\\u003e\",\"legendgroup\":\"manure-management-cattle-operation\",\"marker\":{\"color\":\"#B6E880\",\"pattern\":{\"shape\":\"\"}},\"name\":\"manure-management-cattle-operation\",\"offsetgroup\":\"manure-management-cattle-operation\",\"orientation\":\"v\",\"showlegend\":true,\"textposition\":\"auto\",\"x\":[\"MOZ\",\"USA\",\"CHN\",\"FRA\",\"IND\",\"NLD\",\"RUS\"],\"xaxis\":\"x\",\"y\":[0.0,0.0,0.0,0.0,0.0,0.0,0.0],\"yaxis\":\"y\",\"type\":\"bar\"},{\"alignmentgroup\":\"True\",\"hovertemplate\":\"subsector=enteric-fermentation-other\\u003cbr\\u003eiso3_country=%{x}\\u003cbr\\u003eemissions_quantity=%{y}\\u003cextra\\u003e\\u003c\\u002fextra\\u003e\",\"legendgroup\":\"enteric-fermentation-other\",\"marker\":{\"color\":\"#FF97FF\",\"pattern\":{\"shape\":\"\"}},\"name\":\"enteric-fermentation-other\",\"offsetgroup\":\"enteric-fermentation-other\",\"orientation\":\"v\",\"showlegend\":true,\"textposition\":\"auto\",\"x\":[\"MOZ\",\"NLD\",\"FRA\",\"IND\",\"RUS\",\"CHN\",\"USA\"],\"xaxis\":\"x\",\"y\":[0.0,0.0,0.0,0.0,0.0,0.0,0.0],\"yaxis\":\"y\",\"type\":\"bar\"},{\"alignmentgroup\":\"True\",\"hovertemplate\":\"subsector=industrial-wastewater-treatment-and-discharge\\u003cbr\\u003eiso3_country=%{x}\\u003cbr\\u003eemissions_quantity=%{y}\\u003cextra\\u003e\\u003c\\u002fextra\\u003e\",\"legendgroup\":\"industrial-wastewater-treatment-and-discharge\",\"marker\":{\"color\":\"#FECB52\",\"pattern\":{\"shape\":\"\"}},\"name\":\"industrial-wastewater-treatment-and-discharge\",\"offsetgroup\":\"industrial-wastewater-treatment-and-discharge\",\"orientation\":\"v\",\"showlegend\":true,\"textposition\":\"auto\",\"x\":[\"MOZ\",\"RUS\",\"NLD\",\"FRA\",\"CHN\",\"IND\",\"USA\"],\"xaxis\":\"x\",\"y\":[0.0,0.0,0.0,0.0,0.0,0.0,0.0],\"yaxis\":\"y\",\"type\":\"bar\"},{\"alignmentgroup\":\"True\",\"hovertemplate\":\"subsector=rice-cultivation\\u003cbr\\u003eiso3_country=%{x}\\u003cbr\\u003eemissions_quantity=%{y}\\u003cextra\\u003e\\u003c\\u002fextra\\u003e\",\"legendgroup\":\"rice-cultivation\",\"marker\":{\"color\":\"#636efa\",\"pattern\":{\"shape\":\"\"}},\"name\":\"rice-cultivation\",\"offsetgroup\":\"rice-cultivation\",\"orientation\":\"v\",\"showlegend\":true,\"textposition\":\"auto\",\"x\":[\"RUS\",\"IND\",\"USA\",\"FRA\",\"MOZ\",\"CHN\",\"NLD\"],\"xaxis\":\"x\",\"y\":[0.0,0.0,0.0,0.0,0.0,0.0,0.0],\"yaxis\":\"y\",\"type\":\"bar\"},{\"alignmentgroup\":\"True\",\"hovertemplate\":\"subsector=manure-left-on-pasture-cattle\\u003cbr\\u003eiso3_country=%{x}\\u003cbr\\u003eemissions_quantity=%{y}\\u003cextra\\u003e\\u003c\\u002fextra\\u003e\",\"legendgroup\":\"manure-left-on-pasture-cattle\",\"marker\":{\"color\":\"#EF553B\",\"pattern\":{\"shape\":\"\"}},\"name\":\"manure-left-on-pasture-cattle\",\"offsetgroup\":\"manure-left-on-pasture-cattle\",\"orientation\":\"v\",\"showlegend\":true,\"textposition\":\"auto\",\"x\":[\"MOZ\",\"FRA\",\"IND\",\"RUS\",\"NLD\",\"CHN\",\"USA\"],\"xaxis\":\"x\",\"y\":[0.0,0.0,0.0,0.0,0.0,0.0,0.0],\"yaxis\":\"y\",\"type\":\"bar\"},{\"alignmentgroup\":\"True\",\"hovertemplate\":\"subsector=enteric-fermentation-cattle-operation\\u003cbr\\u003eiso3_country=%{x}\\u003cbr\\u003eemissions_quantity=%{y}\\u003cextra\\u003e\\u003c\\u002fextra\\u003e\",\"legendgroup\":\"enteric-fermentation-cattle-operation\",\"marker\":{\"color\":\"#00cc96\",\"pattern\":{\"shape\":\"\"}},\"name\":\"enteric-fermentation-cattle-operation\",\"offsetgroup\":\"enteric-fermentation-cattle-operation\",\"orientation\":\"v\",\"showlegend\":true,\"textposition\":\"auto\",\"x\":[\"FRA\",\"MOZ\",\"CHN\",\"USA\",\"IND\",\"RUS\",\"NLD\"],\"xaxis\":\"x\",\"y\":[0.0,0.0,0.0,0.0,0.0,0.0,0.0],\"yaxis\":\"y\",\"type\":\"bar\"},{\"alignmentgroup\":\"True\",\"hovertemplate\":\"subsector=solid-waste-disposal\\u003cbr\\u003eiso3_country=%{x}\\u003cbr\\u003eemissions_quantity=%{y}\\u003cextra\\u003e\\u003c\\u002fextra\\u003e\",\"legendgroup\":\"solid-waste-disposal\",\"marker\":{\"color\":\"#ab63fa\",\"pattern\":{\"shape\":\"\"}},\"name\":\"solid-waste-disposal\",\"offsetgroup\":\"solid-waste-disposal\",\"orientation\":\"v\",\"showlegend\":true,\"textposition\":\"auto\",\"x\":[\"FRA\",\"USA\",\"RUS\",\"NLD\",\"CHN\",\"IND\",\"MOZ\"],\"xaxis\":\"x\",\"y\":[0.0,0.0,0.0,0.0,0.0,0.0,0.0],\"yaxis\":\"y\",\"type\":\"bar\"},{\"alignmentgroup\":\"True\",\"hovertemplate\":\"subsector=crop-residues\\u003cbr\\u003eiso3_country=%{x}\\u003cbr\\u003eemissions_quantity=%{y}\\u003cextra\\u003e\\u003c\\u002fextra\\u003e\",\"legendgroup\":\"crop-residues\",\"marker\":{\"color\":\"#FFA15A\",\"pattern\":{\"shape\":\"\"}},\"name\":\"crop-residues\",\"offsetgroup\":\"crop-residues\",\"orientation\":\"v\",\"showlegend\":true,\"textposition\":\"auto\",\"x\":[\"FRA\",\"MOZ\",\"CHN\",\"NLD\",\"IND\",\"USA\",\"RUS\"],\"xaxis\":\"x\",\"y\":[0.0,0.0,0.0,0.0,0.0,0.0,0.0],\"yaxis\":\"y\",\"type\":\"bar\"},{\"alignmentgroup\":\"True\",\"hovertemplate\":\"subsector=synthetic-fertilizer-application\\u003cbr\\u003eiso3_country=%{x}\\u003cbr\\u003eemissions_quantity=%{y}\\u003cextra\\u003e\\u003c\\u002fextra\\u003e\",\"legendgroup\":\"synthetic-fertilizer-application\",\"marker\":{\"color\":\"#19d3f3\",\"pattern\":{\"shape\":\"\"}},\"name\":\"synthetic-fertilizer-application\",\"offsetgroup\":\"synthetic-fertilizer-application\",\"orientation\":\"v\",\"showlegend\":true,\"textposition\":\"auto\",\"x\":[\"RUS\",\"USA\",\"CHN\",\"MOZ\",\"NLD\",\"IND\",\"FRA\"],\"xaxis\":\"x\",\"y\":[0.0,0.0,0.0,0.0,0.0,0.0,0.0],\"yaxis\":\"y\",\"type\":\"bar\"},{\"alignmentgroup\":\"True\",\"hovertemplate\":\"subsector=removals\\u003cbr\\u003eiso3_country=%{x}\\u003cbr\\u003eemissions_quantity=%{y}\\u003cextra\\u003e\\u003c\\u002fextra\\u003e\",\"legendgroup\":\"removals\",\"marker\":{\"color\":\"#FF6692\",\"pattern\":{\"shape\":\"\"}},\"name\":\"removals\",\"offsetgroup\":\"removals\",\"orientation\":\"v\",\"showlegend\":true,\"textposition\":\"auto\",\"x\":[\"NLD\",\"IND\",\"CHN\",\"FRA\",\"USA\",\"MOZ\",\"RUS\"],\"xaxis\":\"x\",\"y\":[-3721265.024076296,-8969746.386987858,-36597977.92835709,-73161476.6415329,-269888574.45924777,-491401924.20448846,-647533858.9075568],\"yaxis\":\"y\",\"type\":\"bar\"}],                        {\"template\":{\"data\":{\"histogram2dcontour\":[{\"type\":\"histogram2dcontour\",\"colorbar\":{\"outlinewidth\":0,\"ticks\":\"\"},\"colorscale\":[[0.0,\"#0d0887\"],[0.1111111111111111,\"#46039f\"],[0.2222222222222222,\"#7201a8\"],[0.3333333333333333,\"#9c179e\"],[0.4444444444444444,\"#bd3786\"],[0.5555555555555556,\"#d8576b\"],[0.6666666666666666,\"#ed7953\"],[0.7777777777777778,\"#fb9f3a\"],[0.8888888888888888,\"#fdca26\"],[1.0,\"#f0f921\"]]}],\"choropleth\":[{\"type\":\"choropleth\",\"colorbar\":{\"outlinewidth\":0,\"ticks\":\"\"}}],\"histogram2d\":[{\"type\":\"histogram2d\",\"colorbar\":{\"outlinewidth\":0,\"ticks\":\"\"},\"colorscale\":[[0.0,\"#0d0887\"],[0.1111111111111111,\"#46039f\"],[0.2222222222222222,\"#7201a8\"],[0.3333333333333333,\"#9c179e\"],[0.4444444444444444,\"#bd3786\"],[0.5555555555555556,\"#d8576b\"],[0.6666666666666666,\"#ed7953\"],[0.7777777777777778,\"#fb9f3a\"],[0.8888888888888888,\"#fdca26\"],[1.0,\"#f0f921\"]]}],\"heatmap\":[{\"type\":\"heatmap\",\"colorbar\":{\"outlinewidth\":0,\"ticks\":\"\"},\"colorscale\":[[0.0,\"#0d0887\"],[0.1111111111111111,\"#46039f\"],[0.2222222222222222,\"#7201a8\"],[0.3333333333333333,\"#9c179e\"],[0.4444444444444444,\"#bd3786\"],[0.5555555555555556,\"#d8576b\"],[0.6666666666666666,\"#ed7953\"],[0.7777777777777778,\"#fb9f3a\"],[0.8888888888888888,\"#fdca26\"],[1.0,\"#f0f921\"]]}],\"heatmapgl\":[{\"type\":\"heatmapgl\",\"colorbar\":{\"outlinewidth\":0,\"ticks\":\"\"},\"colorscale\":[[0.0,\"#0d0887\"],[0.1111111111111111,\"#46039f\"],[0.2222222222222222,\"#7201a8\"],[0.3333333333333333,\"#9c179e\"],[0.4444444444444444,\"#bd3786\"],[0.5555555555555556,\"#d8576b\"],[0.6666666666666666,\"#ed7953\"],[0.7777777777777778,\"#fb9f3a\"],[0.8888888888888888,\"#fdca26\"],[1.0,\"#f0f921\"]]}],\"contourcarpet\":[{\"type\":\"contourcarpet\",\"colorbar\":{\"outlinewidth\":0,\"ticks\":\"\"}}],\"contour\":[{\"type\":\"contour\",\"colorbar\":{\"outlinewidth\":0,\"ticks\":\"\"},\"colorscale\":[[0.0,\"#0d0887\"],[0.1111111111111111,\"#46039f\"],[0.2222222222222222,\"#7201a8\"],[0.3333333333333333,\"#9c179e\"],[0.4444444444444444,\"#bd3786\"],[0.5555555555555556,\"#d8576b\"],[0.6666666666666666,\"#ed7953\"],[0.7777777777777778,\"#fb9f3a\"],[0.8888888888888888,\"#fdca26\"],[1.0,\"#f0f921\"]]}],\"surface\":[{\"type\":\"surface\",\"colorbar\":{\"outlinewidth\":0,\"ticks\":\"\"},\"colorscale\":[[0.0,\"#0d0887\"],[0.1111111111111111,\"#46039f\"],[0.2222222222222222,\"#7201a8\"],[0.3333333333333333,\"#9c179e\"],[0.4444444444444444,\"#bd3786\"],[0.5555555555555556,\"#d8576b\"],[0.6666666666666666,\"#ed7953\"],[0.7777777777777778,\"#fb9f3a\"],[0.8888888888888888,\"#fdca26\"],[1.0,\"#f0f921\"]]}],\"mesh3d\":[{\"type\":\"mesh3d\",\"colorbar\":{\"outlinewidth\":0,\"ticks\":\"\"}}],\"scatter\":[{\"fillpattern\":{\"fillmode\":\"overlay\",\"size\":10,\"solidity\":0.2},\"type\":\"scatter\"}],\"parcoords\":[{\"type\":\"parcoords\",\"line\":{\"colorbar\":{\"outlinewidth\":0,\"ticks\":\"\"}}}],\"scatterpolargl\":[{\"type\":\"scatterpolargl\",\"marker\":{\"colorbar\":{\"outlinewidth\":0,\"ticks\":\"\"}}}],\"bar\":[{\"error_x\":{\"color\":\"#2a3f5f\"},\"error_y\":{\"color\":\"#2a3f5f\"},\"marker\":{\"line\":{\"color\":\"white\",\"width\":0.5},\"pattern\":{\"fillmode\":\"overlay\",\"size\":10,\"solidity\":0.2}},\"type\":\"bar\"}],\"scattergeo\":[{\"type\":\"scattergeo\",\"marker\":{\"colorbar\":{\"outlinewidth\":0,\"ticks\":\"\"}}}],\"scatterpolar\":[{\"type\":\"scatterpolar\",\"marker\":{\"colorbar\":{\"outlinewidth\":0,\"ticks\":\"\"}}}],\"histogram\":[{\"marker\":{\"pattern\":{\"fillmode\":\"overlay\",\"size\":10,\"solidity\":0.2}},\"type\":\"histogram\"}],\"scattergl\":[{\"type\":\"scattergl\",\"marker\":{\"colorbar\":{\"outlinewidth\":0,\"ticks\":\"\"}}}],\"scatter3d\":[{\"type\":\"scatter3d\",\"line\":{\"colorbar\":{\"outlinewidth\":0,\"ticks\":\"\"}},\"marker\":{\"colorbar\":{\"outlinewidth\":0,\"ticks\":\"\"}}}],\"scattermapbox\":[{\"type\":\"scattermapbox\",\"marker\":{\"colorbar\":{\"outlinewidth\":0,\"ticks\":\"\"}}}],\"scatterternary\":[{\"type\":\"scatterternary\",\"marker\":{\"colorbar\":{\"outlinewidth\":0,\"ticks\":\"\"}}}],\"scattercarpet\":[{\"type\":\"scattercarpet\",\"marker\":{\"colorbar\":{\"outlinewidth\":0,\"ticks\":\"\"}}}],\"carpet\":[{\"aaxis\":{\"endlinecolor\":\"#2a3f5f\",\"gridcolor\":\"#C8D4E3\",\"linecolor\":\"#C8D4E3\",\"minorgridcolor\":\"#C8D4E3\",\"startlinecolor\":\"#2a3f5f\"},\"baxis\":{\"endlinecolor\":\"#2a3f5f\",\"gridcolor\":\"#C8D4E3\",\"linecolor\":\"#C8D4E3\",\"minorgridcolor\":\"#C8D4E3\",\"startlinecolor\":\"#2a3f5f\"},\"type\":\"carpet\"}],\"table\":[{\"cells\":{\"fill\":{\"color\":\"#EBF0F8\"},\"line\":{\"color\":\"white\"}},\"header\":{\"fill\":{\"color\":\"#C8D4E3\"},\"line\":{\"color\":\"white\"}},\"type\":\"table\"}],\"barpolar\":[{\"marker\":{\"line\":{\"color\":\"white\",\"width\":0.5},\"pattern\":{\"fillmode\":\"overlay\",\"size\":10,\"solidity\":0.2}},\"type\":\"barpolar\"}],\"pie\":[{\"automargin\":true,\"type\":\"pie\"}]},\"layout\":{\"autotypenumbers\":\"strict\",\"colorway\":[\"#636efa\",\"#EF553B\",\"#00cc96\",\"#ab63fa\",\"#FFA15A\",\"#19d3f3\",\"#FF6692\",\"#B6E880\",\"#FF97FF\",\"#FECB52\"],\"font\":{\"color\":\"#2a3f5f\"},\"hovermode\":\"closest\",\"hoverlabel\":{\"align\":\"left\"},\"paper_bgcolor\":\"white\",\"plot_bgcolor\":\"white\",\"polar\":{\"bgcolor\":\"white\",\"angularaxis\":{\"gridcolor\":\"#EBF0F8\",\"linecolor\":\"#EBF0F8\",\"ticks\":\"\"},\"radialaxis\":{\"gridcolor\":\"#EBF0F8\",\"linecolor\":\"#EBF0F8\",\"ticks\":\"\"}},\"ternary\":{\"bgcolor\":\"white\",\"aaxis\":{\"gridcolor\":\"#DFE8F3\",\"linecolor\":\"#A2B1C6\",\"ticks\":\"\"},\"baxis\":{\"gridcolor\":\"#DFE8F3\",\"linecolor\":\"#A2B1C6\",\"ticks\":\"\"},\"caxis\":{\"gridcolor\":\"#DFE8F3\",\"linecolor\":\"#A2B1C6\",\"ticks\":\"\"}},\"coloraxis\":{\"colorbar\":{\"outlinewidth\":0,\"ticks\":\"\"}},\"colorscale\":{\"sequential\":[[0.0,\"#0d0887\"],[0.1111111111111111,\"#46039f\"],[0.2222222222222222,\"#7201a8\"],[0.3333333333333333,\"#9c179e\"],[0.4444444444444444,\"#bd3786\"],[0.5555555555555556,\"#d8576b\"],[0.6666666666666666,\"#ed7953\"],[0.7777777777777778,\"#fb9f3a\"],[0.8888888888888888,\"#fdca26\"],[1.0,\"#f0f921\"]],\"sequentialminus\":[[0.0,\"#0d0887\"],[0.1111111111111111,\"#46039f\"],[0.2222222222222222,\"#7201a8\"],[0.3333333333333333,\"#9c179e\"],[0.4444444444444444,\"#bd3786\"],[0.5555555555555556,\"#d8576b\"],[0.6666666666666666,\"#ed7953\"],[0.7777777777777778,\"#fb9f3a\"],[0.8888888888888888,\"#fdca26\"],[1.0,\"#f0f921\"]],\"diverging\":[[0,\"#8e0152\"],[0.1,\"#c51b7d\"],[0.2,\"#de77ae\"],[0.3,\"#f1b6da\"],[0.4,\"#fde0ef\"],[0.5,\"#f7f7f7\"],[0.6,\"#e6f5d0\"],[0.7,\"#b8e186\"],[0.8,\"#7fbc41\"],[0.9,\"#4d9221\"],[1,\"#276419\"]]},\"xaxis\":{\"gridcolor\":\"#EBF0F8\",\"linecolor\":\"#EBF0F8\",\"ticks\":\"\",\"title\":{\"standoff\":15},\"zerolinecolor\":\"#EBF0F8\",\"automargin\":true,\"zerolinewidth\":2},\"yaxis\":{\"gridcolor\":\"#EBF0F8\",\"linecolor\":\"#EBF0F8\",\"ticks\":\"\",\"title\":{\"standoff\":15},\"zerolinecolor\":\"#EBF0F8\",\"automargin\":true,\"zerolinewidth\":2},\"scene\":{\"xaxis\":{\"backgroundcolor\":\"white\",\"gridcolor\":\"#DFE8F3\",\"linecolor\":\"#EBF0F8\",\"showbackground\":true,\"ticks\":\"\",\"zerolinecolor\":\"#EBF0F8\",\"gridwidth\":2},\"yaxis\":{\"backgroundcolor\":\"white\",\"gridcolor\":\"#DFE8F3\",\"linecolor\":\"#EBF0F8\",\"showbackground\":true,\"ticks\":\"\",\"zerolinecolor\":\"#EBF0F8\",\"gridwidth\":2},\"zaxis\":{\"backgroundcolor\":\"white\",\"gridcolor\":\"#DFE8F3\",\"linecolor\":\"#EBF0F8\",\"showbackground\":true,\"ticks\":\"\",\"zerolinecolor\":\"#EBF0F8\",\"gridwidth\":2}},\"shapedefaults\":{\"line\":{\"color\":\"#2a3f5f\"}},\"annotationdefaults\":{\"arrowcolor\":\"#2a3f5f\",\"arrowhead\":0,\"arrowwidth\":1},\"geo\":{\"bgcolor\":\"white\",\"landcolor\":\"white\",\"subunitcolor\":\"#C8D4E3\",\"showland\":true,\"showlakes\":true,\"lakecolor\":\"white\"},\"title\":{\"x\":0.05},\"mapbox\":{\"style\":\"light\"}}},\"xaxis\":{\"anchor\":\"y\",\"domain\":[0.0,1.0],\"title\":{\"text\":\"iso3_country\"}},\"yaxis\":{\"anchor\":\"x\",\"domain\":[0.0,1.0],\"title\":{\"text\":\"emissions_quantity\"}},\"legend\":{\"title\":{\"text\":\"subsector\"},\"tracegroupgap\":0},\"margin\":{\"t\":60},\"barmode\":\"relative\"},                        {\"responsive\": true}                    ).then(function(){\n",
       "                            \n",
       "var gd = document.getElementById('cce4a312-4bf7-48d5-aaf7-7af8da61598f');\n",
       "var x = new MutationObserver(function (mutations, observer) {{\n",
       "        var display = window.getComputedStyle(gd).display;\n",
       "        if (!display || display === 'none') {{\n",
       "            console.log([gd, 'removed!']);\n",
       "            Plotly.purge(gd);\n",
       "            observer.disconnect();\n",
       "        }}\n",
       "}});\n",
       "\n",
       "// Listen for the removal of the full notebook cells\n",
       "var notebookContainer = gd.closest('#notebook-container');\n",
       "if (notebookContainer) {{\n",
       "    x.observe(notebookContainer, {childList: true});\n",
       "}}\n",
       "\n",
       "// Listen for the clearing of the current output cell\n",
       "var outputEl = gd.closest('.output');\n",
       "if (outputEl) {{\n",
       "    x.observe(outputEl, {childList: true});\n",
       "}}\n",
       "\n",
       "                        })                };                });            </script>        </div>"
      ]
     },
     "metadata": {},
     "output_type": "display_data"
    }
   ],
   "source": [
    "px.bar(cedf_gy\n",
    "    .group_by(c_iso3_country, c_subsector)\n",
    "    .agg(c_emissions_quantity.sum())\n",
    "    .sort([c_emissions_quantity], descending=True)\n",
    "    .filter(c_iso3_country.is_in([\n",
    "        \"CHN\", \"USA\", \"IND\", \"RUS\",\"MOZ\",\"FRA\", \"NLD\"]))\n",
    ",x=ISO3_COUNTRY, y=EMISSIONS_QUANTITY,color=SUBSECTOR,log_y=False)"
   ]
  },
  {
   "cell_type": "markdown",
   "id": "67ecf794-d2c4-4fc2-bce4-52e0fc4f0d3a",
   "metadata": {},
   "source": [
    "## Source checks\n",
    "\n",
    "Let's look now at all the sources tracked by Climate TRACE.\n",
    "\n",
    "We load the data first.\n",
    "\n",
    "```{note}\n",
    "\n",
    "Technical\n",
    "\n",
    "- We load the data using `scan_parquet`. This instructs Polars to delay the actual loading in memory until requested. The amount of memory necessary will then be minimal, even if the dataset itself is 4GB.\n",
    "\n",
    "- We reset the schema, in particular we add all the information about enumerations. This provides better type checks and helps Polars with optimizing its queries.\n",
    "\n",
    "```\n",
    "\n",
    "You can see that Polars has not done any processing if you attempt to display the data:"
   ]
  },
  {
   "cell_type": "code",
   "execution_count": 37,
   "id": "71fcae25-e772-4089-b8bf-f2a16eee3819",
   "metadata": {},
   "outputs": [
    {
     "data": {
      "text/html": [
       "<h4>NAIVE QUERY PLAN</h4><p>run <b>LazyFrame.show_graph()</b> to see the optimized version</p><?xml version=\"1.0\" encoding=\"UTF-8\" standalone=\"no\"?>\n",
       "<!DOCTYPE svg PUBLIC \"-//W3C//DTD SVG 1.1//EN\"\n",
       " \"http://www.w3.org/Graphics/SVG/1.1/DTD/svg11.dtd\">\n",
       "<!-- Generated by graphviz version 2.43.0 (0)\n",
       " -->\n",
       "<!-- Title: polars_query Pages: 1 -->\n",
       "<svg width=\"3898pt\" height=\"190pt\"\n",
       " viewBox=\"0.00 0.00 3898.00 190.00\" xmlns=\"http://www.w3.org/2000/svg\" xmlns:xlink=\"http://www.w3.org/1999/xlink\">\n",
       "<g id=\"graph0\" class=\"graph\" transform=\"scale(1 1) rotate(0) translate(4 186)\">\n",
       "<title>polars_query</title>\n",
       "<polygon fill=\"white\" stroke=\"transparent\" points=\"-4,4 -4,-186 3894,-186 3894,4 -4,4\"/>\n",
       "<!-- p1 -->\n",
       "<g id=\"node1\" class=\"node\">\n",
       "<title>p1</title>\n",
       "<polygon fill=\"none\" stroke=\"black\" points=\"3890,-182 0,-182 0,-146 3890,-146 3890,-182\"/>\n",
       "<text text-anchor=\"middle\" x=\"1945\" y=\"-160.3\" font-family=\"Times,serif\" font-size=\"14.00\">WITH COLUMNS [col(&quot;conf_source_type&quot;).cast(Enum(Some(local), Physical)).alias(&quot;conf_source_type&quot;), col(&quot;conf_capacity&quot;).cast(Enum(Some(local), Physical)).alias(&quot;conf_capacity&quot;), col(&quot;conf_capacity_factor&quot;).cast(Enum(Some(local), Physical)).alias(&quot;conf_capacity_factor&quot;), col(&quot;conf_activity&quot;).cast(Enum(Some(local), Physical)).alias(&quot;conf_activity&quot;), col(&quot;conf_emissions_factor&quot;).cast(Enum(Some(local), Physical)).alias(&quot;conf_emissions_factor&quot;), col(&quot;conf_emissions_quantity&quot;).cast(Enum(Some(local), Physical)).alias(&quot;conf_emissions_quantity&quot;)]</text>\n",
       "</g>\n",
       "<!-- p2 -->\n",
       "<g id=\"node2\" class=\"node\">\n",
       "<title>p2</title>\n",
       "<polygon fill=\"none\" stroke=\"black\" points=\"3396.5,-110 493.5,-110 493.5,-74 3396.5,-74 3396.5,-110\"/>\n",
       "<text text-anchor=\"middle\" x=\"1945\" y=\"-88.3\" font-family=\"Times,serif\" font-size=\"14.00\">WITH COLUMNS [col(&quot;iso3_country&quot;).strict_cast(Enum(Some(local), Physical)).alias(&quot;iso3_country&quot;), col(&quot;gas&quot;).cast(Enum(Some(local), Physical)).alias(&quot;gas&quot;), col(&quot;temporal_granularity&quot;).strict_cast(Enum(Some(local), Physical)).alias(&quot;temporal_granularity&quot;), col(&quot;subsector&quot;).strict_cast(Enum(Some(local), Physical)).alias(&quot;subsector&quot;), col(&quot;sector&quot;).strict_cast(Enum(Some(local), Physical)).alias(&quot;sector&quot;)]</text>\n",
       "</g>\n",
       "<!-- p1&#45;&#45;p2 -->\n",
       "<g id=\"edge1\" class=\"edge\">\n",
       "<title>p1&#45;&#45;p2</title>\n",
       "<path fill=\"none\" stroke=\"black\" d=\"M1945,-145.7C1945,-134.85 1945,-120.92 1945,-110.1\"/>\n",
       "</g>\n",
       "<!-- p3 -->\n",
       "<g id=\"node3\" class=\"node\">\n",
       "<title>p3</title>\n",
       "<polygon fill=\"none\" stroke=\"black\" points=\"2674,-38 1216,-38 1216,0 2674,0 2674,-38\"/>\n",
       "<text text-anchor=\"middle\" x=\"1945\" y=\"-22.8\" font-family=\"Times,serif\" font-size=\"14.00\">Parquet SCAN [/home/tjhunter/.cache/huggingface/hub/datasets&#45;&#45;tjhunter&#45;&#45;climate&#45;trace/snapshots/0b3118cbff34f5017ecd9616971cad8e240299b5/climate_trace&#45;sources_v3&#45;2024&#45;ct4_2024_co2.parquet]</text>\n",
       "<text text-anchor=\"middle\" x=\"1945\" y=\"-7.8\" font-family=\"Times,serif\" font-size=\"14.00\">π */54;</text>\n",
       "</g>\n",
       "<!-- p2&#45;&#45;p3 -->\n",
       "<g id=\"edge2\" class=\"edge\">\n",
       "<title>p2&#45;&#45;p3</title>\n",
       "<path fill=\"none\" stroke=\"black\" d=\"M1945,-73.81C1945,-62.98 1945,-49.01 1945,-38.02\"/>\n",
       "</g>\n",
       "</g>\n",
       "</svg>\n"
      ],
      "text/plain": [
       "<LazyFrame at 0x7E87980069B0>"
      ]
     },
     "execution_count": 37,
     "metadata": {},
     "output_type": "execute_result"
    }
   ],
   "source": [
    "sdf_gy = ct.read_source_emissions(gas=gas, year=year)\n",
    "sdf_gy"
   ]
  },
  {
   "cell_type": "markdown",
   "id": "8a39c5b9-f9e3-4a05-bad2-2b4b8b505775",
   "metadata": {},
   "source": [
    "How much emissions are released according to the source tracking? This number is significantly higher compared to what was estimated per country (57GT CO2 instead of 41GT CO2). \n",
    "\n",
    "The forestry and land use category is notoriously hard to estimate, so we are going for now to leave it aside"
   ]
  },
  {
   "cell_type": "code",
   "execution_count": 38,
   "id": "403e7a0b-beed-41bd-aa08-2d3a684855e6",
   "metadata": {},
   "outputs": [
    {
     "data": {
      "text/html": [
       "<div><style>\n",
       ".dataframe > thead > tr,\n",
       ".dataframe > tbody > tr {\n",
       "  text-align: right;\n",
       "  white-space: pre-wrap;\n",
       "}\n",
       "</style>\n",
       "<small>shape: (1, 1)</small><table border=\"1\" class=\"dataframe\"><thead><tr><th>emissions_quantity</th></tr><tr><td>f64</td></tr></thead><tbody><tr><td>5.7571e10</td></tr></tbody></table></div>"
      ],
      "text/plain": [
       "shape: (1, 1)\n",
       "┌────────────────────┐\n",
       "│ emissions_quantity │\n",
       "│ ---                │\n",
       "│ f64                │\n",
       "╞════════════════════╡\n",
       "│ 5.7571e10          │\n",
       "└────────────────────┘"
      ]
     },
     "execution_count": 38,
     "metadata": {},
     "output_type": "execute_result"
    }
   ],
   "source": [
    "(sdf_gy\n",
    " .filter(c_sector != FORESTRY_AND_LAND_USE)\n",
    " .select(c_emissions_quantity.sum())\n",
    " .collect()\n",
    ")"
   ]
  },
  {
   "cell_type": "markdown",
   "id": "2a83030f-a783-4130-949b-68fd6389dba6",
   "metadata": {},
   "source": [
    "### The biggest sources\n",
    "\n",
    "What are the biggest sources of emissions? Fossil fuel operations (the Permian bassin in Texas, oil fields in Russia) are amongst the largest sources. Agriculture also plays a huge role, especially Brazil and India."
   ]
  },
  {
   "cell_type": "code",
   "execution_count": 39,
   "id": "27eb578c-a37e-4c84-98da-572df1952071",
   "metadata": {},
   "outputs": [],
   "source": [
    "# TODO: polars issue\n",
    "#(sdf_gy\n",
    "#.filter(c_emissions_quantity > 0)\n",
    "#.filter(c_sector != FORESTRY_AND_LAND_USE)\n",
    "#.top_k(10, by=c_emissions_quantity)\n",
    "#.collect()\n",
    "#)"
   ]
  },
  {
   "cell_type": "markdown",
   "id": "87e168bb-5c5f-42bc-802b-5adb334b47c8",
   "metadata": {},
   "source": [
    "### Number of tracked sources\n",
    "\n",
    "How many sources were tracked last year?\n",
    "\n",
    "We get more than 1.2millions if the forestry and land use changes are included.\n",
    "\n",
    "Technical:\n",
    "\n",
    "Notice that we did not need to ingest the data in a database, and yet this query takes less than a second. Pretty good for a decently large dataset! Try to reproduce this analysis in Pandas and see what happens.\n",
    "\n",
    "\n",
    "```{admonition} CTODO\n",
    ":name: sec-emissions\n",
    "The CT map seems to report 1.8M.\n",
    "```\n"
   ]
  },
  {
   "cell_type": "code",
   "execution_count": 40,
   "id": "fe845e74-a0b9-4892-9428-ba7fd9a926c0",
   "metadata": {},
   "outputs": [
    {
     "data": {
      "text/plain": [
       "1264511"
      ]
     },
     "execution_count": 40,
     "metadata": {},
     "output_type": "execute_result"
    }
   ],
   "source": [
    "(sdf_gy.select(c_source_id.unique_counts())\n",
    " .count()\n",
    " .collect()\n",
    " .item() # Using .item() to have a single number\n",
    ")"
   ]
  },
  {
   "cell_type": "markdown",
   "id": "f6e7bcd3-ba5f-49b0-bd0c-565657338f11",
   "metadata": {},
   "source": [
    "Excluding them, we get the number reported officially by Climate TRACE (748k)."
   ]
  },
  {
   "cell_type": "code",
   "execution_count": 41,
   "id": "471254a9-8566-4c8f-8068-637dd52d961d",
   "metadata": {},
   "outputs": [
    {
     "data": {
      "text/plain": [
       "748730"
      ]
     },
     "execution_count": 41,
     "metadata": {},
     "output_type": "execute_result"
    }
   ],
   "source": [
    "(sdf_gy.filter(c_sector != FORESTRY_AND_LAND_USE)\n",
    ".select(c_source_id.unique_counts())\n",
    " .count()\n",
    " .collect()\n",
    " .item()\n",
    ")"
   ]
  },
  {
   "cell_type": "markdown",
   "id": "572c2fe1-c5be-4a2a-8383-39cbe6e692e3",
   "metadata": {},
   "source": [
    "Which categories do these records come from?\n",
    "\n",
    "This shows the full diversity of the sources to consider. The most numerous records concern ships, followed by various treatment plants for cities, forest statistics, etc."
   ]
  },
  {
   "cell_type": "code",
   "execution_count": 42,
   "id": "ae8b6132-6dd0-4773-803d-a53b73d6e8cb",
   "metadata": {},
   "outputs": [
    {
     "data": {
      "application/vnd.plotly.v1+json": {
       "config": {
        "plotlyServerURL": "https://plot.ly"
       },
       "data": [
        {
         "alignmentgroup": "True",
         "hovertemplate": "subsector=%{x}<br>count=%{y}<extra></extra>",
         "legendgroup": "",
         "marker": {
          "color": "#636efa",
          "pattern": {
           "shape": ""
          }
         },
         "name": "",
         "offsetgroup": "",
         "orientation": "v",
         "showlegend": false,
         "textposition": "auto",
         "type": "bar",
         "x": [
          "enteric-fermentation-cattle-operation",
          "manure-management-cattle-operation",
          "rice-cultivation",
          "removals",
          "residential-onsite-fuel-usage",
          "net-shrubgrass",
          "road-transportation",
          "net-forest-land",
          "net-wetland",
          "cropland-fires",
          "forest-land-clearing",
          "synthetic-fertilizer-application",
          "shrubgrass-fires",
          "non-residential-onsite-fuel-usage",
          "forest-land-fires",
          "domestic-wastewater-treatment-and-discharge",
          "enteric-fermentation-cattle-pasture",
          "manure-left-on-pasture-cattle",
          "forest-land-degradation",
          "wetland-fires",
          "food-beverage-tobacco",
          "textiles-leather-apparel",
          "solid-waste-disposal",
          "electricity-generation",
          "domestic-shipping",
          "international-shipping",
          "water-reservoirs",
          "domestic-aviation",
          "international-aviation",
          "coal-mining",
          "cement",
          "lime",
          "industrial-wastewater-treatment-and-discharge",
          "iron-and-steel",
          "iron-mining",
          "oil-and-gas-refining",
          "copper-mining",
          "glass",
          "other-chemicals",
          "other-metals",
          "other-manufacturing",
          "chemicals",
          "oil-and-gas-production",
          "oil-and-gas-transport",
          "pulp-and-paper",
          "bauxite-mining",
          "petrochemical-steam-cracking",
          "aluminum"
         ],
         "xaxis": "x",
         "y": [
          932736,
          932736,
          721896,
          721668,
          721152,
          719748,
          718884,
          717120,
          697776,
          688572,
          684240,
          652788,
          652560,
          649863,
          647772,
          646260,
          642888,
          642204,
          638496,
          625584,
          176752,
          153948,
          115500,
          106464,
          99132,
          86256,
          84408,
          58920,
          58920,
          45456,
          26892,
          19308,
          15312,
          10728,
          8664,
          8484,
          8076,
          7668,
          5268,
          5016,
          4776,
          4452,
          3432,
          3432,
          3168,
          3168,
          2808,
          2616
         ],
         "yaxis": "y"
        }
       ],
       "layout": {
        "autosize": true,
        "barmode": "relative",
        "legend": {
         "tracegroupgap": 0
        },
        "margin": {
         "t": 60
        },
        "template": {
         "data": {
          "bar": [
           {
            "error_x": {
             "color": "#2a3f5f"
            },
            "error_y": {
             "color": "#2a3f5f"
            },
            "marker": {
             "line": {
              "color": "white",
              "width": 0.5
             },
             "pattern": {
              "fillmode": "overlay",
              "size": 10,
              "solidity": 0.2
             }
            },
            "type": "bar"
           }
          ],
          "barpolar": [
           {
            "marker": {
             "line": {
              "color": "white",
              "width": 0.5
             },
             "pattern": {
              "fillmode": "overlay",
              "size": 10,
              "solidity": 0.2
             }
            },
            "type": "barpolar"
           }
          ],
          "carpet": [
           {
            "aaxis": {
             "endlinecolor": "#2a3f5f",
             "gridcolor": "#C8D4E3",
             "linecolor": "#C8D4E3",
             "minorgridcolor": "#C8D4E3",
             "startlinecolor": "#2a3f5f"
            },
            "baxis": {
             "endlinecolor": "#2a3f5f",
             "gridcolor": "#C8D4E3",
             "linecolor": "#C8D4E3",
             "minorgridcolor": "#C8D4E3",
             "startlinecolor": "#2a3f5f"
            },
            "type": "carpet"
           }
          ],
          "choropleth": [
           {
            "colorbar": {
             "outlinewidth": 0,
             "ticks": ""
            },
            "type": "choropleth"
           }
          ],
          "contour": [
           {
            "colorbar": {
             "outlinewidth": 0,
             "ticks": ""
            },
            "colorscale": [
             [
              0,
              "#0d0887"
             ],
             [
              0.1111111111111111,
              "#46039f"
             ],
             [
              0.2222222222222222,
              "#7201a8"
             ],
             [
              0.3333333333333333,
              "#9c179e"
             ],
             [
              0.4444444444444444,
              "#bd3786"
             ],
             [
              0.5555555555555556,
              "#d8576b"
             ],
             [
              0.6666666666666666,
              "#ed7953"
             ],
             [
              0.7777777777777778,
              "#fb9f3a"
             ],
             [
              0.8888888888888888,
              "#fdca26"
             ],
             [
              1,
              "#f0f921"
             ]
            ],
            "type": "contour"
           }
          ],
          "contourcarpet": [
           {
            "colorbar": {
             "outlinewidth": 0,
             "ticks": ""
            },
            "type": "contourcarpet"
           }
          ],
          "heatmap": [
           {
            "colorbar": {
             "outlinewidth": 0,
             "ticks": ""
            },
            "colorscale": [
             [
              0,
              "#0d0887"
             ],
             [
              0.1111111111111111,
              "#46039f"
             ],
             [
              0.2222222222222222,
              "#7201a8"
             ],
             [
              0.3333333333333333,
              "#9c179e"
             ],
             [
              0.4444444444444444,
              "#bd3786"
             ],
             [
              0.5555555555555556,
              "#d8576b"
             ],
             [
              0.6666666666666666,
              "#ed7953"
             ],
             [
              0.7777777777777778,
              "#fb9f3a"
             ],
             [
              0.8888888888888888,
              "#fdca26"
             ],
             [
              1,
              "#f0f921"
             ]
            ],
            "type": "heatmap"
           }
          ],
          "heatmapgl": [
           {
            "colorbar": {
             "outlinewidth": 0,
             "ticks": ""
            },
            "colorscale": [
             [
              0,
              "#0d0887"
             ],
             [
              0.1111111111111111,
              "#46039f"
             ],
             [
              0.2222222222222222,
              "#7201a8"
             ],
             [
              0.3333333333333333,
              "#9c179e"
             ],
             [
              0.4444444444444444,
              "#bd3786"
             ],
             [
              0.5555555555555556,
              "#d8576b"
             ],
             [
              0.6666666666666666,
              "#ed7953"
             ],
             [
              0.7777777777777778,
              "#fb9f3a"
             ],
             [
              0.8888888888888888,
              "#fdca26"
             ],
             [
              1,
              "#f0f921"
             ]
            ],
            "type": "heatmapgl"
           }
          ],
          "histogram": [
           {
            "marker": {
             "pattern": {
              "fillmode": "overlay",
              "size": 10,
              "solidity": 0.2
             }
            },
            "type": "histogram"
           }
          ],
          "histogram2d": [
           {
            "colorbar": {
             "outlinewidth": 0,
             "ticks": ""
            },
            "colorscale": [
             [
              0,
              "#0d0887"
             ],
             [
              0.1111111111111111,
              "#46039f"
             ],
             [
              0.2222222222222222,
              "#7201a8"
             ],
             [
              0.3333333333333333,
              "#9c179e"
             ],
             [
              0.4444444444444444,
              "#bd3786"
             ],
             [
              0.5555555555555556,
              "#d8576b"
             ],
             [
              0.6666666666666666,
              "#ed7953"
             ],
             [
              0.7777777777777778,
              "#fb9f3a"
             ],
             [
              0.8888888888888888,
              "#fdca26"
             ],
             [
              1,
              "#f0f921"
             ]
            ],
            "type": "histogram2d"
           }
          ],
          "histogram2dcontour": [
           {
            "colorbar": {
             "outlinewidth": 0,
             "ticks": ""
            },
            "colorscale": [
             [
              0,
              "#0d0887"
             ],
             [
              0.1111111111111111,
              "#46039f"
             ],
             [
              0.2222222222222222,
              "#7201a8"
             ],
             [
              0.3333333333333333,
              "#9c179e"
             ],
             [
              0.4444444444444444,
              "#bd3786"
             ],
             [
              0.5555555555555556,
              "#d8576b"
             ],
             [
              0.6666666666666666,
              "#ed7953"
             ],
             [
              0.7777777777777778,
              "#fb9f3a"
             ],
             [
              0.8888888888888888,
              "#fdca26"
             ],
             [
              1,
              "#f0f921"
             ]
            ],
            "type": "histogram2dcontour"
           }
          ],
          "mesh3d": [
           {
            "colorbar": {
             "outlinewidth": 0,
             "ticks": ""
            },
            "type": "mesh3d"
           }
          ],
          "parcoords": [
           {
            "line": {
             "colorbar": {
              "outlinewidth": 0,
              "ticks": ""
             }
            },
            "type": "parcoords"
           }
          ],
          "pie": [
           {
            "automargin": true,
            "type": "pie"
           }
          ],
          "scatter": [
           {
            "fillpattern": {
             "fillmode": "overlay",
             "size": 10,
             "solidity": 0.2
            },
            "type": "scatter"
           }
          ],
          "scatter3d": [
           {
            "line": {
             "colorbar": {
              "outlinewidth": 0,
              "ticks": ""
             }
            },
            "marker": {
             "colorbar": {
              "outlinewidth": 0,
              "ticks": ""
             }
            },
            "type": "scatter3d"
           }
          ],
          "scattercarpet": [
           {
            "marker": {
             "colorbar": {
              "outlinewidth": 0,
              "ticks": ""
             }
            },
            "type": "scattercarpet"
           }
          ],
          "scattergeo": [
           {
            "marker": {
             "colorbar": {
              "outlinewidth": 0,
              "ticks": ""
             }
            },
            "type": "scattergeo"
           }
          ],
          "scattergl": [
           {
            "marker": {
             "colorbar": {
              "outlinewidth": 0,
              "ticks": ""
             }
            },
            "type": "scattergl"
           }
          ],
          "scattermapbox": [
           {
            "marker": {
             "colorbar": {
              "outlinewidth": 0,
              "ticks": ""
             }
            },
            "type": "scattermapbox"
           }
          ],
          "scatterpolar": [
           {
            "marker": {
             "colorbar": {
              "outlinewidth": 0,
              "ticks": ""
             }
            },
            "type": "scatterpolar"
           }
          ],
          "scatterpolargl": [
           {
            "marker": {
             "colorbar": {
              "outlinewidth": 0,
              "ticks": ""
             }
            },
            "type": "scatterpolargl"
           }
          ],
          "scatterternary": [
           {
            "marker": {
             "colorbar": {
              "outlinewidth": 0,
              "ticks": ""
             }
            },
            "type": "scatterternary"
           }
          ],
          "surface": [
           {
            "colorbar": {
             "outlinewidth": 0,
             "ticks": ""
            },
            "colorscale": [
             [
              0,
              "#0d0887"
             ],
             [
              0.1111111111111111,
              "#46039f"
             ],
             [
              0.2222222222222222,
              "#7201a8"
             ],
             [
              0.3333333333333333,
              "#9c179e"
             ],
             [
              0.4444444444444444,
              "#bd3786"
             ],
             [
              0.5555555555555556,
              "#d8576b"
             ],
             [
              0.6666666666666666,
              "#ed7953"
             ],
             [
              0.7777777777777778,
              "#fb9f3a"
             ],
             [
              0.8888888888888888,
              "#fdca26"
             ],
             [
              1,
              "#f0f921"
             ]
            ],
            "type": "surface"
           }
          ],
          "table": [
           {
            "cells": {
             "fill": {
              "color": "#EBF0F8"
             },
             "line": {
              "color": "white"
             }
            },
            "header": {
             "fill": {
              "color": "#C8D4E3"
             },
             "line": {
              "color": "white"
             }
            },
            "type": "table"
           }
          ]
         },
         "layout": {
          "annotationdefaults": {
           "arrowcolor": "#2a3f5f",
           "arrowhead": 0,
           "arrowwidth": 1
          },
          "autotypenumbers": "strict",
          "coloraxis": {
           "colorbar": {
            "outlinewidth": 0,
            "ticks": ""
           }
          },
          "colorscale": {
           "diverging": [
            [
             0,
             "#8e0152"
            ],
            [
             0.1,
             "#c51b7d"
            ],
            [
             0.2,
             "#de77ae"
            ],
            [
             0.3,
             "#f1b6da"
            ],
            [
             0.4,
             "#fde0ef"
            ],
            [
             0.5,
             "#f7f7f7"
            ],
            [
             0.6,
             "#e6f5d0"
            ],
            [
             0.7,
             "#b8e186"
            ],
            [
             0.8,
             "#7fbc41"
            ],
            [
             0.9,
             "#4d9221"
            ],
            [
             1,
             "#276419"
            ]
           ],
           "sequential": [
            [
             0,
             "#0d0887"
            ],
            [
             0.1111111111111111,
             "#46039f"
            ],
            [
             0.2222222222222222,
             "#7201a8"
            ],
            [
             0.3333333333333333,
             "#9c179e"
            ],
            [
             0.4444444444444444,
             "#bd3786"
            ],
            [
             0.5555555555555556,
             "#d8576b"
            ],
            [
             0.6666666666666666,
             "#ed7953"
            ],
            [
             0.7777777777777778,
             "#fb9f3a"
            ],
            [
             0.8888888888888888,
             "#fdca26"
            ],
            [
             1,
             "#f0f921"
            ]
           ],
           "sequentialminus": [
            [
             0,
             "#0d0887"
            ],
            [
             0.1111111111111111,
             "#46039f"
            ],
            [
             0.2222222222222222,
             "#7201a8"
            ],
            [
             0.3333333333333333,
             "#9c179e"
            ],
            [
             0.4444444444444444,
             "#bd3786"
            ],
            [
             0.5555555555555556,
             "#d8576b"
            ],
            [
             0.6666666666666666,
             "#ed7953"
            ],
            [
             0.7777777777777778,
             "#fb9f3a"
            ],
            [
             0.8888888888888888,
             "#fdca26"
            ],
            [
             1,
             "#f0f921"
            ]
           ]
          },
          "colorway": [
           "#636efa",
           "#EF553B",
           "#00cc96",
           "#ab63fa",
           "#FFA15A",
           "#19d3f3",
           "#FF6692",
           "#B6E880",
           "#FF97FF",
           "#FECB52"
          ],
          "font": {
           "color": "#2a3f5f"
          },
          "geo": {
           "bgcolor": "white",
           "lakecolor": "white",
           "landcolor": "white",
           "showlakes": true,
           "showland": true,
           "subunitcolor": "#C8D4E3"
          },
          "hoverlabel": {
           "align": "left"
          },
          "hovermode": "closest",
          "mapbox": {
           "style": "light"
          },
          "paper_bgcolor": "white",
          "plot_bgcolor": "white",
          "polar": {
           "angularaxis": {
            "gridcolor": "#EBF0F8",
            "linecolor": "#EBF0F8",
            "ticks": ""
           },
           "bgcolor": "white",
           "radialaxis": {
            "gridcolor": "#EBF0F8",
            "linecolor": "#EBF0F8",
            "ticks": ""
           }
          },
          "scene": {
           "xaxis": {
            "backgroundcolor": "white",
            "gridcolor": "#DFE8F3",
            "gridwidth": 2,
            "linecolor": "#EBF0F8",
            "showbackground": true,
            "ticks": "",
            "zerolinecolor": "#EBF0F8"
           },
           "yaxis": {
            "backgroundcolor": "white",
            "gridcolor": "#DFE8F3",
            "gridwidth": 2,
            "linecolor": "#EBF0F8",
            "showbackground": true,
            "ticks": "",
            "zerolinecolor": "#EBF0F8"
           },
           "zaxis": {
            "backgroundcolor": "white",
            "gridcolor": "#DFE8F3",
            "gridwidth": 2,
            "linecolor": "#EBF0F8",
            "showbackground": true,
            "ticks": "",
            "zerolinecolor": "#EBF0F8"
           }
          },
          "shapedefaults": {
           "line": {
            "color": "#2a3f5f"
           }
          },
          "ternary": {
           "aaxis": {
            "gridcolor": "#DFE8F3",
            "linecolor": "#A2B1C6",
            "ticks": ""
           },
           "baxis": {
            "gridcolor": "#DFE8F3",
            "linecolor": "#A2B1C6",
            "ticks": ""
           },
           "bgcolor": "white",
           "caxis": {
            "gridcolor": "#DFE8F3",
            "linecolor": "#A2B1C6",
            "ticks": ""
           }
          },
          "title": {
           "x": 0.05
          },
          "xaxis": {
           "automargin": true,
           "gridcolor": "#EBF0F8",
           "linecolor": "#EBF0F8",
           "ticks": "",
           "title": {
            "standoff": 15
           },
           "zerolinecolor": "#EBF0F8",
           "zerolinewidth": 2
          },
          "yaxis": {
           "automargin": true,
           "gridcolor": "#EBF0F8",
           "linecolor": "#EBF0F8",
           "ticks": "",
           "title": {
            "standoff": 15
           },
           "zerolinecolor": "#EBF0F8",
           "zerolinewidth": 2
          }
         }
        },
        "xaxis": {
         "anchor": "y",
         "autorange": true,
         "domain": [
          0,
          1
         ],
         "range": [
          -0.5,
          47.5
         ],
         "title": {
          "text": "subsector"
         },
         "type": "category"
        },
        "yaxis": {
         "anchor": "x",
         "autorange": true,
         "domain": [
          0,
          1
         ],
         "range": [
          3.275853239678872,
          6.111543239146018
         ],
         "title": {
          "text": "count"
         },
         "type": "log"
        }
       }
      },
      "text/html": [
       "<div>                            <div id=\"0e88c398-b806-4c81-91b4-75d92ad0ad71\" class=\"plotly-graph-div\" style=\"height:525px; width:100%;\"></div>            <script type=\"text/javascript\">                require([\"plotly\"], function(Plotly) {                    window.PLOTLYENV=window.PLOTLYENV || {};                                    if (document.getElementById(\"0e88c398-b806-4c81-91b4-75d92ad0ad71\")) {                    Plotly.newPlot(                        \"0e88c398-b806-4c81-91b4-75d92ad0ad71\",                        [{\"alignmentgroup\":\"True\",\"hovertemplate\":\"subsector=%{x}\\u003cbr\\u003ecount=%{y}\\u003cextra\\u003e\\u003c\\u002fextra\\u003e\",\"legendgroup\":\"\",\"marker\":{\"color\":\"#636efa\",\"pattern\":{\"shape\":\"\"}},\"name\":\"\",\"offsetgroup\":\"\",\"orientation\":\"v\",\"showlegend\":false,\"textposition\":\"auto\",\"x\":[\"enteric-fermentation-cattle-operation\",\"manure-management-cattle-operation\",\"rice-cultivation\",\"removals\",\"residential-onsite-fuel-usage\",\"net-shrubgrass\",\"road-transportation\",\"net-forest-land\",\"net-wetland\",\"cropland-fires\",\"forest-land-clearing\",\"synthetic-fertilizer-application\",\"shrubgrass-fires\",\"non-residential-onsite-fuel-usage\",\"forest-land-fires\",\"domestic-wastewater-treatment-and-discharge\",\"enteric-fermentation-cattle-pasture\",\"manure-left-on-pasture-cattle\",\"forest-land-degradation\",\"wetland-fires\",\"food-beverage-tobacco\",\"textiles-leather-apparel\",\"solid-waste-disposal\",\"electricity-generation\",\"domestic-shipping\",\"international-shipping\",\"water-reservoirs\",\"domestic-aviation\",\"international-aviation\",\"coal-mining\",\"cement\",\"lime\",\"industrial-wastewater-treatment-and-discharge\",\"iron-and-steel\",\"iron-mining\",\"oil-and-gas-refining\",\"copper-mining\",\"glass\",\"other-chemicals\",\"other-metals\",\"other-manufacturing\",\"chemicals\",\"oil-and-gas-production\",\"oil-and-gas-transport\",\"pulp-and-paper\",\"bauxite-mining\",\"petrochemical-steam-cracking\",\"aluminum\"],\"xaxis\":\"x\",\"y\":[932736,932736,721896,721668,721152,719748,718884,717120,697776,688572,684240,652788,652560,649863,647772,646260,642888,642204,638496,625584,176752,153948,115500,106464,99132,86256,84408,58920,58920,45456,26892,19308,15312,10728,8664,8484,8076,7668,5268,5016,4776,4452,3432,3432,3168,3168,2808,2616],\"yaxis\":\"y\",\"type\":\"bar\"}],                        {\"template\":{\"data\":{\"histogram2dcontour\":[{\"type\":\"histogram2dcontour\",\"colorbar\":{\"outlinewidth\":0,\"ticks\":\"\"},\"colorscale\":[[0.0,\"#0d0887\"],[0.1111111111111111,\"#46039f\"],[0.2222222222222222,\"#7201a8\"],[0.3333333333333333,\"#9c179e\"],[0.4444444444444444,\"#bd3786\"],[0.5555555555555556,\"#d8576b\"],[0.6666666666666666,\"#ed7953\"],[0.7777777777777778,\"#fb9f3a\"],[0.8888888888888888,\"#fdca26\"],[1.0,\"#f0f921\"]]}],\"choropleth\":[{\"type\":\"choropleth\",\"colorbar\":{\"outlinewidth\":0,\"ticks\":\"\"}}],\"histogram2d\":[{\"type\":\"histogram2d\",\"colorbar\":{\"outlinewidth\":0,\"ticks\":\"\"},\"colorscale\":[[0.0,\"#0d0887\"],[0.1111111111111111,\"#46039f\"],[0.2222222222222222,\"#7201a8\"],[0.3333333333333333,\"#9c179e\"],[0.4444444444444444,\"#bd3786\"],[0.5555555555555556,\"#d8576b\"],[0.6666666666666666,\"#ed7953\"],[0.7777777777777778,\"#fb9f3a\"],[0.8888888888888888,\"#fdca26\"],[1.0,\"#f0f921\"]]}],\"heatmap\":[{\"type\":\"heatmap\",\"colorbar\":{\"outlinewidth\":0,\"ticks\":\"\"},\"colorscale\":[[0.0,\"#0d0887\"],[0.1111111111111111,\"#46039f\"],[0.2222222222222222,\"#7201a8\"],[0.3333333333333333,\"#9c179e\"],[0.4444444444444444,\"#bd3786\"],[0.5555555555555556,\"#d8576b\"],[0.6666666666666666,\"#ed7953\"],[0.7777777777777778,\"#fb9f3a\"],[0.8888888888888888,\"#fdca26\"],[1.0,\"#f0f921\"]]}],\"heatmapgl\":[{\"type\":\"heatmapgl\",\"colorbar\":{\"outlinewidth\":0,\"ticks\":\"\"},\"colorscale\":[[0.0,\"#0d0887\"],[0.1111111111111111,\"#46039f\"],[0.2222222222222222,\"#7201a8\"],[0.3333333333333333,\"#9c179e\"],[0.4444444444444444,\"#bd3786\"],[0.5555555555555556,\"#d8576b\"],[0.6666666666666666,\"#ed7953\"],[0.7777777777777778,\"#fb9f3a\"],[0.8888888888888888,\"#fdca26\"],[1.0,\"#f0f921\"]]}],\"contourcarpet\":[{\"type\":\"contourcarpet\",\"colorbar\":{\"outlinewidth\":0,\"ticks\":\"\"}}],\"contour\":[{\"type\":\"contour\",\"colorbar\":{\"outlinewidth\":0,\"ticks\":\"\"},\"colorscale\":[[0.0,\"#0d0887\"],[0.1111111111111111,\"#46039f\"],[0.2222222222222222,\"#7201a8\"],[0.3333333333333333,\"#9c179e\"],[0.4444444444444444,\"#bd3786\"],[0.5555555555555556,\"#d8576b\"],[0.6666666666666666,\"#ed7953\"],[0.7777777777777778,\"#fb9f3a\"],[0.8888888888888888,\"#fdca26\"],[1.0,\"#f0f921\"]]}],\"surface\":[{\"type\":\"surface\",\"colorbar\":{\"outlinewidth\":0,\"ticks\":\"\"},\"colorscale\":[[0.0,\"#0d0887\"],[0.1111111111111111,\"#46039f\"],[0.2222222222222222,\"#7201a8\"],[0.3333333333333333,\"#9c179e\"],[0.4444444444444444,\"#bd3786\"],[0.5555555555555556,\"#d8576b\"],[0.6666666666666666,\"#ed7953\"],[0.7777777777777778,\"#fb9f3a\"],[0.8888888888888888,\"#fdca26\"],[1.0,\"#f0f921\"]]}],\"mesh3d\":[{\"type\":\"mesh3d\",\"colorbar\":{\"outlinewidth\":0,\"ticks\":\"\"}}],\"scatter\":[{\"fillpattern\":{\"fillmode\":\"overlay\",\"size\":10,\"solidity\":0.2},\"type\":\"scatter\"}],\"parcoords\":[{\"type\":\"parcoords\",\"line\":{\"colorbar\":{\"outlinewidth\":0,\"ticks\":\"\"}}}],\"scatterpolargl\":[{\"type\":\"scatterpolargl\",\"marker\":{\"colorbar\":{\"outlinewidth\":0,\"ticks\":\"\"}}}],\"bar\":[{\"error_x\":{\"color\":\"#2a3f5f\"},\"error_y\":{\"color\":\"#2a3f5f\"},\"marker\":{\"line\":{\"color\":\"white\",\"width\":0.5},\"pattern\":{\"fillmode\":\"overlay\",\"size\":10,\"solidity\":0.2}},\"type\":\"bar\"}],\"scattergeo\":[{\"type\":\"scattergeo\",\"marker\":{\"colorbar\":{\"outlinewidth\":0,\"ticks\":\"\"}}}],\"scatterpolar\":[{\"type\":\"scatterpolar\",\"marker\":{\"colorbar\":{\"outlinewidth\":0,\"ticks\":\"\"}}}],\"histogram\":[{\"marker\":{\"pattern\":{\"fillmode\":\"overlay\",\"size\":10,\"solidity\":0.2}},\"type\":\"histogram\"}],\"scattergl\":[{\"type\":\"scattergl\",\"marker\":{\"colorbar\":{\"outlinewidth\":0,\"ticks\":\"\"}}}],\"scatter3d\":[{\"type\":\"scatter3d\",\"line\":{\"colorbar\":{\"outlinewidth\":0,\"ticks\":\"\"}},\"marker\":{\"colorbar\":{\"outlinewidth\":0,\"ticks\":\"\"}}}],\"scattermapbox\":[{\"type\":\"scattermapbox\",\"marker\":{\"colorbar\":{\"outlinewidth\":0,\"ticks\":\"\"}}}],\"scatterternary\":[{\"type\":\"scatterternary\",\"marker\":{\"colorbar\":{\"outlinewidth\":0,\"ticks\":\"\"}}}],\"scattercarpet\":[{\"type\":\"scattercarpet\",\"marker\":{\"colorbar\":{\"outlinewidth\":0,\"ticks\":\"\"}}}],\"carpet\":[{\"aaxis\":{\"endlinecolor\":\"#2a3f5f\",\"gridcolor\":\"#C8D4E3\",\"linecolor\":\"#C8D4E3\",\"minorgridcolor\":\"#C8D4E3\",\"startlinecolor\":\"#2a3f5f\"},\"baxis\":{\"endlinecolor\":\"#2a3f5f\",\"gridcolor\":\"#C8D4E3\",\"linecolor\":\"#C8D4E3\",\"minorgridcolor\":\"#C8D4E3\",\"startlinecolor\":\"#2a3f5f\"},\"type\":\"carpet\"}],\"table\":[{\"cells\":{\"fill\":{\"color\":\"#EBF0F8\"},\"line\":{\"color\":\"white\"}},\"header\":{\"fill\":{\"color\":\"#C8D4E3\"},\"line\":{\"color\":\"white\"}},\"type\":\"table\"}],\"barpolar\":[{\"marker\":{\"line\":{\"color\":\"white\",\"width\":0.5},\"pattern\":{\"fillmode\":\"overlay\",\"size\":10,\"solidity\":0.2}},\"type\":\"barpolar\"}],\"pie\":[{\"automargin\":true,\"type\":\"pie\"}]},\"layout\":{\"autotypenumbers\":\"strict\",\"colorway\":[\"#636efa\",\"#EF553B\",\"#00cc96\",\"#ab63fa\",\"#FFA15A\",\"#19d3f3\",\"#FF6692\",\"#B6E880\",\"#FF97FF\",\"#FECB52\"],\"font\":{\"color\":\"#2a3f5f\"},\"hovermode\":\"closest\",\"hoverlabel\":{\"align\":\"left\"},\"paper_bgcolor\":\"white\",\"plot_bgcolor\":\"white\",\"polar\":{\"bgcolor\":\"white\",\"angularaxis\":{\"gridcolor\":\"#EBF0F8\",\"linecolor\":\"#EBF0F8\",\"ticks\":\"\"},\"radialaxis\":{\"gridcolor\":\"#EBF0F8\",\"linecolor\":\"#EBF0F8\",\"ticks\":\"\"}},\"ternary\":{\"bgcolor\":\"white\",\"aaxis\":{\"gridcolor\":\"#DFE8F3\",\"linecolor\":\"#A2B1C6\",\"ticks\":\"\"},\"baxis\":{\"gridcolor\":\"#DFE8F3\",\"linecolor\":\"#A2B1C6\",\"ticks\":\"\"},\"caxis\":{\"gridcolor\":\"#DFE8F3\",\"linecolor\":\"#A2B1C6\",\"ticks\":\"\"}},\"coloraxis\":{\"colorbar\":{\"outlinewidth\":0,\"ticks\":\"\"}},\"colorscale\":{\"sequential\":[[0.0,\"#0d0887\"],[0.1111111111111111,\"#46039f\"],[0.2222222222222222,\"#7201a8\"],[0.3333333333333333,\"#9c179e\"],[0.4444444444444444,\"#bd3786\"],[0.5555555555555556,\"#d8576b\"],[0.6666666666666666,\"#ed7953\"],[0.7777777777777778,\"#fb9f3a\"],[0.8888888888888888,\"#fdca26\"],[1.0,\"#f0f921\"]],\"sequentialminus\":[[0.0,\"#0d0887\"],[0.1111111111111111,\"#46039f\"],[0.2222222222222222,\"#7201a8\"],[0.3333333333333333,\"#9c179e\"],[0.4444444444444444,\"#bd3786\"],[0.5555555555555556,\"#d8576b\"],[0.6666666666666666,\"#ed7953\"],[0.7777777777777778,\"#fb9f3a\"],[0.8888888888888888,\"#fdca26\"],[1.0,\"#f0f921\"]],\"diverging\":[[0,\"#8e0152\"],[0.1,\"#c51b7d\"],[0.2,\"#de77ae\"],[0.3,\"#f1b6da\"],[0.4,\"#fde0ef\"],[0.5,\"#f7f7f7\"],[0.6,\"#e6f5d0\"],[0.7,\"#b8e186\"],[0.8,\"#7fbc41\"],[0.9,\"#4d9221\"],[1,\"#276419\"]]},\"xaxis\":{\"gridcolor\":\"#EBF0F8\",\"linecolor\":\"#EBF0F8\",\"ticks\":\"\",\"title\":{\"standoff\":15},\"zerolinecolor\":\"#EBF0F8\",\"automargin\":true,\"zerolinewidth\":2},\"yaxis\":{\"gridcolor\":\"#EBF0F8\",\"linecolor\":\"#EBF0F8\",\"ticks\":\"\",\"title\":{\"standoff\":15},\"zerolinecolor\":\"#EBF0F8\",\"automargin\":true,\"zerolinewidth\":2},\"scene\":{\"xaxis\":{\"backgroundcolor\":\"white\",\"gridcolor\":\"#DFE8F3\",\"linecolor\":\"#EBF0F8\",\"showbackground\":true,\"ticks\":\"\",\"zerolinecolor\":\"#EBF0F8\",\"gridwidth\":2},\"yaxis\":{\"backgroundcolor\":\"white\",\"gridcolor\":\"#DFE8F3\",\"linecolor\":\"#EBF0F8\",\"showbackground\":true,\"ticks\":\"\",\"zerolinecolor\":\"#EBF0F8\",\"gridwidth\":2},\"zaxis\":{\"backgroundcolor\":\"white\",\"gridcolor\":\"#DFE8F3\",\"linecolor\":\"#EBF0F8\",\"showbackground\":true,\"ticks\":\"\",\"zerolinecolor\":\"#EBF0F8\",\"gridwidth\":2}},\"shapedefaults\":{\"line\":{\"color\":\"#2a3f5f\"}},\"annotationdefaults\":{\"arrowcolor\":\"#2a3f5f\",\"arrowhead\":0,\"arrowwidth\":1},\"geo\":{\"bgcolor\":\"white\",\"landcolor\":\"white\",\"subunitcolor\":\"#C8D4E3\",\"showland\":true,\"showlakes\":true,\"lakecolor\":\"white\"},\"title\":{\"x\":0.05},\"mapbox\":{\"style\":\"light\"}}},\"xaxis\":{\"anchor\":\"y\",\"domain\":[0.0,1.0],\"title\":{\"text\":\"subsector\"}},\"yaxis\":{\"anchor\":\"x\",\"domain\":[0.0,1.0],\"title\":{\"text\":\"count\"},\"type\":\"log\"},\"legend\":{\"tracegroupgap\":0},\"margin\":{\"t\":60},\"barmode\":\"relative\"},                        {\"responsive\": true}                    ).then(function(){\n",
       "                            \n",
       "var gd = document.getElementById('0e88c398-b806-4c81-91b4-75d92ad0ad71');\n",
       "var x = new MutationObserver(function (mutations, observer) {{\n",
       "        var display = window.getComputedStyle(gd).display;\n",
       "        if (!display || display === 'none') {{\n",
       "            console.log([gd, 'removed!']);\n",
       "            Plotly.purge(gd);\n",
       "            observer.disconnect();\n",
       "        }}\n",
       "}});\n",
       "\n",
       "// Listen for the removal of the full notebook cells\n",
       "var notebookContainer = gd.closest('#notebook-container');\n",
       "if (notebookContainer) {{\n",
       "    x.observe(notebookContainer, {childList: true});\n",
       "}}\n",
       "\n",
       "// Listen for the clearing of the current output cell\n",
       "var outputEl = gd.closest('.output');\n",
       "if (outputEl) {{\n",
       "    x.observe(outputEl, {childList: true});\n",
       "}}\n",
       "\n",
       "                        })                };                });            </script>        </div>"
      ]
     },
     "metadata": {},
     "output_type": "display_data"
    }
   ],
   "source": [
    "px.bar(sdf_gy\n",
    " .select(c_subsector.value_counts(sort=True))\n",
    " .collect()\n",
    " .unnest(SUBSECTOR),\n",
    "      x=SUBSECTOR, y=\"count\", log_y=True\n",
    ")"
   ]
  },
  {
   "cell_type": "markdown",
   "id": "164eef3b-d1fc-41e8-9eac-fbaef75697db",
   "metadata": {},
   "source": [
    "Looking at a few examples of wastewater treatment plants, you see how the data is organized for each source:\n",
    "- an identifier, along with country, UNFCCC sectorial categorization, time of data collection\n",
    "- the gas considered\n",
    "- the main methodology to get the emission: typically a certain quantity of interest, called _activity_ (here a population) multiplied by an _emission factor_\n",
    "- more details about the source itself: name, type, position\n",
    "- some extra tabular information (always strings in this dataset)\n",
    "- qualitative confidence values for each of the values\n",
    "\n"
   ]
  },
  {
   "cell_type": "code",
   "execution_count": 43,
   "id": "73a1848b-ee15-4b8f-89dc-cd7cec74f071",
   "metadata": {},
   "outputs": [
    {
     "data": {
      "text/html": [
       "<div><style>\n",
       ".dataframe > thead > tr,\n",
       ".dataframe > tbody > tr {\n",
       "  text-align: right;\n",
       "  white-space: pre-wrap;\n",
       "}\n",
       "</style>\n",
       "<small>shape: (3, 54)</small><table border=\"1\" class=\"dataframe\"><thead><tr><th>source_id</th><th>iso3_country</th><th>sector</th><th>subsector</th><th>original_inventory_sector</th><th>start_time</th><th>end_time</th><th>temporal_granularity</th><th>gas</th><th>emissions_quantity</th><th>emissions_factor</th><th>emissions_factor_units</th><th>capacity</th><th>capacity_units</th><th>capacity_factor</th><th>activity</th><th>activity_units</th><th>created_date</th><th>modified_date</th><th>source_name</th><th>source_type</th><th>lat</th><th>lon</th><th>other1</th><th>other2</th><th>other3</th><th>other4</th><th>other5</th><th>other6</th><th>other7</th><th>other8</th><th>other9</th><th>other10</th><th>other11</th><th>other12</th><th>other1_def</th><th>other2_def</th><th>other3_def</th><th>other4_def</th><th>other5_def</th><th>other6_def</th><th>other7_def</th><th>other8_def</th><th>other9_def</th><th>other10_def</th><th>other11_def</th><th>other12_def</th><th>geometry_ref</th><th>conf_source_type</th><th>conf_capacity</th><th>conf_capacity_factor</th><th>conf_activity</th><th>conf_emissions_factor</th><th>conf_emissions_quantity</th></tr><tr><td>u64</td><td>enum</td><td>enum</td><td>enum</td><td>cat</td><td>datetime[ms, UTC]</td><td>datetime[ms, UTC]</td><td>enum</td><td>enum</td><td>f64</td><td>f64</td><td>str</td><td>f64</td><td>str</td><td>f64</td><td>f64</td><td>str</td><td>datetime[ms, UTC]</td><td>datetime[ms, UTC]</td><td>str</td><td>str</td><td>f64</td><td>f64</td><td>str</td><td>str</td><td>str</td><td>str</td><td>str</td><td>str</td><td>str</td><td>str</td><td>str</td><td>str</td><td>str</td><td>str</td><td>str</td><td>str</td><td>str</td><td>str</td><td>str</td><td>str</td><td>str</td><td>str</td><td>str</td><td>str</td><td>str</td><td>str</td><td>str</td><td>enum</td><td>enum</td><td>enum</td><td>enum</td><td>enum</td><td>enum</td></tr></thead><tbody><tr><td>32437194</td><td>&quot;AFG&quot;</td><td>&quot;manufacturing&quot;</td><td>&quot;cement&quot;</td><td>null</td><td>2024-02-01&nbsp;00:00:00&nbsp;UTC</td><td>2024-02-29&nbsp;00:00:00&nbsp;UTC</td><td>&quot;month&quot;</td><td>&quot;co2&quot;</td><td>14662.569375</td><td>0.54</td><td>&quot;t&nbsp;of&nbsp;CO2&nbsp;per&nbsp;t&nbsp;of&nbsp;cement&quot;</td><td>30000.0</td><td>&quot;t&nbsp;of&nbsp;cement&quot;</td><td>0.905097</td><td>27152.90625</td><td>&quot;t&nbsp;of&nbsp;cement&quot;</td><td>2024-09-27&nbsp;00:00:00&nbsp;UTC</td><td>null</td><td>&quot;Baghlan&nbsp;1&quot;</td><td>&quot;integrated&nbsp;wet&quot;</td><td>35.967115</td><td>68.686807</td><td>&quot;0.5978887399999999&quot;</td><td>&quot;16234.416905150623&quot;</td><td>&quot;0.3399999999999999&quot;</td><td>&quot;9231.988125&quot;</td><td>&quot;0.2&quot;</td><td>&quot;5430.58125&quot;</td><td>&quot;0.091&quot;</td><td>&quot;2470.91446875&quot;</td><td>&quot;0.63614&quot;</td><td>&quot;satellite&quot;</td><td>null</td><td>null</td><td>&quot;Direct&nbsp;and&nbsp;Indirect&nbsp;emissions&nbsp;…</td><td>&quot;Direct&nbsp;and&nbsp;Indirect&nbsp;emissions:…</td><td>&quot;Calcination&nbsp;emissions&nbsp;factor&nbsp;(…</td><td>&quot;Calcination&nbsp;emissions&nbsp;(t&nbsp;of&nbsp;CO…</td><td>&quot;Fuel&nbsp;emissions&nbsp;factor&nbsp;(t&nbsp;of&nbsp;CO…</td><td>&quot;Fuel&nbsp;emissions&nbsp;(t&nbsp;of&nbsp;CO2)&quot;</td><td>&quot;electricity_use_factor&nbsp;(MWh&nbsp;pe…</td><td>&quot;electricity_use&nbsp;(MWh)&quot;</td><td>&quot;grid_emissions_intensity&nbsp;(t&nbsp;CO…</td><td>&quot;model_methodology&nbsp;(e.g&nbsp;satelli…</td><td>null</td><td>null</td><td>&quot;trace_68.6868071692625_35.9671…</td><td>&quot;very&nbsp;low&quot;</td><td>&quot;very&nbsp;low&quot;</td><td>&quot;very&nbsp;low&quot;</td><td>&quot;very&nbsp;low&quot;</td><td>&quot;very&nbsp;low&quot;</td><td>&quot;very&nbsp;low&quot;</td></tr><tr><td>32437194</td><td>&quot;AFG&quot;</td><td>&quot;manufacturing&quot;</td><td>&quot;cement&quot;</td><td>null</td><td>2024-03-01&nbsp;00:00:00&nbsp;UTC</td><td>2024-03-31&nbsp;00:00:00&nbsp;UTC</td><td>&quot;month&quot;</td><td>&quot;co2&quot;</td><td>13379.410636</td><td>0.54</td><td>&quot;t&nbsp;of&nbsp;CO2&nbsp;per&nbsp;t&nbsp;of&nbsp;cement&quot;</td><td>30000.0</td><td>&quot;t&nbsp;of&nbsp;cement&quot;</td><td>0.82589</td><td>24776.686364</td><td>&quot;t&nbsp;of&nbsp;cement&quot;</td><td>2024-09-27&nbsp;00:00:00&nbsp;UTC</td><td>null</td><td>&quot;Baghlan&nbsp;1&quot;</td><td>&quot;integrated&nbsp;wet&quot;</td><td>35.967115</td><td>68.686807</td><td>&quot;0.59551728&quot;</td><td>&quot;14754.94487068582&quot;</td><td>&quot;0.34&quot;</td><td>&quot;8424.073363636366&quot;</td><td>&quot;0.2&quot;</td><td>&quot;4955.337272727274&quot;</td><td>&quot;0.091&quot;</td><td>&quot;2254.6784590909087&quot;</td><td>&quot;0.61008&quot;</td><td>&quot;satellite&quot;</td><td>null</td><td>null</td><td>&quot;Direct&nbsp;and&nbsp;Indirect&nbsp;emissions&nbsp;…</td><td>&quot;Direct&nbsp;and&nbsp;Indirect&nbsp;emissions:…</td><td>&quot;Calcination&nbsp;emissions&nbsp;factor&nbsp;(…</td><td>&quot;Calcination&nbsp;emissions&nbsp;(t&nbsp;of&nbsp;CO…</td><td>&quot;Fuel&nbsp;emissions&nbsp;factor&nbsp;(t&nbsp;of&nbsp;CO…</td><td>&quot;Fuel&nbsp;emissions&nbsp;(t&nbsp;of&nbsp;CO2)&quot;</td><td>&quot;electricity_use_factor&nbsp;(MWh&nbsp;pe…</td><td>&quot;electricity_use&nbsp;(MWh)&quot;</td><td>&quot;grid_emissions_intensity&nbsp;(t&nbsp;CO…</td><td>&quot;model_methodology&nbsp;(e.g&nbsp;satelli…</td><td>null</td><td>null</td><td>&quot;trace_68.6868071692625_35.9671…</td><td>&quot;very&nbsp;low&quot;</td><td>&quot;very&nbsp;low&quot;</td><td>&quot;very&nbsp;low&quot;</td><td>&quot;very&nbsp;low&quot;</td><td>&quot;very&nbsp;low&quot;</td><td>&quot;very&nbsp;low&quot;</td></tr><tr><td>32437194</td><td>&quot;AFG&quot;</td><td>&quot;manufacturing&quot;</td><td>&quot;cement&quot;</td><td>null</td><td>2024-04-01&nbsp;00:00:00&nbsp;UTC</td><td>2024-04-30&nbsp;00:00:00&nbsp;UTC</td><td>&quot;month&quot;</td><td>&quot;co2&quot;</td><td>612.3114</td><td>0.54</td><td>&quot;t&nbsp;of&nbsp;CO2&nbsp;per&nbsp;t&nbsp;of&nbsp;cement&quot;</td><td>30000.0</td><td>&quot;t&nbsp;of&nbsp;cement&quot;</td><td>0.037797</td><td>1133.91</td><td>&quot;t&nbsp;of&nbsp;cement&quot;</td><td>2024-09-27&nbsp;00:00:00&nbsp;UTC</td><td>null</td><td>&quot;Baghlan&nbsp;1&quot;</td><td>&quot;integrated&nbsp;wet&quot;</td><td>35.967115</td><td>68.686807</td><td>&quot;0.59413772&quot;</td><td>&quot;673.6987020851999&quot;</td><td>&quot;0.34&quot;</td><td>&quot;385.5294&quot;</td><td>&quot;0.2&quot;</td><td>&quot;226.782&quot;</td><td>&quot;0.091&quot;</td><td>&quot;103.18581&quot;</td><td>&quot;0.59492&quot;</td><td>&quot;satellite&quot;</td><td>null</td><td>null</td><td>&quot;Direct&nbsp;and&nbsp;Indirect&nbsp;emissions&nbsp;…</td><td>&quot;Direct&nbsp;and&nbsp;Indirect&nbsp;emissions:…</td><td>&quot;Calcination&nbsp;emissions&nbsp;factor&nbsp;(…</td><td>&quot;Calcination&nbsp;emissions&nbsp;(t&nbsp;of&nbsp;CO…</td><td>&quot;Fuel&nbsp;emissions&nbsp;factor&nbsp;(t&nbsp;of&nbsp;CO…</td><td>&quot;Fuel&nbsp;emissions&nbsp;(t&nbsp;of&nbsp;CO2)&quot;</td><td>&quot;electricity_use_factor&nbsp;(MWh&nbsp;pe…</td><td>&quot;electricity_use&nbsp;(MWh)&quot;</td><td>&quot;grid_emissions_intensity&nbsp;(t&nbsp;CO…</td><td>&quot;model_methodology&nbsp;(e.g&nbsp;satelli…</td><td>null</td><td>null</td><td>&quot;trace_68.6868071692625_35.9671…</td><td>&quot;very&nbsp;low&quot;</td><td>&quot;very&nbsp;low&quot;</td><td>&quot;very&nbsp;low&quot;</td><td>&quot;very&nbsp;low&quot;</td><td>&quot;very&nbsp;low&quot;</td><td>&quot;very&nbsp;low&quot;</td></tr></tbody></table></div>"
      ],
      "text/plain": [
       "shape: (3, 54)\n",
       "┌───────────┬───────────┬───────────┬───────────┬───┬───────────┬───────────┬───────────┬──────────┐\n",
       "│ source_id ┆ iso3_coun ┆ sector    ┆ subsector ┆ … ┆ conf_capa ┆ conf_acti ┆ conf_emis ┆ conf_emi │\n",
       "│ ---       ┆ try       ┆ ---       ┆ ---       ┆   ┆ city_fact ┆ vity      ┆ sions_fac ┆ ssions_q │\n",
       "│ u64       ┆ ---       ┆ enum      ┆ enum      ┆   ┆ or        ┆ ---       ┆ tor       ┆ uantity  │\n",
       "│           ┆ enum      ┆           ┆           ┆   ┆ ---       ┆ enum      ┆ ---       ┆ ---      │\n",
       "│           ┆           ┆           ┆           ┆   ┆ enum      ┆           ┆ enum      ┆ enum     │\n",
       "╞═══════════╪═══════════╪═══════════╪═══════════╪═══╪═══════════╪═══════════╪═══════════╪══════════╡\n",
       "│ 32437194  ┆ AFG       ┆ manufactu ┆ cement    ┆ … ┆ very low  ┆ very low  ┆ very low  ┆ very low │\n",
       "│           ┆           ┆ ring      ┆           ┆   ┆           ┆           ┆           ┆          │\n",
       "│ 32437194  ┆ AFG       ┆ manufactu ┆ cement    ┆ … ┆ very low  ┆ very low  ┆ very low  ┆ very low │\n",
       "│           ┆           ┆ ring      ┆           ┆   ┆           ┆           ┆           ┆          │\n",
       "│ 32437194  ┆ AFG       ┆ manufactu ┆ cement    ┆ … ┆ very low  ┆ very low  ┆ very low  ┆ very low │\n",
       "│           ┆           ┆ ring      ┆           ┆   ┆           ┆           ┆           ┆          │\n",
       "└───────────┴───────────┴───────────┴───────────┴───┴───────────┴───────────┴───────────┴──────────┘"
      ]
     },
     "execution_count": 43,
     "metadata": {},
     "output_type": "execute_result"
    }
   ],
   "source": [
    "(sdf_gy\n",
    " .filter(c_sector == MANUFACTURING)\n",
    " .filter(c_subsector == CEMENT)\n",
    " .head(3)\n",
    " .collect()\n",
    ")"
   ]
  },
  {
   "cell_type": "markdown",
   "id": "5fd911fa-4fbc-48b3-97dd-0a194c44a81f",
   "metadata": {},
   "source": [
    "Looking now at emissions and gathering by country, we get a plot relatively similar to what we saw in the section above.\n",
    "\n",
    "\n",
    "Again, France and the Netherlands barely appear in this graph, and Mozambique's forest management practices have an enormous impact."
   ]
  },
  {
   "cell_type": "code",
   "execution_count": 44,
   "id": "d3e6791b-dde4-4b6d-afa4-ba97d66f9158",
   "metadata": {},
   "outputs": [
    {
     "data": {
      "application/vnd.plotly.v1+json": {
       "config": {
        "plotlyServerURL": "https://plot.ly"
       },
       "data": [
        {
         "alignmentgroup": "True",
         "hovertemplate": "subsector=electricity-generation<br>iso3_country=%{x}<br>emissions_quantity=%{y}<extra></extra>",
         "legendgroup": "electricity-generation",
         "marker": {
          "color": "#636efa",
          "pattern": {
           "shape": ""
          }
         },
         "name": "electricity-generation",
         "offsetgroup": "electricity-generation",
         "orientation": "v",
         "showlegend": true,
         "textposition": "auto",
         "type": "bar",
         "x": [
          "CHN",
          "USA",
          "IND",
          "RUS",
          "NLD",
          "FRA",
          "MOZ"
         ],
         "xaxis": "x",
         "y": [
          5025374914.9,
          1452448793.5699983,
          1297631276.6900003,
          590447545,
          22942398.499999996,
          16677507,
          1202906.9000000004
         ],
         "yaxis": "y"
        },
        {
         "alignmentgroup": "True",
         "hovertemplate": "subsector=road-transportation<br>iso3_country=%{x}<br>emissions_quantity=%{y}<extra></extra>",
         "legendgroup": "road-transportation",
         "marker": {
          "color": "#EF553B",
          "pattern": {
           "shape": ""
          }
         },
         "name": "road-transportation",
         "offsetgroup": "road-transportation",
         "orientation": "v",
         "showlegend": true,
         "textposition": "auto",
         "type": "bar",
         "x": [
          "USA",
          "CHN",
          "RUS",
          "IND",
          "FRA",
          "NLD",
          "MOZ"
         ],
         "xaxis": "x",
         "y": [
          3481064833.9063644,
          1626452489.4112895,
          553786927.696332,
          421584808.29527223,
          319870004.22671074,
          52023955.676074825,
          36886943.8236217
         ],
         "yaxis": "y"
        },
        {
         "alignmentgroup": "True",
         "hovertemplate": "subsector=residential-onsite-fuel-usage<br>iso3_country=%{x}<br>emissions_quantity=%{y}<extra></extra>",
         "legendgroup": "residential-onsite-fuel-usage",
         "marker": {
          "color": "#00cc96",
          "pattern": {
           "shape": ""
          }
         },
         "name": "residential-onsite-fuel-usage",
         "offsetgroup": "residential-onsite-fuel-usage",
         "orientation": "v",
         "showlegend": true,
         "textposition": "auto",
         "type": "bar",
         "x": [
          "CHN",
          "USA",
          "IND",
          "RUS",
          "FRA",
          "NLD",
          "MOZ"
         ],
         "xaxis": "x",
         "y": [
          2065897850.8318849,
          1719269600.1874132,
          688116354.0000684,
          639267173.151636,
          206665453.2736206,
          64921366.020839475,
          498102.7922999971
         ],
         "yaxis": "y"
        },
        {
         "alignmentgroup": "True",
         "hovertemplate": "subsector=iron-and-steel<br>iso3_country=%{x}<br>emissions_quantity=%{y}<extra></extra>",
         "legendgroup": "iron-and-steel",
         "marker": {
          "color": "#ab63fa",
          "pattern": {
           "shape": ""
          }
         },
         "name": "iron-and-steel",
         "offsetgroup": "iron-and-steel",
         "orientation": "v",
         "showlegend": true,
         "textposition": "auto",
         "type": "bar",
         "x": [
          "CHN",
          "IND",
          "RUS",
          "USA",
          "FRA",
          "NLD"
         ],
         "xaxis": "x",
         "y": [
          1733004367.3151536,
          134560350.79758257,
          99473286.95923345,
          80540125.06123532,
          21977681.082089692,
          14916814.513952699
         ],
         "yaxis": "y"
        },
        {
         "alignmentgroup": "True",
         "hovertemplate": "subsector=forest-land-clearing<br>iso3_country=%{x}<br>emissions_quantity=%{y}<extra></extra>",
         "legendgroup": "forest-land-clearing",
         "marker": {
          "color": "#FFA15A",
          "pattern": {
           "shape": ""
          }
         },
         "name": "forest-land-clearing",
         "offsetgroup": "forest-land-clearing",
         "orientation": "v",
         "showlegend": true,
         "textposition": "auto",
         "type": "bar",
         "x": [
          "RUS",
          "USA",
          "CHN",
          "IND",
          "MOZ",
          "FRA",
          "NLD"
         ],
         "xaxis": "x",
         "y": [
          1695163189.4619162,
          1415669261.3023767,
          736383938.7809265,
          159237418.6130608,
          142228911.92360827,
          83861755.99158047,
          1561907.758112724
         ],
         "yaxis": "y"
        },
        {
         "alignmentgroup": "True",
         "hovertemplate": "subsector=forest-land-fires<br>iso3_country=%{x}<br>emissions_quantity=%{y}<extra></extra>",
         "legendgroup": "forest-land-fires",
         "marker": {
          "color": "#19d3f3",
          "pattern": {
           "shape": ""
          }
         },
         "name": "forest-land-fires",
         "offsetgroup": "forest-land-fires",
         "orientation": "v",
         "showlegend": true,
         "textposition": "auto",
         "type": "bar",
         "x": [
          "MOZ",
          "RUS",
          "USA",
          "IND",
          "CHN",
          "FRA",
          "NLD"
         ],
         "xaxis": "x",
         "y": [
          1255051373.8811665,
          612670372.1013384,
          211953727.99771175,
          135196486.96119905,
          33833621.94093945,
          2010962.221467435,
          3500.4007973816556
         ],
         "yaxis": "y"
        },
        {
         "alignmentgroup": "True",
         "hovertemplate": "subsector=cement<br>iso3_country=%{x}<br>emissions_quantity=%{y}<extra></extra>",
         "legendgroup": "cement",
         "marker": {
          "color": "#FF6692",
          "pattern": {
           "shape": ""
          }
         },
         "name": "cement",
         "offsetgroup": "cement",
         "orientation": "v",
         "showlegend": true,
         "textposition": "auto",
         "type": "bar",
         "x": [
          "CHN",
          "IND",
          "RUS",
          "USA",
          "FRA"
         ],
         "xaxis": "x",
         "y": [
          760518113.8764983,
          115456646.09913142,
          32752409.82966196,
          31573812.31867911,
          11138178.548222192
         ],
         "yaxis": "y"
        },
        {
         "alignmentgroup": "True",
         "hovertemplate": "subsector=cropland-fires<br>iso3_country=%{x}<br>emissions_quantity=%{y}<extra></extra>",
         "legendgroup": "cropland-fires",
         "marker": {
          "color": "#B6E880",
          "pattern": {
           "shape": ""
          }
         },
         "name": "cropland-fires",
         "offsetgroup": "cropland-fires",
         "orientation": "v",
         "showlegend": true,
         "textposition": "auto",
         "type": "bar",
         "x": [
          "CHN",
          "IND",
          "RUS",
          "USA",
          "MOZ",
          "FRA",
          "NLD"
         ],
         "xaxis": "x",
         "y": [
          689988565.4258946,
          671449480.323063,
          81776603.11068085,
          16431088.205413502,
          5439400.271268861,
          1376525.2533198714,
          1305.6378421113793
         ],
         "yaxis": "y"
        },
        {
         "alignmentgroup": "True",
         "hovertemplate": "subsector=net-forest-land<br>iso3_country=%{x}<br>emissions_quantity=%{y}<extra></extra>",
         "legendgroup": "net-forest-land",
         "marker": {
          "color": "#FF97FF",
          "pattern": {
           "shape": ""
          }
         },
         "name": "net-forest-land",
         "offsetgroup": "net-forest-land",
         "orientation": "v",
         "showlegend": true,
         "textposition": "auto",
         "type": "bar",
         "x": [
          "RUS",
          "USA",
          "IND",
          "CHN",
          "MOZ",
          "NLD",
          "FRA"
         ],
         "xaxis": "x",
         "y": [
          471497753.642732,
          365964270.73808455,
          297578517.4883707,
          238738558.73003712,
          223283463.93793073,
          -7387646.1275656065,
          -68224597.17960015
         ],
         "yaxis": "y"
        },
        {
         "alignmentgroup": "True",
         "hovertemplate": "subsector=oil-and-gas-transport<br>iso3_country=%{x}<br>emissions_quantity=%{y}<extra></extra>",
         "legendgroup": "oil-and-gas-transport",
         "marker": {
          "color": "#FECB52",
          "pattern": {
           "shape": ""
          }
         },
         "name": "oil-and-gas-transport",
         "offsetgroup": "oil-and-gas-transport",
         "orientation": "v",
         "showlegend": true,
         "textposition": "auto",
         "type": "bar",
         "x": [
          "RUS",
          "USA",
          "CHN",
          "IND",
          "NLD",
          "MOZ",
          "FRA"
         ],
         "xaxis": "x",
         "y": [
          457050236.93810606,
          256751054.7619467,
          42550435.83861957,
          13079242.960351579,
          1760603.952855723,
          1701185.2427280457,
          125725.09714003837
         ],
         "yaxis": "y"
        },
        {
         "alignmentgroup": "True",
         "hovertemplate": "subsector=non-residential-onsite-fuel-usage<br>iso3_country=%{x}<br>emissions_quantity=%{y}<extra></extra>",
         "legendgroup": "non-residential-onsite-fuel-usage",
         "marker": {
          "color": "#636efa",
          "pattern": {
           "shape": ""
          }
         },
         "name": "non-residential-onsite-fuel-usage",
         "offsetgroup": "non-residential-onsite-fuel-usage",
         "orientation": "v",
         "showlegend": true,
         "textposition": "auto",
         "type": "bar",
         "x": [
          "USA",
          "CHN",
          "RUS",
          "FRA",
          "IND",
          "NLD",
          "MOZ"
         ],
         "xaxis": "x",
         "y": [
          452340717.12789047,
          191047018.9616395,
          151033086.15439805,
          46508667.76805979,
          32903746.336730186,
          20271750.060809977,
          7363.910399999984
         ],
         "yaxis": "y"
        },
        {
         "alignmentgroup": "True",
         "hovertemplate": "subsector=net-shrubgrass<br>iso3_country=%{x}<br>emissions_quantity=%{y}<extra></extra>",
         "legendgroup": "net-shrubgrass",
         "marker": {
          "color": "#EF553B",
          "pattern": {
           "shape": ""
          }
         },
         "name": "net-shrubgrass",
         "offsetgroup": "net-shrubgrass",
         "orientation": "v",
         "showlegend": true,
         "textposition": "auto",
         "type": "bar",
         "x": [
          "CHN",
          "USA",
          "RUS",
          "IND",
          "NLD",
          "MOZ",
          "FRA"
         ],
         "xaxis": "x",
         "y": [
          426807356.4933811,
          419247287.9666202,
          177429249.3753211,
          -1420772.6605828886,
          -3591208.926832686,
          -11075448.356890867,
          -66565505.011947446
         ],
         "yaxis": "y"
        },
        {
         "alignmentgroup": "True",
         "hovertemplate": "subsector=oil-and-gas-production<br>iso3_country=%{x}<br>emissions_quantity=%{y}<extra></extra>",
         "legendgroup": "oil-and-gas-production",
         "marker": {
          "color": "#00cc96",
          "pattern": {
           "shape": ""
          }
         },
         "name": "oil-and-gas-production",
         "offsetgroup": "oil-and-gas-production",
         "orientation": "v",
         "showlegend": true,
         "textposition": "auto",
         "type": "bar",
         "x": [
          "USA",
          "RUS",
          "CHN",
          "IND",
          "NLD",
          "MOZ",
          "FRA"
         ],
         "xaxis": "x",
         "y": [
          373095048.82926804,
          203388363.827171,
          115452130.50027923,
          10761171.346833121,
          3782668.13009727,
          508785.07538835844,
          138780.24417059714
         ],
         "yaxis": "y"
        },
        {
         "alignmentgroup": "True",
         "hovertemplate": "subsector=lime<br>iso3_country=%{x}<br>emissions_quantity=%{y}<extra></extra>",
         "legendgroup": "lime",
         "marker": {
          "color": "#ab63fa",
          "pattern": {
           "shape": ""
          }
         },
         "name": "lime",
         "offsetgroup": "lime",
         "orientation": "v",
         "showlegend": true,
         "textposition": "auto",
         "type": "bar",
         "x": [
          "CHN",
          "USA",
          "FRA"
         ],
         "xaxis": "x",
         "y": [
          365304631.98585635,
          31108794.00159814,
          5103399.982146881
         ],
         "yaxis": "y"
        },
        {
         "alignmentgroup": "True",
         "hovertemplate": "subsector=chemicals<br>iso3_country=%{x}<br>emissions_quantity=%{y}<extra></extra>",
         "legendgroup": "chemicals",
         "marker": {
          "color": "#FFA15A",
          "pattern": {
           "shape": ""
          }
         },
         "name": "chemicals",
         "offsetgroup": "chemicals",
         "orientation": "v",
         "showlegend": true,
         "textposition": "auto",
         "type": "bar",
         "x": [
          "CHN",
          "RUS",
          "USA",
          "IND",
          "NLD",
          "FRA"
         ],
         "xaxis": "x",
         "y": [
          288283025.02648866,
          53254045.166000046,
          39375317.520000026,
          35963696.53100004,
          6931724.142,
          5437766.321999998
         ],
         "yaxis": "y"
        },
        {
         "alignmentgroup": "True",
         "hovertemplate": "subsector=shrubgrass-fires<br>iso3_country=%{x}<br>emissions_quantity=%{y}<extra></extra>",
         "legendgroup": "shrubgrass-fires",
         "marker": {
          "color": "#19d3f3",
          "pattern": {
           "shape": ""
          }
         },
         "name": "shrubgrass-fires",
         "offsetgroup": "shrubgrass-fires",
         "orientation": "v",
         "showlegend": true,
         "textposition": "auto",
         "type": "bar",
         "x": [
          "MOZ",
          "RUS",
          "USA",
          "IND",
          "CHN",
          "FRA",
          "NLD"
         ],
         "xaxis": "x",
         "y": [
          277422187.47411674,
          89766392.44330908,
          28476371.418178365,
          11240620.653019208,
          11105875.424642518,
          325898.55638410884,
          842.3223213350313
         ],
         "yaxis": "y"
        },
        {
         "alignmentgroup": "True",
         "hovertemplate": "subsector=oil-and-gas-refining<br>iso3_country=%{x}<br>emissions_quantity=%{y}<extra></extra>",
         "legendgroup": "oil-and-gas-refining",
         "marker": {
          "color": "#FF6692",
          "pattern": {
           "shape": ""
          }
         },
         "name": "oil-and-gas-refining",
         "offsetgroup": "oil-and-gas-refining",
         "orientation": "v",
         "showlegend": true,
         "textposition": "auto",
         "type": "bar",
         "x": [
          "USA",
          "CHN",
          "IND",
          "RUS",
          "NLD",
          "FRA"
         ],
         "xaxis": "x",
         "y": [
          186289729.39411584,
          180659311.9410575,
          69784342.63298346,
          64022891.836430706,
          15194208.373122668,
          11627392.964323303
         ],
         "yaxis": "y"
        },
        {
         "alignmentgroup": "True",
         "hovertemplate": "subsector=aluminum<br>iso3_country=%{x}<br>emissions_quantity=%{y}<extra></extra>",
         "legendgroup": "aluminum",
         "marker": {
          "color": "#B6E880",
          "pattern": {
           "shape": ""
          }
         },
         "name": "aluminum",
         "offsetgroup": "aluminum",
         "orientation": "v",
         "showlegend": true,
         "textposition": "auto",
         "type": "bar",
         "x": [
          "CHN",
          "IND",
          "RUS",
          "USA",
          "MOZ",
          "FRA"
         ],
         "xaxis": "x",
         "y": [
          144100643.2338709,
          18737470.370434646,
          12959397.124748355,
          2945495.8984056953,
          2054689.5358607995,
          1581265.8619290078
         ],
         "yaxis": "y"
        },
        {
         "alignmentgroup": "True",
         "hovertemplate": "subsector=domestic-aviation<br>iso3_country=%{x}<br>emissions_quantity=%{y}<extra></extra>",
         "legendgroup": "domestic-aviation",
         "marker": {
          "color": "#FF97FF",
          "pattern": {
           "shape": ""
          }
         },
         "name": "domestic-aviation",
         "offsetgroup": "domestic-aviation",
         "orientation": "v",
         "showlegend": true,
         "textposition": "auto",
         "type": "bar",
         "x": [
          "USA",
          "CHN",
          "IND",
          "RUS",
          "FRA",
          "MOZ",
          "NLD"
         ],
         "xaxis": "x",
         "y": [
          127062688.09906162,
          89161280.58174972,
          12038811.644211298,
          9642114.765112275,
          1571188.474545001,
          89577.61417225527,
          802.316847396051
         ],
         "yaxis": "y"
        },
        {
         "alignmentgroup": "True",
         "hovertemplate": "subsector=domestic-shipping<br>iso3_country=%{x}<br>emissions_quantity=%{y}<extra></extra>",
         "legendgroup": "domestic-shipping",
         "marker": {
          "color": "#FECB52",
          "pattern": {
           "shape": ""
          }
         },
         "name": "domestic-shipping",
         "offsetgroup": "domestic-shipping",
         "orientation": "v",
         "showlegend": true,
         "textposition": "auto",
         "type": "bar",
         "x": [
          "CHN",
          "USA",
          "RUS",
          "NLD",
          "FRA",
          "IND",
          "MOZ"
         ],
         "xaxis": "x",
         "y": [
          80040704.53620343,
          33678624.082461864,
          8845492.942236809,
          7821950.746784003,
          6519738.914968986,
          5808623.380436123,
          406050.1270143998
         ],
         "yaxis": "y"
        },
        {
         "alignmentgroup": "True",
         "hovertemplate": "subsector=international-aviation<br>iso3_country=%{x}<br>emissions_quantity=%{y}<extra></extra>",
         "legendgroup": "international-aviation",
         "marker": {
          "color": "#636efa",
          "pattern": {
           "shape": ""
          }
         },
         "name": "international-aviation",
         "offsetgroup": "international-aviation",
         "orientation": "v",
         "showlegend": true,
         "textposition": "auto",
         "type": "bar",
         "x": [
          "USA",
          "CHN",
          "FRA",
          "IND",
          "NLD",
          "RUS",
          "MOZ"
         ],
         "xaxis": "x",
         "y": [
          76661438.92504482,
          26918038.415130906,
          17788419.47369946,
          12159611.891484695,
          10328158.845065504,
          5104117.267779228,
          141454.5699596089
         ],
         "yaxis": "y"
        },
        {
         "alignmentgroup": "True",
         "hovertemplate": "subsector=other-chemicals<br>iso3_country=%{x}<br>emissions_quantity=%{y}<extra></extra>",
         "legendgroup": "other-chemicals",
         "marker": {
          "color": "#EF553B",
          "pattern": {
           "shape": ""
          }
         },
         "name": "other-chemicals",
         "offsetgroup": "other-chemicals",
         "orientation": "v",
         "showlegend": true,
         "textposition": "auto",
         "type": "bar",
         "x": [
          "USA"
         ],
         "xaxis": "x",
         "y": [
          72184495.00006919
         ],
         "yaxis": "y"
        },
        {
         "alignmentgroup": "True",
         "hovertemplate": "subsector=petrochemical-steam-cracking<br>iso3_country=%{x}<br>emissions_quantity=%{y}<extra></extra>",
         "legendgroup": "petrochemical-steam-cracking",
         "marker": {
          "color": "#00cc96",
          "pattern": {
           "shape": ""
          }
         },
         "name": "petrochemical-steam-cracking",
         "offsetgroup": "petrochemical-steam-cracking",
         "orientation": "v",
         "showlegend": true,
         "textposition": "auto",
         "type": "bar",
         "x": [
          "CHN",
          "USA",
          "IND",
          "RUS",
          "NLD",
          "FRA"
         ],
         "xaxis": "x",
         "y": [
          69604508.55989982,
          46142379.253700085,
          8759724.07129999,
          4728405.263359997,
          4661032.177,
          3076699.3222
         ],
         "yaxis": "y"
        },
        {
         "alignmentgroup": "True",
         "hovertemplate": "subsector=net-wetland<br>iso3_country=%{x}<br>emissions_quantity=%{y}<extra></extra>",
         "legendgroup": "net-wetland",
         "marker": {
          "color": "#ab63fa",
          "pattern": {
           "shape": ""
          }
         },
         "name": "net-wetland",
         "offsetgroup": "net-wetland",
         "orientation": "v",
         "showlegend": true,
         "textposition": "auto",
         "type": "bar",
         "x": [
          "USA",
          "CHN",
          "MOZ",
          "NLD",
          "FRA",
          "IND",
          "RUS"
         ],
         "xaxis": "x",
         "y": [
          62459206.871075876,
          4353501.305604034,
          671130.3349295987,
          -224657.0922340772,
          -947268.134042888,
          -5364358.007660368,
          -174776043.7791885
         ],
         "yaxis": "y"
        },
        {
         "alignmentgroup": "True",
         "hovertemplate": "subsector=coal-mining<br>iso3_country=%{x}<br>emissions_quantity=%{y}<extra></extra>",
         "legendgroup": "coal-mining",
         "marker": {
          "color": "#FFA15A",
          "pattern": {
           "shape": ""
          }
         },
         "name": "coal-mining",
         "offsetgroup": "coal-mining",
         "orientation": "v",
         "showlegend": true,
         "textposition": "auto",
         "type": "bar",
         "x": [
          "CHN",
          "IND",
          "USA",
          "RUS",
          "MOZ"
         ],
         "xaxis": "x",
         "y": [
          57492633.9312005,
          17597292.839023814,
          9268681.11689858,
          8504305.674629902,
          244641.24635456136
         ],
         "yaxis": "y"
        },
        {
         "alignmentgroup": "True",
         "hovertemplate": "subsector=international-shipping<br>iso3_country=%{x}<br>emissions_quantity=%{y}<extra></extra>",
         "legendgroup": "international-shipping",
         "marker": {
          "color": "#19d3f3",
          "pattern": {
           "shape": ""
          }
         },
         "name": "international-shipping",
         "offsetgroup": "international-shipping",
         "orientation": "v",
         "showlegend": true,
         "textposition": "auto",
         "type": "bar",
         "x": [
          "CHN",
          "USA",
          "IND",
          "NLD",
          "FRA",
          "RUS",
          "MOZ"
         ],
         "xaxis": "x",
         "y": [
          56986510.81717329,
          40779777.13570432,
          13762213.68408642,
          10773746.090841714,
          6797025.275216764,
          6620293.855708532,
          1346253.7107575976
         ],
         "yaxis": "y"
        },
        {
         "alignmentgroup": "True",
         "hovertemplate": "subsector=food-beverage-tobacco<br>iso3_country=%{x}<br>emissions_quantity=%{y}<extra></extra>",
         "legendgroup": "food-beverage-tobacco",
         "marker": {
          "color": "#FF6692",
          "pattern": {
           "shape": ""
          }
         },
         "name": "food-beverage-tobacco",
         "offsetgroup": "food-beverage-tobacco",
         "orientation": "v",
         "showlegend": true,
         "textposition": "auto",
         "type": "bar",
         "x": [
          "USA",
          "FRA",
          "NLD"
         ],
         "xaxis": "x",
         "y": [
          24304935.13964505,
          15636065.025001219,
          6241217.855106166
         ],
         "yaxis": "y"
        },
        {
         "alignmentgroup": "True",
         "hovertemplate": "subsector=wetland-fires<br>iso3_country=%{x}<br>emissions_quantity=%{y}<extra></extra>",
         "legendgroup": "wetland-fires",
         "marker": {
          "color": "#B6E880",
          "pattern": {
           "shape": ""
          }
         },
         "name": "wetland-fires",
         "offsetgroup": "wetland-fires",
         "orientation": "v",
         "showlegend": true,
         "textposition": "auto",
         "type": "bar",
         "x": [
          "RUS",
          "MOZ",
          "USA",
          "CHN",
          "IND",
          "FRA",
          "NLD"
         ],
         "xaxis": "x",
         "y": [
          23583535.032454602,
          12401286.755797643,
          3240185.7013598443,
          718429.2730033705,
          90328.96254385136,
          530.7044704079146,
          69.56795822988505
         ],
         "yaxis": "y"
        },
        {
         "alignmentgroup": "True",
         "hovertemplate": "subsector=textiles-leather-apparel<br>iso3_country=%{x}<br>emissions_quantity=%{y}<extra></extra>",
         "legendgroup": "textiles-leather-apparel",
         "marker": {
          "color": "#FF97FF",
          "pattern": {
           "shape": ""
          }
         },
         "name": "textiles-leather-apparel",
         "offsetgroup": "textiles-leather-apparel",
         "orientation": "v",
         "showlegend": true,
         "textposition": "auto",
         "type": "bar",
         "x": [
          "CHN",
          "USA",
          "IND",
          "FRA",
          "NLD"
         ],
         "xaxis": "x",
         "y": [
          20186214.35410785,
          1749208.7334479638,
          362161.86050628277,
          259036.23326252957,
          98517.71560597818
         ],
         "yaxis": "y"
        },
        {
         "alignmentgroup": "True",
         "hovertemplate": "subsector=other-metals<br>iso3_country=%{x}<br>emissions_quantity=%{y}<extra></extra>",
         "legendgroup": "other-metals",
         "marker": {
          "color": "#FECB52",
          "pattern": {
           "shape": ""
          }
         },
         "name": "other-metals",
         "offsetgroup": "other-metals",
         "orientation": "v",
         "showlegend": true,
         "textposition": "auto",
         "type": "bar",
         "x": [
          "USA",
          "FRA",
          "NLD"
         ],
         "xaxis": "x",
         "y": [
          20041427.9958764,
          5010999.992384255,
          114999.99982522229
         ],
         "yaxis": "y"
        },
        {
         "alignmentgroup": "True",
         "hovertemplate": "subsector=other-manufacturing<br>iso3_country=%{x}<br>emissions_quantity=%{y}<extra></extra>",
         "legendgroup": "other-manufacturing",
         "marker": {
          "color": "#636efa",
          "pattern": {
           "shape": ""
          }
         },
         "name": "other-manufacturing",
         "offsetgroup": "other-manufacturing",
         "orientation": "v",
         "showlegend": true,
         "textposition": "auto",
         "type": "bar",
         "x": [
          "USA"
         ],
         "xaxis": "x",
         "y": [
          16176203.910744697
         ],
         "yaxis": "y"
        },
        {
         "alignmentgroup": "True",
         "hovertemplate": "subsector=pulp-and-paper<br>iso3_country=%{x}<br>emissions_quantity=%{y}<extra></extra>",
         "legendgroup": "pulp-and-paper",
         "marker": {
          "color": "#EF553B",
          "pattern": {
           "shape": ""
          }
         },
         "name": "pulp-and-paper",
         "offsetgroup": "pulp-and-paper",
         "orientation": "v",
         "showlegend": true,
         "textposition": "auto",
         "type": "bar",
         "x": [
          "USA",
          "CHN",
          "RUS",
          "FRA",
          "IND"
         ],
         "xaxis": "x",
         "y": [
          14667493.906021882,
          5436940.818446877,
          1215520.2792393763,
          216641.2055886525,
          202897.56220997247
         ],
         "yaxis": "y"
        },
        {
         "alignmentgroup": "True",
         "hovertemplate": "subsector=glass<br>iso3_country=%{x}<br>emissions_quantity=%{y}<extra></extra>",
         "legendgroup": "glass",
         "marker": {
          "color": "#00cc96",
          "pattern": {
           "shape": ""
          }
         },
         "name": "glass",
         "offsetgroup": "glass",
         "orientation": "v",
         "showlegend": true,
         "textposition": "auto",
         "type": "bar",
         "x": [
          "USA",
          "FRA",
          "NLD"
         ],
         "xaxis": "x",
         "y": [
          9213645.999857672,
          5658390.802734114,
          751586.4706711085
         ],
         "yaxis": "y"
        },
        {
         "alignmentgroup": "True",
         "hovertemplate": "subsector=forest-land-degradation<br>iso3_country=%{x}<br>emissions_quantity=%{y}<extra></extra>",
         "legendgroup": "forest-land-degradation",
         "marker": {
          "color": "#ab63fa",
          "pattern": {
           "shape": ""
          }
         },
         "name": "forest-land-degradation",
         "offsetgroup": "forest-land-degradation",
         "orientation": "v",
         "showlegend": true,
         "textposition": "auto",
         "type": "bar",
         "x": [
          "IND",
          "CHN",
          "MOZ",
          "USA",
          "FRA",
          "RUS",
          "NLD"
         ],
         "xaxis": "x",
         "y": [
          9212727.933933252,
          70861.2846916601,
          15173.79425064669,
          7399.298696378664,
          0,
          0,
          0
         ],
         "yaxis": "y"
        },
        {
         "alignmentgroup": "True",
         "hovertemplate": "subsector=iron-mining<br>iso3_country=%{x}<br>emissions_quantity=%{y}<extra></extra>",
         "legendgroup": "iron-mining",
         "marker": {
          "color": "#FFA15A",
          "pattern": {
           "shape": ""
          }
         },
         "name": "iron-mining",
         "offsetgroup": "iron-mining",
         "orientation": "v",
         "showlegend": true,
         "textposition": "auto",
         "type": "bar",
         "x": [
          "RUS",
          "IND",
          "USA",
          "CHN"
         ],
         "xaxis": "x",
         "y": [
          8701373.687706264,
          4492437,
          2658966.0002456624,
          2540544.0002347208
         ],
         "yaxis": "y"
        },
        {
         "alignmentgroup": "True",
         "hovertemplate": "subsector=copper-mining<br>iso3_country=%{x}<br>emissions_quantity=%{y}<extra></extra>",
         "legendgroup": "copper-mining",
         "marker": {
          "color": "#19d3f3",
          "pattern": {
           "shape": ""
          }
         },
         "name": "copper-mining",
         "offsetgroup": "copper-mining",
         "orientation": "v",
         "showlegend": true,
         "textposition": "auto",
         "type": "bar",
         "x": [
          "CHN",
          "USA",
          "RUS",
          "IND"
         ],
         "xaxis": "x",
         "y": [
          7523047.527333942,
          4474437.544003356,
          1912912.0081854777,
          7854
         ],
         "yaxis": "y"
        },
        {
         "alignmentgroup": "True",
         "hovertemplate": "subsector=bauxite-mining<br>iso3_country=%{x}<br>emissions_quantity=%{y}<extra></extra>",
         "legendgroup": "bauxite-mining",
         "marker": {
          "color": "#FF6692",
          "pattern": {
           "shape": ""
          }
         },
         "name": "bauxite-mining",
         "offsetgroup": "bauxite-mining",
         "orientation": "v",
         "showlegend": true,
         "textposition": "auto",
         "type": "bar",
         "x": [
          "IND",
          "CHN",
          "RUS",
          "MOZ"
         ],
         "xaxis": "x",
         "y": [
          852845,
          283220.0000261667,
          134530.75057566597,
          121
         ],
         "yaxis": "y"
        },
        {
         "alignmentgroup": "True",
         "hovertemplate": "subsector=water-reservoirs<br>iso3_country=%{x}<br>emissions_quantity=%{y}<extra></extra>",
         "legendgroup": "water-reservoirs",
         "marker": {
          "color": "#B6E880",
          "pattern": {
           "shape": ""
          }
         },
         "name": "water-reservoirs",
         "offsetgroup": "water-reservoirs",
         "orientation": "v",
         "showlegend": true,
         "textposition": "auto",
         "type": "bar",
         "x": [
          "CHN",
          "IND",
          "RUS",
          "USA",
          "MOZ",
          "NLD",
          "FRA"
         ],
         "xaxis": "x",
         "y": [
          585626.2691781448,
          338332.90811808204,
          80306.75901670002,
          732.7087181899999,
          0,
          0,
          0
         ],
         "yaxis": "y"
        },
        {
         "alignmentgroup": "True",
         "hovertemplate": "subsector=enteric-fermentation-cattle-operation<br>iso3_country=%{x}<br>emissions_quantity=%{y}<extra></extra>",
         "legendgroup": "enteric-fermentation-cattle-operation",
         "marker": {
          "color": "#FF97FF",
          "pattern": {
           "shape": ""
          }
         },
         "name": "enteric-fermentation-cattle-operation",
         "offsetgroup": "enteric-fermentation-cattle-operation",
         "orientation": "v",
         "showlegend": true,
         "textposition": "auto",
         "type": "bar",
         "x": [
          "CHN",
          "USA",
          "RUS",
          "FRA"
         ],
         "xaxis": "x",
         "y": [
          0,
          0,
          0,
          0
         ],
         "yaxis": "y"
        },
        {
         "alignmentgroup": "True",
         "hovertemplate": "subsector=manure-left-on-pasture-cattle<br>iso3_country=%{x}<br>emissions_quantity=%{y}<extra></extra>",
         "legendgroup": "manure-left-on-pasture-cattle",
         "marker": {
          "color": "#FECB52",
          "pattern": {
           "shape": ""
          }
         },
         "name": "manure-left-on-pasture-cattle",
         "offsetgroup": "manure-left-on-pasture-cattle",
         "orientation": "v",
         "showlegend": true,
         "textposition": "auto",
         "type": "bar",
         "x": [
          "NLD",
          "USA",
          "IND",
          "FRA",
          "RUS",
          "CHN",
          "MOZ"
         ],
         "xaxis": "x",
         "y": [
          0,
          0,
          0,
          0,
          0,
          0,
          0
         ],
         "yaxis": "y"
        },
        {
         "alignmentgroup": "True",
         "hovertemplate": "subsector=solid-waste-disposal<br>iso3_country=%{x}<br>emissions_quantity=%{y}<extra></extra>",
         "legendgroup": "solid-waste-disposal",
         "marker": {
          "color": "#636efa",
          "pattern": {
           "shape": ""
          }
         },
         "name": "solid-waste-disposal",
         "offsetgroup": "solid-waste-disposal",
         "orientation": "v",
         "showlegend": true,
         "textposition": "auto",
         "type": "bar",
         "x": [
          "CHN",
          "IND",
          "RUS",
          "MOZ",
          "NLD",
          "USA",
          "FRA"
         ],
         "xaxis": "x",
         "y": [
          0,
          0,
          0,
          0,
          0,
          0,
          0
         ],
         "yaxis": "y"
        },
        {
         "alignmentgroup": "True",
         "hovertemplate": "subsector=domestic-wastewater-treatment-and-discharge<br>iso3_country=%{x}<br>emissions_quantity=%{y}<extra></extra>",
         "legendgroup": "domestic-wastewater-treatment-and-discharge",
         "marker": {
          "color": "#EF553B",
          "pattern": {
           "shape": ""
          }
         },
         "name": "domestic-wastewater-treatment-and-discharge",
         "offsetgroup": "domestic-wastewater-treatment-and-discharge",
         "orientation": "v",
         "showlegend": true,
         "textposition": "auto",
         "type": "bar",
         "x": [
          "CHN",
          "MOZ",
          "USA",
          "IND",
          "NLD",
          "FRA",
          "RUS"
         ],
         "xaxis": "x",
         "y": [
          0,
          0,
          0,
          0,
          0,
          0,
          0
         ],
         "yaxis": "y"
        },
        {
         "alignmentgroup": "True",
         "hovertemplate": "subsector=industrial-wastewater-treatment-and-discharge<br>iso3_country=%{x}<br>emissions_quantity=%{y}<extra></extra>",
         "legendgroup": "industrial-wastewater-treatment-and-discharge",
         "marker": {
          "color": "#00cc96",
          "pattern": {
           "shape": ""
          }
         },
         "name": "industrial-wastewater-treatment-and-discharge",
         "offsetgroup": "industrial-wastewater-treatment-and-discharge",
         "orientation": "v",
         "showlegend": true,
         "textposition": "auto",
         "type": "bar",
         "x": [
          "USA",
          "IND",
          "CHN",
          "NLD",
          "RUS",
          "FRA"
         ],
         "xaxis": "x",
         "y": [
          0,
          0,
          0,
          0,
          0,
          0
         ],
         "yaxis": "y"
        },
        {
         "alignmentgroup": "True",
         "hovertemplate": "subsector=enteric-fermentation-cattle-pasture<br>iso3_country=%{x}<br>emissions_quantity=%{y}<extra></extra>",
         "legendgroup": "enteric-fermentation-cattle-pasture",
         "marker": {
          "color": "#ab63fa",
          "pattern": {
           "shape": ""
          }
         },
         "name": "enteric-fermentation-cattle-pasture",
         "offsetgroup": "enteric-fermentation-cattle-pasture",
         "orientation": "v",
         "showlegend": true,
         "textposition": "auto",
         "type": "bar",
         "x": [
          "RUS",
          "CHN",
          "IND",
          "USA",
          "NLD",
          "FRA",
          "MOZ"
         ],
         "xaxis": "x",
         "y": [
          0,
          0,
          0,
          0,
          0,
          0,
          0
         ],
         "yaxis": "y"
        },
        {
         "alignmentgroup": "True",
         "hovertemplate": "subsector=rice-cultivation<br>iso3_country=%{x}<br>emissions_quantity=%{y}<extra></extra>",
         "legendgroup": "rice-cultivation",
         "marker": {
          "color": "#FFA15A",
          "pattern": {
           "shape": ""
          }
         },
         "name": "rice-cultivation",
         "offsetgroup": "rice-cultivation",
         "orientation": "v",
         "showlegend": true,
         "textposition": "auto",
         "type": "bar",
         "x": [
          "NLD",
          "USA",
          "RUS",
          "IND",
          "FRA",
          "MOZ",
          "CHN"
         ],
         "xaxis": "x",
         "y": [
          0,
          0,
          0,
          0,
          0,
          0,
          0
         ],
         "yaxis": "y"
        },
        {
         "alignmentgroup": "True",
         "hovertemplate": "subsector=synthetic-fertilizer-application<br>iso3_country=%{x}<br>emissions_quantity=%{y}<extra></extra>",
         "legendgroup": "synthetic-fertilizer-application",
         "marker": {
          "color": "#19d3f3",
          "pattern": {
           "shape": ""
          }
         },
         "name": "synthetic-fertilizer-application",
         "offsetgroup": "synthetic-fertilizer-application",
         "orientation": "v",
         "showlegend": true,
         "textposition": "auto",
         "type": "bar",
         "x": [
          "CHN",
          "NLD",
          "USA",
          "RUS",
          "MOZ",
          "IND",
          "FRA"
         ],
         "xaxis": "x",
         "y": [
          0,
          0,
          0,
          0,
          0,
          0,
          0
         ],
         "yaxis": "y"
        },
        {
         "alignmentgroup": "True",
         "hovertemplate": "subsector=manure-management-cattle-operation<br>iso3_country=%{x}<br>emissions_quantity=%{y}<extra></extra>",
         "legendgroup": "manure-management-cattle-operation",
         "marker": {
          "color": "#FF6692",
          "pattern": {
           "shape": ""
          }
         },
         "name": "manure-management-cattle-operation",
         "offsetgroup": "manure-management-cattle-operation",
         "orientation": "v",
         "showlegend": true,
         "textposition": "auto",
         "type": "bar",
         "x": [
          "CHN",
          "FRA",
          "RUS",
          "USA"
         ],
         "xaxis": "x",
         "y": [
          0,
          0,
          0,
          0
         ],
         "yaxis": "y"
        },
        {
         "alignmentgroup": "True",
         "hovertemplate": "subsector=removals<br>iso3_country=%{x}<br>emissions_quantity=%{y}<extra></extra>",
         "legendgroup": "removals",
         "marker": {
          "color": "#B6E880",
          "pattern": {
           "shape": ""
          }
         },
         "name": "removals",
         "offsetgroup": "removals",
         "orientation": "v",
         "showlegend": true,
         "textposition": "auto",
         "type": "bar",
         "x": [
          "NLD",
          "IND",
          "CHN",
          "FRA",
          "USA",
          "MOZ",
          "RUS"
         ],
         "xaxis": "x",
         "y": [
          -12813060.638325086,
          -23505832.44651333,
          -112289439.4753451,
          -222519638.69167864,
          -809178311.7914772,
          -1474216896.6709611,
          -1946082629.7732308
         ],
         "yaxis": "y"
        }
       ],
       "layout": {
        "autosize": true,
        "barmode": "relative",
        "legend": {
         "title": {
          "text": "subsector"
         },
         "tracegroupgap": 0
        },
        "margin": {
         "t": 60
        },
        "template": {
         "data": {
          "bar": [
           {
            "error_x": {
             "color": "#2a3f5f"
            },
            "error_y": {
             "color": "#2a3f5f"
            },
            "marker": {
             "line": {
              "color": "white",
              "width": 0.5
             },
             "pattern": {
              "fillmode": "overlay",
              "size": 10,
              "solidity": 0.2
             }
            },
            "type": "bar"
           }
          ],
          "barpolar": [
           {
            "marker": {
             "line": {
              "color": "white",
              "width": 0.5
             },
             "pattern": {
              "fillmode": "overlay",
              "size": 10,
              "solidity": 0.2
             }
            },
            "type": "barpolar"
           }
          ],
          "carpet": [
           {
            "aaxis": {
             "endlinecolor": "#2a3f5f",
             "gridcolor": "#C8D4E3",
             "linecolor": "#C8D4E3",
             "minorgridcolor": "#C8D4E3",
             "startlinecolor": "#2a3f5f"
            },
            "baxis": {
             "endlinecolor": "#2a3f5f",
             "gridcolor": "#C8D4E3",
             "linecolor": "#C8D4E3",
             "minorgridcolor": "#C8D4E3",
             "startlinecolor": "#2a3f5f"
            },
            "type": "carpet"
           }
          ],
          "choropleth": [
           {
            "colorbar": {
             "outlinewidth": 0,
             "ticks": ""
            },
            "type": "choropleth"
           }
          ],
          "contour": [
           {
            "colorbar": {
             "outlinewidth": 0,
             "ticks": ""
            },
            "colorscale": [
             [
              0,
              "#0d0887"
             ],
             [
              0.1111111111111111,
              "#46039f"
             ],
             [
              0.2222222222222222,
              "#7201a8"
             ],
             [
              0.3333333333333333,
              "#9c179e"
             ],
             [
              0.4444444444444444,
              "#bd3786"
             ],
             [
              0.5555555555555556,
              "#d8576b"
             ],
             [
              0.6666666666666666,
              "#ed7953"
             ],
             [
              0.7777777777777778,
              "#fb9f3a"
             ],
             [
              0.8888888888888888,
              "#fdca26"
             ],
             [
              1,
              "#f0f921"
             ]
            ],
            "type": "contour"
           }
          ],
          "contourcarpet": [
           {
            "colorbar": {
             "outlinewidth": 0,
             "ticks": ""
            },
            "type": "contourcarpet"
           }
          ],
          "heatmap": [
           {
            "colorbar": {
             "outlinewidth": 0,
             "ticks": ""
            },
            "colorscale": [
             [
              0,
              "#0d0887"
             ],
             [
              0.1111111111111111,
              "#46039f"
             ],
             [
              0.2222222222222222,
              "#7201a8"
             ],
             [
              0.3333333333333333,
              "#9c179e"
             ],
             [
              0.4444444444444444,
              "#bd3786"
             ],
             [
              0.5555555555555556,
              "#d8576b"
             ],
             [
              0.6666666666666666,
              "#ed7953"
             ],
             [
              0.7777777777777778,
              "#fb9f3a"
             ],
             [
              0.8888888888888888,
              "#fdca26"
             ],
             [
              1,
              "#f0f921"
             ]
            ],
            "type": "heatmap"
           }
          ],
          "heatmapgl": [
           {
            "colorbar": {
             "outlinewidth": 0,
             "ticks": ""
            },
            "colorscale": [
             [
              0,
              "#0d0887"
             ],
             [
              0.1111111111111111,
              "#46039f"
             ],
             [
              0.2222222222222222,
              "#7201a8"
             ],
             [
              0.3333333333333333,
              "#9c179e"
             ],
             [
              0.4444444444444444,
              "#bd3786"
             ],
             [
              0.5555555555555556,
              "#d8576b"
             ],
             [
              0.6666666666666666,
              "#ed7953"
             ],
             [
              0.7777777777777778,
              "#fb9f3a"
             ],
             [
              0.8888888888888888,
              "#fdca26"
             ],
             [
              1,
              "#f0f921"
             ]
            ],
            "type": "heatmapgl"
           }
          ],
          "histogram": [
           {
            "marker": {
             "pattern": {
              "fillmode": "overlay",
              "size": 10,
              "solidity": 0.2
             }
            },
            "type": "histogram"
           }
          ],
          "histogram2d": [
           {
            "colorbar": {
             "outlinewidth": 0,
             "ticks": ""
            },
            "colorscale": [
             [
              0,
              "#0d0887"
             ],
             [
              0.1111111111111111,
              "#46039f"
             ],
             [
              0.2222222222222222,
              "#7201a8"
             ],
             [
              0.3333333333333333,
              "#9c179e"
             ],
             [
              0.4444444444444444,
              "#bd3786"
             ],
             [
              0.5555555555555556,
              "#d8576b"
             ],
             [
              0.6666666666666666,
              "#ed7953"
             ],
             [
              0.7777777777777778,
              "#fb9f3a"
             ],
             [
              0.8888888888888888,
              "#fdca26"
             ],
             [
              1,
              "#f0f921"
             ]
            ],
            "type": "histogram2d"
           }
          ],
          "histogram2dcontour": [
           {
            "colorbar": {
             "outlinewidth": 0,
             "ticks": ""
            },
            "colorscale": [
             [
              0,
              "#0d0887"
             ],
             [
              0.1111111111111111,
              "#46039f"
             ],
             [
              0.2222222222222222,
              "#7201a8"
             ],
             [
              0.3333333333333333,
              "#9c179e"
             ],
             [
              0.4444444444444444,
              "#bd3786"
             ],
             [
              0.5555555555555556,
              "#d8576b"
             ],
             [
              0.6666666666666666,
              "#ed7953"
             ],
             [
              0.7777777777777778,
              "#fb9f3a"
             ],
             [
              0.8888888888888888,
              "#fdca26"
             ],
             [
              1,
              "#f0f921"
             ]
            ],
            "type": "histogram2dcontour"
           }
          ],
          "mesh3d": [
           {
            "colorbar": {
             "outlinewidth": 0,
             "ticks": ""
            },
            "type": "mesh3d"
           }
          ],
          "parcoords": [
           {
            "line": {
             "colorbar": {
              "outlinewidth": 0,
              "ticks": ""
             }
            },
            "type": "parcoords"
           }
          ],
          "pie": [
           {
            "automargin": true,
            "type": "pie"
           }
          ],
          "scatter": [
           {
            "fillpattern": {
             "fillmode": "overlay",
             "size": 10,
             "solidity": 0.2
            },
            "type": "scatter"
           }
          ],
          "scatter3d": [
           {
            "line": {
             "colorbar": {
              "outlinewidth": 0,
              "ticks": ""
             }
            },
            "marker": {
             "colorbar": {
              "outlinewidth": 0,
              "ticks": ""
             }
            },
            "type": "scatter3d"
           }
          ],
          "scattercarpet": [
           {
            "marker": {
             "colorbar": {
              "outlinewidth": 0,
              "ticks": ""
             }
            },
            "type": "scattercarpet"
           }
          ],
          "scattergeo": [
           {
            "marker": {
             "colorbar": {
              "outlinewidth": 0,
              "ticks": ""
             }
            },
            "type": "scattergeo"
           }
          ],
          "scattergl": [
           {
            "marker": {
             "colorbar": {
              "outlinewidth": 0,
              "ticks": ""
             }
            },
            "type": "scattergl"
           }
          ],
          "scattermapbox": [
           {
            "marker": {
             "colorbar": {
              "outlinewidth": 0,
              "ticks": ""
             }
            },
            "type": "scattermapbox"
           }
          ],
          "scatterpolar": [
           {
            "marker": {
             "colorbar": {
              "outlinewidth": 0,
              "ticks": ""
             }
            },
            "type": "scatterpolar"
           }
          ],
          "scatterpolargl": [
           {
            "marker": {
             "colorbar": {
              "outlinewidth": 0,
              "ticks": ""
             }
            },
            "type": "scatterpolargl"
           }
          ],
          "scatterternary": [
           {
            "marker": {
             "colorbar": {
              "outlinewidth": 0,
              "ticks": ""
             }
            },
            "type": "scatterternary"
           }
          ],
          "surface": [
           {
            "colorbar": {
             "outlinewidth": 0,
             "ticks": ""
            },
            "colorscale": [
             [
              0,
              "#0d0887"
             ],
             [
              0.1111111111111111,
              "#46039f"
             ],
             [
              0.2222222222222222,
              "#7201a8"
             ],
             [
              0.3333333333333333,
              "#9c179e"
             ],
             [
              0.4444444444444444,
              "#bd3786"
             ],
             [
              0.5555555555555556,
              "#d8576b"
             ],
             [
              0.6666666666666666,
              "#ed7953"
             ],
             [
              0.7777777777777778,
              "#fb9f3a"
             ],
             [
              0.8888888888888888,
              "#fdca26"
             ],
             [
              1,
              "#f0f921"
             ]
            ],
            "type": "surface"
           }
          ],
          "table": [
           {
            "cells": {
             "fill": {
              "color": "#EBF0F8"
             },
             "line": {
              "color": "white"
             }
            },
            "header": {
             "fill": {
              "color": "#C8D4E3"
             },
             "line": {
              "color": "white"
             }
            },
            "type": "table"
           }
          ]
         },
         "layout": {
          "annotationdefaults": {
           "arrowcolor": "#2a3f5f",
           "arrowhead": 0,
           "arrowwidth": 1
          },
          "autotypenumbers": "strict",
          "coloraxis": {
           "colorbar": {
            "outlinewidth": 0,
            "ticks": ""
           }
          },
          "colorscale": {
           "diverging": [
            [
             0,
             "#8e0152"
            ],
            [
             0.1,
             "#c51b7d"
            ],
            [
             0.2,
             "#de77ae"
            ],
            [
             0.3,
             "#f1b6da"
            ],
            [
             0.4,
             "#fde0ef"
            ],
            [
             0.5,
             "#f7f7f7"
            ],
            [
             0.6,
             "#e6f5d0"
            ],
            [
             0.7,
             "#b8e186"
            ],
            [
             0.8,
             "#7fbc41"
            ],
            [
             0.9,
             "#4d9221"
            ],
            [
             1,
             "#276419"
            ]
           ],
           "sequential": [
            [
             0,
             "#0d0887"
            ],
            [
             0.1111111111111111,
             "#46039f"
            ],
            [
             0.2222222222222222,
             "#7201a8"
            ],
            [
             0.3333333333333333,
             "#9c179e"
            ],
            [
             0.4444444444444444,
             "#bd3786"
            ],
            [
             0.5555555555555556,
             "#d8576b"
            ],
            [
             0.6666666666666666,
             "#ed7953"
            ],
            [
             0.7777777777777778,
             "#fb9f3a"
            ],
            [
             0.8888888888888888,
             "#fdca26"
            ],
            [
             1,
             "#f0f921"
            ]
           ],
           "sequentialminus": [
            [
             0,
             "#0d0887"
            ],
            [
             0.1111111111111111,
             "#46039f"
            ],
            [
             0.2222222222222222,
             "#7201a8"
            ],
            [
             0.3333333333333333,
             "#9c179e"
            ],
            [
             0.4444444444444444,
             "#bd3786"
            ],
            [
             0.5555555555555556,
             "#d8576b"
            ],
            [
             0.6666666666666666,
             "#ed7953"
            ],
            [
             0.7777777777777778,
             "#fb9f3a"
            ],
            [
             0.8888888888888888,
             "#fdca26"
            ],
            [
             1,
             "#f0f921"
            ]
           ]
          },
          "colorway": [
           "#636efa",
           "#EF553B",
           "#00cc96",
           "#ab63fa",
           "#FFA15A",
           "#19d3f3",
           "#FF6692",
           "#B6E880",
           "#FF97FF",
           "#FECB52"
          ],
          "font": {
           "color": "#2a3f5f"
          },
          "geo": {
           "bgcolor": "white",
           "lakecolor": "white",
           "landcolor": "white",
           "showlakes": true,
           "showland": true,
           "subunitcolor": "#C8D4E3"
          },
          "hoverlabel": {
           "align": "left"
          },
          "hovermode": "closest",
          "mapbox": {
           "style": "light"
          },
          "paper_bgcolor": "white",
          "plot_bgcolor": "white",
          "polar": {
           "angularaxis": {
            "gridcolor": "#EBF0F8",
            "linecolor": "#EBF0F8",
            "ticks": ""
           },
           "bgcolor": "white",
           "radialaxis": {
            "gridcolor": "#EBF0F8",
            "linecolor": "#EBF0F8",
            "ticks": ""
           }
          },
          "scene": {
           "xaxis": {
            "backgroundcolor": "white",
            "gridcolor": "#DFE8F3",
            "gridwidth": 2,
            "linecolor": "#EBF0F8",
            "showbackground": true,
            "ticks": "",
            "zerolinecolor": "#EBF0F8"
           },
           "yaxis": {
            "backgroundcolor": "white",
            "gridcolor": "#DFE8F3",
            "gridwidth": 2,
            "linecolor": "#EBF0F8",
            "showbackground": true,
            "ticks": "",
            "zerolinecolor": "#EBF0F8"
           },
           "zaxis": {
            "backgroundcolor": "white",
            "gridcolor": "#DFE8F3",
            "gridwidth": 2,
            "linecolor": "#EBF0F8",
            "showbackground": true,
            "ticks": "",
            "zerolinecolor": "#EBF0F8"
           }
          },
          "shapedefaults": {
           "line": {
            "color": "#2a3f5f"
           }
          },
          "ternary": {
           "aaxis": {
            "gridcolor": "#DFE8F3",
            "linecolor": "#A2B1C6",
            "ticks": ""
           },
           "baxis": {
            "gridcolor": "#DFE8F3",
            "linecolor": "#A2B1C6",
            "ticks": ""
           },
           "bgcolor": "white",
           "caxis": {
            "gridcolor": "#DFE8F3",
            "linecolor": "#A2B1C6",
            "ticks": ""
           }
          },
          "title": {
           "x": 0.05
          },
          "xaxis": {
           "automargin": true,
           "gridcolor": "#EBF0F8",
           "linecolor": "#EBF0F8",
           "ticks": "",
           "title": {
            "standoff": 15
           },
           "zerolinecolor": "#EBF0F8",
           "zerolinewidth": 2
          },
          "yaxis": {
           "automargin": true,
           "gridcolor": "#EBF0F8",
           "linecolor": "#EBF0F8",
           "ticks": "",
           "title": {
            "standoff": 15
           },
           "zerolinecolor": "#EBF0F8",
           "zerolinewidth": 2
          }
         }
        },
        "xaxis": {
         "anchor": "y",
         "autorange": true,
         "domain": [
          0,
          1
         ],
         "range": [
          -0.5,
          6.5
         ],
         "title": {
          "text": "iso3_country"
         },
         "type": "category"
        },
        "yaxis": {
         "anchor": "x",
         "autorange": true,
         "domain": [
          0,
          1
         ],
         "range": [
          -3077428872.7660227,
          16053975111.506044
         ],
         "title": {
          "text": "emissions_quantity"
         },
         "type": "linear"
        }
       }
      },
      "text/html": [
       "<div>                            <div id=\"026a5ea4-d308-48a8-88d7-86193e9715cc\" class=\"plotly-graph-div\" style=\"height:525px; width:100%;\"></div>            <script type=\"text/javascript\">                require([\"plotly\"], function(Plotly) {                    window.PLOTLYENV=window.PLOTLYENV || {};                                    if (document.getElementById(\"026a5ea4-d308-48a8-88d7-86193e9715cc\")) {                    Plotly.newPlot(                        \"026a5ea4-d308-48a8-88d7-86193e9715cc\",                        [{\"alignmentgroup\":\"True\",\"hovertemplate\":\"subsector=electricity-generation\\u003cbr\\u003eiso3_country=%{x}\\u003cbr\\u003eemissions_quantity=%{y}\\u003cextra\\u003e\\u003c\\u002fextra\\u003e\",\"legendgroup\":\"electricity-generation\",\"marker\":{\"color\":\"#636efa\",\"pattern\":{\"shape\":\"\"}},\"name\":\"electricity-generation\",\"offsetgroup\":\"electricity-generation\",\"orientation\":\"v\",\"showlegend\":true,\"textposition\":\"auto\",\"x\":[\"CHN\",\"USA\",\"IND\",\"RUS\",\"NLD\",\"FRA\",\"MOZ\"],\"xaxis\":\"x\",\"y\":[5025374914.9,1452448793.5699983,1297631276.6900003,590447545.0,22942398.499999996,16677507.0,1202906.9000000004],\"yaxis\":\"y\",\"type\":\"bar\"},{\"alignmentgroup\":\"True\",\"hovertemplate\":\"subsector=road-transportation\\u003cbr\\u003eiso3_country=%{x}\\u003cbr\\u003eemissions_quantity=%{y}\\u003cextra\\u003e\\u003c\\u002fextra\\u003e\",\"legendgroup\":\"road-transportation\",\"marker\":{\"color\":\"#EF553B\",\"pattern\":{\"shape\":\"\"}},\"name\":\"road-transportation\",\"offsetgroup\":\"road-transportation\",\"orientation\":\"v\",\"showlegend\":true,\"textposition\":\"auto\",\"x\":[\"USA\",\"CHN\",\"RUS\",\"IND\",\"FRA\",\"NLD\",\"MOZ\"],\"xaxis\":\"x\",\"y\":[3481064833.9063644,1626452489.4112895,553786927.696332,421584808.29527223,319870004.22671074,52023955.676074825,36886943.8236217],\"yaxis\":\"y\",\"type\":\"bar\"},{\"alignmentgroup\":\"True\",\"hovertemplate\":\"subsector=residential-onsite-fuel-usage\\u003cbr\\u003eiso3_country=%{x}\\u003cbr\\u003eemissions_quantity=%{y}\\u003cextra\\u003e\\u003c\\u002fextra\\u003e\",\"legendgroup\":\"residential-onsite-fuel-usage\",\"marker\":{\"color\":\"#00cc96\",\"pattern\":{\"shape\":\"\"}},\"name\":\"residential-onsite-fuel-usage\",\"offsetgroup\":\"residential-onsite-fuel-usage\",\"orientation\":\"v\",\"showlegend\":true,\"textposition\":\"auto\",\"x\":[\"CHN\",\"USA\",\"IND\",\"RUS\",\"FRA\",\"NLD\",\"MOZ\"],\"xaxis\":\"x\",\"y\":[2065897850.8318849,1719269600.1874132,688116354.0000684,639267173.151636,206665453.2736206,64921366.020839475,498102.7922999971],\"yaxis\":\"y\",\"type\":\"bar\"},{\"alignmentgroup\":\"True\",\"hovertemplate\":\"subsector=iron-and-steel\\u003cbr\\u003eiso3_country=%{x}\\u003cbr\\u003eemissions_quantity=%{y}\\u003cextra\\u003e\\u003c\\u002fextra\\u003e\",\"legendgroup\":\"iron-and-steel\",\"marker\":{\"color\":\"#ab63fa\",\"pattern\":{\"shape\":\"\"}},\"name\":\"iron-and-steel\",\"offsetgroup\":\"iron-and-steel\",\"orientation\":\"v\",\"showlegend\":true,\"textposition\":\"auto\",\"x\":[\"CHN\",\"IND\",\"RUS\",\"USA\",\"FRA\",\"NLD\"],\"xaxis\":\"x\",\"y\":[1733004367.3151536,134560350.79758257,99473286.95923345,80540125.06123532,21977681.082089692,14916814.513952699],\"yaxis\":\"y\",\"type\":\"bar\"},{\"alignmentgroup\":\"True\",\"hovertemplate\":\"subsector=forest-land-clearing\\u003cbr\\u003eiso3_country=%{x}\\u003cbr\\u003eemissions_quantity=%{y}\\u003cextra\\u003e\\u003c\\u002fextra\\u003e\",\"legendgroup\":\"forest-land-clearing\",\"marker\":{\"color\":\"#FFA15A\",\"pattern\":{\"shape\":\"\"}},\"name\":\"forest-land-clearing\",\"offsetgroup\":\"forest-land-clearing\",\"orientation\":\"v\",\"showlegend\":true,\"textposition\":\"auto\",\"x\":[\"RUS\",\"USA\",\"CHN\",\"IND\",\"MOZ\",\"FRA\",\"NLD\"],\"xaxis\":\"x\",\"y\":[1695163189.4619162,1415669261.3023767,736383938.7809265,159237418.6130608,142228911.92360827,83861755.99158047,1561907.758112724],\"yaxis\":\"y\",\"type\":\"bar\"},{\"alignmentgroup\":\"True\",\"hovertemplate\":\"subsector=forest-land-fires\\u003cbr\\u003eiso3_country=%{x}\\u003cbr\\u003eemissions_quantity=%{y}\\u003cextra\\u003e\\u003c\\u002fextra\\u003e\",\"legendgroup\":\"forest-land-fires\",\"marker\":{\"color\":\"#19d3f3\",\"pattern\":{\"shape\":\"\"}},\"name\":\"forest-land-fires\",\"offsetgroup\":\"forest-land-fires\",\"orientation\":\"v\",\"showlegend\":true,\"textposition\":\"auto\",\"x\":[\"MOZ\",\"RUS\",\"USA\",\"IND\",\"CHN\",\"FRA\",\"NLD\"],\"xaxis\":\"x\",\"y\":[1255051373.8811665,612670372.1013384,211953727.99771175,135196486.96119905,33833621.94093945,2010962.221467435,3500.4007973816556],\"yaxis\":\"y\",\"type\":\"bar\"},{\"alignmentgroup\":\"True\",\"hovertemplate\":\"subsector=cement\\u003cbr\\u003eiso3_country=%{x}\\u003cbr\\u003eemissions_quantity=%{y}\\u003cextra\\u003e\\u003c\\u002fextra\\u003e\",\"legendgroup\":\"cement\",\"marker\":{\"color\":\"#FF6692\",\"pattern\":{\"shape\":\"\"}},\"name\":\"cement\",\"offsetgroup\":\"cement\",\"orientation\":\"v\",\"showlegend\":true,\"textposition\":\"auto\",\"x\":[\"CHN\",\"IND\",\"RUS\",\"USA\",\"FRA\"],\"xaxis\":\"x\",\"y\":[760518113.8764983,115456646.09913142,32752409.82966196,31573812.31867911,11138178.548222192],\"yaxis\":\"y\",\"type\":\"bar\"},{\"alignmentgroup\":\"True\",\"hovertemplate\":\"subsector=cropland-fires\\u003cbr\\u003eiso3_country=%{x}\\u003cbr\\u003eemissions_quantity=%{y}\\u003cextra\\u003e\\u003c\\u002fextra\\u003e\",\"legendgroup\":\"cropland-fires\",\"marker\":{\"color\":\"#B6E880\",\"pattern\":{\"shape\":\"\"}},\"name\":\"cropland-fires\",\"offsetgroup\":\"cropland-fires\",\"orientation\":\"v\",\"showlegend\":true,\"textposition\":\"auto\",\"x\":[\"CHN\",\"IND\",\"RUS\",\"USA\",\"MOZ\",\"FRA\",\"NLD\"],\"xaxis\":\"x\",\"y\":[689988565.4258946,671449480.323063,81776603.11068085,16431088.205413502,5439400.271268861,1376525.2533198714,1305.6378421113793],\"yaxis\":\"y\",\"type\":\"bar\"},{\"alignmentgroup\":\"True\",\"hovertemplate\":\"subsector=net-forest-land\\u003cbr\\u003eiso3_country=%{x}\\u003cbr\\u003eemissions_quantity=%{y}\\u003cextra\\u003e\\u003c\\u002fextra\\u003e\",\"legendgroup\":\"net-forest-land\",\"marker\":{\"color\":\"#FF97FF\",\"pattern\":{\"shape\":\"\"}},\"name\":\"net-forest-land\",\"offsetgroup\":\"net-forest-land\",\"orientation\":\"v\",\"showlegend\":true,\"textposition\":\"auto\",\"x\":[\"RUS\",\"USA\",\"IND\",\"CHN\",\"MOZ\",\"NLD\",\"FRA\"],\"xaxis\":\"x\",\"y\":[471497753.642732,365964270.73808455,297578517.4883707,238738558.73003712,223283463.93793073,-7387646.1275656065,-68224597.17960015],\"yaxis\":\"y\",\"type\":\"bar\"},{\"alignmentgroup\":\"True\",\"hovertemplate\":\"subsector=oil-and-gas-transport\\u003cbr\\u003eiso3_country=%{x}\\u003cbr\\u003eemissions_quantity=%{y}\\u003cextra\\u003e\\u003c\\u002fextra\\u003e\",\"legendgroup\":\"oil-and-gas-transport\",\"marker\":{\"color\":\"#FECB52\",\"pattern\":{\"shape\":\"\"}},\"name\":\"oil-and-gas-transport\",\"offsetgroup\":\"oil-and-gas-transport\",\"orientation\":\"v\",\"showlegend\":true,\"textposition\":\"auto\",\"x\":[\"RUS\",\"USA\",\"CHN\",\"IND\",\"NLD\",\"MOZ\",\"FRA\"],\"xaxis\":\"x\",\"y\":[457050236.93810606,256751054.7619467,42550435.83861957,13079242.960351579,1760603.952855723,1701185.2427280457,125725.09714003837],\"yaxis\":\"y\",\"type\":\"bar\"},{\"alignmentgroup\":\"True\",\"hovertemplate\":\"subsector=non-residential-onsite-fuel-usage\\u003cbr\\u003eiso3_country=%{x}\\u003cbr\\u003eemissions_quantity=%{y}\\u003cextra\\u003e\\u003c\\u002fextra\\u003e\",\"legendgroup\":\"non-residential-onsite-fuel-usage\",\"marker\":{\"color\":\"#636efa\",\"pattern\":{\"shape\":\"\"}},\"name\":\"non-residential-onsite-fuel-usage\",\"offsetgroup\":\"non-residential-onsite-fuel-usage\",\"orientation\":\"v\",\"showlegend\":true,\"textposition\":\"auto\",\"x\":[\"USA\",\"CHN\",\"RUS\",\"FRA\",\"IND\",\"NLD\",\"MOZ\"],\"xaxis\":\"x\",\"y\":[452340717.12789047,191047018.9616395,151033086.15439805,46508667.76805979,32903746.336730186,20271750.060809977,7363.910399999984],\"yaxis\":\"y\",\"type\":\"bar\"},{\"alignmentgroup\":\"True\",\"hovertemplate\":\"subsector=net-shrubgrass\\u003cbr\\u003eiso3_country=%{x}\\u003cbr\\u003eemissions_quantity=%{y}\\u003cextra\\u003e\\u003c\\u002fextra\\u003e\",\"legendgroup\":\"net-shrubgrass\",\"marker\":{\"color\":\"#EF553B\",\"pattern\":{\"shape\":\"\"}},\"name\":\"net-shrubgrass\",\"offsetgroup\":\"net-shrubgrass\",\"orientation\":\"v\",\"showlegend\":true,\"textposition\":\"auto\",\"x\":[\"CHN\",\"USA\",\"RUS\",\"IND\",\"NLD\",\"MOZ\",\"FRA\"],\"xaxis\":\"x\",\"y\":[426807356.4933811,419247287.9666202,177429249.3753211,-1420772.6605828886,-3591208.926832686,-11075448.356890867,-66565505.011947446],\"yaxis\":\"y\",\"type\":\"bar\"},{\"alignmentgroup\":\"True\",\"hovertemplate\":\"subsector=oil-and-gas-production\\u003cbr\\u003eiso3_country=%{x}\\u003cbr\\u003eemissions_quantity=%{y}\\u003cextra\\u003e\\u003c\\u002fextra\\u003e\",\"legendgroup\":\"oil-and-gas-production\",\"marker\":{\"color\":\"#00cc96\",\"pattern\":{\"shape\":\"\"}},\"name\":\"oil-and-gas-production\",\"offsetgroup\":\"oil-and-gas-production\",\"orientation\":\"v\",\"showlegend\":true,\"textposition\":\"auto\",\"x\":[\"USA\",\"RUS\",\"CHN\",\"IND\",\"NLD\",\"MOZ\",\"FRA\"],\"xaxis\":\"x\",\"y\":[373095048.82926804,203388363.827171,115452130.50027923,10761171.346833121,3782668.13009727,508785.07538835844,138780.24417059714],\"yaxis\":\"y\",\"type\":\"bar\"},{\"alignmentgroup\":\"True\",\"hovertemplate\":\"subsector=lime\\u003cbr\\u003eiso3_country=%{x}\\u003cbr\\u003eemissions_quantity=%{y}\\u003cextra\\u003e\\u003c\\u002fextra\\u003e\",\"legendgroup\":\"lime\",\"marker\":{\"color\":\"#ab63fa\",\"pattern\":{\"shape\":\"\"}},\"name\":\"lime\",\"offsetgroup\":\"lime\",\"orientation\":\"v\",\"showlegend\":true,\"textposition\":\"auto\",\"x\":[\"CHN\",\"USA\",\"FRA\"],\"xaxis\":\"x\",\"y\":[365304631.98585635,31108794.00159814,5103399.982146881],\"yaxis\":\"y\",\"type\":\"bar\"},{\"alignmentgroup\":\"True\",\"hovertemplate\":\"subsector=chemicals\\u003cbr\\u003eiso3_country=%{x}\\u003cbr\\u003eemissions_quantity=%{y}\\u003cextra\\u003e\\u003c\\u002fextra\\u003e\",\"legendgroup\":\"chemicals\",\"marker\":{\"color\":\"#FFA15A\",\"pattern\":{\"shape\":\"\"}},\"name\":\"chemicals\",\"offsetgroup\":\"chemicals\",\"orientation\":\"v\",\"showlegend\":true,\"textposition\":\"auto\",\"x\":[\"CHN\",\"RUS\",\"USA\",\"IND\",\"NLD\",\"FRA\"],\"xaxis\":\"x\",\"y\":[288283025.02648866,53254045.166000046,39375317.520000026,35963696.53100004,6931724.142,5437766.321999998],\"yaxis\":\"y\",\"type\":\"bar\"},{\"alignmentgroup\":\"True\",\"hovertemplate\":\"subsector=shrubgrass-fires\\u003cbr\\u003eiso3_country=%{x}\\u003cbr\\u003eemissions_quantity=%{y}\\u003cextra\\u003e\\u003c\\u002fextra\\u003e\",\"legendgroup\":\"shrubgrass-fires\",\"marker\":{\"color\":\"#19d3f3\",\"pattern\":{\"shape\":\"\"}},\"name\":\"shrubgrass-fires\",\"offsetgroup\":\"shrubgrass-fires\",\"orientation\":\"v\",\"showlegend\":true,\"textposition\":\"auto\",\"x\":[\"MOZ\",\"RUS\",\"USA\",\"IND\",\"CHN\",\"FRA\",\"NLD\"],\"xaxis\":\"x\",\"y\":[277422187.47411674,89766392.44330908,28476371.418178365,11240620.653019208,11105875.424642518,325898.55638410884,842.3223213350313],\"yaxis\":\"y\",\"type\":\"bar\"},{\"alignmentgroup\":\"True\",\"hovertemplate\":\"subsector=oil-and-gas-refining\\u003cbr\\u003eiso3_country=%{x}\\u003cbr\\u003eemissions_quantity=%{y}\\u003cextra\\u003e\\u003c\\u002fextra\\u003e\",\"legendgroup\":\"oil-and-gas-refining\",\"marker\":{\"color\":\"#FF6692\",\"pattern\":{\"shape\":\"\"}},\"name\":\"oil-and-gas-refining\",\"offsetgroup\":\"oil-and-gas-refining\",\"orientation\":\"v\",\"showlegend\":true,\"textposition\":\"auto\",\"x\":[\"USA\",\"CHN\",\"IND\",\"RUS\",\"NLD\",\"FRA\"],\"xaxis\":\"x\",\"y\":[186289729.39411584,180659311.9410575,69784342.63298346,64022891.836430706,15194208.373122668,11627392.964323303],\"yaxis\":\"y\",\"type\":\"bar\"},{\"alignmentgroup\":\"True\",\"hovertemplate\":\"subsector=aluminum\\u003cbr\\u003eiso3_country=%{x}\\u003cbr\\u003eemissions_quantity=%{y}\\u003cextra\\u003e\\u003c\\u002fextra\\u003e\",\"legendgroup\":\"aluminum\",\"marker\":{\"color\":\"#B6E880\",\"pattern\":{\"shape\":\"\"}},\"name\":\"aluminum\",\"offsetgroup\":\"aluminum\",\"orientation\":\"v\",\"showlegend\":true,\"textposition\":\"auto\",\"x\":[\"CHN\",\"IND\",\"RUS\",\"USA\",\"MOZ\",\"FRA\"],\"xaxis\":\"x\",\"y\":[144100643.2338709,18737470.370434646,12959397.124748355,2945495.8984056953,2054689.5358607995,1581265.8619290078],\"yaxis\":\"y\",\"type\":\"bar\"},{\"alignmentgroup\":\"True\",\"hovertemplate\":\"subsector=domestic-aviation\\u003cbr\\u003eiso3_country=%{x}\\u003cbr\\u003eemissions_quantity=%{y}\\u003cextra\\u003e\\u003c\\u002fextra\\u003e\",\"legendgroup\":\"domestic-aviation\",\"marker\":{\"color\":\"#FF97FF\",\"pattern\":{\"shape\":\"\"}},\"name\":\"domestic-aviation\",\"offsetgroup\":\"domestic-aviation\",\"orientation\":\"v\",\"showlegend\":true,\"textposition\":\"auto\",\"x\":[\"USA\",\"CHN\",\"IND\",\"RUS\",\"FRA\",\"MOZ\",\"NLD\"],\"xaxis\":\"x\",\"y\":[127062688.09906162,89161280.58174972,12038811.644211298,9642114.765112275,1571188.474545001,89577.61417225527,802.316847396051],\"yaxis\":\"y\",\"type\":\"bar\"},{\"alignmentgroup\":\"True\",\"hovertemplate\":\"subsector=domestic-shipping\\u003cbr\\u003eiso3_country=%{x}\\u003cbr\\u003eemissions_quantity=%{y}\\u003cextra\\u003e\\u003c\\u002fextra\\u003e\",\"legendgroup\":\"domestic-shipping\",\"marker\":{\"color\":\"#FECB52\",\"pattern\":{\"shape\":\"\"}},\"name\":\"domestic-shipping\",\"offsetgroup\":\"domestic-shipping\",\"orientation\":\"v\",\"showlegend\":true,\"textposition\":\"auto\",\"x\":[\"CHN\",\"USA\",\"RUS\",\"NLD\",\"FRA\",\"IND\",\"MOZ\"],\"xaxis\":\"x\",\"y\":[80040704.53620343,33678624.082461864,8845492.942236809,7821950.746784003,6519738.914968986,5808623.380436123,406050.1270143998],\"yaxis\":\"y\",\"type\":\"bar\"},{\"alignmentgroup\":\"True\",\"hovertemplate\":\"subsector=international-aviation\\u003cbr\\u003eiso3_country=%{x}\\u003cbr\\u003eemissions_quantity=%{y}\\u003cextra\\u003e\\u003c\\u002fextra\\u003e\",\"legendgroup\":\"international-aviation\",\"marker\":{\"color\":\"#636efa\",\"pattern\":{\"shape\":\"\"}},\"name\":\"international-aviation\",\"offsetgroup\":\"international-aviation\",\"orientation\":\"v\",\"showlegend\":true,\"textposition\":\"auto\",\"x\":[\"USA\",\"CHN\",\"FRA\",\"IND\",\"NLD\",\"RUS\",\"MOZ\"],\"xaxis\":\"x\",\"y\":[76661438.92504482,26918038.415130906,17788419.47369946,12159611.891484695,10328158.845065504,5104117.267779228,141454.5699596089],\"yaxis\":\"y\",\"type\":\"bar\"},{\"alignmentgroup\":\"True\",\"hovertemplate\":\"subsector=other-chemicals\\u003cbr\\u003eiso3_country=%{x}\\u003cbr\\u003eemissions_quantity=%{y}\\u003cextra\\u003e\\u003c\\u002fextra\\u003e\",\"legendgroup\":\"other-chemicals\",\"marker\":{\"color\":\"#EF553B\",\"pattern\":{\"shape\":\"\"}},\"name\":\"other-chemicals\",\"offsetgroup\":\"other-chemicals\",\"orientation\":\"v\",\"showlegend\":true,\"textposition\":\"auto\",\"x\":[\"USA\"],\"xaxis\":\"x\",\"y\":[72184495.00006919],\"yaxis\":\"y\",\"type\":\"bar\"},{\"alignmentgroup\":\"True\",\"hovertemplate\":\"subsector=petrochemical-steam-cracking\\u003cbr\\u003eiso3_country=%{x}\\u003cbr\\u003eemissions_quantity=%{y}\\u003cextra\\u003e\\u003c\\u002fextra\\u003e\",\"legendgroup\":\"petrochemical-steam-cracking\",\"marker\":{\"color\":\"#00cc96\",\"pattern\":{\"shape\":\"\"}},\"name\":\"petrochemical-steam-cracking\",\"offsetgroup\":\"petrochemical-steam-cracking\",\"orientation\":\"v\",\"showlegend\":true,\"textposition\":\"auto\",\"x\":[\"CHN\",\"USA\",\"IND\",\"RUS\",\"NLD\",\"FRA\"],\"xaxis\":\"x\",\"y\":[69604508.55989982,46142379.253700085,8759724.07129999,4728405.263359997,4661032.177,3076699.3222],\"yaxis\":\"y\",\"type\":\"bar\"},{\"alignmentgroup\":\"True\",\"hovertemplate\":\"subsector=net-wetland\\u003cbr\\u003eiso3_country=%{x}\\u003cbr\\u003eemissions_quantity=%{y}\\u003cextra\\u003e\\u003c\\u002fextra\\u003e\",\"legendgroup\":\"net-wetland\",\"marker\":{\"color\":\"#ab63fa\",\"pattern\":{\"shape\":\"\"}},\"name\":\"net-wetland\",\"offsetgroup\":\"net-wetland\",\"orientation\":\"v\",\"showlegend\":true,\"textposition\":\"auto\",\"x\":[\"USA\",\"CHN\",\"MOZ\",\"NLD\",\"FRA\",\"IND\",\"RUS\"],\"xaxis\":\"x\",\"y\":[62459206.871075876,4353501.305604034,671130.3349295987,-224657.0922340772,-947268.134042888,-5364358.007660368,-174776043.7791885],\"yaxis\":\"y\",\"type\":\"bar\"},{\"alignmentgroup\":\"True\",\"hovertemplate\":\"subsector=coal-mining\\u003cbr\\u003eiso3_country=%{x}\\u003cbr\\u003eemissions_quantity=%{y}\\u003cextra\\u003e\\u003c\\u002fextra\\u003e\",\"legendgroup\":\"coal-mining\",\"marker\":{\"color\":\"#FFA15A\",\"pattern\":{\"shape\":\"\"}},\"name\":\"coal-mining\",\"offsetgroup\":\"coal-mining\",\"orientation\":\"v\",\"showlegend\":true,\"textposition\":\"auto\",\"x\":[\"CHN\",\"IND\",\"USA\",\"RUS\",\"MOZ\"],\"xaxis\":\"x\",\"y\":[57492633.9312005,17597292.839023814,9268681.11689858,8504305.674629902,244641.24635456136],\"yaxis\":\"y\",\"type\":\"bar\"},{\"alignmentgroup\":\"True\",\"hovertemplate\":\"subsector=international-shipping\\u003cbr\\u003eiso3_country=%{x}\\u003cbr\\u003eemissions_quantity=%{y}\\u003cextra\\u003e\\u003c\\u002fextra\\u003e\",\"legendgroup\":\"international-shipping\",\"marker\":{\"color\":\"#19d3f3\",\"pattern\":{\"shape\":\"\"}},\"name\":\"international-shipping\",\"offsetgroup\":\"international-shipping\",\"orientation\":\"v\",\"showlegend\":true,\"textposition\":\"auto\",\"x\":[\"CHN\",\"USA\",\"IND\",\"NLD\",\"FRA\",\"RUS\",\"MOZ\"],\"xaxis\":\"x\",\"y\":[56986510.81717329,40779777.13570432,13762213.68408642,10773746.090841714,6797025.275216764,6620293.855708532,1346253.7107575976],\"yaxis\":\"y\",\"type\":\"bar\"},{\"alignmentgroup\":\"True\",\"hovertemplate\":\"subsector=food-beverage-tobacco\\u003cbr\\u003eiso3_country=%{x}\\u003cbr\\u003eemissions_quantity=%{y}\\u003cextra\\u003e\\u003c\\u002fextra\\u003e\",\"legendgroup\":\"food-beverage-tobacco\",\"marker\":{\"color\":\"#FF6692\",\"pattern\":{\"shape\":\"\"}},\"name\":\"food-beverage-tobacco\",\"offsetgroup\":\"food-beverage-tobacco\",\"orientation\":\"v\",\"showlegend\":true,\"textposition\":\"auto\",\"x\":[\"USA\",\"FRA\",\"NLD\"],\"xaxis\":\"x\",\"y\":[24304935.13964505,15636065.025001219,6241217.855106166],\"yaxis\":\"y\",\"type\":\"bar\"},{\"alignmentgroup\":\"True\",\"hovertemplate\":\"subsector=wetland-fires\\u003cbr\\u003eiso3_country=%{x}\\u003cbr\\u003eemissions_quantity=%{y}\\u003cextra\\u003e\\u003c\\u002fextra\\u003e\",\"legendgroup\":\"wetland-fires\",\"marker\":{\"color\":\"#B6E880\",\"pattern\":{\"shape\":\"\"}},\"name\":\"wetland-fires\",\"offsetgroup\":\"wetland-fires\",\"orientation\":\"v\",\"showlegend\":true,\"textposition\":\"auto\",\"x\":[\"RUS\",\"MOZ\",\"USA\",\"CHN\",\"IND\",\"FRA\",\"NLD\"],\"xaxis\":\"x\",\"y\":[23583535.032454602,12401286.755797643,3240185.7013598443,718429.2730033705,90328.96254385136,530.7044704079146,69.56795822988505],\"yaxis\":\"y\",\"type\":\"bar\"},{\"alignmentgroup\":\"True\",\"hovertemplate\":\"subsector=textiles-leather-apparel\\u003cbr\\u003eiso3_country=%{x}\\u003cbr\\u003eemissions_quantity=%{y}\\u003cextra\\u003e\\u003c\\u002fextra\\u003e\",\"legendgroup\":\"textiles-leather-apparel\",\"marker\":{\"color\":\"#FF97FF\",\"pattern\":{\"shape\":\"\"}},\"name\":\"textiles-leather-apparel\",\"offsetgroup\":\"textiles-leather-apparel\",\"orientation\":\"v\",\"showlegend\":true,\"textposition\":\"auto\",\"x\":[\"CHN\",\"USA\",\"IND\",\"FRA\",\"NLD\"],\"xaxis\":\"x\",\"y\":[20186214.35410785,1749208.7334479638,362161.86050628277,259036.23326252957,98517.71560597818],\"yaxis\":\"y\",\"type\":\"bar\"},{\"alignmentgroup\":\"True\",\"hovertemplate\":\"subsector=other-metals\\u003cbr\\u003eiso3_country=%{x}\\u003cbr\\u003eemissions_quantity=%{y}\\u003cextra\\u003e\\u003c\\u002fextra\\u003e\",\"legendgroup\":\"other-metals\",\"marker\":{\"color\":\"#FECB52\",\"pattern\":{\"shape\":\"\"}},\"name\":\"other-metals\",\"offsetgroup\":\"other-metals\",\"orientation\":\"v\",\"showlegend\":true,\"textposition\":\"auto\",\"x\":[\"USA\",\"FRA\",\"NLD\"],\"xaxis\":\"x\",\"y\":[20041427.9958764,5010999.992384255,114999.99982522229],\"yaxis\":\"y\",\"type\":\"bar\"},{\"alignmentgroup\":\"True\",\"hovertemplate\":\"subsector=other-manufacturing\\u003cbr\\u003eiso3_country=%{x}\\u003cbr\\u003eemissions_quantity=%{y}\\u003cextra\\u003e\\u003c\\u002fextra\\u003e\",\"legendgroup\":\"other-manufacturing\",\"marker\":{\"color\":\"#636efa\",\"pattern\":{\"shape\":\"\"}},\"name\":\"other-manufacturing\",\"offsetgroup\":\"other-manufacturing\",\"orientation\":\"v\",\"showlegend\":true,\"textposition\":\"auto\",\"x\":[\"USA\"],\"xaxis\":\"x\",\"y\":[16176203.910744697],\"yaxis\":\"y\",\"type\":\"bar\"},{\"alignmentgroup\":\"True\",\"hovertemplate\":\"subsector=pulp-and-paper\\u003cbr\\u003eiso3_country=%{x}\\u003cbr\\u003eemissions_quantity=%{y}\\u003cextra\\u003e\\u003c\\u002fextra\\u003e\",\"legendgroup\":\"pulp-and-paper\",\"marker\":{\"color\":\"#EF553B\",\"pattern\":{\"shape\":\"\"}},\"name\":\"pulp-and-paper\",\"offsetgroup\":\"pulp-and-paper\",\"orientation\":\"v\",\"showlegend\":true,\"textposition\":\"auto\",\"x\":[\"USA\",\"CHN\",\"RUS\",\"FRA\",\"IND\"],\"xaxis\":\"x\",\"y\":[14667493.906021882,5436940.818446877,1215520.2792393763,216641.2055886525,202897.56220997247],\"yaxis\":\"y\",\"type\":\"bar\"},{\"alignmentgroup\":\"True\",\"hovertemplate\":\"subsector=glass\\u003cbr\\u003eiso3_country=%{x}\\u003cbr\\u003eemissions_quantity=%{y}\\u003cextra\\u003e\\u003c\\u002fextra\\u003e\",\"legendgroup\":\"glass\",\"marker\":{\"color\":\"#00cc96\",\"pattern\":{\"shape\":\"\"}},\"name\":\"glass\",\"offsetgroup\":\"glass\",\"orientation\":\"v\",\"showlegend\":true,\"textposition\":\"auto\",\"x\":[\"USA\",\"FRA\",\"NLD\"],\"xaxis\":\"x\",\"y\":[9213645.999857672,5658390.802734114,751586.4706711085],\"yaxis\":\"y\",\"type\":\"bar\"},{\"alignmentgroup\":\"True\",\"hovertemplate\":\"subsector=forest-land-degradation\\u003cbr\\u003eiso3_country=%{x}\\u003cbr\\u003eemissions_quantity=%{y}\\u003cextra\\u003e\\u003c\\u002fextra\\u003e\",\"legendgroup\":\"forest-land-degradation\",\"marker\":{\"color\":\"#ab63fa\",\"pattern\":{\"shape\":\"\"}},\"name\":\"forest-land-degradation\",\"offsetgroup\":\"forest-land-degradation\",\"orientation\":\"v\",\"showlegend\":true,\"textposition\":\"auto\",\"x\":[\"IND\",\"CHN\",\"MOZ\",\"USA\",\"FRA\",\"RUS\",\"NLD\"],\"xaxis\":\"x\",\"y\":[9212727.933933252,70861.2846916601,15173.79425064669,7399.298696378664,0.0,0.0,0.0],\"yaxis\":\"y\",\"type\":\"bar\"},{\"alignmentgroup\":\"True\",\"hovertemplate\":\"subsector=iron-mining\\u003cbr\\u003eiso3_country=%{x}\\u003cbr\\u003eemissions_quantity=%{y}\\u003cextra\\u003e\\u003c\\u002fextra\\u003e\",\"legendgroup\":\"iron-mining\",\"marker\":{\"color\":\"#FFA15A\",\"pattern\":{\"shape\":\"\"}},\"name\":\"iron-mining\",\"offsetgroup\":\"iron-mining\",\"orientation\":\"v\",\"showlegend\":true,\"textposition\":\"auto\",\"x\":[\"RUS\",\"IND\",\"USA\",\"CHN\"],\"xaxis\":\"x\",\"y\":[8701373.687706264,4492437.0,2658966.0002456624,2540544.0002347208],\"yaxis\":\"y\",\"type\":\"bar\"},{\"alignmentgroup\":\"True\",\"hovertemplate\":\"subsector=copper-mining\\u003cbr\\u003eiso3_country=%{x}\\u003cbr\\u003eemissions_quantity=%{y}\\u003cextra\\u003e\\u003c\\u002fextra\\u003e\",\"legendgroup\":\"copper-mining\",\"marker\":{\"color\":\"#19d3f3\",\"pattern\":{\"shape\":\"\"}},\"name\":\"copper-mining\",\"offsetgroup\":\"copper-mining\",\"orientation\":\"v\",\"showlegend\":true,\"textposition\":\"auto\",\"x\":[\"CHN\",\"USA\",\"RUS\",\"IND\"],\"xaxis\":\"x\",\"y\":[7523047.527333942,4474437.544003356,1912912.0081854777,7854.0],\"yaxis\":\"y\",\"type\":\"bar\"},{\"alignmentgroup\":\"True\",\"hovertemplate\":\"subsector=bauxite-mining\\u003cbr\\u003eiso3_country=%{x}\\u003cbr\\u003eemissions_quantity=%{y}\\u003cextra\\u003e\\u003c\\u002fextra\\u003e\",\"legendgroup\":\"bauxite-mining\",\"marker\":{\"color\":\"#FF6692\",\"pattern\":{\"shape\":\"\"}},\"name\":\"bauxite-mining\",\"offsetgroup\":\"bauxite-mining\",\"orientation\":\"v\",\"showlegend\":true,\"textposition\":\"auto\",\"x\":[\"IND\",\"CHN\",\"RUS\",\"MOZ\"],\"xaxis\":\"x\",\"y\":[852845.0,283220.0000261667,134530.75057566597,121.0],\"yaxis\":\"y\",\"type\":\"bar\"},{\"alignmentgroup\":\"True\",\"hovertemplate\":\"subsector=water-reservoirs\\u003cbr\\u003eiso3_country=%{x}\\u003cbr\\u003eemissions_quantity=%{y}\\u003cextra\\u003e\\u003c\\u002fextra\\u003e\",\"legendgroup\":\"water-reservoirs\",\"marker\":{\"color\":\"#B6E880\",\"pattern\":{\"shape\":\"\"}},\"name\":\"water-reservoirs\",\"offsetgroup\":\"water-reservoirs\",\"orientation\":\"v\",\"showlegend\":true,\"textposition\":\"auto\",\"x\":[\"CHN\",\"IND\",\"RUS\",\"USA\",\"MOZ\",\"NLD\",\"FRA\"],\"xaxis\":\"x\",\"y\":[585626.2691781448,338332.90811808204,80306.75901670002,732.7087181899999,0.0,0.0,0.0],\"yaxis\":\"y\",\"type\":\"bar\"},{\"alignmentgroup\":\"True\",\"hovertemplate\":\"subsector=enteric-fermentation-cattle-operation\\u003cbr\\u003eiso3_country=%{x}\\u003cbr\\u003eemissions_quantity=%{y}\\u003cextra\\u003e\\u003c\\u002fextra\\u003e\",\"legendgroup\":\"enteric-fermentation-cattle-operation\",\"marker\":{\"color\":\"#FF97FF\",\"pattern\":{\"shape\":\"\"}},\"name\":\"enteric-fermentation-cattle-operation\",\"offsetgroup\":\"enteric-fermentation-cattle-operation\",\"orientation\":\"v\",\"showlegend\":true,\"textposition\":\"auto\",\"x\":[\"CHN\",\"USA\",\"RUS\",\"FRA\"],\"xaxis\":\"x\",\"y\":[0.0,0.0,0.0,0.0],\"yaxis\":\"y\",\"type\":\"bar\"},{\"alignmentgroup\":\"True\",\"hovertemplate\":\"subsector=manure-left-on-pasture-cattle\\u003cbr\\u003eiso3_country=%{x}\\u003cbr\\u003eemissions_quantity=%{y}\\u003cextra\\u003e\\u003c\\u002fextra\\u003e\",\"legendgroup\":\"manure-left-on-pasture-cattle\",\"marker\":{\"color\":\"#FECB52\",\"pattern\":{\"shape\":\"\"}},\"name\":\"manure-left-on-pasture-cattle\",\"offsetgroup\":\"manure-left-on-pasture-cattle\",\"orientation\":\"v\",\"showlegend\":true,\"textposition\":\"auto\",\"x\":[\"NLD\",\"USA\",\"IND\",\"FRA\",\"RUS\",\"CHN\",\"MOZ\"],\"xaxis\":\"x\",\"y\":[0.0,0.0,0.0,0.0,0.0,0.0,0.0],\"yaxis\":\"y\",\"type\":\"bar\"},{\"alignmentgroup\":\"True\",\"hovertemplate\":\"subsector=solid-waste-disposal\\u003cbr\\u003eiso3_country=%{x}\\u003cbr\\u003eemissions_quantity=%{y}\\u003cextra\\u003e\\u003c\\u002fextra\\u003e\",\"legendgroup\":\"solid-waste-disposal\",\"marker\":{\"color\":\"#636efa\",\"pattern\":{\"shape\":\"\"}},\"name\":\"solid-waste-disposal\",\"offsetgroup\":\"solid-waste-disposal\",\"orientation\":\"v\",\"showlegend\":true,\"textposition\":\"auto\",\"x\":[\"CHN\",\"IND\",\"RUS\",\"MOZ\",\"NLD\",\"USA\",\"FRA\"],\"xaxis\":\"x\",\"y\":[0.0,0.0,0.0,0.0,0.0,0.0,0.0],\"yaxis\":\"y\",\"type\":\"bar\"},{\"alignmentgroup\":\"True\",\"hovertemplate\":\"subsector=domestic-wastewater-treatment-and-discharge\\u003cbr\\u003eiso3_country=%{x}\\u003cbr\\u003eemissions_quantity=%{y}\\u003cextra\\u003e\\u003c\\u002fextra\\u003e\",\"legendgroup\":\"domestic-wastewater-treatment-and-discharge\",\"marker\":{\"color\":\"#EF553B\",\"pattern\":{\"shape\":\"\"}},\"name\":\"domestic-wastewater-treatment-and-discharge\",\"offsetgroup\":\"domestic-wastewater-treatment-and-discharge\",\"orientation\":\"v\",\"showlegend\":true,\"textposition\":\"auto\",\"x\":[\"CHN\",\"MOZ\",\"USA\",\"IND\",\"NLD\",\"FRA\",\"RUS\"],\"xaxis\":\"x\",\"y\":[0.0,0.0,0.0,0.0,0.0,0.0,0.0],\"yaxis\":\"y\",\"type\":\"bar\"},{\"alignmentgroup\":\"True\",\"hovertemplate\":\"subsector=industrial-wastewater-treatment-and-discharge\\u003cbr\\u003eiso3_country=%{x}\\u003cbr\\u003eemissions_quantity=%{y}\\u003cextra\\u003e\\u003c\\u002fextra\\u003e\",\"legendgroup\":\"industrial-wastewater-treatment-and-discharge\",\"marker\":{\"color\":\"#00cc96\",\"pattern\":{\"shape\":\"\"}},\"name\":\"industrial-wastewater-treatment-and-discharge\",\"offsetgroup\":\"industrial-wastewater-treatment-and-discharge\",\"orientation\":\"v\",\"showlegend\":true,\"textposition\":\"auto\",\"x\":[\"USA\",\"IND\",\"CHN\",\"NLD\",\"RUS\",\"FRA\"],\"xaxis\":\"x\",\"y\":[0.0,0.0,0.0,0.0,0.0,0.0],\"yaxis\":\"y\",\"type\":\"bar\"},{\"alignmentgroup\":\"True\",\"hovertemplate\":\"subsector=enteric-fermentation-cattle-pasture\\u003cbr\\u003eiso3_country=%{x}\\u003cbr\\u003eemissions_quantity=%{y}\\u003cextra\\u003e\\u003c\\u002fextra\\u003e\",\"legendgroup\":\"enteric-fermentation-cattle-pasture\",\"marker\":{\"color\":\"#ab63fa\",\"pattern\":{\"shape\":\"\"}},\"name\":\"enteric-fermentation-cattle-pasture\",\"offsetgroup\":\"enteric-fermentation-cattle-pasture\",\"orientation\":\"v\",\"showlegend\":true,\"textposition\":\"auto\",\"x\":[\"RUS\",\"CHN\",\"IND\",\"USA\",\"NLD\",\"FRA\",\"MOZ\"],\"xaxis\":\"x\",\"y\":[0.0,0.0,0.0,0.0,0.0,0.0,0.0],\"yaxis\":\"y\",\"type\":\"bar\"},{\"alignmentgroup\":\"True\",\"hovertemplate\":\"subsector=rice-cultivation\\u003cbr\\u003eiso3_country=%{x}\\u003cbr\\u003eemissions_quantity=%{y}\\u003cextra\\u003e\\u003c\\u002fextra\\u003e\",\"legendgroup\":\"rice-cultivation\",\"marker\":{\"color\":\"#FFA15A\",\"pattern\":{\"shape\":\"\"}},\"name\":\"rice-cultivation\",\"offsetgroup\":\"rice-cultivation\",\"orientation\":\"v\",\"showlegend\":true,\"textposition\":\"auto\",\"x\":[\"NLD\",\"USA\",\"RUS\",\"IND\",\"FRA\",\"MOZ\",\"CHN\"],\"xaxis\":\"x\",\"y\":[0.0,0.0,0.0,0.0,0.0,0.0,0.0],\"yaxis\":\"y\",\"type\":\"bar\"},{\"alignmentgroup\":\"True\",\"hovertemplate\":\"subsector=synthetic-fertilizer-application\\u003cbr\\u003eiso3_country=%{x}\\u003cbr\\u003eemissions_quantity=%{y}\\u003cextra\\u003e\\u003c\\u002fextra\\u003e\",\"legendgroup\":\"synthetic-fertilizer-application\",\"marker\":{\"color\":\"#19d3f3\",\"pattern\":{\"shape\":\"\"}},\"name\":\"synthetic-fertilizer-application\",\"offsetgroup\":\"synthetic-fertilizer-application\",\"orientation\":\"v\",\"showlegend\":true,\"textposition\":\"auto\",\"x\":[\"CHN\",\"NLD\",\"USA\",\"RUS\",\"MOZ\",\"IND\",\"FRA\"],\"xaxis\":\"x\",\"y\":[0.0,0.0,0.0,0.0,0.0,0.0,0.0],\"yaxis\":\"y\",\"type\":\"bar\"},{\"alignmentgroup\":\"True\",\"hovertemplate\":\"subsector=manure-management-cattle-operation\\u003cbr\\u003eiso3_country=%{x}\\u003cbr\\u003eemissions_quantity=%{y}\\u003cextra\\u003e\\u003c\\u002fextra\\u003e\",\"legendgroup\":\"manure-management-cattle-operation\",\"marker\":{\"color\":\"#FF6692\",\"pattern\":{\"shape\":\"\"}},\"name\":\"manure-management-cattle-operation\",\"offsetgroup\":\"manure-management-cattle-operation\",\"orientation\":\"v\",\"showlegend\":true,\"textposition\":\"auto\",\"x\":[\"CHN\",\"FRA\",\"RUS\",\"USA\"],\"xaxis\":\"x\",\"y\":[0.0,0.0,0.0,0.0],\"yaxis\":\"y\",\"type\":\"bar\"},{\"alignmentgroup\":\"True\",\"hovertemplate\":\"subsector=removals\\u003cbr\\u003eiso3_country=%{x}\\u003cbr\\u003eemissions_quantity=%{y}\\u003cextra\\u003e\\u003c\\u002fextra\\u003e\",\"legendgroup\":\"removals\",\"marker\":{\"color\":\"#B6E880\",\"pattern\":{\"shape\":\"\"}},\"name\":\"removals\",\"offsetgroup\":\"removals\",\"orientation\":\"v\",\"showlegend\":true,\"textposition\":\"auto\",\"x\":[\"NLD\",\"IND\",\"CHN\",\"FRA\",\"USA\",\"MOZ\",\"RUS\"],\"xaxis\":\"x\",\"y\":[-12813060.638325086,-23505832.44651333,-112289439.4753451,-222519638.69167864,-809178311.7914772,-1474216896.6709611,-1946082629.7732308],\"yaxis\":\"y\",\"type\":\"bar\"}],                        {\"template\":{\"data\":{\"histogram2dcontour\":[{\"type\":\"histogram2dcontour\",\"colorbar\":{\"outlinewidth\":0,\"ticks\":\"\"},\"colorscale\":[[0.0,\"#0d0887\"],[0.1111111111111111,\"#46039f\"],[0.2222222222222222,\"#7201a8\"],[0.3333333333333333,\"#9c179e\"],[0.4444444444444444,\"#bd3786\"],[0.5555555555555556,\"#d8576b\"],[0.6666666666666666,\"#ed7953\"],[0.7777777777777778,\"#fb9f3a\"],[0.8888888888888888,\"#fdca26\"],[1.0,\"#f0f921\"]]}],\"choropleth\":[{\"type\":\"choropleth\",\"colorbar\":{\"outlinewidth\":0,\"ticks\":\"\"}}],\"histogram2d\":[{\"type\":\"histogram2d\",\"colorbar\":{\"outlinewidth\":0,\"ticks\":\"\"},\"colorscale\":[[0.0,\"#0d0887\"],[0.1111111111111111,\"#46039f\"],[0.2222222222222222,\"#7201a8\"],[0.3333333333333333,\"#9c179e\"],[0.4444444444444444,\"#bd3786\"],[0.5555555555555556,\"#d8576b\"],[0.6666666666666666,\"#ed7953\"],[0.7777777777777778,\"#fb9f3a\"],[0.8888888888888888,\"#fdca26\"],[1.0,\"#f0f921\"]]}],\"heatmap\":[{\"type\":\"heatmap\",\"colorbar\":{\"outlinewidth\":0,\"ticks\":\"\"},\"colorscale\":[[0.0,\"#0d0887\"],[0.1111111111111111,\"#46039f\"],[0.2222222222222222,\"#7201a8\"],[0.3333333333333333,\"#9c179e\"],[0.4444444444444444,\"#bd3786\"],[0.5555555555555556,\"#d8576b\"],[0.6666666666666666,\"#ed7953\"],[0.7777777777777778,\"#fb9f3a\"],[0.8888888888888888,\"#fdca26\"],[1.0,\"#f0f921\"]]}],\"heatmapgl\":[{\"type\":\"heatmapgl\",\"colorbar\":{\"outlinewidth\":0,\"ticks\":\"\"},\"colorscale\":[[0.0,\"#0d0887\"],[0.1111111111111111,\"#46039f\"],[0.2222222222222222,\"#7201a8\"],[0.3333333333333333,\"#9c179e\"],[0.4444444444444444,\"#bd3786\"],[0.5555555555555556,\"#d8576b\"],[0.6666666666666666,\"#ed7953\"],[0.7777777777777778,\"#fb9f3a\"],[0.8888888888888888,\"#fdca26\"],[1.0,\"#f0f921\"]]}],\"contourcarpet\":[{\"type\":\"contourcarpet\",\"colorbar\":{\"outlinewidth\":0,\"ticks\":\"\"}}],\"contour\":[{\"type\":\"contour\",\"colorbar\":{\"outlinewidth\":0,\"ticks\":\"\"},\"colorscale\":[[0.0,\"#0d0887\"],[0.1111111111111111,\"#46039f\"],[0.2222222222222222,\"#7201a8\"],[0.3333333333333333,\"#9c179e\"],[0.4444444444444444,\"#bd3786\"],[0.5555555555555556,\"#d8576b\"],[0.6666666666666666,\"#ed7953\"],[0.7777777777777778,\"#fb9f3a\"],[0.8888888888888888,\"#fdca26\"],[1.0,\"#f0f921\"]]}],\"surface\":[{\"type\":\"surface\",\"colorbar\":{\"outlinewidth\":0,\"ticks\":\"\"},\"colorscale\":[[0.0,\"#0d0887\"],[0.1111111111111111,\"#46039f\"],[0.2222222222222222,\"#7201a8\"],[0.3333333333333333,\"#9c179e\"],[0.4444444444444444,\"#bd3786\"],[0.5555555555555556,\"#d8576b\"],[0.6666666666666666,\"#ed7953\"],[0.7777777777777778,\"#fb9f3a\"],[0.8888888888888888,\"#fdca26\"],[1.0,\"#f0f921\"]]}],\"mesh3d\":[{\"type\":\"mesh3d\",\"colorbar\":{\"outlinewidth\":0,\"ticks\":\"\"}}],\"scatter\":[{\"fillpattern\":{\"fillmode\":\"overlay\",\"size\":10,\"solidity\":0.2},\"type\":\"scatter\"}],\"parcoords\":[{\"type\":\"parcoords\",\"line\":{\"colorbar\":{\"outlinewidth\":0,\"ticks\":\"\"}}}],\"scatterpolargl\":[{\"type\":\"scatterpolargl\",\"marker\":{\"colorbar\":{\"outlinewidth\":0,\"ticks\":\"\"}}}],\"bar\":[{\"error_x\":{\"color\":\"#2a3f5f\"},\"error_y\":{\"color\":\"#2a3f5f\"},\"marker\":{\"line\":{\"color\":\"white\",\"width\":0.5},\"pattern\":{\"fillmode\":\"overlay\",\"size\":10,\"solidity\":0.2}},\"type\":\"bar\"}],\"scattergeo\":[{\"type\":\"scattergeo\",\"marker\":{\"colorbar\":{\"outlinewidth\":0,\"ticks\":\"\"}}}],\"scatterpolar\":[{\"type\":\"scatterpolar\",\"marker\":{\"colorbar\":{\"outlinewidth\":0,\"ticks\":\"\"}}}],\"histogram\":[{\"marker\":{\"pattern\":{\"fillmode\":\"overlay\",\"size\":10,\"solidity\":0.2}},\"type\":\"histogram\"}],\"scattergl\":[{\"type\":\"scattergl\",\"marker\":{\"colorbar\":{\"outlinewidth\":0,\"ticks\":\"\"}}}],\"scatter3d\":[{\"type\":\"scatter3d\",\"line\":{\"colorbar\":{\"outlinewidth\":0,\"ticks\":\"\"}},\"marker\":{\"colorbar\":{\"outlinewidth\":0,\"ticks\":\"\"}}}],\"scattermapbox\":[{\"type\":\"scattermapbox\",\"marker\":{\"colorbar\":{\"outlinewidth\":0,\"ticks\":\"\"}}}],\"scatterternary\":[{\"type\":\"scatterternary\",\"marker\":{\"colorbar\":{\"outlinewidth\":0,\"ticks\":\"\"}}}],\"scattercarpet\":[{\"type\":\"scattercarpet\",\"marker\":{\"colorbar\":{\"outlinewidth\":0,\"ticks\":\"\"}}}],\"carpet\":[{\"aaxis\":{\"endlinecolor\":\"#2a3f5f\",\"gridcolor\":\"#C8D4E3\",\"linecolor\":\"#C8D4E3\",\"minorgridcolor\":\"#C8D4E3\",\"startlinecolor\":\"#2a3f5f\"},\"baxis\":{\"endlinecolor\":\"#2a3f5f\",\"gridcolor\":\"#C8D4E3\",\"linecolor\":\"#C8D4E3\",\"minorgridcolor\":\"#C8D4E3\",\"startlinecolor\":\"#2a3f5f\"},\"type\":\"carpet\"}],\"table\":[{\"cells\":{\"fill\":{\"color\":\"#EBF0F8\"},\"line\":{\"color\":\"white\"}},\"header\":{\"fill\":{\"color\":\"#C8D4E3\"},\"line\":{\"color\":\"white\"}},\"type\":\"table\"}],\"barpolar\":[{\"marker\":{\"line\":{\"color\":\"white\",\"width\":0.5},\"pattern\":{\"fillmode\":\"overlay\",\"size\":10,\"solidity\":0.2}},\"type\":\"barpolar\"}],\"pie\":[{\"automargin\":true,\"type\":\"pie\"}]},\"layout\":{\"autotypenumbers\":\"strict\",\"colorway\":[\"#636efa\",\"#EF553B\",\"#00cc96\",\"#ab63fa\",\"#FFA15A\",\"#19d3f3\",\"#FF6692\",\"#B6E880\",\"#FF97FF\",\"#FECB52\"],\"font\":{\"color\":\"#2a3f5f\"},\"hovermode\":\"closest\",\"hoverlabel\":{\"align\":\"left\"},\"paper_bgcolor\":\"white\",\"plot_bgcolor\":\"white\",\"polar\":{\"bgcolor\":\"white\",\"angularaxis\":{\"gridcolor\":\"#EBF0F8\",\"linecolor\":\"#EBF0F8\",\"ticks\":\"\"},\"radialaxis\":{\"gridcolor\":\"#EBF0F8\",\"linecolor\":\"#EBF0F8\",\"ticks\":\"\"}},\"ternary\":{\"bgcolor\":\"white\",\"aaxis\":{\"gridcolor\":\"#DFE8F3\",\"linecolor\":\"#A2B1C6\",\"ticks\":\"\"},\"baxis\":{\"gridcolor\":\"#DFE8F3\",\"linecolor\":\"#A2B1C6\",\"ticks\":\"\"},\"caxis\":{\"gridcolor\":\"#DFE8F3\",\"linecolor\":\"#A2B1C6\",\"ticks\":\"\"}},\"coloraxis\":{\"colorbar\":{\"outlinewidth\":0,\"ticks\":\"\"}},\"colorscale\":{\"sequential\":[[0.0,\"#0d0887\"],[0.1111111111111111,\"#46039f\"],[0.2222222222222222,\"#7201a8\"],[0.3333333333333333,\"#9c179e\"],[0.4444444444444444,\"#bd3786\"],[0.5555555555555556,\"#d8576b\"],[0.6666666666666666,\"#ed7953\"],[0.7777777777777778,\"#fb9f3a\"],[0.8888888888888888,\"#fdca26\"],[1.0,\"#f0f921\"]],\"sequentialminus\":[[0.0,\"#0d0887\"],[0.1111111111111111,\"#46039f\"],[0.2222222222222222,\"#7201a8\"],[0.3333333333333333,\"#9c179e\"],[0.4444444444444444,\"#bd3786\"],[0.5555555555555556,\"#d8576b\"],[0.6666666666666666,\"#ed7953\"],[0.7777777777777778,\"#fb9f3a\"],[0.8888888888888888,\"#fdca26\"],[1.0,\"#f0f921\"]],\"diverging\":[[0,\"#8e0152\"],[0.1,\"#c51b7d\"],[0.2,\"#de77ae\"],[0.3,\"#f1b6da\"],[0.4,\"#fde0ef\"],[0.5,\"#f7f7f7\"],[0.6,\"#e6f5d0\"],[0.7,\"#b8e186\"],[0.8,\"#7fbc41\"],[0.9,\"#4d9221\"],[1,\"#276419\"]]},\"xaxis\":{\"gridcolor\":\"#EBF0F8\",\"linecolor\":\"#EBF0F8\",\"ticks\":\"\",\"title\":{\"standoff\":15},\"zerolinecolor\":\"#EBF0F8\",\"automargin\":true,\"zerolinewidth\":2},\"yaxis\":{\"gridcolor\":\"#EBF0F8\",\"linecolor\":\"#EBF0F8\",\"ticks\":\"\",\"title\":{\"standoff\":15},\"zerolinecolor\":\"#EBF0F8\",\"automargin\":true,\"zerolinewidth\":2},\"scene\":{\"xaxis\":{\"backgroundcolor\":\"white\",\"gridcolor\":\"#DFE8F3\",\"linecolor\":\"#EBF0F8\",\"showbackground\":true,\"ticks\":\"\",\"zerolinecolor\":\"#EBF0F8\",\"gridwidth\":2},\"yaxis\":{\"backgroundcolor\":\"white\",\"gridcolor\":\"#DFE8F3\",\"linecolor\":\"#EBF0F8\",\"showbackground\":true,\"ticks\":\"\",\"zerolinecolor\":\"#EBF0F8\",\"gridwidth\":2},\"zaxis\":{\"backgroundcolor\":\"white\",\"gridcolor\":\"#DFE8F3\",\"linecolor\":\"#EBF0F8\",\"showbackground\":true,\"ticks\":\"\",\"zerolinecolor\":\"#EBF0F8\",\"gridwidth\":2}},\"shapedefaults\":{\"line\":{\"color\":\"#2a3f5f\"}},\"annotationdefaults\":{\"arrowcolor\":\"#2a3f5f\",\"arrowhead\":0,\"arrowwidth\":1},\"geo\":{\"bgcolor\":\"white\",\"landcolor\":\"white\",\"subunitcolor\":\"#C8D4E3\",\"showland\":true,\"showlakes\":true,\"lakecolor\":\"white\"},\"title\":{\"x\":0.05},\"mapbox\":{\"style\":\"light\"}}},\"xaxis\":{\"anchor\":\"y\",\"domain\":[0.0,1.0],\"title\":{\"text\":\"iso3_country\"}},\"yaxis\":{\"anchor\":\"x\",\"domain\":[0.0,1.0],\"title\":{\"text\":\"emissions_quantity\"}},\"legend\":{\"title\":{\"text\":\"subsector\"},\"tracegroupgap\":0},\"margin\":{\"t\":60},\"barmode\":\"relative\"},                        {\"responsive\": true}                    ).then(function(){\n",
       "                            \n",
       "var gd = document.getElementById('026a5ea4-d308-48a8-88d7-86193e9715cc');\n",
       "var x = new MutationObserver(function (mutations, observer) {{\n",
       "        var display = window.getComputedStyle(gd).display;\n",
       "        if (!display || display === 'none') {{\n",
       "            console.log([gd, 'removed!']);\n",
       "            Plotly.purge(gd);\n",
       "            observer.disconnect();\n",
       "        }}\n",
       "}});\n",
       "\n",
       "// Listen for the removal of the full notebook cells\n",
       "var notebookContainer = gd.closest('#notebook-container');\n",
       "if (notebookContainer) {{\n",
       "    x.observe(notebookContainer, {childList: true});\n",
       "}}\n",
       "\n",
       "// Listen for the clearing of the current output cell\n",
       "var outputEl = gd.closest('.output');\n",
       "if (outputEl) {{\n",
       "    x.observe(outputEl, {childList: true});\n",
       "}}\n",
       "\n",
       "                        })                };                });            </script>        </div>"
      ]
     },
     "metadata": {},
     "output_type": "display_data"
    }
   ],
   "source": [
    "px.bar(\n",
    "(sdf_gy\n",
    ".group_by(c_iso3_country, c_subsector)\n",
    " .agg(c_emissions_quantity.sum())\n",
    "     .sort([c_emissions_quantity], descending=True)\n",
    " .filter(c_iso3_country.is_in([\"CHN\", \"USA\", \"IND\", \"RUS\",\"MOZ\",\"FRA\", \"NLD\"]))\n",
    " .collect()\n",
    ")\n",
    "    ,x=ISO3_COUNTRY, y=EMISSIONS_QUANTITY,color=SUBSECTOR,log_y=False)"
   ]
  },
  {
   "cell_type": "markdown",
   "id": "dc2fc550-7083-4890-b6ca-6829f50f6aa8",
   "metadata": {},
   "source": [
    "Looking by sector, it is easy to see why the forestry and land use sector is complex: it would dominate both in\n",
    "retention and in emission."
   ]
  },
  {
   "cell_type": "code",
   "execution_count": 45,
   "id": "e96be295-8a31-465a-bbf6-52143001f337",
   "metadata": {},
   "outputs": [
    {
     "data": {
      "application/vnd.plotly.v1+json": {
       "config": {
        "plotlyServerURL": "https://plot.ly"
       },
       "data": [
        {
         "alignmentgroup": "True",
         "hovertemplate": "subsector=forest-land-fires<br>sector=%{x}<br>emissions_quantity=%{y}<extra></extra>",
         "legendgroup": "forest-land-fires",
         "marker": {
          "color": "#636efa",
          "pattern": {
           "shape": ""
          }
         },
         "name": "forest-land-fires",
         "offsetgroup": "forest-land-fires",
         "orientation": "v",
         "showlegend": true,
         "textposition": "auto",
         "type": "bar",
         "x": [
          "forestry-and-land-use"
         ],
         "xaxis": "x",
         "y": [
          19222980103.93779
         ],
         "yaxis": "y"
        },
        {
         "alignmentgroup": "True",
         "hovertemplate": "subsector=forest-land-clearing<br>sector=%{x}<br>emissions_quantity=%{y}<extra></extra>",
         "legendgroup": "forest-land-clearing",
         "marker": {
          "color": "#EF553B",
          "pattern": {
           "shape": ""
          }
         },
         "name": "forest-land-clearing",
         "offsetgroup": "forest-land-clearing",
         "orientation": "v",
         "showlegend": true,
         "textposition": "auto",
         "type": "bar",
         "x": [
          "forestry-and-land-use"
         ],
         "xaxis": "x",
         "y": [
          17900851037.232033
         ],
         "yaxis": "y"
        },
        {
         "alignmentgroup": "True",
         "hovertemplate": "subsector=road-transportation<br>sector=%{x}<br>emissions_quantity=%{y}<extra></extra>",
         "legendgroup": "road-transportation",
         "marker": {
          "color": "#00cc96",
          "pattern": {
           "shape": ""
          }
         },
         "name": "road-transportation",
         "offsetgroup": "road-transportation",
         "orientation": "v",
         "showlegend": true,
         "textposition": "auto",
         "type": "bar",
         "x": [
          "transportation"
         ],
         "xaxis": "x",
         "y": [
          15070281084.104824
         ],
         "yaxis": "y"
        },
        {
         "alignmentgroup": "True",
         "hovertemplate": "subsector=electricity-generation<br>sector=%{x}<br>emissions_quantity=%{y}<extra></extra>",
         "legendgroup": "electricity-generation",
         "marker": {
          "color": "#ab63fa",
          "pattern": {
           "shape": ""
          }
         },
         "name": "electricity-generation",
         "offsetgroup": "electricity-generation",
         "orientation": "v",
         "showlegend": true,
         "textposition": "auto",
         "type": "bar",
         "x": [
          "power"
         ],
         "xaxis": "x",
         "y": [
          12968441515.866005
         ],
         "yaxis": "y"
        },
        {
         "alignmentgroup": "True",
         "hovertemplate": "subsector=residential-onsite-fuel-usage<br>sector=%{x}<br>emissions_quantity=%{y}<extra></extra>",
         "legendgroup": "residential-onsite-fuel-usage",
         "marker": {
          "color": "#FFA15A",
          "pattern": {
           "shape": ""
          }
         },
         "name": "residential-onsite-fuel-usage",
         "offsetgroup": "residential-onsite-fuel-usage",
         "orientation": "v",
         "showlegend": true,
         "textposition": "auto",
         "type": "bar",
         "x": [
          "buildings"
         ],
         "xaxis": "x",
         "y": [
          10644718204.969769
         ],
         "yaxis": "y"
        },
        {
         "alignmentgroup": "True",
         "hovertemplate": "subsector=shrubgrass-fires<br>sector=%{x}<br>emissions_quantity=%{y}<extra></extra>",
         "legendgroup": "shrubgrass-fires",
         "marker": {
          "color": "#19d3f3",
          "pattern": {
           "shape": ""
          }
         },
         "name": "shrubgrass-fires",
         "offsetgroup": "shrubgrass-fires",
         "orientation": "v",
         "showlegend": true,
         "textposition": "auto",
         "type": "bar",
         "x": [
          "forestry-and-land-use"
         ],
         "xaxis": "x",
         "y": [
          8064987215.256242
         ],
         "yaxis": "y"
        },
        {
         "alignmentgroup": "True",
         "hovertemplate": "subsector=cropland-fires<br>sector=%{x}<br>emissions_quantity=%{y}<extra></extra>",
         "legendgroup": "cropland-fires",
         "marker": {
          "color": "#FF6692",
          "pattern": {
           "shape": ""
          }
         },
         "name": "cropland-fires",
         "offsetgroup": "cropland-fires",
         "orientation": "v",
         "showlegend": true,
         "textposition": "auto",
         "type": "bar",
         "x": [
          "agriculture"
         ],
         "xaxis": "x",
         "y": [
          4029144832.8916655
         ],
         "yaxis": "y"
        },
        {
         "alignmentgroup": "True",
         "hovertemplate": "subsector=net-shrubgrass<br>sector=%{x}<br>emissions_quantity=%{y}<extra></extra>",
         "legendgroup": "net-shrubgrass",
         "marker": {
          "color": "#B6E880",
          "pattern": {
           "shape": ""
          }
         },
         "name": "net-shrubgrass",
         "offsetgroup": "net-shrubgrass",
         "orientation": "v",
         "showlegend": true,
         "textposition": "auto",
         "type": "bar",
         "x": [
          "forestry-and-land-use"
         ],
         "xaxis": "x",
         "y": [
          3937558783.3354597
         ],
         "yaxis": "y"
        },
        {
         "alignmentgroup": "True",
         "hovertemplate": "subsector=net-forest-land<br>sector=%{x}<br>emissions_quantity=%{y}<extra></extra>",
         "legendgroup": "net-forest-land",
         "marker": {
          "color": "#FF97FF",
          "pattern": {
           "shape": ""
          }
         },
         "name": "net-forest-land",
         "offsetgroup": "net-forest-land",
         "orientation": "v",
         "showlegend": true,
         "textposition": "auto",
         "type": "bar",
         "x": [
          "forestry-and-land-use"
         ],
         "xaxis": "x",
         "y": [
          3099151479.8543415
         ],
         "yaxis": "y"
        },
        {
         "alignmentgroup": "True",
         "hovertemplate": "subsector=iron-and-steel<br>sector=%{x}<br>emissions_quantity=%{y}<extra></extra>",
         "legendgroup": "iron-and-steel",
         "marker": {
          "color": "#FECB52",
          "pattern": {
           "shape": ""
          }
         },
         "name": "iron-and-steel",
         "offsetgroup": "iron-and-steel",
         "orientation": "v",
         "showlegend": true,
         "textposition": "auto",
         "type": "bar",
         "x": [
          "manufacturing"
         ],
         "xaxis": "x",
         "y": [
          2883899772.6197786
         ],
         "yaxis": "y"
        },
        {
         "alignmentgroup": "True",
         "hovertemplate": "subsector=oil-and-gas-production<br>sector=%{x}<br>emissions_quantity=%{y}<extra></extra>",
         "legendgroup": "oil-and-gas-production",
         "marker": {
          "color": "#636efa",
          "pattern": {
           "shape": ""
          }
         },
         "name": "oil-and-gas-production",
         "offsetgroup": "oil-and-gas-production",
         "orientation": "v",
         "showlegend": true,
         "textposition": "auto",
         "type": "bar",
         "x": [
          "fossil-fuel-operations"
         ],
         "xaxis": "x",
         "y": [
          2258459324.349396
         ],
         "yaxis": "y"
        },
        {
         "alignmentgroup": "True",
         "hovertemplate": "subsector=non-residential-onsite-fuel-usage<br>sector=%{x}<br>emissions_quantity=%{y}<extra></extra>",
         "legendgroup": "non-residential-onsite-fuel-usage",
         "marker": {
          "color": "#EF553B",
          "pattern": {
           "shape": ""
          }
         },
         "name": "non-residential-onsite-fuel-usage",
         "offsetgroup": "non-residential-onsite-fuel-usage",
         "orientation": "v",
         "showlegend": true,
         "textposition": "auto",
         "type": "bar",
         "x": [
          "buildings"
         ],
         "xaxis": "x",
         "y": [
          1638285542.2755258
         ],
         "yaxis": "y"
        },
        {
         "alignmentgroup": "True",
         "hovertemplate": "subsector=oil-and-gas-transport<br>sector=%{x}<br>emissions_quantity=%{y}<extra></extra>",
         "legendgroup": "oil-and-gas-transport",
         "marker": {
          "color": "#00cc96",
          "pattern": {
           "shape": ""
          }
         },
         "name": "oil-and-gas-transport",
         "offsetgroup": "oil-and-gas-transport",
         "orientation": "v",
         "showlegend": true,
         "textposition": "auto",
         "type": "bar",
         "x": [
          "fossil-fuel-operations"
         ],
         "xaxis": "x",
         "y": [
          1575755434.985186
         ],
         "yaxis": "y"
        },
        {
         "alignmentgroup": "True",
         "hovertemplate": "subsector=cement<br>sector=%{x}<br>emissions_quantity=%{y}<extra></extra>",
         "legendgroup": "cement",
         "marker": {
          "color": "#ab63fa",
          "pattern": {
           "shape": ""
          }
         },
         "name": "cement",
         "offsetgroup": "cement",
         "orientation": "v",
         "showlegend": true,
         "textposition": "auto",
         "type": "bar",
         "x": [
          "manufacturing"
         ],
         "xaxis": "x",
         "y": [
          1489114997.8355992
         ],
         "yaxis": "y"
        },
        {
         "alignmentgroup": "True",
         "hovertemplate": "subsector=oil-and-gas-refining<br>sector=%{x}<br>emissions_quantity=%{y}<extra></extra>",
         "legendgroup": "oil-and-gas-refining",
         "marker": {
          "color": "#FFA15A",
          "pattern": {
           "shape": ""
          }
         },
         "name": "oil-and-gas-refining",
         "offsetgroup": "oil-and-gas-refining",
         "orientation": "v",
         "showlegend": true,
         "textposition": "auto",
         "type": "bar",
         "x": [
          "fossil-fuel-operations"
         ],
         "xaxis": "x",
         "y": [
          976951265.2320448
         ],
         "yaxis": "y"
        },
        {
         "alignmentgroup": "True",
         "hovertemplate": "subsector=forest-land-degradation<br>sector=%{x}<br>emissions_quantity=%{y}<extra></extra>",
         "legendgroup": "forest-land-degradation",
         "marker": {
          "color": "#19d3f3",
          "pattern": {
           "shape": ""
          }
         },
         "name": "forest-land-degradation",
         "offsetgroup": "forest-land-degradation",
         "orientation": "v",
         "showlegend": true,
         "textposition": "auto",
         "type": "bar",
         "x": [
          "forestry-and-land-use"
         ],
         "xaxis": "x",
         "y": [
          867602834.0197
         ],
         "yaxis": "y"
        },
        {
         "alignmentgroup": "True",
         "hovertemplate": "subsector=international-aviation<br>sector=%{x}<br>emissions_quantity=%{y}<extra></extra>",
         "legendgroup": "international-aviation",
         "marker": {
          "color": "#FF6692",
          "pattern": {
           "shape": ""
          }
         },
         "name": "international-aviation",
         "offsetgroup": "international-aviation",
         "orientation": "v",
         "showlegend": true,
         "textposition": "auto",
         "type": "bar",
         "x": [
          "transportation"
         ],
         "xaxis": "x",
         "y": [
          564218893.9576849
         ],
         "yaxis": "y"
        },
        {
         "alignmentgroup": "True",
         "hovertemplate": "subsector=chemicals<br>sector=%{x}<br>emissions_quantity=%{y}<extra></extra>",
         "legendgroup": "chemicals",
         "marker": {
          "color": "#B6E880",
          "pattern": {
           "shape": ""
          }
         },
         "name": "chemicals",
         "offsetgroup": "chemicals",
         "orientation": "v",
         "showlegend": true,
         "textposition": "auto",
         "type": "bar",
         "x": [
          "manufacturing"
         ],
         "xaxis": "x",
         "y": [
          563180202.2524874
         ],
         "yaxis": "y"
        },
        {
         "alignmentgroup": "True",
         "hovertemplate": "subsector=international-shipping<br>sector=%{x}<br>emissions_quantity=%{y}<extra></extra>",
         "legendgroup": "international-shipping",
         "marker": {
          "color": "#FF97FF",
          "pattern": {
           "shape": ""
          }
         },
         "name": "international-shipping",
         "offsetgroup": "international-shipping",
         "orientation": "v",
         "showlegend": true,
         "textposition": "auto",
         "type": "bar",
         "x": [
          "transportation"
         ],
         "xaxis": "x",
         "y": [
          562347629.1194266
         ],
         "yaxis": "y"
        },
        {
         "alignmentgroup": "True",
         "hovertemplate": "subsector=lime<br>sector=%{x}<br>emissions_quantity=%{y}<extra></extra>",
         "legendgroup": "lime",
         "marker": {
          "color": "#FECB52",
          "pattern": {
           "shape": ""
          }
         },
         "name": "lime",
         "offsetgroup": "lime",
         "orientation": "v",
         "showlegend": true,
         "textposition": "auto",
         "type": "bar",
         "x": [
          "manufacturing"
         ],
         "xaxis": "x",
         "y": [
          425073849.1979667
         ],
         "yaxis": "y"
        },
        {
         "alignmentgroup": "True",
         "hovertemplate": "subsector=domestic-shipping<br>sector=%{x}<br>emissions_quantity=%{y}<extra></extra>",
         "legendgroup": "domestic-shipping",
         "marker": {
          "color": "#636efa",
          "pattern": {
           "shape": ""
          }
         },
         "name": "domestic-shipping",
         "offsetgroup": "domestic-shipping",
         "orientation": "v",
         "showlegend": true,
         "textposition": "auto",
         "type": "bar",
         "x": [
          "transportation"
         ],
         "xaxis": "x",
         "y": [
          384860035.8344427
         ],
         "yaxis": "y"
        },
        {
         "alignmentgroup": "True",
         "hovertemplate": "subsector=domestic-aviation<br>sector=%{x}<br>emissions_quantity=%{y}<extra></extra>",
         "legendgroup": "domestic-aviation",
         "marker": {
          "color": "#EF553B",
          "pattern": {
           "shape": ""
          }
         },
         "name": "domestic-aviation",
         "offsetgroup": "domestic-aviation",
         "orientation": "v",
         "showlegend": true,
         "textposition": "auto",
         "type": "bar",
         "x": [
          "transportation"
         ],
         "xaxis": "x",
         "y": [
          328900597.87892866
         ],
         "yaxis": "y"
        },
        {
         "alignmentgroup": "True",
         "hovertemplate": "subsector=aluminum<br>sector=%{x}<br>emissions_quantity=%{y}<extra></extra>",
         "legendgroup": "aluminum",
         "marker": {
          "color": "#00cc96",
          "pattern": {
           "shape": ""
          }
         },
         "name": "aluminum",
         "offsetgroup": "aluminum",
         "orientation": "v",
         "showlegend": true,
         "textposition": "auto",
         "type": "bar",
         "x": [
          "manufacturing"
         ],
         "xaxis": "x",
         "y": [
          289763566.2952176
         ],
         "yaxis": "y"
        },
        {
         "alignmentgroup": "True",
         "hovertemplate": "subsector=wetland-fires<br>sector=%{x}<br>emissions_quantity=%{y}<extra></extra>",
         "legendgroup": "wetland-fires",
         "marker": {
          "color": "#ab63fa",
          "pattern": {
           "shape": ""
          }
         },
         "name": "wetland-fires",
         "offsetgroup": "wetland-fires",
         "orientation": "v",
         "showlegend": true,
         "textposition": "auto",
         "type": "bar",
         "x": [
          "forestry-and-land-use"
         ],
         "xaxis": "x",
         "y": [
          274981099.0014809
         ],
         "yaxis": "y"
        },
        {
         "alignmentgroup": "True",
         "hovertemplate": "subsector=petrochemical-steam-cracking<br>sector=%{x}<br>emissions_quantity=%{y}<extra></extra>",
         "legendgroup": "petrochemical-steam-cracking",
         "marker": {
          "color": "#FFA15A",
          "pattern": {
           "shape": ""
          }
         },
         "name": "petrochemical-steam-cracking",
         "offsetgroup": "petrochemical-steam-cracking",
         "orientation": "v",
         "showlegend": true,
         "textposition": "auto",
         "type": "bar",
         "x": [
          "manufacturing"
         ],
         "xaxis": "x",
         "y": [
          274335614.4733209
         ],
         "yaxis": "y"
        },
        {
         "alignmentgroup": "True",
         "hovertemplate": "subsector=coal-mining<br>sector=%{x}<br>emissions_quantity=%{y}<extra></extra>",
         "legendgroup": "coal-mining",
         "marker": {
          "color": "#19d3f3",
          "pattern": {
           "shape": ""
          }
         },
         "name": "coal-mining",
         "offsetgroup": "coal-mining",
         "orientation": "v",
         "showlegend": true,
         "textposition": "auto",
         "type": "bar",
         "x": [
          "fossil-fuel-operations"
         ],
         "xaxis": "x",
         "y": [
          136786459.5569402
         ],
         "yaxis": "y"
        },
        {
         "alignmentgroup": "True",
         "hovertemplate": "subsector=food-beverage-tobacco<br>sector=%{x}<br>emissions_quantity=%{y}<extra></extra>",
         "legendgroup": "food-beverage-tobacco",
         "marker": {
          "color": "#FF6692",
          "pattern": {
           "shape": ""
          }
         },
         "name": "food-beverage-tobacco",
         "offsetgroup": "food-beverage-tobacco",
         "orientation": "v",
         "showlegend": true,
         "textposition": "auto",
         "type": "bar",
         "x": [
          "manufacturing"
         ],
         "xaxis": "x",
         "y": [
          102745853.16811045
         ],
         "yaxis": "y"
        },
        {
         "alignmentgroup": "True",
         "hovertemplate": "subsector=copper-mining<br>sector=%{x}<br>emissions_quantity=%{y}<extra></extra>",
         "legendgroup": "copper-mining",
         "marker": {
          "color": "#B6E880",
          "pattern": {
           "shape": ""
          }
         },
         "name": "copper-mining",
         "offsetgroup": "copper-mining",
         "orientation": "v",
         "showlegend": true,
         "textposition": "auto",
         "type": "bar",
         "x": [
          "mineral-extraction"
         ],
         "xaxis": "x",
         "y": [
          79143689.27682889
         ],
         "yaxis": "y"
        },
        {
         "alignmentgroup": "True",
         "hovertemplate": "subsector=other-chemicals<br>sector=%{x}<br>emissions_quantity=%{y}<extra></extra>",
         "legendgroup": "other-chemicals",
         "marker": {
          "color": "#FF97FF",
          "pattern": {
           "shape": ""
          }
         },
         "name": "other-chemicals",
         "offsetgroup": "other-chemicals",
         "orientation": "v",
         "showlegend": true,
         "textposition": "auto",
         "type": "bar",
         "x": [
          "manufacturing"
         ],
         "xaxis": "x",
         "y": [
          74014653.69212124
         ],
         "yaxis": "y"
        },
        {
         "alignmentgroup": "True",
         "hovertemplate": "subsector=iron-mining<br>sector=%{x}<br>emissions_quantity=%{y}<extra></extra>",
         "legendgroup": "iron-mining",
         "marker": {
          "color": "#FECB52",
          "pattern": {
           "shape": ""
          }
         },
         "name": "iron-mining",
         "offsetgroup": "iron-mining",
         "orientation": "v",
         "showlegend": true,
         "textposition": "auto",
         "type": "bar",
         "x": [
          "mineral-extraction"
         ],
         "xaxis": "x",
         "y": [
          61037001.53134582
         ],
         "yaxis": "y"
        },
        {
         "alignmentgroup": "True",
         "hovertemplate": "subsector=textiles-leather-apparel<br>sector=%{x}<br>emissions_quantity=%{y}<extra></extra>",
         "legendgroup": "textiles-leather-apparel",
         "marker": {
          "color": "#636efa",
          "pattern": {
           "shape": ""
          }
         },
         "name": "textiles-leather-apparel",
         "offsetgroup": "textiles-leather-apparel",
         "orientation": "v",
         "showlegend": true,
         "textposition": "auto",
         "type": "bar",
         "x": [
          "manufacturing"
         ],
         "xaxis": "x",
         "y": [
          45097333.24114284
         ],
         "yaxis": "y"
        },
        {
         "alignmentgroup": "True",
         "hovertemplate": "subsector=pulp-and-paper<br>sector=%{x}<br>emissions_quantity=%{y}<extra></extra>",
         "legendgroup": "pulp-and-paper",
         "marker": {
          "color": "#EF553B",
          "pattern": {
           "shape": ""
          }
         },
         "name": "pulp-and-paper",
         "offsetgroup": "pulp-and-paper",
         "orientation": "v",
         "showlegend": true,
         "textposition": "auto",
         "type": "bar",
         "x": [
          "manufacturing"
         ],
         "xaxis": "x",
         "y": [
          43175289.15079162
         ],
         "yaxis": "y"
        },
        {
         "alignmentgroup": "True",
         "hovertemplate": "subsector=other-metals<br>sector=%{x}<br>emissions_quantity=%{y}<extra></extra>",
         "legendgroup": "other-metals",
         "marker": {
          "color": "#00cc96",
          "pattern": {
           "shape": ""
          }
         },
         "name": "other-metals",
         "offsetgroup": "other-metals",
         "orientation": "v",
         "showlegend": true,
         "textposition": "auto",
         "type": "bar",
         "x": [
          "manufacturing"
         ],
         "xaxis": "x",
         "y": [
          37832929.833125465
         ],
         "yaxis": "y"
        },
        {
         "alignmentgroup": "True",
         "hovertemplate": "subsector=glass<br>sector=%{x}<br>emissions_quantity=%{y}<extra></extra>",
         "legendgroup": "glass",
         "marker": {
          "color": "#ab63fa",
          "pattern": {
           "shape": ""
          }
         },
         "name": "glass",
         "offsetgroup": "glass",
         "orientation": "v",
         "showlegend": true,
         "textposition": "auto",
         "type": "bar",
         "x": [
          "manufacturing"
         ],
         "xaxis": "x",
         "y": [
          36726974.53854941
         ],
         "yaxis": "y"
        },
        {
         "alignmentgroup": "True",
         "hovertemplate": "subsector=other-manufacturing<br>sector=%{x}<br>emissions_quantity=%{y}<extra></extra>",
         "legendgroup": "other-manufacturing",
         "marker": {
          "color": "#FFA15A",
          "pattern": {
           "shape": ""
          }
         },
         "name": "other-manufacturing",
         "offsetgroup": "other-manufacturing",
         "orientation": "v",
         "showlegend": true,
         "textposition": "auto",
         "type": "bar",
         "x": [
          "manufacturing"
         ],
         "xaxis": "x",
         "y": [
          17304732.343048483
         ],
         "yaxis": "y"
        },
        {
         "alignmentgroup": "True",
         "hovertemplate": "subsector=bauxite-mining<br>sector=%{x}<br>emissions_quantity=%{y}<extra></extra>",
         "legendgroup": "bauxite-mining",
         "marker": {
          "color": "#19d3f3",
          "pattern": {
           "shape": ""
          }
         },
         "name": "bauxite-mining",
         "offsetgroup": "bauxite-mining",
         "orientation": "v",
         "showlegend": true,
         "textposition": "auto",
         "type": "bar",
         "x": [
          "mineral-extraction"
         ],
         "xaxis": "x",
         "y": [
          9115496.738281576
         ],
         "yaxis": "y"
        },
        {
         "alignmentgroup": "True",
         "hovertemplate": "subsector=water-reservoirs<br>sector=%{x}<br>emissions_quantity=%{y}<extra></extra>",
         "legendgroup": "water-reservoirs",
         "marker": {
          "color": "#FF6692",
          "pattern": {
           "shape": ""
          }
         },
         "name": "water-reservoirs",
         "offsetgroup": "water-reservoirs",
         "orientation": "v",
         "showlegend": true,
         "textposition": "auto",
         "type": "bar",
         "x": [
          "forestry-and-land-use"
         ],
         "xaxis": "x",
         "y": [
          3102178.432689746
         ],
         "yaxis": "y"
        },
        {
         "alignmentgroup": "True",
         "hovertemplate": "subsector=solid-waste-disposal<br>sector=%{x}<br>emissions_quantity=%{y}<extra></extra>",
         "legendgroup": "solid-waste-disposal",
         "marker": {
          "color": "#B6E880",
          "pattern": {
           "shape": ""
          }
         },
         "name": "solid-waste-disposal",
         "offsetgroup": "solid-waste-disposal",
         "orientation": "v",
         "showlegend": true,
         "textposition": "auto",
         "type": "bar",
         "x": [
          "waste"
         ],
         "xaxis": "x",
         "y": [
          625604.5620451627
         ],
         "yaxis": "y"
        },
        {
         "alignmentgroup": "True",
         "hovertemplate": "subsector=synthetic-fertilizer-application<br>sector=%{x}<br>emissions_quantity=%{y}<extra></extra>",
         "legendgroup": "synthetic-fertilizer-application",
         "marker": {
          "color": "#FF97FF",
          "pattern": {
           "shape": ""
          }
         },
         "name": "synthetic-fertilizer-application",
         "offsetgroup": "synthetic-fertilizer-application",
         "orientation": "v",
         "showlegend": true,
         "textposition": "auto",
         "type": "bar",
         "x": [
          "agriculture"
         ],
         "xaxis": "x",
         "y": [
          0
         ],
         "yaxis": "y"
        },
        {
         "alignmentgroup": "True",
         "hovertemplate": "subsector=industrial-wastewater-treatment-and-discharge<br>sector=%{x}<br>emissions_quantity=%{y}<extra></extra>",
         "legendgroup": "industrial-wastewater-treatment-and-discharge",
         "marker": {
          "color": "#FECB52",
          "pattern": {
           "shape": ""
          }
         },
         "name": "industrial-wastewater-treatment-and-discharge",
         "offsetgroup": "industrial-wastewater-treatment-and-discharge",
         "orientation": "v",
         "showlegend": true,
         "textposition": "auto",
         "type": "bar",
         "x": [
          "waste"
         ],
         "xaxis": "x",
         "y": [
          0
         ],
         "yaxis": "y"
        },
        {
         "alignmentgroup": "True",
         "hovertemplate": "subsector=enteric-fermentation-cattle-pasture<br>sector=%{x}<br>emissions_quantity=%{y}<extra></extra>",
         "legendgroup": "enteric-fermentation-cattle-pasture",
         "marker": {
          "color": "#636efa",
          "pattern": {
           "shape": ""
          }
         },
         "name": "enteric-fermentation-cattle-pasture",
         "offsetgroup": "enteric-fermentation-cattle-pasture",
         "orientation": "v",
         "showlegend": true,
         "textposition": "auto",
         "type": "bar",
         "x": [
          "agriculture"
         ],
         "xaxis": "x",
         "y": [
          0
         ],
         "yaxis": "y"
        },
        {
         "alignmentgroup": "True",
         "hovertemplate": "subsector=manure-left-on-pasture-cattle<br>sector=%{x}<br>emissions_quantity=%{y}<extra></extra>",
         "legendgroup": "manure-left-on-pasture-cattle",
         "marker": {
          "color": "#EF553B",
          "pattern": {
           "shape": ""
          }
         },
         "name": "manure-left-on-pasture-cattle",
         "offsetgroup": "manure-left-on-pasture-cattle",
         "orientation": "v",
         "showlegend": true,
         "textposition": "auto",
         "type": "bar",
         "x": [
          "agriculture"
         ],
         "xaxis": "x",
         "y": [
          0
         ],
         "yaxis": "y"
        },
        {
         "alignmentgroup": "True",
         "hovertemplate": "subsector=domestic-wastewater-treatment-and-discharge<br>sector=%{x}<br>emissions_quantity=%{y}<extra></extra>",
         "legendgroup": "domestic-wastewater-treatment-and-discharge",
         "marker": {
          "color": "#00cc96",
          "pattern": {
           "shape": ""
          }
         },
         "name": "domestic-wastewater-treatment-and-discharge",
         "offsetgroup": "domestic-wastewater-treatment-and-discharge",
         "orientation": "v",
         "showlegend": true,
         "textposition": "auto",
         "type": "bar",
         "x": [
          "waste"
         ],
         "xaxis": "x",
         "y": [
          0
         ],
         "yaxis": "y"
        },
        {
         "alignmentgroup": "True",
         "hovertemplate": "subsector=rice-cultivation<br>sector=%{x}<br>emissions_quantity=%{y}<extra></extra>",
         "legendgroup": "rice-cultivation",
         "marker": {
          "color": "#ab63fa",
          "pattern": {
           "shape": ""
          }
         },
         "name": "rice-cultivation",
         "offsetgroup": "rice-cultivation",
         "orientation": "v",
         "showlegend": true,
         "textposition": "auto",
         "type": "bar",
         "x": [
          "agriculture"
         ],
         "xaxis": "x",
         "y": [
          0
         ],
         "yaxis": "y"
        },
        {
         "alignmentgroup": "True",
         "hovertemplate": "subsector=manure-management-cattle-operation<br>sector=%{x}<br>emissions_quantity=%{y}<extra></extra>",
         "legendgroup": "manure-management-cattle-operation",
         "marker": {
          "color": "#FFA15A",
          "pattern": {
           "shape": ""
          }
         },
         "name": "manure-management-cattle-operation",
         "offsetgroup": "manure-management-cattle-operation",
         "orientation": "v",
         "showlegend": true,
         "textposition": "auto",
         "type": "bar",
         "x": [
          "agriculture"
         ],
         "xaxis": "x",
         "y": [
          0
         ],
         "yaxis": "y"
        },
        {
         "alignmentgroup": "True",
         "hovertemplate": "subsector=enteric-fermentation-cattle-operation<br>sector=%{x}<br>emissions_quantity=%{y}<extra></extra>",
         "legendgroup": "enteric-fermentation-cattle-operation",
         "marker": {
          "color": "#19d3f3",
          "pattern": {
           "shape": ""
          }
         },
         "name": "enteric-fermentation-cattle-operation",
         "offsetgroup": "enteric-fermentation-cattle-operation",
         "orientation": "v",
         "showlegend": true,
         "textposition": "auto",
         "type": "bar",
         "x": [
          "agriculture"
         ],
         "xaxis": "x",
         "y": [
          0
         ],
         "yaxis": "y"
        },
        {
         "alignmentgroup": "True",
         "hovertemplate": "subsector=net-wetland<br>sector=%{x}<br>emissions_quantity=%{y}<extra></extra>",
         "legendgroup": "net-wetland",
         "marker": {
          "color": "#FF6692",
          "pattern": {
           "shape": ""
          }
         },
         "name": "net-wetland",
         "offsetgroup": "net-wetland",
         "orientation": "v",
         "showlegend": true,
         "textposition": "auto",
         "type": "bar",
         "x": [
          "forestry-and-land-use"
         ],
         "xaxis": "x",
         "y": [
          -319832951.8488822
         ],
         "yaxis": "y"
        },
        {
         "alignmentgroup": "True",
         "hovertemplate": "subsector=removals<br>sector=%{x}<br>emissions_quantity=%{y}<extra></extra>",
         "legendgroup": "removals",
         "marker": {
          "color": "#B6E880",
          "pattern": {
           "shape": ""
          }
         },
         "name": "removals",
         "offsetgroup": "removals",
         "orientation": "v",
         "showlegend": true,
         "textposition": "auto",
         "type": "bar",
         "x": [
          "forestry-and-land-use"
         ],
         "xaxis": "x",
         "y": [
          -39611142317.45391
         ],
         "yaxis": "y"
        }
       ],
       "layout": {
        "autosize": true,
        "barmode": "relative",
        "legend": {
         "title": {
          "text": "subsector"
         },
         "tracegroupgap": 0
        },
        "margin": {
         "t": 60
        },
        "template": {
         "data": {
          "bar": [
           {
            "error_x": {
             "color": "#2a3f5f"
            },
            "error_y": {
             "color": "#2a3f5f"
            },
            "marker": {
             "line": {
              "color": "white",
              "width": 0.5
             },
             "pattern": {
              "fillmode": "overlay",
              "size": 10,
              "solidity": 0.2
             }
            },
            "type": "bar"
           }
          ],
          "barpolar": [
           {
            "marker": {
             "line": {
              "color": "white",
              "width": 0.5
             },
             "pattern": {
              "fillmode": "overlay",
              "size": 10,
              "solidity": 0.2
             }
            },
            "type": "barpolar"
           }
          ],
          "carpet": [
           {
            "aaxis": {
             "endlinecolor": "#2a3f5f",
             "gridcolor": "#C8D4E3",
             "linecolor": "#C8D4E3",
             "minorgridcolor": "#C8D4E3",
             "startlinecolor": "#2a3f5f"
            },
            "baxis": {
             "endlinecolor": "#2a3f5f",
             "gridcolor": "#C8D4E3",
             "linecolor": "#C8D4E3",
             "minorgridcolor": "#C8D4E3",
             "startlinecolor": "#2a3f5f"
            },
            "type": "carpet"
           }
          ],
          "choropleth": [
           {
            "colorbar": {
             "outlinewidth": 0,
             "ticks": ""
            },
            "type": "choropleth"
           }
          ],
          "contour": [
           {
            "colorbar": {
             "outlinewidth": 0,
             "ticks": ""
            },
            "colorscale": [
             [
              0,
              "#0d0887"
             ],
             [
              0.1111111111111111,
              "#46039f"
             ],
             [
              0.2222222222222222,
              "#7201a8"
             ],
             [
              0.3333333333333333,
              "#9c179e"
             ],
             [
              0.4444444444444444,
              "#bd3786"
             ],
             [
              0.5555555555555556,
              "#d8576b"
             ],
             [
              0.6666666666666666,
              "#ed7953"
             ],
             [
              0.7777777777777778,
              "#fb9f3a"
             ],
             [
              0.8888888888888888,
              "#fdca26"
             ],
             [
              1,
              "#f0f921"
             ]
            ],
            "type": "contour"
           }
          ],
          "contourcarpet": [
           {
            "colorbar": {
             "outlinewidth": 0,
             "ticks": ""
            },
            "type": "contourcarpet"
           }
          ],
          "heatmap": [
           {
            "colorbar": {
             "outlinewidth": 0,
             "ticks": ""
            },
            "colorscale": [
             [
              0,
              "#0d0887"
             ],
             [
              0.1111111111111111,
              "#46039f"
             ],
             [
              0.2222222222222222,
              "#7201a8"
             ],
             [
              0.3333333333333333,
              "#9c179e"
             ],
             [
              0.4444444444444444,
              "#bd3786"
             ],
             [
              0.5555555555555556,
              "#d8576b"
             ],
             [
              0.6666666666666666,
              "#ed7953"
             ],
             [
              0.7777777777777778,
              "#fb9f3a"
             ],
             [
              0.8888888888888888,
              "#fdca26"
             ],
             [
              1,
              "#f0f921"
             ]
            ],
            "type": "heatmap"
           }
          ],
          "heatmapgl": [
           {
            "colorbar": {
             "outlinewidth": 0,
             "ticks": ""
            },
            "colorscale": [
             [
              0,
              "#0d0887"
             ],
             [
              0.1111111111111111,
              "#46039f"
             ],
             [
              0.2222222222222222,
              "#7201a8"
             ],
             [
              0.3333333333333333,
              "#9c179e"
             ],
             [
              0.4444444444444444,
              "#bd3786"
             ],
             [
              0.5555555555555556,
              "#d8576b"
             ],
             [
              0.6666666666666666,
              "#ed7953"
             ],
             [
              0.7777777777777778,
              "#fb9f3a"
             ],
             [
              0.8888888888888888,
              "#fdca26"
             ],
             [
              1,
              "#f0f921"
             ]
            ],
            "type": "heatmapgl"
           }
          ],
          "histogram": [
           {
            "marker": {
             "pattern": {
              "fillmode": "overlay",
              "size": 10,
              "solidity": 0.2
             }
            },
            "type": "histogram"
           }
          ],
          "histogram2d": [
           {
            "colorbar": {
             "outlinewidth": 0,
             "ticks": ""
            },
            "colorscale": [
             [
              0,
              "#0d0887"
             ],
             [
              0.1111111111111111,
              "#46039f"
             ],
             [
              0.2222222222222222,
              "#7201a8"
             ],
             [
              0.3333333333333333,
              "#9c179e"
             ],
             [
              0.4444444444444444,
              "#bd3786"
             ],
             [
              0.5555555555555556,
              "#d8576b"
             ],
             [
              0.6666666666666666,
              "#ed7953"
             ],
             [
              0.7777777777777778,
              "#fb9f3a"
             ],
             [
              0.8888888888888888,
              "#fdca26"
             ],
             [
              1,
              "#f0f921"
             ]
            ],
            "type": "histogram2d"
           }
          ],
          "histogram2dcontour": [
           {
            "colorbar": {
             "outlinewidth": 0,
             "ticks": ""
            },
            "colorscale": [
             [
              0,
              "#0d0887"
             ],
             [
              0.1111111111111111,
              "#46039f"
             ],
             [
              0.2222222222222222,
              "#7201a8"
             ],
             [
              0.3333333333333333,
              "#9c179e"
             ],
             [
              0.4444444444444444,
              "#bd3786"
             ],
             [
              0.5555555555555556,
              "#d8576b"
             ],
             [
              0.6666666666666666,
              "#ed7953"
             ],
             [
              0.7777777777777778,
              "#fb9f3a"
             ],
             [
              0.8888888888888888,
              "#fdca26"
             ],
             [
              1,
              "#f0f921"
             ]
            ],
            "type": "histogram2dcontour"
           }
          ],
          "mesh3d": [
           {
            "colorbar": {
             "outlinewidth": 0,
             "ticks": ""
            },
            "type": "mesh3d"
           }
          ],
          "parcoords": [
           {
            "line": {
             "colorbar": {
              "outlinewidth": 0,
              "ticks": ""
             }
            },
            "type": "parcoords"
           }
          ],
          "pie": [
           {
            "automargin": true,
            "type": "pie"
           }
          ],
          "scatter": [
           {
            "fillpattern": {
             "fillmode": "overlay",
             "size": 10,
             "solidity": 0.2
            },
            "type": "scatter"
           }
          ],
          "scatter3d": [
           {
            "line": {
             "colorbar": {
              "outlinewidth": 0,
              "ticks": ""
             }
            },
            "marker": {
             "colorbar": {
              "outlinewidth": 0,
              "ticks": ""
             }
            },
            "type": "scatter3d"
           }
          ],
          "scattercarpet": [
           {
            "marker": {
             "colorbar": {
              "outlinewidth": 0,
              "ticks": ""
             }
            },
            "type": "scattercarpet"
           }
          ],
          "scattergeo": [
           {
            "marker": {
             "colorbar": {
              "outlinewidth": 0,
              "ticks": ""
             }
            },
            "type": "scattergeo"
           }
          ],
          "scattergl": [
           {
            "marker": {
             "colorbar": {
              "outlinewidth": 0,
              "ticks": ""
             }
            },
            "type": "scattergl"
           }
          ],
          "scattermapbox": [
           {
            "marker": {
             "colorbar": {
              "outlinewidth": 0,
              "ticks": ""
             }
            },
            "type": "scattermapbox"
           }
          ],
          "scatterpolar": [
           {
            "marker": {
             "colorbar": {
              "outlinewidth": 0,
              "ticks": ""
             }
            },
            "type": "scatterpolar"
           }
          ],
          "scatterpolargl": [
           {
            "marker": {
             "colorbar": {
              "outlinewidth": 0,
              "ticks": ""
             }
            },
            "type": "scatterpolargl"
           }
          ],
          "scatterternary": [
           {
            "marker": {
             "colorbar": {
              "outlinewidth": 0,
              "ticks": ""
             }
            },
            "type": "scatterternary"
           }
          ],
          "surface": [
           {
            "colorbar": {
             "outlinewidth": 0,
             "ticks": ""
            },
            "colorscale": [
             [
              0,
              "#0d0887"
             ],
             [
              0.1111111111111111,
              "#46039f"
             ],
             [
              0.2222222222222222,
              "#7201a8"
             ],
             [
              0.3333333333333333,
              "#9c179e"
             ],
             [
              0.4444444444444444,
              "#bd3786"
             ],
             [
              0.5555555555555556,
              "#d8576b"
             ],
             [
              0.6666666666666666,
              "#ed7953"
             ],
             [
              0.7777777777777778,
              "#fb9f3a"
             ],
             [
              0.8888888888888888,
              "#fdca26"
             ],
             [
              1,
              "#f0f921"
             ]
            ],
            "type": "surface"
           }
          ],
          "table": [
           {
            "cells": {
             "fill": {
              "color": "#EBF0F8"
             },
             "line": {
              "color": "white"
             }
            },
            "header": {
             "fill": {
              "color": "#C8D4E3"
             },
             "line": {
              "color": "white"
             }
            },
            "type": "table"
           }
          ]
         },
         "layout": {
          "annotationdefaults": {
           "arrowcolor": "#2a3f5f",
           "arrowhead": 0,
           "arrowwidth": 1
          },
          "autotypenumbers": "strict",
          "coloraxis": {
           "colorbar": {
            "outlinewidth": 0,
            "ticks": ""
           }
          },
          "colorscale": {
           "diverging": [
            [
             0,
             "#8e0152"
            ],
            [
             0.1,
             "#c51b7d"
            ],
            [
             0.2,
             "#de77ae"
            ],
            [
             0.3,
             "#f1b6da"
            ],
            [
             0.4,
             "#fde0ef"
            ],
            [
             0.5,
             "#f7f7f7"
            ],
            [
             0.6,
             "#e6f5d0"
            ],
            [
             0.7,
             "#b8e186"
            ],
            [
             0.8,
             "#7fbc41"
            ],
            [
             0.9,
             "#4d9221"
            ],
            [
             1,
             "#276419"
            ]
           ],
           "sequential": [
            [
             0,
             "#0d0887"
            ],
            [
             0.1111111111111111,
             "#46039f"
            ],
            [
             0.2222222222222222,
             "#7201a8"
            ],
            [
             0.3333333333333333,
             "#9c179e"
            ],
            [
             0.4444444444444444,
             "#bd3786"
            ],
            [
             0.5555555555555556,
             "#d8576b"
            ],
            [
             0.6666666666666666,
             "#ed7953"
            ],
            [
             0.7777777777777778,
             "#fb9f3a"
            ],
            [
             0.8888888888888888,
             "#fdca26"
            ],
            [
             1,
             "#f0f921"
            ]
           ],
           "sequentialminus": [
            [
             0,
             "#0d0887"
            ],
            [
             0.1111111111111111,
             "#46039f"
            ],
            [
             0.2222222222222222,
             "#7201a8"
            ],
            [
             0.3333333333333333,
             "#9c179e"
            ],
            [
             0.4444444444444444,
             "#bd3786"
            ],
            [
             0.5555555555555556,
             "#d8576b"
            ],
            [
             0.6666666666666666,
             "#ed7953"
            ],
            [
             0.7777777777777778,
             "#fb9f3a"
            ],
            [
             0.8888888888888888,
             "#fdca26"
            ],
            [
             1,
             "#f0f921"
            ]
           ]
          },
          "colorway": [
           "#636efa",
           "#EF553B",
           "#00cc96",
           "#ab63fa",
           "#FFA15A",
           "#19d3f3",
           "#FF6692",
           "#B6E880",
           "#FF97FF",
           "#FECB52"
          ],
          "font": {
           "color": "#2a3f5f"
          },
          "geo": {
           "bgcolor": "white",
           "lakecolor": "white",
           "landcolor": "white",
           "showlakes": true,
           "showland": true,
           "subunitcolor": "#C8D4E3"
          },
          "hoverlabel": {
           "align": "left"
          },
          "hovermode": "closest",
          "mapbox": {
           "style": "light"
          },
          "paper_bgcolor": "white",
          "plot_bgcolor": "white",
          "polar": {
           "angularaxis": {
            "gridcolor": "#EBF0F8",
            "linecolor": "#EBF0F8",
            "ticks": ""
           },
           "bgcolor": "white",
           "radialaxis": {
            "gridcolor": "#EBF0F8",
            "linecolor": "#EBF0F8",
            "ticks": ""
           }
          },
          "scene": {
           "xaxis": {
            "backgroundcolor": "white",
            "gridcolor": "#DFE8F3",
            "gridwidth": 2,
            "linecolor": "#EBF0F8",
            "showbackground": true,
            "ticks": "",
            "zerolinecolor": "#EBF0F8"
           },
           "yaxis": {
            "backgroundcolor": "white",
            "gridcolor": "#DFE8F3",
            "gridwidth": 2,
            "linecolor": "#EBF0F8",
            "showbackground": true,
            "ticks": "",
            "zerolinecolor": "#EBF0F8"
           },
           "zaxis": {
            "backgroundcolor": "white",
            "gridcolor": "#DFE8F3",
            "gridwidth": 2,
            "linecolor": "#EBF0F8",
            "showbackground": true,
            "ticks": "",
            "zerolinecolor": "#EBF0F8"
           }
          },
          "shapedefaults": {
           "line": {
            "color": "#2a3f5f"
           }
          },
          "ternary": {
           "aaxis": {
            "gridcolor": "#DFE8F3",
            "linecolor": "#A2B1C6",
            "ticks": ""
           },
           "baxis": {
            "gridcolor": "#DFE8F3",
            "linecolor": "#A2B1C6",
            "ticks": ""
           },
           "bgcolor": "white",
           "caxis": {
            "gridcolor": "#DFE8F3",
            "linecolor": "#A2B1C6",
            "ticks": ""
           }
          },
          "title": {
           "x": 0.05
          },
          "xaxis": {
           "automargin": true,
           "gridcolor": "#EBF0F8",
           "linecolor": "#EBF0F8",
           "ticks": "",
           "title": {
            "standoff": 15
           },
           "zerolinecolor": "#EBF0F8",
           "zerolinewidth": 2
          },
          "yaxis": {
           "automargin": true,
           "gridcolor": "#EBF0F8",
           "linecolor": "#EBF0F8",
           "ticks": "",
           "title": {
            "standoff": 15
           },
           "zerolinecolor": "#EBF0F8",
           "zerolinewidth": 2
          }
         }
        },
        "xaxis": {
         "anchor": "y",
         "autorange": true,
         "domain": [
          0,
          1
         ],
         "range": [
          -0.5,
          8.5
         ],
         "title": {
          "text": "sector"
         },
         "type": "category"
        },
        "yaxis": {
         "anchor": "x",
         "autorange": true,
         "domain": [
          0,
          1
         ],
         "range": [
          -45114430269.323494,
          58554669731.09043
         ],
         "title": {
          "text": "emissions_quantity"
         },
         "type": "linear"
        }
       }
      },
      "text/html": [
       "<div>                            <div id=\"1f3be84c-0748-4ce9-b2a7-03f022d29a0d\" class=\"plotly-graph-div\" style=\"height:525px; width:100%;\"></div>            <script type=\"text/javascript\">                require([\"plotly\"], function(Plotly) {                    window.PLOTLYENV=window.PLOTLYENV || {};                                    if (document.getElementById(\"1f3be84c-0748-4ce9-b2a7-03f022d29a0d\")) {                    Plotly.newPlot(                        \"1f3be84c-0748-4ce9-b2a7-03f022d29a0d\",                        [{\"alignmentgroup\":\"True\",\"hovertemplate\":\"subsector=forest-land-fires\\u003cbr\\u003esector=%{x}\\u003cbr\\u003eemissions_quantity=%{y}\\u003cextra\\u003e\\u003c\\u002fextra\\u003e\",\"legendgroup\":\"forest-land-fires\",\"marker\":{\"color\":\"#636efa\",\"pattern\":{\"shape\":\"\"}},\"name\":\"forest-land-fires\",\"offsetgroup\":\"forest-land-fires\",\"orientation\":\"v\",\"showlegend\":true,\"textposition\":\"auto\",\"x\":[\"forestry-and-land-use\"],\"xaxis\":\"x\",\"y\":[19222980103.93779],\"yaxis\":\"y\",\"type\":\"bar\"},{\"alignmentgroup\":\"True\",\"hovertemplate\":\"subsector=forest-land-clearing\\u003cbr\\u003esector=%{x}\\u003cbr\\u003eemissions_quantity=%{y}\\u003cextra\\u003e\\u003c\\u002fextra\\u003e\",\"legendgroup\":\"forest-land-clearing\",\"marker\":{\"color\":\"#EF553B\",\"pattern\":{\"shape\":\"\"}},\"name\":\"forest-land-clearing\",\"offsetgroup\":\"forest-land-clearing\",\"orientation\":\"v\",\"showlegend\":true,\"textposition\":\"auto\",\"x\":[\"forestry-and-land-use\"],\"xaxis\":\"x\",\"y\":[17900851037.232033],\"yaxis\":\"y\",\"type\":\"bar\"},{\"alignmentgroup\":\"True\",\"hovertemplate\":\"subsector=road-transportation\\u003cbr\\u003esector=%{x}\\u003cbr\\u003eemissions_quantity=%{y}\\u003cextra\\u003e\\u003c\\u002fextra\\u003e\",\"legendgroup\":\"road-transportation\",\"marker\":{\"color\":\"#00cc96\",\"pattern\":{\"shape\":\"\"}},\"name\":\"road-transportation\",\"offsetgroup\":\"road-transportation\",\"orientation\":\"v\",\"showlegend\":true,\"textposition\":\"auto\",\"x\":[\"transportation\"],\"xaxis\":\"x\",\"y\":[15070281084.104824],\"yaxis\":\"y\",\"type\":\"bar\"},{\"alignmentgroup\":\"True\",\"hovertemplate\":\"subsector=electricity-generation\\u003cbr\\u003esector=%{x}\\u003cbr\\u003eemissions_quantity=%{y}\\u003cextra\\u003e\\u003c\\u002fextra\\u003e\",\"legendgroup\":\"electricity-generation\",\"marker\":{\"color\":\"#ab63fa\",\"pattern\":{\"shape\":\"\"}},\"name\":\"electricity-generation\",\"offsetgroup\":\"electricity-generation\",\"orientation\":\"v\",\"showlegend\":true,\"textposition\":\"auto\",\"x\":[\"power\"],\"xaxis\":\"x\",\"y\":[12968441515.866005],\"yaxis\":\"y\",\"type\":\"bar\"},{\"alignmentgroup\":\"True\",\"hovertemplate\":\"subsector=residential-onsite-fuel-usage\\u003cbr\\u003esector=%{x}\\u003cbr\\u003eemissions_quantity=%{y}\\u003cextra\\u003e\\u003c\\u002fextra\\u003e\",\"legendgroup\":\"residential-onsite-fuel-usage\",\"marker\":{\"color\":\"#FFA15A\",\"pattern\":{\"shape\":\"\"}},\"name\":\"residential-onsite-fuel-usage\",\"offsetgroup\":\"residential-onsite-fuel-usage\",\"orientation\":\"v\",\"showlegend\":true,\"textposition\":\"auto\",\"x\":[\"buildings\"],\"xaxis\":\"x\",\"y\":[10644718204.969769],\"yaxis\":\"y\",\"type\":\"bar\"},{\"alignmentgroup\":\"True\",\"hovertemplate\":\"subsector=shrubgrass-fires\\u003cbr\\u003esector=%{x}\\u003cbr\\u003eemissions_quantity=%{y}\\u003cextra\\u003e\\u003c\\u002fextra\\u003e\",\"legendgroup\":\"shrubgrass-fires\",\"marker\":{\"color\":\"#19d3f3\",\"pattern\":{\"shape\":\"\"}},\"name\":\"shrubgrass-fires\",\"offsetgroup\":\"shrubgrass-fires\",\"orientation\":\"v\",\"showlegend\":true,\"textposition\":\"auto\",\"x\":[\"forestry-and-land-use\"],\"xaxis\":\"x\",\"y\":[8064987215.256242],\"yaxis\":\"y\",\"type\":\"bar\"},{\"alignmentgroup\":\"True\",\"hovertemplate\":\"subsector=cropland-fires\\u003cbr\\u003esector=%{x}\\u003cbr\\u003eemissions_quantity=%{y}\\u003cextra\\u003e\\u003c\\u002fextra\\u003e\",\"legendgroup\":\"cropland-fires\",\"marker\":{\"color\":\"#FF6692\",\"pattern\":{\"shape\":\"\"}},\"name\":\"cropland-fires\",\"offsetgroup\":\"cropland-fires\",\"orientation\":\"v\",\"showlegend\":true,\"textposition\":\"auto\",\"x\":[\"agriculture\"],\"xaxis\":\"x\",\"y\":[4029144832.8916655],\"yaxis\":\"y\",\"type\":\"bar\"},{\"alignmentgroup\":\"True\",\"hovertemplate\":\"subsector=net-shrubgrass\\u003cbr\\u003esector=%{x}\\u003cbr\\u003eemissions_quantity=%{y}\\u003cextra\\u003e\\u003c\\u002fextra\\u003e\",\"legendgroup\":\"net-shrubgrass\",\"marker\":{\"color\":\"#B6E880\",\"pattern\":{\"shape\":\"\"}},\"name\":\"net-shrubgrass\",\"offsetgroup\":\"net-shrubgrass\",\"orientation\":\"v\",\"showlegend\":true,\"textposition\":\"auto\",\"x\":[\"forestry-and-land-use\"],\"xaxis\":\"x\",\"y\":[3937558783.3354597],\"yaxis\":\"y\",\"type\":\"bar\"},{\"alignmentgroup\":\"True\",\"hovertemplate\":\"subsector=net-forest-land\\u003cbr\\u003esector=%{x}\\u003cbr\\u003eemissions_quantity=%{y}\\u003cextra\\u003e\\u003c\\u002fextra\\u003e\",\"legendgroup\":\"net-forest-land\",\"marker\":{\"color\":\"#FF97FF\",\"pattern\":{\"shape\":\"\"}},\"name\":\"net-forest-land\",\"offsetgroup\":\"net-forest-land\",\"orientation\":\"v\",\"showlegend\":true,\"textposition\":\"auto\",\"x\":[\"forestry-and-land-use\"],\"xaxis\":\"x\",\"y\":[3099151479.8543415],\"yaxis\":\"y\",\"type\":\"bar\"},{\"alignmentgroup\":\"True\",\"hovertemplate\":\"subsector=iron-and-steel\\u003cbr\\u003esector=%{x}\\u003cbr\\u003eemissions_quantity=%{y}\\u003cextra\\u003e\\u003c\\u002fextra\\u003e\",\"legendgroup\":\"iron-and-steel\",\"marker\":{\"color\":\"#FECB52\",\"pattern\":{\"shape\":\"\"}},\"name\":\"iron-and-steel\",\"offsetgroup\":\"iron-and-steel\",\"orientation\":\"v\",\"showlegend\":true,\"textposition\":\"auto\",\"x\":[\"manufacturing\"],\"xaxis\":\"x\",\"y\":[2883899772.6197786],\"yaxis\":\"y\",\"type\":\"bar\"},{\"alignmentgroup\":\"True\",\"hovertemplate\":\"subsector=oil-and-gas-production\\u003cbr\\u003esector=%{x}\\u003cbr\\u003eemissions_quantity=%{y}\\u003cextra\\u003e\\u003c\\u002fextra\\u003e\",\"legendgroup\":\"oil-and-gas-production\",\"marker\":{\"color\":\"#636efa\",\"pattern\":{\"shape\":\"\"}},\"name\":\"oil-and-gas-production\",\"offsetgroup\":\"oil-and-gas-production\",\"orientation\":\"v\",\"showlegend\":true,\"textposition\":\"auto\",\"x\":[\"fossil-fuel-operations\"],\"xaxis\":\"x\",\"y\":[2258459324.349396],\"yaxis\":\"y\",\"type\":\"bar\"},{\"alignmentgroup\":\"True\",\"hovertemplate\":\"subsector=non-residential-onsite-fuel-usage\\u003cbr\\u003esector=%{x}\\u003cbr\\u003eemissions_quantity=%{y}\\u003cextra\\u003e\\u003c\\u002fextra\\u003e\",\"legendgroup\":\"non-residential-onsite-fuel-usage\",\"marker\":{\"color\":\"#EF553B\",\"pattern\":{\"shape\":\"\"}},\"name\":\"non-residential-onsite-fuel-usage\",\"offsetgroup\":\"non-residential-onsite-fuel-usage\",\"orientation\":\"v\",\"showlegend\":true,\"textposition\":\"auto\",\"x\":[\"buildings\"],\"xaxis\":\"x\",\"y\":[1638285542.2755258],\"yaxis\":\"y\",\"type\":\"bar\"},{\"alignmentgroup\":\"True\",\"hovertemplate\":\"subsector=oil-and-gas-transport\\u003cbr\\u003esector=%{x}\\u003cbr\\u003eemissions_quantity=%{y}\\u003cextra\\u003e\\u003c\\u002fextra\\u003e\",\"legendgroup\":\"oil-and-gas-transport\",\"marker\":{\"color\":\"#00cc96\",\"pattern\":{\"shape\":\"\"}},\"name\":\"oil-and-gas-transport\",\"offsetgroup\":\"oil-and-gas-transport\",\"orientation\":\"v\",\"showlegend\":true,\"textposition\":\"auto\",\"x\":[\"fossil-fuel-operations\"],\"xaxis\":\"x\",\"y\":[1575755434.985186],\"yaxis\":\"y\",\"type\":\"bar\"},{\"alignmentgroup\":\"True\",\"hovertemplate\":\"subsector=cement\\u003cbr\\u003esector=%{x}\\u003cbr\\u003eemissions_quantity=%{y}\\u003cextra\\u003e\\u003c\\u002fextra\\u003e\",\"legendgroup\":\"cement\",\"marker\":{\"color\":\"#ab63fa\",\"pattern\":{\"shape\":\"\"}},\"name\":\"cement\",\"offsetgroup\":\"cement\",\"orientation\":\"v\",\"showlegend\":true,\"textposition\":\"auto\",\"x\":[\"manufacturing\"],\"xaxis\":\"x\",\"y\":[1489114997.8355992],\"yaxis\":\"y\",\"type\":\"bar\"},{\"alignmentgroup\":\"True\",\"hovertemplate\":\"subsector=oil-and-gas-refining\\u003cbr\\u003esector=%{x}\\u003cbr\\u003eemissions_quantity=%{y}\\u003cextra\\u003e\\u003c\\u002fextra\\u003e\",\"legendgroup\":\"oil-and-gas-refining\",\"marker\":{\"color\":\"#FFA15A\",\"pattern\":{\"shape\":\"\"}},\"name\":\"oil-and-gas-refining\",\"offsetgroup\":\"oil-and-gas-refining\",\"orientation\":\"v\",\"showlegend\":true,\"textposition\":\"auto\",\"x\":[\"fossil-fuel-operations\"],\"xaxis\":\"x\",\"y\":[976951265.2320448],\"yaxis\":\"y\",\"type\":\"bar\"},{\"alignmentgroup\":\"True\",\"hovertemplate\":\"subsector=forest-land-degradation\\u003cbr\\u003esector=%{x}\\u003cbr\\u003eemissions_quantity=%{y}\\u003cextra\\u003e\\u003c\\u002fextra\\u003e\",\"legendgroup\":\"forest-land-degradation\",\"marker\":{\"color\":\"#19d3f3\",\"pattern\":{\"shape\":\"\"}},\"name\":\"forest-land-degradation\",\"offsetgroup\":\"forest-land-degradation\",\"orientation\":\"v\",\"showlegend\":true,\"textposition\":\"auto\",\"x\":[\"forestry-and-land-use\"],\"xaxis\":\"x\",\"y\":[867602834.0197],\"yaxis\":\"y\",\"type\":\"bar\"},{\"alignmentgroup\":\"True\",\"hovertemplate\":\"subsector=international-aviation\\u003cbr\\u003esector=%{x}\\u003cbr\\u003eemissions_quantity=%{y}\\u003cextra\\u003e\\u003c\\u002fextra\\u003e\",\"legendgroup\":\"international-aviation\",\"marker\":{\"color\":\"#FF6692\",\"pattern\":{\"shape\":\"\"}},\"name\":\"international-aviation\",\"offsetgroup\":\"international-aviation\",\"orientation\":\"v\",\"showlegend\":true,\"textposition\":\"auto\",\"x\":[\"transportation\"],\"xaxis\":\"x\",\"y\":[564218893.9576849],\"yaxis\":\"y\",\"type\":\"bar\"},{\"alignmentgroup\":\"True\",\"hovertemplate\":\"subsector=chemicals\\u003cbr\\u003esector=%{x}\\u003cbr\\u003eemissions_quantity=%{y}\\u003cextra\\u003e\\u003c\\u002fextra\\u003e\",\"legendgroup\":\"chemicals\",\"marker\":{\"color\":\"#B6E880\",\"pattern\":{\"shape\":\"\"}},\"name\":\"chemicals\",\"offsetgroup\":\"chemicals\",\"orientation\":\"v\",\"showlegend\":true,\"textposition\":\"auto\",\"x\":[\"manufacturing\"],\"xaxis\":\"x\",\"y\":[563180202.2524874],\"yaxis\":\"y\",\"type\":\"bar\"},{\"alignmentgroup\":\"True\",\"hovertemplate\":\"subsector=international-shipping\\u003cbr\\u003esector=%{x}\\u003cbr\\u003eemissions_quantity=%{y}\\u003cextra\\u003e\\u003c\\u002fextra\\u003e\",\"legendgroup\":\"international-shipping\",\"marker\":{\"color\":\"#FF97FF\",\"pattern\":{\"shape\":\"\"}},\"name\":\"international-shipping\",\"offsetgroup\":\"international-shipping\",\"orientation\":\"v\",\"showlegend\":true,\"textposition\":\"auto\",\"x\":[\"transportation\"],\"xaxis\":\"x\",\"y\":[562347629.1194266],\"yaxis\":\"y\",\"type\":\"bar\"},{\"alignmentgroup\":\"True\",\"hovertemplate\":\"subsector=lime\\u003cbr\\u003esector=%{x}\\u003cbr\\u003eemissions_quantity=%{y}\\u003cextra\\u003e\\u003c\\u002fextra\\u003e\",\"legendgroup\":\"lime\",\"marker\":{\"color\":\"#FECB52\",\"pattern\":{\"shape\":\"\"}},\"name\":\"lime\",\"offsetgroup\":\"lime\",\"orientation\":\"v\",\"showlegend\":true,\"textposition\":\"auto\",\"x\":[\"manufacturing\"],\"xaxis\":\"x\",\"y\":[425073849.1979667],\"yaxis\":\"y\",\"type\":\"bar\"},{\"alignmentgroup\":\"True\",\"hovertemplate\":\"subsector=domestic-shipping\\u003cbr\\u003esector=%{x}\\u003cbr\\u003eemissions_quantity=%{y}\\u003cextra\\u003e\\u003c\\u002fextra\\u003e\",\"legendgroup\":\"domestic-shipping\",\"marker\":{\"color\":\"#636efa\",\"pattern\":{\"shape\":\"\"}},\"name\":\"domestic-shipping\",\"offsetgroup\":\"domestic-shipping\",\"orientation\":\"v\",\"showlegend\":true,\"textposition\":\"auto\",\"x\":[\"transportation\"],\"xaxis\":\"x\",\"y\":[384860035.8344427],\"yaxis\":\"y\",\"type\":\"bar\"},{\"alignmentgroup\":\"True\",\"hovertemplate\":\"subsector=domestic-aviation\\u003cbr\\u003esector=%{x}\\u003cbr\\u003eemissions_quantity=%{y}\\u003cextra\\u003e\\u003c\\u002fextra\\u003e\",\"legendgroup\":\"domestic-aviation\",\"marker\":{\"color\":\"#EF553B\",\"pattern\":{\"shape\":\"\"}},\"name\":\"domestic-aviation\",\"offsetgroup\":\"domestic-aviation\",\"orientation\":\"v\",\"showlegend\":true,\"textposition\":\"auto\",\"x\":[\"transportation\"],\"xaxis\":\"x\",\"y\":[328900597.87892866],\"yaxis\":\"y\",\"type\":\"bar\"},{\"alignmentgroup\":\"True\",\"hovertemplate\":\"subsector=aluminum\\u003cbr\\u003esector=%{x}\\u003cbr\\u003eemissions_quantity=%{y}\\u003cextra\\u003e\\u003c\\u002fextra\\u003e\",\"legendgroup\":\"aluminum\",\"marker\":{\"color\":\"#00cc96\",\"pattern\":{\"shape\":\"\"}},\"name\":\"aluminum\",\"offsetgroup\":\"aluminum\",\"orientation\":\"v\",\"showlegend\":true,\"textposition\":\"auto\",\"x\":[\"manufacturing\"],\"xaxis\":\"x\",\"y\":[289763566.2952176],\"yaxis\":\"y\",\"type\":\"bar\"},{\"alignmentgroup\":\"True\",\"hovertemplate\":\"subsector=wetland-fires\\u003cbr\\u003esector=%{x}\\u003cbr\\u003eemissions_quantity=%{y}\\u003cextra\\u003e\\u003c\\u002fextra\\u003e\",\"legendgroup\":\"wetland-fires\",\"marker\":{\"color\":\"#ab63fa\",\"pattern\":{\"shape\":\"\"}},\"name\":\"wetland-fires\",\"offsetgroup\":\"wetland-fires\",\"orientation\":\"v\",\"showlegend\":true,\"textposition\":\"auto\",\"x\":[\"forestry-and-land-use\"],\"xaxis\":\"x\",\"y\":[274981099.0014809],\"yaxis\":\"y\",\"type\":\"bar\"},{\"alignmentgroup\":\"True\",\"hovertemplate\":\"subsector=petrochemical-steam-cracking\\u003cbr\\u003esector=%{x}\\u003cbr\\u003eemissions_quantity=%{y}\\u003cextra\\u003e\\u003c\\u002fextra\\u003e\",\"legendgroup\":\"petrochemical-steam-cracking\",\"marker\":{\"color\":\"#FFA15A\",\"pattern\":{\"shape\":\"\"}},\"name\":\"petrochemical-steam-cracking\",\"offsetgroup\":\"petrochemical-steam-cracking\",\"orientation\":\"v\",\"showlegend\":true,\"textposition\":\"auto\",\"x\":[\"manufacturing\"],\"xaxis\":\"x\",\"y\":[274335614.4733209],\"yaxis\":\"y\",\"type\":\"bar\"},{\"alignmentgroup\":\"True\",\"hovertemplate\":\"subsector=coal-mining\\u003cbr\\u003esector=%{x}\\u003cbr\\u003eemissions_quantity=%{y}\\u003cextra\\u003e\\u003c\\u002fextra\\u003e\",\"legendgroup\":\"coal-mining\",\"marker\":{\"color\":\"#19d3f3\",\"pattern\":{\"shape\":\"\"}},\"name\":\"coal-mining\",\"offsetgroup\":\"coal-mining\",\"orientation\":\"v\",\"showlegend\":true,\"textposition\":\"auto\",\"x\":[\"fossil-fuel-operations\"],\"xaxis\":\"x\",\"y\":[136786459.5569402],\"yaxis\":\"y\",\"type\":\"bar\"},{\"alignmentgroup\":\"True\",\"hovertemplate\":\"subsector=food-beverage-tobacco\\u003cbr\\u003esector=%{x}\\u003cbr\\u003eemissions_quantity=%{y}\\u003cextra\\u003e\\u003c\\u002fextra\\u003e\",\"legendgroup\":\"food-beverage-tobacco\",\"marker\":{\"color\":\"#FF6692\",\"pattern\":{\"shape\":\"\"}},\"name\":\"food-beverage-tobacco\",\"offsetgroup\":\"food-beverage-tobacco\",\"orientation\":\"v\",\"showlegend\":true,\"textposition\":\"auto\",\"x\":[\"manufacturing\"],\"xaxis\":\"x\",\"y\":[102745853.16811045],\"yaxis\":\"y\",\"type\":\"bar\"},{\"alignmentgroup\":\"True\",\"hovertemplate\":\"subsector=copper-mining\\u003cbr\\u003esector=%{x}\\u003cbr\\u003eemissions_quantity=%{y}\\u003cextra\\u003e\\u003c\\u002fextra\\u003e\",\"legendgroup\":\"copper-mining\",\"marker\":{\"color\":\"#B6E880\",\"pattern\":{\"shape\":\"\"}},\"name\":\"copper-mining\",\"offsetgroup\":\"copper-mining\",\"orientation\":\"v\",\"showlegend\":true,\"textposition\":\"auto\",\"x\":[\"mineral-extraction\"],\"xaxis\":\"x\",\"y\":[79143689.27682889],\"yaxis\":\"y\",\"type\":\"bar\"},{\"alignmentgroup\":\"True\",\"hovertemplate\":\"subsector=other-chemicals\\u003cbr\\u003esector=%{x}\\u003cbr\\u003eemissions_quantity=%{y}\\u003cextra\\u003e\\u003c\\u002fextra\\u003e\",\"legendgroup\":\"other-chemicals\",\"marker\":{\"color\":\"#FF97FF\",\"pattern\":{\"shape\":\"\"}},\"name\":\"other-chemicals\",\"offsetgroup\":\"other-chemicals\",\"orientation\":\"v\",\"showlegend\":true,\"textposition\":\"auto\",\"x\":[\"manufacturing\"],\"xaxis\":\"x\",\"y\":[74014653.69212124],\"yaxis\":\"y\",\"type\":\"bar\"},{\"alignmentgroup\":\"True\",\"hovertemplate\":\"subsector=iron-mining\\u003cbr\\u003esector=%{x}\\u003cbr\\u003eemissions_quantity=%{y}\\u003cextra\\u003e\\u003c\\u002fextra\\u003e\",\"legendgroup\":\"iron-mining\",\"marker\":{\"color\":\"#FECB52\",\"pattern\":{\"shape\":\"\"}},\"name\":\"iron-mining\",\"offsetgroup\":\"iron-mining\",\"orientation\":\"v\",\"showlegend\":true,\"textposition\":\"auto\",\"x\":[\"mineral-extraction\"],\"xaxis\":\"x\",\"y\":[61037001.53134582],\"yaxis\":\"y\",\"type\":\"bar\"},{\"alignmentgroup\":\"True\",\"hovertemplate\":\"subsector=textiles-leather-apparel\\u003cbr\\u003esector=%{x}\\u003cbr\\u003eemissions_quantity=%{y}\\u003cextra\\u003e\\u003c\\u002fextra\\u003e\",\"legendgroup\":\"textiles-leather-apparel\",\"marker\":{\"color\":\"#636efa\",\"pattern\":{\"shape\":\"\"}},\"name\":\"textiles-leather-apparel\",\"offsetgroup\":\"textiles-leather-apparel\",\"orientation\":\"v\",\"showlegend\":true,\"textposition\":\"auto\",\"x\":[\"manufacturing\"],\"xaxis\":\"x\",\"y\":[45097333.24114284],\"yaxis\":\"y\",\"type\":\"bar\"},{\"alignmentgroup\":\"True\",\"hovertemplate\":\"subsector=pulp-and-paper\\u003cbr\\u003esector=%{x}\\u003cbr\\u003eemissions_quantity=%{y}\\u003cextra\\u003e\\u003c\\u002fextra\\u003e\",\"legendgroup\":\"pulp-and-paper\",\"marker\":{\"color\":\"#EF553B\",\"pattern\":{\"shape\":\"\"}},\"name\":\"pulp-and-paper\",\"offsetgroup\":\"pulp-and-paper\",\"orientation\":\"v\",\"showlegend\":true,\"textposition\":\"auto\",\"x\":[\"manufacturing\"],\"xaxis\":\"x\",\"y\":[43175289.15079162],\"yaxis\":\"y\",\"type\":\"bar\"},{\"alignmentgroup\":\"True\",\"hovertemplate\":\"subsector=other-metals\\u003cbr\\u003esector=%{x}\\u003cbr\\u003eemissions_quantity=%{y}\\u003cextra\\u003e\\u003c\\u002fextra\\u003e\",\"legendgroup\":\"other-metals\",\"marker\":{\"color\":\"#00cc96\",\"pattern\":{\"shape\":\"\"}},\"name\":\"other-metals\",\"offsetgroup\":\"other-metals\",\"orientation\":\"v\",\"showlegend\":true,\"textposition\":\"auto\",\"x\":[\"manufacturing\"],\"xaxis\":\"x\",\"y\":[37832929.833125465],\"yaxis\":\"y\",\"type\":\"bar\"},{\"alignmentgroup\":\"True\",\"hovertemplate\":\"subsector=glass\\u003cbr\\u003esector=%{x}\\u003cbr\\u003eemissions_quantity=%{y}\\u003cextra\\u003e\\u003c\\u002fextra\\u003e\",\"legendgroup\":\"glass\",\"marker\":{\"color\":\"#ab63fa\",\"pattern\":{\"shape\":\"\"}},\"name\":\"glass\",\"offsetgroup\":\"glass\",\"orientation\":\"v\",\"showlegend\":true,\"textposition\":\"auto\",\"x\":[\"manufacturing\"],\"xaxis\":\"x\",\"y\":[36726974.53854941],\"yaxis\":\"y\",\"type\":\"bar\"},{\"alignmentgroup\":\"True\",\"hovertemplate\":\"subsector=other-manufacturing\\u003cbr\\u003esector=%{x}\\u003cbr\\u003eemissions_quantity=%{y}\\u003cextra\\u003e\\u003c\\u002fextra\\u003e\",\"legendgroup\":\"other-manufacturing\",\"marker\":{\"color\":\"#FFA15A\",\"pattern\":{\"shape\":\"\"}},\"name\":\"other-manufacturing\",\"offsetgroup\":\"other-manufacturing\",\"orientation\":\"v\",\"showlegend\":true,\"textposition\":\"auto\",\"x\":[\"manufacturing\"],\"xaxis\":\"x\",\"y\":[17304732.343048483],\"yaxis\":\"y\",\"type\":\"bar\"},{\"alignmentgroup\":\"True\",\"hovertemplate\":\"subsector=bauxite-mining\\u003cbr\\u003esector=%{x}\\u003cbr\\u003eemissions_quantity=%{y}\\u003cextra\\u003e\\u003c\\u002fextra\\u003e\",\"legendgroup\":\"bauxite-mining\",\"marker\":{\"color\":\"#19d3f3\",\"pattern\":{\"shape\":\"\"}},\"name\":\"bauxite-mining\",\"offsetgroup\":\"bauxite-mining\",\"orientation\":\"v\",\"showlegend\":true,\"textposition\":\"auto\",\"x\":[\"mineral-extraction\"],\"xaxis\":\"x\",\"y\":[9115496.738281576],\"yaxis\":\"y\",\"type\":\"bar\"},{\"alignmentgroup\":\"True\",\"hovertemplate\":\"subsector=water-reservoirs\\u003cbr\\u003esector=%{x}\\u003cbr\\u003eemissions_quantity=%{y}\\u003cextra\\u003e\\u003c\\u002fextra\\u003e\",\"legendgroup\":\"water-reservoirs\",\"marker\":{\"color\":\"#FF6692\",\"pattern\":{\"shape\":\"\"}},\"name\":\"water-reservoirs\",\"offsetgroup\":\"water-reservoirs\",\"orientation\":\"v\",\"showlegend\":true,\"textposition\":\"auto\",\"x\":[\"forestry-and-land-use\"],\"xaxis\":\"x\",\"y\":[3102178.432689746],\"yaxis\":\"y\",\"type\":\"bar\"},{\"alignmentgroup\":\"True\",\"hovertemplate\":\"subsector=solid-waste-disposal\\u003cbr\\u003esector=%{x}\\u003cbr\\u003eemissions_quantity=%{y}\\u003cextra\\u003e\\u003c\\u002fextra\\u003e\",\"legendgroup\":\"solid-waste-disposal\",\"marker\":{\"color\":\"#B6E880\",\"pattern\":{\"shape\":\"\"}},\"name\":\"solid-waste-disposal\",\"offsetgroup\":\"solid-waste-disposal\",\"orientation\":\"v\",\"showlegend\":true,\"textposition\":\"auto\",\"x\":[\"waste\"],\"xaxis\":\"x\",\"y\":[625604.5620451627],\"yaxis\":\"y\",\"type\":\"bar\"},{\"alignmentgroup\":\"True\",\"hovertemplate\":\"subsector=synthetic-fertilizer-application\\u003cbr\\u003esector=%{x}\\u003cbr\\u003eemissions_quantity=%{y}\\u003cextra\\u003e\\u003c\\u002fextra\\u003e\",\"legendgroup\":\"synthetic-fertilizer-application\",\"marker\":{\"color\":\"#FF97FF\",\"pattern\":{\"shape\":\"\"}},\"name\":\"synthetic-fertilizer-application\",\"offsetgroup\":\"synthetic-fertilizer-application\",\"orientation\":\"v\",\"showlegend\":true,\"textposition\":\"auto\",\"x\":[\"agriculture\"],\"xaxis\":\"x\",\"y\":[0.0],\"yaxis\":\"y\",\"type\":\"bar\"},{\"alignmentgroup\":\"True\",\"hovertemplate\":\"subsector=industrial-wastewater-treatment-and-discharge\\u003cbr\\u003esector=%{x}\\u003cbr\\u003eemissions_quantity=%{y}\\u003cextra\\u003e\\u003c\\u002fextra\\u003e\",\"legendgroup\":\"industrial-wastewater-treatment-and-discharge\",\"marker\":{\"color\":\"#FECB52\",\"pattern\":{\"shape\":\"\"}},\"name\":\"industrial-wastewater-treatment-and-discharge\",\"offsetgroup\":\"industrial-wastewater-treatment-and-discharge\",\"orientation\":\"v\",\"showlegend\":true,\"textposition\":\"auto\",\"x\":[\"waste\"],\"xaxis\":\"x\",\"y\":[0.0],\"yaxis\":\"y\",\"type\":\"bar\"},{\"alignmentgroup\":\"True\",\"hovertemplate\":\"subsector=enteric-fermentation-cattle-pasture\\u003cbr\\u003esector=%{x}\\u003cbr\\u003eemissions_quantity=%{y}\\u003cextra\\u003e\\u003c\\u002fextra\\u003e\",\"legendgroup\":\"enteric-fermentation-cattle-pasture\",\"marker\":{\"color\":\"#636efa\",\"pattern\":{\"shape\":\"\"}},\"name\":\"enteric-fermentation-cattle-pasture\",\"offsetgroup\":\"enteric-fermentation-cattle-pasture\",\"orientation\":\"v\",\"showlegend\":true,\"textposition\":\"auto\",\"x\":[\"agriculture\"],\"xaxis\":\"x\",\"y\":[0.0],\"yaxis\":\"y\",\"type\":\"bar\"},{\"alignmentgroup\":\"True\",\"hovertemplate\":\"subsector=manure-left-on-pasture-cattle\\u003cbr\\u003esector=%{x}\\u003cbr\\u003eemissions_quantity=%{y}\\u003cextra\\u003e\\u003c\\u002fextra\\u003e\",\"legendgroup\":\"manure-left-on-pasture-cattle\",\"marker\":{\"color\":\"#EF553B\",\"pattern\":{\"shape\":\"\"}},\"name\":\"manure-left-on-pasture-cattle\",\"offsetgroup\":\"manure-left-on-pasture-cattle\",\"orientation\":\"v\",\"showlegend\":true,\"textposition\":\"auto\",\"x\":[\"agriculture\"],\"xaxis\":\"x\",\"y\":[0.0],\"yaxis\":\"y\",\"type\":\"bar\"},{\"alignmentgroup\":\"True\",\"hovertemplate\":\"subsector=domestic-wastewater-treatment-and-discharge\\u003cbr\\u003esector=%{x}\\u003cbr\\u003eemissions_quantity=%{y}\\u003cextra\\u003e\\u003c\\u002fextra\\u003e\",\"legendgroup\":\"domestic-wastewater-treatment-and-discharge\",\"marker\":{\"color\":\"#00cc96\",\"pattern\":{\"shape\":\"\"}},\"name\":\"domestic-wastewater-treatment-and-discharge\",\"offsetgroup\":\"domestic-wastewater-treatment-and-discharge\",\"orientation\":\"v\",\"showlegend\":true,\"textposition\":\"auto\",\"x\":[\"waste\"],\"xaxis\":\"x\",\"y\":[0.0],\"yaxis\":\"y\",\"type\":\"bar\"},{\"alignmentgroup\":\"True\",\"hovertemplate\":\"subsector=rice-cultivation\\u003cbr\\u003esector=%{x}\\u003cbr\\u003eemissions_quantity=%{y}\\u003cextra\\u003e\\u003c\\u002fextra\\u003e\",\"legendgroup\":\"rice-cultivation\",\"marker\":{\"color\":\"#ab63fa\",\"pattern\":{\"shape\":\"\"}},\"name\":\"rice-cultivation\",\"offsetgroup\":\"rice-cultivation\",\"orientation\":\"v\",\"showlegend\":true,\"textposition\":\"auto\",\"x\":[\"agriculture\"],\"xaxis\":\"x\",\"y\":[0.0],\"yaxis\":\"y\",\"type\":\"bar\"},{\"alignmentgroup\":\"True\",\"hovertemplate\":\"subsector=manure-management-cattle-operation\\u003cbr\\u003esector=%{x}\\u003cbr\\u003eemissions_quantity=%{y}\\u003cextra\\u003e\\u003c\\u002fextra\\u003e\",\"legendgroup\":\"manure-management-cattle-operation\",\"marker\":{\"color\":\"#FFA15A\",\"pattern\":{\"shape\":\"\"}},\"name\":\"manure-management-cattle-operation\",\"offsetgroup\":\"manure-management-cattle-operation\",\"orientation\":\"v\",\"showlegend\":true,\"textposition\":\"auto\",\"x\":[\"agriculture\"],\"xaxis\":\"x\",\"y\":[0.0],\"yaxis\":\"y\",\"type\":\"bar\"},{\"alignmentgroup\":\"True\",\"hovertemplate\":\"subsector=enteric-fermentation-cattle-operation\\u003cbr\\u003esector=%{x}\\u003cbr\\u003eemissions_quantity=%{y}\\u003cextra\\u003e\\u003c\\u002fextra\\u003e\",\"legendgroup\":\"enteric-fermentation-cattle-operation\",\"marker\":{\"color\":\"#19d3f3\",\"pattern\":{\"shape\":\"\"}},\"name\":\"enteric-fermentation-cattle-operation\",\"offsetgroup\":\"enteric-fermentation-cattle-operation\",\"orientation\":\"v\",\"showlegend\":true,\"textposition\":\"auto\",\"x\":[\"agriculture\"],\"xaxis\":\"x\",\"y\":[0.0],\"yaxis\":\"y\",\"type\":\"bar\"},{\"alignmentgroup\":\"True\",\"hovertemplate\":\"subsector=net-wetland\\u003cbr\\u003esector=%{x}\\u003cbr\\u003eemissions_quantity=%{y}\\u003cextra\\u003e\\u003c\\u002fextra\\u003e\",\"legendgroup\":\"net-wetland\",\"marker\":{\"color\":\"#FF6692\",\"pattern\":{\"shape\":\"\"}},\"name\":\"net-wetland\",\"offsetgroup\":\"net-wetland\",\"orientation\":\"v\",\"showlegend\":true,\"textposition\":\"auto\",\"x\":[\"forestry-and-land-use\"],\"xaxis\":\"x\",\"y\":[-319832951.8488822],\"yaxis\":\"y\",\"type\":\"bar\"},{\"alignmentgroup\":\"True\",\"hovertemplate\":\"subsector=removals\\u003cbr\\u003esector=%{x}\\u003cbr\\u003eemissions_quantity=%{y}\\u003cextra\\u003e\\u003c\\u002fextra\\u003e\",\"legendgroup\":\"removals\",\"marker\":{\"color\":\"#B6E880\",\"pattern\":{\"shape\":\"\"}},\"name\":\"removals\",\"offsetgroup\":\"removals\",\"orientation\":\"v\",\"showlegend\":true,\"textposition\":\"auto\",\"x\":[\"forestry-and-land-use\"],\"xaxis\":\"x\",\"y\":[-39611142317.45391],\"yaxis\":\"y\",\"type\":\"bar\"}],                        {\"template\":{\"data\":{\"histogram2dcontour\":[{\"type\":\"histogram2dcontour\",\"colorbar\":{\"outlinewidth\":0,\"ticks\":\"\"},\"colorscale\":[[0.0,\"#0d0887\"],[0.1111111111111111,\"#46039f\"],[0.2222222222222222,\"#7201a8\"],[0.3333333333333333,\"#9c179e\"],[0.4444444444444444,\"#bd3786\"],[0.5555555555555556,\"#d8576b\"],[0.6666666666666666,\"#ed7953\"],[0.7777777777777778,\"#fb9f3a\"],[0.8888888888888888,\"#fdca26\"],[1.0,\"#f0f921\"]]}],\"choropleth\":[{\"type\":\"choropleth\",\"colorbar\":{\"outlinewidth\":0,\"ticks\":\"\"}}],\"histogram2d\":[{\"type\":\"histogram2d\",\"colorbar\":{\"outlinewidth\":0,\"ticks\":\"\"},\"colorscale\":[[0.0,\"#0d0887\"],[0.1111111111111111,\"#46039f\"],[0.2222222222222222,\"#7201a8\"],[0.3333333333333333,\"#9c179e\"],[0.4444444444444444,\"#bd3786\"],[0.5555555555555556,\"#d8576b\"],[0.6666666666666666,\"#ed7953\"],[0.7777777777777778,\"#fb9f3a\"],[0.8888888888888888,\"#fdca26\"],[1.0,\"#f0f921\"]]}],\"heatmap\":[{\"type\":\"heatmap\",\"colorbar\":{\"outlinewidth\":0,\"ticks\":\"\"},\"colorscale\":[[0.0,\"#0d0887\"],[0.1111111111111111,\"#46039f\"],[0.2222222222222222,\"#7201a8\"],[0.3333333333333333,\"#9c179e\"],[0.4444444444444444,\"#bd3786\"],[0.5555555555555556,\"#d8576b\"],[0.6666666666666666,\"#ed7953\"],[0.7777777777777778,\"#fb9f3a\"],[0.8888888888888888,\"#fdca26\"],[1.0,\"#f0f921\"]]}],\"heatmapgl\":[{\"type\":\"heatmapgl\",\"colorbar\":{\"outlinewidth\":0,\"ticks\":\"\"},\"colorscale\":[[0.0,\"#0d0887\"],[0.1111111111111111,\"#46039f\"],[0.2222222222222222,\"#7201a8\"],[0.3333333333333333,\"#9c179e\"],[0.4444444444444444,\"#bd3786\"],[0.5555555555555556,\"#d8576b\"],[0.6666666666666666,\"#ed7953\"],[0.7777777777777778,\"#fb9f3a\"],[0.8888888888888888,\"#fdca26\"],[1.0,\"#f0f921\"]]}],\"contourcarpet\":[{\"type\":\"contourcarpet\",\"colorbar\":{\"outlinewidth\":0,\"ticks\":\"\"}}],\"contour\":[{\"type\":\"contour\",\"colorbar\":{\"outlinewidth\":0,\"ticks\":\"\"},\"colorscale\":[[0.0,\"#0d0887\"],[0.1111111111111111,\"#46039f\"],[0.2222222222222222,\"#7201a8\"],[0.3333333333333333,\"#9c179e\"],[0.4444444444444444,\"#bd3786\"],[0.5555555555555556,\"#d8576b\"],[0.6666666666666666,\"#ed7953\"],[0.7777777777777778,\"#fb9f3a\"],[0.8888888888888888,\"#fdca26\"],[1.0,\"#f0f921\"]]}],\"surface\":[{\"type\":\"surface\",\"colorbar\":{\"outlinewidth\":0,\"ticks\":\"\"},\"colorscale\":[[0.0,\"#0d0887\"],[0.1111111111111111,\"#46039f\"],[0.2222222222222222,\"#7201a8\"],[0.3333333333333333,\"#9c179e\"],[0.4444444444444444,\"#bd3786\"],[0.5555555555555556,\"#d8576b\"],[0.6666666666666666,\"#ed7953\"],[0.7777777777777778,\"#fb9f3a\"],[0.8888888888888888,\"#fdca26\"],[1.0,\"#f0f921\"]]}],\"mesh3d\":[{\"type\":\"mesh3d\",\"colorbar\":{\"outlinewidth\":0,\"ticks\":\"\"}}],\"scatter\":[{\"fillpattern\":{\"fillmode\":\"overlay\",\"size\":10,\"solidity\":0.2},\"type\":\"scatter\"}],\"parcoords\":[{\"type\":\"parcoords\",\"line\":{\"colorbar\":{\"outlinewidth\":0,\"ticks\":\"\"}}}],\"scatterpolargl\":[{\"type\":\"scatterpolargl\",\"marker\":{\"colorbar\":{\"outlinewidth\":0,\"ticks\":\"\"}}}],\"bar\":[{\"error_x\":{\"color\":\"#2a3f5f\"},\"error_y\":{\"color\":\"#2a3f5f\"},\"marker\":{\"line\":{\"color\":\"white\",\"width\":0.5},\"pattern\":{\"fillmode\":\"overlay\",\"size\":10,\"solidity\":0.2}},\"type\":\"bar\"}],\"scattergeo\":[{\"type\":\"scattergeo\",\"marker\":{\"colorbar\":{\"outlinewidth\":0,\"ticks\":\"\"}}}],\"scatterpolar\":[{\"type\":\"scatterpolar\",\"marker\":{\"colorbar\":{\"outlinewidth\":0,\"ticks\":\"\"}}}],\"histogram\":[{\"marker\":{\"pattern\":{\"fillmode\":\"overlay\",\"size\":10,\"solidity\":0.2}},\"type\":\"histogram\"}],\"scattergl\":[{\"type\":\"scattergl\",\"marker\":{\"colorbar\":{\"outlinewidth\":0,\"ticks\":\"\"}}}],\"scatter3d\":[{\"type\":\"scatter3d\",\"line\":{\"colorbar\":{\"outlinewidth\":0,\"ticks\":\"\"}},\"marker\":{\"colorbar\":{\"outlinewidth\":0,\"ticks\":\"\"}}}],\"scattermapbox\":[{\"type\":\"scattermapbox\",\"marker\":{\"colorbar\":{\"outlinewidth\":0,\"ticks\":\"\"}}}],\"scatterternary\":[{\"type\":\"scatterternary\",\"marker\":{\"colorbar\":{\"outlinewidth\":0,\"ticks\":\"\"}}}],\"scattercarpet\":[{\"type\":\"scattercarpet\",\"marker\":{\"colorbar\":{\"outlinewidth\":0,\"ticks\":\"\"}}}],\"carpet\":[{\"aaxis\":{\"endlinecolor\":\"#2a3f5f\",\"gridcolor\":\"#C8D4E3\",\"linecolor\":\"#C8D4E3\",\"minorgridcolor\":\"#C8D4E3\",\"startlinecolor\":\"#2a3f5f\"},\"baxis\":{\"endlinecolor\":\"#2a3f5f\",\"gridcolor\":\"#C8D4E3\",\"linecolor\":\"#C8D4E3\",\"minorgridcolor\":\"#C8D4E3\",\"startlinecolor\":\"#2a3f5f\"},\"type\":\"carpet\"}],\"table\":[{\"cells\":{\"fill\":{\"color\":\"#EBF0F8\"},\"line\":{\"color\":\"white\"}},\"header\":{\"fill\":{\"color\":\"#C8D4E3\"},\"line\":{\"color\":\"white\"}},\"type\":\"table\"}],\"barpolar\":[{\"marker\":{\"line\":{\"color\":\"white\",\"width\":0.5},\"pattern\":{\"fillmode\":\"overlay\",\"size\":10,\"solidity\":0.2}},\"type\":\"barpolar\"}],\"pie\":[{\"automargin\":true,\"type\":\"pie\"}]},\"layout\":{\"autotypenumbers\":\"strict\",\"colorway\":[\"#636efa\",\"#EF553B\",\"#00cc96\",\"#ab63fa\",\"#FFA15A\",\"#19d3f3\",\"#FF6692\",\"#B6E880\",\"#FF97FF\",\"#FECB52\"],\"font\":{\"color\":\"#2a3f5f\"},\"hovermode\":\"closest\",\"hoverlabel\":{\"align\":\"left\"},\"paper_bgcolor\":\"white\",\"plot_bgcolor\":\"white\",\"polar\":{\"bgcolor\":\"white\",\"angularaxis\":{\"gridcolor\":\"#EBF0F8\",\"linecolor\":\"#EBF0F8\",\"ticks\":\"\"},\"radialaxis\":{\"gridcolor\":\"#EBF0F8\",\"linecolor\":\"#EBF0F8\",\"ticks\":\"\"}},\"ternary\":{\"bgcolor\":\"white\",\"aaxis\":{\"gridcolor\":\"#DFE8F3\",\"linecolor\":\"#A2B1C6\",\"ticks\":\"\"},\"baxis\":{\"gridcolor\":\"#DFE8F3\",\"linecolor\":\"#A2B1C6\",\"ticks\":\"\"},\"caxis\":{\"gridcolor\":\"#DFE8F3\",\"linecolor\":\"#A2B1C6\",\"ticks\":\"\"}},\"coloraxis\":{\"colorbar\":{\"outlinewidth\":0,\"ticks\":\"\"}},\"colorscale\":{\"sequential\":[[0.0,\"#0d0887\"],[0.1111111111111111,\"#46039f\"],[0.2222222222222222,\"#7201a8\"],[0.3333333333333333,\"#9c179e\"],[0.4444444444444444,\"#bd3786\"],[0.5555555555555556,\"#d8576b\"],[0.6666666666666666,\"#ed7953\"],[0.7777777777777778,\"#fb9f3a\"],[0.8888888888888888,\"#fdca26\"],[1.0,\"#f0f921\"]],\"sequentialminus\":[[0.0,\"#0d0887\"],[0.1111111111111111,\"#46039f\"],[0.2222222222222222,\"#7201a8\"],[0.3333333333333333,\"#9c179e\"],[0.4444444444444444,\"#bd3786\"],[0.5555555555555556,\"#d8576b\"],[0.6666666666666666,\"#ed7953\"],[0.7777777777777778,\"#fb9f3a\"],[0.8888888888888888,\"#fdca26\"],[1.0,\"#f0f921\"]],\"diverging\":[[0,\"#8e0152\"],[0.1,\"#c51b7d\"],[0.2,\"#de77ae\"],[0.3,\"#f1b6da\"],[0.4,\"#fde0ef\"],[0.5,\"#f7f7f7\"],[0.6,\"#e6f5d0\"],[0.7,\"#b8e186\"],[0.8,\"#7fbc41\"],[0.9,\"#4d9221\"],[1,\"#276419\"]]},\"xaxis\":{\"gridcolor\":\"#EBF0F8\",\"linecolor\":\"#EBF0F8\",\"ticks\":\"\",\"title\":{\"standoff\":15},\"zerolinecolor\":\"#EBF0F8\",\"automargin\":true,\"zerolinewidth\":2},\"yaxis\":{\"gridcolor\":\"#EBF0F8\",\"linecolor\":\"#EBF0F8\",\"ticks\":\"\",\"title\":{\"standoff\":15},\"zerolinecolor\":\"#EBF0F8\",\"automargin\":true,\"zerolinewidth\":2},\"scene\":{\"xaxis\":{\"backgroundcolor\":\"white\",\"gridcolor\":\"#DFE8F3\",\"linecolor\":\"#EBF0F8\",\"showbackground\":true,\"ticks\":\"\",\"zerolinecolor\":\"#EBF0F8\",\"gridwidth\":2},\"yaxis\":{\"backgroundcolor\":\"white\",\"gridcolor\":\"#DFE8F3\",\"linecolor\":\"#EBF0F8\",\"showbackground\":true,\"ticks\":\"\",\"zerolinecolor\":\"#EBF0F8\",\"gridwidth\":2},\"zaxis\":{\"backgroundcolor\":\"white\",\"gridcolor\":\"#DFE8F3\",\"linecolor\":\"#EBF0F8\",\"showbackground\":true,\"ticks\":\"\",\"zerolinecolor\":\"#EBF0F8\",\"gridwidth\":2}},\"shapedefaults\":{\"line\":{\"color\":\"#2a3f5f\"}},\"annotationdefaults\":{\"arrowcolor\":\"#2a3f5f\",\"arrowhead\":0,\"arrowwidth\":1},\"geo\":{\"bgcolor\":\"white\",\"landcolor\":\"white\",\"subunitcolor\":\"#C8D4E3\",\"showland\":true,\"showlakes\":true,\"lakecolor\":\"white\"},\"title\":{\"x\":0.05},\"mapbox\":{\"style\":\"light\"}}},\"xaxis\":{\"anchor\":\"y\",\"domain\":[0.0,1.0],\"title\":{\"text\":\"sector\"}},\"yaxis\":{\"anchor\":\"x\",\"domain\":[0.0,1.0],\"title\":{\"text\":\"emissions_quantity\"}},\"legend\":{\"title\":{\"text\":\"subsector\"},\"tracegroupgap\":0},\"margin\":{\"t\":60},\"barmode\":\"relative\"},                        {\"responsive\": true}                    ).then(function(){\n",
       "                            \n",
       "var gd = document.getElementById('1f3be84c-0748-4ce9-b2a7-03f022d29a0d');\n",
       "var x = new MutationObserver(function (mutations, observer) {{\n",
       "        var display = window.getComputedStyle(gd).display;\n",
       "        if (!display || display === 'none') {{\n",
       "            console.log([gd, 'removed!']);\n",
       "            Plotly.purge(gd);\n",
       "            observer.disconnect();\n",
       "        }}\n",
       "}});\n",
       "\n",
       "// Listen for the removal of the full notebook cells\n",
       "var notebookContainer = gd.closest('#notebook-container');\n",
       "if (notebookContainer) {{\n",
       "    x.observe(notebookContainer, {childList: true});\n",
       "}}\n",
       "\n",
       "// Listen for the clearing of the current output cell\n",
       "var outputEl = gd.closest('.output');\n",
       "if (outputEl) {{\n",
       "    x.observe(outputEl, {childList: true});\n",
       "}}\n",
       "\n",
       "                        })                };                });            </script>        </div>"
      ]
     },
     "metadata": {},
     "output_type": "display_data"
    }
   ],
   "source": [
    "px.bar(\n",
    "(sdf_gy\n",
    ".group_by(c_sector, c_subsector)\n",
    " .agg(c_emissions_quantity.sum())\n",
    "     .sort([c_emissions_quantity], descending=True)\n",
    " .collect()\n",
    ")\n",
    "    ,x=SECTOR, y=EMISSIONS_QUANTITY,color=SUBSECTOR,log_y=False)"
   ]
  },
  {
   "cell_type": "markdown",
   "id": "5d43da77-d964-4e3d-8a69-2950c3acc309",
   "metadata": {},
   "source": [
    "## Conclusion\n",
    "\n",
    "In this section, we saw:\n",
    "- how to access the Climate TRACE dataset in a modern data processing tool (Polars)\n",
    "- how to produce high-level statistics per country and per sector\n",
    "\n",
    "From the data, it should be clear that tackling emissions is a global issue, in which a few countries dominate.\n",
    "Some countries with large economic outputs (France, The Netherlands) can have minimal emissions, in part because they have low-emission means of producing electricity and they have outsourced their industries. Some others with comparably small economic outputs or populations (ex: Mozambique) have a disproportionate impact because of the changes occurring in their ecosystems.\n",
    "\n",
    "```{seealso} Exercise\n",
    "Take your country look at the sources of emissions and explore how the different gases provide different perspectives.\n",
    "```"
   ]
  },
  {
   "cell_type": "code",
   "execution_count": null,
   "id": "6aef1b12-4dc1-4152-85c3-9425adcc5789",
   "metadata": {},
   "outputs": [],
   "source": []
  }
 ],
 "metadata": {
  "kernelspec": {
   "display_name": "Python 3 (ipykernel)",
   "language": "python",
   "name": "python3"
  },
  "language_info": {
   "codemirror_mode": {
    "name": "ipython",
    "version": 3
   },
   "file_extension": ".py",
   "mimetype": "text/x-python",
   "name": "python",
   "nbconvert_exporter": "python",
   "pygments_lexer": "ipython3",
   "version": "3.10.12"
  }
 },
 "nbformat": 4,
 "nbformat_minor": 5
}
